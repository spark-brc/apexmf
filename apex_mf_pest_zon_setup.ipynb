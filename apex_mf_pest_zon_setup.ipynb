{
 "cells": [
  {
   "cell_type": "code",
   "execution_count": 1,
   "metadata": {
    "tags": []
   },
   "outputs": [
    {
     "output_type": "stream",
     "name": "stdout",
     "text": [
      "flopy is installed in C:\\Users\\seonggyu.park\\Miniconda3\\envs\\sm_pest\\lib\\site-packages\\flopy\n"
     ]
    }
   ],
   "source": [
    "import os\n",
    "import flopy\n",
    "import pyemu\n",
    "import pandas as pd\n",
    "import numpy as np\n",
    "from pyemu.pst.pst_utils import SFMT"
   ]
  },
  {
   "cell_type": "code",
   "execution_count": 2,
   "metadata": {},
   "outputs": [],
   "source": [
    "wd = \"D:/Projects/Watersheds/Animas/Analysis/APEX-MODFLOWs/calibrations/qam_test/APEX-MODFLOW\"\n",
    "modwd = \"D:/Projects/Watersheds/Animas/Analysis/APEX-MODFLOWs/calibrations/qam_test/APEX-MODFLOW/MODFLOW\"\n",
    "os.chdir(wd)\n",
    "mname = \"modflow.mfn\"\n"
   ]
  },
  {
   "cell_type": "markdown",
   "metadata": {},
   "source": [
    "### Model Setup"
   ]
  },
  {
   "cell_type": "markdown",
   "metadata": {},
   "source": [
    "- Simulation Period \n",
    "    * Jan. 01, 1980 ~ Dec. 31, 1999 with 12 years warm-up period for 20 years\n",
    "- Measurement Duration\n",
    "    * Varies\n",
    "    * Streamflow - Jan. 01, 1992 ~ Dec. 31, 2019\n",
    "    * Watertable - \n",
    "    <br/><br/>\n",
    "- Calibration / Validation\n",
    "    * 1/1/1992 - 12/31/1999 for Calibration (8 years)\n",
    "    * 2000 - 2019 for validation (20 years)\n",
    "    <br/><br/>\n",
    "- Streamflow: Little baseflow, High peak, Peak early -> , peak low, shift to little right\n",
    "    - SWAT parameters:\n",
    "        * Little Baseflow & High Peak\n",
    "            - CN2 - Decrease\n",
    "            - ESCO - Increase\n",
    "            - SOL_AWC - Increase\n",
    "        * Peak early\n",
    "            * HRU_SLP - Decrease\n",
    "            * OV_N - Increase\n",
    "            * SLSUBBSN - Increase (The value of overland flow length)\n",
    "    - MODFLOW parameters:\n",
    "        * Little Baseflow & High Peak\n",
    "            - Riverbed cond - Decrease\n",
    "            - Riverbed bottom elevation - Decrease\n",
    "        * K - ? \n",
    "        * Sy - ?\n",
    "        \n",
    "- Watertable -> high watertable, slow recession, \n",
    "    - SWAT parameters:\n",
    "        * RCHRG_DP - (turned off) decrease\n",
    "        * CN2 - ?\n",
    "        * ESCO - ? (increase)\n",
    "        * SOL_AWC - decrease\n",
    "    - MODFLOW parameters:\n",
    "        * K - increase \n",
    "        * Sy - ?\n",
    "        * EVT depth - increase\n",
    "        * River Bottom - ?\n",
    "        * River conductance - decrease"
   ]
  },
  {
   "cell_type": "code",
   "execution_count": 3,
   "metadata": {},
   "outputs": [],
   "source": [
    "from apexmf_pst_pkgs import apexmf_pst_utils"
   ]
  },
  {
   "cell_type": "markdown",
   "metadata": {
    "toc-hr-collapsed": false
   },
   "source": [
    "### 1. Create PEST input files (template / instruction)"
   ]
  },
  {
   "cell_type": "markdown",
   "metadata": {},
   "source": [
    "#### 1.1. Create template files\n",
    "We are going to use the *.pval and mf_river.par files for MODFLOW parameters and model.in file for SWAT parameters."
   ]
  },
  {
   "cell_type": "code",
   "execution_count": 4,
   "metadata": {},
   "outputs": [],
   "source": [
    "# pval file\n",
    "pval_file = os.path.join(modwd, 'mf_1000.pval')\n",
    "# parmfile\n",
    "parm_file = 'PARM1501.DAT'"
   ]
  },
  {
   "cell_type": "code",
   "execution_count": 5,
   "metadata": {
    "tags": []
   },
   "outputs": [
    {
     "output_type": "stream",
     "name": "stdout",
     "text": [
      "       parnme    parval1                       tpl\nparnme                                            \nhk01     hk01   0.018476   ~   hk01              ~\nhk02     hk02  20.390900   ~   hk02              ~\nhk03     hk03   0.001537   ~   hk03              ~\nhk04     hk04   0.010009   ~   hk04              ~\nhk05     hk05   0.808490   ~   hk05              ~\nsy01     sy01   0.420007   ~   sy01              ~\nsy02     sy02   0.017711   ~   sy02              ~\nsy03     sy03   0.500000   ~   sy03              ~\nsy04     sy04   0.500000   ~   sy04              ~\nsy05     sy05   0.240478   ~   sy05              ~\n"
     ]
    }
   ],
   "source": [
    "gw_par = pyemu.utils.gw_utils.modflow_pval_to_template_file(pval_file, tpl_file=None)\n",
    "print(gw_par)"
   ]
  },
  {
   "cell_type": "code",
   "execution_count": 5,
   "metadata": {
    "tags": []
   },
   "outputs": [
    {
     "output_type": "execute_result",
     "data": {
      "text/plain": [
       "          0       1       2       3       4       5       6       7       8  \\\n",
       "0    .50000  2.5000  1.0E-5  1.0000  ~p5  ~  .20000  .00320  1.0E-5  1.0000   \n",
       "1    .10000  ~p12 ~  .20000  2.0000  ~p15 ~  ~p16 ~  ~p17 ~  1.500   0.003    \n",
       "2    10.00   0.90    ~p23 ~  0.1000  ~p25 ~  0.000   0.300   5.000   .01      \n",
       "3    0.30    1.00    2.5000  0.      0.9900  0.      0.200   1.000   .01      \n",
       "4    0.50    0.40    0.1500  2.0000  3.0000  0.500   1.000   0.000   ~p49 ~   \n",
       "5    ~p51 ~  10.00   0.9000  0.6000  0.2000  0.900   1.000   0.600   0.100    \n",
       "6    ~p61 ~  0.25    1.1000  1.0000  0.0010  3.000   10.000  0.500   0.500    \n",
       "7    1.15    .05     0.5000  0.2000  0.8000  .05     0.000   10.000  1.000    \n",
       "8    0.00    3.      0.5100  0.0001  0.0001  0.010   0.010   0.001   0.100    \n",
       "9    ~p91 ~  ~p92 ~  1.      1.      7       1.      .9      1.      1.       \n",
       "10  .000012  .0667   .2      .3      .0667   .2      .0075   2.      1.       \n",
       "\n",
       "          9  \n",
       "0    7.0000  \n",
       "1    ~p20 ~  \n",
       "2    1.100   \n",
       "3    ~p40 ~  \n",
       "4    ~p50 ~  \n",
       "5    7.000   \n",
       "6    1.      \n",
       "7    .5      \n",
       "8    ~p90 ~  \n",
       "9   .000548  \n",
       "10   1.      "
      ],
      "text/html": "<div>\n<style scoped>\n    .dataframe tbody tr th:only-of-type {\n        vertical-align: middle;\n    }\n\n    .dataframe tbody tr th {\n        vertical-align: top;\n    }\n\n    .dataframe thead th {\n        text-align: right;\n    }\n</style>\n<table border=\"1\" class=\"dataframe\">\n  <thead>\n    <tr style=\"text-align: right;\">\n      <th></th>\n      <th>0</th>\n      <th>1</th>\n      <th>2</th>\n      <th>3</th>\n      <th>4</th>\n      <th>5</th>\n      <th>6</th>\n      <th>7</th>\n      <th>8</th>\n      <th>9</th>\n    </tr>\n  </thead>\n  <tbody>\n    <tr>\n      <th>0</th>\n      <td>.50000</td>\n      <td>2.5000</td>\n      <td>1.0E-5</td>\n      <td>1.0000</td>\n      <td>~p5  ~</td>\n      <td>.20000</td>\n      <td>.00320</td>\n      <td>1.0E-5</td>\n      <td>1.0000</td>\n      <td>7.0000</td>\n    </tr>\n    <tr>\n      <th>1</th>\n      <td>.10000</td>\n      <td>~p12 ~</td>\n      <td>.20000</td>\n      <td>2.0000</td>\n      <td>~p15 ~</td>\n      <td>~p16 ~</td>\n      <td>~p17 ~</td>\n      <td>1.500</td>\n      <td>0.003</td>\n      <td>~p20 ~</td>\n    </tr>\n    <tr>\n      <th>2</th>\n      <td>10.00</td>\n      <td>0.90</td>\n      <td>~p23 ~</td>\n      <td>0.1000</td>\n      <td>~p25 ~</td>\n      <td>0.000</td>\n      <td>0.300</td>\n      <td>5.000</td>\n      <td>.01</td>\n      <td>1.100</td>\n    </tr>\n    <tr>\n      <th>3</th>\n      <td>0.30</td>\n      <td>1.00</td>\n      <td>2.5000</td>\n      <td>0.</td>\n      <td>0.9900</td>\n      <td>0.</td>\n      <td>0.200</td>\n      <td>1.000</td>\n      <td>.01</td>\n      <td>~p40 ~</td>\n    </tr>\n    <tr>\n      <th>4</th>\n      <td>0.50</td>\n      <td>0.40</td>\n      <td>0.1500</td>\n      <td>2.0000</td>\n      <td>3.0000</td>\n      <td>0.500</td>\n      <td>1.000</td>\n      <td>0.000</td>\n      <td>~p49 ~</td>\n      <td>~p50 ~</td>\n    </tr>\n    <tr>\n      <th>5</th>\n      <td>~p51 ~</td>\n      <td>10.00</td>\n      <td>0.9000</td>\n      <td>0.6000</td>\n      <td>0.2000</td>\n      <td>0.900</td>\n      <td>1.000</td>\n      <td>0.600</td>\n      <td>0.100</td>\n      <td>7.000</td>\n    </tr>\n    <tr>\n      <th>6</th>\n      <td>~p61 ~</td>\n      <td>0.25</td>\n      <td>1.1000</td>\n      <td>1.0000</td>\n      <td>0.0010</td>\n      <td>3.000</td>\n      <td>10.000</td>\n      <td>0.500</td>\n      <td>0.500</td>\n      <td>1.</td>\n    </tr>\n    <tr>\n      <th>7</th>\n      <td>1.15</td>\n      <td>.05</td>\n      <td>0.5000</td>\n      <td>0.2000</td>\n      <td>0.8000</td>\n      <td>.05</td>\n      <td>0.000</td>\n      <td>10.000</td>\n      <td>1.000</td>\n      <td>.5</td>\n    </tr>\n    <tr>\n      <th>8</th>\n      <td>0.00</td>\n      <td>3.</td>\n      <td>0.5100</td>\n      <td>0.0001</td>\n      <td>0.0001</td>\n      <td>0.010</td>\n      <td>0.010</td>\n      <td>0.001</td>\n      <td>0.100</td>\n      <td>~p90 ~</td>\n    </tr>\n    <tr>\n      <th>9</th>\n      <td>~p91 ~</td>\n      <td>~p92 ~</td>\n      <td>1.</td>\n      <td>1.</td>\n      <td>7</td>\n      <td>1.</td>\n      <td>.9</td>\n      <td>1.</td>\n      <td>1.</td>\n      <td>.000548</td>\n    </tr>\n    <tr>\n      <th>10</th>\n      <td>.000012</td>\n      <td>.0667</td>\n      <td>.2</td>\n      <td>.3</td>\n      <td>.0667</td>\n      <td>.2</td>\n      <td>.0075</td>\n      <td>2.</td>\n      <td>1.</td>\n      <td>1.</td>\n    </tr>\n  </tbody>\n</table>\n</div>"
     },
     "metadata": {},
     "execution_count": 5
    }
   ],
   "source": [
    "# Create parm template file\n",
    "\n",
    "sw_par = apexmf_pst_utils.parm_to_tpl_file()\n",
    "sw_par"
   ]
  },
  {
   "cell_type": "markdown",
   "metadata": {},
   "source": [
    "## 1.2. Build instruction files (streamflow / watertable / baseflow)\n",
    "### 1.2.1. Streamflow (output.rch)"
   ]
  },
  {
   "cell_type": "code",
   "execution_count": 4,
   "metadata": {},
   "outputs": [],
   "source": [
    "# file path\n",
    "rch_file = 'SITE75.RCH'\n",
    "# reach numbers that are used for calibration\n",
    "subs = [12, 57, 75]"
   ]
  },
  {
   "cell_type": "code",
   "execution_count": 5,
   "metadata": {
    "tags": []
   },
   "outputs": [
    {
     "output_type": "stream",
     "name": "stdout",
     "text": [
      "cha_012.txt file has been created...\n",
      "cha_057.txt file has been created...\n",
      "cha_075.txt file has been created...\n",
      "Finished ...\n"
     ]
    }
   ],
   "source": [
    "# extract month_streamflow\n",
    "apexmf_pst_utils.extract_month_str(rch_file, subs, '1/1/1980', '1/1/1992', '12/31/1999')"
   ]
  },
  {
   "cell_type": "code",
   "execution_count": 6,
   "metadata": {},
   "outputs": [
    {
     "output_type": "stream",
     "name": "stdout",
     "text": [
      "sed_012.txt file has been created...\n",
      "sed_057.txt file has been created...\n",
      "sed_075.txt file has been created...\n",
      "Finished ...\n"
     ]
    }
   ],
   "source": [
    "apexmf_pst_utils.extract_month_sed(rch_file, subs, '1/1/1980', '1/1/1992', '12/31/1999')"
   ]
  },
  {
   "cell_type": "markdown",
   "metadata": {},
   "source": [
    "### 1.2.3. Create instruction files for each str_sim file using the 'streamflow.obd' file"
   ]
  },
  {
   "cell_type": "code",
   "execution_count": 4,
   "metadata": {},
   "outputs": [],
   "source": [
    "apexmf_pst_utils.cvt_strobd_dtm()"
   ]
  },
  {
   "cell_type": "code",
   "execution_count": 7,
   "metadata": {
    "tags": []
   },
   "outputs": [
    {
     "output_type": "stream",
     "name": "stdout",
     "text": [
      "['str_012', 'str_057', 'str_075', 'sed_012', 'sed_057', 'sed_075']\n['cha_012.txt', 'cha_057.txt', 'cha_075.txt', 'sed_012.txt', 'sed_057.txt', 'sed_075.txt']\n"
     ]
    }
   ],
   "source": [
    "# because we have 3 streamgages let's loop for them\n",
    "# read streamobd and get column names\n",
    "stf_obd = pd.read_csv(\n",
    "                    'streamflow_month.obd',\n",
    "                    sep='\\t',\n",
    "                    index_col=0,\n",
    "                    parse_dates=True,\n",
    "                    na_values=[-999, '']\n",
    "                    )\n",
    "# stf_obd_c = stf_obd.resample('M').mean()\n",
    "# stf_obd_c.to_csv('streamflow_m.obd', sep='\\t', na_rep=-999, float_format='%.2f')\n",
    "obds = stf_obd.columns.tolist()\n",
    "obds.remove('str_072')\n",
    "obds.remove('sed_072')\n",
    "print(obds)\n",
    "sim_files = ['cha_{:03d}.txt'.format(x) for x in subs]\n",
    "sed_files = ['sed_{:03d}.txt'.format(x) for x in subs]\n",
    "sim_files = sim_files + sed_files\n",
    "print(sim_files)"
   ]
  },
  {
   "cell_type": "code",
   "execution_count": null,
   "metadata": {},
   "outputs": [],
   "source": []
  },
  {
   "cell_type": "code",
   "execution_count": 8,
   "metadata": {
    "tags": []
   },
   "outputs": [
    {
     "output_type": "stream",
     "name": "stdout",
     "text": [
      "cha_012.txt.ins file has been created...\ncha_057.txt.ins file has been created...\ncha_075.txt.ins file has been created...\nsed_012.txt.ins file has been created...\nsed_057.txt.ins file has been created...\nsed_075.txt.ins file has been created...\n"
     ]
    }
   ],
   "source": [
    "# create instruction files for each sim file\n",
    "for i in range(len(sim_files)):\n",
    "    apexmf_pst_utils.stf_obd_to_ins(sim_files[i], obds[i], '1/1/1992', '12/31/1999', time_step='month')"
   ]
  },
  {
   "cell_type": "code",
   "execution_count": null,
   "metadata": {},
   "outputs": [],
   "source": []
  },
  {
   "cell_type": "code",
   "execution_count": 4,
   "metadata": {},
   "outputs": [
    {
     "output_type": "stream",
     "name": "stdout",
     "text": [
      "wt_5895.txt file has been created...\nwt_6273.txt file has been created...\n"
     ]
    }
   ],
   "source": [
    "# We do have watertable data now\n",
    "grid_ids = [5895, 6273]\n",
    "apexmf_pst_utils.extract_watertable_sim(grid_ids, '1/1/1980', '12/31/1999')\n",
    "\n"
   ]
  },
  {
   "cell_type": "code",
   "execution_count": null,
   "metadata": {},
   "outputs": [],
   "source": []
  },
  {
   "cell_type": "code",
   "execution_count": 9,
   "metadata": {},
   "outputs": [
    {
     "output_type": "stream",
     "name": "stdout",
     "text": [
      "wt_5895.txt.ins file has been created...\n"
     ]
    },
    {
     "output_type": "execute_result",
     "data": {
      "text/plain": [
       "date\n",
       "1980-01-01    l1\n",
       "1980-01-02    l1\n",
       "1980-01-03    l1\n",
       "1980-01-04    l1\n",
       "1980-01-05    l1\n",
       "              ..\n",
       "1999-12-27    l1\n",
       "1999-12-28    l1\n",
       "1999-12-29    l1\n",
       "1999-12-30    l1\n",
       "1999-12-31    l1\n",
       "Name: gw_124_ins, Length: 7305, dtype: object"
      ]
     },
     "metadata": {},
     "execution_count": 9
    }
   ],
   "source": [
    "apexmf_pst_utils.mf_obd_to_ins('wt_5895.txt', 'gw_124', '1/1/1980', '12/31/1999')"
   ]
  },
  {
   "cell_type": "markdown",
   "metadata": {},
   "source": [
    "## Create a dummy pst file "
   ]
  },
  {
   "cell_type": "code",
   "execution_count": 9,
   "metadata": {
    "tags": []
   },
   "outputs": [
    {
     "output_type": "stream",
     "name": "stdout",
     "text": [
      "error using inschek for instruction file cha_012.txt.ins:run() returned non-zero: 50\n",
      "observations in this instruction file will havegeneric values.\n",
      "error using inschek for instruction file cha_057.txt.ins:run() returned non-zero: 50\n",
      "observations in this instruction file will havegeneric values.\n",
      "error using inschek for instruction file cha_075.txt.ins:run() returned non-zero: 50\n",
      "observations in this instruction file will havegeneric values.\n",
      "error using inschek for instruction file sed_012.txt.ins:run() returned non-zero: 50\n",
      "observations in this instruction file will havegeneric values.\n",
      "error using inschek for instruction file sed_057.txt.ins:run() returned non-zero: 50\n",
      "observations in this instruction file will havegeneric values.\n",
      "error using inschek for instruction file sed_075.txt.ins:run() returned non-zero: 50\n",
      "observations in this instruction file will havegeneric values.\n",
      "error using inschek for instruction file wt_5895.txt.ins:run() returned non-zero: 50\n",
      "observations in this instruction file will havegeneric values.\n",
      "error using inschek for instruction file wt_6273.txt.ins:run() returned non-zero: 50\n",
      "observations in this instruction file will havegeneric values.\n",
      "error using inschek for instruction file cha_012.txt.ins:run() returned non-zero: 50\n",
      "observations in this instruction file will havegeneric values.\n",
      "error using inschek for instruction file cha_057.txt.ins:run() returned non-zero: 50\n",
      "observations in this instruction file will havegeneric values.\n",
      "error using inschek for instruction file cha_075.txt.ins:run() returned non-zero: 50\n",
      "observations in this instruction file will havegeneric values.\n",
      "error using inschek for instruction file sed_012.txt.ins:run() returned non-zero: 50\n",
      "observations in this instruction file will havegeneric values.\n",
      "error using inschek for instruction file sed_057.txt.ins:run() returned non-zero: 50\n",
      "observations in this instruction file will havegeneric values.\n",
      "error using inschek for instruction file sed_075.txt.ins:run() returned non-zero: 50\n",
      "observations in this instruction file will havegeneric values.\n",
      "error using inschek for instruction file wt_5895.txt.ins:run() returned non-zero: 50\n",
      "observations in this instruction file will havegeneric values.\n",
      "error using inschek for instruction file wt_6273.txt.ins:run() returned non-zero: 50\n",
      "observations in this instruction file will havegeneric values.\n",
      "noptmax:30, npar_adj:26, nnz_obs:630\n"
     ]
    },
    {
     "output_type": "execute_result",
     "data": {
      "text/plain": [
       "(['mf_1000.pval.tpl', 'PARM1501.DAT.tpl'],\n",
       " ['mf_1000.pval', 'PARM1501.DAT'],\n",
       " ['cha_012.txt.ins',\n",
       "  'cha_057.txt.ins',\n",
       "  'cha_075.txt.ins',\n",
       "  'sed_012.txt.ins',\n",
       "  'sed_057.txt.ins',\n",
       "  'sed_075.txt.ins',\n",
       "  'wt_5895.txt.ins',\n",
       "  'wt_6273.txt.ins'],\n",
       " ['cha_012.txt',\n",
       "  'cha_057.txt',\n",
       "  'cha_075.txt',\n",
       "  'sed_012.txt',\n",
       "  'sed_057.txt',\n",
       "  'sed_075.txt',\n",
       "  'wt_5895.txt',\n",
       "  'wt_6273.txt'])"
      ]
     },
     "metadata": {},
     "execution_count": 9
    }
   ],
   "source": [
    "io_files = pyemu.helpers.parse_dir_for_io_files('.')\n",
    "pst = pyemu.Pst.from_io_files(*io_files)\n",
    "pyemu.helpers.pst_from_io_files(io_files[0], io_files[1], io_files[2], io_files[3], 'ani_dummy.pst')\n",
    "\n",
    "# print(os.chdir(\"..\"))\n",
    "io_files"
   ]
  },
  {
   "cell_type": "markdown",
   "metadata": {},
   "source": [
    "The ``parse_dir_for_io_files()`` helper is looking for files with the \".tpl\" and \".ins\" extension.  This assumes that the corresponding model input and model output files are the same name, minus the \".tpl\" and \".ins\" extension, respectively.  These file lists are then passed to another helper, which builds a basic control file for you (``Pst.from_io_files()``).  Let's look at this generic ``Pst`` instance:"
   ]
  },
  {
   "cell_type": "code",
   "execution_count": 10,
   "metadata": {
    "tags": []
   },
   "outputs": [
    {
     "output_type": "execute_result",
     "data": {
      "text/plain": [
       "     parnme partrans parchglim  parval1       parlbnd       parubnd  pargp  \\\n",
       "hk01   hk01      log    factor      1.0  1.100000e-10  1.100000e+10  pargp   \n",
       "hk02   hk02      log    factor      1.0  1.100000e-10  1.100000e+10  pargp   \n",
       "hk03   hk03      log    factor      1.0  1.100000e-10  1.100000e+10  pargp   \n",
       "hk04   hk04      log    factor      1.0  1.100000e-10  1.100000e+10  pargp   \n",
       "hk05   hk05      log    factor      1.0  1.100000e-10  1.100000e+10  pargp   \n",
       "p12     p12      log    factor      1.0  1.100000e-10  1.100000e+10  pargp   \n",
       "p15     p15      log    factor      1.0  1.100000e-10  1.100000e+10  pargp   \n",
       "p16     p16      log    factor      1.0  1.100000e-10  1.100000e+10  pargp   \n",
       "p17     p17      log    factor      1.0  1.100000e-10  1.100000e+10  pargp   \n",
       "p20     p20      log    factor      1.0  1.100000e-10  1.100000e+10  pargp   \n",
       "p23     p23      log    factor      1.0  1.100000e-10  1.100000e+10  pargp   \n",
       "p25     p25      log    factor      1.0  1.100000e-10  1.100000e+10  pargp   \n",
       "p40     p40      log    factor      1.0  1.100000e-10  1.100000e+10  pargp   \n",
       "p49     p49      log    factor      1.0  1.100000e-10  1.100000e+10  pargp   \n",
       "p5       p5      log    factor      1.0  1.100000e-10  1.100000e+10  pargp   \n",
       "p50     p50      log    factor      1.0  1.100000e-10  1.100000e+10  pargp   \n",
       "p51     p51      log    factor      1.0  1.100000e-10  1.100000e+10  pargp   \n",
       "p61     p61      log    factor      1.0  1.100000e-10  1.100000e+10  pargp   \n",
       "p90     p90      log    factor      1.0  1.100000e-10  1.100000e+10  pargp   \n",
       "p91     p91      log    factor      1.0  1.100000e-10  1.100000e+10  pargp   \n",
       "p92     p92      log    factor      1.0  1.100000e-10  1.100000e+10  pargp   \n",
       "sy01   sy01      log    factor      1.0  1.100000e-10  1.100000e+10  pargp   \n",
       "sy02   sy02      log    factor      1.0  1.100000e-10  1.100000e+10  pargp   \n",
       "sy03   sy03      log    factor      1.0  1.100000e-10  1.100000e+10  pargp   \n",
       "sy04   sy04      log    factor      1.0  1.100000e-10  1.100000e+10  pargp   \n",
       "sy05   sy05      log    factor      1.0  1.100000e-10  1.100000e+10  pargp   \n",
       "\n",
       "      scale  offset  dercom  \n",
       "hk01    1.0     0.0       1  \n",
       "hk02    1.0     0.0       1  \n",
       "hk03    1.0     0.0       1  \n",
       "hk04    1.0     0.0       1  \n",
       "hk05    1.0     0.0       1  \n",
       "p12     1.0     0.0       1  \n",
       "p15     1.0     0.0       1  \n",
       "p16     1.0     0.0       1  \n",
       "p17     1.0     0.0       1  \n",
       "p20     1.0     0.0       1  \n",
       "p23     1.0     0.0       1  \n",
       "p25     1.0     0.0       1  \n",
       "p40     1.0     0.0       1  \n",
       "p49     1.0     0.0       1  \n",
       "p5      1.0     0.0       1  \n",
       "p50     1.0     0.0       1  \n",
       "p51     1.0     0.0       1  \n",
       "p61     1.0     0.0       1  \n",
       "p90     1.0     0.0       1  \n",
       "p91     1.0     0.0       1  \n",
       "p92     1.0     0.0       1  \n",
       "sy01    1.0     0.0       1  \n",
       "sy02    1.0     0.0       1  \n",
       "sy03    1.0     0.0       1  \n",
       "sy04    1.0     0.0       1  \n",
       "sy05    1.0     0.0       1  "
      ],
      "text/html": "<div>\n<style scoped>\n    .dataframe tbody tr th:only-of-type {\n        vertical-align: middle;\n    }\n\n    .dataframe tbody tr th {\n        vertical-align: top;\n    }\n\n    .dataframe thead th {\n        text-align: right;\n    }\n</style>\n<table border=\"1\" class=\"dataframe\">\n  <thead>\n    <tr style=\"text-align: right;\">\n      <th></th>\n      <th>parnme</th>\n      <th>partrans</th>\n      <th>parchglim</th>\n      <th>parval1</th>\n      <th>parlbnd</th>\n      <th>parubnd</th>\n      <th>pargp</th>\n      <th>scale</th>\n      <th>offset</th>\n      <th>dercom</th>\n    </tr>\n  </thead>\n  <tbody>\n    <tr>\n      <th>hk01</th>\n      <td>hk01</td>\n      <td>log</td>\n      <td>factor</td>\n      <td>1.0</td>\n      <td>1.100000e-10</td>\n      <td>1.100000e+10</td>\n      <td>pargp</td>\n      <td>1.0</td>\n      <td>0.0</td>\n      <td>1</td>\n    </tr>\n    <tr>\n      <th>hk02</th>\n      <td>hk02</td>\n      <td>log</td>\n      <td>factor</td>\n      <td>1.0</td>\n      <td>1.100000e-10</td>\n      <td>1.100000e+10</td>\n      <td>pargp</td>\n      <td>1.0</td>\n      <td>0.0</td>\n      <td>1</td>\n    </tr>\n    <tr>\n      <th>hk03</th>\n      <td>hk03</td>\n      <td>log</td>\n      <td>factor</td>\n      <td>1.0</td>\n      <td>1.100000e-10</td>\n      <td>1.100000e+10</td>\n      <td>pargp</td>\n      <td>1.0</td>\n      <td>0.0</td>\n      <td>1</td>\n    </tr>\n    <tr>\n      <th>hk04</th>\n      <td>hk04</td>\n      <td>log</td>\n      <td>factor</td>\n      <td>1.0</td>\n      <td>1.100000e-10</td>\n      <td>1.100000e+10</td>\n      <td>pargp</td>\n      <td>1.0</td>\n      <td>0.0</td>\n      <td>1</td>\n    </tr>\n    <tr>\n      <th>hk05</th>\n      <td>hk05</td>\n      <td>log</td>\n      <td>factor</td>\n      <td>1.0</td>\n      <td>1.100000e-10</td>\n      <td>1.100000e+10</td>\n      <td>pargp</td>\n      <td>1.0</td>\n      <td>0.0</td>\n      <td>1</td>\n    </tr>\n    <tr>\n      <th>p12</th>\n      <td>p12</td>\n      <td>log</td>\n      <td>factor</td>\n      <td>1.0</td>\n      <td>1.100000e-10</td>\n      <td>1.100000e+10</td>\n      <td>pargp</td>\n      <td>1.0</td>\n      <td>0.0</td>\n      <td>1</td>\n    </tr>\n    <tr>\n      <th>p15</th>\n      <td>p15</td>\n      <td>log</td>\n      <td>factor</td>\n      <td>1.0</td>\n      <td>1.100000e-10</td>\n      <td>1.100000e+10</td>\n      <td>pargp</td>\n      <td>1.0</td>\n      <td>0.0</td>\n      <td>1</td>\n    </tr>\n    <tr>\n      <th>p16</th>\n      <td>p16</td>\n      <td>log</td>\n      <td>factor</td>\n      <td>1.0</td>\n      <td>1.100000e-10</td>\n      <td>1.100000e+10</td>\n      <td>pargp</td>\n      <td>1.0</td>\n      <td>0.0</td>\n      <td>1</td>\n    </tr>\n    <tr>\n      <th>p17</th>\n      <td>p17</td>\n      <td>log</td>\n      <td>factor</td>\n      <td>1.0</td>\n      <td>1.100000e-10</td>\n      <td>1.100000e+10</td>\n      <td>pargp</td>\n      <td>1.0</td>\n      <td>0.0</td>\n      <td>1</td>\n    </tr>\n    <tr>\n      <th>p20</th>\n      <td>p20</td>\n      <td>log</td>\n      <td>factor</td>\n      <td>1.0</td>\n      <td>1.100000e-10</td>\n      <td>1.100000e+10</td>\n      <td>pargp</td>\n      <td>1.0</td>\n      <td>0.0</td>\n      <td>1</td>\n    </tr>\n    <tr>\n      <th>p23</th>\n      <td>p23</td>\n      <td>log</td>\n      <td>factor</td>\n      <td>1.0</td>\n      <td>1.100000e-10</td>\n      <td>1.100000e+10</td>\n      <td>pargp</td>\n      <td>1.0</td>\n      <td>0.0</td>\n      <td>1</td>\n    </tr>\n    <tr>\n      <th>p25</th>\n      <td>p25</td>\n      <td>log</td>\n      <td>factor</td>\n      <td>1.0</td>\n      <td>1.100000e-10</td>\n      <td>1.100000e+10</td>\n      <td>pargp</td>\n      <td>1.0</td>\n      <td>0.0</td>\n      <td>1</td>\n    </tr>\n    <tr>\n      <th>p40</th>\n      <td>p40</td>\n      <td>log</td>\n      <td>factor</td>\n      <td>1.0</td>\n      <td>1.100000e-10</td>\n      <td>1.100000e+10</td>\n      <td>pargp</td>\n      <td>1.0</td>\n      <td>0.0</td>\n      <td>1</td>\n    </tr>\n    <tr>\n      <th>p49</th>\n      <td>p49</td>\n      <td>log</td>\n      <td>factor</td>\n      <td>1.0</td>\n      <td>1.100000e-10</td>\n      <td>1.100000e+10</td>\n      <td>pargp</td>\n      <td>1.0</td>\n      <td>0.0</td>\n      <td>1</td>\n    </tr>\n    <tr>\n      <th>p5</th>\n      <td>p5</td>\n      <td>log</td>\n      <td>factor</td>\n      <td>1.0</td>\n      <td>1.100000e-10</td>\n      <td>1.100000e+10</td>\n      <td>pargp</td>\n      <td>1.0</td>\n      <td>0.0</td>\n      <td>1</td>\n    </tr>\n    <tr>\n      <th>p50</th>\n      <td>p50</td>\n      <td>log</td>\n      <td>factor</td>\n      <td>1.0</td>\n      <td>1.100000e-10</td>\n      <td>1.100000e+10</td>\n      <td>pargp</td>\n      <td>1.0</td>\n      <td>0.0</td>\n      <td>1</td>\n    </tr>\n    <tr>\n      <th>p51</th>\n      <td>p51</td>\n      <td>log</td>\n      <td>factor</td>\n      <td>1.0</td>\n      <td>1.100000e-10</td>\n      <td>1.100000e+10</td>\n      <td>pargp</td>\n      <td>1.0</td>\n      <td>0.0</td>\n      <td>1</td>\n    </tr>\n    <tr>\n      <th>p61</th>\n      <td>p61</td>\n      <td>log</td>\n      <td>factor</td>\n      <td>1.0</td>\n      <td>1.100000e-10</td>\n      <td>1.100000e+10</td>\n      <td>pargp</td>\n      <td>1.0</td>\n      <td>0.0</td>\n      <td>1</td>\n    </tr>\n    <tr>\n      <th>p90</th>\n      <td>p90</td>\n      <td>log</td>\n      <td>factor</td>\n      <td>1.0</td>\n      <td>1.100000e-10</td>\n      <td>1.100000e+10</td>\n      <td>pargp</td>\n      <td>1.0</td>\n      <td>0.0</td>\n      <td>1</td>\n    </tr>\n    <tr>\n      <th>p91</th>\n      <td>p91</td>\n      <td>log</td>\n      <td>factor</td>\n      <td>1.0</td>\n      <td>1.100000e-10</td>\n      <td>1.100000e+10</td>\n      <td>pargp</td>\n      <td>1.0</td>\n      <td>0.0</td>\n      <td>1</td>\n    </tr>\n    <tr>\n      <th>p92</th>\n      <td>p92</td>\n      <td>log</td>\n      <td>factor</td>\n      <td>1.0</td>\n      <td>1.100000e-10</td>\n      <td>1.100000e+10</td>\n      <td>pargp</td>\n      <td>1.0</td>\n      <td>0.0</td>\n      <td>1</td>\n    </tr>\n    <tr>\n      <th>sy01</th>\n      <td>sy01</td>\n      <td>log</td>\n      <td>factor</td>\n      <td>1.0</td>\n      <td>1.100000e-10</td>\n      <td>1.100000e+10</td>\n      <td>pargp</td>\n      <td>1.0</td>\n      <td>0.0</td>\n      <td>1</td>\n    </tr>\n    <tr>\n      <th>sy02</th>\n      <td>sy02</td>\n      <td>log</td>\n      <td>factor</td>\n      <td>1.0</td>\n      <td>1.100000e-10</td>\n      <td>1.100000e+10</td>\n      <td>pargp</td>\n      <td>1.0</td>\n      <td>0.0</td>\n      <td>1</td>\n    </tr>\n    <tr>\n      <th>sy03</th>\n      <td>sy03</td>\n      <td>log</td>\n      <td>factor</td>\n      <td>1.0</td>\n      <td>1.100000e-10</td>\n      <td>1.100000e+10</td>\n      <td>pargp</td>\n      <td>1.0</td>\n      <td>0.0</td>\n      <td>1</td>\n    </tr>\n    <tr>\n      <th>sy04</th>\n      <td>sy04</td>\n      <td>log</td>\n      <td>factor</td>\n      <td>1.0</td>\n      <td>1.100000e-10</td>\n      <td>1.100000e+10</td>\n      <td>pargp</td>\n      <td>1.0</td>\n      <td>0.0</td>\n      <td>1</td>\n    </tr>\n    <tr>\n      <th>sy05</th>\n      <td>sy05</td>\n      <td>log</td>\n      <td>factor</td>\n      <td>1.0</td>\n      <td>1.100000e-10</td>\n      <td>1.100000e+10</td>\n      <td>pargp</td>\n      <td>1.0</td>\n      <td>0.0</td>\n      <td>1</td>\n    </tr>\n  </tbody>\n</table>\n</div>"
     },
     "metadata": {},
     "execution_count": 10
    }
   ],
   "source": [
    "par = pst.parameter_data\n",
    "par"
   ]
  },
  {
   "cell_type": "markdown",
   "metadata": {},
   "source": [
    "#### 2.1. Change parameter group name"
   ]
  },
  {
   "cell_type": "code",
   "execution_count": 11,
   "metadata": {
    "tags": []
   },
   "outputs": [
    {
     "output_type": "stream",
     "name": "stdout",
     "text": [
      "     parnme partrans parchglim  parval1       parlbnd       parubnd pargp  \\\nhk01   hk01      log    factor      1.0  1.100000e-10  1.100000e+10    hk   \nhk02   hk02      log    factor      1.0  1.100000e-10  1.100000e+10    hk   \nhk03   hk03      log    factor      1.0  1.100000e-10  1.100000e+10    hk   \nhk04   hk04      log    factor      1.0  1.100000e-10  1.100000e+10    hk   \nhk05   hk05      log    factor      1.0  1.100000e-10  1.100000e+10    hk   \np12     p12      log    factor      1.0  1.100000e-10  1.100000e+10  apex   \np15     p15      log    factor      1.0  1.100000e-10  1.100000e+10  apex   \np16     p16      log    factor      1.0  1.100000e-10  1.100000e+10  apex   \np17     p17      log    factor      1.0  1.100000e-10  1.100000e+10  apex   \np20     p20      log    factor      1.0  1.100000e-10  1.100000e+10  apex   \np23     p23      log    factor      1.0  1.100000e-10  1.100000e+10  apex   \np25     p25      log    factor      1.0  1.100000e-10  1.100000e+10  apex   \np40     p40      log    factor      1.0  1.100000e-10  1.100000e+10  apex   \np49     p49      log    factor      1.0  1.100000e-10  1.100000e+10  apex   \np5       p5      log    factor      1.0  1.100000e-10  1.100000e+10  apex   \np50     p50      log    factor      1.0  1.100000e-10  1.100000e+10  apex   \np51     p51      log    factor      1.0  1.100000e-10  1.100000e+10  apex   \np61     p61      log    factor      1.0  1.100000e-10  1.100000e+10  apex   \np90     p90      log    factor      1.0  1.100000e-10  1.100000e+10  apex   \np91     p91      log    factor      1.0  1.100000e-10  1.100000e+10  apex   \np92     p92      log    factor      1.0  1.100000e-10  1.100000e+10  apex   \nsy01   sy01      log    factor      1.0  1.100000e-10  1.100000e+10    sy   \nsy02   sy02      log    factor      1.0  1.100000e-10  1.100000e+10    sy   \nsy03   sy03      log    factor      1.0  1.100000e-10  1.100000e+10    sy   \nsy04   sy04      log    factor      1.0  1.100000e-10  1.100000e+10    sy   \nsy05   sy05      log    factor      1.0  1.100000e-10  1.100000e+10    sy   \n\n      scale  offset  dercom  \nhk01    1.0     0.0       1  \nhk02    1.0     0.0       1  \nhk03    1.0     0.0       1  \nhk04    1.0     0.0       1  \nhk05    1.0     0.0       1  \np12     1.0     0.0       1  \np15     1.0     0.0       1  \np16     1.0     0.0       1  \np17     1.0     0.0       1  \np20     1.0     0.0       1  \np23     1.0     0.0       1  \np25     1.0     0.0       1  \np40     1.0     0.0       1  \np49     1.0     0.0       1  \np5      1.0     0.0       1  \np50     1.0     0.0       1  \np51     1.0     0.0       1  \np61     1.0     0.0       1  \np90     1.0     0.0       1  \np91     1.0     0.0       1  \np92     1.0     0.0       1  \nsy01    1.0     0.0       1  \nsy02    1.0     0.0       1  \nsy03    1.0     0.0       1  \nsy04    1.0     0.0       1  \nsy05    1.0     0.0       1  \n"
     ]
    }
   ],
   "source": [
    "for i in range(len(par)):\n",
    "    if (par.iloc[i, 0][:2]) == 'sy':\n",
    "        par.iloc[i, 6] = 'sy'\n",
    "    # elif par.iloc[i, 0][:7] == 'rivbot_':\n",
    "    #     par.iloc[i, 6] = 'rivbot'\n",
    "    # elif par.iloc[i, 0][:6] == 'rivcd_':\n",
    "    #     par.iloc[i, 6] = 'rivcd'\n",
    "    elif par.iloc[i, 0][:2] == 'hk':\n",
    "        par.iloc[i, 6] = 'hk'\n",
    "    elif par.iloc[i, 0][:1] == 'p':\n",
    "        par.iloc[i, 6] = 'apex'\n",
    "    # else:\n",
    "    #     par.iloc[i, 6] = 'str'\n",
    "print(par)"
   ]
  },
  {
   "cell_type": "markdown",
   "metadata": {},
   "source": [
    "# 2.2. Set par ranges and initial values for parameters"
   ]
  },
  {
   "cell_type": "markdown",
   "metadata": {},
   "source": [
    "### 2.2.3. MODFLOW"
   ]
  },
  {
   "source": [
    "### Let's start values from 1st round of calibration result"
   ],
   "cell_type": "markdown",
   "metadata": {}
  },
  {
   "cell_type": "code",
   "execution_count": 12,
   "metadata": {
    "tags": []
   },
   "outputs": [
    {
     "output_type": "stream",
     "name": "stdout",
     "text": [
      "16\n"
     ]
    }
   ],
   "source": [
    "# for MODFLOW parameters\n",
    "count = 0\n",
    "for i in range(len(par)):\n",
    "    if (par.iloc[i, 6] == 'hk') and (par.iloc[i, 0] == 'hk01'):  # hk_sed\n",
    "        par.iloc[i, 3] = 0.001    \n",
    "        par.iloc[i, 4] = 0.001 / 100\n",
    "        par.iloc[i, 5] = 0.001 * 1000\n",
    "    elif (par.iloc[i, 6] == 'hk') and (par.iloc[i, 0] == 'hk02'):  # hk_as01\n",
    "        par.iloc[i, 3] = 26.1   \n",
    "        par.iloc[i, 4] = 26.1 / 100\n",
    "        par.iloc[i, 5] = 26.1 * 100\n",
    "    elif (par.iloc[i, 6] == 'hk') and (par.iloc[i, 0] == 'hk03'):  # hk_as02\n",
    "        par.iloc[i, 3] = 0.01   \n",
    "        par.iloc[i, 4] = 0.01 / 100\n",
    "        par.iloc[i, 5] = 0.01 * 1000\n",
    "    elif (par.iloc[i, 6] == 'hk') and (par.iloc[i, 0] == 'hk04'):  # hk_as03\n",
    "        par.iloc[i, 3] = 0.3   \n",
    "        par.iloc[i, 4] = 0.3 / 100\n",
    "        par.iloc[i, 5] = 0.3 * 1000  \n",
    "    elif (par.iloc[i, 6] == 'hk') and (par.iloc[i, 0] == 'hk05'):  # hk_org\n",
    "        par.iloc[i, 3] = 11   \n",
    "        par.iloc[i, 4] = 11 / 100\n",
    "        par.iloc[i, 5] = 11 * 100  \n",
    "    elif (par.iloc[i, 6] == 'sy') and (par.iloc[i, 0] == 'sy01'):  # sy_sed\n",
    "        par.iloc[i, 3] = 0.1      \n",
    "        par.iloc[i, 4] = 1.000000e-03\n",
    "        par.iloc[i, 5] = 5.000000e-01\n",
    "    elif (par.iloc[i, 6] == 'sy') and (par.iloc[i, 0] == 'sy02'):  # sy_as01\n",
    "        par.iloc[i, 3] = 0.1      \n",
    "        par.iloc[i, 4] = 1.000000e-03\n",
    "        par.iloc[i, 5] = 5.000000e-01\n",
    "    elif (par.iloc[i, 6] == 'sy') and (par.iloc[i, 0] == 'sy03'):  # sy_as02\n",
    "        par.iloc[i, 3] = 0.1      \n",
    "        par.iloc[i, 4] = 1.000000e-03\n",
    "        par.iloc[i, 5] = 5.000000e-01  \n",
    "    elif (par.iloc[i, 6] == 'sy') and (par.iloc[i, 0] == 'sy04'):  # sy_as03\n",
    "        par.iloc[i, 3] = 0.1      \n",
    "        par.iloc[i, 4] = 1.000000e-03\n",
    "        par.iloc[i, 5] = 5.000000e-01 \n",
    "    elif (par.iloc[i, 6] == 'sy') and (par.iloc[i, 0] == 'sy05'):  # sy_org\n",
    "        par.iloc[i, 3] = 0.1      \n",
    "        par.iloc[i, 4] = 1.000000e-03\n",
    "        par.iloc[i, 5] = 5.000000e-01\n",
    "    else:\n",
    "        count += 1\n",
    "print(count)"
   ]
  },
  {
   "cell_type": "code",
   "execution_count": 13,
   "metadata": {},
   "outputs": [
    {
     "output_type": "execute_result",
     "data": {
      "text/plain": [
       "     parnme partrans parchglim  parval1       parlbnd       parubnd pargp  \\\n",
       "hk01   hk01      log    factor    0.001  1.000000e-05  1.000000e+00    hk   \n",
       "hk02   hk02      log    factor   26.100  2.610000e-01  2.610000e+03    hk   \n",
       "hk03   hk03      log    factor    0.010  1.000000e-04  1.000000e+01    hk   \n",
       "hk04   hk04      log    factor    0.300  3.000000e-03  3.000000e+02    hk   \n",
       "hk05   hk05      log    factor   11.000  1.100000e-01  1.100000e+03    hk   \n",
       "p12     p12      log    factor    1.000  1.100000e-10  1.100000e+10  apex   \n",
       "p15     p15      log    factor    1.000  1.100000e-10  1.100000e+10  apex   \n",
       "p16     p16      log    factor    1.000  1.100000e-10  1.100000e+10  apex   \n",
       "p17     p17      log    factor    1.000  1.100000e-10  1.100000e+10  apex   \n",
       "p20     p20      log    factor    1.000  1.100000e-10  1.100000e+10  apex   \n",
       "p23     p23      log    factor    1.000  1.100000e-10  1.100000e+10  apex   \n",
       "p25     p25      log    factor    1.000  1.100000e-10  1.100000e+10  apex   \n",
       "p40     p40      log    factor    1.000  1.100000e-10  1.100000e+10  apex   \n",
       "p49     p49      log    factor    1.000  1.100000e-10  1.100000e+10  apex   \n",
       "p5       p5      log    factor    1.000  1.100000e-10  1.100000e+10  apex   \n",
       "p50     p50      log    factor    1.000  1.100000e-10  1.100000e+10  apex   \n",
       "p51     p51      log    factor    1.000  1.100000e-10  1.100000e+10  apex   \n",
       "p61     p61      log    factor    1.000  1.100000e-10  1.100000e+10  apex   \n",
       "p90     p90      log    factor    1.000  1.100000e-10  1.100000e+10  apex   \n",
       "p91     p91      log    factor    1.000  1.100000e-10  1.100000e+10  apex   \n",
       "p92     p92      log    factor    1.000  1.100000e-10  1.100000e+10  apex   \n",
       "sy01   sy01      log    factor    0.100  1.000000e-03  5.000000e-01    sy   \n",
       "sy02   sy02      log    factor    0.100  1.000000e-03  5.000000e-01    sy   \n",
       "sy03   sy03      log    factor    0.100  1.000000e-03  5.000000e-01    sy   \n",
       "sy04   sy04      log    factor    0.100  1.000000e-03  5.000000e-01    sy   \n",
       "sy05   sy05      log    factor    0.100  1.000000e-03  5.000000e-01    sy   \n",
       "\n",
       "      scale  offset  dercom  \n",
       "hk01    1.0     0.0       1  \n",
       "hk02    1.0     0.0       1  \n",
       "hk03    1.0     0.0       1  \n",
       "hk04    1.0     0.0       1  \n",
       "hk05    1.0     0.0       1  \n",
       "p12     1.0     0.0       1  \n",
       "p15     1.0     0.0       1  \n",
       "p16     1.0     0.0       1  \n",
       "p17     1.0     0.0       1  \n",
       "p20     1.0     0.0       1  \n",
       "p23     1.0     0.0       1  \n",
       "p25     1.0     0.0       1  \n",
       "p40     1.0     0.0       1  \n",
       "p49     1.0     0.0       1  \n",
       "p5      1.0     0.0       1  \n",
       "p50     1.0     0.0       1  \n",
       "p51     1.0     0.0       1  \n",
       "p61     1.0     0.0       1  \n",
       "p90     1.0     0.0       1  \n",
       "p91     1.0     0.0       1  \n",
       "p92     1.0     0.0       1  \n",
       "sy01    1.0     0.0       1  \n",
       "sy02    1.0     0.0       1  \n",
       "sy03    1.0     0.0       1  \n",
       "sy04    1.0     0.0       1  \n",
       "sy05    1.0     0.0       1  "
      ],
      "text/html": "<div>\n<style scoped>\n    .dataframe tbody tr th:only-of-type {\n        vertical-align: middle;\n    }\n\n    .dataframe tbody tr th {\n        vertical-align: top;\n    }\n\n    .dataframe thead th {\n        text-align: right;\n    }\n</style>\n<table border=\"1\" class=\"dataframe\">\n  <thead>\n    <tr style=\"text-align: right;\">\n      <th></th>\n      <th>parnme</th>\n      <th>partrans</th>\n      <th>parchglim</th>\n      <th>parval1</th>\n      <th>parlbnd</th>\n      <th>parubnd</th>\n      <th>pargp</th>\n      <th>scale</th>\n      <th>offset</th>\n      <th>dercom</th>\n    </tr>\n  </thead>\n  <tbody>\n    <tr>\n      <th>hk01</th>\n      <td>hk01</td>\n      <td>log</td>\n      <td>factor</td>\n      <td>0.001</td>\n      <td>1.000000e-05</td>\n      <td>1.000000e+00</td>\n      <td>hk</td>\n      <td>1.0</td>\n      <td>0.0</td>\n      <td>1</td>\n    </tr>\n    <tr>\n      <th>hk02</th>\n      <td>hk02</td>\n      <td>log</td>\n      <td>factor</td>\n      <td>26.100</td>\n      <td>2.610000e-01</td>\n      <td>2.610000e+03</td>\n      <td>hk</td>\n      <td>1.0</td>\n      <td>0.0</td>\n      <td>1</td>\n    </tr>\n    <tr>\n      <th>hk03</th>\n      <td>hk03</td>\n      <td>log</td>\n      <td>factor</td>\n      <td>0.010</td>\n      <td>1.000000e-04</td>\n      <td>1.000000e+01</td>\n      <td>hk</td>\n      <td>1.0</td>\n      <td>0.0</td>\n      <td>1</td>\n    </tr>\n    <tr>\n      <th>hk04</th>\n      <td>hk04</td>\n      <td>log</td>\n      <td>factor</td>\n      <td>0.300</td>\n      <td>3.000000e-03</td>\n      <td>3.000000e+02</td>\n      <td>hk</td>\n      <td>1.0</td>\n      <td>0.0</td>\n      <td>1</td>\n    </tr>\n    <tr>\n      <th>hk05</th>\n      <td>hk05</td>\n      <td>log</td>\n      <td>factor</td>\n      <td>11.000</td>\n      <td>1.100000e-01</td>\n      <td>1.100000e+03</td>\n      <td>hk</td>\n      <td>1.0</td>\n      <td>0.0</td>\n      <td>1</td>\n    </tr>\n    <tr>\n      <th>p12</th>\n      <td>p12</td>\n      <td>log</td>\n      <td>factor</td>\n      <td>1.000</td>\n      <td>1.100000e-10</td>\n      <td>1.100000e+10</td>\n      <td>apex</td>\n      <td>1.0</td>\n      <td>0.0</td>\n      <td>1</td>\n    </tr>\n    <tr>\n      <th>p15</th>\n      <td>p15</td>\n      <td>log</td>\n      <td>factor</td>\n      <td>1.000</td>\n      <td>1.100000e-10</td>\n      <td>1.100000e+10</td>\n      <td>apex</td>\n      <td>1.0</td>\n      <td>0.0</td>\n      <td>1</td>\n    </tr>\n    <tr>\n      <th>p16</th>\n      <td>p16</td>\n      <td>log</td>\n      <td>factor</td>\n      <td>1.000</td>\n      <td>1.100000e-10</td>\n      <td>1.100000e+10</td>\n      <td>apex</td>\n      <td>1.0</td>\n      <td>0.0</td>\n      <td>1</td>\n    </tr>\n    <tr>\n      <th>p17</th>\n      <td>p17</td>\n      <td>log</td>\n      <td>factor</td>\n      <td>1.000</td>\n      <td>1.100000e-10</td>\n      <td>1.100000e+10</td>\n      <td>apex</td>\n      <td>1.0</td>\n      <td>0.0</td>\n      <td>1</td>\n    </tr>\n    <tr>\n      <th>p20</th>\n      <td>p20</td>\n      <td>log</td>\n      <td>factor</td>\n      <td>1.000</td>\n      <td>1.100000e-10</td>\n      <td>1.100000e+10</td>\n      <td>apex</td>\n      <td>1.0</td>\n      <td>0.0</td>\n      <td>1</td>\n    </tr>\n    <tr>\n      <th>p23</th>\n      <td>p23</td>\n      <td>log</td>\n      <td>factor</td>\n      <td>1.000</td>\n      <td>1.100000e-10</td>\n      <td>1.100000e+10</td>\n      <td>apex</td>\n      <td>1.0</td>\n      <td>0.0</td>\n      <td>1</td>\n    </tr>\n    <tr>\n      <th>p25</th>\n      <td>p25</td>\n      <td>log</td>\n      <td>factor</td>\n      <td>1.000</td>\n      <td>1.100000e-10</td>\n      <td>1.100000e+10</td>\n      <td>apex</td>\n      <td>1.0</td>\n      <td>0.0</td>\n      <td>1</td>\n    </tr>\n    <tr>\n      <th>p40</th>\n      <td>p40</td>\n      <td>log</td>\n      <td>factor</td>\n      <td>1.000</td>\n      <td>1.100000e-10</td>\n      <td>1.100000e+10</td>\n      <td>apex</td>\n      <td>1.0</td>\n      <td>0.0</td>\n      <td>1</td>\n    </tr>\n    <tr>\n      <th>p49</th>\n      <td>p49</td>\n      <td>log</td>\n      <td>factor</td>\n      <td>1.000</td>\n      <td>1.100000e-10</td>\n      <td>1.100000e+10</td>\n      <td>apex</td>\n      <td>1.0</td>\n      <td>0.0</td>\n      <td>1</td>\n    </tr>\n    <tr>\n      <th>p5</th>\n      <td>p5</td>\n      <td>log</td>\n      <td>factor</td>\n      <td>1.000</td>\n      <td>1.100000e-10</td>\n      <td>1.100000e+10</td>\n      <td>apex</td>\n      <td>1.0</td>\n      <td>0.0</td>\n      <td>1</td>\n    </tr>\n    <tr>\n      <th>p50</th>\n      <td>p50</td>\n      <td>log</td>\n      <td>factor</td>\n      <td>1.000</td>\n      <td>1.100000e-10</td>\n      <td>1.100000e+10</td>\n      <td>apex</td>\n      <td>1.0</td>\n      <td>0.0</td>\n      <td>1</td>\n    </tr>\n    <tr>\n      <th>p51</th>\n      <td>p51</td>\n      <td>log</td>\n      <td>factor</td>\n      <td>1.000</td>\n      <td>1.100000e-10</td>\n      <td>1.100000e+10</td>\n      <td>apex</td>\n      <td>1.0</td>\n      <td>0.0</td>\n      <td>1</td>\n    </tr>\n    <tr>\n      <th>p61</th>\n      <td>p61</td>\n      <td>log</td>\n      <td>factor</td>\n      <td>1.000</td>\n      <td>1.100000e-10</td>\n      <td>1.100000e+10</td>\n      <td>apex</td>\n      <td>1.0</td>\n      <td>0.0</td>\n      <td>1</td>\n    </tr>\n    <tr>\n      <th>p90</th>\n      <td>p90</td>\n      <td>log</td>\n      <td>factor</td>\n      <td>1.000</td>\n      <td>1.100000e-10</td>\n      <td>1.100000e+10</td>\n      <td>apex</td>\n      <td>1.0</td>\n      <td>0.0</td>\n      <td>1</td>\n    </tr>\n    <tr>\n      <th>p91</th>\n      <td>p91</td>\n      <td>log</td>\n      <td>factor</td>\n      <td>1.000</td>\n      <td>1.100000e-10</td>\n      <td>1.100000e+10</td>\n      <td>apex</td>\n      <td>1.0</td>\n      <td>0.0</td>\n      <td>1</td>\n    </tr>\n    <tr>\n      <th>p92</th>\n      <td>p92</td>\n      <td>log</td>\n      <td>factor</td>\n      <td>1.000</td>\n      <td>1.100000e-10</td>\n      <td>1.100000e+10</td>\n      <td>apex</td>\n      <td>1.0</td>\n      <td>0.0</td>\n      <td>1</td>\n    </tr>\n    <tr>\n      <th>sy01</th>\n      <td>sy01</td>\n      <td>log</td>\n      <td>factor</td>\n      <td>0.100</td>\n      <td>1.000000e-03</td>\n      <td>5.000000e-01</td>\n      <td>sy</td>\n      <td>1.0</td>\n      <td>0.0</td>\n      <td>1</td>\n    </tr>\n    <tr>\n      <th>sy02</th>\n      <td>sy02</td>\n      <td>log</td>\n      <td>factor</td>\n      <td>0.100</td>\n      <td>1.000000e-03</td>\n      <td>5.000000e-01</td>\n      <td>sy</td>\n      <td>1.0</td>\n      <td>0.0</td>\n      <td>1</td>\n    </tr>\n    <tr>\n      <th>sy03</th>\n      <td>sy03</td>\n      <td>log</td>\n      <td>factor</td>\n      <td>0.100</td>\n      <td>1.000000e-03</td>\n      <td>5.000000e-01</td>\n      <td>sy</td>\n      <td>1.0</td>\n      <td>0.0</td>\n      <td>1</td>\n    </tr>\n    <tr>\n      <th>sy04</th>\n      <td>sy04</td>\n      <td>log</td>\n      <td>factor</td>\n      <td>0.100</td>\n      <td>1.000000e-03</td>\n      <td>5.000000e-01</td>\n      <td>sy</td>\n      <td>1.0</td>\n      <td>0.0</td>\n      <td>1</td>\n    </tr>\n    <tr>\n      <th>sy05</th>\n      <td>sy05</td>\n      <td>log</td>\n      <td>factor</td>\n      <td>0.100</td>\n      <td>1.000000e-03</td>\n      <td>5.000000e-01</td>\n      <td>sy</td>\n      <td>1.0</td>\n      <td>0.0</td>\n      <td>1</td>\n    </tr>\n  </tbody>\n</table>\n</div>"
     },
     "metadata": {},
     "execution_count": 13
    }
   ],
   "source": [
    "par"
   ]
  },
  {
   "cell_type": "markdown",
   "metadata": {},
   "source": [
    "# APEX"
   ]
  },
  {
   "cell_type": "code",
   "execution_count": 14,
   "metadata": {},
   "outputs": [],
   "source": [
    "pst.parameter_data = apexmf_pst_utils.export_pardb_pest(par)\n"
   ]
  },
  {
   "cell_type": "code",
   "execution_count": 15,
   "metadata": {},
   "outputs": [
    {
     "output_type": "execute_result",
     "data": {
      "text/plain": [
       "     parnme partrans parchglim   parval1  parlbnd    parubnd pargp  scale  \\\n",
       "hk01   hk01      log    factor   0.00100  0.00001     1.0000    hk    1.0   \n",
       "hk02   hk02      log    factor  26.10000  0.26100  2610.0000    hk    1.0   \n",
       "hk03   hk03      log    factor   0.01000  0.00010    10.0000    hk    1.0   \n",
       "hk04   hk04      log    factor   0.30000  0.00300   300.0000    hk    1.0   \n",
       "hk05   hk05      log    factor  11.00000  0.11000  1100.0000    hk    1.0   \n",
       "p12     p12      log    factor   2.50000  1.50000     2.5000  apex    1.0   \n",
       "p15     p15      log    factor   0.00001  0.00001     0.3000  apex    1.0   \n",
       "p16     p16      log    factor   1.00000  1.00000     1.5000  apex    1.0   \n",
       "p17     p17      log    factor   0.25000  0.00001     0.5000  apex    1.0   \n",
       "p20     p20      log    factor   0.20000  0.05000     0.4000  apex    1.0   \n",
       "p23     p23      log    factor   0.00320  0.00230     0.0032  apex    1.0   \n",
       "p25     p25      log    factor   0.00001  0.00001     2.0000  apex    1.0   \n",
       "p40     p40      log    factor   1.00000  0.00100     1.0000  apex    1.0   \n",
       "p49     p49      log    factor   7.00000  0.00001    15.0000  apex    1.0   \n",
       "p5       p5      log    factor   0.50000  0.00001     1.0000  apex    1.0   \n",
       "p50     p50      log    factor   0.10000  0.05000     0.3000  apex    1.0   \n",
       "p51     p51      log    factor   0.50000  0.10000     0.9000  apex    1.0   \n",
       "p61     p61      log    factor   0.20000  0.05000     0.9500  apex    1.0   \n",
       "p90     p90      log    factor   2.00000  1.00000   100.0000  apex    1.0   \n",
       "p91     p91      log    factor   0.10000  0.00100     1.0000  apex    1.0   \n",
       "p92     p92      log    factor   1.00000  0.10000     2.0000  apex    1.0   \n",
       "sy01   sy01      log    factor   0.10000  0.00100     0.5000    sy    1.0   \n",
       "sy02   sy02      log    factor   0.10000  0.00100     0.5000    sy    1.0   \n",
       "sy03   sy03      log    factor   0.10000  0.00100     0.5000    sy    1.0   \n",
       "sy04   sy04      log    factor   0.10000  0.00100     0.5000    sy    1.0   \n",
       "sy05   sy05      log    factor   0.10000  0.00100     0.5000    sy    1.0   \n",
       "\n",
       "      offset  dercom  \n",
       "hk01     0.0       1  \n",
       "hk02     0.0       1  \n",
       "hk03     0.0       1  \n",
       "hk04     0.0       1  \n",
       "hk05     0.0       1  \n",
       "p12      0.0       1  \n",
       "p15      0.0       1  \n",
       "p16      0.0       1  \n",
       "p17      0.0       1  \n",
       "p20      0.0       1  \n",
       "p23      0.0       1  \n",
       "p25      0.0       1  \n",
       "p40      0.0       1  \n",
       "p49      0.0       1  \n",
       "p5       0.0       1  \n",
       "p50      0.0       1  \n",
       "p51      0.0       1  \n",
       "p61      0.0       1  \n",
       "p90      0.0       1  \n",
       "p91      0.0       1  \n",
       "p92      0.0       1  \n",
       "sy01     0.0       1  \n",
       "sy02     0.0       1  \n",
       "sy03     0.0       1  \n",
       "sy04     0.0       1  \n",
       "sy05     0.0       1  "
      ],
      "text/html": "<div>\n<style scoped>\n    .dataframe tbody tr th:only-of-type {\n        vertical-align: middle;\n    }\n\n    .dataframe tbody tr th {\n        vertical-align: top;\n    }\n\n    .dataframe thead th {\n        text-align: right;\n    }\n</style>\n<table border=\"1\" class=\"dataframe\">\n  <thead>\n    <tr style=\"text-align: right;\">\n      <th></th>\n      <th>parnme</th>\n      <th>partrans</th>\n      <th>parchglim</th>\n      <th>parval1</th>\n      <th>parlbnd</th>\n      <th>parubnd</th>\n      <th>pargp</th>\n      <th>scale</th>\n      <th>offset</th>\n      <th>dercom</th>\n    </tr>\n  </thead>\n  <tbody>\n    <tr>\n      <th>hk01</th>\n      <td>hk01</td>\n      <td>log</td>\n      <td>factor</td>\n      <td>0.00100</td>\n      <td>0.00001</td>\n      <td>1.0000</td>\n      <td>hk</td>\n      <td>1.0</td>\n      <td>0.0</td>\n      <td>1</td>\n    </tr>\n    <tr>\n      <th>hk02</th>\n      <td>hk02</td>\n      <td>log</td>\n      <td>factor</td>\n      <td>26.10000</td>\n      <td>0.26100</td>\n      <td>2610.0000</td>\n      <td>hk</td>\n      <td>1.0</td>\n      <td>0.0</td>\n      <td>1</td>\n    </tr>\n    <tr>\n      <th>hk03</th>\n      <td>hk03</td>\n      <td>log</td>\n      <td>factor</td>\n      <td>0.01000</td>\n      <td>0.00010</td>\n      <td>10.0000</td>\n      <td>hk</td>\n      <td>1.0</td>\n      <td>0.0</td>\n      <td>1</td>\n    </tr>\n    <tr>\n      <th>hk04</th>\n      <td>hk04</td>\n      <td>log</td>\n      <td>factor</td>\n      <td>0.30000</td>\n      <td>0.00300</td>\n      <td>300.0000</td>\n      <td>hk</td>\n      <td>1.0</td>\n      <td>0.0</td>\n      <td>1</td>\n    </tr>\n    <tr>\n      <th>hk05</th>\n      <td>hk05</td>\n      <td>log</td>\n      <td>factor</td>\n      <td>11.00000</td>\n      <td>0.11000</td>\n      <td>1100.0000</td>\n      <td>hk</td>\n      <td>1.0</td>\n      <td>0.0</td>\n      <td>1</td>\n    </tr>\n    <tr>\n      <th>p12</th>\n      <td>p12</td>\n      <td>log</td>\n      <td>factor</td>\n      <td>2.50000</td>\n      <td>1.50000</td>\n      <td>2.5000</td>\n      <td>apex</td>\n      <td>1.0</td>\n      <td>0.0</td>\n      <td>1</td>\n    </tr>\n    <tr>\n      <th>p15</th>\n      <td>p15</td>\n      <td>log</td>\n      <td>factor</td>\n      <td>0.00001</td>\n      <td>0.00001</td>\n      <td>0.3000</td>\n      <td>apex</td>\n      <td>1.0</td>\n      <td>0.0</td>\n      <td>1</td>\n    </tr>\n    <tr>\n      <th>p16</th>\n      <td>p16</td>\n      <td>log</td>\n      <td>factor</td>\n      <td>1.00000</td>\n      <td>1.00000</td>\n      <td>1.5000</td>\n      <td>apex</td>\n      <td>1.0</td>\n      <td>0.0</td>\n      <td>1</td>\n    </tr>\n    <tr>\n      <th>p17</th>\n      <td>p17</td>\n      <td>log</td>\n      <td>factor</td>\n      <td>0.25000</td>\n      <td>0.00001</td>\n      <td>0.5000</td>\n      <td>apex</td>\n      <td>1.0</td>\n      <td>0.0</td>\n      <td>1</td>\n    </tr>\n    <tr>\n      <th>p20</th>\n      <td>p20</td>\n      <td>log</td>\n      <td>factor</td>\n      <td>0.20000</td>\n      <td>0.05000</td>\n      <td>0.4000</td>\n      <td>apex</td>\n      <td>1.0</td>\n      <td>0.0</td>\n      <td>1</td>\n    </tr>\n    <tr>\n      <th>p23</th>\n      <td>p23</td>\n      <td>log</td>\n      <td>factor</td>\n      <td>0.00320</td>\n      <td>0.00230</td>\n      <td>0.0032</td>\n      <td>apex</td>\n      <td>1.0</td>\n      <td>0.0</td>\n      <td>1</td>\n    </tr>\n    <tr>\n      <th>p25</th>\n      <td>p25</td>\n      <td>log</td>\n      <td>factor</td>\n      <td>0.00001</td>\n      <td>0.00001</td>\n      <td>2.0000</td>\n      <td>apex</td>\n      <td>1.0</td>\n      <td>0.0</td>\n      <td>1</td>\n    </tr>\n    <tr>\n      <th>p40</th>\n      <td>p40</td>\n      <td>log</td>\n      <td>factor</td>\n      <td>1.00000</td>\n      <td>0.00100</td>\n      <td>1.0000</td>\n      <td>apex</td>\n      <td>1.0</td>\n      <td>0.0</td>\n      <td>1</td>\n    </tr>\n    <tr>\n      <th>p49</th>\n      <td>p49</td>\n      <td>log</td>\n      <td>factor</td>\n      <td>7.00000</td>\n      <td>0.00001</td>\n      <td>15.0000</td>\n      <td>apex</td>\n      <td>1.0</td>\n      <td>0.0</td>\n      <td>1</td>\n    </tr>\n    <tr>\n      <th>p5</th>\n      <td>p5</td>\n      <td>log</td>\n      <td>factor</td>\n      <td>0.50000</td>\n      <td>0.00001</td>\n      <td>1.0000</td>\n      <td>apex</td>\n      <td>1.0</td>\n      <td>0.0</td>\n      <td>1</td>\n    </tr>\n    <tr>\n      <th>p50</th>\n      <td>p50</td>\n      <td>log</td>\n      <td>factor</td>\n      <td>0.10000</td>\n      <td>0.05000</td>\n      <td>0.3000</td>\n      <td>apex</td>\n      <td>1.0</td>\n      <td>0.0</td>\n      <td>1</td>\n    </tr>\n    <tr>\n      <th>p51</th>\n      <td>p51</td>\n      <td>log</td>\n      <td>factor</td>\n      <td>0.50000</td>\n      <td>0.10000</td>\n      <td>0.9000</td>\n      <td>apex</td>\n      <td>1.0</td>\n      <td>0.0</td>\n      <td>1</td>\n    </tr>\n    <tr>\n      <th>p61</th>\n      <td>p61</td>\n      <td>log</td>\n      <td>factor</td>\n      <td>0.20000</td>\n      <td>0.05000</td>\n      <td>0.9500</td>\n      <td>apex</td>\n      <td>1.0</td>\n      <td>0.0</td>\n      <td>1</td>\n    </tr>\n    <tr>\n      <th>p90</th>\n      <td>p90</td>\n      <td>log</td>\n      <td>factor</td>\n      <td>2.00000</td>\n      <td>1.00000</td>\n      <td>100.0000</td>\n      <td>apex</td>\n      <td>1.0</td>\n      <td>0.0</td>\n      <td>1</td>\n    </tr>\n    <tr>\n      <th>p91</th>\n      <td>p91</td>\n      <td>log</td>\n      <td>factor</td>\n      <td>0.10000</td>\n      <td>0.00100</td>\n      <td>1.0000</td>\n      <td>apex</td>\n      <td>1.0</td>\n      <td>0.0</td>\n      <td>1</td>\n    </tr>\n    <tr>\n      <th>p92</th>\n      <td>p92</td>\n      <td>log</td>\n      <td>factor</td>\n      <td>1.00000</td>\n      <td>0.10000</td>\n      <td>2.0000</td>\n      <td>apex</td>\n      <td>1.0</td>\n      <td>0.0</td>\n      <td>1</td>\n    </tr>\n    <tr>\n      <th>sy01</th>\n      <td>sy01</td>\n      <td>log</td>\n      <td>factor</td>\n      <td>0.10000</td>\n      <td>0.00100</td>\n      <td>0.5000</td>\n      <td>sy</td>\n      <td>1.0</td>\n      <td>0.0</td>\n      <td>1</td>\n    </tr>\n    <tr>\n      <th>sy02</th>\n      <td>sy02</td>\n      <td>log</td>\n      <td>factor</td>\n      <td>0.10000</td>\n      <td>0.00100</td>\n      <td>0.5000</td>\n      <td>sy</td>\n      <td>1.0</td>\n      <td>0.0</td>\n      <td>1</td>\n    </tr>\n    <tr>\n      <th>sy03</th>\n      <td>sy03</td>\n      <td>log</td>\n      <td>factor</td>\n      <td>0.10000</td>\n      <td>0.00100</td>\n      <td>0.5000</td>\n      <td>sy</td>\n      <td>1.0</td>\n      <td>0.0</td>\n      <td>1</td>\n    </tr>\n    <tr>\n      <th>sy04</th>\n      <td>sy04</td>\n      <td>log</td>\n      <td>factor</td>\n      <td>0.10000</td>\n      <td>0.00100</td>\n      <td>0.5000</td>\n      <td>sy</td>\n      <td>1.0</td>\n      <td>0.0</td>\n      <td>1</td>\n    </tr>\n    <tr>\n      <th>sy05</th>\n      <td>sy05</td>\n      <td>log</td>\n      <td>factor</td>\n      <td>0.10000</td>\n      <td>0.00100</td>\n      <td>0.5000</td>\n      <td>sy</td>\n      <td>1.0</td>\n      <td>0.0</td>\n      <td>1</td>\n    </tr>\n  </tbody>\n</table>\n</div>"
     },
     "metadata": {},
     "execution_count": 15
    }
   ],
   "source": [
    "par = pst.parameter_data\n",
    "par"
   ]
  },
  {
   "cell_type": "markdown",
   "metadata": {},
   "source": [
    "# - River Parameters"
   ]
  },
  {
   "cell_type": "code",
   "execution_count": 29,
   "metadata": {},
   "outputs": [
    {
     "output_type": "execute_result",
     "data": {
      "text/plain": "          parnme partrans parchglim   parval1  parlbnd  parubnd pargp  scale  \\\nawc_147  awc_147      log    factor  1.001000    0.100      1.9   str    1.0   \nawc_227  awc_227      log    factor  1.001000    0.100      1.9   str    1.0   \nawc_240  awc_240      log    factor  1.001000    0.100      1.9   str    1.0   \nawc_243  awc_243      log    factor  1.001000    0.100      1.9   str    1.0   \nawc_66    awc_66      log    factor  1.001000    0.100      1.9   str    1.0   \n...          ...      ...       ...       ...      ...      ...   ...    ...   \nsy04        sy04      log    factor  0.404763    0.001      0.5    sy    1.0   \nsy05        sy05      log    factor  0.028398    0.001      0.5    sy    1.0   \nsy06        sy06      log    factor  0.197691    0.001      0.5    sy    1.0   \nsy07        sy07      log    factor  0.446098    0.001      0.5    sy    1.0   \nsy08        sy08      log    factor  0.196993    0.001      0.5    sy    1.0   \n\n         offset  dercom  \nawc_147    -1.0       1  \nawc_227    -1.0       1  \nawc_240    -1.0       1  \nawc_243    -1.0       1  \nawc_66     -1.0       1  \n...         ...     ...  \nsy04        0.0       1  \nsy05        0.0       1  \nsy06        0.0       1  \nsy07        0.0       1  \nsy08        0.0       1  \n\n[84 rows x 10 columns]",
      "text/html": "<div>\n<style scoped>\n    .dataframe tbody tr th:only-of-type {\n        vertical-align: middle;\n    }\n\n    .dataframe tbody tr th {\n        vertical-align: top;\n    }\n\n    .dataframe thead th {\n        text-align: right;\n    }\n</style>\n<table border=\"1\" class=\"dataframe\">\n  <thead>\n    <tr style=\"text-align: right;\">\n      <th></th>\n      <th>parnme</th>\n      <th>partrans</th>\n      <th>parchglim</th>\n      <th>parval1</th>\n      <th>parlbnd</th>\n      <th>parubnd</th>\n      <th>pargp</th>\n      <th>scale</th>\n      <th>offset</th>\n      <th>dercom</th>\n    </tr>\n  </thead>\n  <tbody>\n    <tr>\n      <th>awc_147</th>\n      <td>awc_147</td>\n      <td>log</td>\n      <td>factor</td>\n      <td>1.001000</td>\n      <td>0.100</td>\n      <td>1.9</td>\n      <td>str</td>\n      <td>1.0</td>\n      <td>-1.0</td>\n      <td>1</td>\n    </tr>\n    <tr>\n      <th>awc_227</th>\n      <td>awc_227</td>\n      <td>log</td>\n      <td>factor</td>\n      <td>1.001000</td>\n      <td>0.100</td>\n      <td>1.9</td>\n      <td>str</td>\n      <td>1.0</td>\n      <td>-1.0</td>\n      <td>1</td>\n    </tr>\n    <tr>\n      <th>awc_240</th>\n      <td>awc_240</td>\n      <td>log</td>\n      <td>factor</td>\n      <td>1.001000</td>\n      <td>0.100</td>\n      <td>1.9</td>\n      <td>str</td>\n      <td>1.0</td>\n      <td>-1.0</td>\n      <td>1</td>\n    </tr>\n    <tr>\n      <th>awc_243</th>\n      <td>awc_243</td>\n      <td>log</td>\n      <td>factor</td>\n      <td>1.001000</td>\n      <td>0.100</td>\n      <td>1.9</td>\n      <td>str</td>\n      <td>1.0</td>\n      <td>-1.0</td>\n      <td>1</td>\n    </tr>\n    <tr>\n      <th>awc_66</th>\n      <td>awc_66</td>\n      <td>log</td>\n      <td>factor</td>\n      <td>1.001000</td>\n      <td>0.100</td>\n      <td>1.9</td>\n      <td>str</td>\n      <td>1.0</td>\n      <td>-1.0</td>\n      <td>1</td>\n    </tr>\n    <tr>\n      <th>...</th>\n      <td>...</td>\n      <td>...</td>\n      <td>...</td>\n      <td>...</td>\n      <td>...</td>\n      <td>...</td>\n      <td>...</td>\n      <td>...</td>\n      <td>...</td>\n      <td>...</td>\n    </tr>\n    <tr>\n      <th>sy04</th>\n      <td>sy04</td>\n      <td>log</td>\n      <td>factor</td>\n      <td>0.404763</td>\n      <td>0.001</td>\n      <td>0.5</td>\n      <td>sy</td>\n      <td>1.0</td>\n      <td>0.0</td>\n      <td>1</td>\n    </tr>\n    <tr>\n      <th>sy05</th>\n      <td>sy05</td>\n      <td>log</td>\n      <td>factor</td>\n      <td>0.028398</td>\n      <td>0.001</td>\n      <td>0.5</td>\n      <td>sy</td>\n      <td>1.0</td>\n      <td>0.0</td>\n      <td>1</td>\n    </tr>\n    <tr>\n      <th>sy06</th>\n      <td>sy06</td>\n      <td>log</td>\n      <td>factor</td>\n      <td>0.197691</td>\n      <td>0.001</td>\n      <td>0.5</td>\n      <td>sy</td>\n      <td>1.0</td>\n      <td>0.0</td>\n      <td>1</td>\n    </tr>\n    <tr>\n      <th>sy07</th>\n      <td>sy07</td>\n      <td>log</td>\n      <td>factor</td>\n      <td>0.446098</td>\n      <td>0.001</td>\n      <td>0.5</td>\n      <td>sy</td>\n      <td>1.0</td>\n      <td>0.0</td>\n      <td>1</td>\n    </tr>\n    <tr>\n      <th>sy08</th>\n      <td>sy08</td>\n      <td>log</td>\n      <td>factor</td>\n      <td>0.196993</td>\n      <td>0.001</td>\n      <td>0.5</td>\n      <td>sy</td>\n      <td>1.0</td>\n      <td>0.0</td>\n      <td>1</td>\n    </tr>\n  </tbody>\n</table>\n<p>84 rows × 10 columns</p>\n</div>"
     },
     "metadata": {},
     "execution_count": 29
    }
   ],
   "source": [
    "# Let's use unfchg for riv_bot\n",
    "# set +- 100 meters to default ranges and 0.001 for initials\n",
    "for i in range(len(par)):\n",
    "    if (par.iloc[i, 6]) == 'rivbot':  # rivbot \n",
    "        par.iloc[i, 3] = 30.1   # initial    \n",
    "        par.iloc[i, 4] = 0.1   # lower\n",
    "        par.iloc[i, 5] = 60   # upper\n",
    "        par.iloc[i, 8] = -30   # offset\n",
    "\n",
    "# Distiguish channels between high and low baseflow\n",
    "# for low baseflow, set -500 min, 100 max, and -300 for initals\n",
    "# lowbases = ['g240']\n",
    "# for i in lowbases:\n",
    "#     par.loc['rivbot_{}'.format(i), 'parval1'] = 600.1\n",
    "#     par.loc['rivbot_{}'.format(i), 'parlbnd'] = 100\n",
    "#     par.loc['rivbot_{}'.format(i), 'parubnd'] = 700\n",
    "#     par.loc['rivbot_{}'.format(i), 'offset'] = -600\n",
    "par"
   ]
  },
  {
   "cell_type": "code",
   "execution_count": 30,
   "metadata": {},
   "outputs": [
    {
     "output_type": "execute_result",
     "data": {
      "text/plain": "          parnme partrans parchglim   parval1  parlbnd  parubnd pargp  scale  \\\nawc_147  awc_147      log    factor  1.001000    0.100      1.9   str    1.0   \nawc_227  awc_227      log    factor  1.001000    0.100      1.9   str    1.0   \nawc_240  awc_240      log    factor  1.001000    0.100      1.9   str    1.0   \nawc_243  awc_243      log    factor  1.001000    0.100      1.9   str    1.0   \nawc_66    awc_66      log    factor  1.001000    0.100      1.9   str    1.0   \n...          ...      ...       ...       ...      ...      ...   ...    ...   \nsy04        sy04      log    factor  0.404763    0.001      0.5    sy    1.0   \nsy05        sy05      log    factor  0.028398    0.001      0.5    sy    1.0   \nsy06        sy06      log    factor  0.197691    0.001      0.5    sy    1.0   \nsy07        sy07      log    factor  0.446098    0.001      0.5    sy    1.0   \nsy08        sy08      log    factor  0.196993    0.001      0.5    sy    1.0   \n\n         offset  dercom  \nawc_147    -1.0       1  \nawc_227    -1.0       1  \nawc_240    -1.0       1  \nawc_243    -1.0       1  \nawc_66     -1.0       1  \n...         ...     ...  \nsy04        0.0       1  \nsy05        0.0       1  \nsy06        0.0       1  \nsy07        0.0       1  \nsy08        0.0       1  \n\n[84 rows x 10 columns]",
      "text/html": "<div>\n<style scoped>\n    .dataframe tbody tr th:only-of-type {\n        vertical-align: middle;\n    }\n\n    .dataframe tbody tr th {\n        vertical-align: top;\n    }\n\n    .dataframe thead th {\n        text-align: right;\n    }\n</style>\n<table border=\"1\" class=\"dataframe\">\n  <thead>\n    <tr style=\"text-align: right;\">\n      <th></th>\n      <th>parnme</th>\n      <th>partrans</th>\n      <th>parchglim</th>\n      <th>parval1</th>\n      <th>parlbnd</th>\n      <th>parubnd</th>\n      <th>pargp</th>\n      <th>scale</th>\n      <th>offset</th>\n      <th>dercom</th>\n    </tr>\n  </thead>\n  <tbody>\n    <tr>\n      <th>awc_147</th>\n      <td>awc_147</td>\n      <td>log</td>\n      <td>factor</td>\n      <td>1.001000</td>\n      <td>0.100</td>\n      <td>1.9</td>\n      <td>str</td>\n      <td>1.0</td>\n      <td>-1.0</td>\n      <td>1</td>\n    </tr>\n    <tr>\n      <th>awc_227</th>\n      <td>awc_227</td>\n      <td>log</td>\n      <td>factor</td>\n      <td>1.001000</td>\n      <td>0.100</td>\n      <td>1.9</td>\n      <td>str</td>\n      <td>1.0</td>\n      <td>-1.0</td>\n      <td>1</td>\n    </tr>\n    <tr>\n      <th>awc_240</th>\n      <td>awc_240</td>\n      <td>log</td>\n      <td>factor</td>\n      <td>1.001000</td>\n      <td>0.100</td>\n      <td>1.9</td>\n      <td>str</td>\n      <td>1.0</td>\n      <td>-1.0</td>\n      <td>1</td>\n    </tr>\n    <tr>\n      <th>awc_243</th>\n      <td>awc_243</td>\n      <td>log</td>\n      <td>factor</td>\n      <td>1.001000</td>\n      <td>0.100</td>\n      <td>1.9</td>\n      <td>str</td>\n      <td>1.0</td>\n      <td>-1.0</td>\n      <td>1</td>\n    </tr>\n    <tr>\n      <th>awc_66</th>\n      <td>awc_66</td>\n      <td>log</td>\n      <td>factor</td>\n      <td>1.001000</td>\n      <td>0.100</td>\n      <td>1.9</td>\n      <td>str</td>\n      <td>1.0</td>\n      <td>-1.0</td>\n      <td>1</td>\n    </tr>\n    <tr>\n      <th>...</th>\n      <td>...</td>\n      <td>...</td>\n      <td>...</td>\n      <td>...</td>\n      <td>...</td>\n      <td>...</td>\n      <td>...</td>\n      <td>...</td>\n      <td>...</td>\n      <td>...</td>\n    </tr>\n    <tr>\n      <th>sy04</th>\n      <td>sy04</td>\n      <td>log</td>\n      <td>factor</td>\n      <td>0.404763</td>\n      <td>0.001</td>\n      <td>0.5</td>\n      <td>sy</td>\n      <td>1.0</td>\n      <td>0.0</td>\n      <td>1</td>\n    </tr>\n    <tr>\n      <th>sy05</th>\n      <td>sy05</td>\n      <td>log</td>\n      <td>factor</td>\n      <td>0.028398</td>\n      <td>0.001</td>\n      <td>0.5</td>\n      <td>sy</td>\n      <td>1.0</td>\n      <td>0.0</td>\n      <td>1</td>\n    </tr>\n    <tr>\n      <th>sy06</th>\n      <td>sy06</td>\n      <td>log</td>\n      <td>factor</td>\n      <td>0.197691</td>\n      <td>0.001</td>\n      <td>0.5</td>\n      <td>sy</td>\n      <td>1.0</td>\n      <td>0.0</td>\n      <td>1</td>\n    </tr>\n    <tr>\n      <th>sy07</th>\n      <td>sy07</td>\n      <td>log</td>\n      <td>factor</td>\n      <td>0.446098</td>\n      <td>0.001</td>\n      <td>0.5</td>\n      <td>sy</td>\n      <td>1.0</td>\n      <td>0.0</td>\n      <td>1</td>\n    </tr>\n    <tr>\n      <th>sy08</th>\n      <td>sy08</td>\n      <td>log</td>\n      <td>factor</td>\n      <td>0.196993</td>\n      <td>0.001</td>\n      <td>0.5</td>\n      <td>sy</td>\n      <td>1.0</td>\n      <td>0.0</td>\n      <td>1</td>\n    </tr>\n  </tbody>\n</table>\n<p>84 rows × 10 columns</p>\n</div>"
     },
     "metadata": {},
     "execution_count": 30
    }
   ],
   "source": [
    "# Let's use pctchg for rivcd\n",
    "# set +- 50 % to default ranges and 0.001 for initials\n",
    "for i in range(len(par)):\n",
    "    if (par.iloc[i, 6]) == 'rivcd':  # rivbot \n",
    "        par.iloc[i, 3] = 50.01   # initial    \n",
    "        par.iloc[i, 4] = 0.1   # lower\n",
    "        par.iloc[i, 5] = 100   # upper\n",
    "        par.iloc[i, 8] = -50   # offset\n",
    "# decrease in peak and increase in baseflow can be accomplished by decreasing river conductance\n",
    "# for H peaks and L bases, set inital -20, max 10, min -50\n",
    "# HpLb = [124, 92, 147, 66, 138, 228, 79]\n",
    "# for i in lowbases:\n",
    "#     par.loc['rivcd_{}'.format(i), 'parval1'] = 50.001\n",
    "#     par.loc['rivcd_{}'.format(i), 'parlbnd'] = 0.001\n",
    "#     par.loc['rivcd_{}'.format(i), 'parubnd'] = 60\n",
    "#     par.loc['rivcd_{}'.format(i), 'offset'] = -50\n",
    "par"
   ]
  },
  {
   "cell_type": "markdown",
   "metadata": {},
   "source": [
    "## Observation"
   ]
  },
  {
   "cell_type": "code",
   "execution_count": 16,
   "metadata": {},
   "outputs": [
    {
     "output_type": "execute_result",
     "data": {
      "text/plain": [
       "                          obsnme        obsval  weight  obgnme\n",
       "gw_098_19950510  gw_098_19950510  1.000000e+10     1.0  obgnme\n",
       "gw_098_19950626  gw_098_19950626  1.000000e+10     1.0  obgnme\n",
       "gw_098_19950725  gw_098_19950725  1.000000e+10     1.0  obgnme\n",
       "gw_098_19951027  gw_098_19951027  1.000000e+10     1.0  obgnme\n",
       "gw_098_19960213  gw_098_19960213  1.000000e+10     1.0  obgnme\n",
       "...                          ...           ...     ...     ...\n",
       "str_075_199908    str_075_199908  1.000000e+10     1.0  obgnme\n",
       "str_075_199909    str_075_199909  1.000000e+10     1.0  obgnme\n",
       "str_075_199910    str_075_199910  1.000000e+10     1.0  obgnme\n",
       "str_075_199911    str_075_199911  1.000000e+10     1.0  obgnme\n",
       "str_075_199912    str_075_199912  1.000000e+10     1.0  obgnme\n",
       "\n",
       "[630 rows x 4 columns]"
      ],
      "text/html": "<div>\n<style scoped>\n    .dataframe tbody tr th:only-of-type {\n        vertical-align: middle;\n    }\n\n    .dataframe tbody tr th {\n        vertical-align: top;\n    }\n\n    .dataframe thead th {\n        text-align: right;\n    }\n</style>\n<table border=\"1\" class=\"dataframe\">\n  <thead>\n    <tr style=\"text-align: right;\">\n      <th></th>\n      <th>obsnme</th>\n      <th>obsval</th>\n      <th>weight</th>\n      <th>obgnme</th>\n    </tr>\n  </thead>\n  <tbody>\n    <tr>\n      <th>gw_098_19950510</th>\n      <td>gw_098_19950510</td>\n      <td>1.000000e+10</td>\n      <td>1.0</td>\n      <td>obgnme</td>\n    </tr>\n    <tr>\n      <th>gw_098_19950626</th>\n      <td>gw_098_19950626</td>\n      <td>1.000000e+10</td>\n      <td>1.0</td>\n      <td>obgnme</td>\n    </tr>\n    <tr>\n      <th>gw_098_19950725</th>\n      <td>gw_098_19950725</td>\n      <td>1.000000e+10</td>\n      <td>1.0</td>\n      <td>obgnme</td>\n    </tr>\n    <tr>\n      <th>gw_098_19951027</th>\n      <td>gw_098_19951027</td>\n      <td>1.000000e+10</td>\n      <td>1.0</td>\n      <td>obgnme</td>\n    </tr>\n    <tr>\n      <th>gw_098_19960213</th>\n      <td>gw_098_19960213</td>\n      <td>1.000000e+10</td>\n      <td>1.0</td>\n      <td>obgnme</td>\n    </tr>\n    <tr>\n      <th>...</th>\n      <td>...</td>\n      <td>...</td>\n      <td>...</td>\n      <td>...</td>\n    </tr>\n    <tr>\n      <th>str_075_199908</th>\n      <td>str_075_199908</td>\n      <td>1.000000e+10</td>\n      <td>1.0</td>\n      <td>obgnme</td>\n    </tr>\n    <tr>\n      <th>str_075_199909</th>\n      <td>str_075_199909</td>\n      <td>1.000000e+10</td>\n      <td>1.0</td>\n      <td>obgnme</td>\n    </tr>\n    <tr>\n      <th>str_075_199910</th>\n      <td>str_075_199910</td>\n      <td>1.000000e+10</td>\n      <td>1.0</td>\n      <td>obgnme</td>\n    </tr>\n    <tr>\n      <th>str_075_199911</th>\n      <td>str_075_199911</td>\n      <td>1.000000e+10</td>\n      <td>1.0</td>\n      <td>obgnme</td>\n    </tr>\n    <tr>\n      <th>str_075_199912</th>\n      <td>str_075_199912</td>\n      <td>1.000000e+10</td>\n      <td>1.0</td>\n      <td>obgnme</td>\n    </tr>\n  </tbody>\n</table>\n<p>630 rows × 4 columns</p>\n</div>"
     },
     "metadata": {},
     "execution_count": 16
    }
   ],
   "source": [
    "# set observation group\n",
    "obd = pst.observation_data\n",
    "obd"
   ]
  },
  {
   "cell_type": "code",
   "execution_count": 17,
   "metadata": {},
   "outputs": [
    {
     "output_type": "execute_result",
     "data": {
      "text/plain": [
       "                          obsnme        obsval  weight   obgnme\n",
       "gw_098_19950510  gw_098_19950510  1.000000e+10     1.0   gw_098\n",
       "gw_098_19950626  gw_098_19950626  1.000000e+10     1.0   gw_098\n",
       "gw_098_19950725  gw_098_19950725  1.000000e+10     1.0   gw_098\n",
       "gw_098_19951027  gw_098_19951027  1.000000e+10     1.0   gw_098\n",
       "gw_098_19960213  gw_098_19960213  1.000000e+10     1.0   gw_098\n",
       "...                          ...           ...     ...      ...\n",
       "str_075_199908    str_075_199908  1.000000e+10     1.0  str_075\n",
       "str_075_199909    str_075_199909  1.000000e+10     1.0  str_075\n",
       "str_075_199910    str_075_199910  1.000000e+10     1.0  str_075\n",
       "str_075_199911    str_075_199911  1.000000e+10     1.0  str_075\n",
       "str_075_199912    str_075_199912  1.000000e+10     1.0  str_075\n",
       "\n",
       "[630 rows x 4 columns]"
      ],
      "text/html": "<div>\n<style scoped>\n    .dataframe tbody tr th:only-of-type {\n        vertical-align: middle;\n    }\n\n    .dataframe tbody tr th {\n        vertical-align: top;\n    }\n\n    .dataframe thead th {\n        text-align: right;\n    }\n</style>\n<table border=\"1\" class=\"dataframe\">\n  <thead>\n    <tr style=\"text-align: right;\">\n      <th></th>\n      <th>obsnme</th>\n      <th>obsval</th>\n      <th>weight</th>\n      <th>obgnme</th>\n    </tr>\n  </thead>\n  <tbody>\n    <tr>\n      <th>gw_098_19950510</th>\n      <td>gw_098_19950510</td>\n      <td>1.000000e+10</td>\n      <td>1.0</td>\n      <td>gw_098</td>\n    </tr>\n    <tr>\n      <th>gw_098_19950626</th>\n      <td>gw_098_19950626</td>\n      <td>1.000000e+10</td>\n      <td>1.0</td>\n      <td>gw_098</td>\n    </tr>\n    <tr>\n      <th>gw_098_19950725</th>\n      <td>gw_098_19950725</td>\n      <td>1.000000e+10</td>\n      <td>1.0</td>\n      <td>gw_098</td>\n    </tr>\n    <tr>\n      <th>gw_098_19951027</th>\n      <td>gw_098_19951027</td>\n      <td>1.000000e+10</td>\n      <td>1.0</td>\n      <td>gw_098</td>\n    </tr>\n    <tr>\n      <th>gw_098_19960213</th>\n      <td>gw_098_19960213</td>\n      <td>1.000000e+10</td>\n      <td>1.0</td>\n      <td>gw_098</td>\n    </tr>\n    <tr>\n      <th>...</th>\n      <td>...</td>\n      <td>...</td>\n      <td>...</td>\n      <td>...</td>\n    </tr>\n    <tr>\n      <th>str_075_199908</th>\n      <td>str_075_199908</td>\n      <td>1.000000e+10</td>\n      <td>1.0</td>\n      <td>str_075</td>\n    </tr>\n    <tr>\n      <th>str_075_199909</th>\n      <td>str_075_199909</td>\n      <td>1.000000e+10</td>\n      <td>1.0</td>\n      <td>str_075</td>\n    </tr>\n    <tr>\n      <th>str_075_199910</th>\n      <td>str_075_199910</td>\n      <td>1.000000e+10</td>\n      <td>1.0</td>\n      <td>str_075</td>\n    </tr>\n    <tr>\n      <th>str_075_199911</th>\n      <td>str_075_199911</td>\n      <td>1.000000e+10</td>\n      <td>1.0</td>\n      <td>str_075</td>\n    </tr>\n    <tr>\n      <th>str_075_199912</th>\n      <td>str_075_199912</td>\n      <td>1.000000e+10</td>\n      <td>1.0</td>\n      <td>str_075</td>\n    </tr>\n  </tbody>\n</table>\n<p>630 rows × 4 columns</p>\n</div>"
     },
     "metadata": {},
     "execution_count": 17
    }
   ],
   "source": [
    "# Change obd group name\n",
    "for i in range(len(obd)):\n",
    "    if obd.iloc[i, 0][:2] == 'gw':\n",
    "        obd.iloc[i, 3] = obd.iloc[i, 0][:6]\n",
    "    else:\n",
    "        obd.iloc[i, 3] = obd.iloc[i, 0][:-7]\n",
    "obd"
   ]
  },
  {
   "cell_type": "markdown",
   "metadata": {},
   "source": [
    "## 2.3. Import measured data"
   ]
  },
  {
   "cell_type": "code",
   "execution_count": 18,
   "metadata": {},
   "outputs": [
    {
     "output_type": "execute_result",
     "data": {
      "text/plain": [
       "            gw_098  gw_124\n",
       "date                      \n",
       "1992-01-01     NaN     NaN\n",
       "1992-01-02     NaN     NaN\n",
       "1992-01-03     NaN     NaN\n",
       "1992-01-04     NaN     NaN\n",
       "1992-01-05     NaN     NaN\n",
       "...            ...     ...\n",
       "1999-12-27     NaN     NaN\n",
       "1999-12-28     NaN     NaN\n",
       "1999-12-29     NaN     NaN\n",
       "1999-12-30     NaN     NaN\n",
       "1999-12-31     NaN     NaN\n",
       "\n",
       "[2922 rows x 2 columns]"
      ],
      "text/html": "<div>\n<style scoped>\n    .dataframe tbody tr th:only-of-type {\n        vertical-align: middle;\n    }\n\n    .dataframe tbody tr th {\n        vertical-align: top;\n    }\n\n    .dataframe thead th {\n        text-align: right;\n    }\n</style>\n<table border=\"1\" class=\"dataframe\">\n  <thead>\n    <tr style=\"text-align: right;\">\n      <th></th>\n      <th>gw_098</th>\n      <th>gw_124</th>\n    </tr>\n    <tr>\n      <th>date</th>\n      <th></th>\n      <th></th>\n    </tr>\n  </thead>\n  <tbody>\n    <tr>\n      <th>1992-01-01</th>\n      <td>NaN</td>\n      <td>NaN</td>\n    </tr>\n    <tr>\n      <th>1992-01-02</th>\n      <td>NaN</td>\n      <td>NaN</td>\n    </tr>\n    <tr>\n      <th>1992-01-03</th>\n      <td>NaN</td>\n      <td>NaN</td>\n    </tr>\n    <tr>\n      <th>1992-01-04</th>\n      <td>NaN</td>\n      <td>NaN</td>\n    </tr>\n    <tr>\n      <th>1992-01-05</th>\n      <td>NaN</td>\n      <td>NaN</td>\n    </tr>\n    <tr>\n      <th>...</th>\n      <td>...</td>\n      <td>...</td>\n    </tr>\n    <tr>\n      <th>1999-12-27</th>\n      <td>NaN</td>\n      <td>NaN</td>\n    </tr>\n    <tr>\n      <th>1999-12-28</th>\n      <td>NaN</td>\n      <td>NaN</td>\n    </tr>\n    <tr>\n      <th>1999-12-29</th>\n      <td>NaN</td>\n      <td>NaN</td>\n    </tr>\n    <tr>\n      <th>1999-12-30</th>\n      <td>NaN</td>\n      <td>NaN</td>\n    </tr>\n    <tr>\n      <th>1999-12-31</th>\n      <td>NaN</td>\n      <td>NaN</td>\n    </tr>\n  </tbody>\n</table>\n<p>2922 rows × 2 columns</p>\n</div>"
     },
     "metadata": {},
     "execution_count": 18
    }
   ],
   "source": [
    "gwt_obd = pd.read_csv('MODFLOW/modflow.obd',\n",
    "                       sep='\\t',\n",
    "                       index_col = 0,\n",
    "                       parse_dates = True,\n",
    "                       na_values=[-999, '']\n",
    "                     )\n",
    "gwt_obd = gwt_obd['1/1/1992': '12/31/1999']\n",
    "gwt_obd = gwt_obd[['gw_098', 'gw_124']]\n",
    "gwt_obd"
   ]
  },
  {
   "cell_type": "code",
   "execution_count": 19,
   "metadata": {},
   "outputs": [
    {
     "output_type": "execute_result",
     "data": {
      "text/plain": [
       "            str_012  str_057  str_075  sed_012  sed_057  sed_075\n",
       "date                                                            \n",
       "1992-01-31     1.14     8.10     8.24     0.78    27.87    28.73\n",
       "1992-02-29     1.30     7.98     9.07     1.00    27.13    34.35\n",
       "1992-03-31     1.69    12.86    12.74     1.61    65.28    64.75\n",
       "1992-04-30     5.10    40.43    30.79    14.72   579.21   335.07\n",
       "1992-05-31    18.74    87.18    71.35   133.03  2168.35  1515.66\n",
       "...             ...      ...      ...      ...      ...      ...\n",
       "1999-08-31    14.36    67.16    73.09    79.53  1341.29  1572.21\n",
       "1999-09-30     9.51    39.46    38.12    40.61   582.53   586.01\n",
       "1999-10-31     4.04    12.97    10.27     8.00    68.33    44.99\n",
       "1999-11-30     2.56     7.43     7.72     3.44    23.88    25.51\n",
       "1999-12-31     2.07     7.12     7.76     2.39    22.04    25.75\n",
       "\n",
       "[96 rows x 6 columns]"
      ],
      "text/html": "<div>\n<style scoped>\n    .dataframe tbody tr th:only-of-type {\n        vertical-align: middle;\n    }\n\n    .dataframe tbody tr th {\n        vertical-align: top;\n    }\n\n    .dataframe thead th {\n        text-align: right;\n    }\n</style>\n<table border=\"1\" class=\"dataframe\">\n  <thead>\n    <tr style=\"text-align: right;\">\n      <th></th>\n      <th>str_012</th>\n      <th>str_057</th>\n      <th>str_075</th>\n      <th>sed_012</th>\n      <th>sed_057</th>\n      <th>sed_075</th>\n    </tr>\n    <tr>\n      <th>date</th>\n      <th></th>\n      <th></th>\n      <th></th>\n      <th></th>\n      <th></th>\n      <th></th>\n    </tr>\n  </thead>\n  <tbody>\n    <tr>\n      <th>1992-01-31</th>\n      <td>1.14</td>\n      <td>8.10</td>\n      <td>8.24</td>\n      <td>0.78</td>\n      <td>27.87</td>\n      <td>28.73</td>\n    </tr>\n    <tr>\n      <th>1992-02-29</th>\n      <td>1.30</td>\n      <td>7.98</td>\n      <td>9.07</td>\n      <td>1.00</td>\n      <td>27.13</td>\n      <td>34.35</td>\n    </tr>\n    <tr>\n      <th>1992-03-31</th>\n      <td>1.69</td>\n      <td>12.86</td>\n      <td>12.74</td>\n      <td>1.61</td>\n      <td>65.28</td>\n      <td>64.75</td>\n    </tr>\n    <tr>\n      <th>1992-04-30</th>\n      <td>5.10</td>\n      <td>40.43</td>\n      <td>30.79</td>\n      <td>14.72</td>\n      <td>579.21</td>\n      <td>335.07</td>\n    </tr>\n    <tr>\n      <th>1992-05-31</th>\n      <td>18.74</td>\n      <td>87.18</td>\n      <td>71.35</td>\n      <td>133.03</td>\n      <td>2168.35</td>\n      <td>1515.66</td>\n    </tr>\n    <tr>\n      <th>...</th>\n      <td>...</td>\n      <td>...</td>\n      <td>...</td>\n      <td>...</td>\n      <td>...</td>\n      <td>...</td>\n    </tr>\n    <tr>\n      <th>1999-08-31</th>\n      <td>14.36</td>\n      <td>67.16</td>\n      <td>73.09</td>\n      <td>79.53</td>\n      <td>1341.29</td>\n      <td>1572.21</td>\n    </tr>\n    <tr>\n      <th>1999-09-30</th>\n      <td>9.51</td>\n      <td>39.46</td>\n      <td>38.12</td>\n      <td>40.61</td>\n      <td>582.53</td>\n      <td>586.01</td>\n    </tr>\n    <tr>\n      <th>1999-10-31</th>\n      <td>4.04</td>\n      <td>12.97</td>\n      <td>10.27</td>\n      <td>8.00</td>\n      <td>68.33</td>\n      <td>44.99</td>\n    </tr>\n    <tr>\n      <th>1999-11-30</th>\n      <td>2.56</td>\n      <td>7.43</td>\n      <td>7.72</td>\n      <td>3.44</td>\n      <td>23.88</td>\n      <td>25.51</td>\n    </tr>\n    <tr>\n      <th>1999-12-31</th>\n      <td>2.07</td>\n      <td>7.12</td>\n      <td>7.76</td>\n      <td>2.39</td>\n      <td>22.04</td>\n      <td>25.75</td>\n    </tr>\n  </tbody>\n</table>\n<p>96 rows × 6 columns</p>\n</div>"
     },
     "metadata": {},
     "execution_count": 19
    }
   ],
   "source": [
    "stf_obd = pd.read_csv('streamflow_month.obd',\n",
    "                       sep='\\t',\n",
    "                       index_col = 0,\n",
    "                       parse_dates = True,\n",
    "                       na_values=[-999, '']\n",
    "                     )\n",
    "stf_obd = stf_obd['1/1/1992': '12/31/1999']\n",
    "stf_obd = stf_obd.drop(['str_072', 'sed_072'], axis=1)\n",
    "stf_obd\n",
    "\n",
    "\n"
   ]
  },
  {
   "cell_type": "code",
   "execution_count": 20,
   "metadata": {},
   "outputs": [
    {
     "output_type": "execute_result",
     "data": {
      "text/plain": [
       "['gw_098',\n",
       " 'gw_124',\n",
       " 'sed_012',\n",
       " 'sed_057',\n",
       " 'sed_075',\n",
       " 'str_012',\n",
       " 'str_057',\n",
       " 'str_075']"
      ]
     },
     "metadata": {},
     "execution_count": 20
    }
   ],
   "source": [
    "# Get sub list based on obd order\n",
    "sub_order = []\n",
    "for i in obd.obgnme.tolist():\n",
    "    if i not in sub_order:\n",
    "        sub_order.append(i)\n",
    "sub_order"
   ]
  },
  {
   "cell_type": "code",
   "execution_count": 21,
   "metadata": {},
   "outputs": [
    {
     "output_type": "execute_result",
     "data": {
      "text/plain": [
       "630"
      ]
     },
     "metadata": {},
     "execution_count": 21
    }
   ],
   "source": [
    "# get total list from each sub obd, delete na vals\n",
    "tot_obd = []\n",
    "for i in sub_order[:2]:\n",
    "    tot_obd += gwt_obd[i].dropna().tolist()\n",
    "for j in sub_order[2:]:\n",
    "    tot_obd += stf_obd[j].dropna().tolist()    \n",
    "len(tot_obd)\n",
    "# tot_obd"
   ]
  },
  {
   "cell_type": "code",
   "execution_count": 22,
   "metadata": {},
   "outputs": [
    {
     "output_type": "execute_result",
     "data": {
      "text/plain": [
       "                          obsnme  obsval  weight   obgnme\n",
       "gw_098_19950510  gw_098_19950510  -31.09     1.0   gw_098\n",
       "gw_098_19950626  gw_098_19950626  -30.30     1.0   gw_098\n",
       "gw_098_19950725  gw_098_19950725  -30.14     1.0   gw_098\n",
       "gw_098_19951027  gw_098_19951027  -29.92     1.0   gw_098\n",
       "gw_098_19960213  gw_098_19960213  -30.37     1.0   gw_098\n",
       "...                          ...     ...     ...      ...\n",
       "str_075_199908    str_075_199908   73.09     1.0  str_075\n",
       "str_075_199909    str_075_199909   38.12     1.0  str_075\n",
       "str_075_199910    str_075_199910   10.27     1.0  str_075\n",
       "str_075_199911    str_075_199911    7.72     1.0  str_075\n",
       "str_075_199912    str_075_199912    7.76     1.0  str_075\n",
       "\n",
       "[630 rows x 4 columns]"
      ],
      "text/html": "<div>\n<style scoped>\n    .dataframe tbody tr th:only-of-type {\n        vertical-align: middle;\n    }\n\n    .dataframe tbody tr th {\n        vertical-align: top;\n    }\n\n    .dataframe thead th {\n        text-align: right;\n    }\n</style>\n<table border=\"1\" class=\"dataframe\">\n  <thead>\n    <tr style=\"text-align: right;\">\n      <th></th>\n      <th>obsnme</th>\n      <th>obsval</th>\n      <th>weight</th>\n      <th>obgnme</th>\n    </tr>\n  </thead>\n  <tbody>\n    <tr>\n      <th>gw_098_19950510</th>\n      <td>gw_098_19950510</td>\n      <td>-31.09</td>\n      <td>1.0</td>\n      <td>gw_098</td>\n    </tr>\n    <tr>\n      <th>gw_098_19950626</th>\n      <td>gw_098_19950626</td>\n      <td>-30.30</td>\n      <td>1.0</td>\n      <td>gw_098</td>\n    </tr>\n    <tr>\n      <th>gw_098_19950725</th>\n      <td>gw_098_19950725</td>\n      <td>-30.14</td>\n      <td>1.0</td>\n      <td>gw_098</td>\n    </tr>\n    <tr>\n      <th>gw_098_19951027</th>\n      <td>gw_098_19951027</td>\n      <td>-29.92</td>\n      <td>1.0</td>\n      <td>gw_098</td>\n    </tr>\n    <tr>\n      <th>gw_098_19960213</th>\n      <td>gw_098_19960213</td>\n      <td>-30.37</td>\n      <td>1.0</td>\n      <td>gw_098</td>\n    </tr>\n    <tr>\n      <th>...</th>\n      <td>...</td>\n      <td>...</td>\n      <td>...</td>\n      <td>...</td>\n    </tr>\n    <tr>\n      <th>str_075_199908</th>\n      <td>str_075_199908</td>\n      <td>73.09</td>\n      <td>1.0</td>\n      <td>str_075</td>\n    </tr>\n    <tr>\n      <th>str_075_199909</th>\n      <td>str_075_199909</td>\n      <td>38.12</td>\n      <td>1.0</td>\n      <td>str_075</td>\n    </tr>\n    <tr>\n      <th>str_075_199910</th>\n      <td>str_075_199910</td>\n      <td>10.27</td>\n      <td>1.0</td>\n      <td>str_075</td>\n    </tr>\n    <tr>\n      <th>str_075_199911</th>\n      <td>str_075_199911</td>\n      <td>7.72</td>\n      <td>1.0</td>\n      <td>str_075</td>\n    </tr>\n    <tr>\n      <th>str_075_199912</th>\n      <td>str_075_199912</td>\n      <td>7.76</td>\n      <td>1.0</td>\n      <td>str_075</td>\n    </tr>\n  </tbody>\n</table>\n<p>630 rows × 4 columns</p>\n</div>"
     },
     "metadata": {},
     "execution_count": 22
    }
   ],
   "source": [
    "obd.loc[:, 'obsval'] = tot_obd\n",
    "obd"
   ]
  },
  {
   "cell_type": "code",
   "execution_count": 23,
   "metadata": {},
   "outputs": [
    {
     "output_type": "execute_result",
     "data": {
      "text/plain": [
       "                          obsnme  obsval  weight   obgnme\n",
       "gw_098_19950510  gw_098_19950510  -31.09     1.0   gw_098\n",
       "gw_098_19950626  gw_098_19950626  -30.30     1.0   gw_098\n",
       "gw_098_19950725  gw_098_19950725  -30.14     1.0   gw_098\n",
       "gw_098_19951027  gw_098_19951027  -29.92     1.0   gw_098\n",
       "gw_098_19960213  gw_098_19960213  -30.37     1.0   gw_098\n",
       "...                          ...     ...     ...      ...\n",
       "str_075_199908    str_075_199908   73.09     1.0  str_075\n",
       "str_075_199909    str_075_199909   38.12     1.0  str_075\n",
       "str_075_199910    str_075_199910   10.27     1.0  str_075\n",
       "str_075_199911    str_075_199911    7.72     1.0  str_075\n",
       "str_075_199912    str_075_199912    7.76     1.0  str_075\n",
       "\n",
       "[630 rows x 4 columns]"
      ],
      "text/html": "<div>\n<style scoped>\n    .dataframe tbody tr th:only-of-type {\n        vertical-align: middle;\n    }\n\n    .dataframe tbody tr th {\n        vertical-align: top;\n    }\n\n    .dataframe thead th {\n        text-align: right;\n    }\n</style>\n<table border=\"1\" class=\"dataframe\">\n  <thead>\n    <tr style=\"text-align: right;\">\n      <th></th>\n      <th>obsnme</th>\n      <th>obsval</th>\n      <th>weight</th>\n      <th>obgnme</th>\n    </tr>\n  </thead>\n  <tbody>\n    <tr>\n      <th>gw_098_19950510</th>\n      <td>gw_098_19950510</td>\n      <td>-31.09</td>\n      <td>1.0</td>\n      <td>gw_098</td>\n    </tr>\n    <tr>\n      <th>gw_098_19950626</th>\n      <td>gw_098_19950626</td>\n      <td>-30.30</td>\n      <td>1.0</td>\n      <td>gw_098</td>\n    </tr>\n    <tr>\n      <th>gw_098_19950725</th>\n      <td>gw_098_19950725</td>\n      <td>-30.14</td>\n      <td>1.0</td>\n      <td>gw_098</td>\n    </tr>\n    <tr>\n      <th>gw_098_19951027</th>\n      <td>gw_098_19951027</td>\n      <td>-29.92</td>\n      <td>1.0</td>\n      <td>gw_098</td>\n    </tr>\n    <tr>\n      <th>gw_098_19960213</th>\n      <td>gw_098_19960213</td>\n      <td>-30.37</td>\n      <td>1.0</td>\n      <td>gw_098</td>\n    </tr>\n    <tr>\n      <th>...</th>\n      <td>...</td>\n      <td>...</td>\n      <td>...</td>\n      <td>...</td>\n    </tr>\n    <tr>\n      <th>str_075_199908</th>\n      <td>str_075_199908</td>\n      <td>73.09</td>\n      <td>1.0</td>\n      <td>str_075</td>\n    </tr>\n    <tr>\n      <th>str_075_199909</th>\n      <td>str_075_199909</td>\n      <td>38.12</td>\n      <td>1.0</td>\n      <td>str_075</td>\n    </tr>\n    <tr>\n      <th>str_075_199910</th>\n      <td>str_075_199910</td>\n      <td>10.27</td>\n      <td>1.0</td>\n      <td>str_075</td>\n    </tr>\n    <tr>\n      <th>str_075_199911</th>\n      <td>str_075_199911</td>\n      <td>7.72</td>\n      <td>1.0</td>\n      <td>str_075</td>\n    </tr>\n    <tr>\n      <th>str_075_199912</th>\n      <td>str_075_199912</td>\n      <td>7.76</td>\n      <td>1.0</td>\n      <td>str_075</td>\n    </tr>\n  </tbody>\n</table>\n<p>630 rows × 4 columns</p>\n</div>"
     },
     "metadata": {},
     "execution_count": 23
    }
   ],
   "source": [
    "# Change obd group name\n",
    "for i in range(len(obd)):\n",
    "    if obd.iloc[i, 3][:3] == \"sed\":\n",
    "        obd.iloc[i, 2] = 0\n",
    "obd"
   ]
  },
  {
   "cell_type": "markdown",
   "metadata": {},
   "source": [
    "### 4. Export control file"
   ]
  },
  {
   "cell_type": "code",
   "execution_count": 24,
   "metadata": {},
   "outputs": [],
   "source": [
    "pst.control_data.noptmax=0"
   ]
  },
  {
   "cell_type": "code",
   "execution_count": 25,
   "metadata": {},
   "outputs": [],
   "source": [
    "pst.model_command = 'python forward_run.py'"
   ]
  },
  {
   "cell_type": "code",
   "execution_count": 26,
   "metadata": {
    "tags": []
   },
   "outputs": [
    {
     "output_type": "stream",
     "name": "stdout",
     "text": [
      "noptmax:0, npar_adj:26, nnz_obs:342\n"
     ]
    }
   ],
   "source": [
    "pst.write('ani_pest.pst')"
   ]
  },
  {
   "cell_type": "code",
   "execution_count": 27,
   "metadata": {},
   "outputs": [
    {
     "output_type": "execute_result",
     "data": {
      "text/plain": [
       "                          obsnme  obsval  weight   obgnme\n",
       "gw_098_19950510  gw_098_19950510  -31.09     1.0   gw_098\n",
       "gw_098_19950626  gw_098_19950626  -30.30     1.0   gw_098\n",
       "gw_098_19950725  gw_098_19950725  -30.14     1.0   gw_098\n",
       "gw_098_19951027  gw_098_19951027  -29.92     1.0   gw_098\n",
       "gw_098_19960213  gw_098_19960213  -30.37     1.0   gw_098\n",
       "...                          ...     ...     ...      ...\n",
       "str_075_199908    str_075_199908   73.09     1.0  str_075\n",
       "str_075_199909    str_075_199909   38.12     1.0  str_075\n",
       "str_075_199910    str_075_199910   10.27     1.0  str_075\n",
       "str_075_199911    str_075_199911    7.72     1.0  str_075\n",
       "str_075_199912    str_075_199912    7.76     1.0  str_075\n",
       "\n",
       "[630 rows x 4 columns]"
      ],
      "text/html": "<div>\n<style scoped>\n    .dataframe tbody tr th:only-of-type {\n        vertical-align: middle;\n    }\n\n    .dataframe tbody tr th {\n        vertical-align: top;\n    }\n\n    .dataframe thead th {\n        text-align: right;\n    }\n</style>\n<table border=\"1\" class=\"dataframe\">\n  <thead>\n    <tr style=\"text-align: right;\">\n      <th></th>\n      <th>obsnme</th>\n      <th>obsval</th>\n      <th>weight</th>\n      <th>obgnme</th>\n    </tr>\n  </thead>\n  <tbody>\n    <tr>\n      <th>gw_098_19950510</th>\n      <td>gw_098_19950510</td>\n      <td>-31.09</td>\n      <td>1.0</td>\n      <td>gw_098</td>\n    </tr>\n    <tr>\n      <th>gw_098_19950626</th>\n      <td>gw_098_19950626</td>\n      <td>-30.30</td>\n      <td>1.0</td>\n      <td>gw_098</td>\n    </tr>\n    <tr>\n      <th>gw_098_19950725</th>\n      <td>gw_098_19950725</td>\n      <td>-30.14</td>\n      <td>1.0</td>\n      <td>gw_098</td>\n    </tr>\n    <tr>\n      <th>gw_098_19951027</th>\n      <td>gw_098_19951027</td>\n      <td>-29.92</td>\n      <td>1.0</td>\n      <td>gw_098</td>\n    </tr>\n    <tr>\n      <th>gw_098_19960213</th>\n      <td>gw_098_19960213</td>\n      <td>-30.37</td>\n      <td>1.0</td>\n      <td>gw_098</td>\n    </tr>\n    <tr>\n      <th>...</th>\n      <td>...</td>\n      <td>...</td>\n      <td>...</td>\n      <td>...</td>\n    </tr>\n    <tr>\n      <th>str_075_199908</th>\n      <td>str_075_199908</td>\n      <td>73.09</td>\n      <td>1.0</td>\n      <td>str_075</td>\n    </tr>\n    <tr>\n      <th>str_075_199909</th>\n      <td>str_075_199909</td>\n      <td>38.12</td>\n      <td>1.0</td>\n      <td>str_075</td>\n    </tr>\n    <tr>\n      <th>str_075_199910</th>\n      <td>str_075_199910</td>\n      <td>10.27</td>\n      <td>1.0</td>\n      <td>str_075</td>\n    </tr>\n    <tr>\n      <th>str_075_199911</th>\n      <td>str_075_199911</td>\n      <td>7.72</td>\n      <td>1.0</td>\n      <td>str_075</td>\n    </tr>\n    <tr>\n      <th>str_075_199912</th>\n      <td>str_075_199912</td>\n      <td>7.76</td>\n      <td>1.0</td>\n      <td>str_075</td>\n    </tr>\n  </tbody>\n</table>\n<p>630 rows × 4 columns</p>\n</div>"
     },
     "metadata": {},
     "execution_count": 27
    }
   ],
   "source": [
    "obd"
   ]
  },
  {
   "cell_type": "code",
   "execution_count": null,
   "metadata": {},
   "outputs": [],
   "source": []
  }
 ],
 "metadata": {
  "anaconda-cloud": {},
  "kernelspec": {
   "name": "Python 3.7.7 64-bit ('sm_pest': conda)",
   "display_name": "Python 3.7.7 64-bit ('sm_pest': conda)",
   "metadata": {
    "interpreter": {
     "hash": "e2cd4a2c4044a442375d541a7af880af35b9f88daa7fc56a2d2af487495916f8"
    }
   }
  },
  "language_info": {
   "codemirror_mode": {
    "name": "ipython",
    "version": 3
   },
   "file_extension": ".py",
   "mimetype": "text/x-python",
   "name": "python",
   "nbconvert_exporter": "python",
   "pygments_lexer": "ipython3",
   "version": "3.7.7-final"
  }
 },
 "nbformat": 4,
 "nbformat_minor": 4
}