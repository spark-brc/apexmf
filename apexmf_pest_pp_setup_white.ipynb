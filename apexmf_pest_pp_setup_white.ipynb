{
 "cells": [
  {
   "cell_type": "code",
   "execution_count": 1,
   "metadata": {},
   "outputs": [
    {
     "output_type": "stream",
     "name": "stdout",
     "text": [
      "flopy is installed in C:\\Users\\seonggyu.park\\Miniconda3\\envs\\sm_pest\\lib\\site-packages\\flopy\n"
     ]
    }
   ],
   "source": [
    "%matplotlib inline\n",
    "import os, shutil\n",
    "import sys\n",
    "sys.path.append(\"..\")\n",
    "import numpy as np\n",
    "from IPython.display import Image\n",
    "import pandas as pd\n",
    "import matplotlib.pyplot as plt\n",
    "\n",
    "import flopy as flopy\n",
    "import pyemu\n",
    "import shapefile #the pyshp module\n",
    "from pyemu.pst.pst_utils import SFMT,IFMT,FFMT,pst_config"
   ]
  },
  {
   "cell_type": "markdown",
   "metadata": {},
   "source": [
    "# <span style=\"color:blue\">1. Set up pilot points network for the white model some</span>.\n",
    "\n",
    "There are multiple approaches to implementing pilot points with PEST++.  \n",
    "\n",
    "In this class, we will use some kick-ass pyemu sweetness"
   ]
  },
  {
   "cell_type": "markdown",
   "metadata": {},
   "source": [
    "### 1.1. Set up zones for where pilot points will be interpolated\n",
    "\n",
    "We can have pilot point networks in multiple zones. In this case, we will make a simple zone file using `IBOUND` such that all active cells are in the same interpolation zone."
   ]
  },
  {
   "cell_type": "code",
   "execution_count": 2,
   "metadata": {},
   "outputs": [],
   "source": [
    "working_dir = 'D:\\\\Projects\\\\Watersheds\\\\White\\\\Analysis\\\\APEX-MODFLOWs\\\\calibration\\\\white_apexmf_110420\\\\APEX-MODFLOW\\\\MODFLOW'\n",
    "mname = \"wt_1500.nam\"\n",
    "os.chdir(working_dir)\n",
    "\n",
    "\n"
   ]
  },
  {
   "cell_type": "code",
   "execution_count": 5,
   "metadata": {},
   "outputs": [
    {
     "output_type": "error",
     "ename": "AssertionError",
     "evalue": "Util2d.load() error: open/close file D:\\Projects\\Watersheds\\White\\Analysis\\APEX-MODFLOWs\\calibration\\white_apexmf_110420\\APEX-MODFLOW\\MODFLOW\\MODFLOW\\hk0pp.dat.ref not found",
     "traceback": [
      "\u001b[1;31m---------------------------------------------------------------------------\u001b[0m",
      "\u001b[1;31mAssertionError\u001b[0m                            Traceback (most recent call last)",
      "\u001b[1;32m<ipython-input-5-4b3e80cd451a>\u001b[0m in \u001b[0;36m<module>\u001b[1;34m\u001b[0m\n\u001b[0;32m      2\u001b[0m m = flopy.modflow.Modflow.load(\n\u001b[0;32m      3\u001b[0m             \u001b[0mmname\u001b[0m\u001b[1;33m,\u001b[0m\u001b[1;33m\u001b[0m\u001b[1;33m\u001b[0m\u001b[0m\n\u001b[1;32m----> 4\u001b[1;33m             \u001b[0mmodel_ws\u001b[0m\u001b[1;33m=\u001b[0m\u001b[0mworking_dir\u001b[0m\u001b[1;33m\u001b[0m\u001b[1;33m\u001b[0m\u001b[0m\n\u001b[0m\u001b[0;32m      5\u001b[0m             )\n\u001b[0;32m      6\u001b[0m \u001b[0mm\u001b[0m\u001b[1;33m.\u001b[0m\u001b[0mcheck\u001b[0m\u001b[1;33m(\u001b[0m\u001b[1;33m)\u001b[0m\u001b[1;33m\u001b[0m\u001b[1;33m\u001b[0m\u001b[0m\n",
      "\u001b[1;32m~\\Miniconda3\\envs\\sm_pest\\lib\\site-packages\\flopy\\modflow\\mf.py\u001b[0m in \u001b[0;36mload\u001b[1;34m(f, version, exe_name, verbose, model_ws, load_only, forgive, check)\u001b[0m\n\u001b[0;32m    803\u001b[0m                             item.package.load(item.filehandle, ml,\n\u001b[0;32m    804\u001b[0m                                               \u001b[0mext_unit_dict\u001b[0m\u001b[1;33m=\u001b[0m\u001b[0mext_unit_dict\u001b[0m\u001b[1;33m,\u001b[0m\u001b[1;33m\u001b[0m\u001b[1;33m\u001b[0m\u001b[0m\n\u001b[1;32m--> 805\u001b[1;33m                                               check=False)\n\u001b[0m\u001b[0;32m    806\u001b[0m                         \u001b[1;32melse\u001b[0m\u001b[1;33m:\u001b[0m\u001b[1;33m\u001b[0m\u001b[1;33m\u001b[0m\u001b[0m\n\u001b[0;32m    807\u001b[0m                             item.package.load(item.filehandle, ml,\n",
      "\u001b[1;32m~\\Miniconda3\\envs\\sm_pest\\lib\\site-packages\\flopy\\modflow\\mfupw.py\u001b[0m in \u001b[0;36mload\u001b[1;34m(f, model, ext_unit_dict, check)\u001b[0m\n\u001b[0;32m    417\u001b[0m             \u001b[1;32mif\u001b[0m \u001b[1;34m'hk'\u001b[0m \u001b[1;32mnot\u001b[0m \u001b[1;32min\u001b[0m \u001b[0mpar_types\u001b[0m\u001b[1;33m:\u001b[0m\u001b[1;33m\u001b[0m\u001b[1;33m\u001b[0m\u001b[0m\n\u001b[0;32m    418\u001b[0m                 t = Util2d.load(f, model, (nrow, ncol), np.float32, 'hk',\n\u001b[1;32m--> 419\u001b[1;33m                                 ext_unit_dict)\n\u001b[0m\u001b[0;32m    420\u001b[0m             \u001b[1;32melse\u001b[0m\u001b[1;33m:\u001b[0m\u001b[1;33m\u001b[0m\u001b[1;33m\u001b[0m\u001b[0m\n\u001b[0;32m    421\u001b[0m                 \u001b[0mline\u001b[0m \u001b[1;33m=\u001b[0m \u001b[0mf\u001b[0m\u001b[1;33m.\u001b[0m\u001b[0mreadline\u001b[0m\u001b[1;33m(\u001b[0m\u001b[1;33m)\u001b[0m\u001b[1;33m\u001b[0m\u001b[1;33m\u001b[0m\u001b[0m\n",
      "\u001b[1;32m~\\Miniconda3\\envs\\sm_pest\\lib\\site-packages\\flopy\\utils\\util_array.py\u001b[0m in \u001b[0;36mload\u001b[1;34m(f_handle, model, shape, dtype, name, ext_unit_dict, array_free_format, array_format)\u001b[0m\n\u001b[0;32m   2681\u001b[0m             \u001b[1;31m# load_txt(shape, file_in, dtype, fmtin):\u001b[0m\u001b[1;33m\u001b[0m\u001b[1;33m\u001b[0m\u001b[1;33m\u001b[0m\u001b[0m\n\u001b[0;32m   2682\u001b[0m             \u001b[1;32massert\u001b[0m \u001b[0mos\u001b[0m\u001b[1;33m.\u001b[0m\u001b[0mpath\u001b[0m\u001b[1;33m.\u001b[0m\u001b[0mexists\u001b[0m\u001b[1;33m(\u001b[0m\u001b[0mfname\u001b[0m\u001b[1;33m)\u001b[0m\u001b[1;33m,\u001b[0m \u001b[1;34m\"Util2d.load() error: open/close \"\u001b[0m \u001b[1;33m+\u001b[0m\u001b[0;31m \u001b[0m\u001b[0;31m\\\u001b[0m\u001b[1;33m\u001b[0m\u001b[1;33m\u001b[0m\u001b[0m\n\u001b[1;32m-> 2683\u001b[1;33m                                           \u001b[1;34m\"file \"\u001b[0m \u001b[1;33m+\u001b[0m \u001b[0mstr\u001b[0m\u001b[1;33m(\u001b[0m\u001b[0mfname\u001b[0m\u001b[1;33m)\u001b[0m \u001b[1;33m+\u001b[0m \u001b[1;34m\" not found\"\u001b[0m\u001b[1;33m\u001b[0m\u001b[1;33m\u001b[0m\u001b[0m\n\u001b[0m\u001b[0;32m   2684\u001b[0m             \u001b[1;32mif\u001b[0m \u001b[0mstr\u001b[0m\u001b[1;33m(\u001b[0m\u001b[1;34m'binary'\u001b[0m\u001b[1;33m)\u001b[0m \u001b[1;32mnot\u001b[0m \u001b[1;32min\u001b[0m \u001b[0mstr\u001b[0m\u001b[1;33m(\u001b[0m\u001b[0mcr_dict\u001b[0m\u001b[1;33m[\u001b[0m\u001b[1;34m'fmtin'\u001b[0m\u001b[1;33m]\u001b[0m\u001b[1;33m.\u001b[0m\u001b[0mlower\u001b[0m\u001b[1;33m(\u001b[0m\u001b[1;33m)\u001b[0m\u001b[1;33m)\u001b[0m\u001b[1;33m:\u001b[0m\u001b[1;33m\u001b[0m\u001b[1;33m\u001b[0m\u001b[0m\n\u001b[0;32m   2685\u001b[0m                 \u001b[0mf\u001b[0m \u001b[1;33m=\u001b[0m \u001b[0mopen\u001b[0m\u001b[1;33m(\u001b[0m\u001b[0mfname\u001b[0m\u001b[1;33m,\u001b[0m \u001b[1;34m'r'\u001b[0m\u001b[1;33m)\u001b[0m\u001b[1;33m\u001b[0m\u001b[1;33m\u001b[0m\u001b[0m\n",
      "\u001b[1;31mAssertionError\u001b[0m: Util2d.load() error: open/close file D:\\Projects\\Watersheds\\White\\Analysis\\APEX-MODFLOWs\\calibration\\white_apexmf_110420\\APEX-MODFLOW\\MODFLOW\\MODFLOW\\hk0pp.dat.ref not found"
     ]
    }
   ],
   "source": [
    "# m = flopy.modflow.Modflow.load(fs.MODEL_NAM,model_ws=wd,load_only=[]) #<-- load only prevents reading ibound\n",
    "m = flopy.modflow.Modflow.load(\n",
    "            mname,\n",
    "            model_ws=working_dir\n",
    "            )\n",
    "m.check()"
   ]
  },
  {
   "cell_type": "code",
   "execution_count": 4,
   "metadata": {},
   "outputs": [
    {
     "output_type": "error",
     "ename": "NameError",
     "evalue": "name 'm' is not defined",
     "traceback": [
      "\u001b[1;31m---------------------------------------------------------------------------\u001b[0m",
      "\u001b[1;31mNameError\u001b[0m                                 Traceback (most recent call last)",
      "\u001b[1;32m<ipython-input-4-37b26c63874d>\u001b[0m in \u001b[0;36m<module>\u001b[1;34m\u001b[0m\n\u001b[1;32m----> 1\u001b[1;33m \u001b[0mm\u001b[0m\u001b[1;33m.\u001b[0m\u001b[0mbas6\u001b[0m\u001b[1;33m.\u001b[0m\u001b[0mibound\u001b[0m\u001b[1;33m[\u001b[0m\u001b[1;36m0\u001b[0m\u001b[1;33m]\u001b[0m\u001b[1;33m.\u001b[0m\u001b[0mplot\u001b[0m\u001b[1;33m(\u001b[0m\u001b[1;33m)\u001b[0m\u001b[1;33m\u001b[0m\u001b[1;33m\u001b[0m\u001b[0m\n\u001b[0m",
      "\u001b[1;31mNameError\u001b[0m: name 'm' is not defined"
     ]
    }
   ],
   "source": [
    "m.bas6.ibound[0].plot()"
   ]
  },
  {
   "cell_type": "markdown",
   "metadata": {},
   "source": [
    "### 1.2. It is for when pilot points don't exist. We don't want pilot points or care about HK values in inactive cells, but we do need values in constant heads\n",
    "\n",
    "We are going to use a pyemu helper function to setup pilot points are cell centers for active cells."
   ]
  },
  {
   "cell_type": "code",
   "execution_count": 101,
   "metadata": {},
   "outputs": [],
   "source": [
    "# Create pilot points as a shapefile\n",
    "# we want hk pilot points in the top layer...\n",
    "prefix_dict = {0:[\"sy0\"]}\n",
    "df_pp_hk = pyemu.pp_utils.setup_pilotpoints_grid(ml=m,\n",
    "                                              prefix_dict=prefix_dict,\n",
    "                                              pp_dir=working_dir,\n",
    "                                              tpl_dir=working_dir,\n",
    "                                              every_n_cell=10,\n",
    "                                              shapename='pp_sy.shp')\n",
    "# pp_file = os.path.join(working_dir,\"sypp.dat\")\n",
    "# assert os.path.exists(pp_file)\n"
   ]
  },
  {
   "cell_type": "markdown",
   "metadata": {},
   "source": [
    "### 1.3. Create dataframe from shapefile"
   ]
  },
  {
   "cell_type": "markdown",
   "metadata": {},
   "source": [
    "#### **1.3.1. Change Shapefile name**"
   ]
  },
  {
   "cell_type": "code",
   "execution_count": 150,
   "metadata": {},
   "outputs": [
    {
     "output_type": "execute_result",
     "data": {
      "text/plain": [
       "'hk0pp.dat'"
      ]
     },
     "metadata": {},
     "execution_count": 150
    }
   ],
   "source": [
    "# change shapefile and file name\n",
    "shpwd = working_dir\n",
    "shp = 'pp_hk.shp'\n",
    "shp_changed = 'hk0pp.shp'\n",
    "ppf = shp_changed[:-3] + 'dat'\n",
    "ppf"
   ]
  },
  {
   "cell_type": "markdown",
   "metadata": {},
   "source": [
    "#### **1.3.2. Shapefile to Dataframe**"
   ]
  },
  {
   "cell_type": "code",
   "execution_count": 151,
   "metadata": {},
   "outputs": [
    {
     "output_type": "stream",
     "name": "stdout",
     "text": [
      "       name         x        y  zone  parval1  k   i    j              tpl  \\\n0   pp_0000   68250.0  96750.0   1.0      1.0  0   5   45  ~    hk000    ~   \n1   pp_0001   83250.0  96750.0   1.0      1.0  0   5   55  ~    hk001    ~   \n2   pp_0002   53250.0  81750.0   1.0      1.0  0  15   35  ~    hk002    ~   \n3   pp_0003   68250.0  81750.0   1.0      1.0  0  15   45  ~    hk003    ~   \n4   pp_0004   83250.0  81750.0   1.0      1.0  0  15   55  ~    hk004    ~   \n5   pp_0005   98250.0  81750.0   1.0      1.0  0  15   65  ~    hk005    ~   \n6   pp_0006  113250.0  81750.0   1.0      1.0  0  15   75  ~    hk006    ~   \n7   pp_0007   38250.0  66750.0   1.0      1.0  0  25   25  ~    hk007    ~   \n8   pp_0008   53250.0  66750.0   1.0      1.0  0  25   35  ~    hk008    ~   \n9   pp_0009   68250.0  66750.0   1.0      1.0  0  25   45  ~    hk009    ~   \n10  pp_0010   83250.0  66750.0   1.0      1.0  0  25   55  ~    hk010    ~   \n11  pp_0011   98250.0  66750.0   1.0      1.0  0  25   65  ~    hk011    ~   \n12  pp_0012  113250.0  66750.0   1.0      1.0  0  25   75  ~    hk012    ~   \n13  pp_0013  128250.0  66750.0   1.0      1.0  0  25   85  ~    hk013    ~   \n14  pp_0014    8250.0  51750.0   1.0      1.0  0  35    5  ~    hk014    ~   \n15  pp_0015   23250.0  51750.0   1.0      1.0  0  35   15  ~    hk015    ~   \n16  pp_0016   38250.0  51750.0   1.0      1.0  0  35   25  ~    hk016    ~   \n17  pp_0017   53250.0  51750.0   1.0      1.0  0  35   35  ~    hk017    ~   \n18  pp_0018   68250.0  51750.0   1.0      1.0  0  35   45  ~    hk018    ~   \n19  pp_0019   83250.0  51750.0   1.0      1.0  0  35   55  ~    hk019    ~   \n20  pp_0020   98250.0  51750.0   1.0      1.0  0  35   65  ~    hk020    ~   \n21  pp_0021  113250.0  51750.0   1.0      1.0  0  35   75  ~    hk021    ~   \n22  pp_0022  128250.0  51750.0   1.0      1.0  0  35   85  ~    hk022    ~   \n23  pp_0023  143250.0  51750.0   1.0      1.0  0  35   95  ~    hk023    ~   \n24  pp_0024  158250.0  51750.0   1.0      1.0  0  35  105  ~    hk024    ~   \n25  pp_0025  173250.0  51750.0   1.0      1.0  0  35  115  ~    hk025    ~   \n26  pp_0026  188250.0  51750.0   1.0      1.0  0  35  125  ~    hk026    ~   \n27  pp_0027    8250.0  36750.0   1.0      1.0  0  45    5  ~    hk027    ~   \n28  pp_0028   23250.0  36750.0   1.0      1.0  0  45   15  ~    hk028    ~   \n29  pp_0029   38250.0  36750.0   1.0      1.0  0  45   25  ~    hk029    ~   \n30  pp_0030   53250.0  36750.0   1.0      1.0  0  45   35  ~    hk030    ~   \n31  pp_0031   68250.0  36750.0   1.0      1.0  0  45   45  ~    hk031    ~   \n32  pp_0032   83250.0  36750.0   1.0      1.0  0  45   55  ~    hk032    ~   \n33  pp_0033   98250.0  36750.0   1.0      1.0  0  45   65  ~    hk033    ~   \n34  pp_0034  113250.0  36750.0   1.0      1.0  0  45   75  ~    hk034    ~   \n35  pp_0035  128250.0  36750.0   1.0      1.0  0  45   85  ~    hk035    ~   \n36  pp_0036  143250.0  36750.0   1.0      1.0  0  45   95  ~    hk036    ~   \n37  pp_0037  158250.0  36750.0   1.0      1.0  0  45  105  ~    hk037    ~   \n38  pp_0038  173250.0  36750.0   1.0      1.0  0  45  115  ~    hk038    ~   \n39  pp_0039  188250.0  36750.0   1.0      1.0  0  45  125  ~    hk039    ~   \n40  pp_0040    8250.0  21750.0   1.0      1.0  0  55    5  ~    hk040    ~   \n41  pp_0041   23250.0  21750.0   1.0      1.0  0  55   15  ~    hk041    ~   \n42  pp_0042   38250.0  21750.0   1.0      1.0  0  55   25  ~    hk042    ~   \n43  pp_0043   53250.0  21750.0   1.0      1.0  0  55   35  ~    hk043    ~   \n44  pp_0044   68250.0  21750.0   1.0      1.0  0  55   45  ~    hk044    ~   \n45  pp_0045   83250.0  21750.0   1.0      1.0  0  55   55  ~    hk045    ~   \n46  pp_0046   98250.0  21750.0   1.0      1.0  0  55   65  ~    hk046    ~   \n47  pp_0047  113250.0  21750.0   1.0      1.0  0  55   75  ~    hk047    ~   \n48  pp_0048  128250.0  21750.0   1.0      1.0  0  55   85  ~    hk048    ~   \n49  pp_0049  173250.0  21750.0   1.0      1.0  0  55  115  ~    hk049    ~   \n\n   parnme  ...                                          pp_filenam pargp  \\\n0   hk000  ...  D:\\Projects\\Watersheds\\White\\Analysis\\APEX-MODFLOW   hk0   \n1   hk001  ...  D:\\Projects\\Watersheds\\White\\Analysis\\APEX-MODFLOW   hk0   \n2   hk002  ...  D:\\Projects\\Watersheds\\White\\Analysis\\APEX-MODFLOW   hk0   \n3   hk003  ...  D:\\Projects\\Watersheds\\White\\Analysis\\APEX-MODFLOW   hk0   \n4   hk004  ...  D:\\Projects\\Watersheds\\White\\Analysis\\APEX-MODFLOW   hk0   \n5   hk005  ...  D:\\Projects\\Watersheds\\White\\Analysis\\APEX-MODFLOW   hk0   \n6   hk006  ...  D:\\Projects\\Watersheds\\White\\Analysis\\APEX-MODFLOW   hk0   \n7   hk007  ...  D:\\Projects\\Watersheds\\White\\Analysis\\APEX-MODFLOW   hk0   \n8   hk008  ...  D:\\Projects\\Watersheds\\White\\Analysis\\APEX-MODFLOW   hk0   \n9   hk009  ...  D:\\Projects\\Watersheds\\White\\Analysis\\APEX-MODFLOW   hk0   \n10  hk010  ...  D:\\Projects\\Watersheds\\White\\Analysis\\APEX-MODFLOW   hk0   \n11  hk011  ...  D:\\Projects\\Watersheds\\White\\Analysis\\APEX-MODFLOW   hk0   \n12  hk012  ...  D:\\Projects\\Watersheds\\White\\Analysis\\APEX-MODFLOW   hk0   \n13  hk013  ...  D:\\Projects\\Watersheds\\White\\Analysis\\APEX-MODFLOW   hk0   \n14  hk014  ...  D:\\Projects\\Watersheds\\White\\Analysis\\APEX-MODFLOW   hk0   \n15  hk015  ...  D:\\Projects\\Watersheds\\White\\Analysis\\APEX-MODFLOW   hk0   \n16  hk016  ...  D:\\Projects\\Watersheds\\White\\Analysis\\APEX-MODFLOW   hk0   \n17  hk017  ...  D:\\Projects\\Watersheds\\White\\Analysis\\APEX-MODFLOW   hk0   \n18  hk018  ...  D:\\Projects\\Watersheds\\White\\Analysis\\APEX-MODFLOW   hk0   \n19  hk019  ...  D:\\Projects\\Watersheds\\White\\Analysis\\APEX-MODFLOW   hk0   \n20  hk020  ...  D:\\Projects\\Watersheds\\White\\Analysis\\APEX-MODFLOW   hk0   \n21  hk021  ...  D:\\Projects\\Watersheds\\White\\Analysis\\APEX-MODFLOW   hk0   \n22  hk022  ...  D:\\Projects\\Watersheds\\White\\Analysis\\APEX-MODFLOW   hk0   \n23  hk023  ...  D:\\Projects\\Watersheds\\White\\Analysis\\APEX-MODFLOW   hk0   \n24  hk024  ...  D:\\Projects\\Watersheds\\White\\Analysis\\APEX-MODFLOW   hk0   \n25  hk025  ...  D:\\Projects\\Watersheds\\White\\Analysis\\APEX-MODFLOW   hk0   \n26  hk026  ...  D:\\Projects\\Watersheds\\White\\Analysis\\APEX-MODFLOW   hk0   \n27  hk027  ...  D:\\Projects\\Watersheds\\White\\Analysis\\APEX-MODFLOW   hk0   \n28  hk028  ...  D:\\Projects\\Watersheds\\White\\Analysis\\APEX-MODFLOW   hk0   \n29  hk029  ...  D:\\Projects\\Watersheds\\White\\Analysis\\APEX-MODFLOW   hk0   \n30  hk030  ...  D:\\Projects\\Watersheds\\White\\Analysis\\APEX-MODFLOW   hk0   \n31  hk031  ...  D:\\Projects\\Watersheds\\White\\Analysis\\APEX-MODFLOW   hk0   \n32  hk032  ...  D:\\Projects\\Watersheds\\White\\Analysis\\APEX-MODFLOW   hk0   \n33  hk033  ...  D:\\Projects\\Watersheds\\White\\Analysis\\APEX-MODFLOW   hk0   \n34  hk034  ...  D:\\Projects\\Watersheds\\White\\Analysis\\APEX-MODFLOW   hk0   \n35  hk035  ...  D:\\Projects\\Watersheds\\White\\Analysis\\APEX-MODFLOW   hk0   \n36  hk036  ...  D:\\Projects\\Watersheds\\White\\Analysis\\APEX-MODFLOW   hk0   \n37  hk037  ...  D:\\Projects\\Watersheds\\White\\Analysis\\APEX-MODFLOW   hk0   \n38  hk038  ...  D:\\Projects\\Watersheds\\White\\Analysis\\APEX-MODFLOW   hk0   \n39  hk039  ...  D:\\Projects\\Watersheds\\White\\Analysis\\APEX-MODFLOW   hk0   \n40  hk040  ...  D:\\Projects\\Watersheds\\White\\Analysis\\APEX-MODFLOW   hk0   \n41  hk041  ...  D:\\Projects\\Watersheds\\White\\Analysis\\APEX-MODFLOW   hk0   \n42  hk042  ...  D:\\Projects\\Watersheds\\White\\Analysis\\APEX-MODFLOW   hk0   \n43  hk043  ...  D:\\Projects\\Watersheds\\White\\Analysis\\APEX-MODFLOW   hk0   \n44  hk044  ...  D:\\Projects\\Watersheds\\White\\Analysis\\APEX-MODFLOW   hk0   \n45  hk045  ...  D:\\Projects\\Watersheds\\White\\Analysis\\APEX-MODFLOW   hk0   \n46  hk046  ...  D:\\Projects\\Watersheds\\White\\Analysis\\APEX-MODFLOW   hk0   \n47  hk047  ...  D:\\Projects\\Watersheds\\White\\Analysis\\APEX-MODFLOW   hk0   \n48  hk048  ...  D:\\Projects\\Watersheds\\White\\Analysis\\APEX-MODFLOW   hk0   \n49  hk049  ...  D:\\Projects\\Watersheds\\White\\Analysis\\APEX-MODFLOW   hk0   \n\n   partrans parchglim       parlbnd       parubnd  scale  offset  dercom  \\\n0       log    factor  1.000000e-10  1.100000e+10    1.0     0.0       1   \n1       log    factor  1.000000e-10  1.100000e+10    1.0     0.0       1   \n2       log    factor  1.000000e-10  1.100000e+10    1.0     0.0       1   \n3       log    factor  1.000000e-10  1.100000e+10    1.0     0.0       1   \n4       log    factor  1.000000e-10  1.100000e+10    1.0     0.0       1   \n5       log    factor  1.000000e-10  1.100000e+10    1.0     0.0       1   \n6       log    factor  1.000000e-10  1.100000e+10    1.0     0.0       1   \n7       log    factor  1.000000e-10  1.100000e+10    1.0     0.0       1   \n8       log    factor  1.000000e-10  1.100000e+10    1.0     0.0       1   \n9       log    factor  1.000000e-10  1.100000e+10    1.0     0.0       1   \n10      log    factor  1.000000e-10  1.100000e+10    1.0     0.0       1   \n11      log    factor  1.000000e-10  1.100000e+10    1.0     0.0       1   \n12      log    factor  1.000000e-10  1.100000e+10    1.0     0.0       1   \n13      log    factor  1.000000e-10  1.100000e+10    1.0     0.0       1   \n14      log    factor  1.000000e-10  1.100000e+10    1.0     0.0       1   \n15      log    factor  1.000000e-10  1.100000e+10    1.0     0.0       1   \n16      log    factor  1.000000e-10  1.100000e+10    1.0     0.0       1   \n17      log    factor  1.000000e-10  1.100000e+10    1.0     0.0       1   \n18      log    factor  1.000000e-10  1.100000e+10    1.0     0.0       1   \n19      log    factor  1.000000e-10  1.100000e+10    1.0     0.0       1   \n20      log    factor  1.000000e-10  1.100000e+10    1.0     0.0       1   \n21      log    factor  1.000000e-10  1.100000e+10    1.0     0.0       1   \n22      log    factor  1.000000e-10  1.100000e+10    1.0     0.0       1   \n23      log    factor  1.000000e-10  1.100000e+10    1.0     0.0       1   \n24      log    factor  1.000000e-10  1.100000e+10    1.0     0.0       1   \n25      log    factor  1.000000e-10  1.100000e+10    1.0     0.0       1   \n26      log    factor  1.000000e-10  1.100000e+10    1.0     0.0       1   \n27      log    factor  1.000000e-10  1.100000e+10    1.0     0.0       1   \n28      log    factor  1.000000e-10  1.100000e+10    1.0     0.0       1   \n29      log    factor  1.000000e-10  1.100000e+10    1.0     0.0       1   \n30      log    factor  1.000000e-10  1.100000e+10    1.0     0.0       1   \n31      log    factor  1.000000e-10  1.100000e+10    1.0     0.0       1   \n32      log    factor  1.000000e-10  1.100000e+10    1.0     0.0       1   \n33      log    factor  1.000000e-10  1.100000e+10    1.0     0.0       1   \n34      log    factor  1.000000e-10  1.100000e+10    1.0     0.0       1   \n35      log    factor  1.000000e-10  1.100000e+10    1.0     0.0       1   \n36      log    factor  1.000000e-10  1.100000e+10    1.0     0.0       1   \n37      log    factor  1.000000e-10  1.100000e+10    1.0     0.0       1   \n38      log    factor  1.000000e-10  1.100000e+10    1.0     0.0       1   \n39      log    factor  1.000000e-10  1.100000e+10    1.0     0.0       1   \n40      log    factor  1.000000e-10  1.100000e+10    1.0     0.0       1   \n41      log    factor  1.000000e-10  1.100000e+10    1.0     0.0       1   \n42      log    factor  1.000000e-10  1.100000e+10    1.0     0.0       1   \n43      log    factor  1.000000e-10  1.100000e+10    1.0     0.0       1   \n44      log    factor  1.000000e-10  1.100000e+10    1.0     0.0       1   \n45      log    factor  1.000000e-10  1.100000e+10    1.0     0.0       1   \n46      log    factor  1.000000e-10  1.100000e+10    1.0     0.0       1   \n47      log    factor  1.000000e-10  1.100000e+10    1.0     0.0       1   \n48      log    factor  1.000000e-10  1.100000e+10    1.0     0.0       1   \n49      log    factor  1.000000e-10  1.100000e+10    1.0     0.0       1   \n\n                                        coords  \n0   [[-1072550.0124365697, 1999998.037659365]]  \n1   [[-1057550.0124365697, 1999998.037659365]]  \n2   [[-1087550.0124365697, 1984998.037659365]]  \n3   [[-1072550.0124365697, 1984998.037659365]]  \n4   [[-1057550.0124365697, 1984998.037659365]]  \n5   [[-1042550.0124365697, 1984998.037659365]]  \n6   [[-1027550.0124365697, 1984998.037659365]]  \n7   [[-1102550.0124365697, 1969998.037659365]]  \n8   [[-1087550.0124365697, 1969998.037659365]]  \n9   [[-1072550.0124365697, 1969998.037659365]]  \n10  [[-1057550.0124365697, 1969998.037659365]]  \n11  [[-1042550.0124365697, 1969998.037659365]]  \n12  [[-1027550.0124365697, 1969998.037659365]]  \n13  [[-1012550.0124365697, 1969998.037659365]]  \n14  [[-1132550.0124365697, 1954998.037659365]]  \n15  [[-1117550.0124365697, 1954998.037659365]]  \n16  [[-1102550.0124365697, 1954998.037659365]]  \n17  [[-1087550.0124365697, 1954998.037659365]]  \n18  [[-1072550.0124365697, 1954998.037659365]]  \n19  [[-1057550.0124365697, 1954998.037659365]]  \n20  [[-1042550.0124365697, 1954998.037659365]]  \n21  [[-1027550.0124365697, 1954998.037659365]]  \n22  [[-1012550.0124365697, 1954998.037659365]]  \n23   [[-997550.0124365697, 1954998.037659365]]  \n24   [[-982550.0124365697, 1954998.037659365]]  \n25   [[-967550.0124365697, 1954998.037659365]]  \n26   [[-952550.0124365697, 1954998.037659365]]  \n27  [[-1132550.0124365697, 1939998.037659365]]  \n28  [[-1117550.0124365697, 1939998.037659365]]  \n29  [[-1102550.0124365697, 1939998.037659365]]  \n30  [[-1087550.0124365697, 1939998.037659365]]  \n31  [[-1072550.0124365697, 1939998.037659365]]  \n32  [[-1057550.0124365697, 1939998.037659365]]  \n33  [[-1042550.0124365697, 1939998.037659365]]  \n34  [[-1027550.0124365697, 1939998.037659365]]  \n35  [[-1012550.0124365697, 1939998.037659365]]  \n36   [[-997550.0124365697, 1939998.037659365]]  \n37   [[-982550.0124365697, 1939998.037659365]]  \n38   [[-967550.0124365697, 1939998.037659365]]  \n39   [[-952550.0124365697, 1939998.037659365]]  \n40  [[-1132550.0124365697, 1924998.037659365]]  \n41  [[-1117550.0124365697, 1924998.037659365]]  \n42  [[-1102550.0124365697, 1924998.037659365]]  \n43  [[-1087550.0124365697, 1924998.037659365]]  \n44  [[-1072550.0124365697, 1924998.037659365]]  \n45  [[-1057550.0124365697, 1924998.037659365]]  \n46  [[-1042550.0124365697, 1924998.037659365]]  \n47  [[-1027550.0124365697, 1924998.037659365]]  \n48  [[-1012550.0124365697, 1924998.037659365]]  \n49   [[-967550.0124365697, 1924998.037659365]]  \n\n[50 rows x 21 columns]\n"
     ]
    }
   ],
   "source": [
    "#read file, parse out the records and shapes\n",
    "shapefile_path = os.path.join(shpwd, shp)\n",
    "sf = shapefile.Reader(shapefile_path)\n",
    "\n",
    "#grab the shapefile's field names (omit the first psuedo field)\n",
    "fields = [x[0] for x in sf.fields][1:]\n",
    "records = sf.records()\n",
    "shps = [s.points for s in sf.shapes()]\n",
    "\n",
    "#write the records into a dataframe\n",
    "shapefile_dataframe = pd.DataFrame(columns=fields, data=records)\n",
    "\n",
    "#add the coordinate data to a column called \"coords\"\n",
    "shapefile_dataframe = shapefile_dataframe.assign(coords=shps)\n",
    "\n",
    "pp_df = shapefile_dataframe.sort_values(by=['name'])\n",
    "print(pp_df)"
   ]
  },
  {
   "cell_type": "code",
   "execution_count": 152,
   "metadata": {},
   "outputs": [],
   "source": [
    "os.chdir(working_dir)"
   ]
  },
  {
   "cell_type": "code",
   "execution_count": 153,
   "metadata": {},
   "outputs": [
    {
     "output_type": "execute_result",
     "data": {
      "text/plain": [
       "'D:\\\\Projects\\\\Watersheds\\\\White\\\\Analysis\\\\APEX-MODFLOWs\\\\calibration\\\\white_apexmf_110420\\\\APEX-MODFLOW\\\\MODFLOW'"
      ]
     },
     "metadata": {},
     "execution_count": 153
    }
   ],
   "source": [
    "os.getcwd()"
   ]
  },
  {
   "cell_type": "code",
   "execution_count": 154,
   "metadata": {},
   "outputs": [],
   "source": [
    "pyemu.utils.pp_utils.write_pp_file(ppf, pp_df)\n",
    "# pyemu.utils.pp_utils.pilot_points_to_tpl('hahaha.dat')"
   ]
  },
  {
   "cell_type": "code",
   "execution_count": 155,
   "metadata": {},
   "outputs": [],
   "source": [
    "PP_FMT = {\"name\": SFMT, \"x\": FFMT, \"y\": FFMT, \"zone\": IFMT, \"tpl\": SFMT,\n",
    "          \"parval1\": FFMT}\n",
    "def pp_to_tpl(pp_file, tpl_file=None):\n",
    "    names = pp_df['parnme'].tolist() # for hk\n",
    "    # names = pp_df['sypar'].tolist() # for sy  \n",
    "#     names = pp_df['parnme'].tolist() # for river conductance      \n",
    "    if tpl_file is None:\n",
    "        tpl_file = pp_file + \".tpl\"    \n",
    "    tpl_entries = [\"~    {0}    ~\".format(name) for name in names]\n",
    "    pp_df.loc[:,\"tpl\"] = tpl_entries\n",
    "    pp_df.loc[:,\"parnme\"] = names\n",
    "\n",
    "\n",
    "    f_tpl = open(tpl_file,'w')\n",
    "    f_tpl.write(\"ptf ~\\n\")\n",
    "    f_tpl.write(pp_df.to_string(col_space=0,\n",
    "                              columns=[\"name\",\"x\",\"y\",\"zone\",\"tpl\"],\n",
    "                              formatters=PP_FMT,\n",
    "                              justify=\"left\",\n",
    "                              header=False,\n",
    "                              index=False) + '\\n')    \n",
    "pp_to_tpl(ppf)"
   ]
  },
  {
   "cell_type": "markdown",
   "metadata": {},
   "source": [
    "Let's look at ``pp_df`` - it has a lot of useful info"
   ]
  },
  {
   "cell_type": "code",
   "execution_count": 156,
   "metadata": {
    "collapsed": true,
    "jupyter": {
     "outputs_hidden": true
    }
   },
   "outputs": [
    {
     "output_type": "execute_result",
     "data": {
      "text/plain": [
       "       name         x        y  zone  parval1  k   i    j              tpl  \\\n",
       "0   pp_0000   68250.0  96750.0   1.0      1.0  0   5   45  ~    hk000    ~   \n",
       "1   pp_0001   83250.0  96750.0   1.0      1.0  0   5   55  ~    hk001    ~   \n",
       "2   pp_0002   53250.0  81750.0   1.0      1.0  0  15   35  ~    hk002    ~   \n",
       "3   pp_0003   68250.0  81750.0   1.0      1.0  0  15   45  ~    hk003    ~   \n",
       "4   pp_0004   83250.0  81750.0   1.0      1.0  0  15   55  ~    hk004    ~   \n",
       "5   pp_0005   98250.0  81750.0   1.0      1.0  0  15   65  ~    hk005    ~   \n",
       "6   pp_0006  113250.0  81750.0   1.0      1.0  0  15   75  ~    hk006    ~   \n",
       "7   pp_0007   38250.0  66750.0   1.0      1.0  0  25   25  ~    hk007    ~   \n",
       "8   pp_0008   53250.0  66750.0   1.0      1.0  0  25   35  ~    hk008    ~   \n",
       "9   pp_0009   68250.0  66750.0   1.0      1.0  0  25   45  ~    hk009    ~   \n",
       "10  pp_0010   83250.0  66750.0   1.0      1.0  0  25   55  ~    hk010    ~   \n",
       "11  pp_0011   98250.0  66750.0   1.0      1.0  0  25   65  ~    hk011    ~   \n",
       "12  pp_0012  113250.0  66750.0   1.0      1.0  0  25   75  ~    hk012    ~   \n",
       "13  pp_0013  128250.0  66750.0   1.0      1.0  0  25   85  ~    hk013    ~   \n",
       "14  pp_0014    8250.0  51750.0   1.0      1.0  0  35    5  ~    hk014    ~   \n",
       "15  pp_0015   23250.0  51750.0   1.0      1.0  0  35   15  ~    hk015    ~   \n",
       "16  pp_0016   38250.0  51750.0   1.0      1.0  0  35   25  ~    hk016    ~   \n",
       "17  pp_0017   53250.0  51750.0   1.0      1.0  0  35   35  ~    hk017    ~   \n",
       "18  pp_0018   68250.0  51750.0   1.0      1.0  0  35   45  ~    hk018    ~   \n",
       "19  pp_0019   83250.0  51750.0   1.0      1.0  0  35   55  ~    hk019    ~   \n",
       "20  pp_0020   98250.0  51750.0   1.0      1.0  0  35   65  ~    hk020    ~   \n",
       "21  pp_0021  113250.0  51750.0   1.0      1.0  0  35   75  ~    hk021    ~   \n",
       "22  pp_0022  128250.0  51750.0   1.0      1.0  0  35   85  ~    hk022    ~   \n",
       "23  pp_0023  143250.0  51750.0   1.0      1.0  0  35   95  ~    hk023    ~   \n",
       "24  pp_0024  158250.0  51750.0   1.0      1.0  0  35  105  ~    hk024    ~   \n",
       "25  pp_0025  173250.0  51750.0   1.0      1.0  0  35  115  ~    hk025    ~   \n",
       "26  pp_0026  188250.0  51750.0   1.0      1.0  0  35  125  ~    hk026    ~   \n",
       "27  pp_0027    8250.0  36750.0   1.0      1.0  0  45    5  ~    hk027    ~   \n",
       "28  pp_0028   23250.0  36750.0   1.0      1.0  0  45   15  ~    hk028    ~   \n",
       "29  pp_0029   38250.0  36750.0   1.0      1.0  0  45   25  ~    hk029    ~   \n",
       "30  pp_0030   53250.0  36750.0   1.0      1.0  0  45   35  ~    hk030    ~   \n",
       "31  pp_0031   68250.0  36750.0   1.0      1.0  0  45   45  ~    hk031    ~   \n",
       "32  pp_0032   83250.0  36750.0   1.0      1.0  0  45   55  ~    hk032    ~   \n",
       "33  pp_0033   98250.0  36750.0   1.0      1.0  0  45   65  ~    hk033    ~   \n",
       "34  pp_0034  113250.0  36750.0   1.0      1.0  0  45   75  ~    hk034    ~   \n",
       "35  pp_0035  128250.0  36750.0   1.0      1.0  0  45   85  ~    hk035    ~   \n",
       "36  pp_0036  143250.0  36750.0   1.0      1.0  0  45   95  ~    hk036    ~   \n",
       "37  pp_0037  158250.0  36750.0   1.0      1.0  0  45  105  ~    hk037    ~   \n",
       "38  pp_0038  173250.0  36750.0   1.0      1.0  0  45  115  ~    hk038    ~   \n",
       "39  pp_0039  188250.0  36750.0   1.0      1.0  0  45  125  ~    hk039    ~   \n",
       "40  pp_0040    8250.0  21750.0   1.0      1.0  0  55    5  ~    hk040    ~   \n",
       "41  pp_0041   23250.0  21750.0   1.0      1.0  0  55   15  ~    hk041    ~   \n",
       "42  pp_0042   38250.0  21750.0   1.0      1.0  0  55   25  ~    hk042    ~   \n",
       "43  pp_0043   53250.0  21750.0   1.0      1.0  0  55   35  ~    hk043    ~   \n",
       "44  pp_0044   68250.0  21750.0   1.0      1.0  0  55   45  ~    hk044    ~   \n",
       "45  pp_0045   83250.0  21750.0   1.0      1.0  0  55   55  ~    hk045    ~   \n",
       "46  pp_0046   98250.0  21750.0   1.0      1.0  0  55   65  ~    hk046    ~   \n",
       "47  pp_0047  113250.0  21750.0   1.0      1.0  0  55   75  ~    hk047    ~   \n",
       "48  pp_0048  128250.0  21750.0   1.0      1.0  0  55   85  ~    hk048    ~   \n",
       "49  pp_0049  173250.0  21750.0   1.0      1.0  0  55  115  ~    hk049    ~   \n",
       "\n",
       "   parnme  ...                                          pp_filenam pargp  \\\n",
       "0   hk000  ...  D:\\Projects\\Watersheds\\White\\Analysis\\APEX-MODFLOW   hk0   \n",
       "1   hk001  ...  D:\\Projects\\Watersheds\\White\\Analysis\\APEX-MODFLOW   hk0   \n",
       "2   hk002  ...  D:\\Projects\\Watersheds\\White\\Analysis\\APEX-MODFLOW   hk0   \n",
       "3   hk003  ...  D:\\Projects\\Watersheds\\White\\Analysis\\APEX-MODFLOW   hk0   \n",
       "4   hk004  ...  D:\\Projects\\Watersheds\\White\\Analysis\\APEX-MODFLOW   hk0   \n",
       "5   hk005  ...  D:\\Projects\\Watersheds\\White\\Analysis\\APEX-MODFLOW   hk0   \n",
       "6   hk006  ...  D:\\Projects\\Watersheds\\White\\Analysis\\APEX-MODFLOW   hk0   \n",
       "7   hk007  ...  D:\\Projects\\Watersheds\\White\\Analysis\\APEX-MODFLOW   hk0   \n",
       "8   hk008  ...  D:\\Projects\\Watersheds\\White\\Analysis\\APEX-MODFLOW   hk0   \n",
       "9   hk009  ...  D:\\Projects\\Watersheds\\White\\Analysis\\APEX-MODFLOW   hk0   \n",
       "10  hk010  ...  D:\\Projects\\Watersheds\\White\\Analysis\\APEX-MODFLOW   hk0   \n",
       "11  hk011  ...  D:\\Projects\\Watersheds\\White\\Analysis\\APEX-MODFLOW   hk0   \n",
       "12  hk012  ...  D:\\Projects\\Watersheds\\White\\Analysis\\APEX-MODFLOW   hk0   \n",
       "13  hk013  ...  D:\\Projects\\Watersheds\\White\\Analysis\\APEX-MODFLOW   hk0   \n",
       "14  hk014  ...  D:\\Projects\\Watersheds\\White\\Analysis\\APEX-MODFLOW   hk0   \n",
       "15  hk015  ...  D:\\Projects\\Watersheds\\White\\Analysis\\APEX-MODFLOW   hk0   \n",
       "16  hk016  ...  D:\\Projects\\Watersheds\\White\\Analysis\\APEX-MODFLOW   hk0   \n",
       "17  hk017  ...  D:\\Projects\\Watersheds\\White\\Analysis\\APEX-MODFLOW   hk0   \n",
       "18  hk018  ...  D:\\Projects\\Watersheds\\White\\Analysis\\APEX-MODFLOW   hk0   \n",
       "19  hk019  ...  D:\\Projects\\Watersheds\\White\\Analysis\\APEX-MODFLOW   hk0   \n",
       "20  hk020  ...  D:\\Projects\\Watersheds\\White\\Analysis\\APEX-MODFLOW   hk0   \n",
       "21  hk021  ...  D:\\Projects\\Watersheds\\White\\Analysis\\APEX-MODFLOW   hk0   \n",
       "22  hk022  ...  D:\\Projects\\Watersheds\\White\\Analysis\\APEX-MODFLOW   hk0   \n",
       "23  hk023  ...  D:\\Projects\\Watersheds\\White\\Analysis\\APEX-MODFLOW   hk0   \n",
       "24  hk024  ...  D:\\Projects\\Watersheds\\White\\Analysis\\APEX-MODFLOW   hk0   \n",
       "25  hk025  ...  D:\\Projects\\Watersheds\\White\\Analysis\\APEX-MODFLOW   hk0   \n",
       "26  hk026  ...  D:\\Projects\\Watersheds\\White\\Analysis\\APEX-MODFLOW   hk0   \n",
       "27  hk027  ...  D:\\Projects\\Watersheds\\White\\Analysis\\APEX-MODFLOW   hk0   \n",
       "28  hk028  ...  D:\\Projects\\Watersheds\\White\\Analysis\\APEX-MODFLOW   hk0   \n",
       "29  hk029  ...  D:\\Projects\\Watersheds\\White\\Analysis\\APEX-MODFLOW   hk0   \n",
       "30  hk030  ...  D:\\Projects\\Watersheds\\White\\Analysis\\APEX-MODFLOW   hk0   \n",
       "31  hk031  ...  D:\\Projects\\Watersheds\\White\\Analysis\\APEX-MODFLOW   hk0   \n",
       "32  hk032  ...  D:\\Projects\\Watersheds\\White\\Analysis\\APEX-MODFLOW   hk0   \n",
       "33  hk033  ...  D:\\Projects\\Watersheds\\White\\Analysis\\APEX-MODFLOW   hk0   \n",
       "34  hk034  ...  D:\\Projects\\Watersheds\\White\\Analysis\\APEX-MODFLOW   hk0   \n",
       "35  hk035  ...  D:\\Projects\\Watersheds\\White\\Analysis\\APEX-MODFLOW   hk0   \n",
       "36  hk036  ...  D:\\Projects\\Watersheds\\White\\Analysis\\APEX-MODFLOW   hk0   \n",
       "37  hk037  ...  D:\\Projects\\Watersheds\\White\\Analysis\\APEX-MODFLOW   hk0   \n",
       "38  hk038  ...  D:\\Projects\\Watersheds\\White\\Analysis\\APEX-MODFLOW   hk0   \n",
       "39  hk039  ...  D:\\Projects\\Watersheds\\White\\Analysis\\APEX-MODFLOW   hk0   \n",
       "40  hk040  ...  D:\\Projects\\Watersheds\\White\\Analysis\\APEX-MODFLOW   hk0   \n",
       "41  hk041  ...  D:\\Projects\\Watersheds\\White\\Analysis\\APEX-MODFLOW   hk0   \n",
       "42  hk042  ...  D:\\Projects\\Watersheds\\White\\Analysis\\APEX-MODFLOW   hk0   \n",
       "43  hk043  ...  D:\\Projects\\Watersheds\\White\\Analysis\\APEX-MODFLOW   hk0   \n",
       "44  hk044  ...  D:\\Projects\\Watersheds\\White\\Analysis\\APEX-MODFLOW   hk0   \n",
       "45  hk045  ...  D:\\Projects\\Watersheds\\White\\Analysis\\APEX-MODFLOW   hk0   \n",
       "46  hk046  ...  D:\\Projects\\Watersheds\\White\\Analysis\\APEX-MODFLOW   hk0   \n",
       "47  hk047  ...  D:\\Projects\\Watersheds\\White\\Analysis\\APEX-MODFLOW   hk0   \n",
       "48  hk048  ...  D:\\Projects\\Watersheds\\White\\Analysis\\APEX-MODFLOW   hk0   \n",
       "49  hk049  ...  D:\\Projects\\Watersheds\\White\\Analysis\\APEX-MODFLOW   hk0   \n",
       "\n",
       "   partrans parchglim       parlbnd       parubnd  scale  offset  dercom  \\\n",
       "0       log    factor  1.000000e-10  1.100000e+10    1.0     0.0       1   \n",
       "1       log    factor  1.000000e-10  1.100000e+10    1.0     0.0       1   \n",
       "2       log    factor  1.000000e-10  1.100000e+10    1.0     0.0       1   \n",
       "3       log    factor  1.000000e-10  1.100000e+10    1.0     0.0       1   \n",
       "4       log    factor  1.000000e-10  1.100000e+10    1.0     0.0       1   \n",
       "5       log    factor  1.000000e-10  1.100000e+10    1.0     0.0       1   \n",
       "6       log    factor  1.000000e-10  1.100000e+10    1.0     0.0       1   \n",
       "7       log    factor  1.000000e-10  1.100000e+10    1.0     0.0       1   \n",
       "8       log    factor  1.000000e-10  1.100000e+10    1.0     0.0       1   \n",
       "9       log    factor  1.000000e-10  1.100000e+10    1.0     0.0       1   \n",
       "10      log    factor  1.000000e-10  1.100000e+10    1.0     0.0       1   \n",
       "11      log    factor  1.000000e-10  1.100000e+10    1.0     0.0       1   \n",
       "12      log    factor  1.000000e-10  1.100000e+10    1.0     0.0       1   \n",
       "13      log    factor  1.000000e-10  1.100000e+10    1.0     0.0       1   \n",
       "14      log    factor  1.000000e-10  1.100000e+10    1.0     0.0       1   \n",
       "15      log    factor  1.000000e-10  1.100000e+10    1.0     0.0       1   \n",
       "16      log    factor  1.000000e-10  1.100000e+10    1.0     0.0       1   \n",
       "17      log    factor  1.000000e-10  1.100000e+10    1.0     0.0       1   \n",
       "18      log    factor  1.000000e-10  1.100000e+10    1.0     0.0       1   \n",
       "19      log    factor  1.000000e-10  1.100000e+10    1.0     0.0       1   \n",
       "20      log    factor  1.000000e-10  1.100000e+10    1.0     0.0       1   \n",
       "21      log    factor  1.000000e-10  1.100000e+10    1.0     0.0       1   \n",
       "22      log    factor  1.000000e-10  1.100000e+10    1.0     0.0       1   \n",
       "23      log    factor  1.000000e-10  1.100000e+10    1.0     0.0       1   \n",
       "24      log    factor  1.000000e-10  1.100000e+10    1.0     0.0       1   \n",
       "25      log    factor  1.000000e-10  1.100000e+10    1.0     0.0       1   \n",
       "26      log    factor  1.000000e-10  1.100000e+10    1.0     0.0       1   \n",
       "27      log    factor  1.000000e-10  1.100000e+10    1.0     0.0       1   \n",
       "28      log    factor  1.000000e-10  1.100000e+10    1.0     0.0       1   \n",
       "29      log    factor  1.000000e-10  1.100000e+10    1.0     0.0       1   \n",
       "30      log    factor  1.000000e-10  1.100000e+10    1.0     0.0       1   \n",
       "31      log    factor  1.000000e-10  1.100000e+10    1.0     0.0       1   \n",
       "32      log    factor  1.000000e-10  1.100000e+10    1.0     0.0       1   \n",
       "33      log    factor  1.000000e-10  1.100000e+10    1.0     0.0       1   \n",
       "34      log    factor  1.000000e-10  1.100000e+10    1.0     0.0       1   \n",
       "35      log    factor  1.000000e-10  1.100000e+10    1.0     0.0       1   \n",
       "36      log    factor  1.000000e-10  1.100000e+10    1.0     0.0       1   \n",
       "37      log    factor  1.000000e-10  1.100000e+10    1.0     0.0       1   \n",
       "38      log    factor  1.000000e-10  1.100000e+10    1.0     0.0       1   \n",
       "39      log    factor  1.000000e-10  1.100000e+10    1.0     0.0       1   \n",
       "40      log    factor  1.000000e-10  1.100000e+10    1.0     0.0       1   \n",
       "41      log    factor  1.000000e-10  1.100000e+10    1.0     0.0       1   \n",
       "42      log    factor  1.000000e-10  1.100000e+10    1.0     0.0       1   \n",
       "43      log    factor  1.000000e-10  1.100000e+10    1.0     0.0       1   \n",
       "44      log    factor  1.000000e-10  1.100000e+10    1.0     0.0       1   \n",
       "45      log    factor  1.000000e-10  1.100000e+10    1.0     0.0       1   \n",
       "46      log    factor  1.000000e-10  1.100000e+10    1.0     0.0       1   \n",
       "47      log    factor  1.000000e-10  1.100000e+10    1.0     0.0       1   \n",
       "48      log    factor  1.000000e-10  1.100000e+10    1.0     0.0       1   \n",
       "49      log    factor  1.000000e-10  1.100000e+10    1.0     0.0       1   \n",
       "\n",
       "                                        coords  \n",
       "0   [[-1072550.0124365697, 1999998.037659365]]  \n",
       "1   [[-1057550.0124365697, 1999998.037659365]]  \n",
       "2   [[-1087550.0124365697, 1984998.037659365]]  \n",
       "3   [[-1072550.0124365697, 1984998.037659365]]  \n",
       "4   [[-1057550.0124365697, 1984998.037659365]]  \n",
       "5   [[-1042550.0124365697, 1984998.037659365]]  \n",
       "6   [[-1027550.0124365697, 1984998.037659365]]  \n",
       "7   [[-1102550.0124365697, 1969998.037659365]]  \n",
       "8   [[-1087550.0124365697, 1969998.037659365]]  \n",
       "9   [[-1072550.0124365697, 1969998.037659365]]  \n",
       "10  [[-1057550.0124365697, 1969998.037659365]]  \n",
       "11  [[-1042550.0124365697, 1969998.037659365]]  \n",
       "12  [[-1027550.0124365697, 1969998.037659365]]  \n",
       "13  [[-1012550.0124365697, 1969998.037659365]]  \n",
       "14  [[-1132550.0124365697, 1954998.037659365]]  \n",
       "15  [[-1117550.0124365697, 1954998.037659365]]  \n",
       "16  [[-1102550.0124365697, 1954998.037659365]]  \n",
       "17  [[-1087550.0124365697, 1954998.037659365]]  \n",
       "18  [[-1072550.0124365697, 1954998.037659365]]  \n",
       "19  [[-1057550.0124365697, 1954998.037659365]]  \n",
       "20  [[-1042550.0124365697, 1954998.037659365]]  \n",
       "21  [[-1027550.0124365697, 1954998.037659365]]  \n",
       "22  [[-1012550.0124365697, 1954998.037659365]]  \n",
       "23   [[-997550.0124365697, 1954998.037659365]]  \n",
       "24   [[-982550.0124365697, 1954998.037659365]]  \n",
       "25   [[-967550.0124365697, 1954998.037659365]]  \n",
       "26   [[-952550.0124365697, 1954998.037659365]]  \n",
       "27  [[-1132550.0124365697, 1939998.037659365]]  \n",
       "28  [[-1117550.0124365697, 1939998.037659365]]  \n",
       "29  [[-1102550.0124365697, 1939998.037659365]]  \n",
       "30  [[-1087550.0124365697, 1939998.037659365]]  \n",
       "31  [[-1072550.0124365697, 1939998.037659365]]  \n",
       "32  [[-1057550.0124365697, 1939998.037659365]]  \n",
       "33  [[-1042550.0124365697, 1939998.037659365]]  \n",
       "34  [[-1027550.0124365697, 1939998.037659365]]  \n",
       "35  [[-1012550.0124365697, 1939998.037659365]]  \n",
       "36   [[-997550.0124365697, 1939998.037659365]]  \n",
       "37   [[-982550.0124365697, 1939998.037659365]]  \n",
       "38   [[-967550.0124365697, 1939998.037659365]]  \n",
       "39   [[-952550.0124365697, 1939998.037659365]]  \n",
       "40  [[-1132550.0124365697, 1924998.037659365]]  \n",
       "41  [[-1117550.0124365697, 1924998.037659365]]  \n",
       "42  [[-1102550.0124365697, 1924998.037659365]]  \n",
       "43  [[-1087550.0124365697, 1924998.037659365]]  \n",
       "44  [[-1072550.0124365697, 1924998.037659365]]  \n",
       "45  [[-1057550.0124365697, 1924998.037659365]]  \n",
       "46  [[-1042550.0124365697, 1924998.037659365]]  \n",
       "47  [[-1027550.0124365697, 1924998.037659365]]  \n",
       "48  [[-1012550.0124365697, 1924998.037659365]]  \n",
       "49   [[-967550.0124365697, 1924998.037659365]]  \n",
       "\n",
       "[50 rows x 21 columns]"
      ],
      "text/html": "<div>\n<style scoped>\n    .dataframe tbody tr th:only-of-type {\n        vertical-align: middle;\n    }\n\n    .dataframe tbody tr th {\n        vertical-align: top;\n    }\n\n    .dataframe thead th {\n        text-align: right;\n    }\n</style>\n<table border=\"1\" class=\"dataframe\">\n  <thead>\n    <tr style=\"text-align: right;\">\n      <th></th>\n      <th>name</th>\n      <th>x</th>\n      <th>y</th>\n      <th>zone</th>\n      <th>parval1</th>\n      <th>k</th>\n      <th>i</th>\n      <th>j</th>\n      <th>tpl</th>\n      <th>parnme</th>\n      <th>...</th>\n      <th>pp_filenam</th>\n      <th>pargp</th>\n      <th>partrans</th>\n      <th>parchglim</th>\n      <th>parlbnd</th>\n      <th>parubnd</th>\n      <th>scale</th>\n      <th>offset</th>\n      <th>dercom</th>\n      <th>coords</th>\n    </tr>\n  </thead>\n  <tbody>\n    <tr>\n      <th>0</th>\n      <td>pp_0000</td>\n      <td>68250.0</td>\n      <td>96750.0</td>\n      <td>1.0</td>\n      <td>1.0</td>\n      <td>0</td>\n      <td>5</td>\n      <td>45</td>\n      <td>~    hk000    ~</td>\n      <td>hk000</td>\n      <td>...</td>\n      <td>D:\\Projects\\Watersheds\\White\\Analysis\\APEX-MODFLOW</td>\n      <td>hk0</td>\n      <td>log</td>\n      <td>factor</td>\n      <td>1.000000e-10</td>\n      <td>1.100000e+10</td>\n      <td>1.0</td>\n      <td>0.0</td>\n      <td>1</td>\n      <td>[[-1072550.0124365697, 1999998.037659365]]</td>\n    </tr>\n    <tr>\n      <th>1</th>\n      <td>pp_0001</td>\n      <td>83250.0</td>\n      <td>96750.0</td>\n      <td>1.0</td>\n      <td>1.0</td>\n      <td>0</td>\n      <td>5</td>\n      <td>55</td>\n      <td>~    hk001    ~</td>\n      <td>hk001</td>\n      <td>...</td>\n      <td>D:\\Projects\\Watersheds\\White\\Analysis\\APEX-MODFLOW</td>\n      <td>hk0</td>\n      <td>log</td>\n      <td>factor</td>\n      <td>1.000000e-10</td>\n      <td>1.100000e+10</td>\n      <td>1.0</td>\n      <td>0.0</td>\n      <td>1</td>\n      <td>[[-1057550.0124365697, 1999998.037659365]]</td>\n    </tr>\n    <tr>\n      <th>2</th>\n      <td>pp_0002</td>\n      <td>53250.0</td>\n      <td>81750.0</td>\n      <td>1.0</td>\n      <td>1.0</td>\n      <td>0</td>\n      <td>15</td>\n      <td>35</td>\n      <td>~    hk002    ~</td>\n      <td>hk002</td>\n      <td>...</td>\n      <td>D:\\Projects\\Watersheds\\White\\Analysis\\APEX-MODFLOW</td>\n      <td>hk0</td>\n      <td>log</td>\n      <td>factor</td>\n      <td>1.000000e-10</td>\n      <td>1.100000e+10</td>\n      <td>1.0</td>\n      <td>0.0</td>\n      <td>1</td>\n      <td>[[-1087550.0124365697, 1984998.037659365]]</td>\n    </tr>\n    <tr>\n      <th>3</th>\n      <td>pp_0003</td>\n      <td>68250.0</td>\n      <td>81750.0</td>\n      <td>1.0</td>\n      <td>1.0</td>\n      <td>0</td>\n      <td>15</td>\n      <td>45</td>\n      <td>~    hk003    ~</td>\n      <td>hk003</td>\n      <td>...</td>\n      <td>D:\\Projects\\Watersheds\\White\\Analysis\\APEX-MODFLOW</td>\n      <td>hk0</td>\n      <td>log</td>\n      <td>factor</td>\n      <td>1.000000e-10</td>\n      <td>1.100000e+10</td>\n      <td>1.0</td>\n      <td>0.0</td>\n      <td>1</td>\n      <td>[[-1072550.0124365697, 1984998.037659365]]</td>\n    </tr>\n    <tr>\n      <th>4</th>\n      <td>pp_0004</td>\n      <td>83250.0</td>\n      <td>81750.0</td>\n      <td>1.0</td>\n      <td>1.0</td>\n      <td>0</td>\n      <td>15</td>\n      <td>55</td>\n      <td>~    hk004    ~</td>\n      <td>hk004</td>\n      <td>...</td>\n      <td>D:\\Projects\\Watersheds\\White\\Analysis\\APEX-MODFLOW</td>\n      <td>hk0</td>\n      <td>log</td>\n      <td>factor</td>\n      <td>1.000000e-10</td>\n      <td>1.100000e+10</td>\n      <td>1.0</td>\n      <td>0.0</td>\n      <td>1</td>\n      <td>[[-1057550.0124365697, 1984998.037659365]]</td>\n    </tr>\n    <tr>\n      <th>5</th>\n      <td>pp_0005</td>\n      <td>98250.0</td>\n      <td>81750.0</td>\n      <td>1.0</td>\n      <td>1.0</td>\n      <td>0</td>\n      <td>15</td>\n      <td>65</td>\n      <td>~    hk005    ~</td>\n      <td>hk005</td>\n      <td>...</td>\n      <td>D:\\Projects\\Watersheds\\White\\Analysis\\APEX-MODFLOW</td>\n      <td>hk0</td>\n      <td>log</td>\n      <td>factor</td>\n      <td>1.000000e-10</td>\n      <td>1.100000e+10</td>\n      <td>1.0</td>\n      <td>0.0</td>\n      <td>1</td>\n      <td>[[-1042550.0124365697, 1984998.037659365]]</td>\n    </tr>\n    <tr>\n      <th>6</th>\n      <td>pp_0006</td>\n      <td>113250.0</td>\n      <td>81750.0</td>\n      <td>1.0</td>\n      <td>1.0</td>\n      <td>0</td>\n      <td>15</td>\n      <td>75</td>\n      <td>~    hk006    ~</td>\n      <td>hk006</td>\n      <td>...</td>\n      <td>D:\\Projects\\Watersheds\\White\\Analysis\\APEX-MODFLOW</td>\n      <td>hk0</td>\n      <td>log</td>\n      <td>factor</td>\n      <td>1.000000e-10</td>\n      <td>1.100000e+10</td>\n      <td>1.0</td>\n      <td>0.0</td>\n      <td>1</td>\n      <td>[[-1027550.0124365697, 1984998.037659365]]</td>\n    </tr>\n    <tr>\n      <th>7</th>\n      <td>pp_0007</td>\n      <td>38250.0</td>\n      <td>66750.0</td>\n      <td>1.0</td>\n      <td>1.0</td>\n      <td>0</td>\n      <td>25</td>\n      <td>25</td>\n      <td>~    hk007    ~</td>\n      <td>hk007</td>\n      <td>...</td>\n      <td>D:\\Projects\\Watersheds\\White\\Analysis\\APEX-MODFLOW</td>\n      <td>hk0</td>\n      <td>log</td>\n      <td>factor</td>\n      <td>1.000000e-10</td>\n      <td>1.100000e+10</td>\n      <td>1.0</td>\n      <td>0.0</td>\n      <td>1</td>\n      <td>[[-1102550.0124365697, 1969998.037659365]]</td>\n    </tr>\n    <tr>\n      <th>8</th>\n      <td>pp_0008</td>\n      <td>53250.0</td>\n      <td>66750.0</td>\n      <td>1.0</td>\n      <td>1.0</td>\n      <td>0</td>\n      <td>25</td>\n      <td>35</td>\n      <td>~    hk008    ~</td>\n      <td>hk008</td>\n      <td>...</td>\n      <td>D:\\Projects\\Watersheds\\White\\Analysis\\APEX-MODFLOW</td>\n      <td>hk0</td>\n      <td>log</td>\n      <td>factor</td>\n      <td>1.000000e-10</td>\n      <td>1.100000e+10</td>\n      <td>1.0</td>\n      <td>0.0</td>\n      <td>1</td>\n      <td>[[-1087550.0124365697, 1969998.037659365]]</td>\n    </tr>\n    <tr>\n      <th>9</th>\n      <td>pp_0009</td>\n      <td>68250.0</td>\n      <td>66750.0</td>\n      <td>1.0</td>\n      <td>1.0</td>\n      <td>0</td>\n      <td>25</td>\n      <td>45</td>\n      <td>~    hk009    ~</td>\n      <td>hk009</td>\n      <td>...</td>\n      <td>D:\\Projects\\Watersheds\\White\\Analysis\\APEX-MODFLOW</td>\n      <td>hk0</td>\n      <td>log</td>\n      <td>factor</td>\n      <td>1.000000e-10</td>\n      <td>1.100000e+10</td>\n      <td>1.0</td>\n      <td>0.0</td>\n      <td>1</td>\n      <td>[[-1072550.0124365697, 1969998.037659365]]</td>\n    </tr>\n    <tr>\n      <th>10</th>\n      <td>pp_0010</td>\n      <td>83250.0</td>\n      <td>66750.0</td>\n      <td>1.0</td>\n      <td>1.0</td>\n      <td>0</td>\n      <td>25</td>\n      <td>55</td>\n      <td>~    hk010    ~</td>\n      <td>hk010</td>\n      <td>...</td>\n      <td>D:\\Projects\\Watersheds\\White\\Analysis\\APEX-MODFLOW</td>\n      <td>hk0</td>\n      <td>log</td>\n      <td>factor</td>\n      <td>1.000000e-10</td>\n      <td>1.100000e+10</td>\n      <td>1.0</td>\n      <td>0.0</td>\n      <td>1</td>\n      <td>[[-1057550.0124365697, 1969998.037659365]]</td>\n    </tr>\n    <tr>\n      <th>11</th>\n      <td>pp_0011</td>\n      <td>98250.0</td>\n      <td>66750.0</td>\n      <td>1.0</td>\n      <td>1.0</td>\n      <td>0</td>\n      <td>25</td>\n      <td>65</td>\n      <td>~    hk011    ~</td>\n      <td>hk011</td>\n      <td>...</td>\n      <td>D:\\Projects\\Watersheds\\White\\Analysis\\APEX-MODFLOW</td>\n      <td>hk0</td>\n      <td>log</td>\n      <td>factor</td>\n      <td>1.000000e-10</td>\n      <td>1.100000e+10</td>\n      <td>1.0</td>\n      <td>0.0</td>\n      <td>1</td>\n      <td>[[-1042550.0124365697, 1969998.037659365]]</td>\n    </tr>\n    <tr>\n      <th>12</th>\n      <td>pp_0012</td>\n      <td>113250.0</td>\n      <td>66750.0</td>\n      <td>1.0</td>\n      <td>1.0</td>\n      <td>0</td>\n      <td>25</td>\n      <td>75</td>\n      <td>~    hk012    ~</td>\n      <td>hk012</td>\n      <td>...</td>\n      <td>D:\\Projects\\Watersheds\\White\\Analysis\\APEX-MODFLOW</td>\n      <td>hk0</td>\n      <td>log</td>\n      <td>factor</td>\n      <td>1.000000e-10</td>\n      <td>1.100000e+10</td>\n      <td>1.0</td>\n      <td>0.0</td>\n      <td>1</td>\n      <td>[[-1027550.0124365697, 1969998.037659365]]</td>\n    </tr>\n    <tr>\n      <th>13</th>\n      <td>pp_0013</td>\n      <td>128250.0</td>\n      <td>66750.0</td>\n      <td>1.0</td>\n      <td>1.0</td>\n      <td>0</td>\n      <td>25</td>\n      <td>85</td>\n      <td>~    hk013    ~</td>\n      <td>hk013</td>\n      <td>...</td>\n      <td>D:\\Projects\\Watersheds\\White\\Analysis\\APEX-MODFLOW</td>\n      <td>hk0</td>\n      <td>log</td>\n      <td>factor</td>\n      <td>1.000000e-10</td>\n      <td>1.100000e+10</td>\n      <td>1.0</td>\n      <td>0.0</td>\n      <td>1</td>\n      <td>[[-1012550.0124365697, 1969998.037659365]]</td>\n    </tr>\n    <tr>\n      <th>14</th>\n      <td>pp_0014</td>\n      <td>8250.0</td>\n      <td>51750.0</td>\n      <td>1.0</td>\n      <td>1.0</td>\n      <td>0</td>\n      <td>35</td>\n      <td>5</td>\n      <td>~    hk014    ~</td>\n      <td>hk014</td>\n      <td>...</td>\n      <td>D:\\Projects\\Watersheds\\White\\Analysis\\APEX-MODFLOW</td>\n      <td>hk0</td>\n      <td>log</td>\n      <td>factor</td>\n      <td>1.000000e-10</td>\n      <td>1.100000e+10</td>\n      <td>1.0</td>\n      <td>0.0</td>\n      <td>1</td>\n      <td>[[-1132550.0124365697, 1954998.037659365]]</td>\n    </tr>\n    <tr>\n      <th>15</th>\n      <td>pp_0015</td>\n      <td>23250.0</td>\n      <td>51750.0</td>\n      <td>1.0</td>\n      <td>1.0</td>\n      <td>0</td>\n      <td>35</td>\n      <td>15</td>\n      <td>~    hk015    ~</td>\n      <td>hk015</td>\n      <td>...</td>\n      <td>D:\\Projects\\Watersheds\\White\\Analysis\\APEX-MODFLOW</td>\n      <td>hk0</td>\n      <td>log</td>\n      <td>factor</td>\n      <td>1.000000e-10</td>\n      <td>1.100000e+10</td>\n      <td>1.0</td>\n      <td>0.0</td>\n      <td>1</td>\n      <td>[[-1117550.0124365697, 1954998.037659365]]</td>\n    </tr>\n    <tr>\n      <th>16</th>\n      <td>pp_0016</td>\n      <td>38250.0</td>\n      <td>51750.0</td>\n      <td>1.0</td>\n      <td>1.0</td>\n      <td>0</td>\n      <td>35</td>\n      <td>25</td>\n      <td>~    hk016    ~</td>\n      <td>hk016</td>\n      <td>...</td>\n      <td>D:\\Projects\\Watersheds\\White\\Analysis\\APEX-MODFLOW</td>\n      <td>hk0</td>\n      <td>log</td>\n      <td>factor</td>\n      <td>1.000000e-10</td>\n      <td>1.100000e+10</td>\n      <td>1.0</td>\n      <td>0.0</td>\n      <td>1</td>\n      <td>[[-1102550.0124365697, 1954998.037659365]]</td>\n    </tr>\n    <tr>\n      <th>17</th>\n      <td>pp_0017</td>\n      <td>53250.0</td>\n      <td>51750.0</td>\n      <td>1.0</td>\n      <td>1.0</td>\n      <td>0</td>\n      <td>35</td>\n      <td>35</td>\n      <td>~    hk017    ~</td>\n      <td>hk017</td>\n      <td>...</td>\n      <td>D:\\Projects\\Watersheds\\White\\Analysis\\APEX-MODFLOW</td>\n      <td>hk0</td>\n      <td>log</td>\n      <td>factor</td>\n      <td>1.000000e-10</td>\n      <td>1.100000e+10</td>\n      <td>1.0</td>\n      <td>0.0</td>\n      <td>1</td>\n      <td>[[-1087550.0124365697, 1954998.037659365]]</td>\n    </tr>\n    <tr>\n      <th>18</th>\n      <td>pp_0018</td>\n      <td>68250.0</td>\n      <td>51750.0</td>\n      <td>1.0</td>\n      <td>1.0</td>\n      <td>0</td>\n      <td>35</td>\n      <td>45</td>\n      <td>~    hk018    ~</td>\n      <td>hk018</td>\n      <td>...</td>\n      <td>D:\\Projects\\Watersheds\\White\\Analysis\\APEX-MODFLOW</td>\n      <td>hk0</td>\n      <td>log</td>\n      <td>factor</td>\n      <td>1.000000e-10</td>\n      <td>1.100000e+10</td>\n      <td>1.0</td>\n      <td>0.0</td>\n      <td>1</td>\n      <td>[[-1072550.0124365697, 1954998.037659365]]</td>\n    </tr>\n    <tr>\n      <th>19</th>\n      <td>pp_0019</td>\n      <td>83250.0</td>\n      <td>51750.0</td>\n      <td>1.0</td>\n      <td>1.0</td>\n      <td>0</td>\n      <td>35</td>\n      <td>55</td>\n      <td>~    hk019    ~</td>\n      <td>hk019</td>\n      <td>...</td>\n      <td>D:\\Projects\\Watersheds\\White\\Analysis\\APEX-MODFLOW</td>\n      <td>hk0</td>\n      <td>log</td>\n      <td>factor</td>\n      <td>1.000000e-10</td>\n      <td>1.100000e+10</td>\n      <td>1.0</td>\n      <td>0.0</td>\n      <td>1</td>\n      <td>[[-1057550.0124365697, 1954998.037659365]]</td>\n    </tr>\n    <tr>\n      <th>20</th>\n      <td>pp_0020</td>\n      <td>98250.0</td>\n      <td>51750.0</td>\n      <td>1.0</td>\n      <td>1.0</td>\n      <td>0</td>\n      <td>35</td>\n      <td>65</td>\n      <td>~    hk020    ~</td>\n      <td>hk020</td>\n      <td>...</td>\n      <td>D:\\Projects\\Watersheds\\White\\Analysis\\APEX-MODFLOW</td>\n      <td>hk0</td>\n      <td>log</td>\n      <td>factor</td>\n      <td>1.000000e-10</td>\n      <td>1.100000e+10</td>\n      <td>1.0</td>\n      <td>0.0</td>\n      <td>1</td>\n      <td>[[-1042550.0124365697, 1954998.037659365]]</td>\n    </tr>\n    <tr>\n      <th>21</th>\n      <td>pp_0021</td>\n      <td>113250.0</td>\n      <td>51750.0</td>\n      <td>1.0</td>\n      <td>1.0</td>\n      <td>0</td>\n      <td>35</td>\n      <td>75</td>\n      <td>~    hk021    ~</td>\n      <td>hk021</td>\n      <td>...</td>\n      <td>D:\\Projects\\Watersheds\\White\\Analysis\\APEX-MODFLOW</td>\n      <td>hk0</td>\n      <td>log</td>\n      <td>factor</td>\n      <td>1.000000e-10</td>\n      <td>1.100000e+10</td>\n      <td>1.0</td>\n      <td>0.0</td>\n      <td>1</td>\n      <td>[[-1027550.0124365697, 1954998.037659365]]</td>\n    </tr>\n    <tr>\n      <th>22</th>\n      <td>pp_0022</td>\n      <td>128250.0</td>\n      <td>51750.0</td>\n      <td>1.0</td>\n      <td>1.0</td>\n      <td>0</td>\n      <td>35</td>\n      <td>85</td>\n      <td>~    hk022    ~</td>\n      <td>hk022</td>\n      <td>...</td>\n      <td>D:\\Projects\\Watersheds\\White\\Analysis\\APEX-MODFLOW</td>\n      <td>hk0</td>\n      <td>log</td>\n      <td>factor</td>\n      <td>1.000000e-10</td>\n      <td>1.100000e+10</td>\n      <td>1.0</td>\n      <td>0.0</td>\n      <td>1</td>\n      <td>[[-1012550.0124365697, 1954998.037659365]]</td>\n    </tr>\n    <tr>\n      <th>23</th>\n      <td>pp_0023</td>\n      <td>143250.0</td>\n      <td>51750.0</td>\n      <td>1.0</td>\n      <td>1.0</td>\n      <td>0</td>\n      <td>35</td>\n      <td>95</td>\n      <td>~    hk023    ~</td>\n      <td>hk023</td>\n      <td>...</td>\n      <td>D:\\Projects\\Watersheds\\White\\Analysis\\APEX-MODFLOW</td>\n      <td>hk0</td>\n      <td>log</td>\n      <td>factor</td>\n      <td>1.000000e-10</td>\n      <td>1.100000e+10</td>\n      <td>1.0</td>\n      <td>0.0</td>\n      <td>1</td>\n      <td>[[-997550.0124365697, 1954998.037659365]]</td>\n    </tr>\n    <tr>\n      <th>24</th>\n      <td>pp_0024</td>\n      <td>158250.0</td>\n      <td>51750.0</td>\n      <td>1.0</td>\n      <td>1.0</td>\n      <td>0</td>\n      <td>35</td>\n      <td>105</td>\n      <td>~    hk024    ~</td>\n      <td>hk024</td>\n      <td>...</td>\n      <td>D:\\Projects\\Watersheds\\White\\Analysis\\APEX-MODFLOW</td>\n      <td>hk0</td>\n      <td>log</td>\n      <td>factor</td>\n      <td>1.000000e-10</td>\n      <td>1.100000e+10</td>\n      <td>1.0</td>\n      <td>0.0</td>\n      <td>1</td>\n      <td>[[-982550.0124365697, 1954998.037659365]]</td>\n    </tr>\n    <tr>\n      <th>25</th>\n      <td>pp_0025</td>\n      <td>173250.0</td>\n      <td>51750.0</td>\n      <td>1.0</td>\n      <td>1.0</td>\n      <td>0</td>\n      <td>35</td>\n      <td>115</td>\n      <td>~    hk025    ~</td>\n      <td>hk025</td>\n      <td>...</td>\n      <td>D:\\Projects\\Watersheds\\White\\Analysis\\APEX-MODFLOW</td>\n      <td>hk0</td>\n      <td>log</td>\n      <td>factor</td>\n      <td>1.000000e-10</td>\n      <td>1.100000e+10</td>\n      <td>1.0</td>\n      <td>0.0</td>\n      <td>1</td>\n      <td>[[-967550.0124365697, 1954998.037659365]]</td>\n    </tr>\n    <tr>\n      <th>26</th>\n      <td>pp_0026</td>\n      <td>188250.0</td>\n      <td>51750.0</td>\n      <td>1.0</td>\n      <td>1.0</td>\n      <td>0</td>\n      <td>35</td>\n      <td>125</td>\n      <td>~    hk026    ~</td>\n      <td>hk026</td>\n      <td>...</td>\n      <td>D:\\Projects\\Watersheds\\White\\Analysis\\APEX-MODFLOW</td>\n      <td>hk0</td>\n      <td>log</td>\n      <td>factor</td>\n      <td>1.000000e-10</td>\n      <td>1.100000e+10</td>\n      <td>1.0</td>\n      <td>0.0</td>\n      <td>1</td>\n      <td>[[-952550.0124365697, 1954998.037659365]]</td>\n    </tr>\n    <tr>\n      <th>27</th>\n      <td>pp_0027</td>\n      <td>8250.0</td>\n      <td>36750.0</td>\n      <td>1.0</td>\n      <td>1.0</td>\n      <td>0</td>\n      <td>45</td>\n      <td>5</td>\n      <td>~    hk027    ~</td>\n      <td>hk027</td>\n      <td>...</td>\n      <td>D:\\Projects\\Watersheds\\White\\Analysis\\APEX-MODFLOW</td>\n      <td>hk0</td>\n      <td>log</td>\n      <td>factor</td>\n      <td>1.000000e-10</td>\n      <td>1.100000e+10</td>\n      <td>1.0</td>\n      <td>0.0</td>\n      <td>1</td>\n      <td>[[-1132550.0124365697, 1939998.037659365]]</td>\n    </tr>\n    <tr>\n      <th>28</th>\n      <td>pp_0028</td>\n      <td>23250.0</td>\n      <td>36750.0</td>\n      <td>1.0</td>\n      <td>1.0</td>\n      <td>0</td>\n      <td>45</td>\n      <td>15</td>\n      <td>~    hk028    ~</td>\n      <td>hk028</td>\n      <td>...</td>\n      <td>D:\\Projects\\Watersheds\\White\\Analysis\\APEX-MODFLOW</td>\n      <td>hk0</td>\n      <td>log</td>\n      <td>factor</td>\n      <td>1.000000e-10</td>\n      <td>1.100000e+10</td>\n      <td>1.0</td>\n      <td>0.0</td>\n      <td>1</td>\n      <td>[[-1117550.0124365697, 1939998.037659365]]</td>\n    </tr>\n    <tr>\n      <th>29</th>\n      <td>pp_0029</td>\n      <td>38250.0</td>\n      <td>36750.0</td>\n      <td>1.0</td>\n      <td>1.0</td>\n      <td>0</td>\n      <td>45</td>\n      <td>25</td>\n      <td>~    hk029    ~</td>\n      <td>hk029</td>\n      <td>...</td>\n      <td>D:\\Projects\\Watersheds\\White\\Analysis\\APEX-MODFLOW</td>\n      <td>hk0</td>\n      <td>log</td>\n      <td>factor</td>\n      <td>1.000000e-10</td>\n      <td>1.100000e+10</td>\n      <td>1.0</td>\n      <td>0.0</td>\n      <td>1</td>\n      <td>[[-1102550.0124365697, 1939998.037659365]]</td>\n    </tr>\n    <tr>\n      <th>30</th>\n      <td>pp_0030</td>\n      <td>53250.0</td>\n      <td>36750.0</td>\n      <td>1.0</td>\n      <td>1.0</td>\n      <td>0</td>\n      <td>45</td>\n      <td>35</td>\n      <td>~    hk030    ~</td>\n      <td>hk030</td>\n      <td>...</td>\n      <td>D:\\Projects\\Watersheds\\White\\Analysis\\APEX-MODFLOW</td>\n      <td>hk0</td>\n      <td>log</td>\n      <td>factor</td>\n      <td>1.000000e-10</td>\n      <td>1.100000e+10</td>\n      <td>1.0</td>\n      <td>0.0</td>\n      <td>1</td>\n      <td>[[-1087550.0124365697, 1939998.037659365]]</td>\n    </tr>\n    <tr>\n      <th>31</th>\n      <td>pp_0031</td>\n      <td>68250.0</td>\n      <td>36750.0</td>\n      <td>1.0</td>\n      <td>1.0</td>\n      <td>0</td>\n      <td>45</td>\n      <td>45</td>\n      <td>~    hk031    ~</td>\n      <td>hk031</td>\n      <td>...</td>\n      <td>D:\\Projects\\Watersheds\\White\\Analysis\\APEX-MODFLOW</td>\n      <td>hk0</td>\n      <td>log</td>\n      <td>factor</td>\n      <td>1.000000e-10</td>\n      <td>1.100000e+10</td>\n      <td>1.0</td>\n      <td>0.0</td>\n      <td>1</td>\n      <td>[[-1072550.0124365697, 1939998.037659365]]</td>\n    </tr>\n    <tr>\n      <th>32</th>\n      <td>pp_0032</td>\n      <td>83250.0</td>\n      <td>36750.0</td>\n      <td>1.0</td>\n      <td>1.0</td>\n      <td>0</td>\n      <td>45</td>\n      <td>55</td>\n      <td>~    hk032    ~</td>\n      <td>hk032</td>\n      <td>...</td>\n      <td>D:\\Projects\\Watersheds\\White\\Analysis\\APEX-MODFLOW</td>\n      <td>hk0</td>\n      <td>log</td>\n      <td>factor</td>\n      <td>1.000000e-10</td>\n      <td>1.100000e+10</td>\n      <td>1.0</td>\n      <td>0.0</td>\n      <td>1</td>\n      <td>[[-1057550.0124365697, 1939998.037659365]]</td>\n    </tr>\n    <tr>\n      <th>33</th>\n      <td>pp_0033</td>\n      <td>98250.0</td>\n      <td>36750.0</td>\n      <td>1.0</td>\n      <td>1.0</td>\n      <td>0</td>\n      <td>45</td>\n      <td>65</td>\n      <td>~    hk033    ~</td>\n      <td>hk033</td>\n      <td>...</td>\n      <td>D:\\Projects\\Watersheds\\White\\Analysis\\APEX-MODFLOW</td>\n      <td>hk0</td>\n      <td>log</td>\n      <td>factor</td>\n      <td>1.000000e-10</td>\n      <td>1.100000e+10</td>\n      <td>1.0</td>\n      <td>0.0</td>\n      <td>1</td>\n      <td>[[-1042550.0124365697, 1939998.037659365]]</td>\n    </tr>\n    <tr>\n      <th>34</th>\n      <td>pp_0034</td>\n      <td>113250.0</td>\n      <td>36750.0</td>\n      <td>1.0</td>\n      <td>1.0</td>\n      <td>0</td>\n      <td>45</td>\n      <td>75</td>\n      <td>~    hk034    ~</td>\n      <td>hk034</td>\n      <td>...</td>\n      <td>D:\\Projects\\Watersheds\\White\\Analysis\\APEX-MODFLOW</td>\n      <td>hk0</td>\n      <td>log</td>\n      <td>factor</td>\n      <td>1.000000e-10</td>\n      <td>1.100000e+10</td>\n      <td>1.0</td>\n      <td>0.0</td>\n      <td>1</td>\n      <td>[[-1027550.0124365697, 1939998.037659365]]</td>\n    </tr>\n    <tr>\n      <th>35</th>\n      <td>pp_0035</td>\n      <td>128250.0</td>\n      <td>36750.0</td>\n      <td>1.0</td>\n      <td>1.0</td>\n      <td>0</td>\n      <td>45</td>\n      <td>85</td>\n      <td>~    hk035    ~</td>\n      <td>hk035</td>\n      <td>...</td>\n      <td>D:\\Projects\\Watersheds\\White\\Analysis\\APEX-MODFLOW</td>\n      <td>hk0</td>\n      <td>log</td>\n      <td>factor</td>\n      <td>1.000000e-10</td>\n      <td>1.100000e+10</td>\n      <td>1.0</td>\n      <td>0.0</td>\n      <td>1</td>\n      <td>[[-1012550.0124365697, 1939998.037659365]]</td>\n    </tr>\n    <tr>\n      <th>36</th>\n      <td>pp_0036</td>\n      <td>143250.0</td>\n      <td>36750.0</td>\n      <td>1.0</td>\n      <td>1.0</td>\n      <td>0</td>\n      <td>45</td>\n      <td>95</td>\n      <td>~    hk036    ~</td>\n      <td>hk036</td>\n      <td>...</td>\n      <td>D:\\Projects\\Watersheds\\White\\Analysis\\APEX-MODFLOW</td>\n      <td>hk0</td>\n      <td>log</td>\n      <td>factor</td>\n      <td>1.000000e-10</td>\n      <td>1.100000e+10</td>\n      <td>1.0</td>\n      <td>0.0</td>\n      <td>1</td>\n      <td>[[-997550.0124365697, 1939998.037659365]]</td>\n    </tr>\n    <tr>\n      <th>37</th>\n      <td>pp_0037</td>\n      <td>158250.0</td>\n      <td>36750.0</td>\n      <td>1.0</td>\n      <td>1.0</td>\n      <td>0</td>\n      <td>45</td>\n      <td>105</td>\n      <td>~    hk037    ~</td>\n      <td>hk037</td>\n      <td>...</td>\n      <td>D:\\Projects\\Watersheds\\White\\Analysis\\APEX-MODFLOW</td>\n      <td>hk0</td>\n      <td>log</td>\n      <td>factor</td>\n      <td>1.000000e-10</td>\n      <td>1.100000e+10</td>\n      <td>1.0</td>\n      <td>0.0</td>\n      <td>1</td>\n      <td>[[-982550.0124365697, 1939998.037659365]]</td>\n    </tr>\n    <tr>\n      <th>38</th>\n      <td>pp_0038</td>\n      <td>173250.0</td>\n      <td>36750.0</td>\n      <td>1.0</td>\n      <td>1.0</td>\n      <td>0</td>\n      <td>45</td>\n      <td>115</td>\n      <td>~    hk038    ~</td>\n      <td>hk038</td>\n      <td>...</td>\n      <td>D:\\Projects\\Watersheds\\White\\Analysis\\APEX-MODFLOW</td>\n      <td>hk0</td>\n      <td>log</td>\n      <td>factor</td>\n      <td>1.000000e-10</td>\n      <td>1.100000e+10</td>\n      <td>1.0</td>\n      <td>0.0</td>\n      <td>1</td>\n      <td>[[-967550.0124365697, 1939998.037659365]]</td>\n    </tr>\n    <tr>\n      <th>39</th>\n      <td>pp_0039</td>\n      <td>188250.0</td>\n      <td>36750.0</td>\n      <td>1.0</td>\n      <td>1.0</td>\n      <td>0</td>\n      <td>45</td>\n      <td>125</td>\n      <td>~    hk039    ~</td>\n      <td>hk039</td>\n      <td>...</td>\n      <td>D:\\Projects\\Watersheds\\White\\Analysis\\APEX-MODFLOW</td>\n      <td>hk0</td>\n      <td>log</td>\n      <td>factor</td>\n      <td>1.000000e-10</td>\n      <td>1.100000e+10</td>\n      <td>1.0</td>\n      <td>0.0</td>\n      <td>1</td>\n      <td>[[-952550.0124365697, 1939998.037659365]]</td>\n    </tr>\n    <tr>\n      <th>40</th>\n      <td>pp_0040</td>\n      <td>8250.0</td>\n      <td>21750.0</td>\n      <td>1.0</td>\n      <td>1.0</td>\n      <td>0</td>\n      <td>55</td>\n      <td>5</td>\n      <td>~    hk040    ~</td>\n      <td>hk040</td>\n      <td>...</td>\n      <td>D:\\Projects\\Watersheds\\White\\Analysis\\APEX-MODFLOW</td>\n      <td>hk0</td>\n      <td>log</td>\n      <td>factor</td>\n      <td>1.000000e-10</td>\n      <td>1.100000e+10</td>\n      <td>1.0</td>\n      <td>0.0</td>\n      <td>1</td>\n      <td>[[-1132550.0124365697, 1924998.037659365]]</td>\n    </tr>\n    <tr>\n      <th>41</th>\n      <td>pp_0041</td>\n      <td>23250.0</td>\n      <td>21750.0</td>\n      <td>1.0</td>\n      <td>1.0</td>\n      <td>0</td>\n      <td>55</td>\n      <td>15</td>\n      <td>~    hk041    ~</td>\n      <td>hk041</td>\n      <td>...</td>\n      <td>D:\\Projects\\Watersheds\\White\\Analysis\\APEX-MODFLOW</td>\n      <td>hk0</td>\n      <td>log</td>\n      <td>factor</td>\n      <td>1.000000e-10</td>\n      <td>1.100000e+10</td>\n      <td>1.0</td>\n      <td>0.0</td>\n      <td>1</td>\n      <td>[[-1117550.0124365697, 1924998.037659365]]</td>\n    </tr>\n    <tr>\n      <th>42</th>\n      <td>pp_0042</td>\n      <td>38250.0</td>\n      <td>21750.0</td>\n      <td>1.0</td>\n      <td>1.0</td>\n      <td>0</td>\n      <td>55</td>\n      <td>25</td>\n      <td>~    hk042    ~</td>\n      <td>hk042</td>\n      <td>...</td>\n      <td>D:\\Projects\\Watersheds\\White\\Analysis\\APEX-MODFLOW</td>\n      <td>hk0</td>\n      <td>log</td>\n      <td>factor</td>\n      <td>1.000000e-10</td>\n      <td>1.100000e+10</td>\n      <td>1.0</td>\n      <td>0.0</td>\n      <td>1</td>\n      <td>[[-1102550.0124365697, 1924998.037659365]]</td>\n    </tr>\n    <tr>\n      <th>43</th>\n      <td>pp_0043</td>\n      <td>53250.0</td>\n      <td>21750.0</td>\n      <td>1.0</td>\n      <td>1.0</td>\n      <td>0</td>\n      <td>55</td>\n      <td>35</td>\n      <td>~    hk043    ~</td>\n      <td>hk043</td>\n      <td>...</td>\n      <td>D:\\Projects\\Watersheds\\White\\Analysis\\APEX-MODFLOW</td>\n      <td>hk0</td>\n      <td>log</td>\n      <td>factor</td>\n      <td>1.000000e-10</td>\n      <td>1.100000e+10</td>\n      <td>1.0</td>\n      <td>0.0</td>\n      <td>1</td>\n      <td>[[-1087550.0124365697, 1924998.037659365]]</td>\n    </tr>\n    <tr>\n      <th>44</th>\n      <td>pp_0044</td>\n      <td>68250.0</td>\n      <td>21750.0</td>\n      <td>1.0</td>\n      <td>1.0</td>\n      <td>0</td>\n      <td>55</td>\n      <td>45</td>\n      <td>~    hk044    ~</td>\n      <td>hk044</td>\n      <td>...</td>\n      <td>D:\\Projects\\Watersheds\\White\\Analysis\\APEX-MODFLOW</td>\n      <td>hk0</td>\n      <td>log</td>\n      <td>factor</td>\n      <td>1.000000e-10</td>\n      <td>1.100000e+10</td>\n      <td>1.0</td>\n      <td>0.0</td>\n      <td>1</td>\n      <td>[[-1072550.0124365697, 1924998.037659365]]</td>\n    </tr>\n    <tr>\n      <th>45</th>\n      <td>pp_0045</td>\n      <td>83250.0</td>\n      <td>21750.0</td>\n      <td>1.0</td>\n      <td>1.0</td>\n      <td>0</td>\n      <td>55</td>\n      <td>55</td>\n      <td>~    hk045    ~</td>\n      <td>hk045</td>\n      <td>...</td>\n      <td>D:\\Projects\\Watersheds\\White\\Analysis\\APEX-MODFLOW</td>\n      <td>hk0</td>\n      <td>log</td>\n      <td>factor</td>\n      <td>1.000000e-10</td>\n      <td>1.100000e+10</td>\n      <td>1.0</td>\n      <td>0.0</td>\n      <td>1</td>\n      <td>[[-1057550.0124365697, 1924998.037659365]]</td>\n    </tr>\n    <tr>\n      <th>46</th>\n      <td>pp_0046</td>\n      <td>98250.0</td>\n      <td>21750.0</td>\n      <td>1.0</td>\n      <td>1.0</td>\n      <td>0</td>\n      <td>55</td>\n      <td>65</td>\n      <td>~    hk046    ~</td>\n      <td>hk046</td>\n      <td>...</td>\n      <td>D:\\Projects\\Watersheds\\White\\Analysis\\APEX-MODFLOW</td>\n      <td>hk0</td>\n      <td>log</td>\n      <td>factor</td>\n      <td>1.000000e-10</td>\n      <td>1.100000e+10</td>\n      <td>1.0</td>\n      <td>0.0</td>\n      <td>1</td>\n      <td>[[-1042550.0124365697, 1924998.037659365]]</td>\n    </tr>\n    <tr>\n      <th>47</th>\n      <td>pp_0047</td>\n      <td>113250.0</td>\n      <td>21750.0</td>\n      <td>1.0</td>\n      <td>1.0</td>\n      <td>0</td>\n      <td>55</td>\n      <td>75</td>\n      <td>~    hk047    ~</td>\n      <td>hk047</td>\n      <td>...</td>\n      <td>D:\\Projects\\Watersheds\\White\\Analysis\\APEX-MODFLOW</td>\n      <td>hk0</td>\n      <td>log</td>\n      <td>factor</td>\n      <td>1.000000e-10</td>\n      <td>1.100000e+10</td>\n      <td>1.0</td>\n      <td>0.0</td>\n      <td>1</td>\n      <td>[[-1027550.0124365697, 1924998.037659365]]</td>\n    </tr>\n    <tr>\n      <th>48</th>\n      <td>pp_0048</td>\n      <td>128250.0</td>\n      <td>21750.0</td>\n      <td>1.0</td>\n      <td>1.0</td>\n      <td>0</td>\n      <td>55</td>\n      <td>85</td>\n      <td>~    hk048    ~</td>\n      <td>hk048</td>\n      <td>...</td>\n      <td>D:\\Projects\\Watersheds\\White\\Analysis\\APEX-MODFLOW</td>\n      <td>hk0</td>\n      <td>log</td>\n      <td>factor</td>\n      <td>1.000000e-10</td>\n      <td>1.100000e+10</td>\n      <td>1.0</td>\n      <td>0.0</td>\n      <td>1</td>\n      <td>[[-1012550.0124365697, 1924998.037659365]]</td>\n    </tr>\n    <tr>\n      <th>49</th>\n      <td>pp_0049</td>\n      <td>173250.0</td>\n      <td>21750.0</td>\n      <td>1.0</td>\n      <td>1.0</td>\n      <td>0</td>\n      <td>55</td>\n      <td>115</td>\n      <td>~    hk049    ~</td>\n      <td>hk049</td>\n      <td>...</td>\n      <td>D:\\Projects\\Watersheds\\White\\Analysis\\APEX-MODFLOW</td>\n      <td>hk0</td>\n      <td>log</td>\n      <td>factor</td>\n      <td>1.000000e-10</td>\n      <td>1.100000e+10</td>\n      <td>1.0</td>\n      <td>0.0</td>\n      <td>1</td>\n      <td>[[-967550.0124365697, 1924998.037659365]]</td>\n    </tr>\n  </tbody>\n</table>\n<p>50 rows × 21 columns</p>\n</div>"
     },
     "metadata": {},
     "execution_count": 156
    }
   ],
   "source": [
    "pp_df"
   ]
  },
  {
   "cell_type": "markdown",
   "metadata": {},
   "source": [
    "So cool, we now defined pilot points as a set of spatially distributed parameters...but how do go from pilot points to the model input HK array? Answer: geostatistics.  We need to calculate the geostatistical factors (weights) used to form the interpolated value for the HK value at each model cell - its a spatially-weighted combination of pilot point values"
   ]
  },
  {
   "cell_type": "markdown",
   "metadata": {},
   "source": [
    "# <span style=\"color:blue\">2. Geostatistics</span>"
   ]
  },
  {
   "cell_type": "markdown",
   "metadata": {},
   "source": [
    "## Need to create Kriging factors and regularization inputs\n",
    "Following the guidelines in _Approaches to Highly Parameterized Inversion: Pilot-Point Theory, Guidelines, and Research Directions_ https://pubs.usgs.gov/sir/2010/5168/"
   ]
  },
  {
   "cell_type": "markdown",
   "metadata": {},
   "source": [
    "### First we need to define a couple geostatistical structures (e.g. variograms)\n",
    "\n",
    "From _PEST Groundwater Data Utilities Part A: Overview_ page 43, there are 4 acceptable variogram types:\n",
    "\n",
    " 1. *Spherical*  \n",
    "### $\\gamma\\left(h\\right)=c\\times\\left[1.5\\frac{h}{a}-0.5\\frac{h}{a}^3\\right]$ if $h<a$\n",
    "### $\\gamma\\left(h\\right)=c$ if $h \\ge a$  \n",
    "     \n",
    " 2. *Exponential*  \n",
    "### $\\gamma\\left(h\\right)=c\\times\\left[1-\\exp\\left(-\\frac{h}{a}\\right)\\right]$  \n",
    "     \n",
    " 3. *Gaussian*  \n",
    "### $\\gamma\\left(h\\right)=c\\times\\left[1-\\exp\\left(-\\frac{h^2}{a^2}\\right)\\right]$  \n",
    " \n",
    " 4. *Power*  \n",
    "### $\\gamma\\left(h\\right)=c\\times h^a$\n",
    "     \n",
    " The number refers to `VARTYPE`. `BEARING` and `ANISOTROPY` only apply if there is a principal direction of anisotropy. $h$ is the separation distance, and $a$ is the range, expressed with the `A` parameter.\n"
   ]
  },
  {
   "cell_type": "markdown",
   "metadata": {},
   "source": [
    "### First, let's create ``variogram`` and ``GeoStruct`` objects.  \n",
    "\n",
    "These describe how HK varies spatailly, remember?"
   ]
  },
  {
   "cell_type": "code",
   "execution_count": 157,
   "metadata": {},
   "outputs": [
    {
     "output_type": "display_data",
     "data": {
      "text/plain": "<Figure size 432x288 with 1 Axes>",
      "image/svg+xml": "<?xml version=\"1.0\" encoding=\"utf-8\" standalone=\"no\"?>\r\n<!DOCTYPE svg PUBLIC \"-//W3C//DTD SVG 1.1//EN\"\r\n  \"http://www.w3.org/Graphics/SVG/1.1/DTD/svg11.dtd\">\r\n<!-- Created with matplotlib (https://matplotlib.org/) -->\r\n<svg height=\"254.45375pt\" version=\"1.1\" viewBox=\"0 0 377.459375 254.45375\" width=\"377.459375pt\" xmlns=\"http://www.w3.org/2000/svg\" xmlns:xlink=\"http://www.w3.org/1999/xlink\">\r\n <metadata>\r\n  <rdf:RDF xmlns:cc=\"http://creativecommons.org/ns#\" xmlns:dc=\"http://purl.org/dc/elements/1.1/\" xmlns:rdf=\"http://www.w3.org/1999/02/22-rdf-syntax-ns#\">\r\n   <cc:Work>\r\n    <dc:type rdf:resource=\"http://purl.org/dc/dcmitype/StillImage\"/>\r\n    <dc:date>2021-01-23T17:39:53.636760</dc:date>\r\n    <dc:format>image/svg+xml</dc:format>\r\n    <dc:creator>\r\n     <cc:Agent>\r\n      <dc:title>Matplotlib v3.3.0, https://matplotlib.org/</dc:title>\r\n     </cc:Agent>\r\n    </dc:creator>\r\n   </cc:Work>\r\n  </rdf:RDF>\r\n </metadata>\r\n <defs>\r\n  <style type=\"text/css\">*{stroke-linecap:butt;stroke-linejoin:round;}</style>\r\n </defs>\r\n <g id=\"figure_1\">\r\n  <g id=\"patch_1\">\r\n   <path d=\"M 0 254.45375 \r\nL 377.459375 254.45375 \r\nL 377.459375 0 \r\nL 0 0 \r\nz\r\n\" style=\"fill:none;\"/>\r\n  </g>\r\n  <g id=\"axes_1\">\r\n   <g id=\"patch_2\">\r\n    <path d=\"M 35.459375 224.64 \r\nL 370.259375 224.64 \r\nL 370.259375 7.2 \r\nL 35.459375 7.2 \r\nz\r\n\" style=\"fill:#ffffff;\"/>\r\n   </g>\r\n   <g id=\"matplotlib.axis_1\">\r\n    <g id=\"xtick_1\">\r\n     <g id=\"line2d_1\">\r\n      <path clip-path=\"url(#pedabeb2c20)\" d=\"M 50.677557 224.64 \r\nL 50.677557 7.2 \r\n\" style=\"fill:none;stroke:#b0b0b0;stroke-linecap:square;stroke-width:0.8;\"/>\r\n     </g>\r\n     <g id=\"line2d_2\">\r\n      <defs>\r\n       <path d=\"M 0 0 \r\nL 0 3.5 \r\n\" id=\"mc6260b2227\" style=\"stroke:#000000;stroke-width:0.8;\"/>\r\n      </defs>\r\n      <g>\r\n       <use style=\"stroke:#000000;stroke-width:0.8;\" x=\"50.677557\" xlink:href=\"#mc6260b2227\" y=\"224.64\"/>\r\n      </g>\r\n     </g>\r\n     <g id=\"text_1\">\r\n      <!-- 0 -->\r\n      <g transform=\"translate(48.768807 236.199062)scale(0.06 -0.06)\">\r\n       <defs>\r\n        <path d=\"M 31.78125 66.40625 \r\nQ 24.171875 66.40625 20.328125 58.90625 \r\nQ 16.5 51.421875 16.5 36.375 \r\nQ 16.5 21.390625 20.328125 13.890625 \r\nQ 24.171875 6.390625 31.78125 6.390625 \r\nQ 39.453125 6.390625 43.28125 13.890625 \r\nQ 47.125 21.390625 47.125 36.375 \r\nQ 47.125 51.421875 43.28125 58.90625 \r\nQ 39.453125 66.40625 31.78125 66.40625 \r\nz\r\nM 31.78125 74.21875 \r\nQ 44.046875 74.21875 50.515625 64.515625 \r\nQ 56.984375 54.828125 56.984375 36.375 \r\nQ 56.984375 17.96875 50.515625 8.265625 \r\nQ 44.046875 -1.421875 31.78125 -1.421875 \r\nQ 19.53125 -1.421875 13.0625 8.265625 \r\nQ 6.59375 17.96875 6.59375 36.375 \r\nQ 6.59375 54.828125 13.0625 64.515625 \r\nQ 19.53125 74.21875 31.78125 74.21875 \r\nz\r\n\" id=\"DejaVuSans-48\"/>\r\n       </defs>\r\n       <use xlink:href=\"#DejaVuSans-48\"/>\r\n      </g>\r\n     </g>\r\n    </g>\r\n    <g id=\"xtick_2\">\r\n     <g id=\"line2d_3\">\r\n      <path clip-path=\"url(#pedabeb2c20)\" d=\"M 118.31392 224.64 \r\nL 118.31392 7.2 \r\n\" style=\"fill:none;stroke:#b0b0b0;stroke-linecap:square;stroke-width:0.8;\"/>\r\n     </g>\r\n     <g id=\"line2d_4\">\r\n      <g>\r\n       <use style=\"stroke:#000000;stroke-width:0.8;\" x=\"118.31392\" xlink:href=\"#mc6260b2227\" y=\"224.64\"/>\r\n      </g>\r\n     </g>\r\n     <g id=\"text_2\">\r\n      <!-- 20000 -->\r\n      <g transform=\"translate(108.77017 236.199062)scale(0.06 -0.06)\">\r\n       <defs>\r\n        <path d=\"M 19.1875 8.296875 \r\nL 53.609375 8.296875 \r\nL 53.609375 0 \r\nL 7.328125 0 \r\nL 7.328125 8.296875 \r\nQ 12.9375 14.109375 22.625 23.890625 \r\nQ 32.328125 33.6875 34.8125 36.53125 \r\nQ 39.546875 41.84375 41.421875 45.53125 \r\nQ 43.3125 49.21875 43.3125 52.78125 \r\nQ 43.3125 58.59375 39.234375 62.25 \r\nQ 35.15625 65.921875 28.609375 65.921875 \r\nQ 23.96875 65.921875 18.8125 64.3125 \r\nQ 13.671875 62.703125 7.8125 59.421875 \r\nL 7.8125 69.390625 \r\nQ 13.765625 71.78125 18.9375 73 \r\nQ 24.125 74.21875 28.421875 74.21875 \r\nQ 39.75 74.21875 46.484375 68.546875 \r\nQ 53.21875 62.890625 53.21875 53.421875 \r\nQ 53.21875 48.921875 51.53125 44.890625 \r\nQ 49.859375 40.875 45.40625 35.40625 \r\nQ 44.1875 33.984375 37.640625 27.21875 \r\nQ 31.109375 20.453125 19.1875 8.296875 \r\nz\r\n\" id=\"DejaVuSans-50\"/>\r\n       </defs>\r\n       <use xlink:href=\"#DejaVuSans-50\"/>\r\n       <use x=\"63.623047\" xlink:href=\"#DejaVuSans-48\"/>\r\n       <use x=\"127.246094\" xlink:href=\"#DejaVuSans-48\"/>\r\n       <use x=\"190.869141\" xlink:href=\"#DejaVuSans-48\"/>\r\n       <use x=\"254.492188\" xlink:href=\"#DejaVuSans-48\"/>\r\n      </g>\r\n     </g>\r\n    </g>\r\n    <g id=\"xtick_3\">\r\n     <g id=\"line2d_5\">\r\n      <path clip-path=\"url(#pedabeb2c20)\" d=\"M 185.950284 224.64 \r\nL 185.950284 7.2 \r\n\" style=\"fill:none;stroke:#b0b0b0;stroke-linecap:square;stroke-width:0.8;\"/>\r\n     </g>\r\n     <g id=\"line2d_6\">\r\n      <g>\r\n       <use style=\"stroke:#000000;stroke-width:0.8;\" x=\"185.950284\" xlink:href=\"#mc6260b2227\" y=\"224.64\"/>\r\n      </g>\r\n     </g>\r\n     <g id=\"text_3\">\r\n      <!-- 40000 -->\r\n      <g transform=\"translate(176.406534 236.199062)scale(0.06 -0.06)\">\r\n       <defs>\r\n        <path d=\"M 37.796875 64.3125 \r\nL 12.890625 25.390625 \r\nL 37.796875 25.390625 \r\nz\r\nM 35.203125 72.90625 \r\nL 47.609375 72.90625 \r\nL 47.609375 25.390625 \r\nL 58.015625 25.390625 \r\nL 58.015625 17.1875 \r\nL 47.609375 17.1875 \r\nL 47.609375 0 \r\nL 37.796875 0 \r\nL 37.796875 17.1875 \r\nL 4.890625 17.1875 \r\nL 4.890625 26.703125 \r\nz\r\n\" id=\"DejaVuSans-52\"/>\r\n       </defs>\r\n       <use xlink:href=\"#DejaVuSans-52\"/>\r\n       <use x=\"63.623047\" xlink:href=\"#DejaVuSans-48\"/>\r\n       <use x=\"127.246094\" xlink:href=\"#DejaVuSans-48\"/>\r\n       <use x=\"190.869141\" xlink:href=\"#DejaVuSans-48\"/>\r\n       <use x=\"254.492188\" xlink:href=\"#DejaVuSans-48\"/>\r\n      </g>\r\n     </g>\r\n    </g>\r\n    <g id=\"xtick_4\">\r\n     <g id=\"line2d_7\">\r\n      <path clip-path=\"url(#pedabeb2c20)\" d=\"M 253.586648 224.64 \r\nL 253.586648 7.2 \r\n\" style=\"fill:none;stroke:#b0b0b0;stroke-linecap:square;stroke-width:0.8;\"/>\r\n     </g>\r\n     <g id=\"line2d_8\">\r\n      <g>\r\n       <use style=\"stroke:#000000;stroke-width:0.8;\" x=\"253.586648\" xlink:href=\"#mc6260b2227\" y=\"224.64\"/>\r\n      </g>\r\n     </g>\r\n     <g id=\"text_4\">\r\n      <!-- 60000 -->\r\n      <g transform=\"translate(244.042898 236.199062)scale(0.06 -0.06)\">\r\n       <defs>\r\n        <path d=\"M 33.015625 40.375 \r\nQ 26.375 40.375 22.484375 35.828125 \r\nQ 18.609375 31.296875 18.609375 23.390625 \r\nQ 18.609375 15.53125 22.484375 10.953125 \r\nQ 26.375 6.390625 33.015625 6.390625 \r\nQ 39.65625 6.390625 43.53125 10.953125 \r\nQ 47.40625 15.53125 47.40625 23.390625 \r\nQ 47.40625 31.296875 43.53125 35.828125 \r\nQ 39.65625 40.375 33.015625 40.375 \r\nz\r\nM 52.59375 71.296875 \r\nL 52.59375 62.3125 \r\nQ 48.875 64.0625 45.09375 64.984375 \r\nQ 41.3125 65.921875 37.59375 65.921875 \r\nQ 27.828125 65.921875 22.671875 59.328125 \r\nQ 17.53125 52.734375 16.796875 39.40625 \r\nQ 19.671875 43.65625 24.015625 45.921875 \r\nQ 28.375 48.1875 33.59375 48.1875 \r\nQ 44.578125 48.1875 50.953125 41.515625 \r\nQ 57.328125 34.859375 57.328125 23.390625 \r\nQ 57.328125 12.15625 50.6875 5.359375 \r\nQ 44.046875 -1.421875 33.015625 -1.421875 \r\nQ 20.359375 -1.421875 13.671875 8.265625 \r\nQ 6.984375 17.96875 6.984375 36.375 \r\nQ 6.984375 53.65625 15.1875 63.9375 \r\nQ 23.390625 74.21875 37.203125 74.21875 \r\nQ 40.921875 74.21875 44.703125 73.484375 \r\nQ 48.484375 72.75 52.59375 71.296875 \r\nz\r\n\" id=\"DejaVuSans-54\"/>\r\n       </defs>\r\n       <use xlink:href=\"#DejaVuSans-54\"/>\r\n       <use x=\"63.623047\" xlink:href=\"#DejaVuSans-48\"/>\r\n       <use x=\"127.246094\" xlink:href=\"#DejaVuSans-48\"/>\r\n       <use x=\"190.869141\" xlink:href=\"#DejaVuSans-48\"/>\r\n       <use x=\"254.492188\" xlink:href=\"#DejaVuSans-48\"/>\r\n      </g>\r\n     </g>\r\n    </g>\r\n    <g id=\"xtick_5\">\r\n     <g id=\"line2d_9\">\r\n      <path clip-path=\"url(#pedabeb2c20)\" d=\"M 321.223011 224.64 \r\nL 321.223011 7.2 \r\n\" style=\"fill:none;stroke:#b0b0b0;stroke-linecap:square;stroke-width:0.8;\"/>\r\n     </g>\r\n     <g id=\"line2d_10\">\r\n      <g>\r\n       <use style=\"stroke:#000000;stroke-width:0.8;\" x=\"321.223011\" xlink:href=\"#mc6260b2227\" y=\"224.64\"/>\r\n      </g>\r\n     </g>\r\n     <g id=\"text_5\">\r\n      <!-- 80000 -->\r\n      <g transform=\"translate(311.679261 236.199062)scale(0.06 -0.06)\">\r\n       <defs>\r\n        <path d=\"M 31.78125 34.625 \r\nQ 24.75 34.625 20.71875 30.859375 \r\nQ 16.703125 27.09375 16.703125 20.515625 \r\nQ 16.703125 13.921875 20.71875 10.15625 \r\nQ 24.75 6.390625 31.78125 6.390625 \r\nQ 38.8125 6.390625 42.859375 10.171875 \r\nQ 46.921875 13.96875 46.921875 20.515625 \r\nQ 46.921875 27.09375 42.890625 30.859375 \r\nQ 38.875 34.625 31.78125 34.625 \r\nz\r\nM 21.921875 38.8125 \r\nQ 15.578125 40.375 12.03125 44.71875 \r\nQ 8.5 49.078125 8.5 55.328125 \r\nQ 8.5 64.0625 14.71875 69.140625 \r\nQ 20.953125 74.21875 31.78125 74.21875 \r\nQ 42.671875 74.21875 48.875 69.140625 \r\nQ 55.078125 64.0625 55.078125 55.328125 \r\nQ 55.078125 49.078125 51.53125 44.71875 \r\nQ 48 40.375 41.703125 38.8125 \r\nQ 48.828125 37.15625 52.796875 32.3125 \r\nQ 56.78125 27.484375 56.78125 20.515625 \r\nQ 56.78125 9.90625 50.3125 4.234375 \r\nQ 43.84375 -1.421875 31.78125 -1.421875 \r\nQ 19.734375 -1.421875 13.25 4.234375 \r\nQ 6.78125 9.90625 6.78125 20.515625 \r\nQ 6.78125 27.484375 10.78125 32.3125 \r\nQ 14.796875 37.15625 21.921875 38.8125 \r\nz\r\nM 18.3125 54.390625 \r\nQ 18.3125 48.734375 21.84375 45.5625 \r\nQ 25.390625 42.390625 31.78125 42.390625 \r\nQ 38.140625 42.390625 41.71875 45.5625 \r\nQ 45.3125 48.734375 45.3125 54.390625 \r\nQ 45.3125 60.0625 41.71875 63.234375 \r\nQ 38.140625 66.40625 31.78125 66.40625 \r\nQ 25.390625 66.40625 21.84375 63.234375 \r\nQ 18.3125 60.0625 18.3125 54.390625 \r\nz\r\n\" id=\"DejaVuSans-56\"/>\r\n       </defs>\r\n       <use xlink:href=\"#DejaVuSans-56\"/>\r\n       <use x=\"63.623047\" xlink:href=\"#DejaVuSans-48\"/>\r\n       <use x=\"127.246094\" xlink:href=\"#DejaVuSans-48\"/>\r\n       <use x=\"190.869141\" xlink:href=\"#DejaVuSans-48\"/>\r\n       <use x=\"254.492188\" xlink:href=\"#DejaVuSans-48\"/>\r\n      </g>\r\n     </g>\r\n    </g>\r\n    <g id=\"text_6\">\r\n     <!-- distance -->\r\n     <g transform=\"translate(190.147344 246.005937)scale(0.06 -0.06)\">\r\n      <defs>\r\n       <path d=\"M 45.40625 46.390625 \r\nL 45.40625 75.984375 \r\nL 54.390625 75.984375 \r\nL 54.390625 0 \r\nL 45.40625 0 \r\nL 45.40625 8.203125 \r\nQ 42.578125 3.328125 38.25 0.953125 \r\nQ 33.9375 -1.421875 27.875 -1.421875 \r\nQ 17.96875 -1.421875 11.734375 6.484375 \r\nQ 5.515625 14.40625 5.515625 27.296875 \r\nQ 5.515625 40.1875 11.734375 48.09375 \r\nQ 17.96875 56 27.875 56 \r\nQ 33.9375 56 38.25 53.625 \r\nQ 42.578125 51.265625 45.40625 46.390625 \r\nz\r\nM 14.796875 27.296875 \r\nQ 14.796875 17.390625 18.875 11.75 \r\nQ 22.953125 6.109375 30.078125 6.109375 \r\nQ 37.203125 6.109375 41.296875 11.75 \r\nQ 45.40625 17.390625 45.40625 27.296875 \r\nQ 45.40625 37.203125 41.296875 42.84375 \r\nQ 37.203125 48.484375 30.078125 48.484375 \r\nQ 22.953125 48.484375 18.875 42.84375 \r\nQ 14.796875 37.203125 14.796875 27.296875 \r\nz\r\n\" id=\"DejaVuSans-100\"/>\r\n       <path d=\"M 9.421875 54.6875 \r\nL 18.40625 54.6875 \r\nL 18.40625 0 \r\nL 9.421875 0 \r\nz\r\nM 9.421875 75.984375 \r\nL 18.40625 75.984375 \r\nL 18.40625 64.59375 \r\nL 9.421875 64.59375 \r\nz\r\n\" id=\"DejaVuSans-105\"/>\r\n       <path d=\"M 44.28125 53.078125 \r\nL 44.28125 44.578125 \r\nQ 40.484375 46.53125 36.375 47.5 \r\nQ 32.28125 48.484375 27.875 48.484375 \r\nQ 21.1875 48.484375 17.84375 46.4375 \r\nQ 14.5 44.390625 14.5 40.28125 \r\nQ 14.5 37.15625 16.890625 35.375 \r\nQ 19.28125 33.59375 26.515625 31.984375 \r\nL 29.59375 31.296875 \r\nQ 39.15625 29.25 43.1875 25.515625 \r\nQ 47.21875 21.78125 47.21875 15.09375 \r\nQ 47.21875 7.46875 41.1875 3.015625 \r\nQ 35.15625 -1.421875 24.609375 -1.421875 \r\nQ 20.21875 -1.421875 15.453125 -0.5625 \r\nQ 10.6875 0.296875 5.421875 2 \r\nL 5.421875 11.28125 \r\nQ 10.40625 8.6875 15.234375 7.390625 \r\nQ 20.0625 6.109375 24.8125 6.109375 \r\nQ 31.15625 6.109375 34.5625 8.28125 \r\nQ 37.984375 10.453125 37.984375 14.40625 \r\nQ 37.984375 18.0625 35.515625 20.015625 \r\nQ 33.0625 21.96875 24.703125 23.78125 \r\nL 21.578125 24.515625 \r\nQ 13.234375 26.265625 9.515625 29.90625 \r\nQ 5.8125 33.546875 5.8125 39.890625 \r\nQ 5.8125 47.609375 11.28125 51.796875 \r\nQ 16.75 56 26.8125 56 \r\nQ 31.78125 56 36.171875 55.265625 \r\nQ 40.578125 54.546875 44.28125 53.078125 \r\nz\r\n\" id=\"DejaVuSans-115\"/>\r\n       <path d=\"M 18.3125 70.21875 \r\nL 18.3125 54.6875 \r\nL 36.8125 54.6875 \r\nL 36.8125 47.703125 \r\nL 18.3125 47.703125 \r\nL 18.3125 18.015625 \r\nQ 18.3125 11.328125 20.140625 9.421875 \r\nQ 21.96875 7.515625 27.59375 7.515625 \r\nL 36.8125 7.515625 \r\nL 36.8125 0 \r\nL 27.59375 0 \r\nQ 17.1875 0 13.234375 3.875 \r\nQ 9.28125 7.765625 9.28125 18.015625 \r\nL 9.28125 47.703125 \r\nL 2.6875 47.703125 \r\nL 2.6875 54.6875 \r\nL 9.28125 54.6875 \r\nL 9.28125 70.21875 \r\nz\r\n\" id=\"DejaVuSans-116\"/>\r\n       <path d=\"M 34.28125 27.484375 \r\nQ 23.390625 27.484375 19.1875 25 \r\nQ 14.984375 22.515625 14.984375 16.5 \r\nQ 14.984375 11.71875 18.140625 8.90625 \r\nQ 21.296875 6.109375 26.703125 6.109375 \r\nQ 34.1875 6.109375 38.703125 11.40625 \r\nQ 43.21875 16.703125 43.21875 25.484375 \r\nL 43.21875 27.484375 \r\nz\r\nM 52.203125 31.203125 \r\nL 52.203125 0 \r\nL 43.21875 0 \r\nL 43.21875 8.296875 \r\nQ 40.140625 3.328125 35.546875 0.953125 \r\nQ 30.953125 -1.421875 24.3125 -1.421875 \r\nQ 15.921875 -1.421875 10.953125 3.296875 \r\nQ 6 8.015625 6 15.921875 \r\nQ 6 25.140625 12.171875 29.828125 \r\nQ 18.359375 34.515625 30.609375 34.515625 \r\nL 43.21875 34.515625 \r\nL 43.21875 35.40625 \r\nQ 43.21875 41.609375 39.140625 45 \r\nQ 35.0625 48.390625 27.6875 48.390625 \r\nQ 23 48.390625 18.546875 47.265625 \r\nQ 14.109375 46.140625 10.015625 43.890625 \r\nL 10.015625 52.203125 \r\nQ 14.9375 54.109375 19.578125 55.046875 \r\nQ 24.21875 56 28.609375 56 \r\nQ 40.484375 56 46.34375 49.84375 \r\nQ 52.203125 43.703125 52.203125 31.203125 \r\nz\r\n\" id=\"DejaVuSans-97\"/>\r\n       <path d=\"M 54.890625 33.015625 \r\nL 54.890625 0 \r\nL 45.90625 0 \r\nL 45.90625 32.71875 \r\nQ 45.90625 40.484375 42.875 44.328125 \r\nQ 39.84375 48.1875 33.796875 48.1875 \r\nQ 26.515625 48.1875 22.3125 43.546875 \r\nQ 18.109375 38.921875 18.109375 30.90625 \r\nL 18.109375 0 \r\nL 9.078125 0 \r\nL 9.078125 54.6875 \r\nL 18.109375 54.6875 \r\nL 18.109375 46.1875 \r\nQ 21.34375 51.125 25.703125 53.5625 \r\nQ 30.078125 56 35.796875 56 \r\nQ 45.21875 56 50.046875 50.171875 \r\nQ 54.890625 44.34375 54.890625 33.015625 \r\nz\r\n\" id=\"DejaVuSans-110\"/>\r\n       <path d=\"M 48.78125 52.59375 \r\nL 48.78125 44.1875 \r\nQ 44.96875 46.296875 41.140625 47.34375 \r\nQ 37.3125 48.390625 33.40625 48.390625 \r\nQ 24.65625 48.390625 19.8125 42.84375 \r\nQ 14.984375 37.3125 14.984375 27.296875 \r\nQ 14.984375 17.28125 19.8125 11.734375 \r\nQ 24.65625 6.203125 33.40625 6.203125 \r\nQ 37.3125 6.203125 41.140625 7.25 \r\nQ 44.96875 8.296875 48.78125 10.40625 \r\nL 48.78125 2.09375 \r\nQ 45.015625 0.34375 40.984375 -0.53125 \r\nQ 36.96875 -1.421875 32.421875 -1.421875 \r\nQ 20.0625 -1.421875 12.78125 6.34375 \r\nQ 5.515625 14.109375 5.515625 27.296875 \r\nQ 5.515625 40.671875 12.859375 48.328125 \r\nQ 20.21875 56 33.015625 56 \r\nQ 37.15625 56 41.109375 55.140625 \r\nQ 45.0625 54.296875 48.78125 52.59375 \r\nz\r\n\" id=\"DejaVuSans-99\"/>\r\n       <path d=\"M 56.203125 29.59375 \r\nL 56.203125 25.203125 \r\nL 14.890625 25.203125 \r\nQ 15.484375 15.921875 20.484375 11.0625 \r\nQ 25.484375 6.203125 34.421875 6.203125 \r\nQ 39.59375 6.203125 44.453125 7.46875 \r\nQ 49.3125 8.734375 54.109375 11.28125 \r\nL 54.109375 2.78125 \r\nQ 49.265625 0.734375 44.1875 -0.34375 \r\nQ 39.109375 -1.421875 33.890625 -1.421875 \r\nQ 20.796875 -1.421875 13.15625 6.1875 \r\nQ 5.515625 13.8125 5.515625 26.8125 \r\nQ 5.515625 40.234375 12.765625 48.109375 \r\nQ 20.015625 56 32.328125 56 \r\nQ 43.359375 56 49.78125 48.890625 \r\nQ 56.203125 41.796875 56.203125 29.59375 \r\nz\r\nM 47.21875 32.234375 \r\nQ 47.125 39.59375 43.09375 43.984375 \r\nQ 39.0625 48.390625 32.421875 48.390625 \r\nQ 24.90625 48.390625 20.390625 44.140625 \r\nQ 15.875 39.890625 15.1875 32.171875 \r\nz\r\n\" id=\"DejaVuSans-101\"/>\r\n      </defs>\r\n      <use xlink:href=\"#DejaVuSans-100\"/>\r\n      <use x=\"63.476562\" xlink:href=\"#DejaVuSans-105\"/>\r\n      <use x=\"91.259766\" xlink:href=\"#DejaVuSans-115\"/>\r\n      <use x=\"143.359375\" xlink:href=\"#DejaVuSans-116\"/>\r\n      <use x=\"182.568359\" xlink:href=\"#DejaVuSans-97\"/>\r\n      <use x=\"243.847656\" xlink:href=\"#DejaVuSans-110\"/>\r\n      <use x=\"307.226562\" xlink:href=\"#DejaVuSans-99\"/>\r\n      <use x=\"362.207031\" xlink:href=\"#DejaVuSans-101\"/>\r\n     </g>\r\n    </g>\r\n   </g>\r\n   <g id=\"matplotlib.axis_2\">\r\n    <g id=\"ytick_1\">\r\n     <g id=\"line2d_11\">\r\n      <path clip-path=\"url(#pedabeb2c20)\" d=\"M 35.459375 214.756364 \r\nL 370.259375 214.756364 \r\n\" style=\"fill:none;stroke:#b0b0b0;stroke-linecap:square;stroke-width:0.8;\"/>\r\n     </g>\r\n     <g id=\"line2d_12\">\r\n      <defs>\r\n       <path d=\"M 0 0 \r\nL -3.5 0 \r\n\" id=\"m851efad028\" style=\"stroke:#000000;stroke-width:0.8;\"/>\r\n      </defs>\r\n      <g>\r\n       <use style=\"stroke:#000000;stroke-width:0.8;\" x=\"35.459375\" xlink:href=\"#m851efad028\" y=\"214.756364\"/>\r\n      </g>\r\n     </g>\r\n     <g id=\"text_7\">\r\n      <!-- 0 -->\r\n      <g transform=\"translate(24.641875 217.035895)scale(0.06 -0.06)\">\r\n       <use xlink:href=\"#DejaVuSans-48\"/>\r\n      </g>\r\n     </g>\r\n    </g>\r\n    <g id=\"ytick_2\">\r\n     <g id=\"line2d_13\">\r\n      <path clip-path=\"url(#pedabeb2c20)\" d=\"M 35.459375 180.084709 \r\nL 370.259375 180.084709 \r\n\" style=\"fill:none;stroke:#b0b0b0;stroke-linecap:square;stroke-width:0.8;\"/>\r\n     </g>\r\n     <g id=\"line2d_14\">\r\n      <g>\r\n       <use style=\"stroke:#000000;stroke-width:0.8;\" x=\"35.459375\" xlink:href=\"#m851efad028\" y=\"180.084709\"/>\r\n      </g>\r\n     </g>\r\n     <g id=\"text_8\">\r\n      <!-- 50 -->\r\n      <g transform=\"translate(20.824375 182.36424)scale(0.06 -0.06)\">\r\n       <defs>\r\n        <path d=\"M 10.796875 72.90625 \r\nL 49.515625 72.90625 \r\nL 49.515625 64.59375 \r\nL 19.828125 64.59375 \r\nL 19.828125 46.734375 \r\nQ 21.96875 47.46875 24.109375 47.828125 \r\nQ 26.265625 48.1875 28.421875 48.1875 \r\nQ 40.625 48.1875 47.75 41.5 \r\nQ 54.890625 34.8125 54.890625 23.390625 \r\nQ 54.890625 11.625 47.5625 5.09375 \r\nQ 40.234375 -1.421875 26.90625 -1.421875 \r\nQ 22.3125 -1.421875 17.546875 -0.640625 \r\nQ 12.796875 0.140625 7.71875 1.703125 \r\nL 7.71875 11.625 \r\nQ 12.109375 9.234375 16.796875 8.0625 \r\nQ 21.484375 6.890625 26.703125 6.890625 \r\nQ 35.15625 6.890625 40.078125 11.328125 \r\nQ 45.015625 15.765625 45.015625 23.390625 \r\nQ 45.015625 31 40.078125 35.4375 \r\nQ 35.15625 39.890625 26.703125 39.890625 \r\nQ 22.75 39.890625 18.8125 39.015625 \r\nQ 14.890625 38.140625 10.796875 36.28125 \r\nz\r\n\" id=\"DejaVuSans-53\"/>\r\n       </defs>\r\n       <use xlink:href=\"#DejaVuSans-53\"/>\r\n       <use x=\"63.623047\" xlink:href=\"#DejaVuSans-48\"/>\r\n      </g>\r\n     </g>\r\n    </g>\r\n    <g id=\"ytick_3\">\r\n     <g id=\"line2d_15\">\r\n      <path clip-path=\"url(#pedabeb2c20)\" d=\"M 35.459375 145.413054 \r\nL 370.259375 145.413054 \r\n\" style=\"fill:none;stroke:#b0b0b0;stroke-linecap:square;stroke-width:0.8;\"/>\r\n     </g>\r\n     <g id=\"line2d_16\">\r\n      <g>\r\n       <use style=\"stroke:#000000;stroke-width:0.8;\" x=\"35.459375\" xlink:href=\"#m851efad028\" y=\"145.413054\"/>\r\n      </g>\r\n     </g>\r\n     <g id=\"text_9\">\r\n      <!-- 100 -->\r\n      <g transform=\"translate(17.006875 147.692586)scale(0.06 -0.06)\">\r\n       <defs>\r\n        <path d=\"M 12.40625 8.296875 \r\nL 28.515625 8.296875 \r\nL 28.515625 63.921875 \r\nL 10.984375 60.40625 \r\nL 10.984375 69.390625 \r\nL 28.421875 72.90625 \r\nL 38.28125 72.90625 \r\nL 38.28125 8.296875 \r\nL 54.390625 8.296875 \r\nL 54.390625 0 \r\nL 12.40625 0 \r\nz\r\n\" id=\"DejaVuSans-49\"/>\r\n       </defs>\r\n       <use xlink:href=\"#DejaVuSans-49\"/>\r\n       <use x=\"63.623047\" xlink:href=\"#DejaVuSans-48\"/>\r\n       <use x=\"127.246094\" xlink:href=\"#DejaVuSans-48\"/>\r\n      </g>\r\n     </g>\r\n    </g>\r\n    <g id=\"ytick_4\">\r\n     <g id=\"line2d_17\">\r\n      <path clip-path=\"url(#pedabeb2c20)\" d=\"M 35.459375 110.7414 \r\nL 370.259375 110.7414 \r\n\" style=\"fill:none;stroke:#b0b0b0;stroke-linecap:square;stroke-width:0.8;\"/>\r\n     </g>\r\n     <g id=\"line2d_18\">\r\n      <g>\r\n       <use style=\"stroke:#000000;stroke-width:0.8;\" x=\"35.459375\" xlink:href=\"#m851efad028\" y=\"110.7414\"/>\r\n      </g>\r\n     </g>\r\n     <g id=\"text_10\">\r\n      <!-- 150 -->\r\n      <g transform=\"translate(17.006875 113.020931)scale(0.06 -0.06)\">\r\n       <use xlink:href=\"#DejaVuSans-49\"/>\r\n       <use x=\"63.623047\" xlink:href=\"#DejaVuSans-53\"/>\r\n       <use x=\"127.246094\" xlink:href=\"#DejaVuSans-48\"/>\r\n      </g>\r\n     </g>\r\n    </g>\r\n    <g id=\"ytick_5\">\r\n     <g id=\"line2d_19\">\r\n      <path clip-path=\"url(#pedabeb2c20)\" d=\"M 35.459375 76.069745 \r\nL 370.259375 76.069745 \r\n\" style=\"fill:none;stroke:#b0b0b0;stroke-linecap:square;stroke-width:0.8;\"/>\r\n     </g>\r\n     <g id=\"line2d_20\">\r\n      <g>\r\n       <use style=\"stroke:#000000;stroke-width:0.8;\" x=\"35.459375\" xlink:href=\"#m851efad028\" y=\"76.069745\"/>\r\n      </g>\r\n     </g>\r\n     <g id=\"text_11\">\r\n      <!-- 200 -->\r\n      <g transform=\"translate(17.006875 78.349277)scale(0.06 -0.06)\">\r\n       <use xlink:href=\"#DejaVuSans-50\"/>\r\n       <use x=\"63.623047\" xlink:href=\"#DejaVuSans-48\"/>\r\n       <use x=\"127.246094\" xlink:href=\"#DejaVuSans-48\"/>\r\n      </g>\r\n     </g>\r\n    </g>\r\n    <g id=\"ytick_6\">\r\n     <g id=\"line2d_21\">\r\n      <path clip-path=\"url(#pedabeb2c20)\" d=\"M 35.459375 41.398091 \r\nL 370.259375 41.398091 \r\n\" style=\"fill:none;stroke:#b0b0b0;stroke-linecap:square;stroke-width:0.8;\"/>\r\n     </g>\r\n     <g id=\"line2d_22\">\r\n      <g>\r\n       <use style=\"stroke:#000000;stroke-width:0.8;\" x=\"35.459375\" xlink:href=\"#m851efad028\" y=\"41.398091\"/>\r\n      </g>\r\n     </g>\r\n     <g id=\"text_12\">\r\n      <!-- 250 -->\r\n      <g transform=\"translate(17.006875 43.677622)scale(0.06 -0.06)\">\r\n       <use xlink:href=\"#DejaVuSans-50\"/>\r\n       <use x=\"63.623047\" xlink:href=\"#DejaVuSans-53\"/>\r\n       <use x=\"127.246094\" xlink:href=\"#DejaVuSans-48\"/>\r\n      </g>\r\n     </g>\r\n    </g>\r\n    <g id=\"text_13\">\r\n     <!-- $\\gamma$ -->\r\n     <g transform=\"translate(11.746875 117.72)rotate(-90)scale(0.06 -0.06)\">\r\n      <defs>\r\n       <path d=\"M 23.296875 46.09375 \r\nL 28.71875 12.3125 \r\nL 54 54.6875 \r\nL 63.53125 54.6875 \r\nL 30.8125 0 \r\nL 26.765625 -20.796875 \r\nL 17.78125 -20.796875 \r\nL 21.828125 0 \r\nL 15.4375 40.828125 \r\nQ 14.453125 46.96875 9.8125 46.96875 \r\nL 7.421875 46.96875 \r\nL 8.890625 54.6875 \r\nL 12.3125 54.6875 \r\nQ 21.921875 54.6875 23.296875 46.09375 \r\nz\r\n\" id=\"DejaVuSans-Oblique-947\"/>\r\n      </defs>\r\n      <use transform=\"translate(0 0.3125)\" xlink:href=\"#DejaVuSans-Oblique-947\"/>\r\n     </g>\r\n    </g>\r\n   </g>\r\n   <g id=\"line2d_23\">\r\n    <path clip-path=\"url(#pedabeb2c20)\" d=\"M 50.677557 214.756364 \r\nL 53.751937 208.546983 \r\nL 56.826317 202.522943 \r\nL 59.900697 196.678712 \r\nL 62.975077 191.008922 \r\nL 66.049458 185.508367 \r\nL 69.123838 180.171995 \r\nL 72.198218 174.994906 \r\nL 75.272598 169.972345 \r\nL 78.346978 165.0997 \r\nL 81.421358 160.372497 \r\nL 84.495739 155.786393 \r\nL 87.570119 151.337177 \r\nL 90.644499 147.020764 \r\nL 93.718879 142.833189 \r\nL 96.793259 138.770607 \r\nL 99.867639 134.829287 \r\nL 102.94202 131.00561 \r\nL 106.0164 127.296063 \r\nL 109.09078 123.697241 \r\nL 112.16516 120.205839 \r\nL 115.23954 116.818649 \r\nL 118.31392 113.532562 \r\nL 121.388301 110.34456 \r\nL 124.462681 107.251715 \r\nL 127.537061 104.251186 \r\nL 130.611441 101.340219 \r\nL 133.685821 98.51614 \r\nL 136.760201 95.776355 \r\nL 139.834582 93.118349 \r\nL 142.908962 90.539681 \r\nL 145.983342 88.037981 \r\nL 149.057722 85.610954 \r\nL 152.132102 83.25637 \r\nL 155.206482 80.972066 \r\nL 158.280863 78.755946 \r\nL 161.355243 76.605973 \r\nL 164.429623 74.520174 \r\nL 167.504003 72.496633 \r\nL 170.578383 70.533491 \r\nL 173.652763 68.628947 \r\nL 176.727144 66.78125 \r\nL 179.801524 64.988704 \r\nL 182.875904 63.249663 \r\nL 185.950284 61.56253 \r\nL 189.024664 59.925755 \r\nL 192.099044 58.337835 \r\nL 195.173425 56.797312 \r\nL 198.247805 55.302772 \r\nL 201.322185 53.852841 \r\nL 204.396565 52.446189 \r\nL 207.470945 51.081523 \r\nL 210.545325 49.757591 \r\nL 213.619706 48.473175 \r\nL 216.694086 47.227098 \r\nL 219.768466 46.018214 \r\nL 222.842846 44.845414 \r\nL 225.917226 43.707619 \r\nL 228.991606 42.603787 \r\nL 232.065987 41.532902 \r\nL 235.140367 40.493981 \r\nL 238.214747 39.486071 \r\nL 241.289127 38.508245 \r\nL 244.363507 37.559606 \r\nL 247.437887 36.639282 \r\nL 250.512268 35.746428 \r\nL 253.586648 34.880225 \r\nL 256.661028 34.039877 \r\nL 259.735408 33.224612 \r\nL 262.809788 32.433681 \r\nL 265.884168 31.666359 \r\nL 268.958549 30.921939 \r\nL 272.032929 30.19974 \r\nL 275.107309 29.499097 \r\nL 278.181689 28.819367 \r\nL 281.256069 28.159927 \r\nL 284.330449 27.520169 \r\nL 287.40483 26.899508 \r\nL 290.47921 26.297372 \r\nL 293.55359 25.713209 \r\nL 296.62797 25.146482 \r\nL 299.70235 24.596671 \r\nL 302.77673 24.063272 \r\nL 305.851111 23.545793 \r\nL 308.925491 23.043761 \r\nL 311.999871 22.556713 \r\nL 315.074251 22.084203 \r\nL 318.148631 21.625797 \r\nL 321.223011 21.181073 \r\nL 324.297392 20.749624 \r\nL 327.371772 20.331053 \r\nL 330.446152 19.924976 \r\nL 333.520532 19.531019 \r\nL 336.594912 19.148822 \r\nL 339.669292 18.778032 \r\nL 342.743673 18.41831 \r\nL 345.818053 18.069325 \r\nL 348.892433 17.730757 \r\nL 351.966813 17.402295 \r\nL 355.041193 17.083636 \r\n\" style=\"fill:none;stroke:#1f77b4;stroke-linecap:square;stroke-width:1.5;\"/>\r\n   </g>\r\n   <g id=\"patch_3\">\r\n    <path d=\"M 35.459375 224.64 \r\nL 35.459375 7.2 \r\n\" style=\"fill:none;stroke:#000000;stroke-linecap:square;stroke-linejoin:miter;stroke-width:0.8;\"/>\r\n   </g>\r\n   <g id=\"patch_4\">\r\n    <path d=\"M 370.259375 224.64 \r\nL 370.259375 7.2 \r\n\" style=\"fill:none;stroke:#000000;stroke-linecap:square;stroke-linejoin:miter;stroke-width:0.8;\"/>\r\n   </g>\r\n   <g id=\"patch_5\">\r\n    <path d=\"M 35.459375 224.64 \r\nL 370.259375 224.64 \r\n\" style=\"fill:none;stroke:#000000;stroke-linecap:square;stroke-linejoin:miter;stroke-width:0.8;\"/>\r\n   </g>\r\n   <g id=\"patch_6\">\r\n    <path d=\"M 35.459375 7.2 \r\nL 370.259375 7.2 \r\n\" style=\"fill:none;stroke:#000000;stroke-linecap:square;stroke-linejoin:miter;stroke-width:0.8;\"/>\r\n   </g>\r\n  </g>\r\n </g>\r\n <defs>\r\n  <clipPath id=\"pedabeb2c20\">\r\n   <rect height=\"217.44\" width=\"334.8\" x=\"35.459375\" y=\"7.2\"/>\r\n  </clipPath>\r\n </defs>\r\n</svg>\r\n",
      "image/png": "[encoded data removed]"
     },
     "metadata": {
      "needs_background": "light"
     }
    }
   ],
   "source": [
    "v = pyemu.geostats.ExpVario(contribution=300,a=30000, bearing=0)\n",
    "gs = pyemu.geostats.GeoStruct(variograms=v,nugget=0.0)\n",
    "ax = gs.plot()\n",
    "ax.grid()\n",
    "# ax.set_ylim(0,2.0)"
   ]
  },
  {
   "cell_type": "markdown",
   "metadata": {},
   "source": [
    "Now, let's get an ``OrdinaryKrige`` object, which needs the ``GeoStruct`` as well as the x, y, and name of the pilot point locations (which happens to be in that really cool ``df_pp`` instance)"
   ]
  },
  {
   "cell_type": "code",
   "execution_count": 158,
   "metadata": {},
   "outputs": [],
   "source": [
    "ok = pyemu.geostats.OrdinaryKrige(gs,pp_df)"
   ]
  },
  {
   "cell_type": "markdown",
   "metadata": {},
   "source": [
    "Once the ``OrdinaryKrige`` is created, we need to calculate the geostatistical interpolation factors for each model cell.  We do this with the ``.calc_factors_grid()`` method: it needs to know about the model's spatial orientation and also accepts some optional arguments:"
   ]
  },
  {
   "cell_type": "markdown",
   "metadata": {},
   "source": [
    "### Kriging Processing... it takes time"
   ]
  },
  {
   "cell_type": "code",
   "execution_count": 159,
   "metadata": {},
   "outputs": [
    {
     "output_type": "stream",
     "name": "stdout",
     "text": [
      "starting interp point loop for 9170 points\n",
      "took 38.017214 seconds\n"
     ]
    }
   ],
   "source": [
    "df = ok.calc_factors_grid(m.sr,\n",
    "#                           var_filename=pst_name.replace(\".pst\",\".var.ref\"),\n",
    "                          var_filename= ppf[:-3] + \"var.ref\",                          \n",
    "                          minpts_interp=1,maxpts_interp=50,\n",
    "                          search_radius=1000000000000.0)\n"
   ]
  },
  {
   "cell_type": "markdown",
   "metadata": {},
   "source": [
    "One of the really cool things about geostatistics is that it gives you both the interpolation (factors), but also gives you the uncertainty in the areas between control (pilot) points.  Above, we wrote this uncertainty information to an array that has the same rows and cols as the model grid - this array is very useful for understanding the function of the variogram."
   ]
  },
  {
   "cell_type": "code",
   "execution_count": 160,
   "metadata": {
    "collapsed": true,
    "jupyter": {
     "outputs_hidden": true
    }
   },
   "outputs": [
    {
     "output_type": "execute_result",
     "data": {
      "text/plain": [
       "<matplotlib.collections.PathCollection at 0x2d07dcd6a48>"
      ]
     },
     "metadata": {},
     "execution_count": 160
    },
    {
     "output_type": "display_data",
     "data": {
      "text/plain": "<Figure size 432x288 with 2 Axes>",
      "image/svg+xml": "<?xml version=\"1.0\" encoding=\"utf-8\" standalone=\"no\"?>\r\n<!DOCTYPE svg PUBLIC \"-//W3C//DTD SVG 1.1//EN\"\r\n  \"http://www.w3.org/Graphics/SVG/1.1/DTD/svg11.dtd\">\r\n<!-- Created with matplotlib (https://matplotlib.org/) -->\r\n<svg height=\"289.967344pt\" version=\"1.1\" viewBox=\"0 0 406.831 289.967344\" width=\"406.831pt\" xmlns=\"http://www.w3.org/2000/svg\" xmlns:xlink=\"http://www.w3.org/1999/xlink\">\r\n <metadata>\r\n  <rdf:RDF xmlns:cc=\"http://creativecommons.org/ns#\" xmlns:dc=\"http://purl.org/dc/elements/1.1/\" xmlns:rdf=\"http://www.w3.org/1999/02/22-rdf-syntax-ns#\">\r\n   <cc:Work>\r\n    <dc:type rdf:resource=\"http://purl.org/dc/dcmitype/StillImage\"/>\r\n    <dc:date>2021-01-23T17:40:39.622420</dc:date>\r\n    <dc:format>image/svg+xml</dc:format>\r\n    <dc:creator>\r\n     <cc:Agent>\r\n      <dc:title>Matplotlib v3.3.0, https://matplotlib.org/</dc:title>\r\n     </cc:Agent>\r\n    </dc:creator>\r\n   </cc:Work>\r\n  </rdf:RDF>\r\n </metadata>\r\n <defs>\r\n  <style type=\"text/css\">*{stroke-linecap:butt;stroke-linejoin:round;}</style>\r\n </defs>\r\n <g id=\"figure_1\">\r\n  <g id=\"patch_1\">\r\n   <path d=\"M 0 289.967344 \r\nL 406.831 289.967344 \r\nL 406.831 0 \r\nL 0 0 \r\nz\r\n\" style=\"fill:none;\"/>\r\n  </g>\r\n  <g id=\"axes_1\">\r\n   <g id=\"patch_2\">\r\n    <path d=\"M 37.105 226.320153 \r\nL 348.137 226.320153 \r\nL 348.137 60.119847 \r\nL 37.105 60.119847 \r\nz\r\n\" style=\"fill:#ffffff;\"/>\r\n   </g>\r\n   <g clip-path=\"url(#p540d816c01)\">\r\n    <image height=\"167\" id=\"image835f9009b7\" transform=\"scale(1 -1)translate(0 -167)\" width=\"312\" x=\"37.105\" xlink:href=\"data:image/png;base64,\r\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\" y=\"-59.320153\"/>\r\n   </g>\r\n   <g id=\"PathCollection_1\">\r\n    <defs>\r\n     <path d=\"M 0 0.5 \r\nC 0.132602 0.5 0.25979 0.447317 0.353553 0.353553 \r\nC 0.447317 0.25979 0.5 0.132602 0.5 0 \r\nC 0.5 -0.132602 0.447317 -0.25979 0.353553 -0.353553 \r\nC 0.25979 -0.447317 0.132602 -0.5 0 -0.5 \r\nC -0.132602 -0.5 -0.25979 -0.447317 -0.353553 -0.353553 \r\nC -0.447317 -0.25979 -0.5 -0.132602 -0.5 0 \r\nC -0.5 0.132602 -0.447317 0.25979 -0.353553 0.353553 \r\nC -0.25979 0.447317 -0.132602 0.5 0 0.5 \r\nz\r\n\" id=\"mb55a4e7c98\" style=\"stroke:#ff0000;\"/>\r\n    </defs>\r\n    <g clip-path=\"url(#p540d816c01)\">\r\n     <use style=\"fill:#ff0000;stroke:#ff0000;\" x=\"145.135198\" xlink:href=\"#mb55a4e7c98\" y=\"73.178443\"/>\r\n     <use style=\"fill:#ff0000;stroke:#ff0000;\" x=\"168.878099\" xlink:href=\"#mb55a4e7c98\" y=\"73.178443\"/>\r\n     <use style=\"fill:#ff0000;stroke:#ff0000;\" x=\"121.392298\" xlink:href=\"#mb55a4e7c98\" y=\"96.921344\"/>\r\n     <use style=\"fill:#ff0000;stroke:#ff0000;\" x=\"145.135198\" xlink:href=\"#mb55a4e7c98\" y=\"96.921344\"/>\r\n     <use style=\"fill:#ff0000;stroke:#ff0000;\" x=\"168.878099\" xlink:href=\"#mb55a4e7c98\" y=\"96.921344\"/>\r\n     <use style=\"fill:#ff0000;stroke:#ff0000;\" x=\"192.621\" xlink:href=\"#mb55a4e7c98\" y=\"96.921344\"/>\r\n     <use style=\"fill:#ff0000;stroke:#ff0000;\" x=\"216.363901\" xlink:href=\"#mb55a4e7c98\" y=\"96.921344\"/>\r\n     <use style=\"fill:#ff0000;stroke:#ff0000;\" x=\"97.649397\" xlink:href=\"#mb55a4e7c98\" y=\"120.664244\"/>\r\n     <use style=\"fill:#ff0000;stroke:#ff0000;\" x=\"121.392298\" xlink:href=\"#mb55a4e7c98\" y=\"120.664244\"/>\r\n     <use style=\"fill:#ff0000;stroke:#ff0000;\" x=\"145.135198\" xlink:href=\"#mb55a4e7c98\" y=\"120.664244\"/>\r\n     <use style=\"fill:#ff0000;stroke:#ff0000;\" x=\"168.878099\" xlink:href=\"#mb55a4e7c98\" y=\"120.664244\"/>\r\n     <use style=\"fill:#ff0000;stroke:#ff0000;\" x=\"192.621\" xlink:href=\"#mb55a4e7c98\" y=\"120.664244\"/>\r\n     <use style=\"fill:#ff0000;stroke:#ff0000;\" x=\"216.363901\" xlink:href=\"#mb55a4e7c98\" y=\"120.664244\"/>\r\n     <use style=\"fill:#ff0000;stroke:#ff0000;\" x=\"240.106802\" xlink:href=\"#mb55a4e7c98\" y=\"120.664244\"/>\r\n     <use style=\"fill:#ff0000;stroke:#ff0000;\" x=\"50.163595\" xlink:href=\"#mb55a4e7c98\" y=\"144.407145\"/>\r\n     <use style=\"fill:#ff0000;stroke:#ff0000;\" x=\"73.906496\" xlink:href=\"#mb55a4e7c98\" y=\"144.407145\"/>\r\n     <use style=\"fill:#ff0000;stroke:#ff0000;\" x=\"97.649397\" xlink:href=\"#mb55a4e7c98\" y=\"144.407145\"/>\r\n     <use style=\"fill:#ff0000;stroke:#ff0000;\" x=\"121.392298\" xlink:href=\"#mb55a4e7c98\" y=\"144.407145\"/>\r\n     <use style=\"fill:#ff0000;stroke:#ff0000;\" x=\"145.135198\" xlink:href=\"#mb55a4e7c98\" y=\"144.407145\"/>\r\n     <use style=\"fill:#ff0000;stroke:#ff0000;\" x=\"168.878099\" xlink:href=\"#mb55a4e7c98\" y=\"144.407145\"/>\r\n     <use style=\"fill:#ff0000;stroke:#ff0000;\" x=\"192.621\" xlink:href=\"#mb55a4e7c98\" y=\"144.407145\"/>\r\n     <use style=\"fill:#ff0000;stroke:#ff0000;\" x=\"216.363901\" xlink:href=\"#mb55a4e7c98\" y=\"144.407145\"/>\r\n     <use style=\"fill:#ff0000;stroke:#ff0000;\" x=\"240.106802\" xlink:href=\"#mb55a4e7c98\" y=\"144.407145\"/>\r\n     <use style=\"fill:#ff0000;stroke:#ff0000;\" x=\"263.849702\" xlink:href=\"#mb55a4e7c98\" y=\"144.407145\"/>\r\n     <use style=\"fill:#ff0000;stroke:#ff0000;\" x=\"287.592603\" xlink:href=\"#mb55a4e7c98\" y=\"144.407145\"/>\r\n     <use style=\"fill:#ff0000;stroke:#ff0000;\" x=\"311.335504\" xlink:href=\"#mb55a4e7c98\" y=\"144.407145\"/>\r\n     <use style=\"fill:#ff0000;stroke:#ff0000;\" x=\"335.078405\" xlink:href=\"#mb55a4e7c98\" y=\"144.407145\"/>\r\n     <use style=\"fill:#ff0000;stroke:#ff0000;\" x=\"50.163595\" xlink:href=\"#mb55a4e7c98\" y=\"168.150046\"/>\r\n     <use style=\"fill:#ff0000;stroke:#ff0000;\" x=\"73.906496\" xlink:href=\"#mb55a4e7c98\" y=\"168.150046\"/>\r\n     <use style=\"fill:#ff0000;stroke:#ff0000;\" x=\"97.649397\" xlink:href=\"#mb55a4e7c98\" y=\"168.150046\"/>\r\n     <use style=\"fill:#ff0000;stroke:#ff0000;\" x=\"121.392298\" xlink:href=\"#mb55a4e7c98\" y=\"168.150046\"/>\r\n     <use style=\"fill:#ff0000;stroke:#ff0000;\" x=\"145.135198\" xlink:href=\"#mb55a4e7c98\" y=\"168.150046\"/>\r\n     <use style=\"fill:#ff0000;stroke:#ff0000;\" x=\"168.878099\" xlink:href=\"#mb55a4e7c98\" y=\"168.150046\"/>\r\n     <use style=\"fill:#ff0000;stroke:#ff0000;\" x=\"192.621\" xlink:href=\"#mb55a4e7c98\" y=\"168.150046\"/>\r\n     <use style=\"fill:#ff0000;stroke:#ff0000;\" x=\"216.363901\" xlink:href=\"#mb55a4e7c98\" y=\"168.150046\"/>\r\n     <use style=\"fill:#ff0000;stroke:#ff0000;\" x=\"240.106802\" xlink:href=\"#mb55a4e7c98\" y=\"168.150046\"/>\r\n     <use style=\"fill:#ff0000;stroke:#ff0000;\" x=\"263.849702\" xlink:href=\"#mb55a4e7c98\" y=\"168.150046\"/>\r\n     <use style=\"fill:#ff0000;stroke:#ff0000;\" x=\"287.592603\" xlink:href=\"#mb55a4e7c98\" y=\"168.150046\"/>\r\n     <use style=\"fill:#ff0000;stroke:#ff0000;\" x=\"311.335504\" xlink:href=\"#mb55a4e7c98\" y=\"168.150046\"/>\r\n     <use style=\"fill:#ff0000;stroke:#ff0000;\" x=\"335.078405\" xlink:href=\"#mb55a4e7c98\" y=\"168.150046\"/>\r\n     <use style=\"fill:#ff0000;stroke:#ff0000;\" x=\"50.163595\" xlink:href=\"#mb55a4e7c98\" y=\"191.892947\"/>\r\n     <use style=\"fill:#ff0000;stroke:#ff0000;\" x=\"73.906496\" xlink:href=\"#mb55a4e7c98\" y=\"191.892947\"/>\r\n     <use style=\"fill:#ff0000;stroke:#ff0000;\" x=\"97.649397\" xlink:href=\"#mb55a4e7c98\" y=\"191.892947\"/>\r\n     <use style=\"fill:#ff0000;stroke:#ff0000;\" x=\"121.392298\" xlink:href=\"#mb55a4e7c98\" y=\"191.892947\"/>\r\n     <use style=\"fill:#ff0000;stroke:#ff0000;\" x=\"145.135198\" xlink:href=\"#mb55a4e7c98\" y=\"191.892947\"/>\r\n     <use style=\"fill:#ff0000;stroke:#ff0000;\" x=\"168.878099\" xlink:href=\"#mb55a4e7c98\" y=\"191.892947\"/>\r\n     <use style=\"fill:#ff0000;stroke:#ff0000;\" x=\"192.621\" xlink:href=\"#mb55a4e7c98\" y=\"191.892947\"/>\r\n     <use style=\"fill:#ff0000;stroke:#ff0000;\" x=\"216.363901\" xlink:href=\"#mb55a4e7c98\" y=\"191.892947\"/>\r\n     <use style=\"fill:#ff0000;stroke:#ff0000;\" x=\"240.106802\" xlink:href=\"#mb55a4e7c98\" y=\"191.892947\"/>\r\n     <use style=\"fill:#ff0000;stroke:#ff0000;\" x=\"311.335504\" xlink:href=\"#mb55a4e7c98\" y=\"191.892947\"/>\r\n    </g>\r\n   </g>\r\n   <g id=\"matplotlib.axis_1\">\r\n    <g id=\"xtick_1\">\r\n     <g id=\"line2d_1\">\r\n      <defs>\r\n       <path d=\"M 0 0 \r\nL 0 3.5 \r\n\" id=\"mfe1881ebc0\" style=\"stroke:#000000;stroke-width:0.8;\"/>\r\n      </defs>\r\n      <g>\r\n       <use style=\"stroke:#000000;stroke-width:0.8;\" x=\"37.105\" xlink:href=\"#mfe1881ebc0\" y=\"226.320153\"/>\r\n      </g>\r\n     </g>\r\n     <g id=\"text_1\">\r\n      <!-- 0 -->\r\n      <g transform=\"translate(35.19625 237.879215)scale(0.06 -0.06)\">\r\n       <defs>\r\n        <path d=\"M 31.78125 66.40625 \r\nQ 24.171875 66.40625 20.328125 58.90625 \r\nQ 16.5 51.421875 16.5 36.375 \r\nQ 16.5 21.390625 20.328125 13.890625 \r\nQ 24.171875 6.390625 31.78125 6.390625 \r\nQ 39.453125 6.390625 43.28125 13.890625 \r\nQ 47.125 21.390625 47.125 36.375 \r\nQ 47.125 51.421875 43.28125 58.90625 \r\nQ 39.453125 66.40625 31.78125 66.40625 \r\nz\r\nM 31.78125 74.21875 \r\nQ 44.046875 74.21875 50.515625 64.515625 \r\nQ 56.984375 54.828125 56.984375 36.375 \r\nQ 56.984375 17.96875 50.515625 8.265625 \r\nQ 44.046875 -1.421875 31.78125 -1.421875 \r\nQ 19.53125 -1.421875 13.0625 8.265625 \r\nQ 6.59375 17.96875 6.59375 36.375 \r\nQ 6.59375 54.828125 13.0625 64.515625 \r\nQ 19.53125 74.21875 31.78125 74.21875 \r\nz\r\n\" id=\"DejaVuSans-48\"/>\r\n       </defs>\r\n       <use xlink:href=\"#DejaVuSans-48\"/>\r\n      </g>\r\n     </g>\r\n    </g>\r\n    <g id=\"xtick_2\">\r\n     <g id=\"line2d_2\">\r\n      <g>\r\n       <use style=\"stroke:#000000;stroke-width:0.8;\" x=\"76.676501\" xlink:href=\"#mfe1881ebc0\" y=\"226.320153\"/>\r\n      </g>\r\n     </g>\r\n     <g id=\"text_2\">\r\n      <!-- 25000 -->\r\n      <g transform=\"translate(67.132751 237.879215)scale(0.06 -0.06)\">\r\n       <defs>\r\n        <path d=\"M 19.1875 8.296875 \r\nL 53.609375 8.296875 \r\nL 53.609375 0 \r\nL 7.328125 0 \r\nL 7.328125 8.296875 \r\nQ 12.9375 14.109375 22.625 23.890625 \r\nQ 32.328125 33.6875 34.8125 36.53125 \r\nQ 39.546875 41.84375 41.421875 45.53125 \r\nQ 43.3125 49.21875 43.3125 52.78125 \r\nQ 43.3125 58.59375 39.234375 62.25 \r\nQ 35.15625 65.921875 28.609375 65.921875 \r\nQ 23.96875 65.921875 18.8125 64.3125 \r\nQ 13.671875 62.703125 7.8125 59.421875 \r\nL 7.8125 69.390625 \r\nQ 13.765625 71.78125 18.9375 73 \r\nQ 24.125 74.21875 28.421875 74.21875 \r\nQ 39.75 74.21875 46.484375 68.546875 \r\nQ 53.21875 62.890625 53.21875 53.421875 \r\nQ 53.21875 48.921875 51.53125 44.890625 \r\nQ 49.859375 40.875 45.40625 35.40625 \r\nQ 44.1875 33.984375 37.640625 27.21875 \r\nQ 31.109375 20.453125 19.1875 8.296875 \r\nz\r\n\" id=\"DejaVuSans-50\"/>\r\n        <path d=\"M 10.796875 72.90625 \r\nL 49.515625 72.90625 \r\nL 49.515625 64.59375 \r\nL 19.828125 64.59375 \r\nL 19.828125 46.734375 \r\nQ 21.96875 47.46875 24.109375 47.828125 \r\nQ 26.265625 48.1875 28.421875 48.1875 \r\nQ 40.625 48.1875 47.75 41.5 \r\nQ 54.890625 34.8125 54.890625 23.390625 \r\nQ 54.890625 11.625 47.5625 5.09375 \r\nQ 40.234375 -1.421875 26.90625 -1.421875 \r\nQ 22.3125 -1.421875 17.546875 -0.640625 \r\nQ 12.796875 0.140625 7.71875 1.703125 \r\nL 7.71875 11.625 \r\nQ 12.109375 9.234375 16.796875 8.0625 \r\nQ 21.484375 6.890625 26.703125 6.890625 \r\nQ 35.15625 6.890625 40.078125 11.328125 \r\nQ 45.015625 15.765625 45.015625 23.390625 \r\nQ 45.015625 31 40.078125 35.4375 \r\nQ 35.15625 39.890625 26.703125 39.890625 \r\nQ 22.75 39.890625 18.8125 39.015625 \r\nQ 14.890625 38.140625 10.796875 36.28125 \r\nz\r\n\" id=\"DejaVuSans-53\"/>\r\n       </defs>\r\n       <use xlink:href=\"#DejaVuSans-50\"/>\r\n       <use x=\"63.623047\" xlink:href=\"#DejaVuSans-53\"/>\r\n       <use x=\"127.246094\" xlink:href=\"#DejaVuSans-48\"/>\r\n       <use x=\"190.869141\" xlink:href=\"#DejaVuSans-48\"/>\r\n       <use x=\"254.492188\" xlink:href=\"#DejaVuSans-48\"/>\r\n      </g>\r\n     </g>\r\n    </g>\r\n    <g id=\"xtick_3\">\r\n     <g id=\"line2d_3\">\r\n      <g>\r\n       <use style=\"stroke:#000000;stroke-width:0.8;\" x=\"116.248003\" xlink:href=\"#mfe1881ebc0\" y=\"226.320153\"/>\r\n      </g>\r\n     </g>\r\n     <g id=\"text_3\">\r\n      <!-- 50000 -->\r\n      <g transform=\"translate(106.704253 237.879215)scale(0.06 -0.06)\">\r\n       <use xlink:href=\"#DejaVuSans-53\"/>\r\n       <use x=\"63.623047\" xlink:href=\"#DejaVuSans-48\"/>\r\n       <use x=\"127.246094\" xlink:href=\"#DejaVuSans-48\"/>\r\n       <use x=\"190.869141\" xlink:href=\"#DejaVuSans-48\"/>\r\n       <use x=\"254.492188\" xlink:href=\"#DejaVuSans-48\"/>\r\n      </g>\r\n     </g>\r\n    </g>\r\n    <g id=\"xtick_4\">\r\n     <g id=\"line2d_4\">\r\n      <g>\r\n       <use style=\"stroke:#000000;stroke-width:0.8;\" x=\"155.819504\" xlink:href=\"#mfe1881ebc0\" y=\"226.320153\"/>\r\n      </g>\r\n     </g>\r\n     <g id=\"text_4\">\r\n      <!-- 75000 -->\r\n      <g transform=\"translate(146.275754 237.879215)scale(0.06 -0.06)\">\r\n       <defs>\r\n        <path d=\"M 8.203125 72.90625 \r\nL 55.078125 72.90625 \r\nL 55.078125 68.703125 \r\nL 28.609375 0 \r\nL 18.3125 0 \r\nL 43.21875 64.59375 \r\nL 8.203125 64.59375 \r\nz\r\n\" id=\"DejaVuSans-55\"/>\r\n       </defs>\r\n       <use xlink:href=\"#DejaVuSans-55\"/>\r\n       <use x=\"63.623047\" xlink:href=\"#DejaVuSans-53\"/>\r\n       <use x=\"127.246094\" xlink:href=\"#DejaVuSans-48\"/>\r\n       <use x=\"190.869141\" xlink:href=\"#DejaVuSans-48\"/>\r\n       <use x=\"254.492188\" xlink:href=\"#DejaVuSans-48\"/>\r\n      </g>\r\n     </g>\r\n    </g>\r\n    <g id=\"xtick_5\">\r\n     <g id=\"line2d_5\">\r\n      <g>\r\n       <use style=\"stroke:#000000;stroke-width:0.8;\" x=\"195.391005\" xlink:href=\"#mfe1881ebc0\" y=\"226.320153\"/>\r\n      </g>\r\n     </g>\r\n     <g id=\"text_5\">\r\n      <!-- 100000 -->\r\n      <g transform=\"translate(183.938505 237.879215)scale(0.06 -0.06)\">\r\n       <defs>\r\n        <path d=\"M 12.40625 8.296875 \r\nL 28.515625 8.296875 \r\nL 28.515625 63.921875 \r\nL 10.984375 60.40625 \r\nL 10.984375 69.390625 \r\nL 28.421875 72.90625 \r\nL 38.28125 72.90625 \r\nL 38.28125 8.296875 \r\nL 54.390625 8.296875 \r\nL 54.390625 0 \r\nL 12.40625 0 \r\nz\r\n\" id=\"DejaVuSans-49\"/>\r\n       </defs>\r\n       <use xlink:href=\"#DejaVuSans-49\"/>\r\n       <use x=\"63.623047\" xlink:href=\"#DejaVuSans-48\"/>\r\n       <use x=\"127.246094\" xlink:href=\"#DejaVuSans-48\"/>\r\n       <use x=\"190.869141\" xlink:href=\"#DejaVuSans-48\"/>\r\n       <use x=\"254.492188\" xlink:href=\"#DejaVuSans-48\"/>\r\n       <use x=\"318.115234\" xlink:href=\"#DejaVuSans-48\"/>\r\n      </g>\r\n     </g>\r\n    </g>\r\n    <g id=\"xtick_6\">\r\n     <g id=\"line2d_6\">\r\n      <g>\r\n       <use style=\"stroke:#000000;stroke-width:0.8;\" x=\"234.962506\" xlink:href=\"#mfe1881ebc0\" y=\"226.320153\"/>\r\n      </g>\r\n     </g>\r\n     <g id=\"text_6\">\r\n      <!-- 125000 -->\r\n      <g transform=\"translate(223.510006 237.879215)scale(0.06 -0.06)\">\r\n       <use xlink:href=\"#DejaVuSans-49\"/>\r\n       <use x=\"63.623047\" xlink:href=\"#DejaVuSans-50\"/>\r\n       <use x=\"127.246094\" xlink:href=\"#DejaVuSans-53\"/>\r\n       <use x=\"190.869141\" xlink:href=\"#DejaVuSans-48\"/>\r\n       <use x=\"254.492188\" xlink:href=\"#DejaVuSans-48\"/>\r\n       <use x=\"318.115234\" xlink:href=\"#DejaVuSans-48\"/>\r\n      </g>\r\n     </g>\r\n    </g>\r\n    <g id=\"xtick_7\">\r\n     <g id=\"line2d_7\">\r\n      <g>\r\n       <use style=\"stroke:#000000;stroke-width:0.8;\" x=\"274.534008\" xlink:href=\"#mfe1881ebc0\" y=\"226.320153\"/>\r\n      </g>\r\n     </g>\r\n     <g id=\"text_7\">\r\n      <!-- 150000 -->\r\n      <g transform=\"translate(263.081508 237.879215)scale(0.06 -0.06)\">\r\n       <use xlink:href=\"#DejaVuSans-49\"/>\r\n       <use x=\"63.623047\" xlink:href=\"#DejaVuSans-53\"/>\r\n       <use x=\"127.246094\" xlink:href=\"#DejaVuSans-48\"/>\r\n       <use x=\"190.869141\" xlink:href=\"#DejaVuSans-48\"/>\r\n       <use x=\"254.492188\" xlink:href=\"#DejaVuSans-48\"/>\r\n       <use x=\"318.115234\" xlink:href=\"#DejaVuSans-48\"/>\r\n      </g>\r\n     </g>\r\n    </g>\r\n    <g id=\"xtick_8\">\r\n     <g id=\"line2d_8\">\r\n      <g>\r\n       <use style=\"stroke:#000000;stroke-width:0.8;\" x=\"314.105509\" xlink:href=\"#mfe1881ebc0\" y=\"226.320153\"/>\r\n      </g>\r\n     </g>\r\n     <g id=\"text_8\">\r\n      <!-- 175000 -->\r\n      <g transform=\"translate(302.653009 237.879215)scale(0.06 -0.06)\">\r\n       <use xlink:href=\"#DejaVuSans-49\"/>\r\n       <use x=\"63.623047\" xlink:href=\"#DejaVuSans-55\"/>\r\n       <use x=\"127.246094\" xlink:href=\"#DejaVuSans-53\"/>\r\n       <use x=\"190.869141\" xlink:href=\"#DejaVuSans-48\"/>\r\n       <use x=\"254.492188\" xlink:href=\"#DejaVuSans-48\"/>\r\n       <use x=\"318.115234\" xlink:href=\"#DejaVuSans-48\"/>\r\n      </g>\r\n     </g>\r\n    </g>\r\n   </g>\r\n   <g id=\"matplotlib.axis_2\">\r\n    <g id=\"ytick_1\">\r\n     <g id=\"line2d_9\">\r\n      <defs>\r\n       <path d=\"M 0 0 \r\nL -3.5 0 \r\n\" id=\"m0b598cd731\" style=\"stroke:#000000;stroke-width:0.8;\"/>\r\n      </defs>\r\n      <g>\r\n       <use style=\"stroke:#000000;stroke-width:0.8;\" x=\"37.105\" xlink:href=\"#m0b598cd731\" y=\"226.320153\"/>\r\n      </g>\r\n     </g>\r\n     <g id=\"text_9\">\r\n      <!-- 0 -->\r\n      <g transform=\"translate(26.2875 228.599684)scale(0.06 -0.06)\">\r\n       <use xlink:href=\"#DejaVuSans-48\"/>\r\n      </g>\r\n     </g>\r\n    </g>\r\n    <g id=\"ytick_2\">\r\n     <g id=\"line2d_10\">\r\n      <g>\r\n       <use style=\"stroke:#000000;stroke-width:0.8;\" x=\"37.105\" xlink:href=\"#m0b598cd731\" y=\"194.662952\"/>\r\n      </g>\r\n     </g>\r\n     <g id=\"text_10\">\r\n      <!-- 20000 -->\r\n      <g transform=\"translate(11.0175 196.942483)scale(0.06 -0.06)\">\r\n       <use xlink:href=\"#DejaVuSans-50\"/>\r\n       <use x=\"63.623047\" xlink:href=\"#DejaVuSans-48\"/>\r\n       <use x=\"127.246094\" xlink:href=\"#DejaVuSans-48\"/>\r\n       <use x=\"190.869141\" xlink:href=\"#DejaVuSans-48\"/>\r\n       <use x=\"254.492188\" xlink:href=\"#DejaVuSans-48\"/>\r\n      </g>\r\n     </g>\r\n    </g>\r\n    <g id=\"ytick_3\">\r\n     <g id=\"line2d_11\">\r\n      <g>\r\n       <use style=\"stroke:#000000;stroke-width:0.8;\" x=\"37.105\" xlink:href=\"#m0b598cd731\" y=\"163.005751\"/>\r\n      </g>\r\n     </g>\r\n     <g id=\"text_11\">\r\n      <!-- 40000 -->\r\n      <g transform=\"translate(11.0175 165.285282)scale(0.06 -0.06)\">\r\n       <defs>\r\n        <path d=\"M 37.796875 64.3125 \r\nL 12.890625 25.390625 \r\nL 37.796875 25.390625 \r\nz\r\nM 35.203125 72.90625 \r\nL 47.609375 72.90625 \r\nL 47.609375 25.390625 \r\nL 58.015625 25.390625 \r\nL 58.015625 17.1875 \r\nL 47.609375 17.1875 \r\nL 47.609375 0 \r\nL 37.796875 0 \r\nL 37.796875 17.1875 \r\nL 4.890625 17.1875 \r\nL 4.890625 26.703125 \r\nz\r\n\" id=\"DejaVuSans-52\"/>\r\n       </defs>\r\n       <use xlink:href=\"#DejaVuSans-52\"/>\r\n       <use x=\"63.623047\" xlink:href=\"#DejaVuSans-48\"/>\r\n       <use x=\"127.246094\" xlink:href=\"#DejaVuSans-48\"/>\r\n       <use x=\"190.869141\" xlink:href=\"#DejaVuSans-48\"/>\r\n       <use x=\"254.492188\" xlink:href=\"#DejaVuSans-48\"/>\r\n      </g>\r\n     </g>\r\n    </g>\r\n    <g id=\"ytick_4\">\r\n     <g id=\"line2d_12\">\r\n      <g>\r\n       <use style=\"stroke:#000000;stroke-width:0.8;\" x=\"37.105\" xlink:href=\"#m0b598cd731\" y=\"131.34855\"/>\r\n      </g>\r\n     </g>\r\n     <g id=\"text_12\">\r\n      <!-- 60000 -->\r\n      <g transform=\"translate(11.0175 133.628081)scale(0.06 -0.06)\">\r\n       <defs>\r\n        <path d=\"M 33.015625 40.375 \r\nQ 26.375 40.375 22.484375 35.828125 \r\nQ 18.609375 31.296875 18.609375 23.390625 \r\nQ 18.609375 15.53125 22.484375 10.953125 \r\nQ 26.375 6.390625 33.015625 6.390625 \r\nQ 39.65625 6.390625 43.53125 10.953125 \r\nQ 47.40625 15.53125 47.40625 23.390625 \r\nQ 47.40625 31.296875 43.53125 35.828125 \r\nQ 39.65625 40.375 33.015625 40.375 \r\nz\r\nM 52.59375 71.296875 \r\nL 52.59375 62.3125 \r\nQ 48.875 64.0625 45.09375 64.984375 \r\nQ 41.3125 65.921875 37.59375 65.921875 \r\nQ 27.828125 65.921875 22.671875 59.328125 \r\nQ 17.53125 52.734375 16.796875 39.40625 \r\nQ 19.671875 43.65625 24.015625 45.921875 \r\nQ 28.375 48.1875 33.59375 48.1875 \r\nQ 44.578125 48.1875 50.953125 41.515625 \r\nQ 57.328125 34.859375 57.328125 23.390625 \r\nQ 57.328125 12.15625 50.6875 5.359375 \r\nQ 44.046875 -1.421875 33.015625 -1.421875 \r\nQ 20.359375 -1.421875 13.671875 8.265625 \r\nQ 6.984375 17.96875 6.984375 36.375 \r\nQ 6.984375 53.65625 15.1875 63.9375 \r\nQ 23.390625 74.21875 37.203125 74.21875 \r\nQ 40.921875 74.21875 44.703125 73.484375 \r\nQ 48.484375 72.75 52.59375 71.296875 \r\nz\r\n\" id=\"DejaVuSans-54\"/>\r\n       </defs>\r\n       <use xlink:href=\"#DejaVuSans-54\"/>\r\n       <use x=\"63.623047\" xlink:href=\"#DejaVuSans-48\"/>\r\n       <use x=\"127.246094\" xlink:href=\"#DejaVuSans-48\"/>\r\n       <use x=\"190.869141\" xlink:href=\"#DejaVuSans-48\"/>\r\n       <use x=\"254.492188\" xlink:href=\"#DejaVuSans-48\"/>\r\n      </g>\r\n     </g>\r\n    </g>\r\n    <g id=\"ytick_5\">\r\n     <g id=\"line2d_13\">\r\n      <g>\r\n       <use style=\"stroke:#000000;stroke-width:0.8;\" x=\"37.105\" xlink:href=\"#m0b598cd731\" y=\"99.691349\"/>\r\n      </g>\r\n     </g>\r\n     <g id=\"text_13\">\r\n      <!-- 80000 -->\r\n      <g transform=\"translate(11.0175 101.97088)scale(0.06 -0.06)\">\r\n       <defs>\r\n        <path d=\"M 31.78125 34.625 \r\nQ 24.75 34.625 20.71875 30.859375 \r\nQ 16.703125 27.09375 16.703125 20.515625 \r\nQ 16.703125 13.921875 20.71875 10.15625 \r\nQ 24.75 6.390625 31.78125 6.390625 \r\nQ 38.8125 6.390625 42.859375 10.171875 \r\nQ 46.921875 13.96875 46.921875 20.515625 \r\nQ 46.921875 27.09375 42.890625 30.859375 \r\nQ 38.875 34.625 31.78125 34.625 \r\nz\r\nM 21.921875 38.8125 \r\nQ 15.578125 40.375 12.03125 44.71875 \r\nQ 8.5 49.078125 8.5 55.328125 \r\nQ 8.5 64.0625 14.71875 69.140625 \r\nQ 20.953125 74.21875 31.78125 74.21875 \r\nQ 42.671875 74.21875 48.875 69.140625 \r\nQ 55.078125 64.0625 55.078125 55.328125 \r\nQ 55.078125 49.078125 51.53125 44.71875 \r\nQ 48 40.375 41.703125 38.8125 \r\nQ 48.828125 37.15625 52.796875 32.3125 \r\nQ 56.78125 27.484375 56.78125 20.515625 \r\nQ 56.78125 9.90625 50.3125 4.234375 \r\nQ 43.84375 -1.421875 31.78125 -1.421875 \r\nQ 19.734375 -1.421875 13.25 4.234375 \r\nQ 6.78125 9.90625 6.78125 20.515625 \r\nQ 6.78125 27.484375 10.78125 32.3125 \r\nQ 14.796875 37.15625 21.921875 38.8125 \r\nz\r\nM 18.3125 54.390625 \r\nQ 18.3125 48.734375 21.84375 45.5625 \r\nQ 25.390625 42.390625 31.78125 42.390625 \r\nQ 38.140625 42.390625 41.71875 45.5625 \r\nQ 45.3125 48.734375 45.3125 54.390625 \r\nQ 45.3125 60.0625 41.71875 63.234375 \r\nQ 38.140625 66.40625 31.78125 66.40625 \r\nQ 25.390625 66.40625 21.84375 63.234375 \r\nQ 18.3125 60.0625 18.3125 54.390625 \r\nz\r\n\" id=\"DejaVuSans-56\"/>\r\n       </defs>\r\n       <use xlink:href=\"#DejaVuSans-56\"/>\r\n       <use x=\"63.623047\" xlink:href=\"#DejaVuSans-48\"/>\r\n       <use x=\"127.246094\" xlink:href=\"#DejaVuSans-48\"/>\r\n       <use x=\"190.869141\" xlink:href=\"#DejaVuSans-48\"/>\r\n       <use x=\"254.492188\" xlink:href=\"#DejaVuSans-48\"/>\r\n      </g>\r\n     </g>\r\n    </g>\r\n    <g id=\"ytick_6\">\r\n     <g id=\"line2d_14\">\r\n      <g>\r\n       <use style=\"stroke:#000000;stroke-width:0.8;\" x=\"37.105\" xlink:href=\"#m0b598cd731\" y=\"68.034148\"/>\r\n      </g>\r\n     </g>\r\n     <g id=\"text_14\">\r\n      <!-- 100000 -->\r\n      <g transform=\"translate(7.2 70.313679)scale(0.06 -0.06)\">\r\n       <use xlink:href=\"#DejaVuSans-49\"/>\r\n       <use x=\"63.623047\" xlink:href=\"#DejaVuSans-48\"/>\r\n       <use x=\"127.246094\" xlink:href=\"#DejaVuSans-48\"/>\r\n       <use x=\"190.869141\" xlink:href=\"#DejaVuSans-48\"/>\r\n       <use x=\"254.492188\" xlink:href=\"#DejaVuSans-48\"/>\r\n       <use x=\"318.115234\" xlink:href=\"#DejaVuSans-48\"/>\r\n      </g>\r\n     </g>\r\n    </g>\r\n   </g>\r\n   <g id=\"patch_3\">\r\n    <path d=\"M 37.105 226.320153 \r\nL 37.105 60.119847 \r\n\" style=\"fill:none;stroke:#000000;stroke-linecap:square;stroke-linejoin:miter;stroke-width:0.8;\"/>\r\n   </g>\r\n   <g id=\"patch_4\">\r\n    <path d=\"M 348.137 226.320153 \r\nL 348.137 60.119847 \r\n\" style=\"fill:none;stroke:#000000;stroke-linecap:square;stroke-linejoin:miter;stroke-width:0.8;\"/>\r\n   </g>\r\n   <g id=\"patch_5\">\r\n    <path d=\"M 37.105 226.320153 \r\nL 348.137 226.320153 \r\n\" style=\"fill:none;stroke:#000000;stroke-linecap:square;stroke-linejoin:miter;stroke-width:0.8;\"/>\r\n   </g>\r\n   <g id=\"patch_6\">\r\n    <path d=\"M 37.105 60.119847 \r\nL 348.137 60.119847 \r\n\" style=\"fill:none;stroke:#000000;stroke-linecap:square;stroke-linejoin:miter;stroke-width:0.8;\"/>\r\n   </g>\r\n  </g>\r\n  <g id=\"axes_2\">\r\n   <g id=\"patch_7\">\r\n    <path clip-path=\"url(#p0f095d8d17)\" d=\"M 367.5765 279.24 \r\nL 367.5765 278.177344 \r\nL 367.5765 8.262656 \r\nL 367.5765 7.2 \r\nL 381.1785 7.2 \r\nL 381.1785 8.262656 \r\nL 381.1785 278.177344 \r\nL 381.1785 279.24 \r\nz\r\n\" style=\"fill:#ffffff;stroke:#ffffff;stroke-linejoin:miter;stroke-width:0.01;\"/>\r\n   </g>\r\n   <image height=\"272\" id=\"image8bd919efe2\" transform=\"scale(1 -1)translate(0 -272)\" width=\"13\" x=\"368\" xlink:href=\"data:image/png;base64,\r\niVBORw0KGgoAAAANSUhEUgAAAA0AAAEQCAYAAABr1P6NAAABpUlEQVR4nO2bwZHDMAwDSUkFuYhrIX1cqaoozucawD5wiMb+YwBCYEhrnP7p12+Jz6rRKqZW99BBkKm3zlR96SAir5qABnCvbUywJuQeMcJ3TuGWO0EbgOoiTCoGxsjY7sbsuZhuozwZ47TcasTWQeVqwvBEMHkMJGNq3elGACYYI8JE3GNMbB0FTQjlAZAxEfqcdso70fITa0KT8GbrqAo51HJnTQ/TH5NvqDHQ1kHpk/A8pnB5hAlsEWcaYX0nVCFPyv+D6Uh5OsYpj62jRzahflLx2cuWl205G9TOSXhfhEl+0hPhbA2XPATqbHnEPbwtbxnE3GOTEDCBF2pvjFw1IXnQPVtNhZhc8gZk2jIIDbV4IwCIMcmQL6jJxgQtz5aHJiFpQl9NI9vyeCPeBPTUVFW1JvxZ3gD0vmSQ75xmRcdookTYsjd9TKwJEZOtCYk83ySErZEdI5aI7OwR9xBTeCKge6gm1yRkrWFLOUuEUV70JITyXExThnB5gAmuo+Cic5I7lgkuLRe5J16TfKQ0iDxYE2EifydBTANczjN5Xfp3yx//8J2BokF8PgAAAABJRU5ErkJggg==\" y=\"-6\"/>\r\n   <g id=\"matplotlib.axis_3\"/>\r\n   <g id=\"matplotlib.axis_4\">\r\n    <g id=\"ytick_7\">\r\n     <g id=\"line2d_15\">\r\n      <defs>\r\n       <path d=\"M 0 0 \r\nL 3.5 0 \r\n\" id=\"me379632b53\" style=\"stroke:#000000;stroke-width:0.8;\"/>\r\n      </defs>\r\n      <g>\r\n       <use style=\"stroke:#000000;stroke-width:0.8;\" x=\"381.1785\" xlink:href=\"#me379632b53\" y=\"279.24\"/>\r\n      </g>\r\n     </g>\r\n     <g id=\"text_15\">\r\n      <!-- 0 -->\r\n      <g transform=\"translate(388.1785 281.519531)scale(0.06 -0.06)\">\r\n       <use xlink:href=\"#DejaVuSans-48\"/>\r\n      </g>\r\n     </g>\r\n    </g>\r\n    <g id=\"ytick_8\">\r\n     <g id=\"line2d_16\">\r\n      <g>\r\n       <use style=\"stroke:#000000;stroke-width:0.8;\" x=\"381.1785\" xlink:href=\"#me379632b53\" y=\"222.606036\"/>\r\n      </g>\r\n     </g>\r\n     <g id=\"text_16\">\r\n      <!-- 50 -->\r\n      <g transform=\"translate(388.1785 224.885567)scale(0.06 -0.06)\">\r\n       <use xlink:href=\"#DejaVuSans-53\"/>\r\n       <use x=\"63.623047\" xlink:href=\"#DejaVuSans-48\"/>\r\n      </g>\r\n     </g>\r\n    </g>\r\n    <g id=\"ytick_9\">\r\n     <g id=\"line2d_17\">\r\n      <g>\r\n       <use style=\"stroke:#000000;stroke-width:0.8;\" x=\"381.1785\" xlink:href=\"#me379632b53\" y=\"165.972072\"/>\r\n      </g>\r\n     </g>\r\n     <g id=\"text_17\">\r\n      <!-- 100 -->\r\n      <g transform=\"translate(388.1785 168.251603)scale(0.06 -0.06)\">\r\n       <use xlink:href=\"#DejaVuSans-49\"/>\r\n       <use x=\"63.623047\" xlink:href=\"#DejaVuSans-48\"/>\r\n       <use x=\"127.246094\" xlink:href=\"#DejaVuSans-48\"/>\r\n      </g>\r\n     </g>\r\n    </g>\r\n    <g id=\"ytick_10\">\r\n     <g id=\"line2d_18\">\r\n      <g>\r\n       <use style=\"stroke:#000000;stroke-width:0.8;\" x=\"381.1785\" xlink:href=\"#me379632b53\" y=\"109.338108\"/>\r\n      </g>\r\n     </g>\r\n     <g id=\"text_18\">\r\n      <!-- 150 -->\r\n      <g transform=\"translate(388.1785 111.617639)scale(0.06 -0.06)\">\r\n       <use xlink:href=\"#DejaVuSans-49\"/>\r\n       <use x=\"63.623047\" xlink:href=\"#DejaVuSans-53\"/>\r\n       <use x=\"127.246094\" xlink:href=\"#DejaVuSans-48\"/>\r\n      </g>\r\n     </g>\r\n    </g>\r\n    <g id=\"ytick_11\">\r\n     <g id=\"line2d_19\">\r\n      <g>\r\n       <use style=\"stroke:#000000;stroke-width:0.8;\" x=\"381.1785\" xlink:href=\"#me379632b53\" y=\"52.704144\"/>\r\n      </g>\r\n     </g>\r\n     <g id=\"text_19\">\r\n      <!-- 200 -->\r\n      <g transform=\"translate(388.1785 54.983675)scale(0.06 -0.06)\">\r\n       <use xlink:href=\"#DejaVuSans-50\"/>\r\n       <use x=\"63.623047\" xlink:href=\"#DejaVuSans-48\"/>\r\n       <use x=\"127.246094\" xlink:href=\"#DejaVuSans-48\"/>\r\n      </g>\r\n     </g>\r\n    </g>\r\n   </g>\r\n   <g id=\"patch_8\">\r\n    <path d=\"M 367.5765 279.24 \r\nL 367.5765 278.177344 \r\nL 367.5765 8.262656 \r\nL 367.5765 7.2 \r\nL 381.1785 7.2 \r\nL 381.1785 8.262656 \r\nL 381.1785 278.177344 \r\nL 381.1785 279.24 \r\nz\r\n\" style=\"fill:none;stroke:#000000;stroke-linejoin:miter;stroke-width:0.8;\"/>\r\n   </g>\r\n  </g>\r\n </g>\r\n <defs>\r\n  <clipPath id=\"p540d816c01\">\r\n   <rect height=\"166.200305\" width=\"311.032\" x=\"37.105\" y=\"60.119847\"/>\r\n  </clipPath>\r\n  <clipPath id=\"p0f095d8d17\">\r\n   <rect height=\"272.04\" width=\"13.602\" x=\"367.5765\" y=\"7.2\"/>\r\n  </clipPath>\r\n </defs>\r\n</svg>\r\n",
      "image/png": "[encoded data removed]"
     },
     "metadata": {
      "needs_background": "light"
     }
    }
   ],
   "source": [
    "# arr_var = np.loadtxt(pst_name.replace(\".pst\",\".var.ref\"))\n",
    "arr_var = np.loadtxt(ppf[:-3] + \"var.ref\")\n",
    "ax = plt.subplot(111,aspect=\"equal\")\n",
    "p = ax.imshow(arr_var,extent=m.sr.get_extent(),alpha=0.25)\n",
    "plt.colorbar(p)\n",
    "plt.tight_layout()\n",
    "ax.scatter(pp_df.x,pp_df.y,marker='.',s=4,color='r')"
   ]
  },
  {
   "cell_type": "markdown",
   "metadata": {},
   "source": [
    "We see that at the pilot point locations (red dots), the uncertainty in the geostats is minimal...as expected. The call to ``.calc_factors_grid()`` also returns a ``DataFrame`` which has useful info - lets look:"
   ]
  },
  {
   "cell_type": "code",
   "execution_count": 161,
   "metadata": {
    "collapsed": true,
    "jupyter": {
     "outputs_hidden": true
    }
   },
   "outputs": [
    {
     "output_type": "execute_result",
     "data": {
      "text/plain": [
       "             x         y  \\\n",
       "0        750.0  104250.0   \n",
       "1       2250.0  104250.0   \n",
       "2       3750.0  104250.0   \n",
       "3       5250.0  104250.0   \n",
       "4       6750.0  104250.0   \n",
       "...        ...       ...   \n",
       "9165  189750.0     750.0   \n",
       "9166  191250.0     750.0   \n",
       "9167  192750.0     750.0   \n",
       "9168  194250.0     750.0   \n",
       "9169  195750.0     750.0   \n",
       "\n",
       "                                                                                                    idist  \\\n",
       "0     [53033.00858899106, 53033.00858899106, 57118.298293979315, 57118.298293979315, 64517.4395028197,...   \n",
       "1     [51983.17035349037, 52841.74486142561, 55742.71252818614, 56544.23047491229, 63302.84353802758, ...   \n",
       "2     [50955.863254389085, 52692.504210750885, 54373.706881175574, 56004.46410778341, 62100.7246334533...   \n",
       "3     [49952.477416040136, 52585.644428874315, 53011.791141216876, 55500.0, 60911.821512740855, 62010....   \n",
       "4     [48974.483151943525, 51657.52607316769, 52521.42420003479, 55031.80898353242, 59736.92325521963,...   \n",
       "...                                                                                                   ...   \n",
       "9165  [26706.740722147282, 36031.23644839294, 39601.136347332256, 47835.65615730592, 51022.05405508484...   \n",
       "9166  [27658.633371878663, 36124.783736376885, 40249.22359499621, 48836.46178829912, 51088.1590977792,...   \n",
       "9167  [28657.4597618142, 36280.15986734347, 40942.032191868544, 49862.310415783984, 51198.14449762804,...   \n",
       "9168  [29698.484809834998, 36496.57518178932, 41677.33196834941, 50911.68824543142, 51351.72830587107,...   \n",
       "9169  [30777.426793024788, 36772.952016393785, 42452.91509425472, 51548.52083231875, 51983.17035349037...   \n",
       "\n",
       "                                                                                                   inames  \\\n",
       "0     [pp_0014, pp_0007, pp_0002, pp_0015, pp_0016, pp_0008, pp_0000, pp_0027, pp_0003, pp_0028, pp_00...   \n",
       "1     [pp_0007, pp_0014, pp_0002, pp_0015, pp_0008, pp_0016, pp_0000, pp_0027, pp_0003, pp_0028, pp_00...   \n",
       "2     [pp_0007, pp_0014, pp_0002, pp_0015, pp_0008, pp_0016, pp_0000, pp_0027, pp_0003, pp_0028, pp_00...   \n",
       "3     [pp_0007, pp_0014, pp_0002, pp_0015, pp_0008, pp_0016, pp_0000, pp_0003, pp_0027, pp_0028, pp_00...   \n",
       "4     [pp_0007, pp_0002, pp_0014, pp_0015, pp_0008, pp_0016, pp_0000, pp_0003, pp_0027, pp_0028, pp_00...   \n",
       "...                                                                                                   ...   \n",
       "9165  [pp_0049, pp_0039, pp_0038, pp_0037, pp_0026, pp_0025, pp_0036, pp_0024, pp_0048, pp_0023, pp_00...   \n",
       "9166  [pp_0049, pp_0039, pp_0038, pp_0037, pp_0026, pp_0025, pp_0036, pp_0024, pp_0048, pp_0023, pp_00...   \n",
       "9167  [pp_0049, pp_0039, pp_0038, pp_0037, pp_0026, pp_0025, pp_0036, pp_0024, pp_0048, pp_0023, pp_00...   \n",
       "9168  [pp_0049, pp_0039, pp_0038, pp_0037, pp_0026, pp_0025, pp_0036, pp_0024, pp_0048, pp_0023, pp_00...   \n",
       "9169  [pp_0049, pp_0039, pp_0038, pp_0026, pp_0037, pp_0025, pp_0024, pp_0036, pp_0048, pp_0023, pp_00...   \n",
       "\n",
       "                                                                                                   ifacts  \\\n",
       "0     [0.1711173521763919, 0.12362584246572338, 0.10855925845301061, 0.04185010658880373, -0.008784309...   \n",
       "1     [0.12745947115846326, 0.1695380525495413, 0.11296903520117971, 0.04281724152948189, -0.012539791...   \n",
       "2     [0.1313188084142957, 0.16766014799940263, 0.11764381894852623, 0.04370419985165291, -0.013032455...   \n",
       "3     [0.13518058213231693, 0.1654856521964445, 0.12259594970098445, 0.04449723890009559, -0.013523303...   \n",
       "4     [0.13901808271595983, 0.12783755056613916, 0.16301923562978987, 0.04518272785524035, -0.01401025...   \n",
       "...                                                                                                   ...   \n",
       "9165  [0.3975097915375511, 0.17908021105208377, -0.03536797030154369, -0.005045391610431755, 0.0382180...   \n",
       "9166  [0.3828088139077142, 0.1861787785268699, -0.03497911033073283, -0.006002509506110658, 0.04028154...   \n",
       "9167  [0.36810799322182797, 0.1925075150803458, -0.034650148677648214, -0.006736078670192445, 0.042471...   \n",
       "9168  [0.35354909288878256, 0.19802761777296263, -0.03437633662846295, -0.007275025549206388, 0.044771...   \n",
       "9169  [0.3392481299097972, 0.2027184213238596, -0.03414971304551258, 0.047164786923231436, -0.00764598...   \n",
       "\n",
       "         err_var  \n",
       "0     237.056942  \n",
       "1     236.467774  \n",
       "2     235.844545  \n",
       "3     235.183845  \n",
       "4     234.481928  \n",
       "...          ...  \n",
       "9165  204.844580  \n",
       "9166  207.009190  \n",
       "9167  209.141525  \n",
       "9168  211.226609  \n",
       "9169  213.253681  \n",
       "\n",
       "[9170 rows x 6 columns]"
      ],
      "text/html": "<div>\n<style scoped>\n    .dataframe tbody tr th:only-of-type {\n        vertical-align: middle;\n    }\n\n    .dataframe tbody tr th {\n        vertical-align: top;\n    }\n\n    .dataframe thead th {\n        text-align: right;\n    }\n</style>\n<table border=\"1\" class=\"dataframe\">\n  <thead>\n    <tr style=\"text-align: right;\">\n      <th></th>\n      <th>x</th>\n      <th>y</th>\n      <th>idist</th>\n      <th>inames</th>\n      <th>ifacts</th>\n      <th>err_var</th>\n    </tr>\n  </thead>\n  <tbody>\n    <tr>\n      <th>0</th>\n      <td>750.0</td>\n      <td>104250.0</td>\n      <td>[53033.00858899106, 53033.00858899106, 57118.298293979315, 57118.298293979315, 64517.4395028197,...</td>\n      <td>[pp_0014, pp_0007, pp_0002, pp_0015, pp_0016, pp_0008, pp_0000, pp_0027, pp_0003, pp_0028, pp_00...</td>\n      <td>[0.1711173521763919, 0.12362584246572338, 0.10855925845301061, 0.04185010658880373, -0.008784309...</td>\n      <td>237.056942</td>\n    </tr>\n    <tr>\n      <th>1</th>\n      <td>2250.0</td>\n      <td>104250.0</td>\n      <td>[51983.17035349037, 52841.74486142561, 55742.71252818614, 56544.23047491229, 63302.84353802758, ...</td>\n      <td>[pp_0007, pp_0014, pp_0002, pp_0015, pp_0008, pp_0016, pp_0000, pp_0027, pp_0003, pp_0028, pp_00...</td>\n      <td>[0.12745947115846326, 0.1695380525495413, 0.11296903520117971, 0.04281724152948189, -0.012539791...</td>\n      <td>236.467774</td>\n    </tr>\n    <tr>\n      <th>2</th>\n      <td>3750.0</td>\n      <td>104250.0</td>\n      <td>[50955.863254389085, 52692.504210750885, 54373.706881175574, 56004.46410778341, 62100.7246334533...</td>\n      <td>[pp_0007, pp_0014, pp_0002, pp_0015, pp_0008, pp_0016, pp_0000, pp_0027, pp_0003, pp_0028, pp_00...</td>\n      <td>[0.1313188084142957, 0.16766014799940263, 0.11764381894852623, 0.04370419985165291, -0.013032455...</td>\n      <td>235.844545</td>\n    </tr>\n    <tr>\n      <th>3</th>\n      <td>5250.0</td>\n      <td>104250.0</td>\n      <td>[49952.477416040136, 52585.644428874315, 53011.791141216876, 55500.0, 60911.821512740855, 62010....</td>\n      <td>[pp_0007, pp_0014, pp_0002, pp_0015, pp_0008, pp_0016, pp_0000, pp_0003, pp_0027, pp_0028, pp_00...</td>\n      <td>[0.13518058213231693, 0.1654856521964445, 0.12259594970098445, 0.04449723890009559, -0.013523303...</td>\n      <td>235.183845</td>\n    </tr>\n    <tr>\n      <th>4</th>\n      <td>6750.0</td>\n      <td>104250.0</td>\n      <td>[48974.483151943525, 51657.52607316769, 52521.42420003479, 55031.80898353242, 59736.92325521963,...</td>\n      <td>[pp_0007, pp_0002, pp_0014, pp_0015, pp_0008, pp_0016, pp_0000, pp_0003, pp_0027, pp_0028, pp_00...</td>\n      <td>[0.13901808271595983, 0.12783755056613916, 0.16301923562978987, 0.04518272785524035, -0.01401025...</td>\n      <td>234.481928</td>\n    </tr>\n    <tr>\n      <th>...</th>\n      <td>...</td>\n      <td>...</td>\n      <td>...</td>\n      <td>...</td>\n      <td>...</td>\n      <td>...</td>\n    </tr>\n    <tr>\n      <th>9165</th>\n      <td>189750.0</td>\n      <td>750.0</td>\n      <td>[26706.740722147282, 36031.23644839294, 39601.136347332256, 47835.65615730592, 51022.05405508484...</td>\n      <td>[pp_0049, pp_0039, pp_0038, pp_0037, pp_0026, pp_0025, pp_0036, pp_0024, pp_0048, pp_0023, pp_00...</td>\n      <td>[0.3975097915375511, 0.17908021105208377, -0.03536797030154369, -0.005045391610431755, 0.0382180...</td>\n      <td>204.844580</td>\n    </tr>\n    <tr>\n      <th>9166</th>\n      <td>191250.0</td>\n      <td>750.0</td>\n      <td>[27658.633371878663, 36124.783736376885, 40249.22359499621, 48836.46178829912, 51088.1590977792,...</td>\n      <td>[pp_0049, pp_0039, pp_0038, pp_0037, pp_0026, pp_0025, pp_0036, pp_0024, pp_0048, pp_0023, pp_00...</td>\n      <td>[0.3828088139077142, 0.1861787785268699, -0.03497911033073283, -0.006002509506110658, 0.04028154...</td>\n      <td>207.009190</td>\n    </tr>\n    <tr>\n      <th>9167</th>\n      <td>192750.0</td>\n      <td>750.0</td>\n      <td>[28657.4597618142, 36280.15986734347, 40942.032191868544, 49862.310415783984, 51198.14449762804,...</td>\n      <td>[pp_0049, pp_0039, pp_0038, pp_0037, pp_0026, pp_0025, pp_0036, pp_0024, pp_0048, pp_0023, pp_00...</td>\n      <td>[0.36810799322182797, 0.1925075150803458, -0.034650148677648214, -0.006736078670192445, 0.042471...</td>\n      <td>209.141525</td>\n    </tr>\n    <tr>\n      <th>9168</th>\n      <td>194250.0</td>\n      <td>750.0</td>\n      <td>[29698.484809834998, 36496.57518178932, 41677.33196834941, 50911.68824543142, 51351.72830587107,...</td>\n      <td>[pp_0049, pp_0039, pp_0038, pp_0037, pp_0026, pp_0025, pp_0036, pp_0024, pp_0048, pp_0023, pp_00...</td>\n      <td>[0.35354909288878256, 0.19802761777296263, -0.03437633662846295, -0.007275025549206388, 0.044771...</td>\n      <td>211.226609</td>\n    </tr>\n    <tr>\n      <th>9169</th>\n      <td>195750.0</td>\n      <td>750.0</td>\n      <td>[30777.426793024788, 36772.952016393785, 42452.91509425472, 51548.52083231875, 51983.17035349037...</td>\n      <td>[pp_0049, pp_0039, pp_0038, pp_0026, pp_0037, pp_0025, pp_0024, pp_0036, pp_0048, pp_0023, pp_00...</td>\n      <td>[0.3392481299097972, 0.2027184213238596, -0.03414971304551258, 0.047164786923231436, -0.00764598...</td>\n      <td>213.253681</td>\n    </tr>\n  </tbody>\n</table>\n<p>9170 rows × 6 columns</p>\n</div>"
     },
     "metadata": {},
     "execution_count": 161
    }
   ],
   "source": [
    "df"
   ]
  },
  {
   "cell_type": "markdown",
   "metadata": {},
   "source": [
    "We see that there is one row for each model cell, and for each row, we see the distance, names, and weight for the \"nearby\" pilot points.  The interpolated value for cells that have a pilot point at their center only need one weight - 1.0 - and one pilot point.  Other cells are weighted combinations of pilot points.  Is this clear?  "
   ]
  },
  {
   "cell_type": "markdown",
   "metadata": {},
   "source": [
    "### Now we need to save the factors (weights) to a special file that we will use later to quickly generate a new HK array from a set of pilot point values:"
   ]
  },
  {
   "cell_type": "code",
   "execution_count": 162,
   "metadata": {},
   "outputs": [],
   "source": [
    "ok.to_grid_factors_file(ppf+\".fac\")"
   ]
  },
  {
   "cell_type": "markdown",
   "metadata": {},
   "source": [
    "Just for demo purposes, lets generate ``random`` pilot point values and run them through the factors to see what the ``hk`` array looks like"
   ]
  },
  {
   "cell_type": "code",
   "execution_count": 163,
   "metadata": {},
   "outputs": [],
   "source": [
    "# generate random values\n",
    "pp_df.loc[:,\"parval1\"] = np.random.random(pp_df.shape[0])\n",
    "# save a pilot points file\n",
    "pyemu.pp_utils.write_pp_file(ppf,pp_df)"
   ]
  },
  {
   "cell_type": "code",
   "execution_count": 164,
   "metadata": {},
   "outputs": [],
   "source": [
    "# interpolate the pilot point values to the grid\n",
    "hk_arr = pyemu.utils.geostats.fac2real(ppf,factors_file=ppf+\".fac\",out_file=None)"
   ]
  },
  {
   "cell_type": "code",
   "execution_count": 165,
   "metadata": {
    "collapsed": true,
    "jupyter": {
     "outputs_hidden": true
    }
   },
   "outputs": [
    {
     "output_type": "execute_result",
     "data": {
      "text/plain": [
       "<matplotlib.collections.PathCollection at 0x2d07dd39448>"
      ]
     },
     "metadata": {},
     "execution_count": 165
    },
    {
     "output_type": "display_data",
     "data": {
      "text/plain": "<Figure size 432x288 with 1 Axes>",
      "image/svg+xml": "<?xml version=\"1.0\" encoding=\"utf-8\" standalone=\"no\"?>\r\n<!DOCTYPE svg PUBLIC \"-//W3C//DTD SVG 1.1//EN\"\r\n  \"http://www.w3.org/Graphics/SVG/1.1/DTD/svg11.dtd\">\r\n<!-- Created with matplotlib (https://matplotlib.org/) -->\r\n<svg height=\"206.107638pt\" version=\"1.1\" viewBox=\"0 0 379.105 206.107638\" width=\"379.105pt\" xmlns=\"http://www.w3.org/2000/svg\" xmlns:xlink=\"http://www.w3.org/1999/xlink\">\r\n <metadata>\r\n  <rdf:RDF xmlns:cc=\"http://creativecommons.org/ns#\" xmlns:dc=\"http://purl.org/dc/elements/1.1/\" xmlns:rdf=\"http://www.w3.org/1999/02/22-rdf-syntax-ns#\">\r\n   <cc:Work>\r\n    <dc:type rdf:resource=\"http://purl.org/dc/dcmitype/StillImage\"/>\r\n    <dc:date>2021-01-23T17:40:41.917705</dc:date>\r\n    <dc:format>image/svg+xml</dc:format>\r\n    <dc:creator>\r\n     <cc:Agent>\r\n      <dc:title>Matplotlib v3.3.0, https://matplotlib.org/</dc:title>\r\n     </cc:Agent>\r\n    </dc:creator>\r\n   </cc:Work>\r\n  </rdf:RDF>\r\n </metadata>\r\n <defs>\r\n  <style type=\"text/css\">*{stroke-linecap:butt;stroke-linejoin:round;}</style>\r\n </defs>\r\n <g id=\"figure_1\">\r\n  <g id=\"patch_1\">\r\n   <path d=\"M 0 206.107638 \r\nL 379.105 206.107638 \r\nL 379.105 0 \r\nL 0 0 \r\nz\r\n\" style=\"fill:none;\"/>\r\n  </g>\r\n  <g id=\"axes_1\">\r\n   <g id=\"patch_2\">\r\n    <path d=\"M 37.105 186.100763 \r\nL 371.905 186.100763 \r\nL 371.905 7.2 \r\nL 37.105 7.2 \r\nz\r\n\" style=\"fill:#ffffff;\"/>\r\n   </g>\r\n   <g clip-path=\"url(#p2ded6d1f98)\">\r\n    <image height=\"179\" id=\"image24cd958159\" transform=\"scale(1 -1)translate(0 -179)\" width=\"335\" x=\"37.105\" xlink:href=\"data:image/png;base64,\r\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\" y=\"-7.100763\"/>\r\n   </g>\r\n   <g id=\"PathCollection_1\">\r\n    <defs>\r\n     <path d=\"M 0 0.5 \r\nC 0.132602 0.5 0.25979 0.447317 0.353553 0.353553 \r\nC 0.447317 0.25979 0.5 0.132602 0.5 0 \r\nC 0.5 -0.132602 0.447317 -0.25979 0.353553 -0.353553 \r\nC 0.25979 -0.447317 0.132602 -0.5 0 -0.5 \r\nC -0.132602 -0.5 -0.25979 -0.447317 -0.353553 -0.353553 \r\nC -0.447317 -0.25979 -0.5 -0.132602 -0.5 0 \r\nC -0.5 0.132602 -0.447317 0.25979 -0.353553 0.353553 \r\nC -0.25979 0.447317 -0.132602 0.5 0 0.5 \r\nz\r\n\" id=\"mec63ff8eb4\" style=\"stroke:#000000;\"/>\r\n    </defs>\r\n    <g clip-path=\"url(#p2ded6d1f98)\">\r\n     <use style=\"stroke:#000000;\" x=\"153.390496\" xlink:href=\"#mec63ff8eb4\" y=\"21.256489\"/>\r\n     <use style=\"stroke:#000000;\" x=\"178.947748\" xlink:href=\"#mec63ff8eb4\" y=\"21.256489\"/>\r\n     <use style=\"stroke:#000000;\" x=\"127.833244\" xlink:href=\"#mec63ff8eb4\" y=\"46.81374\"/>\r\n     <use style=\"stroke:#000000;\" x=\"153.390496\" xlink:href=\"#mec63ff8eb4\" y=\"46.81374\"/>\r\n     <use style=\"stroke:#000000;\" x=\"178.947748\" xlink:href=\"#mec63ff8eb4\" y=\"46.81374\"/>\r\n     <use style=\"stroke:#000000;\" x=\"204.505\" xlink:href=\"#mec63ff8eb4\" y=\"46.81374\"/>\r\n     <use style=\"stroke:#000000;\" x=\"230.062252\" xlink:href=\"#mec63ff8eb4\" y=\"46.81374\"/>\r\n     <use style=\"stroke:#000000;\" x=\"102.275992\" xlink:href=\"#mec63ff8eb4\" y=\"72.370992\"/>\r\n     <use style=\"stroke:#000000;\" x=\"127.833244\" xlink:href=\"#mec63ff8eb4\" y=\"72.370992\"/>\r\n     <use style=\"stroke:#000000;\" x=\"153.390496\" xlink:href=\"#mec63ff8eb4\" y=\"72.370992\"/>\r\n     <use style=\"stroke:#000000;\" x=\"178.947748\" xlink:href=\"#mec63ff8eb4\" y=\"72.370992\"/>\r\n     <use style=\"stroke:#000000;\" x=\"204.505\" xlink:href=\"#mec63ff8eb4\" y=\"72.370992\"/>\r\n     <use style=\"stroke:#000000;\" x=\"230.062252\" xlink:href=\"#mec63ff8eb4\" y=\"72.370992\"/>\r\n     <use style=\"stroke:#000000;\" x=\"255.619504\" xlink:href=\"#mec63ff8eb4\" y=\"72.370992\"/>\r\n     <use style=\"stroke:#000000;\" x=\"51.161489\" xlink:href=\"#mec63ff8eb4\" y=\"97.928244\"/>\r\n     <use style=\"stroke:#000000;\" x=\"76.71874\" xlink:href=\"#mec63ff8eb4\" y=\"97.928244\"/>\r\n     <use style=\"stroke:#000000;\" x=\"102.275992\" xlink:href=\"#mec63ff8eb4\" y=\"97.928244\"/>\r\n     <use style=\"stroke:#000000;\" x=\"127.833244\" xlink:href=\"#mec63ff8eb4\" y=\"97.928244\"/>\r\n     <use style=\"stroke:#000000;\" x=\"153.390496\" xlink:href=\"#mec63ff8eb4\" y=\"97.928244\"/>\r\n     <use style=\"stroke:#000000;\" x=\"178.947748\" xlink:href=\"#mec63ff8eb4\" y=\"97.928244\"/>\r\n     <use style=\"stroke:#000000;\" x=\"204.505\" xlink:href=\"#mec63ff8eb4\" y=\"97.928244\"/>\r\n     <use style=\"stroke:#000000;\" x=\"230.062252\" xlink:href=\"#mec63ff8eb4\" y=\"97.928244\"/>\r\n     <use style=\"stroke:#000000;\" x=\"255.619504\" xlink:href=\"#mec63ff8eb4\" y=\"97.928244\"/>\r\n     <use style=\"stroke:#000000;\" x=\"281.176756\" xlink:href=\"#mec63ff8eb4\" y=\"97.928244\"/>\r\n     <use style=\"stroke:#000000;\" x=\"306.734008\" xlink:href=\"#mec63ff8eb4\" y=\"97.928244\"/>\r\n     <use style=\"stroke:#000000;\" x=\"332.29126\" xlink:href=\"#mec63ff8eb4\" y=\"97.928244\"/>\r\n     <use style=\"stroke:#000000;\" x=\"357.848511\" xlink:href=\"#mec63ff8eb4\" y=\"97.928244\"/>\r\n     <use style=\"stroke:#000000;\" x=\"51.161489\" xlink:href=\"#mec63ff8eb4\" y=\"123.485496\"/>\r\n     <use style=\"stroke:#000000;\" x=\"76.71874\" xlink:href=\"#mec63ff8eb4\" y=\"123.485496\"/>\r\n     <use style=\"stroke:#000000;\" x=\"102.275992\" xlink:href=\"#mec63ff8eb4\" y=\"123.485496\"/>\r\n     <use style=\"stroke:#000000;\" x=\"127.833244\" xlink:href=\"#mec63ff8eb4\" y=\"123.485496\"/>\r\n     <use style=\"stroke:#000000;\" x=\"153.390496\" xlink:href=\"#mec63ff8eb4\" y=\"123.485496\"/>\r\n     <use style=\"stroke:#000000;\" x=\"178.947748\" xlink:href=\"#mec63ff8eb4\" y=\"123.485496\"/>\r\n     <use style=\"stroke:#000000;\" x=\"204.505\" xlink:href=\"#mec63ff8eb4\" y=\"123.485496\"/>\r\n     <use style=\"stroke:#000000;\" x=\"230.062252\" xlink:href=\"#mec63ff8eb4\" y=\"123.485496\"/>\r\n     <use style=\"stroke:#000000;\" x=\"255.619504\" xlink:href=\"#mec63ff8eb4\" y=\"123.485496\"/>\r\n     <use style=\"stroke:#000000;\" x=\"281.176756\" xlink:href=\"#mec63ff8eb4\" y=\"123.485496\"/>\r\n     <use style=\"stroke:#000000;\" x=\"306.734008\" xlink:href=\"#mec63ff8eb4\" y=\"123.485496\"/>\r\n     <use style=\"stroke:#000000;\" x=\"332.29126\" xlink:href=\"#mec63ff8eb4\" y=\"123.485496\"/>\r\n     <use style=\"stroke:#000000;\" x=\"357.848511\" xlink:href=\"#mec63ff8eb4\" y=\"123.485496\"/>\r\n     <use style=\"stroke:#000000;\" x=\"51.161489\" xlink:href=\"#mec63ff8eb4\" y=\"149.042748\"/>\r\n     <use style=\"stroke:#000000;\" x=\"76.71874\" xlink:href=\"#mec63ff8eb4\" y=\"149.042748\"/>\r\n     <use style=\"stroke:#000000;\" x=\"102.275992\" xlink:href=\"#mec63ff8eb4\" y=\"149.042748\"/>\r\n     <use style=\"stroke:#000000;\" x=\"127.833244\" xlink:href=\"#mec63ff8eb4\" y=\"149.042748\"/>\r\n     <use style=\"stroke:#000000;\" x=\"153.390496\" xlink:href=\"#mec63ff8eb4\" y=\"149.042748\"/>\r\n     <use style=\"stroke:#000000;\" x=\"178.947748\" xlink:href=\"#mec63ff8eb4\" y=\"149.042748\"/>\r\n     <use style=\"stroke:#000000;\" x=\"204.505\" xlink:href=\"#mec63ff8eb4\" y=\"149.042748\"/>\r\n     <use style=\"stroke:#000000;\" x=\"230.062252\" xlink:href=\"#mec63ff8eb4\" y=\"149.042748\"/>\r\n     <use style=\"stroke:#000000;\" x=\"255.619504\" xlink:href=\"#mec63ff8eb4\" y=\"149.042748\"/>\r\n     <use style=\"stroke:#000000;\" x=\"332.29126\" xlink:href=\"#mec63ff8eb4\" y=\"149.042748\"/>\r\n    </g>\r\n   </g>\r\n   <g id=\"matplotlib.axis_1\">\r\n    <g id=\"xtick_1\">\r\n     <g id=\"line2d_1\">\r\n      <defs>\r\n       <path d=\"M 0 0 \r\nL 0 3.5 \r\n\" id=\"m0537bf3034\" style=\"stroke:#000000;stroke-width:0.8;\"/>\r\n      </defs>\r\n      <g>\r\n       <use style=\"stroke:#000000;stroke-width:0.8;\" x=\"37.105\" xlink:href=\"#m0537bf3034\" y=\"186.100763\"/>\r\n      </g>\r\n     </g>\r\n     <g id=\"text_1\">\r\n      <!-- 0 -->\r\n      <g transform=\"translate(35.19625 197.659826)scale(0.06 -0.06)\">\r\n       <defs>\r\n        <path d=\"M 31.78125 66.40625 \r\nQ 24.171875 66.40625 20.328125 58.90625 \r\nQ 16.5 51.421875 16.5 36.375 \r\nQ 16.5 21.390625 20.328125 13.890625 \r\nQ 24.171875 6.390625 31.78125 6.390625 \r\nQ 39.453125 6.390625 43.28125 13.890625 \r\nQ 47.125 21.390625 47.125 36.375 \r\nQ 47.125 51.421875 43.28125 58.90625 \r\nQ 39.453125 66.40625 31.78125 66.40625 \r\nz\r\nM 31.78125 74.21875 \r\nQ 44.046875 74.21875 50.515625 64.515625 \r\nQ 56.984375 54.828125 56.984375 36.375 \r\nQ 56.984375 17.96875 50.515625 8.265625 \r\nQ 44.046875 -1.421875 31.78125 -1.421875 \r\nQ 19.53125 -1.421875 13.0625 8.265625 \r\nQ 6.59375 17.96875 6.59375 36.375 \r\nQ 6.59375 54.828125 13.0625 64.515625 \r\nQ 19.53125 74.21875 31.78125 74.21875 \r\nz\r\n\" id=\"DejaVuSans-48\"/>\r\n       </defs>\r\n       <use xlink:href=\"#DejaVuSans-48\"/>\r\n      </g>\r\n     </g>\r\n    </g>\r\n    <g id=\"xtick_2\">\r\n     <g id=\"line2d_2\">\r\n      <g>\r\n       <use style=\"stroke:#000000;stroke-width:0.8;\" x=\"79.70042\" xlink:href=\"#m0537bf3034\" y=\"186.100763\"/>\r\n      </g>\r\n     </g>\r\n     <g id=\"text_2\">\r\n      <!-- 25000 -->\r\n      <g transform=\"translate(70.15667 197.659826)scale(0.06 -0.06)\">\r\n       <defs>\r\n        <path d=\"M 19.1875 8.296875 \r\nL 53.609375 8.296875 \r\nL 53.609375 0 \r\nL 7.328125 0 \r\nL 7.328125 8.296875 \r\nQ 12.9375 14.109375 22.625 23.890625 \r\nQ 32.328125 33.6875 34.8125 36.53125 \r\nQ 39.546875 41.84375 41.421875 45.53125 \r\nQ 43.3125 49.21875 43.3125 52.78125 \r\nQ 43.3125 58.59375 39.234375 62.25 \r\nQ 35.15625 65.921875 28.609375 65.921875 \r\nQ 23.96875 65.921875 18.8125 64.3125 \r\nQ 13.671875 62.703125 7.8125 59.421875 \r\nL 7.8125 69.390625 \r\nQ 13.765625 71.78125 18.9375 73 \r\nQ 24.125 74.21875 28.421875 74.21875 \r\nQ 39.75 74.21875 46.484375 68.546875 \r\nQ 53.21875 62.890625 53.21875 53.421875 \r\nQ 53.21875 48.921875 51.53125 44.890625 \r\nQ 49.859375 40.875 45.40625 35.40625 \r\nQ 44.1875 33.984375 37.640625 27.21875 \r\nQ 31.109375 20.453125 19.1875 8.296875 \r\nz\r\n\" id=\"DejaVuSans-50\"/>\r\n        <path d=\"M 10.796875 72.90625 \r\nL 49.515625 72.90625 \r\nL 49.515625 64.59375 \r\nL 19.828125 64.59375 \r\nL 19.828125 46.734375 \r\nQ 21.96875 47.46875 24.109375 47.828125 \r\nQ 26.265625 48.1875 28.421875 48.1875 \r\nQ 40.625 48.1875 47.75 41.5 \r\nQ 54.890625 34.8125 54.890625 23.390625 \r\nQ 54.890625 11.625 47.5625 5.09375 \r\nQ 40.234375 -1.421875 26.90625 -1.421875 \r\nQ 22.3125 -1.421875 17.546875 -0.640625 \r\nQ 12.796875 0.140625 7.71875 1.703125 \r\nL 7.71875 11.625 \r\nQ 12.109375 9.234375 16.796875 8.0625 \r\nQ 21.484375 6.890625 26.703125 6.890625 \r\nQ 35.15625 6.890625 40.078125 11.328125 \r\nQ 45.015625 15.765625 45.015625 23.390625 \r\nQ 45.015625 31 40.078125 35.4375 \r\nQ 35.15625 39.890625 26.703125 39.890625 \r\nQ 22.75 39.890625 18.8125 39.015625 \r\nQ 14.890625 38.140625 10.796875 36.28125 \r\nz\r\n\" id=\"DejaVuSans-53\"/>\r\n       </defs>\r\n       <use xlink:href=\"#DejaVuSans-50\"/>\r\n       <use x=\"63.623047\" xlink:href=\"#DejaVuSans-53\"/>\r\n       <use x=\"127.246094\" xlink:href=\"#DejaVuSans-48\"/>\r\n       <use x=\"190.869141\" xlink:href=\"#DejaVuSans-48\"/>\r\n       <use x=\"254.492188\" xlink:href=\"#DejaVuSans-48\"/>\r\n      </g>\r\n     </g>\r\n    </g>\r\n    <g id=\"xtick_3\">\r\n     <g id=\"line2d_3\">\r\n      <g>\r\n       <use style=\"stroke:#000000;stroke-width:0.8;\" x=\"122.29584\" xlink:href=\"#m0537bf3034\" y=\"186.100763\"/>\r\n      </g>\r\n     </g>\r\n     <g id=\"text_3\">\r\n      <!-- 50000 -->\r\n      <g transform=\"translate(112.75209 197.659826)scale(0.06 -0.06)\">\r\n       <use xlink:href=\"#DejaVuSans-53\"/>\r\n       <use x=\"63.623047\" xlink:href=\"#DejaVuSans-48\"/>\r\n       <use x=\"127.246094\" xlink:href=\"#DejaVuSans-48\"/>\r\n       <use x=\"190.869141\" xlink:href=\"#DejaVuSans-48\"/>\r\n       <use x=\"254.492188\" xlink:href=\"#DejaVuSans-48\"/>\r\n      </g>\r\n     </g>\r\n    </g>\r\n    <g id=\"xtick_4\">\r\n     <g id=\"line2d_4\">\r\n      <g>\r\n       <use style=\"stroke:#000000;stroke-width:0.8;\" x=\"164.89126\" xlink:href=\"#m0537bf3034\" y=\"186.100763\"/>\r\n      </g>\r\n     </g>\r\n     <g id=\"text_4\">\r\n      <!-- 75000 -->\r\n      <g transform=\"translate(155.34751 197.659826)scale(0.06 -0.06)\">\r\n       <defs>\r\n        <path d=\"M 8.203125 72.90625 \r\nL 55.078125 72.90625 \r\nL 55.078125 68.703125 \r\nL 28.609375 0 \r\nL 18.3125 0 \r\nL 43.21875 64.59375 \r\nL 8.203125 64.59375 \r\nz\r\n\" id=\"DejaVuSans-55\"/>\r\n       </defs>\r\n       <use xlink:href=\"#DejaVuSans-55\"/>\r\n       <use x=\"63.623047\" xlink:href=\"#DejaVuSans-53\"/>\r\n       <use x=\"127.246094\" xlink:href=\"#DejaVuSans-48\"/>\r\n       <use x=\"190.869141\" xlink:href=\"#DejaVuSans-48\"/>\r\n       <use x=\"254.492188\" xlink:href=\"#DejaVuSans-48\"/>\r\n      </g>\r\n     </g>\r\n    </g>\r\n    <g id=\"xtick_5\">\r\n     <g id=\"line2d_5\">\r\n      <g>\r\n       <use style=\"stroke:#000000;stroke-width:0.8;\" x=\"207.486679\" xlink:href=\"#m0537bf3034\" y=\"186.100763\"/>\r\n      </g>\r\n     </g>\r\n     <g id=\"text_5\">\r\n      <!-- 100000 -->\r\n      <g transform=\"translate(196.034179 197.659826)scale(0.06 -0.06)\">\r\n       <defs>\r\n        <path d=\"M 12.40625 8.296875 \r\nL 28.515625 8.296875 \r\nL 28.515625 63.921875 \r\nL 10.984375 60.40625 \r\nL 10.984375 69.390625 \r\nL 28.421875 72.90625 \r\nL 38.28125 72.90625 \r\nL 38.28125 8.296875 \r\nL 54.390625 8.296875 \r\nL 54.390625 0 \r\nL 12.40625 0 \r\nz\r\n\" id=\"DejaVuSans-49\"/>\r\n       </defs>\r\n       <use xlink:href=\"#DejaVuSans-49\"/>\r\n       <use x=\"63.623047\" xlink:href=\"#DejaVuSans-48\"/>\r\n       <use x=\"127.246094\" xlink:href=\"#DejaVuSans-48\"/>\r\n       <use x=\"190.869141\" xlink:href=\"#DejaVuSans-48\"/>\r\n       <use x=\"254.492188\" xlink:href=\"#DejaVuSans-48\"/>\r\n       <use x=\"318.115234\" xlink:href=\"#DejaVuSans-48\"/>\r\n      </g>\r\n     </g>\r\n    </g>\r\n    <g id=\"xtick_6\">\r\n     <g id=\"line2d_6\">\r\n      <g>\r\n       <use style=\"stroke:#000000;stroke-width:0.8;\" x=\"250.082099\" xlink:href=\"#m0537bf3034\" y=\"186.100763\"/>\r\n      </g>\r\n     </g>\r\n     <g id=\"text_6\">\r\n      <!-- 125000 -->\r\n      <g transform=\"translate(238.629599 197.659826)scale(0.06 -0.06)\">\r\n       <use xlink:href=\"#DejaVuSans-49\"/>\r\n       <use x=\"63.623047\" xlink:href=\"#DejaVuSans-50\"/>\r\n       <use x=\"127.246094\" xlink:href=\"#DejaVuSans-53\"/>\r\n       <use x=\"190.869141\" xlink:href=\"#DejaVuSans-48\"/>\r\n       <use x=\"254.492188\" xlink:href=\"#DejaVuSans-48\"/>\r\n       <use x=\"318.115234\" xlink:href=\"#DejaVuSans-48\"/>\r\n      </g>\r\n     </g>\r\n    </g>\r\n    <g id=\"xtick_7\">\r\n     <g id=\"line2d_7\">\r\n      <g>\r\n       <use style=\"stroke:#000000;stroke-width:0.8;\" x=\"292.677519\" xlink:href=\"#m0537bf3034\" y=\"186.100763\"/>\r\n      </g>\r\n     </g>\r\n     <g id=\"text_7\">\r\n      <!-- 150000 -->\r\n      <g transform=\"translate(281.225019 197.659826)scale(0.06 -0.06)\">\r\n       <use xlink:href=\"#DejaVuSans-49\"/>\r\n       <use x=\"63.623047\" xlink:href=\"#DejaVuSans-53\"/>\r\n       <use x=\"127.246094\" xlink:href=\"#DejaVuSans-48\"/>\r\n       <use x=\"190.869141\" xlink:href=\"#DejaVuSans-48\"/>\r\n       <use x=\"254.492188\" xlink:href=\"#DejaVuSans-48\"/>\r\n       <use x=\"318.115234\" xlink:href=\"#DejaVuSans-48\"/>\r\n      </g>\r\n     </g>\r\n    </g>\r\n    <g id=\"xtick_8\">\r\n     <g id=\"line2d_8\">\r\n      <g>\r\n       <use style=\"stroke:#000000;stroke-width:0.8;\" x=\"335.272939\" xlink:href=\"#m0537bf3034\" y=\"186.100763\"/>\r\n      </g>\r\n     </g>\r\n     <g id=\"text_8\">\r\n      <!-- 175000 -->\r\n      <g transform=\"translate(323.820439 197.659826)scale(0.06 -0.06)\">\r\n       <use xlink:href=\"#DejaVuSans-49\"/>\r\n       <use x=\"63.623047\" xlink:href=\"#DejaVuSans-55\"/>\r\n       <use x=\"127.246094\" xlink:href=\"#DejaVuSans-53\"/>\r\n       <use x=\"190.869141\" xlink:href=\"#DejaVuSans-48\"/>\r\n       <use x=\"254.492188\" xlink:href=\"#DejaVuSans-48\"/>\r\n       <use x=\"318.115234\" xlink:href=\"#DejaVuSans-48\"/>\r\n      </g>\r\n     </g>\r\n    </g>\r\n   </g>\r\n   <g id=\"matplotlib.axis_2\">\r\n    <g id=\"ytick_1\">\r\n     <g id=\"line2d_9\">\r\n      <defs>\r\n       <path d=\"M 0 0 \r\nL -3.5 0 \r\n\" id=\"m785fa7439e\" style=\"stroke:#000000;stroke-width:0.8;\"/>\r\n      </defs>\r\n      <g>\r\n       <use style=\"stroke:#000000;stroke-width:0.8;\" x=\"37.105\" xlink:href=\"#m785fa7439e\" y=\"186.100763\"/>\r\n      </g>\r\n     </g>\r\n     <g id=\"text_9\">\r\n      <!-- 0 -->\r\n      <g transform=\"translate(26.2875 188.380295)scale(0.06 -0.06)\">\r\n       <use xlink:href=\"#DejaVuSans-48\"/>\r\n      </g>\r\n     </g>\r\n    </g>\r\n    <g id=\"ytick_2\">\r\n     <g id=\"line2d_10\">\r\n      <g>\r\n       <use style=\"stroke:#000000;stroke-width:0.8;\" x=\"37.105\" xlink:href=\"#m785fa7439e\" y=\"152.024427\"/>\r\n      </g>\r\n     </g>\r\n     <g id=\"text_10\">\r\n      <!-- 20000 -->\r\n      <g transform=\"translate(11.0175 154.303959)scale(0.06 -0.06)\">\r\n       <use xlink:href=\"#DejaVuSans-50\"/>\r\n       <use x=\"63.623047\" xlink:href=\"#DejaVuSans-48\"/>\r\n       <use x=\"127.246094\" xlink:href=\"#DejaVuSans-48\"/>\r\n       <use x=\"190.869141\" xlink:href=\"#DejaVuSans-48\"/>\r\n       <use x=\"254.492188\" xlink:href=\"#DejaVuSans-48\"/>\r\n      </g>\r\n     </g>\r\n    </g>\r\n    <g id=\"ytick_3\">\r\n     <g id=\"line2d_11\">\r\n      <g>\r\n       <use style=\"stroke:#000000;stroke-width:0.8;\" x=\"37.105\" xlink:href=\"#m785fa7439e\" y=\"117.948092\"/>\r\n      </g>\r\n     </g>\r\n     <g id=\"text_11\">\r\n      <!-- 40000 -->\r\n      <g transform=\"translate(11.0175 120.227623)scale(0.06 -0.06)\">\r\n       <defs>\r\n        <path d=\"M 37.796875 64.3125 \r\nL 12.890625 25.390625 \r\nL 37.796875 25.390625 \r\nz\r\nM 35.203125 72.90625 \r\nL 47.609375 72.90625 \r\nL 47.609375 25.390625 \r\nL 58.015625 25.390625 \r\nL 58.015625 17.1875 \r\nL 47.609375 17.1875 \r\nL 47.609375 0 \r\nL 37.796875 0 \r\nL 37.796875 17.1875 \r\nL 4.890625 17.1875 \r\nL 4.890625 26.703125 \r\nz\r\n\" id=\"DejaVuSans-52\"/>\r\n       </defs>\r\n       <use xlink:href=\"#DejaVuSans-52\"/>\r\n       <use x=\"63.623047\" xlink:href=\"#DejaVuSans-48\"/>\r\n       <use x=\"127.246094\" xlink:href=\"#DejaVuSans-48\"/>\r\n       <use x=\"190.869141\" xlink:href=\"#DejaVuSans-48\"/>\r\n       <use x=\"254.492188\" xlink:href=\"#DejaVuSans-48\"/>\r\n      </g>\r\n     </g>\r\n    </g>\r\n    <g id=\"ytick_4\">\r\n     <g id=\"line2d_12\">\r\n      <g>\r\n       <use style=\"stroke:#000000;stroke-width:0.8;\" x=\"37.105\" xlink:href=\"#m785fa7439e\" y=\"83.871756\"/>\r\n      </g>\r\n     </g>\r\n     <g id=\"text_12\">\r\n      <!-- 60000 -->\r\n      <g transform=\"translate(11.0175 86.151287)scale(0.06 -0.06)\">\r\n       <defs>\r\n        <path d=\"M 33.015625 40.375 \r\nQ 26.375 40.375 22.484375 35.828125 \r\nQ 18.609375 31.296875 18.609375 23.390625 \r\nQ 18.609375 15.53125 22.484375 10.953125 \r\nQ 26.375 6.390625 33.015625 6.390625 \r\nQ 39.65625 6.390625 43.53125 10.953125 \r\nQ 47.40625 15.53125 47.40625 23.390625 \r\nQ 47.40625 31.296875 43.53125 35.828125 \r\nQ 39.65625 40.375 33.015625 40.375 \r\nz\r\nM 52.59375 71.296875 \r\nL 52.59375 62.3125 \r\nQ 48.875 64.0625 45.09375 64.984375 \r\nQ 41.3125 65.921875 37.59375 65.921875 \r\nQ 27.828125 65.921875 22.671875 59.328125 \r\nQ 17.53125 52.734375 16.796875 39.40625 \r\nQ 19.671875 43.65625 24.015625 45.921875 \r\nQ 28.375 48.1875 33.59375 48.1875 \r\nQ 44.578125 48.1875 50.953125 41.515625 \r\nQ 57.328125 34.859375 57.328125 23.390625 \r\nQ 57.328125 12.15625 50.6875 5.359375 \r\nQ 44.046875 -1.421875 33.015625 -1.421875 \r\nQ 20.359375 -1.421875 13.671875 8.265625 \r\nQ 6.984375 17.96875 6.984375 36.375 \r\nQ 6.984375 53.65625 15.1875 63.9375 \r\nQ 23.390625 74.21875 37.203125 74.21875 \r\nQ 40.921875 74.21875 44.703125 73.484375 \r\nQ 48.484375 72.75 52.59375 71.296875 \r\nz\r\n\" id=\"DejaVuSans-54\"/>\r\n       </defs>\r\n       <use xlink:href=\"#DejaVuSans-54\"/>\r\n       <use x=\"63.623047\" xlink:href=\"#DejaVuSans-48\"/>\r\n       <use x=\"127.246094\" xlink:href=\"#DejaVuSans-48\"/>\r\n       <use x=\"190.869141\" xlink:href=\"#DejaVuSans-48\"/>\r\n       <use x=\"254.492188\" xlink:href=\"#DejaVuSans-48\"/>\r\n      </g>\r\n     </g>\r\n    </g>\r\n    <g id=\"ytick_5\">\r\n     <g id=\"line2d_13\">\r\n      <g>\r\n       <use style=\"stroke:#000000;stroke-width:0.8;\" x=\"37.105\" xlink:href=\"#m785fa7439e\" y=\"49.79542\"/>\r\n      </g>\r\n     </g>\r\n     <g id=\"text_13\">\r\n      <!-- 80000 -->\r\n      <g transform=\"translate(11.0175 52.074951)scale(0.06 -0.06)\">\r\n       <defs>\r\n        <path d=\"M 31.78125 34.625 \r\nQ 24.75 34.625 20.71875 30.859375 \r\nQ 16.703125 27.09375 16.703125 20.515625 \r\nQ 16.703125 13.921875 20.71875 10.15625 \r\nQ 24.75 6.390625 31.78125 6.390625 \r\nQ 38.8125 6.390625 42.859375 10.171875 \r\nQ 46.921875 13.96875 46.921875 20.515625 \r\nQ 46.921875 27.09375 42.890625 30.859375 \r\nQ 38.875 34.625 31.78125 34.625 \r\nz\r\nM 21.921875 38.8125 \r\nQ 15.578125 40.375 12.03125 44.71875 \r\nQ 8.5 49.078125 8.5 55.328125 \r\nQ 8.5 64.0625 14.71875 69.140625 \r\nQ 20.953125 74.21875 31.78125 74.21875 \r\nQ 42.671875 74.21875 48.875 69.140625 \r\nQ 55.078125 64.0625 55.078125 55.328125 \r\nQ 55.078125 49.078125 51.53125 44.71875 \r\nQ 48 40.375 41.703125 38.8125 \r\nQ 48.828125 37.15625 52.796875 32.3125 \r\nQ 56.78125 27.484375 56.78125 20.515625 \r\nQ 56.78125 9.90625 50.3125 4.234375 \r\nQ 43.84375 -1.421875 31.78125 -1.421875 \r\nQ 19.734375 -1.421875 13.25 4.234375 \r\nQ 6.78125 9.90625 6.78125 20.515625 \r\nQ 6.78125 27.484375 10.78125 32.3125 \r\nQ 14.796875 37.15625 21.921875 38.8125 \r\nz\r\nM 18.3125 54.390625 \r\nQ 18.3125 48.734375 21.84375 45.5625 \r\nQ 25.390625 42.390625 31.78125 42.390625 \r\nQ 38.140625 42.390625 41.71875 45.5625 \r\nQ 45.3125 48.734375 45.3125 54.390625 \r\nQ 45.3125 60.0625 41.71875 63.234375 \r\nQ 38.140625 66.40625 31.78125 66.40625 \r\nQ 25.390625 66.40625 21.84375 63.234375 \r\nQ 18.3125 60.0625 18.3125 54.390625 \r\nz\r\n\" id=\"DejaVuSans-56\"/>\r\n       </defs>\r\n       <use xlink:href=\"#DejaVuSans-56\"/>\r\n       <use x=\"63.623047\" xlink:href=\"#DejaVuSans-48\"/>\r\n       <use x=\"127.246094\" xlink:href=\"#DejaVuSans-48\"/>\r\n       <use x=\"190.869141\" xlink:href=\"#DejaVuSans-48\"/>\r\n       <use x=\"254.492188\" xlink:href=\"#DejaVuSans-48\"/>\r\n      </g>\r\n     </g>\r\n    </g>\r\n    <g id=\"ytick_6\">\r\n     <g id=\"line2d_14\">\r\n      <g>\r\n       <use style=\"stroke:#000000;stroke-width:0.8;\" x=\"37.105\" xlink:href=\"#m785fa7439e\" y=\"15.719084\"/>\r\n      </g>\r\n     </g>\r\n     <g id=\"text_14\">\r\n      <!-- 100000 -->\r\n      <g transform=\"translate(7.2 17.998615)scale(0.06 -0.06)\">\r\n       <use xlink:href=\"#DejaVuSans-49\"/>\r\n       <use x=\"63.623047\" xlink:href=\"#DejaVuSans-48\"/>\r\n       <use x=\"127.246094\" xlink:href=\"#DejaVuSans-48\"/>\r\n       <use x=\"190.869141\" xlink:href=\"#DejaVuSans-48\"/>\r\n       <use x=\"254.492188\" xlink:href=\"#DejaVuSans-48\"/>\r\n       <use x=\"318.115234\" xlink:href=\"#DejaVuSans-48\"/>\r\n      </g>\r\n     </g>\r\n    </g>\r\n   </g>\r\n   <g id=\"patch_3\">\r\n    <path d=\"M 37.105 186.100763 \r\nL 37.105 7.2 \r\n\" style=\"fill:none;stroke:#000000;stroke-linecap:square;stroke-linejoin:miter;stroke-width:0.8;\"/>\r\n   </g>\r\n   <g id=\"patch_4\">\r\n    <path d=\"M 371.905 186.100763 \r\nL 371.905 7.2 \r\n\" style=\"fill:none;stroke:#000000;stroke-linecap:square;stroke-linejoin:miter;stroke-width:0.8;\"/>\r\n   </g>\r\n   <g id=\"patch_5\">\r\n    <path d=\"M 37.105 186.100763 \r\nL 371.905 186.100763 \r\n\" style=\"fill:none;stroke:#000000;stroke-linecap:square;stroke-linejoin:miter;stroke-width:0.8;\"/>\r\n   </g>\r\n   <g id=\"patch_6\">\r\n    <path d=\"M 37.105 7.2 \r\nL 371.905 7.2 \r\n\" style=\"fill:none;stroke:#000000;stroke-linecap:square;stroke-linejoin:miter;stroke-width:0.8;\"/>\r\n   </g>\r\n  </g>\r\n </g>\r\n <defs>\r\n  <clipPath id=\"p2ded6d1f98\">\r\n   <rect height=\"178.900763\" width=\"334.8\" x=\"37.105\" y=\"7.2\"/>\r\n  </clipPath>\r\n </defs>\r\n</svg>\r\n",
      "image/png": "[encoded data removed]"
     },
     "metadata": {
      "needs_background": "light"
     }
    }
   ],
   "source": [
    "# plot\n",
    "ax = plt.subplot(111,aspect='equal')\n",
    "ax.imshow(hk_arr,interpolation=\"nearest\",extent=m.sr.get_extent(),alpha=0.5)\n",
    "ax.scatter(pp_df.x,pp_df.y,marker='.',s=4,color='k')"
   ]
  },
  {
   "cell_type": "markdown",
   "metadata": {},
   "source": [
    "What happens if you recalculate the factors using one point for every cell? Change ``max_interp_pts`` to 1 in the ``calc_factors_grid()`` and rerun these cells..."
   ]
  },
  {
   "cell_type": "markdown",
   "metadata": {},
   "source": [
    "### An aside on geostatistics and covariance matrices"
   ]
  },
  {
   "cell_type": "markdown",
   "metadata": {},
   "source": [
    "The ``GeoStruct`` object above was used to interpolate from pilot point locations to each node in the grid.  But this same ``GoeStruct`` also has an important information regarding how the pilot points are related to each other spatially---that is, the ``GeoStruct`` object implies a covariance matrix.  Let's form that matrix "
   ]
  },
  {
   "cell_type": "code",
   "execution_count": 117,
   "metadata": {},
   "outputs": [],
   "source": [
    "cov = gs.covariance_matrix(pp_df.x,pp_df.y,pp_df.parnme)"
   ]
  },
  {
   "cell_type": "code",
   "execution_count": 60,
   "metadata": {},
   "outputs": [
    {
     "output_type": "execute_result",
     "data": {
      "text/plain": [
       "<matplotlib.image.AxesImage at 0x2d0726b9448>"
      ]
     },
     "metadata": {},
     "execution_count": 60
    },
    {
     "output_type": "display_data",
     "data": {
      "text/plain": "<Figure size 432x288 with 1 Axes>",
      "image/svg+xml": "<?xml version=\"1.0\" encoding=\"utf-8\" standalone=\"no\"?>\r\n<!DOCTYPE svg PUBLIC \"-//W3C//DTD SVG 1.1//EN\"\r\n  \"http://www.w3.org/Graphics/SVG/1.1/DTD/svg11.dtd\">\r\n<!-- Created with matplotlib (https://matplotlib.org/) -->\r\n<svg height=\"244.752006pt\" version=\"1.1\" viewBox=\"0 0 246.475 244.752006\" width=\"246.475pt\" xmlns=\"http://www.w3.org/2000/svg\" xmlns:xlink=\"http://www.w3.org/1999/xlink\">\r\n <metadata>\r\n  <rdf:RDF xmlns:cc=\"http://creativecommons.org/ns#\" xmlns:dc=\"http://purl.org/dc/elements/1.1/\" xmlns:rdf=\"http://www.w3.org/1999/02/22-rdf-syntax-ns#\">\r\n   <cc:Work>\r\n    <dc:type rdf:resource=\"http://purl.org/dc/dcmitype/StillImage\"/>\r\n    <dc:date>2021-01-22T15:45:48.641990</dc:date>\r\n    <dc:format>image/svg+xml</dc:format>\r\n    <dc:creator>\r\n     <cc:Agent>\r\n      <dc:title>Matplotlib v3.3.0, https://matplotlib.org/</dc:title>\r\n     </cc:Agent>\r\n    </dc:creator>\r\n   </cc:Work>\r\n  </rdf:RDF>\r\n </metadata>\r\n <defs>\r\n  <style type=\"text/css\">*{stroke-linecap:butt;stroke-linejoin:round;}</style>\r\n </defs>\r\n <g id=\"figure_1\">\r\n  <g id=\"patch_1\">\r\n   <path d=\"M 0 244.752006 \r\nL 246.475 244.752006 \r\nL 246.475 0 \r\nL 0 0 \r\nz\r\n\" style=\"fill:none;\"/>\r\n  </g>\r\n  <g id=\"axes_1\">\r\n   <g id=\"patch_2\">\r\n    <path d=\"M 21.835 224.745131 \r\nL 239.275 224.745131 \r\nL 239.275 7.305131 \r\nL 21.835 7.305131 \r\nz\r\n\" style=\"fill:#ffffff;\"/>\r\n   </g>\r\n   <g clip-path=\"url(#p215b5e5cf4)\">\r\n    <image height=\"218\" id=\"image5371e18412\" transform=\"scale(1 -1)translate(0 -218)\" width=\"218\" x=\"21.835\" xlink:href=\"data:image/png;base64,\r\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\" y=\"-6.745131\"/>\r\n   </g>\r\n   <g id=\"matplotlib.axis_1\">\r\n    <g id=\"xtick_1\">\r\n     <g id=\"line2d_1\">\r\n      <defs>\r\n       <path d=\"M 0 0 \r\nL 0 3.5 \r\n\" id=\"me4e6b4d947\" style=\"stroke:#000000;stroke-width:0.8;\"/>\r\n      </defs>\r\n      <g>\r\n       <use style=\"stroke:#000000;stroke-width:0.8;\" x=\"24.0094\" xlink:href=\"#me4e6b4d947\" y=\"224.745131\"/>\r\n      </g>\r\n     </g>\r\n     <g id=\"text_1\">\r\n      <!-- 0 -->\r\n      <g transform=\"translate(22.10065 236.304194)scale(0.06 -0.06)\">\r\n       <defs>\r\n        <path d=\"M 31.78125 66.40625 \r\nQ 24.171875 66.40625 20.328125 58.90625 \r\nQ 16.5 51.421875 16.5 36.375 \r\nQ 16.5 21.390625 20.328125 13.890625 \r\nQ 24.171875 6.390625 31.78125 6.390625 \r\nQ 39.453125 6.390625 43.28125 13.890625 \r\nQ 47.125 21.390625 47.125 36.375 \r\nQ 47.125 51.421875 43.28125 58.90625 \r\nQ 39.453125 66.40625 31.78125 66.40625 \r\nz\r\nM 31.78125 74.21875 \r\nQ 44.046875 74.21875 50.515625 64.515625 \r\nQ 56.984375 54.828125 56.984375 36.375 \r\nQ 56.984375 17.96875 50.515625 8.265625 \r\nQ 44.046875 -1.421875 31.78125 -1.421875 \r\nQ 19.53125 -1.421875 13.0625 8.265625 \r\nQ 6.59375 17.96875 6.59375 36.375 \r\nQ 6.59375 54.828125 13.0625 64.515625 \r\nQ 19.53125 74.21875 31.78125 74.21875 \r\nz\r\n\" id=\"DejaVuSans-48\"/>\r\n       </defs>\r\n       <use xlink:href=\"#DejaVuSans-48\"/>\r\n      </g>\r\n     </g>\r\n    </g>\r\n    <g id=\"xtick_2\">\r\n     <g id=\"line2d_2\">\r\n      <g>\r\n       <use style=\"stroke:#000000;stroke-width:0.8;\" x=\"67.4974\" xlink:href=\"#me4e6b4d947\" y=\"224.745131\"/>\r\n      </g>\r\n     </g>\r\n     <g id=\"text_2\">\r\n      <!-- 10 -->\r\n      <g transform=\"translate(63.6799 236.304194)scale(0.06 -0.06)\">\r\n       <defs>\r\n        <path d=\"M 12.40625 8.296875 \r\nL 28.515625 8.296875 \r\nL 28.515625 63.921875 \r\nL 10.984375 60.40625 \r\nL 10.984375 69.390625 \r\nL 28.421875 72.90625 \r\nL 38.28125 72.90625 \r\nL 38.28125 8.296875 \r\nL 54.390625 8.296875 \r\nL 54.390625 0 \r\nL 12.40625 0 \r\nz\r\n\" id=\"DejaVuSans-49\"/>\r\n       </defs>\r\n       <use xlink:href=\"#DejaVuSans-49\"/>\r\n       <use x=\"63.623047\" xlink:href=\"#DejaVuSans-48\"/>\r\n      </g>\r\n     </g>\r\n    </g>\r\n    <g id=\"xtick_3\">\r\n     <g id=\"line2d_3\">\r\n      <g>\r\n       <use style=\"stroke:#000000;stroke-width:0.8;\" x=\"110.9854\" xlink:href=\"#me4e6b4d947\" y=\"224.745131\"/>\r\n      </g>\r\n     </g>\r\n     <g id=\"text_3\">\r\n      <!-- 20 -->\r\n      <g transform=\"translate(107.1679 236.304194)scale(0.06 -0.06)\">\r\n       <defs>\r\n        <path d=\"M 19.1875 8.296875 \r\nL 53.609375 8.296875 \r\nL 53.609375 0 \r\nL 7.328125 0 \r\nL 7.328125 8.296875 \r\nQ 12.9375 14.109375 22.625 23.890625 \r\nQ 32.328125 33.6875 34.8125 36.53125 \r\nQ 39.546875 41.84375 41.421875 45.53125 \r\nQ 43.3125 49.21875 43.3125 52.78125 \r\nQ 43.3125 58.59375 39.234375 62.25 \r\nQ 35.15625 65.921875 28.609375 65.921875 \r\nQ 23.96875 65.921875 18.8125 64.3125 \r\nQ 13.671875 62.703125 7.8125 59.421875 \r\nL 7.8125 69.390625 \r\nQ 13.765625 71.78125 18.9375 73 \r\nQ 24.125 74.21875 28.421875 74.21875 \r\nQ 39.75 74.21875 46.484375 68.546875 \r\nQ 53.21875 62.890625 53.21875 53.421875 \r\nQ 53.21875 48.921875 51.53125 44.890625 \r\nQ 49.859375 40.875 45.40625 35.40625 \r\nQ 44.1875 33.984375 37.640625 27.21875 \r\nQ 31.109375 20.453125 19.1875 8.296875 \r\nz\r\n\" id=\"DejaVuSans-50\"/>\r\n       </defs>\r\n       <use xlink:href=\"#DejaVuSans-50\"/>\r\n       <use x=\"63.623047\" xlink:href=\"#DejaVuSans-48\"/>\r\n      </g>\r\n     </g>\r\n    </g>\r\n    <g id=\"xtick_4\">\r\n     <g id=\"line2d_4\">\r\n      <g>\r\n       <use style=\"stroke:#000000;stroke-width:0.8;\" x=\"154.4734\" xlink:href=\"#me4e6b4d947\" y=\"224.745131\"/>\r\n      </g>\r\n     </g>\r\n     <g id=\"text_4\">\r\n      <!-- 30 -->\r\n      <g transform=\"translate(150.6559 236.304194)scale(0.06 -0.06)\">\r\n       <defs>\r\n        <path d=\"M 40.578125 39.3125 \r\nQ 47.65625 37.796875 51.625 33 \r\nQ 55.609375 28.21875 55.609375 21.1875 \r\nQ 55.609375 10.40625 48.1875 4.484375 \r\nQ 40.765625 -1.421875 27.09375 -1.421875 \r\nQ 22.515625 -1.421875 17.65625 -0.515625 \r\nQ 12.796875 0.390625 7.625 2.203125 \r\nL 7.625 11.71875 \r\nQ 11.71875 9.328125 16.59375 8.109375 \r\nQ 21.484375 6.890625 26.8125 6.890625 \r\nQ 36.078125 6.890625 40.9375 10.546875 \r\nQ 45.796875 14.203125 45.796875 21.1875 \r\nQ 45.796875 27.640625 41.28125 31.265625 \r\nQ 36.765625 34.90625 28.71875 34.90625 \r\nL 20.21875 34.90625 \r\nL 20.21875 43.015625 \r\nL 29.109375 43.015625 \r\nQ 36.375 43.015625 40.234375 45.921875 \r\nQ 44.09375 48.828125 44.09375 54.296875 \r\nQ 44.09375 59.90625 40.109375 62.90625 \r\nQ 36.140625 65.921875 28.71875 65.921875 \r\nQ 24.65625 65.921875 20.015625 65.03125 \r\nQ 15.375 64.15625 9.8125 62.3125 \r\nL 9.8125 71.09375 \r\nQ 15.4375 72.65625 20.34375 73.4375 \r\nQ 25.25 74.21875 29.59375 74.21875 \r\nQ 40.828125 74.21875 47.359375 69.109375 \r\nQ 53.90625 64.015625 53.90625 55.328125 \r\nQ 53.90625 49.265625 50.4375 45.09375 \r\nQ 46.96875 40.921875 40.578125 39.3125 \r\nz\r\n\" id=\"DejaVuSans-51\"/>\r\n       </defs>\r\n       <use xlink:href=\"#DejaVuSans-51\"/>\r\n       <use x=\"63.623047\" xlink:href=\"#DejaVuSans-48\"/>\r\n      </g>\r\n     </g>\r\n    </g>\r\n    <g id=\"xtick_5\">\r\n     <g id=\"line2d_5\">\r\n      <g>\r\n       <use style=\"stroke:#000000;stroke-width:0.8;\" x=\"197.9614\" xlink:href=\"#me4e6b4d947\" y=\"224.745131\"/>\r\n      </g>\r\n     </g>\r\n     <g id=\"text_5\">\r\n      <!-- 40 -->\r\n      <g transform=\"translate(194.1439 236.304194)scale(0.06 -0.06)\">\r\n       <defs>\r\n        <path d=\"M 37.796875 64.3125 \r\nL 12.890625 25.390625 \r\nL 37.796875 25.390625 \r\nz\r\nM 35.203125 72.90625 \r\nL 47.609375 72.90625 \r\nL 47.609375 25.390625 \r\nL 58.015625 25.390625 \r\nL 58.015625 17.1875 \r\nL 47.609375 17.1875 \r\nL 47.609375 0 \r\nL 37.796875 0 \r\nL 37.796875 17.1875 \r\nL 4.890625 17.1875 \r\nL 4.890625 26.703125 \r\nz\r\n\" id=\"DejaVuSans-52\"/>\r\n       </defs>\r\n       <use xlink:href=\"#DejaVuSans-52\"/>\r\n       <use x=\"63.623047\" xlink:href=\"#DejaVuSans-48\"/>\r\n      </g>\r\n     </g>\r\n    </g>\r\n   </g>\r\n   <g id=\"matplotlib.axis_2\">\r\n    <g id=\"ytick_1\">\r\n     <g id=\"line2d_6\">\r\n      <defs>\r\n       <path d=\"M 0 0 \r\nL -3.5 0 \r\n\" id=\"mec298fb393\" style=\"stroke:#000000;stroke-width:0.8;\"/>\r\n      </defs>\r\n      <g>\r\n       <use style=\"stroke:#000000;stroke-width:0.8;\" x=\"21.835\" xlink:href=\"#mec298fb393\" y=\"9.479531\"/>\r\n      </g>\r\n     </g>\r\n     <g id=\"text_6\">\r\n      <!-- 0 -->\r\n      <g transform=\"translate(11.0175 11.759062)scale(0.06 -0.06)\">\r\n       <use xlink:href=\"#DejaVuSans-48\"/>\r\n      </g>\r\n     </g>\r\n    </g>\r\n    <g id=\"ytick_2\">\r\n     <g id=\"line2d_7\">\r\n      <g>\r\n       <use style=\"stroke:#000000;stroke-width:0.8;\" x=\"21.835\" xlink:href=\"#mec298fb393\" y=\"52.967531\"/>\r\n      </g>\r\n     </g>\r\n     <g id=\"text_7\">\r\n      <!-- 10 -->\r\n      <g transform=\"translate(7.2 55.247062)scale(0.06 -0.06)\">\r\n       <use xlink:href=\"#DejaVuSans-49\"/>\r\n       <use x=\"63.623047\" xlink:href=\"#DejaVuSans-48\"/>\r\n      </g>\r\n     </g>\r\n    </g>\r\n    <g id=\"ytick_3\">\r\n     <g id=\"line2d_8\">\r\n      <g>\r\n       <use style=\"stroke:#000000;stroke-width:0.8;\" x=\"21.835\" xlink:href=\"#mec298fb393\" y=\"96.455531\"/>\r\n      </g>\r\n     </g>\r\n     <g id=\"text_8\">\r\n      <!-- 20 -->\r\n      <g transform=\"translate(7.2 98.735062)scale(0.06 -0.06)\">\r\n       <use xlink:href=\"#DejaVuSans-50\"/>\r\n       <use x=\"63.623047\" xlink:href=\"#DejaVuSans-48\"/>\r\n      </g>\r\n     </g>\r\n    </g>\r\n    <g id=\"ytick_4\">\r\n     <g id=\"line2d_9\">\r\n      <g>\r\n       <use style=\"stroke:#000000;stroke-width:0.8;\" x=\"21.835\" xlink:href=\"#mec298fb393\" y=\"139.943531\"/>\r\n      </g>\r\n     </g>\r\n     <g id=\"text_9\">\r\n      <!-- 30 -->\r\n      <g transform=\"translate(7.2 142.223062)scale(0.06 -0.06)\">\r\n       <use xlink:href=\"#DejaVuSans-51\"/>\r\n       <use x=\"63.623047\" xlink:href=\"#DejaVuSans-48\"/>\r\n      </g>\r\n     </g>\r\n    </g>\r\n    <g id=\"ytick_5\">\r\n     <g id=\"line2d_10\">\r\n      <g>\r\n       <use style=\"stroke:#000000;stroke-width:0.8;\" x=\"21.835\" xlink:href=\"#mec298fb393\" y=\"183.431531\"/>\r\n      </g>\r\n     </g>\r\n     <g id=\"text_10\">\r\n      <!-- 40 -->\r\n      <g transform=\"translate(7.2 185.711062)scale(0.06 -0.06)\">\r\n       <use xlink:href=\"#DejaVuSans-52\"/>\r\n       <use x=\"63.623047\" xlink:href=\"#DejaVuSans-48\"/>\r\n      </g>\r\n     </g>\r\n    </g>\r\n   </g>\r\n   <g id=\"patch_3\">\r\n    <path d=\"M 21.835 224.745131 \r\nL 21.835 7.305131 \r\n\" style=\"fill:none;stroke:#000000;stroke-linecap:square;stroke-linejoin:miter;stroke-width:0.8;\"/>\r\n   </g>\r\n   <g id=\"patch_4\">\r\n    <path d=\"M 239.275 224.745131 \r\nL 239.275 7.305131 \r\n\" style=\"fill:none;stroke:#000000;stroke-linecap:square;stroke-linejoin:miter;stroke-width:0.8;\"/>\r\n   </g>\r\n   <g id=\"patch_5\">\r\n    <path d=\"M 21.835 224.745131 \r\nL 239.275 224.745131 \r\n\" style=\"fill:none;stroke:#000000;stroke-linecap:square;stroke-linejoin:miter;stroke-width:0.8;\"/>\r\n   </g>\r\n   <g id=\"patch_6\">\r\n    <path d=\"M 21.835 7.305131 \r\nL 239.275 7.305131 \r\n\" style=\"fill:none;stroke:#000000;stroke-linecap:square;stroke-linejoin:miter;stroke-width:0.8;\"/>\r\n   </g>\r\n  </g>\r\n </g>\r\n <defs>\r\n  <clipPath id=\"p215b5e5cf4\">\r\n   <rect height=\"217.44\" width=\"217.44\" x=\"21.835\" y=\"7.305131\"/>\r\n  </clipPath>\r\n </defs>\r\n</svg>\r\n",
      "image/png": "[encoded data removed]"
     },
     "metadata": {
      "needs_background": "light"
     }
    }
   ],
   "source": [
    "plt.imshow(cov.x)"
   ]
  },
  {
   "cell_type": "code",
   "execution_count": 61,
   "metadata": {},
   "outputs": [
    {
     "output_type": "execute_result",
     "data": {
      "text/plain": [
       "            hk000       hk001       hk002       hk003       hk004       hk005  \\\n",
       "hk000  300.000000  181.959198  147.920607  181.959198  147.920607   98.076569   \n",
       "hk001  181.959198  300.000000   98.076569  147.920607  181.959198  147.920607   \n",
       "hk002  147.920607   98.076569  300.000000  181.959198  110.363832   66.939048   \n",
       "hk003  181.959198  147.920607  181.959198  300.000000  181.959198  110.363832   \n",
       "hk004  147.920607  181.959198  110.363832  181.959198  300.000000  181.959198   \n",
       "hk005   98.076569  147.920607   66.939048  110.363832  181.959198  300.000000   \n",
       "hk006   61.722198   98.076569   40.600585   66.939048  110.363832  181.959198   \n",
       "hk007   72.935020   49.452214  147.920607   98.076569   61.722198   38.176863   \n",
       "hk008   98.076569   72.935020  181.959198  147.920607   98.076569   61.722198   \n",
       "hk009  110.363832   98.076569  147.920607  181.959198  147.920607   98.076569   \n",
       "hk010   98.076569  110.363832   98.076569  147.920607  181.959198  147.920607   \n",
       "hk011   72.935020   98.076569   61.722198   98.076569  147.920607  181.959198   \n",
       "hk012   49.452214   72.935020   38.176863   61.722198   98.076569  147.920607   \n",
       "hk013   32.063378   49.452214   23.435986   38.176863   61.722198   98.076569   \n",
       "hk014   24.625500   16.253472   49.452214   32.063378   20.311761   12.698766   \n",
       "hk015   35.961975   24.625500   72.935020   49.452214   32.063378   20.311761   \n",
       "hk016   49.452214   35.961975   98.076569   72.935020   49.452214   32.063378   \n",
       "hk017   61.722198   49.452214  110.363832   98.076569   72.935020   49.452214   \n",
       "hk018   66.939048   61.722198   98.076569  110.363832   98.076569   72.935020   \n",
       "hk019   61.722198   66.939048   72.935020   98.076569  110.363832   98.076569   \n",
       "hk020   49.452214   61.722198   49.452214   72.935020   98.076569  110.363832   \n",
       "hk021   35.961975   49.452214   32.063378   49.452214   72.935020   98.076569   \n",
       "hk022   24.625500   35.961975   20.311761   32.063378   49.452214   72.935020   \n",
       "hk023   16.253472   24.625500   12.698766   20.311761   32.063378   49.452214   \n",
       "hk024   10.482220   16.253472    7.875270   12.698766   20.311761   32.063378   \n",
       "hk025    6.658511   10.482220    4.858243    7.875270   12.698766   20.311761   \n",
       "hk026    4.186146    6.658511    2.986226    4.858243    7.875270   12.698766   \n",
       "hk027   17.731724   12.209573   35.961975   24.625500   16.253472   10.482220   \n",
       "hk028   24.625500   17.731724   49.452214   35.961975   24.625500   16.253472   \n",
       "hk029   32.063378   24.625500   61.722198   49.452214   35.961975   24.625500   \n",
       "hk030   38.176863   32.063378   66.939048   61.722198   49.452214   35.961975   \n",
       "hk031   40.600585   38.176863   61.722198   66.939048   61.722198   49.452214   \n",
       "hk032   38.176863   40.600585   49.452214   61.722198   66.939048   61.722198   \n",
       "hk033   32.063378   38.176863   35.961975   49.452214   61.722198   66.939048   \n",
       "hk034   24.625500   32.063378   24.625500   35.961975   49.452214   61.722198   \n",
       "hk035   17.731724   24.625500   16.253472   24.625500   35.961975   49.452214   \n",
       "hk036   12.209573   17.731724   10.482220   16.253472   24.625500   35.961975   \n",
       "hk037    8.151738   12.209573    6.658511   10.482220   16.253472   24.625500   \n",
       "hk038    5.326283    8.151738    4.186146    6.658511   10.482220   16.253472   \n",
       "hk039    3.426867    5.326283    2.612652    4.186146    6.658511   10.482220   \n",
       "hk040   12.209573    8.742958   24.625500   17.731724   12.209573    8.151738   \n",
       "hk041   16.253472   12.209573   32.063378   24.625500   17.731724   12.209573   \n",
       "hk042   20.311761   16.253472   38.176863   32.063378   24.625500   17.731724   \n",
       "hk043   23.435986   20.311761   40.600585   38.176863   32.063378   24.625500   \n",
       "hk044   24.625500   23.435986   38.176863   40.600585   38.176863   32.063378   \n",
       "hk045   23.435986   24.625500   32.063378   38.176863   40.600585   38.176863   \n",
       "hk046   20.311761   23.435986   24.625500   32.063378   38.176863   40.600585   \n",
       "hk047   16.253472   20.311761   17.731724   24.625500   32.063378   38.176863   \n",
       "hk048   12.209573   16.253472   12.209573   17.731724   24.625500   32.063378   \n",
       "hk049    4.065838    6.041532    3.426867    5.326283    8.151738   12.209573   \n",
       "\n",
       "            hk006       hk007       hk008       hk009  ...       hk040  \\\n",
       "hk000   61.722198   72.935020   98.076569  110.363832  ...   12.209573   \n",
       "hk001   98.076569   49.452214   72.935020   98.076569  ...    8.742958   \n",
       "hk002   40.600585  147.920607  181.959198  147.920607  ...   24.625500   \n",
       "hk003   66.939048   98.076569  147.920607  181.959198  ...   17.731724   \n",
       "hk004  110.363832   61.722198   98.076569  147.920607  ...   12.209573   \n",
       "hk005  181.959198   38.176863   61.722198   98.076569  ...    8.151738   \n",
       "hk006  300.000000   23.435986   38.176863   61.722198  ...    5.326283   \n",
       "hk007   23.435986  300.000000  181.959198  110.363832  ...   49.452214   \n",
       "hk008   38.176863  181.959198  300.000000  181.959198  ...   35.961975   \n",
       "hk009   61.722198  110.363832  181.959198  300.000000  ...   24.625500   \n",
       "hk010   98.076569   66.939048  110.363832  181.959198  ...   16.253472   \n",
       "hk011  147.920607   40.600585   66.939048  110.363832  ...   10.482220   \n",
       "hk012  181.959198   24.625500   40.600585   66.939048  ...    6.658511   \n",
       "hk013  147.920607   14.936121   24.625500   40.600585  ...    4.186146   \n",
       "hk014    7.875270   98.076569   61.722198   38.176863  ...  110.363832   \n",
       "hk015   12.698766  147.920607   98.076569   61.722198  ...   98.076569   \n",
       "hk016   20.311761  181.959198  147.920607   98.076569  ...   72.935020   \n",
       "hk017   32.063378  147.920607  181.959198  147.920607  ...   49.452214   \n",
       "hk018   49.452214   98.076569  147.920607  181.959198  ...   32.063378   \n",
       "hk019   72.935020   61.722198   98.076569  147.920607  ...   20.311761   \n",
       "hk020   98.076569   38.176863   61.722198   98.076569  ...   12.698766   \n",
       "hk021  110.363832   23.435986   38.176863   61.722198  ...    7.875270   \n",
       "hk022   98.076569   14.330659   23.435986   38.176863  ...    4.858243   \n",
       "hk023   72.935020    8.742958   14.330659   23.435986  ...    2.986226   \n",
       "hk024   49.452214    5.326283    8.742958   14.330659  ...    1.830818   \n",
       "hk025   32.063378    3.241674    5.326283    8.742958  ...    1.120318   \n",
       "hk026   20.311761    1.971599    3.241674    5.326283  ...    0.684559   \n",
       "hk027    6.658511   72.935020   49.452214   32.063378  ...  181.959198   \n",
       "hk028   10.482220   98.076569   72.935020   49.452214  ...  147.920607   \n",
       "hk029   16.253472  110.363832   98.076569   72.935020  ...   98.076569   \n",
       "hk030   24.625500   98.076569  110.363832   98.076569  ...   61.722198   \n",
       "hk031   35.961975   72.935020   98.076569  110.363832  ...   38.176863   \n",
       "hk032   49.452214   49.452214   72.935020   98.076569  ...   23.435986   \n",
       "hk033   61.722198   32.063378   49.452214   72.935020  ...   14.330659   \n",
       "hk034   66.939048   20.311761   32.063378   49.452214  ...    8.742958   \n",
       "hk035   61.722198   12.698766   20.311761   32.063378  ...    5.326283   \n",
       "hk036   49.452214    7.875270   12.698766   20.311761  ...    3.241674   \n",
       "hk037   35.961975    4.858243    7.875270   12.698766  ...    1.971599   \n",
       "hk038   24.625500    2.986226    4.858243    7.875270  ...    1.198537   \n",
       "hk039   16.253472    1.830818    2.986226    4.858243  ...    0.728320   \n",
       "hk040    5.326283   49.452214   35.961975   24.625500  ...  300.000000   \n",
       "hk041    8.151738   61.722198   49.452214   35.961975  ...  181.959198   \n",
       "hk042   12.209573   66.939048   61.722198   49.452214  ...  110.363832   \n",
       "hk043   17.731724   61.722198   66.939048   61.722198  ...   66.939048   \n",
       "hk044   24.625500   49.452214   61.722198   66.939048  ...   40.600585   \n",
       "hk045   32.063378   35.961975   49.452214   61.722198  ...   24.625500   \n",
       "hk046   38.176863   24.625500   35.961975   49.452214  ...   14.936121   \n",
       "hk047   40.600585   16.253472   24.625500   35.961975  ...    9.059215   \n",
       "hk048   38.176863   10.482220   16.253472   24.625500  ...    5.494692   \n",
       "hk049   17.731724    2.612652    4.186146    6.658511  ...    1.226031   \n",
       "\n",
       "            hk041       hk042       hk043       hk044       hk045       hk046  \\\n",
       "hk000   16.253472   20.311761   23.435986   24.625500   23.435986   20.311761   \n",
       "hk001   12.209573   16.253472   20.311761   23.435986   24.625500   23.435986   \n",
       "hk002   32.063378   38.176863   40.600585   38.176863   32.063378   24.625500   \n",
       "hk003   24.625500   32.063378   38.176863   40.600585   38.176863   32.063378   \n",
       "hk004   17.731724   24.625500   32.063378   38.176863   40.600585   38.176863   \n",
       "hk005   12.209573   17.731724   24.625500   32.063378   38.176863   40.600585   \n",
       "hk006    8.151738   12.209573   17.731724   24.625500   32.063378   38.176863   \n",
       "hk007   61.722198   66.939048   61.722198   49.452214   35.961975   24.625500   \n",
       "hk008   49.452214   61.722198   66.939048   61.722198   49.452214   35.961975   \n",
       "hk009   35.961975   49.452214   61.722198   66.939048   61.722198   49.452214   \n",
       "hk010   24.625500   35.961975   49.452214   61.722198   66.939048   61.722198   \n",
       "hk011   16.253472   24.625500   35.961975   49.452214   61.722198   66.939048   \n",
       "hk012   10.482220   16.253472   24.625500   35.961975   49.452214   61.722198   \n",
       "hk013    6.658511   10.482220   16.253472   24.625500   35.961975   49.452214   \n",
       "hk014   98.076569   72.935020   49.452214   32.063378   20.311761   12.698766   \n",
       "hk015  110.363832   98.076569   72.935020   49.452214   32.063378   20.311761   \n",
       "hk016   98.076569  110.363832   98.076569   72.935020   49.452214   32.063378   \n",
       "hk017   72.935020   98.076569  110.363832   98.076569   72.935020   49.452214   \n",
       "hk018   49.452214   72.935020   98.076569  110.363832   98.076569   72.935020   \n",
       "hk019   32.063378   49.452214   72.935020   98.076569  110.363832   98.076569   \n",
       "hk020   20.311761   32.063378   49.452214   72.935020   98.076569  110.363832   \n",
       "hk021   12.698766   20.311761   32.063378   49.452214   72.935020   98.076569   \n",
       "hk022    7.875270   12.698766   20.311761   32.063378   49.452214   72.935020   \n",
       "hk023    4.858243    7.875270   12.698766   20.311761   32.063378   49.452214   \n",
       "hk024    2.986226    4.858243    7.875270   12.698766   20.311761   32.063378   \n",
       "hk025    1.830818    2.986226    4.858243    7.875270   12.698766   20.311761   \n",
       "hk026    1.120318    1.830818    2.986226    4.858243    7.875270   12.698766   \n",
       "hk027  147.920607   98.076569   61.722198   38.176863   23.435986   14.330659   \n",
       "hk028  181.959198  147.920607   98.076569   61.722198   38.176863   23.435986   \n",
       "hk029  147.920607  181.959198  147.920607   98.076569   61.722198   38.176863   \n",
       "hk030   98.076569  147.920607  181.959198  147.920607   98.076569   61.722198   \n",
       "hk031   61.722198   98.076569  147.920607  181.959198  147.920607   98.076569   \n",
       "hk032   38.176863   61.722198   98.076569  147.920607  181.959198  147.920607   \n",
       "hk033   23.435986   38.176863   61.722198   98.076569  147.920607  181.959198   \n",
       "hk034   14.330659   23.435986   38.176863   61.722198   98.076569  147.920607   \n",
       "hk035    8.742958   14.330659   23.435986   38.176863   61.722198   98.076569   \n",
       "hk036    5.326283    8.742958   14.330659   23.435986   38.176863   61.722198   \n",
       "hk037    3.241674    5.326283    8.742958   14.330659   23.435986   38.176863   \n",
       "hk038    1.971599    3.241674    5.326283    8.742958   14.330659   23.435986   \n",
       "hk039    1.198537    1.971599    3.241674    5.326283    8.742958   14.330659   \n",
       "hk040  181.959198  110.363832   66.939048   40.600585   24.625500   14.936121   \n",
       "hk041  300.000000  181.959198  110.363832   66.939048   40.600585   24.625500   \n",
       "hk042  181.959198  300.000000  181.959198  110.363832   66.939048   40.600585   \n",
       "hk043  110.363832  181.959198  300.000000  181.959198  110.363832   66.939048   \n",
       "hk044   66.939048  110.363832  181.959198  300.000000  181.959198  110.363832   \n",
       "hk045   40.600585   66.939048  110.363832  181.959198  300.000000  181.959198   \n",
       "hk046   24.625500   40.600585   66.939048  110.363832  181.959198  300.000000   \n",
       "hk047   14.936121   24.625500   40.600585   66.939048  110.363832  181.959198   \n",
       "hk048    9.059215   14.936121   24.625500   40.600585   66.939048  110.363832   \n",
       "hk049    2.021384    3.332699    5.494692    9.059215   14.936121   24.625500   \n",
       "\n",
       "            hk047       hk048       hk049  \n",
       "hk000   16.253472   12.209573    4.065838  \n",
       "hk001   20.311761   16.253472    6.041532  \n",
       "hk002   17.731724   12.209573    3.426867  \n",
       "hk003   24.625500   17.731724    5.326283  \n",
       "hk004   32.063378   24.625500    8.151738  \n",
       "hk005   38.176863   32.063378   12.209573  \n",
       "hk006   40.600585   38.176863   17.731724  \n",
       "hk007   16.253472   10.482220    2.612652  \n",
       "hk008   24.625500   16.253472    4.186146  \n",
       "hk009   35.961975   24.625500    6.658511  \n",
       "hk010   49.452214   35.961975   10.482220  \n",
       "hk011   61.722198   49.452214   16.253472  \n",
       "hk012   66.939048   61.722198   24.625500  \n",
       "hk013   61.722198   66.939048   35.961975  \n",
       "hk014    7.875270    4.858243    1.120318  \n",
       "hk015   12.698766    7.875270    1.830818  \n",
       "hk016   20.311761   12.698766    2.986226  \n",
       "hk017   32.063378   20.311761    4.858243  \n",
       "hk018   49.452214   32.063378    7.875270  \n",
       "hk019   72.935020   49.452214   12.698766  \n",
       "hk020   98.076569   72.935020   20.311761  \n",
       "hk021  110.363832   98.076569   32.063378  \n",
       "hk022   98.076569  110.363832   49.452214  \n",
       "hk023   72.935020   98.076569   72.935020  \n",
       "hk024   49.452214   72.935020   98.076569  \n",
       "hk025   32.063378   49.452214  110.363832  \n",
       "hk026   20.311761   32.063378   98.076569  \n",
       "hk027    8.742958    5.326283    1.198537  \n",
       "hk028   14.330659    8.742958    1.971599  \n",
       "hk029   23.435986   14.330659    3.241674  \n",
       "hk030   38.176863   23.435986    5.326283  \n",
       "hk031   61.722198   38.176863    8.742958  \n",
       "hk032   98.076569   61.722198   14.330659  \n",
       "hk033  147.920607   98.076569   23.435986  \n",
       "hk034  181.959198  147.920607   38.176863  \n",
       "hk035  147.920607  181.959198   61.722198  \n",
       "hk036   98.076569  147.920607   98.076569  \n",
       "hk037   61.722198   98.076569  147.920607  \n",
       "hk038   38.176863   61.722198  181.959198  \n",
       "hk039   23.435986   38.176863  147.920607  \n",
       "hk040    9.059215    5.494692    1.226031  \n",
       "hk041   14.936121    9.059215    2.021384  \n",
       "hk042   24.625500   14.936121    3.332699  \n",
       "hk043   40.600585   24.625500    5.494692  \n",
       "hk044   66.939048   40.600585    9.059215  \n",
       "hk045  110.363832   66.939048   14.936121  \n",
       "hk046  181.959198  110.363832   24.625500  \n",
       "hk047  300.000000  181.959198   40.600585  \n",
       "hk048  181.959198  300.000000   66.939048  \n",
       "hk049   40.600585   66.939048  300.000000  \n",
       "\n",
       "[50 rows x 50 columns]"
      ],
      "text/html": "<div>\n<style scoped>\n    .dataframe tbody tr th:only-of-type {\n        vertical-align: middle;\n    }\n\n    .dataframe tbody tr th {\n        vertical-align: top;\n    }\n\n    .dataframe thead th {\n        text-align: right;\n    }\n</style>\n<table border=\"1\" class=\"dataframe\">\n  <thead>\n    <tr style=\"text-align: right;\">\n      <th></th>\n      <th>hk000</th>\n      <th>hk001</th>\n      <th>hk002</th>\n      <th>hk003</th>\n      <th>hk004</th>\n      <th>hk005</th>\n      <th>hk006</th>\n      <th>hk007</th>\n      <th>hk008</th>\n      <th>hk009</th>\n      <th>...</th>\n      <th>hk040</th>\n      <th>hk041</th>\n      <th>hk042</th>\n      <th>hk043</th>\n      <th>hk044</th>\n      <th>hk045</th>\n      <th>hk046</th>\n      <th>hk047</th>\n      <th>hk048</th>\n      <th>hk049</th>\n    </tr>\n  </thead>\n  <tbody>\n    <tr>\n      <th>hk000</th>\n      <td>300.000000</td>\n      <td>181.959198</td>\n      <td>147.920607</td>\n      <td>181.959198</td>\n      <td>147.920607</td>\n      <td>98.076569</td>\n      <td>61.722198</td>\n      <td>72.935020</td>\n      <td>98.076569</td>\n      <td>110.363832</td>\n      <td>...</td>\n      <td>12.209573</td>\n      <td>16.253472</td>\n      <td>20.311761</td>\n      <td>23.435986</td>\n      <td>24.625500</td>\n      <td>23.435986</td>\n      <td>20.311761</td>\n      <td>16.253472</td>\n      <td>12.209573</td>\n      <td>4.065838</td>\n    </tr>\n    <tr>\n      <th>hk001</th>\n      <td>181.959198</td>\n      <td>300.000000</td>\n      <td>98.076569</td>\n      <td>147.920607</td>\n      <td>181.959198</td>\n      <td>147.920607</td>\n      <td>98.076569</td>\n      <td>49.452214</td>\n      <td>72.935020</td>\n      <td>98.076569</td>\n      <td>...</td>\n      <td>8.742958</td>\n      <td>12.209573</td>\n      <td>16.253472</td>\n      <td>20.311761</td>\n      <td>23.435986</td>\n      <td>24.625500</td>\n      <td>23.435986</td>\n      <td>20.311761</td>\n      <td>16.253472</td>\n      <td>6.041532</td>\n    </tr>\n    <tr>\n      <th>hk002</th>\n      <td>147.920607</td>\n      <td>98.076569</td>\n      <td>300.000000</td>\n      <td>181.959198</td>\n      <td>110.363832</td>\n      <td>66.939048</td>\n      <td>40.600585</td>\n      <td>147.920607</td>\n      <td>181.959198</td>\n      <td>147.920607</td>\n      <td>...</td>\n      <td>24.625500</td>\n      <td>32.063378</td>\n      <td>38.176863</td>\n      <td>40.600585</td>\n      <td>38.176863</td>\n      <td>32.063378</td>\n      <td>24.625500</td>\n      <td>17.731724</td>\n      <td>12.209573</td>\n      <td>3.426867</td>\n    </tr>\n    <tr>\n      <th>hk003</th>\n      <td>181.959198</td>\n      <td>147.920607</td>\n      <td>181.959198</td>\n      <td>300.000000</td>\n      <td>181.959198</td>\n      <td>110.363832</td>\n      <td>66.939048</td>\n      <td>98.076569</td>\n      <td>147.920607</td>\n      <td>181.959198</td>\n      <td>...</td>\n      <td>17.731724</td>\n      <td>24.625500</td>\n      <td>32.063378</td>\n      <td>38.176863</td>\n      <td>40.600585</td>\n      <td>38.176863</td>\n      <td>32.063378</td>\n      <td>24.625500</td>\n      <td>17.731724</td>\n      <td>5.326283</td>\n    </tr>\n    <tr>\n      <th>hk004</th>\n      <td>147.920607</td>\n      <td>181.959198</td>\n      <td>110.363832</td>\n      <td>181.959198</td>\n      <td>300.000000</td>\n      <td>181.959198</td>\n      <td>110.363832</td>\n      <td>61.722198</td>\n      <td>98.076569</td>\n      <td>147.920607</td>\n      <td>...</td>\n      <td>12.209573</td>\n      <td>17.731724</td>\n      <td>24.625500</td>\n      <td>32.063378</td>\n      <td>38.176863</td>\n      <td>40.600585</td>\n      <td>38.176863</td>\n      <td>32.063378</td>\n      <td>24.625500</td>\n      <td>8.151738</td>\n    </tr>\n    <tr>\n      <th>hk005</th>\n      <td>98.076569</td>\n      <td>147.920607</td>\n      <td>66.939048</td>\n      <td>110.363832</td>\n      <td>181.959198</td>\n      <td>300.000000</td>\n      <td>181.959198</td>\n      <td>38.176863</td>\n      <td>61.722198</td>\n      <td>98.076569</td>\n      <td>...</td>\n      <td>8.151738</td>\n      <td>12.209573</td>\n      <td>17.731724</td>\n      <td>24.625500</td>\n      <td>32.063378</td>\n      <td>38.176863</td>\n      <td>40.600585</td>\n      <td>38.176863</td>\n      <td>32.063378</td>\n      <td>12.209573</td>\n    </tr>\n    <tr>\n      <th>hk006</th>\n      <td>61.722198</td>\n      <td>98.076569</td>\n      <td>40.600585</td>\n      <td>66.939048</td>\n      <td>110.363832</td>\n      <td>181.959198</td>\n      <td>300.000000</td>\n      <td>23.435986</td>\n      <td>38.176863</td>\n      <td>61.722198</td>\n      <td>...</td>\n      <td>5.326283</td>\n      <td>8.151738</td>\n      <td>12.209573</td>\n      <td>17.731724</td>\n      <td>24.625500</td>\n      <td>32.063378</td>\n      <td>38.176863</td>\n      <td>40.600585</td>\n      <td>38.176863</td>\n      <td>17.731724</td>\n    </tr>\n    <tr>\n      <th>hk007</th>\n      <td>72.935020</td>\n      <td>49.452214</td>\n      <td>147.920607</td>\n      <td>98.076569</td>\n      <td>61.722198</td>\n      <td>38.176863</td>\n      <td>23.435986</td>\n      <td>300.000000</td>\n      <td>181.959198</td>\n      <td>110.363832</td>\n      <td>...</td>\n      <td>49.452214</td>\n      <td>61.722198</td>\n      <td>66.939048</td>\n      <td>61.722198</td>\n      <td>49.452214</td>\n      <td>35.961975</td>\n      <td>24.625500</td>\n      <td>16.253472</td>\n      <td>10.482220</td>\n      <td>2.612652</td>\n    </tr>\n    <tr>\n      <th>hk008</th>\n      <td>98.076569</td>\n      <td>72.935020</td>\n      <td>181.959198</td>\n      <td>147.920607</td>\n      <td>98.076569</td>\n      <td>61.722198</td>\n      <td>38.176863</td>\n      <td>181.959198</td>\n      <td>300.000000</td>\n      <td>181.959198</td>\n      <td>...</td>\n      <td>35.961975</td>\n      <td>49.452214</td>\n      <td>61.722198</td>\n      <td>66.939048</td>\n      <td>61.722198</td>\n      <td>49.452214</td>\n      <td>35.961975</td>\n      <td>24.625500</td>\n      <td>16.253472</td>\n      <td>4.186146</td>\n    </tr>\n    <tr>\n      <th>hk009</th>\n      <td>110.363832</td>\n      <td>98.076569</td>\n      <td>147.920607</td>\n      <td>181.959198</td>\n      <td>147.920607</td>\n      <td>98.076569</td>\n      <td>61.722198</td>\n      <td>110.363832</td>\n      <td>181.959198</td>\n      <td>300.000000</td>\n      <td>...</td>\n      <td>24.625500</td>\n      <td>35.961975</td>\n      <td>49.452214</td>\n      <td>61.722198</td>\n      <td>66.939048</td>\n      <td>61.722198</td>\n      <td>49.452214</td>\n      <td>35.961975</td>\n      <td>24.625500</td>\n      <td>6.658511</td>\n    </tr>\n    <tr>\n      <th>hk010</th>\n      <td>98.076569</td>\n      <td>110.363832</td>\n      <td>98.076569</td>\n      <td>147.920607</td>\n      <td>181.959198</td>\n      <td>147.920607</td>\n      <td>98.076569</td>\n      <td>66.939048</td>\n      <td>110.363832</td>\n      <td>181.959198</td>\n      <td>...</td>\n      <td>16.253472</td>\n      <td>24.625500</td>\n      <td>35.961975</td>\n      <td>49.452214</td>\n      <td>61.722198</td>\n      <td>66.939048</td>\n      <td>61.722198</td>\n      <td>49.452214</td>\n      <td>35.961975</td>\n      <td>10.482220</td>\n    </tr>\n    <tr>\n      <th>hk011</th>\n      <td>72.935020</td>\n      <td>98.076569</td>\n      <td>61.722198</td>\n      <td>98.076569</td>\n      <td>147.920607</td>\n      <td>181.959198</td>\n      <td>147.920607</td>\n      <td>40.600585</td>\n      <td>66.939048</td>\n      <td>110.363832</td>\n      <td>...</td>\n      <td>10.482220</td>\n      <td>16.253472</td>\n      <td>24.625500</td>\n      <td>35.961975</td>\n      <td>49.452214</td>\n      <td>61.722198</td>\n      <td>66.939048</td>\n      <td>61.722198</td>\n      <td>49.452214</td>\n      <td>16.253472</td>\n    </tr>\n    <tr>\n      <th>hk012</th>\n      <td>49.452214</td>\n      <td>72.935020</td>\n      <td>38.176863</td>\n      <td>61.722198</td>\n      <td>98.076569</td>\n      <td>147.920607</td>\n      <td>181.959198</td>\n      <td>24.625500</td>\n      <td>40.600585</td>\n      <td>66.939048</td>\n      <td>...</td>\n      <td>6.658511</td>\n      <td>10.482220</td>\n      <td>16.253472</td>\n      <td>24.625500</td>\n      <td>35.961975</td>\n      <td>49.452214</td>\n      <td>61.722198</td>\n      <td>66.939048</td>\n      <td>61.722198</td>\n      <td>24.625500</td>\n    </tr>\n    <tr>\n      <th>hk013</th>\n      <td>32.063378</td>\n      <td>49.452214</td>\n      <td>23.435986</td>\n      <td>38.176863</td>\n      <td>61.722198</td>\n      <td>98.076569</td>\n      <td>147.920607</td>\n      <td>14.936121</td>\n      <td>24.625500</td>\n      <td>40.600585</td>\n      <td>...</td>\n      <td>4.186146</td>\n      <td>6.658511</td>\n      <td>10.482220</td>\n      <td>16.253472</td>\n      <td>24.625500</td>\n      <td>35.961975</td>\n      <td>49.452214</td>\n      <td>61.722198</td>\n      <td>66.939048</td>\n      <td>35.961975</td>\n    </tr>\n    <tr>\n      <th>hk014</th>\n      <td>24.625500</td>\n      <td>16.253472</td>\n      <td>49.452214</td>\n      <td>32.063378</td>\n      <td>20.311761</td>\n      <td>12.698766</td>\n      <td>7.875270</td>\n      <td>98.076569</td>\n      <td>61.722198</td>\n      <td>38.176863</td>\n      <td>...</td>\n      <td>110.363832</td>\n      <td>98.076569</td>\n      <td>72.935020</td>\n      <td>49.452214</td>\n      <td>32.063378</td>\n      <td>20.311761</td>\n      <td>12.698766</td>\n      <td>7.875270</td>\n      <td>4.858243</td>\n      <td>1.120318</td>\n    </tr>\n    <tr>\n      <th>hk015</th>\n      <td>35.961975</td>\n      <td>24.625500</td>\n      <td>72.935020</td>\n      <td>49.452214</td>\n      <td>32.063378</td>\n      <td>20.311761</td>\n      <td>12.698766</td>\n      <td>147.920607</td>\n      <td>98.076569</td>\n      <td>61.722198</td>\n      <td>...</td>\n      <td>98.076569</td>\n      <td>110.363832</td>\n      <td>98.076569</td>\n      <td>72.935020</td>\n      <td>49.452214</td>\n      <td>32.063378</td>\n      <td>20.311761</td>\n      <td>12.698766</td>\n      <td>7.875270</td>\n      <td>1.830818</td>\n    </tr>\n    <tr>\n      <th>hk016</th>\n      <td>49.452214</td>\n      <td>35.961975</td>\n      <td>98.076569</td>\n      <td>72.935020</td>\n      <td>49.452214</td>\n      <td>32.063378</td>\n      <td>20.311761</td>\n      <td>181.959198</td>\n      <td>147.920607</td>\n      <td>98.076569</td>\n      <td>...</td>\n      <td>72.935020</td>\n      <td>98.076569</td>\n      <td>110.363832</td>\n      <td>98.076569</td>\n      <td>72.935020</td>\n      <td>49.452214</td>\n      <td>32.063378</td>\n      <td>20.311761</td>\n      <td>12.698766</td>\n      <td>2.986226</td>\n    </tr>\n    <tr>\n      <th>hk017</th>\n      <td>61.722198</td>\n      <td>49.452214</td>\n      <td>110.363832</td>\n      <td>98.076569</td>\n      <td>72.935020</td>\n      <td>49.452214</td>\n      <td>32.063378</td>\n      <td>147.920607</td>\n      <td>181.959198</td>\n      <td>147.920607</td>\n      <td>...</td>\n      <td>49.452214</td>\n      <td>72.935020</td>\n      <td>98.076569</td>\n      <td>110.363832</td>\n      <td>98.076569</td>\n      <td>72.935020</td>\n      <td>49.452214</td>\n      <td>32.063378</td>\n      <td>20.311761</td>\n      <td>4.858243</td>\n    </tr>\n    <tr>\n      <th>hk018</th>\n      <td>66.939048</td>\n      <td>61.722198</td>\n      <td>98.076569</td>\n      <td>110.363832</td>\n      <td>98.076569</td>\n      <td>72.935020</td>\n      <td>49.452214</td>\n      <td>98.076569</td>\n      <td>147.920607</td>\n      <td>181.959198</td>\n      <td>...</td>\n      <td>32.063378</td>\n      <td>49.452214</td>\n      <td>72.935020</td>\n      <td>98.076569</td>\n      <td>110.363832</td>\n      <td>98.076569</td>\n      <td>72.935020</td>\n      <td>49.452214</td>\n      <td>32.063378</td>\n      <td>7.875270</td>\n    </tr>\n    <tr>\n      <th>hk019</th>\n      <td>61.722198</td>\n      <td>66.939048</td>\n      <td>72.935020</td>\n      <td>98.076569</td>\n      <td>110.363832</td>\n      <td>98.076569</td>\n      <td>72.935020</td>\n      <td>61.722198</td>\n      <td>98.076569</td>\n      <td>147.920607</td>\n      <td>...</td>\n      <td>20.311761</td>\n      <td>32.063378</td>\n      <td>49.452214</td>\n      <td>72.935020</td>\n      <td>98.076569</td>\n      <td>110.363832</td>\n      <td>98.076569</td>\n      <td>72.935020</td>\n      <td>49.452214</td>\n      <td>12.698766</td>\n    </tr>\n    <tr>\n      <th>hk020</th>\n      <td>49.452214</td>\n      <td>61.722198</td>\n      <td>49.452214</td>\n      <td>72.935020</td>\n      <td>98.076569</td>\n      <td>110.363832</td>\n      <td>98.076569</td>\n      <td>38.176863</td>\n      <td>61.722198</td>\n      <td>98.076569</td>\n      <td>...</td>\n      <td>12.698766</td>\n      <td>20.311761</td>\n      <td>32.063378</td>\n      <td>49.452214</td>\n      <td>72.935020</td>\n      <td>98.076569</td>\n      <td>110.363832</td>\n      <td>98.076569</td>\n      <td>72.935020</td>\n      <td>20.311761</td>\n    </tr>\n    <tr>\n      <th>hk021</th>\n      <td>35.961975</td>\n      <td>49.452214</td>\n      <td>32.063378</td>\n      <td>49.452214</td>\n      <td>72.935020</td>\n      <td>98.076569</td>\n      <td>110.363832</td>\n      <td>23.435986</td>\n      <td>38.176863</td>\n      <td>61.722198</td>\n      <td>...</td>\n      <td>7.875270</td>\n      <td>12.698766</td>\n      <td>20.311761</td>\n      <td>32.063378</td>\n      <td>49.452214</td>\n      <td>72.935020</td>\n      <td>98.076569</td>\n      <td>110.363832</td>\n      <td>98.076569</td>\n      <td>32.063378</td>\n    </tr>\n    <tr>\n      <th>hk022</th>\n      <td>24.625500</td>\n      <td>35.961975</td>\n      <td>20.311761</td>\n      <td>32.063378</td>\n      <td>49.452214</td>\n      <td>72.935020</td>\n      <td>98.076569</td>\n      <td>14.330659</td>\n      <td>23.435986</td>\n      <td>38.176863</td>\n      <td>...</td>\n      <td>4.858243</td>\n      <td>7.875270</td>\n      <td>12.698766</td>\n      <td>20.311761</td>\n      <td>32.063378</td>\n      <td>49.452214</td>\n      <td>72.935020</td>\n      <td>98.076569</td>\n      <td>110.363832</td>\n      <td>49.452214</td>\n    </tr>\n    <tr>\n      <th>hk023</th>\n      <td>16.253472</td>\n      <td>24.625500</td>\n      <td>12.698766</td>\n      <td>20.311761</td>\n      <td>32.063378</td>\n      <td>49.452214</td>\n      <td>72.935020</td>\n      <td>8.742958</td>\n      <td>14.330659</td>\n      <td>23.435986</td>\n      <td>...</td>\n      <td>2.986226</td>\n      <td>4.858243</td>\n      <td>7.875270</td>\n      <td>12.698766</td>\n      <td>20.311761</td>\n      <td>32.063378</td>\n      <td>49.452214</td>\n      <td>72.935020</td>\n      <td>98.076569</td>\n      <td>72.935020</td>\n    </tr>\n    <tr>\n      <th>hk024</th>\n      <td>10.482220</td>\n      <td>16.253472</td>\n      <td>7.875270</td>\n      <td>12.698766</td>\n      <td>20.311761</td>\n      <td>32.063378</td>\n      <td>49.452214</td>\n      <td>5.326283</td>\n      <td>8.742958</td>\n      <td>14.330659</td>\n      <td>...</td>\n      <td>1.830818</td>\n      <td>2.986226</td>\n      <td>4.858243</td>\n      <td>7.875270</td>\n      <td>12.698766</td>\n      <td>20.311761</td>\n      <td>32.063378</td>\n      <td>49.452214</td>\n      <td>72.935020</td>\n      <td>98.076569</td>\n    </tr>\n    <tr>\n      <th>hk025</th>\n      <td>6.658511</td>\n      <td>10.482220</td>\n      <td>4.858243</td>\n      <td>7.875270</td>\n      <td>12.698766</td>\n      <td>20.311761</td>\n      <td>32.063378</td>\n      <td>3.241674</td>\n      <td>5.326283</td>\n      <td>8.742958</td>\n      <td>...</td>\n      <td>1.120318</td>\n      <td>1.830818</td>\n      <td>2.986226</td>\n      <td>4.858243</td>\n      <td>7.875270</td>\n      <td>12.698766</td>\n      <td>20.311761</td>\n      <td>32.063378</td>\n      <td>49.452214</td>\n      <td>110.363832</td>\n    </tr>\n    <tr>\n      <th>hk026</th>\n      <td>4.186146</td>\n      <td>6.658511</td>\n      <td>2.986226</td>\n      <td>4.858243</td>\n      <td>7.875270</td>\n      <td>12.698766</td>\n      <td>20.311761</td>\n      <td>1.971599</td>\n      <td>3.241674</td>\n      <td>5.326283</td>\n      <td>...</td>\n      <td>0.684559</td>\n      <td>1.120318</td>\n      <td>1.830818</td>\n      <td>2.986226</td>\n      <td>4.858243</td>\n      <td>7.875270</td>\n      <td>12.698766</td>\n      <td>20.311761</td>\n      <td>32.063378</td>\n      <td>98.076569</td>\n    </tr>\n    <tr>\n      <th>hk027</th>\n      <td>17.731724</td>\n      <td>12.209573</td>\n      <td>35.961975</td>\n      <td>24.625500</td>\n      <td>16.253472</td>\n      <td>10.482220</td>\n      <td>6.658511</td>\n      <td>72.935020</td>\n      <td>49.452214</td>\n      <td>32.063378</td>\n      <td>...</td>\n      <td>181.959198</td>\n      <td>147.920607</td>\n      <td>98.076569</td>\n      <td>61.722198</td>\n      <td>38.176863</td>\n      <td>23.435986</td>\n      <td>14.330659</td>\n      <td>8.742958</td>\n      <td>5.326283</td>\n      <td>1.198537</td>\n    </tr>\n    <tr>\n      <th>hk028</th>\n      <td>24.625500</td>\n      <td>17.731724</td>\n      <td>49.452214</td>\n      <td>35.961975</td>\n      <td>24.625500</td>\n      <td>16.253472</td>\n      <td>10.482220</td>\n      <td>98.076569</td>\n      <td>72.935020</td>\n      <td>49.452214</td>\n      <td>...</td>\n      <td>147.920607</td>\n      <td>181.959198</td>\n      <td>147.920607</td>\n      <td>98.076569</td>\n      <td>61.722198</td>\n      <td>38.176863</td>\n      <td>23.435986</td>\n      <td>14.330659</td>\n      <td>8.742958</td>\n      <td>1.971599</td>\n    </tr>\n    <tr>\n      <th>hk029</th>\n      <td>32.063378</td>\n      <td>24.625500</td>\n      <td>61.722198</td>\n      <td>49.452214</td>\n      <td>35.961975</td>\n      <td>24.625500</td>\n      <td>16.253472</td>\n      <td>110.363832</td>\n      <td>98.076569</td>\n      <td>72.935020</td>\n      <td>...</td>\n      <td>98.076569</td>\n      <td>147.920607</td>\n      <td>181.959198</td>\n      <td>147.920607</td>\n      <td>98.076569</td>\n      <td>61.722198</td>\n      <td>38.176863</td>\n      <td>23.435986</td>\n      <td>14.330659</td>\n      <td>3.241674</td>\n    </tr>\n    <tr>\n      <th>hk030</th>\n      <td>38.176863</td>\n      <td>32.063378</td>\n      <td>66.939048</td>\n      <td>61.722198</td>\n      <td>49.452214</td>\n      <td>35.961975</td>\n      <td>24.625500</td>\n      <td>98.076569</td>\n      <td>110.363832</td>\n      <td>98.076569</td>\n      <td>...</td>\n      <td>61.722198</td>\n      <td>98.076569</td>\n      <td>147.920607</td>\n      <td>181.959198</td>\n      <td>147.920607</td>\n      <td>98.076569</td>\n      <td>61.722198</td>\n      <td>38.176863</td>\n      <td>23.435986</td>\n      <td>5.326283</td>\n    </tr>\n    <tr>\n      <th>hk031</th>\n      <td>40.600585</td>\n      <td>38.176863</td>\n      <td>61.722198</td>\n      <td>66.939048</td>\n      <td>61.722198</td>\n      <td>49.452214</td>\n      <td>35.961975</td>\n      <td>72.935020</td>\n      <td>98.076569</td>\n      <td>110.363832</td>\n      <td>...</td>\n      <td>38.176863</td>\n      <td>61.722198</td>\n      <td>98.076569</td>\n      <td>147.920607</td>\n      <td>181.959198</td>\n      <td>147.920607</td>\n      <td>98.076569</td>\n      <td>61.722198</td>\n      <td>38.176863</td>\n      <td>8.742958</td>\n    </tr>\n    <tr>\n      <th>hk032</th>\n      <td>38.176863</td>\n      <td>40.600585</td>\n      <td>49.452214</td>\n      <td>61.722198</td>\n      <td>66.939048</td>\n      <td>61.722198</td>\n      <td>49.452214</td>\n      <td>49.452214</td>\n      <td>72.935020</td>\n      <td>98.076569</td>\n      <td>...</td>\n      <td>23.435986</td>\n      <td>38.176863</td>\n      <td>61.722198</td>\n      <td>98.076569</td>\n      <td>147.920607</td>\n      <td>181.959198</td>\n      <td>147.920607</td>\n      <td>98.076569</td>\n      <td>61.722198</td>\n      <td>14.330659</td>\n    </tr>\n    <tr>\n      <th>hk033</th>\n      <td>32.063378</td>\n      <td>38.176863</td>\n      <td>35.961975</td>\n      <td>49.452214</td>\n      <td>61.722198</td>\n      <td>66.939048</td>\n      <td>61.722198</td>\n      <td>32.063378</td>\n      <td>49.452214</td>\n      <td>72.935020</td>\n      <td>...</td>\n      <td>14.330659</td>\n      <td>23.435986</td>\n      <td>38.176863</td>\n      <td>61.722198</td>\n      <td>98.076569</td>\n      <td>147.920607</td>\n      <td>181.959198</td>\n      <td>147.920607</td>\n      <td>98.076569</td>\n      <td>23.435986</td>\n    </tr>\n    <tr>\n      <th>hk034</th>\n      <td>24.625500</td>\n      <td>32.063378</td>\n      <td>24.625500</td>\n      <td>35.961975</td>\n      <td>49.452214</td>\n      <td>61.722198</td>\n      <td>66.939048</td>\n      <td>20.311761</td>\n      <td>32.063378</td>\n      <td>49.452214</td>\n      <td>...</td>\n      <td>8.742958</td>\n      <td>14.330659</td>\n      <td>23.435986</td>\n      <td>38.176863</td>\n      <td>61.722198</td>\n      <td>98.076569</td>\n      <td>147.920607</td>\n      <td>181.959198</td>\n      <td>147.920607</td>\n      <td>38.176863</td>\n    </tr>\n    <tr>\n      <th>hk035</th>\n      <td>17.731724</td>\n      <td>24.625500</td>\n      <td>16.253472</td>\n      <td>24.625500</td>\n      <td>35.961975</td>\n      <td>49.452214</td>\n      <td>61.722198</td>\n      <td>12.698766</td>\n      <td>20.311761</td>\n      <td>32.063378</td>\n      <td>...</td>\n      <td>5.326283</td>\n      <td>8.742958</td>\n      <td>14.330659</td>\n      <td>23.435986</td>\n      <td>38.176863</td>\n      <td>61.722198</td>\n      <td>98.076569</td>\n      <td>147.920607</td>\n      <td>181.959198</td>\n      <td>61.722198</td>\n    </tr>\n    <tr>\n      <th>hk036</th>\n      <td>12.209573</td>\n      <td>17.731724</td>\n      <td>10.482220</td>\n      <td>16.253472</td>\n      <td>24.625500</td>\n      <td>35.961975</td>\n      <td>49.452214</td>\n      <td>7.875270</td>\n      <td>12.698766</td>\n      <td>20.311761</td>\n      <td>...</td>\n      <td>3.241674</td>\n      <td>5.326283</td>\n      <td>8.742958</td>\n      <td>14.330659</td>\n      <td>23.435986</td>\n      <td>38.176863</td>\n      <td>61.722198</td>\n      <td>98.076569</td>\n      <td>147.920607</td>\n      <td>98.076569</td>\n    </tr>\n    <tr>\n      <th>hk037</th>\n      <td>8.151738</td>\n      <td>12.209573</td>\n      <td>6.658511</td>\n      <td>10.482220</td>\n      <td>16.253472</td>\n      <td>24.625500</td>\n      <td>35.961975</td>\n      <td>4.858243</td>\n      <td>7.875270</td>\n      <td>12.698766</td>\n      <td>...</td>\n      <td>1.971599</td>\n      <td>3.241674</td>\n      <td>5.326283</td>\n      <td>8.742958</td>\n      <td>14.330659</td>\n      <td>23.435986</td>\n      <td>38.176863</td>\n      <td>61.722198</td>\n      <td>98.076569</td>\n      <td>147.920607</td>\n    </tr>\n    <tr>\n      <th>hk038</th>\n      <td>5.326283</td>\n      <td>8.151738</td>\n      <td>4.186146</td>\n      <td>6.658511</td>\n      <td>10.482220</td>\n      <td>16.253472</td>\n      <td>24.625500</td>\n      <td>2.986226</td>\n      <td>4.858243</td>\n      <td>7.875270</td>\n      <td>...</td>\n      <td>1.198537</td>\n      <td>1.971599</td>\n      <td>3.241674</td>\n      <td>5.326283</td>\n      <td>8.742958</td>\n      <td>14.330659</td>\n      <td>23.435986</td>\n      <td>38.176863</td>\n      <td>61.722198</td>\n      <td>181.959198</td>\n    </tr>\n    <tr>\n      <th>hk039</th>\n      <td>3.426867</td>\n      <td>5.326283</td>\n      <td>2.612652</td>\n      <td>4.186146</td>\n      <td>6.658511</td>\n      <td>10.482220</td>\n      <td>16.253472</td>\n      <td>1.830818</td>\n      <td>2.986226</td>\n      <td>4.858243</td>\n      <td>...</td>\n      <td>0.728320</td>\n      <td>1.198537</td>\n      <td>1.971599</td>\n      <td>3.241674</td>\n      <td>5.326283</td>\n      <td>8.742958</td>\n      <td>14.330659</td>\n      <td>23.435986</td>\n      <td>38.176863</td>\n      <td>147.920607</td>\n    </tr>\n    <tr>\n      <th>hk040</th>\n      <td>12.209573</td>\n      <td>8.742958</td>\n      <td>24.625500</td>\n      <td>17.731724</td>\n      <td>12.209573</td>\n      <td>8.151738</td>\n      <td>5.326283</td>\n      <td>49.452214</td>\n      <td>35.961975</td>\n      <td>24.625500</td>\n      <td>...</td>\n      <td>300.000000</td>\n      <td>181.959198</td>\n      <td>110.363832</td>\n      <td>66.939048</td>\n      <td>40.600585</td>\n      <td>24.625500</td>\n      <td>14.936121</td>\n      <td>9.059215</td>\n      <td>5.494692</td>\n      <td>1.226031</td>\n    </tr>\n    <tr>\n      <th>hk041</th>\n      <td>16.253472</td>\n      <td>12.209573</td>\n      <td>32.063378</td>\n      <td>24.625500</td>\n      <td>17.731724</td>\n      <td>12.209573</td>\n      <td>8.151738</td>\n      <td>61.722198</td>\n      <td>49.452214</td>\n      <td>35.961975</td>\n      <td>...</td>\n      <td>181.959198</td>\n      <td>300.000000</td>\n      <td>181.959198</td>\n      <td>110.363832</td>\n      <td>66.939048</td>\n      <td>40.600585</td>\n      <td>24.625500</td>\n      <td>14.936121</td>\n      <td>9.059215</td>\n      <td>2.021384</td>\n    </tr>\n    <tr>\n      <th>hk042</th>\n      <td>20.311761</td>\n      <td>16.253472</td>\n      <td>38.176863</td>\n      <td>32.063378</td>\n      <td>24.625500</td>\n      <td>17.731724</td>\n      <td>12.209573</td>\n      <td>66.939048</td>\n      <td>61.722198</td>\n      <td>49.452214</td>\n      <td>...</td>\n      <td>110.363832</td>\n      <td>181.959198</td>\n      <td>300.000000</td>\n      <td>181.959198</td>\n      <td>110.363832</td>\n      <td>66.939048</td>\n      <td>40.600585</td>\n      <td>24.625500</td>\n      <td>14.936121</td>\n      <td>3.332699</td>\n    </tr>\n    <tr>\n      <th>hk043</th>\n      <td>23.435986</td>\n      <td>20.311761</td>\n      <td>40.600585</td>\n      <td>38.176863</td>\n      <td>32.063378</td>\n      <td>24.625500</td>\n      <td>17.731724</td>\n      <td>61.722198</td>\n      <td>66.939048</td>\n      <td>61.722198</td>\n      <td>...</td>\n      <td>66.939048</td>\n      <td>110.363832</td>\n      <td>181.959198</td>\n      <td>300.000000</td>\n      <td>181.959198</td>\n      <td>110.363832</td>\n      <td>66.939048</td>\n      <td>40.600585</td>\n      <td>24.625500</td>\n      <td>5.494692</td>\n    </tr>\n    <tr>\n      <th>hk044</th>\n      <td>24.625500</td>\n      <td>23.435986</td>\n      <td>38.176863</td>\n      <td>40.600585</td>\n      <td>38.176863</td>\n      <td>32.063378</td>\n      <td>24.625500</td>\n      <td>49.452214</td>\n      <td>61.722198</td>\n      <td>66.939048</td>\n      <td>...</td>\n      <td>40.600585</td>\n      <td>66.939048</td>\n      <td>110.363832</td>\n      <td>181.959198</td>\n      <td>300.000000</td>\n      <td>181.959198</td>\n      <td>110.363832</td>\n      <td>66.939048</td>\n      <td>40.600585</td>\n      <td>9.059215</td>\n    </tr>\n    <tr>\n      <th>hk045</th>\n      <td>23.435986</td>\n      <td>24.625500</td>\n      <td>32.063378</td>\n      <td>38.176863</td>\n      <td>40.600585</td>\n      <td>38.176863</td>\n      <td>32.063378</td>\n      <td>35.961975</td>\n      <td>49.452214</td>\n      <td>61.722198</td>\n      <td>...</td>\n      <td>24.625500</td>\n      <td>40.600585</td>\n      <td>66.939048</td>\n      <td>110.363832</td>\n      <td>181.959198</td>\n      <td>300.000000</td>\n      <td>181.959198</td>\n      <td>110.363832</td>\n      <td>66.939048</td>\n      <td>14.936121</td>\n    </tr>\n    <tr>\n      <th>hk046</th>\n      <td>20.311761</td>\n      <td>23.435986</td>\n      <td>24.625500</td>\n      <td>32.063378</td>\n      <td>38.176863</td>\n      <td>40.600585</td>\n      <td>38.176863</td>\n      <td>24.625500</td>\n      <td>35.961975</td>\n      <td>49.452214</td>\n      <td>...</td>\n      <td>14.936121</td>\n      <td>24.625500</td>\n      <td>40.600585</td>\n      <td>66.939048</td>\n      <td>110.363832</td>\n      <td>181.959198</td>\n      <td>300.000000</td>\n      <td>181.959198</td>\n      <td>110.363832</td>\n      <td>24.625500</td>\n    </tr>\n    <tr>\n      <th>hk047</th>\n      <td>16.253472</td>\n      <td>20.311761</td>\n      <td>17.731724</td>\n      <td>24.625500</td>\n      <td>32.063378</td>\n      <td>38.176863</td>\n      <td>40.600585</td>\n      <td>16.253472</td>\n      <td>24.625500</td>\n      <td>35.961975</td>\n      <td>...</td>\n      <td>9.059215</td>\n      <td>14.936121</td>\n      <td>24.625500</td>\n      <td>40.600585</td>\n      <td>66.939048</td>\n      <td>110.363832</td>\n      <td>181.959198</td>\n      <td>300.000000</td>\n      <td>181.959198</td>\n      <td>40.600585</td>\n    </tr>\n    <tr>\n      <th>hk048</th>\n      <td>12.209573</td>\n      <td>16.253472</td>\n      <td>12.209573</td>\n      <td>17.731724</td>\n      <td>24.625500</td>\n      <td>32.063378</td>\n      <td>38.176863</td>\n      <td>10.482220</td>\n      <td>16.253472</td>\n      <td>24.625500</td>\n      <td>...</td>\n      <td>5.494692</td>\n      <td>9.059215</td>\n      <td>14.936121</td>\n      <td>24.625500</td>\n      <td>40.600585</td>\n      <td>66.939048</td>\n      <td>110.363832</td>\n      <td>181.959198</td>\n      <td>300.000000</td>\n      <td>66.939048</td>\n    </tr>\n    <tr>\n      <th>hk049</th>\n      <td>4.065838</td>\n      <td>6.041532</td>\n      <td>3.426867</td>\n      <td>5.326283</td>\n      <td>8.151738</td>\n      <td>12.209573</td>\n      <td>17.731724</td>\n      <td>2.612652</td>\n      <td>4.186146</td>\n      <td>6.658511</td>\n      <td>...</td>\n      <td>1.226031</td>\n      <td>2.021384</td>\n      <td>3.332699</td>\n      <td>5.494692</td>\n      <td>9.059215</td>\n      <td>14.936121</td>\n      <td>24.625500</td>\n      <td>40.600585</td>\n      <td>66.939048</td>\n      <td>300.000000</td>\n    </tr>\n  </tbody>\n</table>\n<p>50 rows × 50 columns</p>\n</div>"
     },
     "metadata": {},
     "execution_count": 61
    }
   ],
   "source": [
    "cov.to_dataframe()"
   ]
  },
  {
   "cell_type": "markdown",
   "metadata": {},
   "source": [
    "What do these numbers mean?  Why should you care?  Well, this covariance matrix plays an important role in uncertainty quantification, as well as in governing the way pilot point parameters are adjusted during calibration"
   ]
  },
  {
   "cell_type": "code",
   "execution_count": null,
   "metadata": {},
   "outputs": [],
   "source": []
  },
  {
   "cell_type": "markdown",
   "metadata": {},
   "source": [
    "# Build instruction files (Streamflow / Watertable)"
   ]
  },
  {
   "cell_type": "markdown",
   "metadata": {},
   "source": [
    "### 1. Streamflow (output.rch)"
   ]
  },
  {
   "cell_type": "code",
   "execution_count": 178,
   "metadata": {},
   "outputs": [],
   "source": [
    "from apexmf_pst_pkgs import apexmf_pst_utils, apexmf_pst_par"
   ]
  },
  {
   "cell_type": "code",
   "execution_count": 186,
   "metadata": {},
   "outputs": [],
   "source": [
    "working_dir = 'D:/Projects/Watersheds/White/Analysis/APEX-MODFLOWs/calibration/white_apexmf_110420/APEX-MODFLOW'\n",
    "os.chdir(working_dir)\n",
    "wd = 'D:/Projects/Watersheds/White/Analysis/APEX-MODFLOWs/calibration/white_apexmf_110420/APEX-MODFLOW/MODFLOW'\n",
    "\n"
   ]
  },
  {
   "cell_type": "code",
   "execution_count": 72,
   "metadata": {},
   "outputs": [
    {
     "output_type": "execute_result",
     "data": {
      "text/plain": [
       "          0       1       2       3       4       5       6       7       8  \\\n",
       "0    1.50    2.      .5      0.9000  ~p5  ~  0.500   0.990   20.000  20.000   \n",
       "1   -100.00  ~p12 ~  2.0000  1.      ~p15 ~  ~p16 ~  ~p17 ~  1.500   0.003    \n",
       "2    10.00   0.90    ~p23 ~  0.1000  ~p25 ~  0.000   0.300   5.000   .01      \n",
       "3    0.30    1.00    2.5000  0.      0.9900  0.      0.200   1.000   .01      \n",
       "4    0.50    0.40    0.1500  2.0000  3.0000  0.500   1.000   0.000   ~p49 ~   \n",
       "5    ~p51 ~  10.00   0.9000  0.6000  0.2000  0.900   1.000   0.600   0.100    \n",
       "6    ~p61 ~  0.25    1.1000  1.0000  0.0010  3.000   10.000  0.500   0.500    \n",
       "7    1.15    .05     0.5000  0.2000  0.8000  .05     0.000   10.000  1.000    \n",
       "8    0.00    3.      0.5100  0.0001  0.0001  0.010   0.010   0.001   0.100    \n",
       "9    ~p91 ~  ~p92 ~  1.      1.      7.      1.      .9      1.      1.       \n",
       "10  .000012  .0667   .2      .3      .0667   .2      .0075   2.      1.       \n",
       "\n",
       "          9  \n",
       "0    20.000  \n",
       "1    ~p20 ~  \n",
       "2    1.100   \n",
       "3    ~p40 ~  \n",
       "4    ~p50 ~  \n",
       "5    7.000   \n",
       "6    1.      \n",
       "7    .5      \n",
       "8    ~p90 ~  \n",
       "9   .000548  \n",
       "10   1.      "
      ],
      "text/html": "<div>\n<style scoped>\n    .dataframe tbody tr th:only-of-type {\n        vertical-align: middle;\n    }\n\n    .dataframe tbody tr th {\n        vertical-align: top;\n    }\n\n    .dataframe thead th {\n        text-align: right;\n    }\n</style>\n<table border=\"1\" class=\"dataframe\">\n  <thead>\n    <tr style=\"text-align: right;\">\n      <th></th>\n      <th>0</th>\n      <th>1</th>\n      <th>2</th>\n      <th>3</th>\n      <th>4</th>\n      <th>5</th>\n      <th>6</th>\n      <th>7</th>\n      <th>8</th>\n      <th>9</th>\n    </tr>\n  </thead>\n  <tbody>\n    <tr>\n      <th>0</th>\n      <td>1.50</td>\n      <td>2.</td>\n      <td>.5</td>\n      <td>0.9000</td>\n      <td>~p5  ~</td>\n      <td>0.500</td>\n      <td>0.990</td>\n      <td>20.000</td>\n      <td>20.000</td>\n      <td>20.000</td>\n    </tr>\n    <tr>\n      <th>1</th>\n      <td>-100.00</td>\n      <td>~p12 ~</td>\n      <td>2.0000</td>\n      <td>1.</td>\n      <td>~p15 ~</td>\n      <td>~p16 ~</td>\n      <td>~p17 ~</td>\n      <td>1.500</td>\n      <td>0.003</td>\n      <td>~p20 ~</td>\n    </tr>\n    <tr>\n      <th>2</th>\n      <td>10.00</td>\n      <td>0.90</td>\n      <td>~p23 ~</td>\n      <td>0.1000</td>\n      <td>~p25 ~</td>\n      <td>0.000</td>\n      <td>0.300</td>\n      <td>5.000</td>\n      <td>.01</td>\n      <td>1.100</td>\n    </tr>\n    <tr>\n      <th>3</th>\n      <td>0.30</td>\n      <td>1.00</td>\n      <td>2.5000</td>\n      <td>0.</td>\n      <td>0.9900</td>\n      <td>0.</td>\n      <td>0.200</td>\n      <td>1.000</td>\n      <td>.01</td>\n      <td>~p40 ~</td>\n    </tr>\n    <tr>\n      <th>4</th>\n      <td>0.50</td>\n      <td>0.40</td>\n      <td>0.1500</td>\n      <td>2.0000</td>\n      <td>3.0000</td>\n      <td>0.500</td>\n      <td>1.000</td>\n      <td>0.000</td>\n      <td>~p49 ~</td>\n      <td>~p50 ~</td>\n    </tr>\n    <tr>\n      <th>5</th>\n      <td>~p51 ~</td>\n      <td>10.00</td>\n      <td>0.9000</td>\n      <td>0.6000</td>\n      <td>0.2000</td>\n      <td>0.900</td>\n      <td>1.000</td>\n      <td>0.600</td>\n      <td>0.100</td>\n      <td>7.000</td>\n    </tr>\n    <tr>\n      <th>6</th>\n      <td>~p61 ~</td>\n      <td>0.25</td>\n      <td>1.1000</td>\n      <td>1.0000</td>\n      <td>0.0010</td>\n      <td>3.000</td>\n      <td>10.000</td>\n      <td>0.500</td>\n      <td>0.500</td>\n      <td>1.</td>\n    </tr>\n    <tr>\n      <th>7</th>\n      <td>1.15</td>\n      <td>.05</td>\n      <td>0.5000</td>\n      <td>0.2000</td>\n      <td>0.8000</td>\n      <td>.05</td>\n      <td>0.000</td>\n      <td>10.000</td>\n      <td>1.000</td>\n      <td>.5</td>\n    </tr>\n    <tr>\n      <th>8</th>\n      <td>0.00</td>\n      <td>3.</td>\n      <td>0.5100</td>\n      <td>0.0001</td>\n      <td>0.0001</td>\n      <td>0.010</td>\n      <td>0.010</td>\n      <td>0.001</td>\n      <td>0.100</td>\n      <td>~p90 ~</td>\n    </tr>\n    <tr>\n      <th>9</th>\n      <td>~p91 ~</td>\n      <td>~p92 ~</td>\n      <td>1.</td>\n      <td>1.</td>\n      <td>7.</td>\n      <td>1.</td>\n      <td>.9</td>\n      <td>1.</td>\n      <td>1.</td>\n      <td>.000548</td>\n    </tr>\n    <tr>\n      <th>10</th>\n      <td>.000012</td>\n      <td>.0667</td>\n      <td>.2</td>\n      <td>.3</td>\n      <td>.0667</td>\n      <td>.2</td>\n      <td>.0075</td>\n      <td>2.</td>\n      <td>1.</td>\n      <td>1.</td>\n    </tr>\n  </tbody>\n</table>\n</div>"
     },
     "metadata": {},
     "execution_count": 72
    }
   ],
   "source": [
    "# Create parm template file\n",
    "\n",
    "sw_par = apexmf_pst_utils.parm_to_tpl_file()\n",
    "sw_par"
   ]
  },
  {
   "source": [
    "### 1.1.1 Create river parameters\n"
   ],
   "cell_type": "markdown",
   "metadata": {}
  },
  {
   "cell_type": "code",
   "execution_count": 181,
   "metadata": {},
   "outputs": [
    {
     "output_type": "stream",
     "name": "stdout",
     "text": [
      "'mf_riv.par' file has been exported to the SWAT-MODFLOW working directory!\n"
     ]
    },
    {
     "output_type": "execute_result",
     "data": {
      "text/plain": [
       "                  parnme chg_type    val\n",
       "parnme                                  \n",
       "rivcd_g066    rivcd_g066   unfchg  0.001\n",
       "rivcd_g074    rivcd_g074   unfchg  0.001\n",
       "rivcd_g102    rivcd_g102   unfchg  0.001\n",
       "rivbot_g066  rivbot_g066   unfchg  0.001\n",
       "rivbot_g074  rivbot_g074   unfchg  0.001\n",
       "rivbot_g102  rivbot_g102   unfchg  0.001"
      ],
      "text/html": "<div>\n<style scoped>\n    .dataframe tbody tr th:only-of-type {\n        vertical-align: middle;\n    }\n\n    .dataframe tbody tr th {\n        vertical-align: top;\n    }\n\n    .dataframe thead th {\n        text-align: right;\n    }\n</style>\n<table border=\"1\" class=\"dataframe\">\n  <thead>\n    <tr style=\"text-align: right;\">\n      <th></th>\n      <th>parnme</th>\n      <th>chg_type</th>\n      <th>val</th>\n    </tr>\n    <tr>\n      <th>parnme</th>\n      <th></th>\n      <th></th>\n      <th></th>\n    </tr>\n  </thead>\n  <tbody>\n    <tr>\n      <th>rivcd_g066</th>\n      <td>rivcd_g066</td>\n      <td>unfchg</td>\n      <td>0.001</td>\n    </tr>\n    <tr>\n      <th>rivcd_g074</th>\n      <td>rivcd_g074</td>\n      <td>unfchg</td>\n      <td>0.001</td>\n    </tr>\n    <tr>\n      <th>rivcd_g102</th>\n      <td>rivcd_g102</td>\n      <td>unfchg</td>\n      <td>0.001</td>\n    </tr>\n    <tr>\n      <th>rivbot_g066</th>\n      <td>rivbot_g066</td>\n      <td>unfchg</td>\n      <td>0.001</td>\n    </tr>\n    <tr>\n      <th>rivbot_g074</th>\n      <td>rivbot_g074</td>\n      <td>unfchg</td>\n      <td>0.001</td>\n    </tr>\n    <tr>\n      <th>rivbot_g102</th>\n      <td>rivbot_g102</td>\n      <td>unfchg</td>\n      <td>0.001</td>\n    </tr>\n  </tbody>\n</table>\n</div>"
     },
     "metadata": {},
     "execution_count": 181
    }
   ],
   "source": [
    "# provide channel ids that will be used for calibration\n",
    "subs = ['g066', 'g074', 'g102']\n",
    "apexmf_pst_par.create_riv_par(wd, subs)"
   ]
  },
  {
   "cell_type": "code",
   "execution_count": 183,
   "metadata": {},
   "outputs": [
    {
     "output_type": "execute_result",
     "data": {
      "text/plain": [
       "                  parnme chg_type  parval1                       tpl\n",
       "parnme                                                              \n",
       "rivcd_g066    rivcd_g066   pctchg    0.001   ~   rivcd_g066        ~\n",
       "rivcd_g074    rivcd_g074   pctchg    0.001   ~   rivcd_g074        ~\n",
       "rivcd_g102    rivcd_g102   pctchg    0.001   ~   rivcd_g102        ~\n",
       "rivbot_g066  rivbot_g066   unfchg    0.001   ~   rivbot_g066       ~\n",
       "rivbot_g074  rivbot_g074   unfchg    0.001   ~   rivbot_g074       ~\n",
       "rivbot_g102  rivbot_g102   unfchg    0.001   ~   rivbot_g102       ~"
      ],
      "text/html": "<div>\n<style scoped>\n    .dataframe tbody tr th:only-of-type {\n        vertical-align: middle;\n    }\n\n    .dataframe tbody tr th {\n        vertical-align: top;\n    }\n\n    .dataframe thead th {\n        text-align: right;\n    }\n</style>\n<table border=\"1\" class=\"dataframe\">\n  <thead>\n    <tr style=\"text-align: right;\">\n      <th></th>\n      <th>parnme</th>\n      <th>chg_type</th>\n      <th>parval1</th>\n      <th>tpl</th>\n    </tr>\n    <tr>\n      <th>parnme</th>\n      <th></th>\n      <th></th>\n      <th></th>\n      <th></th>\n    </tr>\n  </thead>\n  <tbody>\n    <tr>\n      <th>rivcd_g066</th>\n      <td>rivcd_g066</td>\n      <td>pctchg</td>\n      <td>0.001</td>\n      <td>~   rivcd_g066        ~</td>\n    </tr>\n    <tr>\n      <th>rivcd_g074</th>\n      <td>rivcd_g074</td>\n      <td>pctchg</td>\n      <td>0.001</td>\n      <td>~   rivcd_g074        ~</td>\n    </tr>\n    <tr>\n      <th>rivcd_g102</th>\n      <td>rivcd_g102</td>\n      <td>pctchg</td>\n      <td>0.001</td>\n      <td>~   rivcd_g102        ~</td>\n    </tr>\n    <tr>\n      <th>rivbot_g066</th>\n      <td>rivbot_g066</td>\n      <td>unfchg</td>\n      <td>0.001</td>\n      <td>~   rivbot_g066       ~</td>\n    </tr>\n    <tr>\n      <th>rivbot_g074</th>\n      <td>rivbot_g074</td>\n      <td>unfchg</td>\n      <td>0.001</td>\n      <td>~   rivbot_g074       ~</td>\n    </tr>\n    <tr>\n      <th>rivbot_g102</th>\n      <td>rivbot_g102</td>\n      <td>unfchg</td>\n      <td>0.001</td>\n      <td>~   rivbot_g102       ~</td>\n    </tr>\n  </tbody>\n</table>\n</div>"
     },
     "metadata": {},
     "execution_count": 183
    }
   ],
   "source": [
    "# create a template file for mf_riv.par file\n",
    "apexmf_pst_utils.riv_par_to_template_file('mf_riv.par')"
   ]
  },
  {
   "cell_type": "code",
   "execution_count": 184,
   "metadata": {},
   "outputs": [
    {
     "output_type": "stream",
     "name": "stdout",
     "text": [
      "The original river package \"wt_1500.riv\" has been backed up...\n",
      "wt_1500.riv file is overwritten successfully!\n"
     ]
    }
   ],
   "source": [
    "# overwrite the river package file\n",
    "apexmf_pst_par.riv_par(wd)"
   ]
  },
  {
   "source": [
    "# 1.2. Build instruction files (streamflow / watertable / baseflow)\n",
    "## 1.2.1. Streamflow (output.rch)"
   ],
   "cell_type": "markdown",
   "metadata": {}
  },
  {
   "cell_type": "code",
   "execution_count": null,
   "metadata": {},
   "outputs": [],
   "source": []
  },
  {
   "cell_type": "code",
   "execution_count": 221,
   "metadata": {},
   "outputs": [
    {
     "output_type": "stream",
     "name": "stdout",
     "text": [
      "cha_066.txt file has been created...\n",
      "cha_102.txt file has been created...\n",
      "cha_133.txt file has been created...\n",
      "Finished ...\n"
     ]
    }
   ],
   "source": [
    "# file path\n",
    "rch_file = 'SITE66.RCH'\n",
    "# reach numbers that are used for calibration\n",
    "subs = [66, 102, 133]\n",
    "# extract month_streamflow\n",
    "apexmf_pst_utils.extract_month_str(rch_file, subs, '1/1/2000', '1/1/2010', '12/31/2014')"
   ]
  },
  {
   "source": [
    "### 1.2.3. Create instruction files for each str_sim file using the 'streamflow.obd' file"
   ],
   "cell_type": "markdown",
   "metadata": {}
  },
  {
   "cell_type": "code",
   "execution_count": 222,
   "metadata": {},
   "outputs": [
    {
     "output_type": "stream",
     "name": "stdout",
     "text": [
      "['sub066', 'sub102', 'sub133']\n['cha_066.txt', 'cha_102.txt', 'cha_133.txt']\n"
     ]
    }
   ],
   "source": [
    "# because we have 3 streamgages let's loop for them\n",
    "# read streamobd and get column names\n",
    "stf_obd = pd.read_csv(\n",
    "                    'streamflow_month.obd',\n",
    "                    sep='\\t',\n",
    "                    index_col=0,\n",
    "                    parse_dates=True,\n",
    "                    na_values=[-999, '']\n",
    "                    )\n",
    "# stf_obd_c = stf_obd.resample('M').mean()\n",
    "# stf_obd_c.to_csv('streamflow_m.obd', sep='\\t', na_rep=-999, float_format='%.2f')\n",
    "obds = stf_obd.columns.tolist()\n",
    "obds.remove('sub046')\n",
    "obds.remove('sub130')\n",
    "print(obds)\n",
    "sim_files = ['cha_{:03d}.txt'.format(x) for x in subs]\n",
    "# sed_files = ['sed_{:03d}.txt'.format(x) for x in subs]\n",
    "# sim_files = sim_files + sed_files\n",
    "print(sim_files)"
   ]
  },
  {
   "cell_type": "code",
   "execution_count": 238,
   "metadata": {},
   "outputs": [
    {
     "output_type": "stream",
     "name": "stdout",
     "text": [
      "cha_066.txt.ins file has been created...\ncha_102.txt.ins file has been created...\ncha_133.txt.ins file has been created...\n"
     ]
    }
   ],
   "source": [
    "# create instruction files for each sim file\n",
    "for i in range(len(sim_files)):\n",
    "    apexmf_pst_utils.stf_obd_to_ins(sim_files[i], obds[i], '1/1/2010', '12/31/2014', time_step='month')"
   ]
  },
  {
   "cell_type": "code",
   "execution_count": 239,
   "metadata": {},
   "outputs": [
    {
     "output_type": "stream",
     "name": "stdout",
     "text": [
      "wt_4912.txt file has been created...\nwt_5959.txt file has been created...\nFinished ...\n"
     ]
    }
   ],
   "source": [
    "# We do have watertable data now\n",
    "grid_ids = [4912, 5959]\n",
    "apexmf_pst_utils.extract_watertable_sim(grid_ids, '1/1/2000', '12/31/2014')"
   ]
  },
  {
   "cell_type": "code",
   "execution_count": 240,
   "metadata": {},
   "outputs": [
    {
     "output_type": "stream",
     "name": "stdout",
     "text": [
      "wt_4912.txt.ins file has been created...\n"
     ]
    },
    {
     "output_type": "execute_result",
     "data": {
      "text/plain": [
       "date\n",
       "2000-01-01                      l1\n",
       "2000-01-02                      l1\n",
       "2000-01-03                      l1\n",
       "2000-01-04                      l1\n",
       "2000-01-05                      l1\n",
       "                      ...         \n",
       "2014-12-27    l1 w !g492_20141227!\n",
       "2014-12-28    l1 w !g492_20141228!\n",
       "2014-12-29    l1 w !g492_20141229!\n",
       "2014-12-30    l1 w !g492_20141230!\n",
       "2014-12-31    l1 w !g492_20141231!\n",
       "Freq: D, Name: g492_ins, Length: 5479, dtype: object"
      ]
     },
     "metadata": {},
     "execution_count": 240
    }
   ],
   "source": [
    "apexmf_pst_utils.mf_obd_to_ins('wt_4912.txt', 'g492', '1/1/2010', '12/31/2014')"
   ]
  },
  {
   "cell_type": "code",
   "execution_count": 241,
   "metadata": {},
   "outputs": [
    {
     "output_type": "stream",
     "name": "stdout",
     "text": [
      "error using inschek for instruction file cha_066.txt.ins:run() returned non-zero: 1\n",
      "observations in this instruction file will havegeneric values.\n",
      "error using inschek for instruction file cha_102.txt.ins:run() returned non-zero: 1\n",
      "observations in this instruction file will havegeneric values.\n",
      "error using inschek for instruction file cha_133.txt.ins:run() returned non-zero: 1\n",
      "observations in this instruction file will havegeneric values.\n",
      "error using inschek for instruction file wt_4912.txt.ins:run() returned non-zero: 1\n",
      "observations in this instruction file will havegeneric values.\n",
      "error using inschek for instruction file wt_5959.txt.ins:run() returned non-zero: 1\n",
      "observations in this instruction file will havegeneric values.\n",
      "error using inschek for instruction file cha_066.txt.ins:run() returned non-zero: 1\n",
      "observations in this instruction file will havegeneric values.\n",
      "error using inschek for instruction file cha_102.txt.ins:run() returned non-zero: 1\n",
      "observations in this instruction file will havegeneric values.\n",
      "error using inschek for instruction file cha_133.txt.ins:run() returned non-zero: 1\n",
      "observations in this instruction file will havegeneric values.\n",
      "error using inschek for instruction file wt_4912.txt.ins:run() returned non-zero: 1\n",
      "observations in this instruction file will havegeneric values.\n",
      "error using inschek for instruction file wt_5959.txt.ins:run() returned non-zero: 1\n",
      "observations in this instruction file will havegeneric values.\n",
      "noptmax:30, npar_adj:122, nnz_obs:3118\n"
     ]
    },
    {
     "output_type": "execute_result",
     "data": {
      "text/plain": [
       "(['hk0pp.dat.tpl', 'mf_riv.par.tpl', 'PARM1501.DAT.tpl', 'sy0pp.dat.tpl'],\n",
       " ['hk0pp.dat', 'mf_riv.par', 'PARM1501.DAT', 'sy0pp.dat'],\n",
       " ['cha_066.txt.ins',\n",
       "  'cha_102.txt.ins',\n",
       "  'cha_133.txt.ins',\n",
       "  'wt_4912.txt.ins',\n",
       "  'wt_5959.txt.ins'],\n",
       " ['cha_066.txt', 'cha_102.txt', 'cha_133.txt', 'wt_4912.txt', 'wt_5959.txt'])"
      ]
     },
     "metadata": {},
     "execution_count": 241
    }
   ],
   "source": [
    "io_files = pyemu.helpers.parse_dir_for_io_files('.')\n",
    "pst = pyemu.Pst.from_io_files(*io_files)\n",
    "pyemu.helpers.pst_from_io_files(io_files[0], io_files[1], io_files[2], io_files[3], 'white_dummy.pst')\n",
    "\n",
    "# print(os.chdir(\"..\"))\n",
    "io_files"
   ]
  },
  {
   "cell_type": "markdown",
   "metadata": {},
   "source": [
    "The ``parse_dir_for_io_files()`` helper is looking for files with the \".tpl\" and \".ins\" extension.  This assumes that the corresponding model input and model output files are the same name, minus the \".tpl\" and \".ins\" extension, respectively.  These file lists are then passed to another helper, which builds a basic control file for you (``Pst.from_io_files()``).  Let's look at this generic ``Pst`` instance:"
   ]
  },
  {
   "cell_type": "code",
   "execution_count": 242,
   "metadata": {},
   "outputs": [
    {
     "output_type": "execute_result",
     "data": {
      "text/plain": [
       "      parnme partrans parchglim  parval1       parlbnd       parubnd  pargp  \\\n",
       "hk000  hk000      log    factor      1.0  1.100000e-10  1.100000e+10  pargp   \n",
       "hk001  hk001      log    factor      1.0  1.100000e-10  1.100000e+10  pargp   \n",
       "hk002  hk002      log    factor      1.0  1.100000e-10  1.100000e+10  pargp   \n",
       "hk003  hk003      log    factor      1.0  1.100000e-10  1.100000e+10  pargp   \n",
       "hk004  hk004      log    factor      1.0  1.100000e-10  1.100000e+10  pargp   \n",
       "...      ...      ...       ...      ...           ...           ...    ...   \n",
       "sy045  sy045      log    factor      1.0  1.100000e-10  1.100000e+10  pargp   \n",
       "sy046  sy046      log    factor      1.0  1.100000e-10  1.100000e+10  pargp   \n",
       "sy047  sy047      log    factor      1.0  1.100000e-10  1.100000e+10  pargp   \n",
       "sy048  sy048      log    factor      1.0  1.100000e-10  1.100000e+10  pargp   \n",
       "sy049  sy049      log    factor      1.0  1.100000e-10  1.100000e+10  pargp   \n",
       "\n",
       "       scale  offset  dercom  \n",
       "hk000    1.0     0.0       1  \n",
       "hk001    1.0     0.0       1  \n",
       "hk002    1.0     0.0       1  \n",
       "hk003    1.0     0.0       1  \n",
       "hk004    1.0     0.0       1  \n",
       "...      ...     ...     ...  \n",
       "sy045    1.0     0.0       1  \n",
       "sy046    1.0     0.0       1  \n",
       "sy047    1.0     0.0       1  \n",
       "sy048    1.0     0.0       1  \n",
       "sy049    1.0     0.0       1  \n",
       "\n",
       "[122 rows x 10 columns]"
      ],
      "text/html": "<div>\n<style scoped>\n    .dataframe tbody tr th:only-of-type {\n        vertical-align: middle;\n    }\n\n    .dataframe tbody tr th {\n        vertical-align: top;\n    }\n\n    .dataframe thead th {\n        text-align: right;\n    }\n</style>\n<table border=\"1\" class=\"dataframe\">\n  <thead>\n    <tr style=\"text-align: right;\">\n      <th></th>\n      <th>parnme</th>\n      <th>partrans</th>\n      <th>parchglim</th>\n      <th>parval1</th>\n      <th>parlbnd</th>\n      <th>parubnd</th>\n      <th>pargp</th>\n      <th>scale</th>\n      <th>offset</th>\n      <th>dercom</th>\n    </tr>\n  </thead>\n  <tbody>\n    <tr>\n      <th>hk000</th>\n      <td>hk000</td>\n      <td>log</td>\n      <td>factor</td>\n      <td>1.0</td>\n      <td>1.100000e-10</td>\n      <td>1.100000e+10</td>\n      <td>pargp</td>\n      <td>1.0</td>\n      <td>0.0</td>\n      <td>1</td>\n    </tr>\n    <tr>\n      <th>hk001</th>\n      <td>hk001</td>\n      <td>log</td>\n      <td>factor</td>\n      <td>1.0</td>\n      <td>1.100000e-10</td>\n      <td>1.100000e+10</td>\n      <td>pargp</td>\n      <td>1.0</td>\n      <td>0.0</td>\n      <td>1</td>\n    </tr>\n    <tr>\n      <th>hk002</th>\n      <td>hk002</td>\n      <td>log</td>\n      <td>factor</td>\n      <td>1.0</td>\n      <td>1.100000e-10</td>\n      <td>1.100000e+10</td>\n      <td>pargp</td>\n      <td>1.0</td>\n      <td>0.0</td>\n      <td>1</td>\n    </tr>\n    <tr>\n      <th>hk003</th>\n      <td>hk003</td>\n      <td>log</td>\n      <td>factor</td>\n      <td>1.0</td>\n      <td>1.100000e-10</td>\n      <td>1.100000e+10</td>\n      <td>pargp</td>\n      <td>1.0</td>\n      <td>0.0</td>\n      <td>1</td>\n    </tr>\n    <tr>\n      <th>hk004</th>\n      <td>hk004</td>\n      <td>log</td>\n      <td>factor</td>\n      <td>1.0</td>\n      <td>1.100000e-10</td>\n      <td>1.100000e+10</td>\n      <td>pargp</td>\n      <td>1.0</td>\n      <td>0.0</td>\n      <td>1</td>\n    </tr>\n    <tr>\n      <th>...</th>\n      <td>...</td>\n      <td>...</td>\n      <td>...</td>\n      <td>...</td>\n      <td>...</td>\n      <td>...</td>\n      <td>...</td>\n      <td>...</td>\n      <td>...</td>\n      <td>...</td>\n    </tr>\n    <tr>\n      <th>sy045</th>\n      <td>sy045</td>\n      <td>log</td>\n      <td>factor</td>\n      <td>1.0</td>\n      <td>1.100000e-10</td>\n      <td>1.100000e+10</td>\n      <td>pargp</td>\n      <td>1.0</td>\n      <td>0.0</td>\n      <td>1</td>\n    </tr>\n    <tr>\n      <th>sy046</th>\n      <td>sy046</td>\n      <td>log</td>\n      <td>factor</td>\n      <td>1.0</td>\n      <td>1.100000e-10</td>\n      <td>1.100000e+10</td>\n      <td>pargp</td>\n      <td>1.0</td>\n      <td>0.0</td>\n      <td>1</td>\n    </tr>\n    <tr>\n      <th>sy047</th>\n      <td>sy047</td>\n      <td>log</td>\n      <td>factor</td>\n      <td>1.0</td>\n      <td>1.100000e-10</td>\n      <td>1.100000e+10</td>\n      <td>pargp</td>\n      <td>1.0</td>\n      <td>0.0</td>\n      <td>1</td>\n    </tr>\n    <tr>\n      <th>sy048</th>\n      <td>sy048</td>\n      <td>log</td>\n      <td>factor</td>\n      <td>1.0</td>\n      <td>1.100000e-10</td>\n      <td>1.100000e+10</td>\n      <td>pargp</td>\n      <td>1.0</td>\n      <td>0.0</td>\n      <td>1</td>\n    </tr>\n    <tr>\n      <th>sy049</th>\n      <td>sy049</td>\n      <td>log</td>\n      <td>factor</td>\n      <td>1.0</td>\n      <td>1.100000e-10</td>\n      <td>1.100000e+10</td>\n      <td>pargp</td>\n      <td>1.0</td>\n      <td>0.0</td>\n      <td>1</td>\n    </tr>\n  </tbody>\n</table>\n<p>122 rows × 10 columns</p>\n</div>"
     },
     "metadata": {},
     "execution_count": 242
    }
   ],
   "source": [
    "par = pst.parameter_data\n",
    "par"
   ]
  },
  {
   "source": [
    "## 2.1. Change parameter group name"
   ],
   "cell_type": "markdown",
   "metadata": {}
  },
  {
   "cell_type": "code",
   "execution_count": 243,
   "metadata": {},
   "outputs": [
    {
     "output_type": "execute_result",
     "data": {
      "text/plain": [
       "      parnme partrans parchglim  parval1       parlbnd       parubnd pargp  \\\n",
       "hk000  hk000      log    factor      1.0  1.100000e-10  1.100000e+10    hk   \n",
       "hk001  hk001      log    factor      1.0  1.100000e-10  1.100000e+10    hk   \n",
       "hk002  hk002      log    factor      1.0  1.100000e-10  1.100000e+10    hk   \n",
       "hk003  hk003      log    factor      1.0  1.100000e-10  1.100000e+10    hk   \n",
       "hk004  hk004      log    factor      1.0  1.100000e-10  1.100000e+10    hk   \n",
       "...      ...      ...       ...      ...           ...           ...   ...   \n",
       "sy045  sy045      log    factor      1.0  1.100000e-10  1.100000e+10    sy   \n",
       "sy046  sy046      log    factor      1.0  1.100000e-10  1.100000e+10    sy   \n",
       "sy047  sy047      log    factor      1.0  1.100000e-10  1.100000e+10    sy   \n",
       "sy048  sy048      log    factor      1.0  1.100000e-10  1.100000e+10    sy   \n",
       "sy049  sy049      log    factor      1.0  1.100000e-10  1.100000e+10    sy   \n",
       "\n",
       "       scale  offset  dercom  \n",
       "hk000    1.0     0.0       1  \n",
       "hk001    1.0     0.0       1  \n",
       "hk002    1.0     0.0       1  \n",
       "hk003    1.0     0.0       1  \n",
       "hk004    1.0     0.0       1  \n",
       "...      ...     ...     ...  \n",
       "sy045    1.0     0.0       1  \n",
       "sy046    1.0     0.0       1  \n",
       "sy047    1.0     0.0       1  \n",
       "sy048    1.0     0.0       1  \n",
       "sy049    1.0     0.0       1  \n",
       "\n",
       "[122 rows x 10 columns]"
      ],
      "text/html": "<div>\n<style scoped>\n    .dataframe tbody tr th:only-of-type {\n        vertical-align: middle;\n    }\n\n    .dataframe tbody tr th {\n        vertical-align: top;\n    }\n\n    .dataframe thead th {\n        text-align: right;\n    }\n</style>\n<table border=\"1\" class=\"dataframe\">\n  <thead>\n    <tr style=\"text-align: right;\">\n      <th></th>\n      <th>parnme</th>\n      <th>partrans</th>\n      <th>parchglim</th>\n      <th>parval1</th>\n      <th>parlbnd</th>\n      <th>parubnd</th>\n      <th>pargp</th>\n      <th>scale</th>\n      <th>offset</th>\n      <th>dercom</th>\n    </tr>\n  </thead>\n  <tbody>\n    <tr>\n      <th>hk000</th>\n      <td>hk000</td>\n      <td>log</td>\n      <td>factor</td>\n      <td>1.0</td>\n      <td>1.100000e-10</td>\n      <td>1.100000e+10</td>\n      <td>hk</td>\n      <td>1.0</td>\n      <td>0.0</td>\n      <td>1</td>\n    </tr>\n    <tr>\n      <th>hk001</th>\n      <td>hk001</td>\n      <td>log</td>\n      <td>factor</td>\n      <td>1.0</td>\n      <td>1.100000e-10</td>\n      <td>1.100000e+10</td>\n      <td>hk</td>\n      <td>1.0</td>\n      <td>0.0</td>\n      <td>1</td>\n    </tr>\n    <tr>\n      <th>hk002</th>\n      <td>hk002</td>\n      <td>log</td>\n      <td>factor</td>\n      <td>1.0</td>\n      <td>1.100000e-10</td>\n      <td>1.100000e+10</td>\n      <td>hk</td>\n      <td>1.0</td>\n      <td>0.0</td>\n      <td>1</td>\n    </tr>\n    <tr>\n      <th>hk003</th>\n      <td>hk003</td>\n      <td>log</td>\n      <td>factor</td>\n      <td>1.0</td>\n      <td>1.100000e-10</td>\n      <td>1.100000e+10</td>\n      <td>hk</td>\n      <td>1.0</td>\n      <td>0.0</td>\n      <td>1</td>\n    </tr>\n    <tr>\n      <th>hk004</th>\n      <td>hk004</td>\n      <td>log</td>\n      <td>factor</td>\n      <td>1.0</td>\n      <td>1.100000e-10</td>\n      <td>1.100000e+10</td>\n      <td>hk</td>\n      <td>1.0</td>\n      <td>0.0</td>\n      <td>1</td>\n    </tr>\n    <tr>\n      <th>...</th>\n      <td>...</td>\n      <td>...</td>\n      <td>...</td>\n      <td>...</td>\n      <td>...</td>\n      <td>...</td>\n      <td>...</td>\n      <td>...</td>\n      <td>...</td>\n      <td>...</td>\n    </tr>\n    <tr>\n      <th>sy045</th>\n      <td>sy045</td>\n      <td>log</td>\n      <td>factor</td>\n      <td>1.0</td>\n      <td>1.100000e-10</td>\n      <td>1.100000e+10</td>\n      <td>sy</td>\n      <td>1.0</td>\n      <td>0.0</td>\n      <td>1</td>\n    </tr>\n    <tr>\n      <th>sy046</th>\n      <td>sy046</td>\n      <td>log</td>\n      <td>factor</td>\n      <td>1.0</td>\n      <td>1.100000e-10</td>\n      <td>1.100000e+10</td>\n      <td>sy</td>\n      <td>1.0</td>\n      <td>0.0</td>\n      <td>1</td>\n    </tr>\n    <tr>\n      <th>sy047</th>\n      <td>sy047</td>\n      <td>log</td>\n      <td>factor</td>\n      <td>1.0</td>\n      <td>1.100000e-10</td>\n      <td>1.100000e+10</td>\n      <td>sy</td>\n      <td>1.0</td>\n      <td>0.0</td>\n      <td>1</td>\n    </tr>\n    <tr>\n      <th>sy048</th>\n      <td>sy048</td>\n      <td>log</td>\n      <td>factor</td>\n      <td>1.0</td>\n      <td>1.100000e-10</td>\n      <td>1.100000e+10</td>\n      <td>sy</td>\n      <td>1.0</td>\n      <td>0.0</td>\n      <td>1</td>\n    </tr>\n    <tr>\n      <th>sy049</th>\n      <td>sy049</td>\n      <td>log</td>\n      <td>factor</td>\n      <td>1.0</td>\n      <td>1.100000e-10</td>\n      <td>1.100000e+10</td>\n      <td>sy</td>\n      <td>1.0</td>\n      <td>0.0</td>\n      <td>1</td>\n    </tr>\n  </tbody>\n</table>\n<p>122 rows × 10 columns</p>\n</div>"
     },
     "metadata": {},
     "execution_count": 243
    }
   ],
   "source": [
    "for i in range(len(par)):\n",
    "    if (par.iloc[i, 0][:2]) == 'sy':\n",
    "        par.iloc[i, 6] = 'sy'\n",
    "    elif par.iloc[i, 0][:7] == 'rivbot_':\n",
    "        par.iloc[i, 6] = 'rivbot'\n",
    "    elif par.iloc[i, 0][:6] == 'rivcd_':\n",
    "        par.iloc[i, 6] = 'rivcd'\n",
    "    elif par.iloc[i, 0][:2] == 'hk':\n",
    "        par.iloc[i, 6] = 'hk'\n",
    "    elif par.iloc[i, 0][:1] == 'p':\n",
    "        par.iloc[i, 6] = 'apex'\n",
    "    # else:\n",
    "    #     par.iloc[i, 6] = 'str'\n",
    "par"
   ]
  },
  {
   "cell_type": "code",
   "execution_count": 244,
   "metadata": {},
   "outputs": [
    {
     "output_type": "execute_result",
     "data": {
      "text/plain": [
       "      parnme partrans parchglim  parval1       parlbnd       parubnd pargp  \\\n",
       "p12      p12      log    factor      1.0  1.100000e-10  1.100000e+10  apex   \n",
       "p15      p15      log    factor      1.0  1.100000e-10  1.100000e+10  apex   \n",
       "p16      p16      log    factor      1.0  1.100000e-10  1.100000e+10  apex   \n",
       "p17      p17      log    factor      1.0  1.100000e-10  1.100000e+10  apex   \n",
       "p20      p20      log    factor      1.0  1.100000e-10  1.100000e+10  apex   \n",
       "...      ...      ...       ...      ...           ...           ...   ...   \n",
       "sy045  sy045      log    factor      1.0  1.100000e-10  1.100000e+10    sy   \n",
       "sy046  sy046      log    factor      1.0  1.100000e-10  1.100000e+10    sy   \n",
       "sy047  sy047      log    factor      1.0  1.100000e-10  1.100000e+10    sy   \n",
       "sy048  sy048      log    factor      1.0  1.100000e-10  1.100000e+10    sy   \n",
       "sy049  sy049      log    factor      1.0  1.100000e-10  1.100000e+10    sy   \n",
       "\n",
       "       scale  offset  dercom  \n",
       "p12      1.0     0.0       1  \n",
       "p15      1.0     0.0       1  \n",
       "p16      1.0     0.0       1  \n",
       "p17      1.0     0.0       1  \n",
       "p20      1.0     0.0       1  \n",
       "...      ...     ...     ...  \n",
       "sy045    1.0     0.0       1  \n",
       "sy046    1.0     0.0       1  \n",
       "sy047    1.0     0.0       1  \n",
       "sy048    1.0     0.0       1  \n",
       "sy049    1.0     0.0       1  \n",
       "\n",
       "[122 rows x 10 columns]"
      ],
      "text/html": "<div>\n<style scoped>\n    .dataframe tbody tr th:only-of-type {\n        vertical-align: middle;\n    }\n\n    .dataframe tbody tr th {\n        vertical-align: top;\n    }\n\n    .dataframe thead th {\n        text-align: right;\n    }\n</style>\n<table border=\"1\" class=\"dataframe\">\n  <thead>\n    <tr style=\"text-align: right;\">\n      <th></th>\n      <th>parnme</th>\n      <th>partrans</th>\n      <th>parchglim</th>\n      <th>parval1</th>\n      <th>parlbnd</th>\n      <th>parubnd</th>\n      <th>pargp</th>\n      <th>scale</th>\n      <th>offset</th>\n      <th>dercom</th>\n    </tr>\n  </thead>\n  <tbody>\n    <tr>\n      <th>p12</th>\n      <td>p12</td>\n      <td>log</td>\n      <td>factor</td>\n      <td>1.0</td>\n      <td>1.100000e-10</td>\n      <td>1.100000e+10</td>\n      <td>apex</td>\n      <td>1.0</td>\n      <td>0.0</td>\n      <td>1</td>\n    </tr>\n    <tr>\n      <th>p15</th>\n      <td>p15</td>\n      <td>log</td>\n      <td>factor</td>\n      <td>1.0</td>\n      <td>1.100000e-10</td>\n      <td>1.100000e+10</td>\n      <td>apex</td>\n      <td>1.0</td>\n      <td>0.0</td>\n      <td>1</td>\n    </tr>\n    <tr>\n      <th>p16</th>\n      <td>p16</td>\n      <td>log</td>\n      <td>factor</td>\n      <td>1.0</td>\n      <td>1.100000e-10</td>\n      <td>1.100000e+10</td>\n      <td>apex</td>\n      <td>1.0</td>\n      <td>0.0</td>\n      <td>1</td>\n    </tr>\n    <tr>\n      <th>p17</th>\n      <td>p17</td>\n      <td>log</td>\n      <td>factor</td>\n      <td>1.0</td>\n      <td>1.100000e-10</td>\n      <td>1.100000e+10</td>\n      <td>apex</td>\n      <td>1.0</td>\n      <td>0.0</td>\n      <td>1</td>\n    </tr>\n    <tr>\n      <th>p20</th>\n      <td>p20</td>\n      <td>log</td>\n      <td>factor</td>\n      <td>1.0</td>\n      <td>1.100000e-10</td>\n      <td>1.100000e+10</td>\n      <td>apex</td>\n      <td>1.0</td>\n      <td>0.0</td>\n      <td>1</td>\n    </tr>\n    <tr>\n      <th>...</th>\n      <td>...</td>\n      <td>...</td>\n      <td>...</td>\n      <td>...</td>\n      <td>...</td>\n      <td>...</td>\n      <td>...</td>\n      <td>...</td>\n      <td>...</td>\n      <td>...</td>\n    </tr>\n    <tr>\n      <th>sy045</th>\n      <td>sy045</td>\n      <td>log</td>\n      <td>factor</td>\n      <td>1.0</td>\n      <td>1.100000e-10</td>\n      <td>1.100000e+10</td>\n      <td>sy</td>\n      <td>1.0</td>\n      <td>0.0</td>\n      <td>1</td>\n    </tr>\n    <tr>\n      <th>sy046</th>\n      <td>sy046</td>\n      <td>log</td>\n      <td>factor</td>\n      <td>1.0</td>\n      <td>1.100000e-10</td>\n      <td>1.100000e+10</td>\n      <td>sy</td>\n      <td>1.0</td>\n      <td>0.0</td>\n      <td>1</td>\n    </tr>\n    <tr>\n      <th>sy047</th>\n      <td>sy047</td>\n      <td>log</td>\n      <td>factor</td>\n      <td>1.0</td>\n      <td>1.100000e-10</td>\n      <td>1.100000e+10</td>\n      <td>sy</td>\n      <td>1.0</td>\n      <td>0.0</td>\n      <td>1</td>\n    </tr>\n    <tr>\n      <th>sy048</th>\n      <td>sy048</td>\n      <td>log</td>\n      <td>factor</td>\n      <td>1.0</td>\n      <td>1.100000e-10</td>\n      <td>1.100000e+10</td>\n      <td>sy</td>\n      <td>1.0</td>\n      <td>0.0</td>\n      <td>1</td>\n    </tr>\n    <tr>\n      <th>sy049</th>\n      <td>sy049</td>\n      <td>log</td>\n      <td>factor</td>\n      <td>1.0</td>\n      <td>1.100000e-10</td>\n      <td>1.100000e+10</td>\n      <td>sy</td>\n      <td>1.0</td>\n      <td>0.0</td>\n      <td>1</td>\n    </tr>\n  </tbody>\n</table>\n<p>122 rows × 10 columns</p>\n</div>"
     },
     "metadata": {},
     "execution_count": 244
    }
   ],
   "source": [
    "par = par.sort_values(by=['pargp', 'parnme'])\n",
    "par"
   ]
  },
  {
   "cell_type": "markdown",
   "metadata": {},
   "source": [
    "### 3. Set par ranges and values for MODFLOW"
   ]
  },
  {
   "cell_type": "code",
   "execution_count": 245,
   "metadata": {},
   "outputs": [],
   "source": [
    "# for MODFLOW parameters\n",
    "for i in range(len(par)):\n",
    "    if (par.iloc[i, 6]) == 'hk':\n",
    "        par.iloc[i, 4] = 1.100000e-03\n",
    "        par.iloc[i, 5] = 1.100000e+03\n",
    "    elif par.iloc[i, 6] == 'sy':\n",
    "        par.iloc[i, 3] = 0.100000e+00 \n",
    "        par.iloc[i, 4] = 1.000000e-03\n",
    "        par.iloc[i, 5] = 0.700000e+00        \n",
    "    elif par.iloc[i, 6] == 'rivcd':\n",
    "        par.iloc[i, 3] = 50.01   # initial    \n",
    "        par.iloc[i, 4] = 0.1   # lower\n",
    "        par.iloc[i, 5] = 100   # upper\n",
    "        par.iloc[i, 8] = -50   # offset\n",
    "    elif par.iloc[i, 6] == 'rivbot':\n",
    "        par.iloc[i, 3] = 5.0001   # initial    \n",
    "        par.iloc[i, 4] = 0.1   # lower\n",
    "        par.iloc[i, 5] = 10   # upper\n",
    "        par.iloc[i, 8] = -5   # offset\n",
    "#     else:\n",
    "#         par.iloc[i, 6] = 'str_par'\n"
   ]
  },
  {
   "cell_type": "code",
   "execution_count": 231,
   "metadata": {},
   "outputs": [
    {
     "output_type": "execute_result",
     "data": {
      "text/plain": [
       "      parnme partrans parchglim  parval1       parlbnd       parubnd pargp  \\\n",
       "p12      p12      log    factor      1.0  1.100000e-10  1.100000e+10  apex   \n",
       "p15      p15      log    factor      1.0  1.100000e-10  1.100000e+10  apex   \n",
       "p16      p16      log    factor      1.0  1.100000e-10  1.100000e+10  apex   \n",
       "p17      p17      log    factor      1.0  1.100000e-10  1.100000e+10  apex   \n",
       "p20      p20      log    factor      1.0  1.100000e-10  1.100000e+10  apex   \n",
       "...      ...      ...       ...      ...           ...           ...   ...   \n",
       "sy045  sy045      log    factor      0.1  1.000000e-03  7.000000e-01    sy   \n",
       "sy046  sy046      log    factor      0.1  1.000000e-03  7.000000e-01    sy   \n",
       "sy047  sy047      log    factor      0.1  1.000000e-03  7.000000e-01    sy   \n",
       "sy048  sy048      log    factor      0.1  1.000000e-03  7.000000e-01    sy   \n",
       "sy049  sy049      log    factor      0.1  1.000000e-03  7.000000e-01    sy   \n",
       "\n",
       "       scale  offset  dercom  \n",
       "p12      1.0     0.0       1  \n",
       "p15      1.0     0.0       1  \n",
       "p16      1.0     0.0       1  \n",
       "p17      1.0     0.0       1  \n",
       "p20      1.0     0.0       1  \n",
       "...      ...     ...     ...  \n",
       "sy045    1.0     0.0       1  \n",
       "sy046    1.0     0.0       1  \n",
       "sy047    1.0     0.0       1  \n",
       "sy048    1.0     0.0       1  \n",
       "sy049    1.0     0.0       1  \n",
       "\n",
       "[122 rows x 10 columns]"
      ],
      "text/html": "<div>\n<style scoped>\n    .dataframe tbody tr th:only-of-type {\n        vertical-align: middle;\n    }\n\n    .dataframe tbody tr th {\n        vertical-align: top;\n    }\n\n    .dataframe thead th {\n        text-align: right;\n    }\n</style>\n<table border=\"1\" class=\"dataframe\">\n  <thead>\n    <tr style=\"text-align: right;\">\n      <th></th>\n      <th>parnme</th>\n      <th>partrans</th>\n      <th>parchglim</th>\n      <th>parval1</th>\n      <th>parlbnd</th>\n      <th>parubnd</th>\n      <th>pargp</th>\n      <th>scale</th>\n      <th>offset</th>\n      <th>dercom</th>\n    </tr>\n  </thead>\n  <tbody>\n    <tr>\n      <th>p12</th>\n      <td>p12</td>\n      <td>log</td>\n      <td>factor</td>\n      <td>1.0</td>\n      <td>1.100000e-10</td>\n      <td>1.100000e+10</td>\n      <td>apex</td>\n      <td>1.0</td>\n      <td>0.0</td>\n      <td>1</td>\n    </tr>\n    <tr>\n      <th>p15</th>\n      <td>p15</td>\n      <td>log</td>\n      <td>factor</td>\n      <td>1.0</td>\n      <td>1.100000e-10</td>\n      <td>1.100000e+10</td>\n      <td>apex</td>\n      <td>1.0</td>\n      <td>0.0</td>\n      <td>1</td>\n    </tr>\n    <tr>\n      <th>p16</th>\n      <td>p16</td>\n      <td>log</td>\n      <td>factor</td>\n      <td>1.0</td>\n      <td>1.100000e-10</td>\n      <td>1.100000e+10</td>\n      <td>apex</td>\n      <td>1.0</td>\n      <td>0.0</td>\n      <td>1</td>\n    </tr>\n    <tr>\n      <th>p17</th>\n      <td>p17</td>\n      <td>log</td>\n      <td>factor</td>\n      <td>1.0</td>\n      <td>1.100000e-10</td>\n      <td>1.100000e+10</td>\n      <td>apex</td>\n      <td>1.0</td>\n      <td>0.0</td>\n      <td>1</td>\n    </tr>\n    <tr>\n      <th>p20</th>\n      <td>p20</td>\n      <td>log</td>\n      <td>factor</td>\n      <td>1.0</td>\n      <td>1.100000e-10</td>\n      <td>1.100000e+10</td>\n      <td>apex</td>\n      <td>1.0</td>\n      <td>0.0</td>\n      <td>1</td>\n    </tr>\n    <tr>\n      <th>...</th>\n      <td>...</td>\n      <td>...</td>\n      <td>...</td>\n      <td>...</td>\n      <td>...</td>\n      <td>...</td>\n      <td>...</td>\n      <td>...</td>\n      <td>...</td>\n      <td>...</td>\n    </tr>\n    <tr>\n      <th>sy045</th>\n      <td>sy045</td>\n      <td>log</td>\n      <td>factor</td>\n      <td>0.1</td>\n      <td>1.000000e-03</td>\n      <td>7.000000e-01</td>\n      <td>sy</td>\n      <td>1.0</td>\n      <td>0.0</td>\n      <td>1</td>\n    </tr>\n    <tr>\n      <th>sy046</th>\n      <td>sy046</td>\n      <td>log</td>\n      <td>factor</td>\n      <td>0.1</td>\n      <td>1.000000e-03</td>\n      <td>7.000000e-01</td>\n      <td>sy</td>\n      <td>1.0</td>\n      <td>0.0</td>\n      <td>1</td>\n    </tr>\n    <tr>\n      <th>sy047</th>\n      <td>sy047</td>\n      <td>log</td>\n      <td>factor</td>\n      <td>0.1</td>\n      <td>1.000000e-03</td>\n      <td>7.000000e-01</td>\n      <td>sy</td>\n      <td>1.0</td>\n      <td>0.0</td>\n      <td>1</td>\n    </tr>\n    <tr>\n      <th>sy048</th>\n      <td>sy048</td>\n      <td>log</td>\n      <td>factor</td>\n      <td>0.1</td>\n      <td>1.000000e-03</td>\n      <td>7.000000e-01</td>\n      <td>sy</td>\n      <td>1.0</td>\n      <td>0.0</td>\n      <td>1</td>\n    </tr>\n    <tr>\n      <th>sy049</th>\n      <td>sy049</td>\n      <td>log</td>\n      <td>factor</td>\n      <td>0.1</td>\n      <td>1.000000e-03</td>\n      <td>7.000000e-01</td>\n      <td>sy</td>\n      <td>1.0</td>\n      <td>0.0</td>\n      <td>1</td>\n    </tr>\n  </tbody>\n</table>\n<p>122 rows × 10 columns</p>\n</div>"
     },
     "metadata": {},
     "execution_count": 231
    }
   ],
   "source": [
    "par"
   ]
  },
  {
   "cell_type": "markdown",
   "metadata": {},
   "source": [
    "# APEX"
   ]
  },
  {
   "cell_type": "code",
   "execution_count": 246,
   "metadata": {},
   "outputs": [],
   "source": [
    "pst.parameter_data = apexmf_pst_utils.export_pardb_pest(par)"
   ]
  },
  {
   "cell_type": "code",
   "execution_count": 247,
   "metadata": {},
   "outputs": [
    {
     "output_type": "execute_result",
     "data": {
      "text/plain": [
       "      parnme partrans parchglim  parval1  parlbnd  parubnd pargp  scale  \\\n",
       "p12      p12      log    factor  2.50000  1.50000      2.5  apex    1.0   \n",
       "p15      p15      log    factor  0.00001  0.00001      0.3  apex    1.0   \n",
       "p16      p16      log    factor  1.00000  1.00000      1.5  apex    1.0   \n",
       "p17      p17      log    factor  0.25000  0.00001      0.5  apex    1.0   \n",
       "p20      p20      log    factor  0.20000  0.05000      0.4  apex    1.0   \n",
       "...      ...      ...       ...      ...      ...      ...   ...    ...   \n",
       "sy045  sy045      log    factor  0.10000  0.00100      0.7    sy    1.0   \n",
       "sy046  sy046      log    factor  0.10000  0.00100      0.7    sy    1.0   \n",
       "sy047  sy047      log    factor  0.10000  0.00100      0.7    sy    1.0   \n",
       "sy048  sy048      log    factor  0.10000  0.00100      0.7    sy    1.0   \n",
       "sy049  sy049      log    factor  0.10000  0.00100      0.7    sy    1.0   \n",
       "\n",
       "       offset  dercom  \n",
       "p12       0.0       1  \n",
       "p15       0.0       1  \n",
       "p16       0.0       1  \n",
       "p17       0.0       1  \n",
       "p20       0.0       1  \n",
       "...       ...     ...  \n",
       "sy045     0.0       1  \n",
       "sy046     0.0       1  \n",
       "sy047     0.0       1  \n",
       "sy048     0.0       1  \n",
       "sy049     0.0       1  \n",
       "\n",
       "[122 rows x 10 columns]"
      ],
      "text/html": "<div>\n<style scoped>\n    .dataframe tbody tr th:only-of-type {\n        vertical-align: middle;\n    }\n\n    .dataframe tbody tr th {\n        vertical-align: top;\n    }\n\n    .dataframe thead th {\n        text-align: right;\n    }\n</style>\n<table border=\"1\" class=\"dataframe\">\n  <thead>\n    <tr style=\"text-align: right;\">\n      <th></th>\n      <th>parnme</th>\n      <th>partrans</th>\n      <th>parchglim</th>\n      <th>parval1</th>\n      <th>parlbnd</th>\n      <th>parubnd</th>\n      <th>pargp</th>\n      <th>scale</th>\n      <th>offset</th>\n      <th>dercom</th>\n    </tr>\n  </thead>\n  <tbody>\n    <tr>\n      <th>p12</th>\n      <td>p12</td>\n      <td>log</td>\n      <td>factor</td>\n      <td>2.50000</td>\n      <td>1.50000</td>\n      <td>2.5</td>\n      <td>apex</td>\n      <td>1.0</td>\n      <td>0.0</td>\n      <td>1</td>\n    </tr>\n    <tr>\n      <th>p15</th>\n      <td>p15</td>\n      <td>log</td>\n      <td>factor</td>\n      <td>0.00001</td>\n      <td>0.00001</td>\n      <td>0.3</td>\n      <td>apex</td>\n      <td>1.0</td>\n      <td>0.0</td>\n      <td>1</td>\n    </tr>\n    <tr>\n      <th>p16</th>\n      <td>p16</td>\n      <td>log</td>\n      <td>factor</td>\n      <td>1.00000</td>\n      <td>1.00000</td>\n      <td>1.5</td>\n      <td>apex</td>\n      <td>1.0</td>\n      <td>0.0</td>\n      <td>1</td>\n    </tr>\n    <tr>\n      <th>p17</th>\n      <td>p17</td>\n      <td>log</td>\n      <td>factor</td>\n      <td>0.25000</td>\n      <td>0.00001</td>\n      <td>0.5</td>\n      <td>apex</td>\n      <td>1.0</td>\n      <td>0.0</td>\n      <td>1</td>\n    </tr>\n    <tr>\n      <th>p20</th>\n      <td>p20</td>\n      <td>log</td>\n      <td>factor</td>\n      <td>0.20000</td>\n      <td>0.05000</td>\n      <td>0.4</td>\n      <td>apex</td>\n      <td>1.0</td>\n      <td>0.0</td>\n      <td>1</td>\n    </tr>\n    <tr>\n      <th>...</th>\n      <td>...</td>\n      <td>...</td>\n      <td>...</td>\n      <td>...</td>\n      <td>...</td>\n      <td>...</td>\n      <td>...</td>\n      <td>...</td>\n      <td>...</td>\n      <td>...</td>\n    </tr>\n    <tr>\n      <th>sy045</th>\n      <td>sy045</td>\n      <td>log</td>\n      <td>factor</td>\n      <td>0.10000</td>\n      <td>0.00100</td>\n      <td>0.7</td>\n      <td>sy</td>\n      <td>1.0</td>\n      <td>0.0</td>\n      <td>1</td>\n    </tr>\n    <tr>\n      <th>sy046</th>\n      <td>sy046</td>\n      <td>log</td>\n      <td>factor</td>\n      <td>0.10000</td>\n      <td>0.00100</td>\n      <td>0.7</td>\n      <td>sy</td>\n      <td>1.0</td>\n      <td>0.0</td>\n      <td>1</td>\n    </tr>\n    <tr>\n      <th>sy047</th>\n      <td>sy047</td>\n      <td>log</td>\n      <td>factor</td>\n      <td>0.10000</td>\n      <td>0.00100</td>\n      <td>0.7</td>\n      <td>sy</td>\n      <td>1.0</td>\n      <td>0.0</td>\n      <td>1</td>\n    </tr>\n    <tr>\n      <th>sy048</th>\n      <td>sy048</td>\n      <td>log</td>\n      <td>factor</td>\n      <td>0.10000</td>\n      <td>0.00100</td>\n      <td>0.7</td>\n      <td>sy</td>\n      <td>1.0</td>\n      <td>0.0</td>\n      <td>1</td>\n    </tr>\n    <tr>\n      <th>sy049</th>\n      <td>sy049</td>\n      <td>log</td>\n      <td>factor</td>\n      <td>0.10000</td>\n      <td>0.00100</td>\n      <td>0.7</td>\n      <td>sy</td>\n      <td>1.0</td>\n      <td>0.0</td>\n      <td>1</td>\n    </tr>\n  </tbody>\n</table>\n<p>122 rows × 10 columns</p>\n</div>"
     },
     "metadata": {},
     "execution_count": 247
    }
   ],
   "source": [
    "par = pst.parameter_data\n",
    "par"
   ]
  },
  {
   "cell_type": "markdown",
   "metadata": {},
   "source": [
    "\n",
    "Cool - the other tpl files were found and parsed - parameter listed in them were added to the control file.  But we have generic entries for initial values bounds..."
   ]
  },
  {
   "source": [
    "## Observation"
   ],
   "cell_type": "markdown",
   "metadata": {}
  },
  {
   "cell_type": "code",
   "execution_count": 248,
   "metadata": {},
   "outputs": [
    {
     "output_type": "stream",
     "name": "stdout",
     "text": [
      "                      obsnme        obsval  weight  obgnme\ng492_20100622  g492_20100622  1.000000e+10     1.0  obgnme\ng492_20100623  g492_20100623  1.000000e+10     1.0  obgnme\ng492_20100624  g492_20100624  1.000000e+10     1.0  obgnme\ng492_20100625  g492_20100625  1.000000e+10     1.0  obgnme\ng492_20100626  g492_20100626  1.000000e+10     1.0  obgnme\n...                      ...           ...     ...     ...\nsub133_201408  sub133_201408  1.000000e+10     1.0  obgnme\nsub133_201409  sub133_201409  1.000000e+10     1.0  obgnme\nsub133_201410  sub133_201410  1.000000e+10     1.0  obgnme\nsub133_201411  sub133_201411  1.000000e+10     1.0  obgnme\nsub133_201412  sub133_201412  1.000000e+10     1.0  obgnme\n\n[3118 rows x 4 columns]\n"
     ]
    }
   ],
   "source": [
    "obd = pst.observation_data\n",
    "print(obd)"
   ]
  },
  {
   "cell_type": "code",
   "execution_count": null,
   "metadata": {},
   "outputs": [],
   "source": []
  },
  {
   "cell_type": "code",
   "execution_count": 272,
   "metadata": {},
   "outputs": [],
   "source": [
    "for i in range(len(obd)):\n",
    "    if obd.iloc[i, 0][:6] == 'sub066':\n",
    "        obd.iloc[i, 3] = 'sub066'\n",
    "    elif obd.iloc[i, 0][:6] == 'sub133':\n",
    "        obd.iloc[i, 3] = 'sub133'\n",
    "    elif obd.iloc[i, 0][:6] == 'sub102':\n",
    "        obd.iloc[i, 3] = 'sub102'\n",
    "    elif obd.iloc[i, 0][:4] == 'g492':\n",
    "        obd.iloc[i, 3] = 'g492'\n",
    "    elif obd.iloc[i, 0][:4] == 'g593':\n",
    "        obd.iloc[i, 3] = 'g593'\n"
   ]
  },
  {
   "cell_type": "code",
   "execution_count": 273,
   "metadata": {},
   "outputs": [
    {
     "output_type": "stream",
     "name": "stdout",
     "text": [
      "                      obsnme        obsval  weight  obgnme\ng492_20100622  g492_20100622  1.000000e+10     1.0    g492\ng492_20100623  g492_20100623  1.000000e+10     1.0    g492\ng492_20100624  g492_20100624  1.000000e+10     1.0    g492\ng492_20100625  g492_20100625  1.000000e+10     1.0    g492\ng492_20100626  g492_20100626  1.000000e+10     1.0    g492\n...                      ...           ...     ...     ...\nsub133_201408  sub133_201408  1.000000e+10     1.0  sub133\nsub133_201409  sub133_201409  1.000000e+10     1.0  sub133\nsub133_201410  sub133_201410  1.000000e+10     1.0  sub133\nsub133_201411  sub133_201411  1.000000e+10     1.0  sub133\nsub133_201412  sub133_201412  1.000000e+10     1.0  sub133\n\n[3118 rows x 4 columns]\n"
     ]
    }
   ],
   "source": [
    "print(obd)"
   ]
  },
  {
   "cell_type": "markdown",
   "metadata": {},
   "source": []
  },
  {
   "source": [
    "## 2.3. Import measured data"
   ],
   "cell_type": "markdown",
   "metadata": {}
  },
  {
   "cell_type": "code",
   "execution_count": 274,
   "metadata": {},
   "outputs": [
    {
     "output_type": "execute_result",
     "data": {
      "text/plain": [
       "             g593   g492\n",
       "date                    \n",
       "2010-06-22 -18.60 -85.51\n",
       "2010-06-23 -18.62 -85.53\n",
       "2010-06-24 -18.60 -85.53\n",
       "2010-06-25 -18.59 -85.53\n",
       "2010-06-26 -18.59 -85.53\n",
       "...           ...    ...\n",
       "2014-12-27 -18.14 -87.15\n",
       "2014-12-28 -18.11 -87.12\n",
       "2014-12-29 -18.10 -87.11\n",
       "2014-12-30 -18.13 -87.15\n",
       "2014-12-31 -18.12 -87.15\n",
       "\n",
       "[1654 rows x 2 columns]"
      ],
      "text/html": "<div>\n<style scoped>\n    .dataframe tbody tr th:only-of-type {\n        vertical-align: middle;\n    }\n\n    .dataframe tbody tr th {\n        vertical-align: top;\n    }\n\n    .dataframe thead th {\n        text-align: right;\n    }\n</style>\n<table border=\"1\" class=\"dataframe\">\n  <thead>\n    <tr style=\"text-align: right;\">\n      <th></th>\n      <th>g593</th>\n      <th>g492</th>\n    </tr>\n    <tr>\n      <th>date</th>\n      <th></th>\n      <th></th>\n    </tr>\n  </thead>\n  <tbody>\n    <tr>\n      <th>2010-06-22</th>\n      <td>-18.60</td>\n      <td>-85.51</td>\n    </tr>\n    <tr>\n      <th>2010-06-23</th>\n      <td>-18.62</td>\n      <td>-85.53</td>\n    </tr>\n    <tr>\n      <th>2010-06-24</th>\n      <td>-18.60</td>\n      <td>-85.53</td>\n    </tr>\n    <tr>\n      <th>2010-06-25</th>\n      <td>-18.59</td>\n      <td>-85.53</td>\n    </tr>\n    <tr>\n      <th>2010-06-26</th>\n      <td>-18.59</td>\n      <td>-85.53</td>\n    </tr>\n    <tr>\n      <th>...</th>\n      <td>...</td>\n      <td>...</td>\n    </tr>\n    <tr>\n      <th>2014-12-27</th>\n      <td>-18.14</td>\n      <td>-87.15</td>\n    </tr>\n    <tr>\n      <th>2014-12-28</th>\n      <td>-18.11</td>\n      <td>-87.12</td>\n    </tr>\n    <tr>\n      <th>2014-12-29</th>\n      <td>-18.10</td>\n      <td>-87.11</td>\n    </tr>\n    <tr>\n      <th>2014-12-30</th>\n      <td>-18.13</td>\n      <td>-87.15</td>\n    </tr>\n    <tr>\n      <th>2014-12-31</th>\n      <td>-18.12</td>\n      <td>-87.15</td>\n    </tr>\n  </tbody>\n</table>\n<p>1654 rows × 2 columns</p>\n</div>"
     },
     "metadata": {},
     "execution_count": 274
    }
   ],
   "source": [
    "gwt_obd = pd.read_csv('MODFLOW/modflow.obd',\n",
    "                       sep='\\t',\n",
    "                       index_col = 0,\n",
    "                       parse_dates = True,\n",
    "                       na_values=[-999, '']\n",
    "                     )\n",
    "gwt_obd = gwt_obd['6/22/2010': '12/31/2014']\n",
    "gwt_obd = gwt_obd[['g593', 'g492']]\n",
    "gwt_obd"
   ]
  },
  {
   "cell_type": "code",
   "execution_count": 275,
   "metadata": {},
   "outputs": [
    {
     "output_type": "execute_result",
     "data": {
      "text/plain": [
       "            sub066  sub102  sub133\n",
       "date                              \n",
       "2010-01-31    8.42    8.40    8.24\n",
       "2010-02-28   10.17    8.22    8.27\n",
       "2010-03-31   13.77    8.72    8.28\n",
       "2010-04-30   20.50   16.25   15.00\n",
       "2010-05-31   33.62   36.01   33.31\n",
       "2010-06-30   47.62   44.99   40.50\n",
       "2010-07-31   11.06   11.75   10.11\n",
       "2010-08-31   10.66    9.69    7.63\n",
       "2010-09-30    5.73    5.80    3.46\n",
       "2010-10-31   10.28    9.36    7.47\n",
       "2010-11-30   11.72    9.86    8.80\n",
       "2010-12-31   11.36    9.37    8.91\n",
       "2011-01-31   11.55    8.82    8.59\n",
       "2011-02-28   13.57    8.18    7.99\n",
       "2011-03-31   18.81    9.47    9.33\n",
       "2011-04-30   20.13   13.94   14.45\n",
       "2011-05-31   47.36   37.96   41.30\n",
       "2011-06-30  123.48  122.17  111.28\n",
       "2011-07-31   76.31   66.88   62.00\n",
       "2011-08-31   20.90   21.33   18.51\n",
       "2011-09-30   14.38   13.77   10.31\n",
       "2011-10-31   16.57   14.97   12.45\n",
       "2011-11-30   15.76   13.54   12.55\n",
       "2011-12-31   12.44   12.08   11.62\n",
       "2012-01-31   11.87   11.23   10.74\n",
       "2012-02-29   11.06   10.51   10.19\n",
       "2012-03-31   14.05   12.95   12.73\n",
       "2012-04-30   18.96   20.03   19.61\n",
       "2012-05-31   15.82   18.39   15.59\n",
       "2012-06-30    6.42    6.75    3.64\n",
       "2012-07-31    5.92    6.62    4.81\n",
       "2012-08-31    5.11    5.39    3.64\n",
       "2012-09-30    4.85    4.51    1.60\n",
       "2012-10-31    8.82    7.18    6.30\n",
       "2012-11-30    9.82    7.39    7.60\n",
       "2012-12-31    8.17    7.26    7.47\n",
       "2013-01-31    6.58    7.35    7.25\n",
       "2013-02-28    8.70    7.44    7.41\n",
       "2013-03-31   11.01    7.67    7.61\n",
       "2013-04-30   10.40   10.08   10.00\n",
       "2013-05-31   31.52   35.37   34.06\n",
       "2013-06-30   22.82   22.90   20.98\n",
       "2013-07-31    7.93    8.04    6.77\n",
       "2013-08-31    5.50    5.66    4.35\n",
       "2013-09-30    8.52    6.57    3.83\n",
       "2013-10-31   12.49   10.66    9.63\n",
       "2013-11-30   10.93    9.12    8.96\n",
       "2013-12-31    7.33    8.21    8.01\n",
       "2014-01-31    6.13    7.80    7.58\n",
       "2014-02-28   11.12    8.04    7.76\n",
       "2014-03-31   12.09    8.94    8.40\n",
       "2014-04-30   20.60   21.40   21.37\n",
       "2014-05-31   46.23   51.58   51.09\n",
       "2014-06-30   54.17   50.16   47.93\n",
       "2014-07-31   19.24   18.73   16.33\n",
       "2014-08-31   15.35   13.38   11.34\n",
       "2014-09-30   13.55   12.38   10.19\n",
       "2014-10-31   15.88   13.34   11.74\n",
       "2014-11-30   13.53   11.69   10.78\n",
       "2014-12-31   11.95    9.96    9.58"
      ],
      "text/html": "<div>\n<style scoped>\n    .dataframe tbody tr th:only-of-type {\n        vertical-align: middle;\n    }\n\n    .dataframe tbody tr th {\n        vertical-align: top;\n    }\n\n    .dataframe thead th {\n        text-align: right;\n    }\n</style>\n<table border=\"1\" class=\"dataframe\">\n  <thead>\n    <tr style=\"text-align: right;\">\n      <th></th>\n      <th>sub066</th>\n      <th>sub102</th>\n      <th>sub133</th>\n    </tr>\n    <tr>\n      <th>date</th>\n      <th></th>\n      <th></th>\n      <th></th>\n    </tr>\n  </thead>\n  <tbody>\n    <tr>\n      <th>2010-01-31</th>\n      <td>8.42</td>\n      <td>8.40</td>\n      <td>8.24</td>\n    </tr>\n    <tr>\n      <th>2010-02-28</th>\n      <td>10.17</td>\n      <td>8.22</td>\n      <td>8.27</td>\n    </tr>\n    <tr>\n      <th>2010-03-31</th>\n      <td>13.77</td>\n      <td>8.72</td>\n      <td>8.28</td>\n    </tr>\n    <tr>\n      <th>2010-04-30</th>\n      <td>20.50</td>\n      <td>16.25</td>\n      <td>15.00</td>\n    </tr>\n    <tr>\n      <th>2010-05-31</th>\n      <td>33.62</td>\n      <td>36.01</td>\n      <td>33.31</td>\n    </tr>\n    <tr>\n      <th>2010-06-30</th>\n      <td>47.62</td>\n      <td>44.99</td>\n      <td>40.50</td>\n    </tr>\n    <tr>\n      <th>2010-07-31</th>\n      <td>11.06</td>\n      <td>11.75</td>\n      <td>10.11</td>\n    </tr>\n    <tr>\n      <th>2010-08-31</th>\n      <td>10.66</td>\n      <td>9.69</td>\n      <td>7.63</td>\n    </tr>\n    <tr>\n      <th>2010-09-30</th>\n      <td>5.73</td>\n      <td>5.80</td>\n      <td>3.46</td>\n    </tr>\n    <tr>\n      <th>2010-10-31</th>\n      <td>10.28</td>\n      <td>9.36</td>\n      <td>7.47</td>\n    </tr>\n    <tr>\n      <th>2010-11-30</th>\n      <td>11.72</td>\n      <td>9.86</td>\n      <td>8.80</td>\n    </tr>\n    <tr>\n      <th>2010-12-31</th>\n      <td>11.36</td>\n      <td>9.37</td>\n      <td>8.91</td>\n    </tr>\n    <tr>\n      <th>2011-01-31</th>\n      <td>11.55</td>\n      <td>8.82</td>\n      <td>8.59</td>\n    </tr>\n    <tr>\n      <th>2011-02-28</th>\n      <td>13.57</td>\n      <td>8.18</td>\n      <td>7.99</td>\n    </tr>\n    <tr>\n      <th>2011-03-31</th>\n      <td>18.81</td>\n      <td>9.47</td>\n      <td>9.33</td>\n    </tr>\n    <tr>\n      <th>2011-04-30</th>\n      <td>20.13</td>\n      <td>13.94</td>\n      <td>14.45</td>\n    </tr>\n    <tr>\n      <th>2011-05-31</th>\n      <td>47.36</td>\n      <td>37.96</td>\n      <td>41.30</td>\n    </tr>\n    <tr>\n      <th>2011-06-30</th>\n      <td>123.48</td>\n      <td>122.17</td>\n      <td>111.28</td>\n    </tr>\n    <tr>\n      <th>2011-07-31</th>\n      <td>76.31</td>\n      <td>66.88</td>\n      <td>62.00</td>\n    </tr>\n    <tr>\n      <th>2011-08-31</th>\n      <td>20.90</td>\n      <td>21.33</td>\n      <td>18.51</td>\n    </tr>\n    <tr>\n      <th>2011-09-30</th>\n      <td>14.38</td>\n      <td>13.77</td>\n      <td>10.31</td>\n    </tr>\n    <tr>\n      <th>2011-10-31</th>\n      <td>16.57</td>\n      <td>14.97</td>\n      <td>12.45</td>\n    </tr>\n    <tr>\n      <th>2011-11-30</th>\n      <td>15.76</td>\n      <td>13.54</td>\n      <td>12.55</td>\n    </tr>\n    <tr>\n      <th>2011-12-31</th>\n      <td>12.44</td>\n      <td>12.08</td>\n      <td>11.62</td>\n    </tr>\n    <tr>\n      <th>2012-01-31</th>\n      <td>11.87</td>\n      <td>11.23</td>\n      <td>10.74</td>\n    </tr>\n    <tr>\n      <th>2012-02-29</th>\n      <td>11.06</td>\n      <td>10.51</td>\n      <td>10.19</td>\n    </tr>\n    <tr>\n      <th>2012-03-31</th>\n      <td>14.05</td>\n      <td>12.95</td>\n      <td>12.73</td>\n    </tr>\n    <tr>\n      <th>2012-04-30</th>\n      <td>18.96</td>\n      <td>20.03</td>\n      <td>19.61</td>\n    </tr>\n    <tr>\n      <th>2012-05-31</th>\n      <td>15.82</td>\n      <td>18.39</td>\n      <td>15.59</td>\n    </tr>\n    <tr>\n      <th>2012-06-30</th>\n      <td>6.42</td>\n      <td>6.75</td>\n      <td>3.64</td>\n    </tr>\n    <tr>\n      <th>2012-07-31</th>\n      <td>5.92</td>\n      <td>6.62</td>\n      <td>4.81</td>\n    </tr>\n    <tr>\n      <th>2012-08-31</th>\n      <td>5.11</td>\n      <td>5.39</td>\n      <td>3.64</td>\n    </tr>\n    <tr>\n      <th>2012-09-30</th>\n      <td>4.85</td>\n      <td>4.51</td>\n      <td>1.60</td>\n    </tr>\n    <tr>\n      <th>2012-10-31</th>\n      <td>8.82</td>\n      <td>7.18</td>\n      <td>6.30</td>\n    </tr>\n    <tr>\n      <th>2012-11-30</th>\n      <td>9.82</td>\n      <td>7.39</td>\n      <td>7.60</td>\n    </tr>\n    <tr>\n      <th>2012-12-31</th>\n      <td>8.17</td>\n      <td>7.26</td>\n      <td>7.47</td>\n    </tr>\n    <tr>\n      <th>2013-01-31</th>\n      <td>6.58</td>\n      <td>7.35</td>\n      <td>7.25</td>\n    </tr>\n    <tr>\n      <th>2013-02-28</th>\n      <td>8.70</td>\n      <td>7.44</td>\n      <td>7.41</td>\n    </tr>\n    <tr>\n      <th>2013-03-31</th>\n      <td>11.01</td>\n      <td>7.67</td>\n      <td>7.61</td>\n    </tr>\n    <tr>\n      <th>2013-04-30</th>\n      <td>10.40</td>\n      <td>10.08</td>\n      <td>10.00</td>\n    </tr>\n    <tr>\n      <th>2013-05-31</th>\n      <td>31.52</td>\n      <td>35.37</td>\n      <td>34.06</td>\n    </tr>\n    <tr>\n      <th>2013-06-30</th>\n      <td>22.82</td>\n      <td>22.90</td>\n      <td>20.98</td>\n    </tr>\n    <tr>\n      <th>2013-07-31</th>\n      <td>7.93</td>\n      <td>8.04</td>\n      <td>6.77</td>\n    </tr>\n    <tr>\n      <th>2013-08-31</th>\n      <td>5.50</td>\n      <td>5.66</td>\n      <td>4.35</td>\n    </tr>\n    <tr>\n      <th>2013-09-30</th>\n      <td>8.52</td>\n      <td>6.57</td>\n      <td>3.83</td>\n    </tr>\n    <tr>\n      <th>2013-10-31</th>\n      <td>12.49</td>\n      <td>10.66</td>\n      <td>9.63</td>\n    </tr>\n    <tr>\n      <th>2013-11-30</th>\n      <td>10.93</td>\n      <td>9.12</td>\n      <td>8.96</td>\n    </tr>\n    <tr>\n      <th>2013-12-31</th>\n      <td>7.33</td>\n      <td>8.21</td>\n      <td>8.01</td>\n    </tr>\n    <tr>\n      <th>2014-01-31</th>\n      <td>6.13</td>\n      <td>7.80</td>\n      <td>7.58</td>\n    </tr>\n    <tr>\n      <th>2014-02-28</th>\n      <td>11.12</td>\n      <td>8.04</td>\n      <td>7.76</td>\n    </tr>\n    <tr>\n      <th>2014-03-31</th>\n      <td>12.09</td>\n      <td>8.94</td>\n      <td>8.40</td>\n    </tr>\n    <tr>\n      <th>2014-04-30</th>\n      <td>20.60</td>\n      <td>21.40</td>\n      <td>21.37</td>\n    </tr>\n    <tr>\n      <th>2014-05-31</th>\n      <td>46.23</td>\n      <td>51.58</td>\n      <td>51.09</td>\n    </tr>\n    <tr>\n      <th>2014-06-30</th>\n      <td>54.17</td>\n      <td>50.16</td>\n      <td>47.93</td>\n    </tr>\n    <tr>\n      <th>2014-07-31</th>\n      <td>19.24</td>\n      <td>18.73</td>\n      <td>16.33</td>\n    </tr>\n    <tr>\n      <th>2014-08-31</th>\n      <td>15.35</td>\n      <td>13.38</td>\n      <td>11.34</td>\n    </tr>\n    <tr>\n      <th>2014-09-30</th>\n      <td>13.55</td>\n      <td>12.38</td>\n      <td>10.19</td>\n    </tr>\n    <tr>\n      <th>2014-10-31</th>\n      <td>15.88</td>\n      <td>13.34</td>\n      <td>11.74</td>\n    </tr>\n    <tr>\n      <th>2014-11-30</th>\n      <td>13.53</td>\n      <td>11.69</td>\n      <td>10.78</td>\n    </tr>\n    <tr>\n      <th>2014-12-31</th>\n      <td>11.95</td>\n      <td>9.96</td>\n      <td>9.58</td>\n    </tr>\n  </tbody>\n</table>\n</div>"
     },
     "metadata": {},
     "execution_count": 275
    }
   ],
   "source": [
    "stf_obd = pd.read_csv('streamflow_month.obd',\n",
    "                       sep='\\t',\n",
    "                       index_col = 0,\n",
    "                       parse_dates = True,\n",
    "                       na_values=[-999, '']\n",
    "                     )\n",
    "stf_obd = stf_obd['1/1/2010': '12/31/2014']\n",
    "stf_obd = stf_obd.drop(['sub046', 'sub130'], axis=1)\n",
    "stf_obd"
   ]
  },
  {
   "cell_type": "code",
   "execution_count": 276,
   "metadata": {},
   "outputs": [
    {
     "output_type": "execute_result",
     "data": {
      "text/plain": [
       "['g492', 'g593', 'sub066', 'sub102', 'sub133']"
      ]
     },
     "metadata": {},
     "execution_count": 276
    }
   ],
   "source": [
    "# Get sub list based on obd order\n",
    "sub_order = []\n",
    "for i in obd.obgnme.tolist():\n",
    "    if i not in sub_order:\n",
    "        sub_order.append(i)\n",
    "sub_order\n"
   ]
  },
  {
   "cell_type": "code",
   "execution_count": 277,
   "metadata": {},
   "outputs": [
    {
     "output_type": "execute_result",
     "data": {
      "text/plain": [
       "3118"
      ]
     },
     "metadata": {},
     "execution_count": 277
    }
   ],
   "source": [
    "# get total list from each sub obd, delete na vals\n",
    "tot_obd = []\n",
    "for i in sub_order[:2]:\n",
    "    tot_obd += gwt_obd[i].dropna().tolist()\n",
    "for j in sub_order[2:]:\n",
    "    tot_obd += stf_obd[j].dropna().tolist()    \n",
    "len(tot_obd)\n",
    "# tot_obd"
   ]
  },
  {
   "cell_type": "code",
   "execution_count": 278,
   "metadata": {},
   "outputs": [
    {
     "output_type": "execute_result",
     "data": {
      "text/plain": [
       "                      obsnme  obsval  weight  obgnme\n",
       "g492_20100622  g492_20100622  -85.51     1.0    g492\n",
       "g492_20100623  g492_20100623  -85.53     1.0    g492\n",
       "g492_20100624  g492_20100624  -85.53     1.0    g492\n",
       "g492_20100625  g492_20100625  -85.53     1.0    g492\n",
       "g492_20100626  g492_20100626  -85.53     1.0    g492\n",
       "...                      ...     ...     ...     ...\n",
       "sub133_201408  sub133_201408   11.34     1.0  sub133\n",
       "sub133_201409  sub133_201409   10.19     1.0  sub133\n",
       "sub133_201410  sub133_201410   11.74     1.0  sub133\n",
       "sub133_201411  sub133_201411   10.78     1.0  sub133\n",
       "sub133_201412  sub133_201412    9.58     1.0  sub133\n",
       "\n",
       "[3118 rows x 4 columns]"
      ],
      "text/html": "<div>\n<style scoped>\n    .dataframe tbody tr th:only-of-type {\n        vertical-align: middle;\n    }\n\n    .dataframe tbody tr th {\n        vertical-align: top;\n    }\n\n    .dataframe thead th {\n        text-align: right;\n    }\n</style>\n<table border=\"1\" class=\"dataframe\">\n  <thead>\n    <tr style=\"text-align: right;\">\n      <th></th>\n      <th>obsnme</th>\n      <th>obsval</th>\n      <th>weight</th>\n      <th>obgnme</th>\n    </tr>\n  </thead>\n  <tbody>\n    <tr>\n      <th>g492_20100622</th>\n      <td>g492_20100622</td>\n      <td>-85.51</td>\n      <td>1.0</td>\n      <td>g492</td>\n    </tr>\n    <tr>\n      <th>g492_20100623</th>\n      <td>g492_20100623</td>\n      <td>-85.53</td>\n      <td>1.0</td>\n      <td>g492</td>\n    </tr>\n    <tr>\n      <th>g492_20100624</th>\n      <td>g492_20100624</td>\n      <td>-85.53</td>\n      <td>1.0</td>\n      <td>g492</td>\n    </tr>\n    <tr>\n      <th>g492_20100625</th>\n      <td>g492_20100625</td>\n      <td>-85.53</td>\n      <td>1.0</td>\n      <td>g492</td>\n    </tr>\n    <tr>\n      <th>g492_20100626</th>\n      <td>g492_20100626</td>\n      <td>-85.53</td>\n      <td>1.0</td>\n      <td>g492</td>\n    </tr>\n    <tr>\n      <th>...</th>\n      <td>...</td>\n      <td>...</td>\n      <td>...</td>\n      <td>...</td>\n    </tr>\n    <tr>\n      <th>sub133_201408</th>\n      <td>sub133_201408</td>\n      <td>11.34</td>\n      <td>1.0</td>\n      <td>sub133</td>\n    </tr>\n    <tr>\n      <th>sub133_201409</th>\n      <td>sub133_201409</td>\n      <td>10.19</td>\n      <td>1.0</td>\n      <td>sub133</td>\n    </tr>\n    <tr>\n      <th>sub133_201410</th>\n      <td>sub133_201410</td>\n      <td>11.74</td>\n      <td>1.0</td>\n      <td>sub133</td>\n    </tr>\n    <tr>\n      <th>sub133_201411</th>\n      <td>sub133_201411</td>\n      <td>10.78</td>\n      <td>1.0</td>\n      <td>sub133</td>\n    </tr>\n    <tr>\n      <th>sub133_201412</th>\n      <td>sub133_201412</td>\n      <td>9.58</td>\n      <td>1.0</td>\n      <td>sub133</td>\n    </tr>\n  </tbody>\n</table>\n<p>3118 rows × 4 columns</p>\n</div>"
     },
     "metadata": {},
     "execution_count": 278
    }
   ],
   "source": [
    "obd.loc[:, 'obsval'] = tot_obd\n",
    "obd"
   ]
  },
  {
   "cell_type": "code",
   "execution_count": null,
   "metadata": {},
   "outputs": [],
   "source": []
  },
  {
   "cell_type": "markdown",
   "metadata": {},
   "source": [
    "### 4. Export control file"
   ]
  },
  {
   "cell_type": "code",
   "execution_count": 280,
   "metadata": {},
   "outputs": [
    {
     "output_type": "stream",
     "name": "stdout",
     "text": [
      "noptmax:0, npar_adj:122, nnz_obs:3118\n"
     ]
    }
   ],
   "source": [
    "pst.control_data.noptmax=0\n",
    "pst.model_command = 'python forward_run.py'\n",
    "pst.write('white_pest.pst')"
   ]
  },
  {
   "cell_type": "markdown",
   "metadata": {},
   "source": [
    "also cool - the instruction files in the directory were also found and parsed so that observation listed in the instruction files were added as well. There are some subtlies here, but we will skip them for now."
   ]
  },
  {
   "cell_type": "markdown",
   "metadata": {},
   "source": [
    "## Regularization"
   ]
  },
  {
   "cell_type": "markdown",
   "metadata": {},
   "source": [
    "Regularization is ...."
   ]
  },
  {
   "cell_type": "markdown",
   "metadata": {},
   "source": [
    "in pyemu, we can add two forms of regularization:\n",
    "- preferred value: we want the parameter values to stay as close to the initial values as possible\n",
    "- preferred difference: we prefer the differences in parameter values to be minimized\n",
    "\n",
    "Preferred value is easy to understand, we simply add ``prior_information`` to the control file to enforce this condition.  pyemu uses a helper for this:"
   ]
  },
  {
   "cell_type": "code",
   "execution_count": 36,
   "metadata": {},
   "outputs": [],
   "source": [
    "# load the pre-constructed pst\n",
    "pst = pyemu.Pst(os.path.join(working_dir,pst_name))"
   ]
  },
  {
   "cell_type": "code",
   "execution_count": 37,
   "metadata": {},
   "outputs": [],
   "source": [
    "pyemu.helpers.zero_order_tikhonov(pst,parbounds=False)"
   ]
  },
  {
   "cell_type": "code",
   "execution_count": 38,
   "metadata": {},
   "outputs": [
    {
     "data": {
      "text/html": [
       "<div>\n",
       "<style scoped>\n",
       "    .dataframe tbody tr th:only-of-type {\n",
       "        vertical-align: middle;\n",
       "    }\n",
       "\n",
       "    .dataframe tbody tr th {\n",
       "        vertical-align: top;\n",
       "    }\n",
       "\n",
       "    .dataframe thead th {\n",
       "        text-align: right;\n",
       "    }\n",
       "</style>\n",
       "<table border=\"1\" class=\"dataframe\">\n",
       "  <thead>\n",
       "    <tr style=\"text-align: right;\">\n",
       "      <th></th>\n",
       "      <th>pilbl</th>\n",
       "      <th>equation</th>\n",
       "      <th>obgnme</th>\n",
       "      <th>weight</th>\n",
       "    </tr>\n",
       "  </thead>\n",
       "  <tbody>\n",
       "    <tr>\n",
       "      <th>0</th>\n",
       "      <td>hk00</td>\n",
       "      <td>1.0 * log(hk00) =   6.989700E-01</td>\n",
       "      <td>regulhk</td>\n",
       "      <td>1.0</td>\n",
       "    </tr>\n",
       "    <tr>\n",
       "      <th>1</th>\n",
       "      <td>hk01</td>\n",
       "      <td>1.0 * log(hk01) =   6.989700E-01</td>\n",
       "      <td>regulhk</td>\n",
       "      <td>1.0</td>\n",
       "    </tr>\n",
       "    <tr>\n",
       "      <th>2</th>\n",
       "      <td>hk02</td>\n",
       "      <td>1.0 * log(hk02) =   6.989700E-01</td>\n",
       "      <td>regulhk</td>\n",
       "      <td>1.0</td>\n",
       "    </tr>\n",
       "    <tr>\n",
       "      <th>3</th>\n",
       "      <td>hk03</td>\n",
       "      <td>1.0 * log(hk03) =   6.989700E-01</td>\n",
       "      <td>regulhk</td>\n",
       "      <td>1.0</td>\n",
       "    </tr>\n",
       "    <tr>\n",
       "      <th>4</th>\n",
       "      <td>hk04</td>\n",
       "      <td>1.0 * log(hk04) =   6.989700E-01</td>\n",
       "      <td>regulhk</td>\n",
       "      <td>1.0</td>\n",
       "    </tr>\n",
       "    <tr>\n",
       "      <th>5</th>\n",
       "      <td>hk05</td>\n",
       "      <td>1.0 * log(hk05) =   6.989700E-01</td>\n",
       "      <td>regulhk</td>\n",
       "      <td>1.0</td>\n",
       "    </tr>\n",
       "    <tr>\n",
       "      <th>6</th>\n",
       "      <td>hk06</td>\n",
       "      <td>1.0 * log(hk06) =   6.989700E-01</td>\n",
       "      <td>regulhk</td>\n",
       "      <td>1.0</td>\n",
       "    </tr>\n",
       "    <tr>\n",
       "      <th>7</th>\n",
       "      <td>hk07</td>\n",
       "      <td>1.0 * log(hk07) =   6.989700E-01</td>\n",
       "      <td>regulhk</td>\n",
       "      <td>1.0</td>\n",
       "    </tr>\n",
       "    <tr>\n",
       "      <th>8</th>\n",
       "      <td>hk08</td>\n",
       "      <td>1.0 * log(hk08) =   6.989700E-01</td>\n",
       "      <td>regulhk</td>\n",
       "      <td>1.0</td>\n",
       "    </tr>\n",
       "    <tr>\n",
       "      <th>9</th>\n",
       "      <td>hk09</td>\n",
       "      <td>1.0 * log(hk09) =   6.989700E-01</td>\n",
       "      <td>regulhk</td>\n",
       "      <td>1.0</td>\n",
       "    </tr>\n",
       "    <tr>\n",
       "      <th>10</th>\n",
       "      <td>hk10</td>\n",
       "      <td>1.0 * log(hk10) =   6.989700E-01</td>\n",
       "      <td>regulhk</td>\n",
       "      <td>1.0</td>\n",
       "    </tr>\n",
       "    <tr>\n",
       "      <th>11</th>\n",
       "      <td>hk11</td>\n",
       "      <td>1.0 * log(hk11) =   6.989700E-01</td>\n",
       "      <td>regulhk</td>\n",
       "      <td>1.0</td>\n",
       "    </tr>\n",
       "    <tr>\n",
       "      <th>12</th>\n",
       "      <td>hk12</td>\n",
       "      <td>1.0 * log(hk12) =   6.989700E-01</td>\n",
       "      <td>regulhk</td>\n",
       "      <td>1.0</td>\n",
       "    </tr>\n",
       "    <tr>\n",
       "      <th>13</th>\n",
       "      <td>hk13</td>\n",
       "      <td>1.0 * log(hk13) =   6.989700E-01</td>\n",
       "      <td>regulhk</td>\n",
       "      <td>1.0</td>\n",
       "    </tr>\n",
       "    <tr>\n",
       "      <th>14</th>\n",
       "      <td>hk14</td>\n",
       "      <td>1.0 * log(hk14) =   6.989700E-01</td>\n",
       "      <td>regulhk</td>\n",
       "      <td>1.0</td>\n",
       "    </tr>\n",
       "    <tr>\n",
       "      <th>15</th>\n",
       "      <td>hk15</td>\n",
       "      <td>1.0 * log(hk15) =   6.989700E-01</td>\n",
       "      <td>regulhk</td>\n",
       "      <td>1.0</td>\n",
       "    </tr>\n",
       "    <tr>\n",
       "      <th>16</th>\n",
       "      <td>hk16</td>\n",
       "      <td>1.0 * log(hk16) =   6.989700E-01</td>\n",
       "      <td>regulhk</td>\n",
       "      <td>1.0</td>\n",
       "    </tr>\n",
       "    <tr>\n",
       "      <th>17</th>\n",
       "      <td>hk17</td>\n",
       "      <td>1.0 * log(hk17) =   6.989700E-01</td>\n",
       "      <td>regulhk</td>\n",
       "      <td>1.0</td>\n",
       "    </tr>\n",
       "    <tr>\n",
       "      <th>18</th>\n",
       "      <td>hk18</td>\n",
       "      <td>1.0 * log(hk18) =   6.989700E-01</td>\n",
       "      <td>regulhk</td>\n",
       "      <td>1.0</td>\n",
       "    </tr>\n",
       "    <tr>\n",
       "      <th>19</th>\n",
       "      <td>hk19</td>\n",
       "      <td>1.0 * log(hk19) =   6.989700E-01</td>\n",
       "      <td>regulhk</td>\n",
       "      <td>1.0</td>\n",
       "    </tr>\n",
       "    <tr>\n",
       "      <th>20</th>\n",
       "      <td>hk20</td>\n",
       "      <td>1.0 * log(hk20) =   6.989700E-01</td>\n",
       "      <td>regulhk</td>\n",
       "      <td>1.0</td>\n",
       "    </tr>\n",
       "    <tr>\n",
       "      <th>21</th>\n",
       "      <td>hk21</td>\n",
       "      <td>1.0 * log(hk21) =   6.989700E-01</td>\n",
       "      <td>regulhk</td>\n",
       "      <td>1.0</td>\n",
       "    </tr>\n",
       "    <tr>\n",
       "      <th>22</th>\n",
       "      <td>hk22</td>\n",
       "      <td>1.0 * log(hk22) =   6.989700E-01</td>\n",
       "      <td>regulhk</td>\n",
       "      <td>1.0</td>\n",
       "    </tr>\n",
       "    <tr>\n",
       "      <th>23</th>\n",
       "      <td>hk23</td>\n",
       "      <td>1.0 * log(hk23) =   6.989700E-01</td>\n",
       "      <td>regulhk</td>\n",
       "      <td>1.0</td>\n",
       "    </tr>\n",
       "    <tr>\n",
       "      <th>24</th>\n",
       "      <td>hk24</td>\n",
       "      <td>1.0 * log(hk24) =   6.989700E-01</td>\n",
       "      <td>regulhk</td>\n",
       "      <td>1.0</td>\n",
       "    </tr>\n",
       "    <tr>\n",
       "      <th>25</th>\n",
       "      <td>hk25</td>\n",
       "      <td>1.0 * log(hk25) =   6.989700E-01</td>\n",
       "      <td>regulhk</td>\n",
       "      <td>1.0</td>\n",
       "    </tr>\n",
       "    <tr>\n",
       "      <th>26</th>\n",
       "      <td>hk26</td>\n",
       "      <td>1.0 * log(hk26) =   6.989700E-01</td>\n",
       "      <td>regulhk</td>\n",
       "      <td>1.0</td>\n",
       "    </tr>\n",
       "    <tr>\n",
       "      <th>27</th>\n",
       "      <td>hk27</td>\n",
       "      <td>1.0 * log(hk27) =   6.989700E-01</td>\n",
       "      <td>regulhk</td>\n",
       "      <td>1.0</td>\n",
       "    </tr>\n",
       "    <tr>\n",
       "      <th>28</th>\n",
       "      <td>hk28</td>\n",
       "      <td>1.0 * log(hk28) =   6.989700E-01</td>\n",
       "      <td>regulhk</td>\n",
       "      <td>1.0</td>\n",
       "    </tr>\n",
       "    <tr>\n",
       "      <th>29</th>\n",
       "      <td>hk29</td>\n",
       "      <td>1.0 * log(hk29) =   6.989700E-01</td>\n",
       "      <td>regulhk</td>\n",
       "      <td>1.0</td>\n",
       "    </tr>\n",
       "    <tr>\n",
       "      <th>30</th>\n",
       "      <td>hk30</td>\n",
       "      <td>1.0 * log(hk30) =   6.989700E-01</td>\n",
       "      <td>regulhk</td>\n",
       "      <td>1.0</td>\n",
       "    </tr>\n",
       "    <tr>\n",
       "      <th>31</th>\n",
       "      <td>hk31</td>\n",
       "      <td>1.0 * log(hk31) =   6.989700E-01</td>\n",
       "      <td>regulhk</td>\n",
       "      <td>1.0</td>\n",
       "    </tr>\n",
       "    <tr>\n",
       "      <th>32</th>\n",
       "      <td>porosity</td>\n",
       "      <td>1.0 * log(porosity) =  -2.000000E+00</td>\n",
       "      <td>regulporosit</td>\n",
       "      <td>1.0</td>\n",
       "    </tr>\n",
       "    <tr>\n",
       "      <th>33</th>\n",
       "      <td>rch_0</td>\n",
       "      <td>1.0 * log(rch_0) =   0.000000E+00</td>\n",
       "      <td>regulrch</td>\n",
       "      <td>1.0</td>\n",
       "    </tr>\n",
       "    <tr>\n",
       "      <th>34</th>\n",
       "      <td>rch_1</td>\n",
       "      <td>1.0 * log(rch_1) =   0.000000E+00</td>\n",
       "      <td>regulrch</td>\n",
       "      <td>1.0</td>\n",
       "    </tr>\n",
       "    <tr>\n",
       "      <th>35</th>\n",
       "      <td>sfr</td>\n",
       "      <td>1.0 * log(sfr) =  -1.000000E+00</td>\n",
       "      <td>regulsfr</td>\n",
       "      <td>1.0</td>\n",
       "    </tr>\n",
       "    <tr>\n",
       "      <th>36</th>\n",
       "      <td>w0_r09_c16</td>\n",
       "      <td>1.0 * log(w0_r09_c16) =   0.000000E+00</td>\n",
       "      <td>regulw0</td>\n",
       "      <td>1.0</td>\n",
       "    </tr>\n",
       "    <tr>\n",
       "      <th>37</th>\n",
       "      <td>w0_r11_c13</td>\n",
       "      <td>1.0 * log(w0_r11_c13) =   0.000000E+00</td>\n",
       "      <td>regulw0</td>\n",
       "      <td>1.0</td>\n",
       "    </tr>\n",
       "    <tr>\n",
       "      <th>38</th>\n",
       "      <td>w0_r20_c14</td>\n",
       "      <td>1.0 * log(w0_r20_c14) =   0.000000E+00</td>\n",
       "      <td>regulw0</td>\n",
       "      <td>1.0</td>\n",
       "    </tr>\n",
       "    <tr>\n",
       "      <th>39</th>\n",
       "      <td>w0_r26_c10</td>\n",
       "      <td>1.0 * log(w0_r26_c10) =   0.000000E+00</td>\n",
       "      <td>regulw0</td>\n",
       "      <td>1.0</td>\n",
       "    </tr>\n",
       "    <tr>\n",
       "      <th>40</th>\n",
       "      <td>w0_r29_c06</td>\n",
       "      <td>1.0 * log(w0_r29_c06) =   0.000000E+00</td>\n",
       "      <td>regulw0</td>\n",
       "      <td>1.0</td>\n",
       "    </tr>\n",
       "    <tr>\n",
       "      <th>41</th>\n",
       "      <td>w0_r34_c12</td>\n",
       "      <td>1.0 * log(w0_r34_c12) =   0.000000E+00</td>\n",
       "      <td>regulw0</td>\n",
       "      <td>1.0</td>\n",
       "    </tr>\n",
       "    <tr>\n",
       "      <th>42</th>\n",
       "      <td>w1_r09_c16</td>\n",
       "      <td>1.0 * log(w1_r09_c16) =   0.000000E+00</td>\n",
       "      <td>regulw1</td>\n",
       "      <td>1.0</td>\n",
       "    </tr>\n",
       "    <tr>\n",
       "      <th>43</th>\n",
       "      <td>w1_r11_c13</td>\n",
       "      <td>1.0 * log(w1_r11_c13) =   0.000000E+00</td>\n",
       "      <td>regulw1</td>\n",
       "      <td>1.0</td>\n",
       "    </tr>\n",
       "    <tr>\n",
       "      <th>44</th>\n",
       "      <td>w1_r20_c14</td>\n",
       "      <td>1.0 * log(w1_r20_c14) =   0.000000E+00</td>\n",
       "      <td>regulw1</td>\n",
       "      <td>1.0</td>\n",
       "    </tr>\n",
       "    <tr>\n",
       "      <th>45</th>\n",
       "      <td>w1_r26_c10</td>\n",
       "      <td>1.0 * log(w1_r26_c10) =   0.000000E+00</td>\n",
       "      <td>regulw1</td>\n",
       "      <td>1.0</td>\n",
       "    </tr>\n",
       "    <tr>\n",
       "      <th>46</th>\n",
       "      <td>w1_r29_c06</td>\n",
       "      <td>1.0 * log(w1_r29_c06) =   0.000000E+00</td>\n",
       "      <td>regulw1</td>\n",
       "      <td>1.0</td>\n",
       "    </tr>\n",
       "    <tr>\n",
       "      <th>47</th>\n",
       "      <td>w1_r34_c12</td>\n",
       "      <td>1.0 * log(w1_r34_c12) =   0.000000E+00</td>\n",
       "      <td>regulw1</td>\n",
       "      <td>1.0</td>\n",
       "    </tr>\n",
       "  </tbody>\n",
       "</table>\n",
       "</div>"
      ],
      "text/plain": [
       "         pilbl                                equation        obgnme  weight\n",
       "0         hk00        1.0 * log(hk00) =   6.989700E-01       regulhk     1.0\n",
       "1         hk01        1.0 * log(hk01) =   6.989700E-01       regulhk     1.0\n",
       "2         hk02        1.0 * log(hk02) =   6.989700E-01       regulhk     1.0\n",
       "3         hk03        1.0 * log(hk03) =   6.989700E-01       regulhk     1.0\n",
       "4         hk04        1.0 * log(hk04) =   6.989700E-01       regulhk     1.0\n",
       "5         hk05        1.0 * log(hk05) =   6.989700E-01       regulhk     1.0\n",
       "6         hk06        1.0 * log(hk06) =   6.989700E-01       regulhk     1.0\n",
       "7         hk07        1.0 * log(hk07) =   6.989700E-01       regulhk     1.0\n",
       "8         hk08        1.0 * log(hk08) =   6.989700E-01       regulhk     1.0\n",
       "9         hk09        1.0 * log(hk09) =   6.989700E-01       regulhk     1.0\n",
       "10        hk10        1.0 * log(hk10) =   6.989700E-01       regulhk     1.0\n",
       "11        hk11        1.0 * log(hk11) =   6.989700E-01       regulhk     1.0\n",
       "12        hk12        1.0 * log(hk12) =   6.989700E-01       regulhk     1.0\n",
       "13        hk13        1.0 * log(hk13) =   6.989700E-01       regulhk     1.0\n",
       "14        hk14        1.0 * log(hk14) =   6.989700E-01       regulhk     1.0\n",
       "15        hk15        1.0 * log(hk15) =   6.989700E-01       regulhk     1.0\n",
       "16        hk16        1.0 * log(hk16) =   6.989700E-01       regulhk     1.0\n",
       "17        hk17        1.0 * log(hk17) =   6.989700E-01       regulhk     1.0\n",
       "18        hk18        1.0 * log(hk18) =   6.989700E-01       regulhk     1.0\n",
       "19        hk19        1.0 * log(hk19) =   6.989700E-01       regulhk     1.0\n",
       "20        hk20        1.0 * log(hk20) =   6.989700E-01       regulhk     1.0\n",
       "21        hk21        1.0 * log(hk21) =   6.989700E-01       regulhk     1.0\n",
       "22        hk22        1.0 * log(hk22) =   6.989700E-01       regulhk     1.0\n",
       "23        hk23        1.0 * log(hk23) =   6.989700E-01       regulhk     1.0\n",
       "24        hk24        1.0 * log(hk24) =   6.989700E-01       regulhk     1.0\n",
       "25        hk25        1.0 * log(hk25) =   6.989700E-01       regulhk     1.0\n",
       "26        hk26        1.0 * log(hk26) =   6.989700E-01       regulhk     1.0\n",
       "27        hk27        1.0 * log(hk27) =   6.989700E-01       regulhk     1.0\n",
       "28        hk28        1.0 * log(hk28) =   6.989700E-01       regulhk     1.0\n",
       "29        hk29        1.0 * log(hk29) =   6.989700E-01       regulhk     1.0\n",
       "30        hk30        1.0 * log(hk30) =   6.989700E-01       regulhk     1.0\n",
       "31        hk31        1.0 * log(hk31) =   6.989700E-01       regulhk     1.0\n",
       "32    porosity    1.0 * log(porosity) =  -2.000000E+00  regulporosit     1.0\n",
       "33       rch_0       1.0 * log(rch_0) =   0.000000E+00      regulrch     1.0\n",
       "34       rch_1       1.0 * log(rch_1) =   0.000000E+00      regulrch     1.0\n",
       "35         sfr         1.0 * log(sfr) =  -1.000000E+00      regulsfr     1.0\n",
       "36  w0_r09_c16  1.0 * log(w0_r09_c16) =   0.000000E+00       regulw0     1.0\n",
       "37  w0_r11_c13  1.0 * log(w0_r11_c13) =   0.000000E+00       regulw0     1.0\n",
       "38  w0_r20_c14  1.0 * log(w0_r20_c14) =   0.000000E+00       regulw0     1.0\n",
       "39  w0_r26_c10  1.0 * log(w0_r26_c10) =   0.000000E+00       regulw0     1.0\n",
       "40  w0_r29_c06  1.0 * log(w0_r29_c06) =   0.000000E+00       regulw0     1.0\n",
       "41  w0_r34_c12  1.0 * log(w0_r34_c12) =   0.000000E+00       regulw0     1.0\n",
       "42  w1_r09_c16  1.0 * log(w1_r09_c16) =   0.000000E+00       regulw1     1.0\n",
       "43  w1_r11_c13  1.0 * log(w1_r11_c13) =   0.000000E+00       regulw1     1.0\n",
       "44  w1_r20_c14  1.0 * log(w1_r20_c14) =   0.000000E+00       regulw1     1.0\n",
       "45  w1_r26_c10  1.0 * log(w1_r26_c10) =   0.000000E+00       regulw1     1.0\n",
       "46  w1_r29_c06  1.0 * log(w1_r29_c06) =   0.000000E+00       regulw1     1.0\n",
       "47  w1_r34_c12  1.0 * log(w1_r34_c12) =   0.000000E+00       regulw1     1.0"
      ]
     },
     "execution_count": 38,
     "metadata": {},
     "output_type": "execute_result"
    }
   ],
   "source": [
    "pst.prior_information"
   ]
  },
  {
   "cell_type": "markdown",
   "metadata": {},
   "source": [
    "Ok, that's fine, but should the weight on preferring HK not to change be the same as preferring recharge not to change?  Seems like we would want recharge to change less than HK.  This preference can be expressed by using the parameter bounds to form the weights"
   ]
  },
  {
   "cell_type": "code",
   "execution_count": 43,
   "metadata": {},
   "outputs": [],
   "source": [
    "pyemu.helpers.zero_order_tikhonov(pst,parbounds=True)"
   ]
  },
  {
   "cell_type": "code",
   "execution_count": 44,
   "metadata": {},
   "outputs": [
    {
     "data": {
      "text/html": [
       "<div>\n",
       "<style scoped>\n",
       "    .dataframe tbody tr th:only-of-type {\n",
       "        vertical-align: middle;\n",
       "    }\n",
       "\n",
       "    .dataframe tbody tr th {\n",
       "        vertical-align: top;\n",
       "    }\n",
       "\n",
       "    .dataframe thead th {\n",
       "        text-align: right;\n",
       "    }\n",
       "</style>\n",
       "<table border=\"1\" class=\"dataframe\">\n",
       "  <thead>\n",
       "    <tr style=\"text-align: right;\">\n",
       "      <th></th>\n",
       "      <th>pilbl</th>\n",
       "      <th>equation</th>\n",
       "      <th>obgnme</th>\n",
       "      <th>weight</th>\n",
       "    </tr>\n",
       "    <tr>\n",
       "      <th>pilbl</th>\n",
       "      <th></th>\n",
       "      <th></th>\n",
       "      <th></th>\n",
       "      <th></th>\n",
       "    </tr>\n",
       "  </thead>\n",
       "  <tbody>\n",
       "    <tr>\n",
       "      <th>hk00</th>\n",
       "      <td>hk00</td>\n",
       "      <td>1.0 * log(hk00) =   6.989700E-01</td>\n",
       "      <td>regulhk</td>\n",
       "      <td>0.500000</td>\n",
       "    </tr>\n",
       "    <tr>\n",
       "      <th>hk01</th>\n",
       "      <td>hk01</td>\n",
       "      <td>1.0 * log(hk01) =   6.989700E-01</td>\n",
       "      <td>regulhk</td>\n",
       "      <td>0.500000</td>\n",
       "    </tr>\n",
       "    <tr>\n",
       "      <th>hk02</th>\n",
       "      <td>hk02</td>\n",
       "      <td>1.0 * log(hk02) =   6.989700E-01</td>\n",
       "      <td>regulhk</td>\n",
       "      <td>0.500000</td>\n",
       "    </tr>\n",
       "    <tr>\n",
       "      <th>hk03</th>\n",
       "      <td>hk03</td>\n",
       "      <td>1.0 * log(hk03) =   6.989700E-01</td>\n",
       "      <td>regulhk</td>\n",
       "      <td>0.500000</td>\n",
       "    </tr>\n",
       "    <tr>\n",
       "      <th>hk04</th>\n",
       "      <td>hk04</td>\n",
       "      <td>1.0 * log(hk04) =   6.989700E-01</td>\n",
       "      <td>regulhk</td>\n",
       "      <td>0.500000</td>\n",
       "    </tr>\n",
       "    <tr>\n",
       "      <th>hk05</th>\n",
       "      <td>hk05</td>\n",
       "      <td>1.0 * log(hk05) =   6.989700E-01</td>\n",
       "      <td>regulhk</td>\n",
       "      <td>0.500000</td>\n",
       "    </tr>\n",
       "    <tr>\n",
       "      <th>hk06</th>\n",
       "      <td>hk06</td>\n",
       "      <td>1.0 * log(hk06) =   6.989700E-01</td>\n",
       "      <td>regulhk</td>\n",
       "      <td>0.500000</td>\n",
       "    </tr>\n",
       "    <tr>\n",
       "      <th>hk07</th>\n",
       "      <td>hk07</td>\n",
       "      <td>1.0 * log(hk07) =   6.989700E-01</td>\n",
       "      <td>regulhk</td>\n",
       "      <td>0.500000</td>\n",
       "    </tr>\n",
       "    <tr>\n",
       "      <th>hk08</th>\n",
       "      <td>hk08</td>\n",
       "      <td>1.0 * log(hk08) =   6.989700E-01</td>\n",
       "      <td>regulhk</td>\n",
       "      <td>0.500000</td>\n",
       "    </tr>\n",
       "    <tr>\n",
       "      <th>hk09</th>\n",
       "      <td>hk09</td>\n",
       "      <td>1.0 * log(hk09) =   6.989700E-01</td>\n",
       "      <td>regulhk</td>\n",
       "      <td>0.500000</td>\n",
       "    </tr>\n",
       "    <tr>\n",
       "      <th>hk10</th>\n",
       "      <td>hk10</td>\n",
       "      <td>1.0 * log(hk10) =   6.989700E-01</td>\n",
       "      <td>regulhk</td>\n",
       "      <td>0.500000</td>\n",
       "    </tr>\n",
       "    <tr>\n",
       "      <th>hk11</th>\n",
       "      <td>hk11</td>\n",
       "      <td>1.0 * log(hk11) =   6.989700E-01</td>\n",
       "      <td>regulhk</td>\n",
       "      <td>0.500000</td>\n",
       "    </tr>\n",
       "    <tr>\n",
       "      <th>hk12</th>\n",
       "      <td>hk12</td>\n",
       "      <td>1.0 * log(hk12) =   6.989700E-01</td>\n",
       "      <td>regulhk</td>\n",
       "      <td>0.500000</td>\n",
       "    </tr>\n",
       "    <tr>\n",
       "      <th>hk13</th>\n",
       "      <td>hk13</td>\n",
       "      <td>1.0 * log(hk13) =   6.989700E-01</td>\n",
       "      <td>regulhk</td>\n",
       "      <td>0.500000</td>\n",
       "    </tr>\n",
       "    <tr>\n",
       "      <th>hk14</th>\n",
       "      <td>hk14</td>\n",
       "      <td>1.0 * log(hk14) =   6.989700E-01</td>\n",
       "      <td>regulhk</td>\n",
       "      <td>0.500000</td>\n",
       "    </tr>\n",
       "    <tr>\n",
       "      <th>hk15</th>\n",
       "      <td>hk15</td>\n",
       "      <td>1.0 * log(hk15) =   6.989700E-01</td>\n",
       "      <td>regulhk</td>\n",
       "      <td>0.500000</td>\n",
       "    </tr>\n",
       "    <tr>\n",
       "      <th>hk16</th>\n",
       "      <td>hk16</td>\n",
       "      <td>1.0 * log(hk16) =   6.989700E-01</td>\n",
       "      <td>regulhk</td>\n",
       "      <td>0.500000</td>\n",
       "    </tr>\n",
       "    <tr>\n",
       "      <th>hk17</th>\n",
       "      <td>hk17</td>\n",
       "      <td>1.0 * log(hk17) =   6.989700E-01</td>\n",
       "      <td>regulhk</td>\n",
       "      <td>0.500000</td>\n",
       "    </tr>\n",
       "    <tr>\n",
       "      <th>hk18</th>\n",
       "      <td>hk18</td>\n",
       "      <td>1.0 * log(hk18) =   6.989700E-01</td>\n",
       "      <td>regulhk</td>\n",
       "      <td>0.500000</td>\n",
       "    </tr>\n",
       "    <tr>\n",
       "      <th>hk19</th>\n",
       "      <td>hk19</td>\n",
       "      <td>1.0 * log(hk19) =   6.989700E-01</td>\n",
       "      <td>regulhk</td>\n",
       "      <td>0.500000</td>\n",
       "    </tr>\n",
       "    <tr>\n",
       "      <th>hk20</th>\n",
       "      <td>hk20</td>\n",
       "      <td>1.0 * log(hk20) =   6.989700E-01</td>\n",
       "      <td>regulhk</td>\n",
       "      <td>0.500000</td>\n",
       "    </tr>\n",
       "    <tr>\n",
       "      <th>hk21</th>\n",
       "      <td>hk21</td>\n",
       "      <td>1.0 * log(hk21) =   6.989700E-01</td>\n",
       "      <td>regulhk</td>\n",
       "      <td>0.500000</td>\n",
       "    </tr>\n",
       "    <tr>\n",
       "      <th>hk22</th>\n",
       "      <td>hk22</td>\n",
       "      <td>1.0 * log(hk22) =   6.989700E-01</td>\n",
       "      <td>regulhk</td>\n",
       "      <td>0.500000</td>\n",
       "    </tr>\n",
       "    <tr>\n",
       "      <th>hk23</th>\n",
       "      <td>hk23</td>\n",
       "      <td>1.0 * log(hk23) =   6.989700E-01</td>\n",
       "      <td>regulhk</td>\n",
       "      <td>0.500000</td>\n",
       "    </tr>\n",
       "    <tr>\n",
       "      <th>hk24</th>\n",
       "      <td>hk24</td>\n",
       "      <td>1.0 * log(hk24) =   6.989700E-01</td>\n",
       "      <td>regulhk</td>\n",
       "      <td>0.500000</td>\n",
       "    </tr>\n",
       "    <tr>\n",
       "      <th>hk25</th>\n",
       "      <td>hk25</td>\n",
       "      <td>1.0 * log(hk25) =   6.989700E-01</td>\n",
       "      <td>regulhk</td>\n",
       "      <td>0.500000</td>\n",
       "    </tr>\n",
       "    <tr>\n",
       "      <th>hk26</th>\n",
       "      <td>hk26</td>\n",
       "      <td>1.0 * log(hk26) =   6.989700E-01</td>\n",
       "      <td>regulhk</td>\n",
       "      <td>0.500000</td>\n",
       "    </tr>\n",
       "    <tr>\n",
       "      <th>hk27</th>\n",
       "      <td>hk27</td>\n",
       "      <td>1.0 * log(hk27) =   6.989700E-01</td>\n",
       "      <td>regulhk</td>\n",
       "      <td>0.500000</td>\n",
       "    </tr>\n",
       "    <tr>\n",
       "      <th>hk28</th>\n",
       "      <td>hk28</td>\n",
       "      <td>1.0 * log(hk28) =   6.989700E-01</td>\n",
       "      <td>regulhk</td>\n",
       "      <td>0.500000</td>\n",
       "    </tr>\n",
       "    <tr>\n",
       "      <th>hk29</th>\n",
       "      <td>hk29</td>\n",
       "      <td>1.0 * log(hk29) =   6.989700E-01</td>\n",
       "      <td>regulhk</td>\n",
       "      <td>0.500000</td>\n",
       "    </tr>\n",
       "    <tr>\n",
       "      <th>hk30</th>\n",
       "      <td>hk30</td>\n",
       "      <td>1.0 * log(hk30) =   6.989700E-01</td>\n",
       "      <td>regulhk</td>\n",
       "      <td>0.500000</td>\n",
       "    </tr>\n",
       "    <tr>\n",
       "      <th>hk31</th>\n",
       "      <td>hk31</td>\n",
       "      <td>1.0 * log(hk31) =   6.989700E-01</td>\n",
       "      <td>regulhk</td>\n",
       "      <td>0.500000</td>\n",
       "    </tr>\n",
       "    <tr>\n",
       "      <th>porosity</th>\n",
       "      <td>porosity</td>\n",
       "      <td>1.0 * log(porosity) =  -2.000000E+00</td>\n",
       "      <td>regulporosit</td>\n",
       "      <td>1.660964</td>\n",
       "    </tr>\n",
       "    <tr>\n",
       "      <th>rch_0</th>\n",
       "      <td>rch_0</td>\n",
       "      <td>1.0 * log(rch_0) =   0.000000E+00</td>\n",
       "      <td>regulrch</td>\n",
       "      <td>1.660964</td>\n",
       "    </tr>\n",
       "    <tr>\n",
       "      <th>rch_1</th>\n",
       "      <td>rch_1</td>\n",
       "      <td>1.0 * log(rch_1) =   0.000000E+00</td>\n",
       "      <td>regulrch</td>\n",
       "      <td>0.926628</td>\n",
       "    </tr>\n",
       "    <tr>\n",
       "      <th>sfr</th>\n",
       "      <td>sfr</td>\n",
       "      <td>1.0 * log(sfr) =  -1.000000E+00</td>\n",
       "      <td>regulsfr</td>\n",
       "      <td>0.333333</td>\n",
       "    </tr>\n",
       "    <tr>\n",
       "      <th>w0_r09_c16</th>\n",
       "      <td>w0_r09_c16</td>\n",
       "      <td>1.0 * log(w0_r09_c16) =   0.000000E+00</td>\n",
       "      <td>regulw0</td>\n",
       "      <td>1.660964</td>\n",
       "    </tr>\n",
       "    <tr>\n",
       "      <th>w0_r11_c13</th>\n",
       "      <td>w0_r11_c13</td>\n",
       "      <td>1.0 * log(w0_r11_c13) =   0.000000E+00</td>\n",
       "      <td>regulw0</td>\n",
       "      <td>1.660964</td>\n",
       "    </tr>\n",
       "    <tr>\n",
       "      <th>w0_r20_c14</th>\n",
       "      <td>w0_r20_c14</td>\n",
       "      <td>1.0 * log(w0_r20_c14) =   0.000000E+00</td>\n",
       "      <td>regulw0</td>\n",
       "      <td>1.660964</td>\n",
       "    </tr>\n",
       "    <tr>\n",
       "      <th>w0_r26_c10</th>\n",
       "      <td>w0_r26_c10</td>\n",
       "      <td>1.0 * log(w0_r26_c10) =   0.000000E+00</td>\n",
       "      <td>regulw0</td>\n",
       "      <td>1.660964</td>\n",
       "    </tr>\n",
       "    <tr>\n",
       "      <th>w0_r29_c06</th>\n",
       "      <td>w0_r29_c06</td>\n",
       "      <td>1.0 * log(w0_r29_c06) =   0.000000E+00</td>\n",
       "      <td>regulw0</td>\n",
       "      <td>1.660964</td>\n",
       "    </tr>\n",
       "    <tr>\n",
       "      <th>w0_r34_c12</th>\n",
       "      <td>w0_r34_c12</td>\n",
       "      <td>1.0 * log(w0_r34_c12) =   0.000000E+00</td>\n",
       "      <td>regulw0</td>\n",
       "      <td>1.660964</td>\n",
       "    </tr>\n",
       "    <tr>\n",
       "      <th>w1_r09_c16</th>\n",
       "      <td>w1_r09_c16</td>\n",
       "      <td>1.0 * log(w1_r09_c16) =   0.000000E+00</td>\n",
       "      <td>regulw1</td>\n",
       "      <td>0.500000</td>\n",
       "    </tr>\n",
       "    <tr>\n",
       "      <th>w1_r11_c13</th>\n",
       "      <td>w1_r11_c13</td>\n",
       "      <td>1.0 * log(w1_r11_c13) =   0.000000E+00</td>\n",
       "      <td>regulw1</td>\n",
       "      <td>0.500000</td>\n",
       "    </tr>\n",
       "    <tr>\n",
       "      <th>w1_r20_c14</th>\n",
       "      <td>w1_r20_c14</td>\n",
       "      <td>1.0 * log(w1_r20_c14) =   0.000000E+00</td>\n",
       "      <td>regulw1</td>\n",
       "      <td>0.500000</td>\n",
       "    </tr>\n",
       "    <tr>\n",
       "      <th>w1_r26_c10</th>\n",
       "      <td>w1_r26_c10</td>\n",
       "      <td>1.0 * log(w1_r26_c10) =   0.000000E+00</td>\n",
       "      <td>regulw1</td>\n",
       "      <td>0.500000</td>\n",
       "    </tr>\n",
       "    <tr>\n",
       "      <th>w1_r29_c06</th>\n",
       "      <td>w1_r29_c06</td>\n",
       "      <td>1.0 * log(w1_r29_c06) =   0.000000E+00</td>\n",
       "      <td>regulw1</td>\n",
       "      <td>0.500000</td>\n",
       "    </tr>\n",
       "    <tr>\n",
       "      <th>w1_r34_c12</th>\n",
       "      <td>w1_r34_c12</td>\n",
       "      <td>1.0 * log(w1_r34_c12) =   0.000000E+00</td>\n",
       "      <td>regulw1</td>\n",
       "      <td>0.500000</td>\n",
       "    </tr>\n",
       "  </tbody>\n",
       "</table>\n",
       "</div>"
      ],
      "text/plain": [
       "                 pilbl                                equation        obgnme  \\\n",
       "pilbl                                                                          \n",
       "hk00              hk00        1.0 * log(hk00) =   6.989700E-01       regulhk   \n",
       "hk01              hk01        1.0 * log(hk01) =   6.989700E-01       regulhk   \n",
       "hk02              hk02        1.0 * log(hk02) =   6.989700E-01       regulhk   \n",
       "hk03              hk03        1.0 * log(hk03) =   6.989700E-01       regulhk   \n",
       "hk04              hk04        1.0 * log(hk04) =   6.989700E-01       regulhk   \n",
       "hk05              hk05        1.0 * log(hk05) =   6.989700E-01       regulhk   \n",
       "hk06              hk06        1.0 * log(hk06) =   6.989700E-01       regulhk   \n",
       "hk07              hk07        1.0 * log(hk07) =   6.989700E-01       regulhk   \n",
       "hk08              hk08        1.0 * log(hk08) =   6.989700E-01       regulhk   \n",
       "hk09              hk09        1.0 * log(hk09) =   6.989700E-01       regulhk   \n",
       "hk10              hk10        1.0 * log(hk10) =   6.989700E-01       regulhk   \n",
       "hk11              hk11        1.0 * log(hk11) =   6.989700E-01       regulhk   \n",
       "hk12              hk12        1.0 * log(hk12) =   6.989700E-01       regulhk   \n",
       "hk13              hk13        1.0 * log(hk13) =   6.989700E-01       regulhk   \n",
       "hk14              hk14        1.0 * log(hk14) =   6.989700E-01       regulhk   \n",
       "hk15              hk15        1.0 * log(hk15) =   6.989700E-01       regulhk   \n",
       "hk16              hk16        1.0 * log(hk16) =   6.989700E-01       regulhk   \n",
       "hk17              hk17        1.0 * log(hk17) =   6.989700E-01       regulhk   \n",
       "hk18              hk18        1.0 * log(hk18) =   6.989700E-01       regulhk   \n",
       "hk19              hk19        1.0 * log(hk19) =   6.989700E-01       regulhk   \n",
       "hk20              hk20        1.0 * log(hk20) =   6.989700E-01       regulhk   \n",
       "hk21              hk21        1.0 * log(hk21) =   6.989700E-01       regulhk   \n",
       "hk22              hk22        1.0 * log(hk22) =   6.989700E-01       regulhk   \n",
       "hk23              hk23        1.0 * log(hk23) =   6.989700E-01       regulhk   \n",
       "hk24              hk24        1.0 * log(hk24) =   6.989700E-01       regulhk   \n",
       "hk25              hk25        1.0 * log(hk25) =   6.989700E-01       regulhk   \n",
       "hk26              hk26        1.0 * log(hk26) =   6.989700E-01       regulhk   \n",
       "hk27              hk27        1.0 * log(hk27) =   6.989700E-01       regulhk   \n",
       "hk28              hk28        1.0 * log(hk28) =   6.989700E-01       regulhk   \n",
       "hk29              hk29        1.0 * log(hk29) =   6.989700E-01       regulhk   \n",
       "hk30              hk30        1.0 * log(hk30) =   6.989700E-01       regulhk   \n",
       "hk31              hk31        1.0 * log(hk31) =   6.989700E-01       regulhk   \n",
       "porosity      porosity    1.0 * log(porosity) =  -2.000000E+00  regulporosit   \n",
       "rch_0            rch_0       1.0 * log(rch_0) =   0.000000E+00      regulrch   \n",
       "rch_1            rch_1       1.0 * log(rch_1) =   0.000000E+00      regulrch   \n",
       "sfr                sfr         1.0 * log(sfr) =  -1.000000E+00      regulsfr   \n",
       "w0_r09_c16  w0_r09_c16  1.0 * log(w0_r09_c16) =   0.000000E+00       regulw0   \n",
       "w0_r11_c13  w0_r11_c13  1.0 * log(w0_r11_c13) =   0.000000E+00       regulw0   \n",
       "w0_r20_c14  w0_r20_c14  1.0 * log(w0_r20_c14) =   0.000000E+00       regulw0   \n",
       "w0_r26_c10  w0_r26_c10  1.0 * log(w0_r26_c10) =   0.000000E+00       regulw0   \n",
       "w0_r29_c06  w0_r29_c06  1.0 * log(w0_r29_c06) =   0.000000E+00       regulw0   \n",
       "w0_r34_c12  w0_r34_c12  1.0 * log(w0_r34_c12) =   0.000000E+00       regulw0   \n",
       "w1_r09_c16  w1_r09_c16  1.0 * log(w1_r09_c16) =   0.000000E+00       regulw1   \n",
       "w1_r11_c13  w1_r11_c13  1.0 * log(w1_r11_c13) =   0.000000E+00       regulw1   \n",
       "w1_r20_c14  w1_r20_c14  1.0 * log(w1_r20_c14) =   0.000000E+00       regulw1   \n",
       "w1_r26_c10  w1_r26_c10  1.0 * log(w1_r26_c10) =   0.000000E+00       regulw1   \n",
       "w1_r29_c06  w1_r29_c06  1.0 * log(w1_r29_c06) =   0.000000E+00       regulw1   \n",
       "w1_r34_c12  w1_r34_c12  1.0 * log(w1_r34_c12) =   0.000000E+00       regulw1   \n",
       "\n",
       "              weight  \n",
       "pilbl                 \n",
       "hk00        0.500000  \n",
       "hk01        0.500000  \n",
       "hk02        0.500000  \n",
       "hk03        0.500000  \n",
       "hk04        0.500000  \n",
       "hk05        0.500000  \n",
       "hk06        0.500000  \n",
       "hk07        0.500000  \n",
       "hk08        0.500000  \n",
       "hk09        0.500000  \n",
       "hk10        0.500000  \n",
       "hk11        0.500000  \n",
       "hk12        0.500000  \n",
       "hk13        0.500000  \n",
       "hk14        0.500000  \n",
       "hk15        0.500000  \n",
       "hk16        0.500000  \n",
       "hk17        0.500000  \n",
       "hk18        0.500000  \n",
       "hk19        0.500000  \n",
       "hk20        0.500000  \n",
       "hk21        0.500000  \n",
       "hk22        0.500000  \n",
       "hk23        0.500000  \n",
       "hk24        0.500000  \n",
       "hk25        0.500000  \n",
       "hk26        0.500000  \n",
       "hk27        0.500000  \n",
       "hk28        0.500000  \n",
       "hk29        0.500000  \n",
       "hk30        0.500000  \n",
       "hk31        0.500000  \n",
       "porosity    1.660964  \n",
       "rch_0       1.660964  \n",
       "rch_1       0.926628  \n",
       "sfr         0.333333  \n",
       "w0_r09_c16  1.660964  \n",
       "w0_r11_c13  1.660964  \n",
       "w0_r20_c14  1.660964  \n",
       "w0_r26_c10  1.660964  \n",
       "w0_r29_c06  1.660964  \n",
       "w0_r34_c12  1.660964  \n",
       "w1_r09_c16  0.500000  \n",
       "w1_r11_c13  0.500000  \n",
       "w1_r20_c14  0.500000  \n",
       "w1_r26_c10  0.500000  \n",
       "w1_r29_c06  0.500000  \n",
       "w1_r34_c12  0.500000  "
      ]
     },
     "execution_count": 44,
     "metadata": {},
     "output_type": "execute_result"
    }
   ],
   "source": [
    "pst.prior_information"
   ]
  },
  {
   "cell_type": "markdown",
   "metadata": {},
   "source": [
    "Now we are really preferring recharge not to change...good!\n",
    "\n",
    "So what about preferred difference regularization?  Well pyemu can do that too.  Remember that ``Cov``ariance matrix we built above? It expresses the spatial relationship between pilot points, so we use to setup these prior information equations:"
   ]
  },
  {
   "cell_type": "code",
   "execution_count": 45,
   "metadata": {},
   "outputs": [
    {
     "name": "stdout",
     "output_type": "stream",
     "text": [
      "getting CC matrix\n"
     ]
    },
    {
     "ename": "Exception",
     "evalue": "Matrix.indices(): name not found: porosity",
     "output_type": "error",
     "traceback": [
      "\u001b[1;31m---------------------------------------------------------------------------\u001b[0m",
      "\u001b[1;31mException\u001b[0m                                 Traceback (most recent call last)",
      "\u001b[1;32m<ipython-input-45-d38f4e02df3b>\u001b[0m in \u001b[0;36m<module>\u001b[1;34m\u001b[0m\n\u001b[1;32m----> 1\u001b[1;33m \u001b[0mpyemu\u001b[0m\u001b[1;33m.\u001b[0m\u001b[0mhelpers\u001b[0m\u001b[1;33m.\u001b[0m\u001b[0mfirst_order_pearson_tikhonov\u001b[0m\u001b[1;33m(\u001b[0m\u001b[0mpst\u001b[0m\u001b[1;33m,\u001b[0m\u001b[0mcov\u001b[0m\u001b[1;33m)\u001b[0m\u001b[1;33m\u001b[0m\u001b[1;33m\u001b[0m\u001b[0m\n\u001b[0m",
      "\u001b[1;32m~\\AppData\\Local\\Continuum\\anaconda3\\lib\\site-packages\\pyemu\\utils\\helpers.py\u001b[0m in \u001b[0;36mfirst_order_pearson_tikhonov\u001b[1;34m(pst, cov, reset, abs_drop_tol)\u001b[0m\n\u001b[0;32m    945\u001b[0m     \u001b[1;32massert\u001b[0m \u001b[0misinstance\u001b[0m\u001b[1;33m(\u001b[0m\u001b[0mcov\u001b[0m\u001b[1;33m,\u001b[0m\u001b[0mpyemu\u001b[0m\u001b[1;33m.\u001b[0m\u001b[0mCov\u001b[0m\u001b[1;33m)\u001b[0m\u001b[1;33m\u001b[0m\u001b[1;33m\u001b[0m\u001b[0m\n\u001b[0;32m    946\u001b[0m     \u001b[0mprint\u001b[0m\u001b[1;33m(\u001b[0m\u001b[1;34m\"getting CC matrix\"\u001b[0m\u001b[1;33m)\u001b[0m\u001b[1;33m\u001b[0m\u001b[1;33m\u001b[0m\u001b[0m\n\u001b[1;32m--> 947\u001b[1;33m     \u001b[0mcc_mat\u001b[0m \u001b[1;33m=\u001b[0m \u001b[0mcov\u001b[0m\u001b[1;33m.\u001b[0m\u001b[0mget\u001b[0m\u001b[1;33m(\u001b[0m\u001b[0mpst\u001b[0m\u001b[1;33m.\u001b[0m\u001b[0madj_par_names\u001b[0m\u001b[1;33m)\u001b[0m\u001b[1;33m.\u001b[0m\u001b[0mto_pearson\u001b[0m\u001b[1;33m(\u001b[0m\u001b[1;33m)\u001b[0m\u001b[1;33m\u001b[0m\u001b[1;33m\u001b[0m\u001b[0m\n\u001b[0m\u001b[0;32m    948\u001b[0m     \u001b[1;31m#print(pst.parameter_data.dtypes)\u001b[0m\u001b[1;33m\u001b[0m\u001b[1;33m\u001b[0m\u001b[1;33m\u001b[0m\u001b[0m\n\u001b[0;32m    949\u001b[0m     \u001b[1;32mtry\u001b[0m\u001b[1;33m:\u001b[0m\u001b[1;33m\u001b[0m\u001b[1;33m\u001b[0m\u001b[0m\n",
      "\u001b[1;32m~\\AppData\\Local\\Continuum\\anaconda3\\lib\\site-packages\\pyemu\\mat\\mat_handler.py\u001b[0m in \u001b[0;36mget\u001b[1;34m(self, row_names, col_names, drop)\u001b[0m\n\u001b[0;32m   1349\u001b[0m         \u001b[1;32mif\u001b[0m \u001b[0misinstance\u001b[0m\u001b[1;33m(\u001b[0m\u001b[0mself\u001b[0m\u001b[1;33m,\u001b[0m\u001b[0mCov\u001b[0m\u001b[1;33m)\u001b[0m \u001b[1;32mand\u001b[0m \u001b[1;33m(\u001b[0m\u001b[0mrow_names\u001b[0m \u001b[1;32mis\u001b[0m \u001b[1;32mNone\u001b[0m \u001b[1;32mor\u001b[0m \u001b[0mcol_names\u001b[0m \u001b[1;32mis\u001b[0m \u001b[1;32mNone\u001b[0m \u001b[1;33m)\u001b[0m\u001b[1;33m:\u001b[0m\u001b[1;33m\u001b[0m\u001b[1;33m\u001b[0m\u001b[0m\n\u001b[0;32m   1350\u001b[0m             \u001b[1;32mif\u001b[0m \u001b[0mrow_names\u001b[0m \u001b[1;32mis\u001b[0m \u001b[1;32mnot\u001b[0m \u001b[1;32mNone\u001b[0m\u001b[1;33m:\u001b[0m\u001b[1;33m\u001b[0m\u001b[1;33m\u001b[0m\u001b[0m\n\u001b[1;32m-> 1351\u001b[1;33m                 \u001b[0midxs\u001b[0m \u001b[1;33m=\u001b[0m \u001b[0mself\u001b[0m\u001b[1;33m.\u001b[0m\u001b[0mindices\u001b[0m\u001b[1;33m(\u001b[0m\u001b[0mrow_names\u001b[0m\u001b[1;33m,\u001b[0m \u001b[0maxis\u001b[0m\u001b[1;33m=\u001b[0m\u001b[1;36m0\u001b[0m\u001b[1;33m)\u001b[0m\u001b[1;33m\u001b[0m\u001b[1;33m\u001b[0m\u001b[0m\n\u001b[0m\u001b[0;32m   1352\u001b[0m                 \u001b[0mnames\u001b[0m \u001b[1;33m=\u001b[0m \u001b[0mrow_names\u001b[0m\u001b[1;33m\u001b[0m\u001b[1;33m\u001b[0m\u001b[0m\n\u001b[0;32m   1353\u001b[0m             \u001b[1;32melse\u001b[0m\u001b[1;33m:\u001b[0m\u001b[1;33m\u001b[0m\u001b[1;33m\u001b[0m\u001b[0m\n",
      "\u001b[1;32m~\\AppData\\Local\\Continuum\\anaconda3\\lib\\site-packages\\pyemu\\mat\\mat_handler.py\u001b[0m in \u001b[0;36mindices\u001b[1;34m(self, names, axis)\u001b[0m\n\u001b[0;32m   1222\u001b[0m \u001b[1;33m\u001b[0m\u001b[0m\n\u001b[0;32m   1223\u001b[0m         \"\"\"\n\u001b[1;32m-> 1224\u001b[1;33m         \u001b[1;32mreturn\u001b[0m \u001b[0mMatrix\u001b[0m\u001b[1;33m.\u001b[0m\u001b[0mfind_rowcol_indices\u001b[0m\u001b[1;33m(\u001b[0m\u001b[0mnames\u001b[0m\u001b[1;33m,\u001b[0m\u001b[0mself\u001b[0m\u001b[1;33m.\u001b[0m\u001b[0mrow_names\u001b[0m\u001b[1;33m,\u001b[0m\u001b[0mself\u001b[0m\u001b[1;33m.\u001b[0m\u001b[0mcol_names\u001b[0m\u001b[1;33m,\u001b[0m\u001b[0maxis\u001b[0m\u001b[1;33m=\u001b[0m\u001b[0maxis\u001b[0m\u001b[1;33m)\u001b[0m\u001b[1;33m\u001b[0m\u001b[1;33m\u001b[0m\u001b[0m\n\u001b[0m\u001b[0;32m   1225\u001b[0m \u001b[1;33m\u001b[0m\u001b[0m\n\u001b[0;32m   1226\u001b[0m \u001b[1;33m\u001b[0m\u001b[0m\n",
      "\u001b[1;32m~\\AppData\\Local\\Continuum\\anaconda3\\lib\\site-packages\\pyemu\\mat\\mat_handler.py\u001b[0m in \u001b[0;36mfind_rowcol_indices\u001b[1;34m(names, row_names, col_names, axis)\u001b[0m\n\u001b[0;32m   1183\u001b[0m             \u001b[1;32mif\u001b[0m \u001b[0mname\u001b[0m \u001b[1;32mnot\u001b[0m \u001b[1;32min\u001b[0m \u001b[0mscol\u001b[0m\u001b[0;31m \u001b[0m\u001b[0;31m\\\u001b[0m\u001b[1;33m\u001b[0m\u001b[1;33m\u001b[0m\u001b[0m\n\u001b[0;32m   1184\u001b[0m                     \u001b[1;32mand\u001b[0m \u001b[0mname\u001b[0m \u001b[1;32mnot\u001b[0m \u001b[1;32min\u001b[0m \u001b[0msrow\u001b[0m\u001b[1;33m:\u001b[0m\u001b[1;33m\u001b[0m\u001b[1;33m\u001b[0m\u001b[0m\n\u001b[1;32m-> 1185\u001b[1;33m                 \u001b[1;32mraise\u001b[0m \u001b[0mException\u001b[0m\u001b[1;33m(\u001b[0m\u001b[1;34m'Matrix.indices(): name not found: '\u001b[0m \u001b[1;33m+\u001b[0m \u001b[0mname\u001b[0m\u001b[1;33m)\u001b[0m\u001b[1;33m\u001b[0m\u001b[1;33m\u001b[0m\u001b[0m\n\u001b[0m\u001b[0;32m   1186\u001b[0m             \u001b[1;32mif\u001b[0m \u001b[0mname\u001b[0m \u001b[1;32min\u001b[0m \u001b[0mscol\u001b[0m\u001b[1;33m:\u001b[0m\u001b[1;33m\u001b[0m\u001b[1;33m\u001b[0m\u001b[0m\n\u001b[0;32m   1187\u001b[0m                 \u001b[0mcol_idxs\u001b[0m\u001b[1;33m.\u001b[0m\u001b[0mappend\u001b[0m\u001b[1;33m(\u001b[0m\u001b[0mself_col_idxs\u001b[0m\u001b[1;33m[\u001b[0m\u001b[0mname\u001b[0m\u001b[1;33m]\u001b[0m\u001b[1;33m)\u001b[0m\u001b[1;33m\u001b[0m\u001b[1;33m\u001b[0m\u001b[0m\n",
      "\u001b[1;31mException\u001b[0m: Matrix.indices(): name not found: porosity"
     ]
    }
   ],
   "source": [
    "pyemu.helpers.first_order_pearson_tikhonov(pst,cov)"
   ]
  },
  {
   "cell_type": "code",
   "execution_count": 46,
   "metadata": {},
   "outputs": [
    {
     "data": {
      "text/html": [
       "<div>\n",
       "<style scoped>\n",
       "    .dataframe tbody tr th:only-of-type {\n",
       "        vertical-align: middle;\n",
       "    }\n",
       "\n",
       "    .dataframe tbody tr th {\n",
       "        vertical-align: top;\n",
       "    }\n",
       "\n",
       "    .dataframe thead th {\n",
       "        text-align: right;\n",
       "    }\n",
       "</style>\n",
       "<table border=\"1\" class=\"dataframe\">\n",
       "  <thead>\n",
       "    <tr style=\"text-align: right;\">\n",
       "      <th></th>\n",
       "      <th>pilbl</th>\n",
       "      <th>equation</th>\n",
       "      <th>obgnme</th>\n",
       "      <th>weight</th>\n",
       "    </tr>\n",
       "    <tr>\n",
       "      <th>pilbl</th>\n",
       "      <th></th>\n",
       "      <th></th>\n",
       "      <th></th>\n",
       "      <th></th>\n",
       "    </tr>\n",
       "  </thead>\n",
       "  <tbody>\n",
       "    <tr>\n",
       "      <th>hk00</th>\n",
       "      <td>hk00</td>\n",
       "      <td>1.0 * log(hk00) =   6.989700E-01</td>\n",
       "      <td>regulhk</td>\n",
       "      <td>0.500000</td>\n",
       "    </tr>\n",
       "    <tr>\n",
       "      <th>hk01</th>\n",
       "      <td>hk01</td>\n",
       "      <td>1.0 * log(hk01) =   6.989700E-01</td>\n",
       "      <td>regulhk</td>\n",
       "      <td>0.500000</td>\n",
       "    </tr>\n",
       "    <tr>\n",
       "      <th>hk02</th>\n",
       "      <td>hk02</td>\n",
       "      <td>1.0 * log(hk02) =   6.989700E-01</td>\n",
       "      <td>regulhk</td>\n",
       "      <td>0.500000</td>\n",
       "    </tr>\n",
       "    <tr>\n",
       "      <th>hk03</th>\n",
       "      <td>hk03</td>\n",
       "      <td>1.0 * log(hk03) =   6.989700E-01</td>\n",
       "      <td>regulhk</td>\n",
       "      <td>0.500000</td>\n",
       "    </tr>\n",
       "    <tr>\n",
       "      <th>hk04</th>\n",
       "      <td>hk04</td>\n",
       "      <td>1.0 * log(hk04) =   6.989700E-01</td>\n",
       "      <td>regulhk</td>\n",
       "      <td>0.500000</td>\n",
       "    </tr>\n",
       "    <tr>\n",
       "      <th>hk05</th>\n",
       "      <td>hk05</td>\n",
       "      <td>1.0 * log(hk05) =   6.989700E-01</td>\n",
       "      <td>regulhk</td>\n",
       "      <td>0.500000</td>\n",
       "    </tr>\n",
       "    <tr>\n",
       "      <th>hk06</th>\n",
       "      <td>hk06</td>\n",
       "      <td>1.0 * log(hk06) =   6.989700E-01</td>\n",
       "      <td>regulhk</td>\n",
       "      <td>0.500000</td>\n",
       "    </tr>\n",
       "    <tr>\n",
       "      <th>hk07</th>\n",
       "      <td>hk07</td>\n",
       "      <td>1.0 * log(hk07) =   6.989700E-01</td>\n",
       "      <td>regulhk</td>\n",
       "      <td>0.500000</td>\n",
       "    </tr>\n",
       "    <tr>\n",
       "      <th>hk08</th>\n",
       "      <td>hk08</td>\n",
       "      <td>1.0 * log(hk08) =   6.989700E-01</td>\n",
       "      <td>regulhk</td>\n",
       "      <td>0.500000</td>\n",
       "    </tr>\n",
       "    <tr>\n",
       "      <th>hk09</th>\n",
       "      <td>hk09</td>\n",
       "      <td>1.0 * log(hk09) =   6.989700E-01</td>\n",
       "      <td>regulhk</td>\n",
       "      <td>0.500000</td>\n",
       "    </tr>\n",
       "    <tr>\n",
       "      <th>hk10</th>\n",
       "      <td>hk10</td>\n",
       "      <td>1.0 * log(hk10) =   6.989700E-01</td>\n",
       "      <td>regulhk</td>\n",
       "      <td>0.500000</td>\n",
       "    </tr>\n",
       "    <tr>\n",
       "      <th>hk11</th>\n",
       "      <td>hk11</td>\n",
       "      <td>1.0 * log(hk11) =   6.989700E-01</td>\n",
       "      <td>regulhk</td>\n",
       "      <td>0.500000</td>\n",
       "    </tr>\n",
       "    <tr>\n",
       "      <th>hk12</th>\n",
       "      <td>hk12</td>\n",
       "      <td>1.0 * log(hk12) =   6.989700E-01</td>\n",
       "      <td>regulhk</td>\n",
       "      <td>0.500000</td>\n",
       "    </tr>\n",
       "    <tr>\n",
       "      <th>hk13</th>\n",
       "      <td>hk13</td>\n",
       "      <td>1.0 * log(hk13) =   6.989700E-01</td>\n",
       "      <td>regulhk</td>\n",
       "      <td>0.500000</td>\n",
       "    </tr>\n",
       "    <tr>\n",
       "      <th>hk14</th>\n",
       "      <td>hk14</td>\n",
       "      <td>1.0 * log(hk14) =   6.989700E-01</td>\n",
       "      <td>regulhk</td>\n",
       "      <td>0.500000</td>\n",
       "    </tr>\n",
       "    <tr>\n",
       "      <th>hk15</th>\n",
       "      <td>hk15</td>\n",
       "      <td>1.0 * log(hk15) =   6.989700E-01</td>\n",
       "      <td>regulhk</td>\n",
       "      <td>0.500000</td>\n",
       "    </tr>\n",
       "    <tr>\n",
       "      <th>hk16</th>\n",
       "      <td>hk16</td>\n",
       "      <td>1.0 * log(hk16) =   6.989700E-01</td>\n",
       "      <td>regulhk</td>\n",
       "      <td>0.500000</td>\n",
       "    </tr>\n",
       "    <tr>\n",
       "      <th>hk17</th>\n",
       "      <td>hk17</td>\n",
       "      <td>1.0 * log(hk17) =   6.989700E-01</td>\n",
       "      <td>regulhk</td>\n",
       "      <td>0.500000</td>\n",
       "    </tr>\n",
       "    <tr>\n",
       "      <th>hk18</th>\n",
       "      <td>hk18</td>\n",
       "      <td>1.0 * log(hk18) =   6.989700E-01</td>\n",
       "      <td>regulhk</td>\n",
       "      <td>0.500000</td>\n",
       "    </tr>\n",
       "    <tr>\n",
       "      <th>hk19</th>\n",
       "      <td>hk19</td>\n",
       "      <td>1.0 * log(hk19) =   6.989700E-01</td>\n",
       "      <td>regulhk</td>\n",
       "      <td>0.500000</td>\n",
       "    </tr>\n",
       "    <tr>\n",
       "      <th>hk20</th>\n",
       "      <td>hk20</td>\n",
       "      <td>1.0 * log(hk20) =   6.989700E-01</td>\n",
       "      <td>regulhk</td>\n",
       "      <td>0.500000</td>\n",
       "    </tr>\n",
       "    <tr>\n",
       "      <th>hk21</th>\n",
       "      <td>hk21</td>\n",
       "      <td>1.0 * log(hk21) =   6.989700E-01</td>\n",
       "      <td>regulhk</td>\n",
       "      <td>0.500000</td>\n",
       "    </tr>\n",
       "    <tr>\n",
       "      <th>hk22</th>\n",
       "      <td>hk22</td>\n",
       "      <td>1.0 * log(hk22) =   6.989700E-01</td>\n",
       "      <td>regulhk</td>\n",
       "      <td>0.500000</td>\n",
       "    </tr>\n",
       "    <tr>\n",
       "      <th>hk23</th>\n",
       "      <td>hk23</td>\n",
       "      <td>1.0 * log(hk23) =   6.989700E-01</td>\n",
       "      <td>regulhk</td>\n",
       "      <td>0.500000</td>\n",
       "    </tr>\n",
       "    <tr>\n",
       "      <th>hk24</th>\n",
       "      <td>hk24</td>\n",
       "      <td>1.0 * log(hk24) =   6.989700E-01</td>\n",
       "      <td>regulhk</td>\n",
       "      <td>0.500000</td>\n",
       "    </tr>\n",
       "    <tr>\n",
       "      <th>hk25</th>\n",
       "      <td>hk25</td>\n",
       "      <td>1.0 * log(hk25) =   6.989700E-01</td>\n",
       "      <td>regulhk</td>\n",
       "      <td>0.500000</td>\n",
       "    </tr>\n",
       "    <tr>\n",
       "      <th>hk26</th>\n",
       "      <td>hk26</td>\n",
       "      <td>1.0 * log(hk26) =   6.989700E-01</td>\n",
       "      <td>regulhk</td>\n",
       "      <td>0.500000</td>\n",
       "    </tr>\n",
       "    <tr>\n",
       "      <th>hk27</th>\n",
       "      <td>hk27</td>\n",
       "      <td>1.0 * log(hk27) =   6.989700E-01</td>\n",
       "      <td>regulhk</td>\n",
       "      <td>0.500000</td>\n",
       "    </tr>\n",
       "    <tr>\n",
       "      <th>hk28</th>\n",
       "      <td>hk28</td>\n",
       "      <td>1.0 * log(hk28) =   6.989700E-01</td>\n",
       "      <td>regulhk</td>\n",
       "      <td>0.500000</td>\n",
       "    </tr>\n",
       "    <tr>\n",
       "      <th>hk29</th>\n",
       "      <td>hk29</td>\n",
       "      <td>1.0 * log(hk29) =   6.989700E-01</td>\n",
       "      <td>regulhk</td>\n",
       "      <td>0.500000</td>\n",
       "    </tr>\n",
       "    <tr>\n",
       "      <th>hk30</th>\n",
       "      <td>hk30</td>\n",
       "      <td>1.0 * log(hk30) =   6.989700E-01</td>\n",
       "      <td>regulhk</td>\n",
       "      <td>0.500000</td>\n",
       "    </tr>\n",
       "    <tr>\n",
       "      <th>hk31</th>\n",
       "      <td>hk31</td>\n",
       "      <td>1.0 * log(hk31) =   6.989700E-01</td>\n",
       "      <td>regulhk</td>\n",
       "      <td>0.500000</td>\n",
       "    </tr>\n",
       "    <tr>\n",
       "      <th>porosity</th>\n",
       "      <td>porosity</td>\n",
       "      <td>1.0 * log(porosity) =  -2.000000E+00</td>\n",
       "      <td>regulporosit</td>\n",
       "      <td>1.660964</td>\n",
       "    </tr>\n",
       "    <tr>\n",
       "      <th>rch_0</th>\n",
       "      <td>rch_0</td>\n",
       "      <td>1.0 * log(rch_0) =   0.000000E+00</td>\n",
       "      <td>regulrch</td>\n",
       "      <td>1.660964</td>\n",
       "    </tr>\n",
       "    <tr>\n",
       "      <th>rch_1</th>\n",
       "      <td>rch_1</td>\n",
       "      <td>1.0 * log(rch_1) =   0.000000E+00</td>\n",
       "      <td>regulrch</td>\n",
       "      <td>0.926628</td>\n",
       "    </tr>\n",
       "    <tr>\n",
       "      <th>sfr</th>\n",
       "      <td>sfr</td>\n",
       "      <td>1.0 * log(sfr) =  -1.000000E+00</td>\n",
       "      <td>regulsfr</td>\n",
       "      <td>0.333333</td>\n",
       "    </tr>\n",
       "    <tr>\n",
       "      <th>w0_r09_c16</th>\n",
       "      <td>w0_r09_c16</td>\n",
       "      <td>1.0 * log(w0_r09_c16) =   0.000000E+00</td>\n",
       "      <td>regulw0</td>\n",
       "      <td>1.660964</td>\n",
       "    </tr>\n",
       "    <tr>\n",
       "      <th>w0_r11_c13</th>\n",
       "      <td>w0_r11_c13</td>\n",
       "      <td>1.0 * log(w0_r11_c13) =   0.000000E+00</td>\n",
       "      <td>regulw0</td>\n",
       "      <td>1.660964</td>\n",
       "    </tr>\n",
       "    <tr>\n",
       "      <th>w0_r20_c14</th>\n",
       "      <td>w0_r20_c14</td>\n",
       "      <td>1.0 * log(w0_r20_c14) =   0.000000E+00</td>\n",
       "      <td>regulw0</td>\n",
       "      <td>1.660964</td>\n",
       "    </tr>\n",
       "    <tr>\n",
       "      <th>w0_r26_c10</th>\n",
       "      <td>w0_r26_c10</td>\n",
       "      <td>1.0 * log(w0_r26_c10) =   0.000000E+00</td>\n",
       "      <td>regulw0</td>\n",
       "      <td>1.660964</td>\n",
       "    </tr>\n",
       "    <tr>\n",
       "      <th>w0_r29_c06</th>\n",
       "      <td>w0_r29_c06</td>\n",
       "      <td>1.0 * log(w0_r29_c06) =   0.000000E+00</td>\n",
       "      <td>regulw0</td>\n",
       "      <td>1.660964</td>\n",
       "    </tr>\n",
       "    <tr>\n",
       "      <th>w0_r34_c12</th>\n",
       "      <td>w0_r34_c12</td>\n",
       "      <td>1.0 * log(w0_r34_c12) =   0.000000E+00</td>\n",
       "      <td>regulw0</td>\n",
       "      <td>1.660964</td>\n",
       "    </tr>\n",
       "    <tr>\n",
       "      <th>w1_r09_c16</th>\n",
       "      <td>w1_r09_c16</td>\n",
       "      <td>1.0 * log(w1_r09_c16) =   0.000000E+00</td>\n",
       "      <td>regulw1</td>\n",
       "      <td>0.500000</td>\n",
       "    </tr>\n",
       "    <tr>\n",
       "      <th>w1_r11_c13</th>\n",
       "      <td>w1_r11_c13</td>\n",
       "      <td>1.0 * log(w1_r11_c13) =   0.000000E+00</td>\n",
       "      <td>regulw1</td>\n",
       "      <td>0.500000</td>\n",
       "    </tr>\n",
       "    <tr>\n",
       "      <th>w1_r20_c14</th>\n",
       "      <td>w1_r20_c14</td>\n",
       "      <td>1.0 * log(w1_r20_c14) =   0.000000E+00</td>\n",
       "      <td>regulw1</td>\n",
       "      <td>0.500000</td>\n",
       "    </tr>\n",
       "    <tr>\n",
       "      <th>w1_r26_c10</th>\n",
       "      <td>w1_r26_c10</td>\n",
       "      <td>1.0 * log(w1_r26_c10) =   0.000000E+00</td>\n",
       "      <td>regulw1</td>\n",
       "      <td>0.500000</td>\n",
       "    </tr>\n",
       "    <tr>\n",
       "      <th>w1_r29_c06</th>\n",
       "      <td>w1_r29_c06</td>\n",
       "      <td>1.0 * log(w1_r29_c06) =   0.000000E+00</td>\n",
       "      <td>regulw1</td>\n",
       "      <td>0.500000</td>\n",
       "    </tr>\n",
       "    <tr>\n",
       "      <th>w1_r34_c12</th>\n",
       "      <td>w1_r34_c12</td>\n",
       "      <td>1.0 * log(w1_r34_c12) =   0.000000E+00</td>\n",
       "      <td>regulw1</td>\n",
       "      <td>0.500000</td>\n",
       "    </tr>\n",
       "  </tbody>\n",
       "</table>\n",
       "</div>"
      ],
      "text/plain": [
       "                 pilbl                                equation        obgnme  \\\n",
       "pilbl                                                                          \n",
       "hk00              hk00        1.0 * log(hk00) =   6.989700E-01       regulhk   \n",
       "hk01              hk01        1.0 * log(hk01) =   6.989700E-01       regulhk   \n",
       "hk02              hk02        1.0 * log(hk02) =   6.989700E-01       regulhk   \n",
       "hk03              hk03        1.0 * log(hk03) =   6.989700E-01       regulhk   \n",
       "hk04              hk04        1.0 * log(hk04) =   6.989700E-01       regulhk   \n",
       "hk05              hk05        1.0 * log(hk05) =   6.989700E-01       regulhk   \n",
       "hk06              hk06        1.0 * log(hk06) =   6.989700E-01       regulhk   \n",
       "hk07              hk07        1.0 * log(hk07) =   6.989700E-01       regulhk   \n",
       "hk08              hk08        1.0 * log(hk08) =   6.989700E-01       regulhk   \n",
       "hk09              hk09        1.0 * log(hk09) =   6.989700E-01       regulhk   \n",
       "hk10              hk10        1.0 * log(hk10) =   6.989700E-01       regulhk   \n",
       "hk11              hk11        1.0 * log(hk11) =   6.989700E-01       regulhk   \n",
       "hk12              hk12        1.0 * log(hk12) =   6.989700E-01       regulhk   \n",
       "hk13              hk13        1.0 * log(hk13) =   6.989700E-01       regulhk   \n",
       "hk14              hk14        1.0 * log(hk14) =   6.989700E-01       regulhk   \n",
       "hk15              hk15        1.0 * log(hk15) =   6.989700E-01       regulhk   \n",
       "hk16              hk16        1.0 * log(hk16) =   6.989700E-01       regulhk   \n",
       "hk17              hk17        1.0 * log(hk17) =   6.989700E-01       regulhk   \n",
       "hk18              hk18        1.0 * log(hk18) =   6.989700E-01       regulhk   \n",
       "hk19              hk19        1.0 * log(hk19) =   6.989700E-01       regulhk   \n",
       "hk20              hk20        1.0 * log(hk20) =   6.989700E-01       regulhk   \n",
       "hk21              hk21        1.0 * log(hk21) =   6.989700E-01       regulhk   \n",
       "hk22              hk22        1.0 * log(hk22) =   6.989700E-01       regulhk   \n",
       "hk23              hk23        1.0 * log(hk23) =   6.989700E-01       regulhk   \n",
       "hk24              hk24        1.0 * log(hk24) =   6.989700E-01       regulhk   \n",
       "hk25              hk25        1.0 * log(hk25) =   6.989700E-01       regulhk   \n",
       "hk26              hk26        1.0 * log(hk26) =   6.989700E-01       regulhk   \n",
       "hk27              hk27        1.0 * log(hk27) =   6.989700E-01       regulhk   \n",
       "hk28              hk28        1.0 * log(hk28) =   6.989700E-01       regulhk   \n",
       "hk29              hk29        1.0 * log(hk29) =   6.989700E-01       regulhk   \n",
       "hk30              hk30        1.0 * log(hk30) =   6.989700E-01       regulhk   \n",
       "hk31              hk31        1.0 * log(hk31) =   6.989700E-01       regulhk   \n",
       "porosity      porosity    1.0 * log(porosity) =  -2.000000E+00  regulporosit   \n",
       "rch_0            rch_0       1.0 * log(rch_0) =   0.000000E+00      regulrch   \n",
       "rch_1            rch_1       1.0 * log(rch_1) =   0.000000E+00      regulrch   \n",
       "sfr                sfr         1.0 * log(sfr) =  -1.000000E+00      regulsfr   \n",
       "w0_r09_c16  w0_r09_c16  1.0 * log(w0_r09_c16) =   0.000000E+00       regulw0   \n",
       "w0_r11_c13  w0_r11_c13  1.0 * log(w0_r11_c13) =   0.000000E+00       regulw0   \n",
       "w0_r20_c14  w0_r20_c14  1.0 * log(w0_r20_c14) =   0.000000E+00       regulw0   \n",
       "w0_r26_c10  w0_r26_c10  1.0 * log(w0_r26_c10) =   0.000000E+00       regulw0   \n",
       "w0_r29_c06  w0_r29_c06  1.0 * log(w0_r29_c06) =   0.000000E+00       regulw0   \n",
       "w0_r34_c12  w0_r34_c12  1.0 * log(w0_r34_c12) =   0.000000E+00       regulw0   \n",
       "w1_r09_c16  w1_r09_c16  1.0 * log(w1_r09_c16) =   0.000000E+00       regulw1   \n",
       "w1_r11_c13  w1_r11_c13  1.0 * log(w1_r11_c13) =   0.000000E+00       regulw1   \n",
       "w1_r20_c14  w1_r20_c14  1.0 * log(w1_r20_c14) =   0.000000E+00       regulw1   \n",
       "w1_r26_c10  w1_r26_c10  1.0 * log(w1_r26_c10) =   0.000000E+00       regulw1   \n",
       "w1_r29_c06  w1_r29_c06  1.0 * log(w1_r29_c06) =   0.000000E+00       regulw1   \n",
       "w1_r34_c12  w1_r34_c12  1.0 * log(w1_r34_c12) =   0.000000E+00       regulw1   \n",
       "\n",
       "              weight  \n",
       "pilbl                 \n",
       "hk00        0.500000  \n",
       "hk01        0.500000  \n",
       "hk02        0.500000  \n",
       "hk03        0.500000  \n",
       "hk04        0.500000  \n",
       "hk05        0.500000  \n",
       "hk06        0.500000  \n",
       "hk07        0.500000  \n",
       "hk08        0.500000  \n",
       "hk09        0.500000  \n",
       "hk10        0.500000  \n",
       "hk11        0.500000  \n",
       "hk12        0.500000  \n",
       "hk13        0.500000  \n",
       "hk14        0.500000  \n",
       "hk15        0.500000  \n",
       "hk16        0.500000  \n",
       "hk17        0.500000  \n",
       "hk18        0.500000  \n",
       "hk19        0.500000  \n",
       "hk20        0.500000  \n",
       "hk21        0.500000  \n",
       "hk22        0.500000  \n",
       "hk23        0.500000  \n",
       "hk24        0.500000  \n",
       "hk25        0.500000  \n",
       "hk26        0.500000  \n",
       "hk27        0.500000  \n",
       "hk28        0.500000  \n",
       "hk29        0.500000  \n",
       "hk30        0.500000  \n",
       "hk31        0.500000  \n",
       "porosity    1.660964  \n",
       "rch_0       1.660964  \n",
       "rch_1       0.926628  \n",
       "sfr         0.333333  \n",
       "w0_r09_c16  1.660964  \n",
       "w0_r11_c13  1.660964  \n",
       "w0_r20_c14  1.660964  \n",
       "w0_r26_c10  1.660964  \n",
       "w0_r29_c06  1.660964  \n",
       "w0_r34_c12  1.660964  \n",
       "w1_r09_c16  0.500000  \n",
       "w1_r11_c13  0.500000  \n",
       "w1_r20_c14  0.500000  \n",
       "w1_r26_c10  0.500000  \n",
       "w1_r29_c06  0.500000  \n",
       "w1_r34_c12  0.500000  "
      ]
     },
     "execution_count": 46,
     "metadata": {},
     "output_type": "execute_result"
    }
   ],
   "source": [
    "pst.prior_information"
   ]
  },
  {
   "cell_type": "markdown",
   "metadata": {},
   "source": [
    "What happened?  We replace the preferred value equations with a bunch of new equations.  These equations each include two parameter names and have different weights - can you guess what the weights are?  The weights are the pearson correlation coefficients (CC) between the pilot points (remember those from way back?).  These CC values are calculated from the covariance matrix, which is implied by the geostatistical structure...whew! "
   ]
  },
  {
   "cell_type": "markdown",
   "metadata": {},
   "source": [
    "# For river Bed conductance interpolation"
   ]
  },
  {
   "cell_type": "code",
   "execution_count": 62,
   "metadata": {},
   "outputs": [],
   "source": [
    "# interpolate the pilot point values to the grid\n",
    "riv_cond = pyemu.gw_utils.fac2real(ppf,factors_file=ppf+\".fac\",out_file=None)"
   ]
  },
  {
   "cell_type": "code",
   "execution_count": 64,
   "metadata": {},
   "outputs": [
    {
     "data": {
      "text/plain": [
       "(154, 268)"
      ]
     },
     "execution_count": 64,
     "metadata": {},
     "output_type": "execute_result"
    }
   ],
   "source": [
    "np.shape(riv_cond)"
   ]
  },
  {
   "cell_type": "markdown",
   "metadata": {},
   "source": [
    "## 1. get only river grids"
   ]
  },
  {
   "cell_type": "code",
   "execution_count": 139,
   "metadata": {},
   "outputs": [],
   "source": [
    "df_riv = pd.read_csv(\n",
    "                    shpwd + \"\\\\mf\\\\ss_072519.riv\",\n",
    "                    delim_whitespace=True,\n",
    "                    skiprows=3,\n",
    "#                     usecols=[1,2],\n",
    "                    header=None\n",
    "                    )"
   ]
  },
  {
   "cell_type": "code",
   "execution_count": 136,
   "metadata": {},
   "outputs": [],
   "source": [
    "new_riv_cf = [riv_cond[df_riv.iloc[i, 0], df_riv.iloc[i, 1]] for i in range(len(df_riv))]"
   ]
  },
  {
   "cell_type": "code",
   "execution_count": 137,
   "metadata": {},
   "outputs": [],
   "source": [
    "df_riv.iloc[:, 4] = new_riv_cf\n",
    "df_riv.iloc[:, 4] = df_riv.iloc[:, 4].map(lambda x: '{:.10e}'.format(x))\n",
    "df_riv.iloc[:, 3] = df_riv.iloc[:, 3].map(lambda x: '{:.10e}'.format(x))\n",
    "df_riv.iloc[:, 5] = df_riv.iloc[:, 5].map(lambda x: '{:.10e}'.format(x))"
   ]
  },
  {
   "cell_type": "code",
   "execution_count": null,
   "metadata": {},
   "outputs": [],
   "source": []
  },
  {
   "cell_type": "code",
   "execution_count": 138,
   "metadata": {},
   "outputs": [],
   "source": [
    "with open(os.path.join(shpwd + \"\\\\mf\", \"ss_072519.riv\"), 'w') as f:\n",
    "    f.write(\"# RIV: River package file created on 7/25/2019 by ModelMuse version 4.0.0.0.\" + \"\\n\")\n",
    "    f.write(\"  1467     9 AUXILIARY IFACE # DataSet 2: MXACTC IRIVCB Option\" + \"\\n\")\n",
    "    f.write(\"  1467     0 # Data Set 5: ITMP NP Stress period 1\" + \"\\n\")    \n",
    "    df_riv.to_csv(f, sep='\\t',\n",
    "                  header=False,\n",
    "                  index=False,\n",
    "#                   float_format='%.2f', \n",
    "                  line_terminator='\\n', \n",
    "                  encoding='utf-8')\n"
   ]
  },
  {
   "cell_type": "code",
   "execution_count": null,
   "metadata": {},
   "outputs": [],
   "source": []
  },
  {
   "cell_type": "markdown",
   "metadata": {},
   "source": [
    "# Build instruction files (Streamflow / Watertable)"
   ]
  },
  {
   "cell_type": "markdown",
   "metadata": {},
   "source": [
    "### 1. Streamflow (channel_day.txt)"
   ]
  },
  {
   "cell_type": "code",
   "execution_count": 68,
   "metadata": {},
   "outputs": [],
   "source": [
    "import csv\n",
    "\n",
    "wd2 = \"D:\\\\Projects\\\\MiddleBosque\\\\Analysis\\\\SWAT+MODFLOW Model_middle_bosque\"\n",
    "df_str = pd.read_csv(\n",
    "                    wd2 + \"\\\\channel_day - Copy.txt\",\n",
    "                    delim_whitespace=True,\n",
    "                    skiprows=3,\n",
    "#                     usecols=[1,2],\n",
    "                    header=None\n",
    "                    )\n",
    "test = []\n",
    "for i in range(len(df_str)):\n",
    "    if df_str.iloc[i, 6] == 'cha53':\n",
    "        a = 'l1 w w w w w w w w w '\n",
    "        b = '!str_{}{:02d}{:02d}!'.format(df_str.iloc[i, 3], df_str.iloc[i, 1], df_str.iloc[i, 2])\n",
    "        test.append(a+b)\n",
    "    else:\n",
    "        a = 'l1'\n",
    "        test.append(a)\n",
    "\n",
    "\n",
    "with open('str.ins', \"w\", newline='') as f:\n",
    "    f.write(\"pif ~\" + \"\\n\")  \n",
    "    writer = csv.writer(f)\n",
    "    for row in test:\n",
    "        writer.writerow([row])\n"
   ]
  },
  {
   "cell_type": "markdown",
   "metadata": {},
   "source": [
    "### 2. Watertable (modflow_cell_obs.txt)"
   ]
  },
  {
   "cell_type": "code",
   "execution_count": 49,
   "metadata": {},
   "outputs": [
    {
     "name": "stdout",
     "output_type": "stream",
     "text": [
      "                   0         1      date   2nd 1st\n",
      "1980-01-01  255.5776  253.4422  19800101  l1 w   w\n",
      "1980-01-02  255.6870  253.5240  19800102  l1 w   w\n",
      "1980-01-03  255.7828  253.5971  19800103  l1 w   w\n",
      "1980-01-04  255.8695  253.6645  19800104  l1 w   w\n",
      "1980-01-05  255.9489  253.7285  19800105  l1 w   w\n",
      "...              ...       ...       ...   ...  ..\n",
      "2005-12-27  263.4627  261.2057  20051227  l1 w   w\n",
      "2005-12-28  263.4421  261.1927  20051228  l1 w   w\n",
      "2005-12-29  263.4519  261.1992  20051229  l1 w   w\n",
      "2005-12-30  263.4284  261.1831  20051230  l1 w   w\n",
      "2005-12-31  263.4290  261.1830  20051231  l1 w   w\n",
      "\n",
      "[9497 rows x 5 columns]\n"
     ]
    },
    {
     "data": {
      "text/plain": [
       "'\\ntest = []\\nfor i in range(len(df_str)):\\n    if df_str.iloc[i, 6] == \\'cha53\\':\\n        a = \\'l1 w w w w w w w w \\'\\n        b = \\'!str_{}{:02d}{:02d}!\\'.format(df_str.iloc[i, 3], df_str.iloc[i, 1], df_str.iloc[i, 2])\\n        test.append(a+b)\\n    else:\\n        a = \\'l1\\'\\n        test.append(a)\\n\\n\\nwith open(\\'str.ins\\', \"w\", newline=\\'\\') as f:\\n    f.write(\"pif ~\" + \"\\n\")  \\n    writer = csv.writer(f)\\n    for row in test:\\n        writer.writerow([row])\\n'"
      ]
     },
     "execution_count": 49,
     "metadata": {},
     "output_type": "execute_result"
    }
   ],
   "source": [
    "import csv\n",
    "import pandas as pd\n",
    "import numpy as np\n",
    "\n",
    "st_date = '1/1/1980'\n",
    "wd2 = \"D:\\\\Projects\\\\MiddleBosque\\\\Analysis\\\\SWAT+MODFLOW Model_middle_bosque\"\n",
    "df_wt = pd.read_csv(\n",
    "                    wd2 + \"\\\\modflow_cell_obs.txt\",\n",
    "                    delim_whitespace=True,\n",
    "                    skiprows=1,\n",
    "#                     usecols=[1,2],\n",
    "                    header=None\n",
    "                    )\n",
    "df_wt.index = pd.date_range(st_date, periods=len(df_wt))\n",
    "# print(df_str)\n",
    "\n",
    "co1L = []\n",
    "co2D = []\n",
    "\n",
    "\n",
    "\n",
    "# for i in range(len(df_str)):\n",
    "#     if ((df_wt.index[i].strftime('%Y%m%d') >= '19850821') & (df_wt.index[i].strftime('%Y%m%d') <= '19860507')):\n",
    "#         print('true')\n",
    "df_wt['date'] = df_wt.index.strftime('%Y%m%d')\n",
    "# df_wt['test'] = CO1L['8/21/1985':'5/7/1986']\n",
    "# df_wt['test'] = df_wt[(df_wt.index >= '08/21/1985') & (df_wt.index <= '05/07/1986')] = 'w'\n",
    "df_wt['2nd'] = np.where((df_wt.index >= '08/21/1985') & (df_wt.index <= '05/07/1986'), ('l1 !wt_2nd'+df_wt['date']+'!'), 'l1 w')\n",
    "df_wt['1st'] = np.where((df_wt.index >= '09/30/1985') & (df_wt.index <= '04/01/1986'), ('!wt_1nd'+df_wt['date']+'!'), ' w')\n",
    "\n",
    "\n",
    "print(df_wt)\n",
    "\n",
    "with open('wt.ins', \"w\", newline='') as f:\n",
    "    f.write(\"pif ~\" + \"\\n\")\n",
    "    df_wt.to_csv(f, sep='\\t',\n",
    "                  header=False,\n",
    "                  index=False,\n",
    "#                   float_format='%.2f', \n",
    "                  line_terminator='\\n', \n",
    "                  columns=('2nd','1st'),\n",
    "                  encoding='utf-8')\n",
    "\n",
    "'''\n",
    "test = []\n",
    "for i in range(len(df_str)):\n",
    "    if df_str.iloc[i, 6] == 'cha53':\n",
    "        a = 'l1 w w w w w w w w '\n",
    "        b = '!str_{}{:02d}{:02d}!'.format(df_str.iloc[i, 3], df_str.iloc[i, 1], df_str.iloc[i, 2])\n",
    "        test.append(a+b)\n",
    "    else:\n",
    "        a = 'l1'\n",
    "        test.append(a)\n",
    "\n",
    "\n",
    "with open('str.ins', \"w\", newline='') as f:\n",
    "    f.write(\"pif ~\" + \"\\n\")  \n",
    "    writer = csv.writer(f)\n",
    "    for row in test:\n",
    "        writer.writerow([row])\n",
    "'''"
   ]
  },
  {
   "cell_type": "code",
   "execution_count": 11,
   "metadata": {},
   "outputs": [],
   "source": [
    "\n",
    "\n"
   ]
  },
  {
   "cell_type": "code",
   "execution_count": 148,
   "metadata": {},
   "outputs": [],
   "source": [
    "a = np.full((33, 55), 10)"
   ]
  },
  {
   "cell_type": "code",
   "execution_count": 149,
   "metadata": {},
   "outputs": [
    {
     "data": {
      "text/plain": [
       "(33, 55)"
      ]
     },
     "execution_count": 149,
     "metadata": {},
     "output_type": "execute_result"
    }
   ],
   "source": [
    "np.shape(a)"
   ]
  },
  {
   "cell_type": "code",
   "execution_count": 155,
   "metadata": {},
   "outputs": [],
   "source": [
    "np.savetxt('test.txtt', a, fmt='%.12e', delimiter='\\t')\n",
    "np.savetxt('vtest.txtt', a/10, fmt='%.12e', delimiter='\\t')"
   ]
  },
  {
   "cell_type": "code",
   "execution_count": 154,
   "metadata": {},
   "outputs": [
    {
     "data": {
      "text/plain": [
       "array([[1., 1., 1., ..., 1., 1., 1.],\n",
       "       [1., 1., 1., ..., 1., 1., 1.],\n",
       "       [1., 1., 1., ..., 1., 1., 1.],\n",
       "       ...,\n",
       "       [1., 1., 1., ..., 1., 1., 1.],\n",
       "       [1., 1., 1., ..., 1., 1., 1.],\n",
       "       [1., 1., 1., ..., 1., 1., 1.]])"
      ]
     },
     "execution_count": 154,
     "metadata": {},
     "output_type": "execute_result"
    }
   ],
   "source": [
    "b = np.loadtxt('test.txtt')\n",
    "b/10"
   ]
  },
  {
   "cell_type": "code",
   "execution_count": 111,
   "metadata": {},
   "outputs": [
    {
     "data": {
      "text/plain": [
       "1.0"
      ]
     },
     "execution_count": 111,
     "metadata": {},
     "output_type": "execute_result"
    }
   ],
   "source": [
    "with open('hk04.dat', 'r') as f:\n",
    "    data = [x.strip().split() for x in f if x.strip()]\n",
    "hk = float(data[0][4])\n",
    "hk"
   ]
  },
  {
   "cell_type": "code",
   "execution_count": 120,
   "metadata": {},
   "outputs": [
    {
     "name": "stdout",
     "output_type": "stream",
     "text": [
      "true\n",
      "true\n",
      "true\n"
     ]
    }
   ],
   "source": [
    "data_fac = ['hk01.dat', 'hk02.dat', 'hk03.dat', 'sy01.dat', 'sy02.dat', 'sy03.dat']\n",
    "for i in data_fac:\n",
    "    if i[:2] == 'hk':\n",
    "        print('true')\n",
    "\n"
   ]
  },
  {
   "cell_type": "code",
   "execution_count": 118,
   "metadata": {},
   "outputs": [
    {
     "name": "stdout",
     "output_type": "stream",
     "text": [
      "hk01.dat.ref\n"
     ]
    }
   ],
   "source": [
    "print(a)"
   ]
  },
  {
   "cell_type": "code",
   "execution_count": 119,
   "metadata": {},
   "outputs": [
    {
     "ename": "TypeError",
     "evalue": "unsupported operand type(s) for /: 'str' and 'int'",
     "output_type": "error",
     "traceback": [
      "\u001b[1;31m---------------------------------------------------------------------------\u001b[0m",
      "\u001b[1;31mTypeError\u001b[0m                                 Traceback (most recent call last)",
      "\u001b[1;32m<ipython-input-119-a4ac87a72fa7>\u001b[0m in \u001b[0;36m<module>\u001b[1;34m\u001b[0m\n\u001b[1;32m----> 1\u001b[1;33m \u001b[0mb\u001b[0m\u001b[1;33m/\u001b[0m\u001b[1;36m10\u001b[0m\u001b[1;33m\u001b[0m\u001b[1;33m\u001b[0m\u001b[0m\n\u001b[0m",
      "\u001b[1;31mTypeError\u001b[0m: unsupported operand type(s) for /: 'str' and 'int'"
     ]
    }
   ],
   "source": [
    "b/10"
   ]
  },
  {
   "cell_type": "code",
   "execution_count": null,
   "metadata": {},
   "outputs": [],
   "source": []
  }
 ],
 "metadata": {
  "anaconda-cloud": {},
  "kernelspec": {
   "display_name": "Python 3.7.7 64-bit ('pest': conda)",
   "language": "python",
   "name": "python37764bitpestconda1f5f43502f614e839180bd67792904d1"
  },
  "language_info": {
   "codemirror_mode": {
    "name": "ipython",
    "version": 3
   },
   "file_extension": ".py",
   "mimetype": "text/x-python",
   "name": "python",
   "nbconvert_exporter": "python",
   "pygments_lexer": "ipython3",
   "version": "3.7.7-final"
  }
 },
 "nbformat": 4,
 "nbformat_minor": 4
}