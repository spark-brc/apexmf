{
 "cells": [
  {
   "cell_type": "code",
   "execution_count": 2,
   "id": "b4caa026",
   "metadata": {},
   "outputs": [],
   "source": [
    "import pyemu\n",
    "import os"
   ]
  },
  {
   "cell_type": "code",
   "execution_count": 3,
   "id": "22096ca3",
   "metadata": {},
   "outputs": [],
   "source": [
    "wd = \"d:/Projects/Watersheds/Animas/Analysis/AMRSs/manul_calibration/\""
   ]
  },
  {
   "cell_type": "code",
   "execution_count": 4,
   "id": "5e13aafb",
   "metadata": {},
   "outputs": [],
   "source": [
    "# specify a template directory (i.e. the PstFrom working folder)\n",
    "tmp_d = os.path.join(wd, \"Animas_AMRS-Fire_org\")\n",
    "template_ws = os.path.join(wd, \"ies_template\")\n",
    "start_datetime=\"1-1-1987\"\n",
    "# instantiate PstFrom\n",
    "# pf = pyemu.utils.PstFrom(original_d=tmp_d, # where the model is stored\n",
    "#                             new_d=template_ws, # the PEST template folder\n",
    "#                             remove_existing=True, # ensures a clean start\n",
    "#                             longnames=True, # set False if using PEST/PEST_HP\n",
    "# #                             spatial_reference=sr, #the spatial reference we generated earlier\n",
    "#                             zero_based=False, # does the MODEL use zero based indices? For example, MODFLOW does NOT\n",
    "# #                             start_datetime=start_datetime, # required when specifying temporal correlation between parameters\n",
    "#                             echo=False) # to stop PstFrom from writting lots of infromation to the notebook; experiment by setting it as True to see the difference; usefull for troubleshooting"
   ]
  },
  {
   "cell_type": "code",
   "execution_count": 5,
   "id": "ba18284d",
   "metadata": {},
   "outputs": [
    {
     "name": "stderr",
     "output_type": "stream",
     "text": [
      "C:\\Users\\seonggyu.park\\Miniconda3\\envs\\apexmf\\Lib\\site-packages\\pyemu\\pst\\pst_handler.py:901: DeprecationWarning: In a future version, `df.iloc[:, i] = newvals` will attempt to set the values inplace instead of always setting a new array. To retain the old behavior, use either `df[df.columns[i]] = newvals` or, if columns are non-unique, `df.isetitem(i, newvals)`\n"
     ]
    }
   ],
   "source": [
    "# pst_path = os.path.join(t_d, 'freyberg_mf6.pst')\n",
    "pst = pyemu.Pst(os.path.join(template_ws, 'animas_amrs.pst'))"
   ]
  },
  {
   "cell_type": "code",
   "execution_count": 6,
   "id": "a4d0ec5c",
   "metadata": {},
   "outputs": [
    {
     "data": {
      "text/plain": [
       "<pyemu.pst.pst_handler.Pst at 0x1e2285e6bd0>"
      ]
     },
     "execution_count": 6,
     "metadata": {},
     "output_type": "execute_result"
    }
   ],
   "source": [
    "pst"
   ]
  },
  {
   "cell_type": "code",
   "execution_count": 9,
   "id": "bfd6ff63",
   "metadata": {},
   "outputs": [],
   "source": [
    "pyemu.os_utils.run('pestpp-glm animas_amrs.pst', cwd=template_ws)"
   ]
  },
  {
   "cell_type": "code",
   "execution_count": null,
   "id": "c925475f",
   "metadata": {},
   "outputs": [],
   "source": []
  },
  {
   "cell_type": "code",
   "execution_count": 10,
   "id": "013db262",
   "metadata": {},
   "outputs": [
    {
     "name": "stdout",
     "output_type": "stream",
     "text": [
      "noptmax:-1, npar_adj:23, nnz_obs:4486\n"
     ]
    }
   ],
   "source": [
    "pst.pestpp_options['ies_num_reals'] = 50\n",
    "pst.control_data.noptmax = -1\n",
    "pst.write(os.path.join(template_ws,\"animas_diagprior.pst\"))"
   ]
  },
  {
   "cell_type": "code",
   "execution_count": null,
   "id": "a2de4b5a",
   "metadata": {},
   "outputs": [],
   "source": [
    "m_d = \"master_diagonal_prior_monte_carlo\" \n",
    "pyemu.os_utils.start_workers(t_d,\"pestpp-ies\",\"freyberg_diagprior.pst\",\n",
    "                            num_workers=num_workers,\n",
    "                            worker_root='.',\n",
    "                            master_dir=m_d)"
   ]
  },
  {
   "cell_type": "code",
   "execution_count": null,
   "id": "7497911f",
   "metadata": {},
   "outputs": [],
   "source": []
  }
 ],
 "metadata": {
  "kernelspec": {
   "display_name": "Python 3 (ipykernel)",
   "language": "python",
   "name": "python3"
  },
  "language_info": {
   "codemirror_mode": {
    "name": "ipython",
    "version": 3
   },
   "file_extension": ".py",
   "mimetype": "text/x-python",
   "name": "python",
   "nbconvert_exporter": "python",
   "pygments_lexer": "ipython3",
   "version": "3.11.0"
  }
 },
 "nbformat": 4,
 "nbformat_minor": 5
}
