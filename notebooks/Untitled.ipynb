{
 "cells": [
  {
   "cell_type": "code",
   "execution_count": 1,
   "id": "ed762bb6",
   "metadata": {},
   "outputs": [],
   "source": [
    "import pandas as pd\n",
    "import numpy as np\n",
    "import matplotlib.pyplot as plt\n",
    "import os\n",
    "import sys\n",
    "import matplotlib.patches as patches\n",
    "from hydroeval import evaluator, nse, rmse, pbias\n",
    "import matplotlib.pyplot as plt\n",
    "# import seaborn as sns"
   ]
  },
  {
   "cell_type": "code",
   "execution_count": 2,
   "id": "291173ad",
   "metadata": {},
   "outputs": [],
   "source": [
    "sys.path.insert(1, 'D:/spark-brc_gits/apexmf_git')"
   ]
  },
  {
   "cell_type": "code",
   "execution_count": 3,
   "id": "380e6f93",
   "metadata": {},
   "outputs": [],
   "source": [
    "from apexmf import apexmf_pst_par, apexmf_utils\n",
    "from apexmf import apexmf_pst_viz, apexmf_pst_utils\n",
    "from apexmf.salt.analyzer import SaltAnalysis"
   ]
  },
  {
   "cell_type": "code",
   "execution_count": 5,
   "id": "a43a3839",
   "metadata": {},
   "outputs": [],
   "source": [
    "cwd = \"D:/Projects/BLM/reports/report_230831_final\"\n",
    "ani_wd = \"D:/Projects/Watersheds/Animas/Analysis/AMRSs/calibration/main_ies_1_pp_rw_ies_init_zero\""
   ]
  },
  {
   "cell_type": "code",
   "execution_count": null,
   "id": "d9abf29f",
   "metadata": {},
   "outputs": [],
   "source": []
  },
  {
   "cell_type": "code",
   "execution_count": null,
   "id": "2edc4ca4",
   "metadata": {},
   "outputs": [],
   "source": []
  },
  {
   "cell_type": "code",
   "execution_count": null,
   "id": "684a1301",
   "metadata": {},
   "outputs": [],
   "source": []
  }
 ],
 "metadata": {
  "kernelspec": {
   "display_name": "Python 3 (ipykernel)",
   "language": "python",
   "name": "python3"
  },
  "language_info": {
   "codemirror_mode": {
    "name": "ipython",
    "version": 3
   },
   "file_extension": ".py",
   "mimetype": "text/x-python",
   "name": "python",
   "nbconvert_exporter": "python",
   "pygments_lexer": "ipython3",
   "version": "3.10.10"
  }
 },
 "nbformat": 4,
 "nbformat_minor": 5
}
