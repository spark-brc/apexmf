{
 "cells": [
  {
   "cell_type": "code",
   "execution_count": 21,
   "id": "e6ba2064",
   "metadata": {},
   "outputs": [],
   "source": [
    "import pyemu\n",
    "import os\n",
    "import warnings\n",
    "warnings.filterwarnings(\"ignore\")\n",
    "warnings.filterwarnings(\"ignore\", category=DeprecationWarning) \n",
    "import pandas as pd\n",
    "import matplotlib.pyplot as plt\n",
    "import psutil\n",
    "import shutil\n",
    "import numpy as np\n",
    "import sys\n",
    "import matplotlib\n",
    "import matplotlib.cm as cm\n",
    "import matplotlib as mpl"
   ]
  },
  {
   "cell_type": "code",
   "execution_count": 2,
   "id": "8502862d",
   "metadata": {},
   "outputs": [],
   "source": [
    "sys.path.insert(1, 'd:/spark-brc_gits/apexmf_git/')"
   ]
  },
  {
   "cell_type": "code",
   "execution_count": 3,
   "id": "c3a15901",
   "metadata": {},
   "outputs": [],
   "source": [
    "from apexmf import apexmf_pst_viz\n",
    "from apexmf.salt.salt_handler import SaltAnalysis\n",
    "from apexmf.salt.analyzer import SaltAnalysis, SaltViz, get_stats"
   ]
  },
  {
   "cell_type": "code",
   "execution_count": 4,
   "id": "2b62a7ef",
   "metadata": {},
   "outputs": [],
   "source": [
    "m_d = \"d:/Projects/Watersheds/Animas/Analysis/AMRSs/calibration/main_ies_1_pp_rw_ies_init_zero\"\n",
    "pst = pyemu.Pst(os.path.join(m_d,'animas_amrs_pp_rw_ies_init_zero.pst'))"
   ]
  },
  {
   "cell_type": "code",
   "execution_count": 5,
   "id": "28716818",
   "metadata": {},
   "outputs": [],
   "source": [
    "prior_df = pyemu.ParameterEnsemble.from_csv(pst=pst,filename=os.path.join(m_d,\"animas_amrs_pp_rw_ies_init_zero.{0}.par.csv\".format(0)))\n",
    "post_df = pyemu.ParameterEnsemble.from_csv(pst=pst,filename=os.path.join(m_d,\"animas_amrs_pp_rw_ies_init_zero.{0}.par.csv\".format(9)))"
   ]
  },
  {
   "cell_type": "markdown",
   "id": "c869b997",
   "metadata": {},
   "source": [
    "# Get prior and posterior from each fold parameter sets"
   ]
  },
  {
   "cell_type": "code",
   "execution_count": 6,
   "id": "d3e6e4dc",
   "metadata": {},
   "outputs": [],
   "source": [
    "# phi data\n",
    "phi_df = pd.read_csv(os.path.join(m_d, \"animas_amrs_pp_rw_ies_init_zero.phi.actual.csv\"))\n",
    "phi_means = phi_df.loc[:, \"mean\"].tolist()\n",
    "phi_max = phi_df.loc[:, \"max\"].max()\n",
    "phi_min = phi_df.loc[:, \"min\"].min()"
   ]
  },
  {
   "cell_type": "code",
   "execution_count": 7,
   "id": "4dcb7baa",
   "metadata": {},
   "outputs": [],
   "source": [
    "# get parameter setup\n",
    "df_pars = pd.read_csv(os.path.join(m_d, \"animas_amrs.par_data02_zero.csv\"))\n",
    "sel_pars = df_pars.loc[df_pars[\"partrans\"]=='log']"
   ]
  },
  {
   "cell_type": "code",
   "execution_count": 54,
   "id": "b14a3fae",
   "metadata": {},
   "outputs": [],
   "source": [
    "colnams = [\n",
    "    \"soil_caco_h\", \"salt_ca033\", \"salt_cl025\",\n",
    "    \"salt_co3011\", \"salt_hco3027\", \"salt_k002\",\n",
    "    \"salt_mg028\", \"salt_na023\", \"salt_so4030\"]"
   ]
  },
  {
   "cell_type": "code",
   "execution_count": 55,
   "id": "ecaf0444",
   "metadata": {},
   "outputs": [],
   "source": [
    "minima = phi_min\n",
    "maxima = phi_max\n",
    "norm = matplotlib.colors.Normalize(vmin=minima, vmax=maxima, clip=True)\n",
    "mapper = cm.ScalarMappable(norm=norm, cmap=cm.rainbow)\n",
    "rgba_vals = []\n",
    "for v in phi_means:\n",
    "    rgba_vals.append(mapper.to_rgba(v))"
   ]
  },
  {
   "cell_type": "code",
   "execution_count": 56,
   "id": "552cb5e0",
   "metadata": {},
   "outputs": [],
   "source": [
    "x_var = \"soil_caco_h\"\n",
    "y_var = \"rivcd_rg04\"\n",
    "colnams2 = [\n",
    "    \"soil_caco_h\", \"rivcd_rg04\"]"
   ]
  },
  {
   "cell_type": "code",
   "execution_count": 71,
   "id": "2dc2226d",
   "metadata": {
    "scrolled": false
   },
   "outputs": [],
   "source": [
    "\n",
    "\n",
    "fidd = []\n",
    "for fid in range(11):\n",
    "    prior_df = pyemu.ParameterEnsemble.from_csv(\n",
    "        pst=pst,filename=os.path.join(m_d,\"animas_amrs_pp_rw_ies_init_zero.{0}.par.csv\".format(0)))\n",
    "    post_df = pyemu.ParameterEnsemble.from_csv(\n",
    "        pst=pst,filename=os.path.join(m_d,\"animas_amrs_pp_rw_ies_init_zero.{0}.par.csv\".format(fid)))\n",
    "    phi_vals = phi_df.loc[phi_df[\"iteration\"]==fid, phi_df.columns[6:]]\n",
    "    dff = pd.concat([phi_vals.T, post_df], axis=1)\n",
    "    dff = dff.dropna(axis=0)\n",
    "    fig1, axes1 = plt.subplots(figsize=(6, 5), nrows=3, ncols=3)\n",
    "    for i, ax1 in enumerate(axes1.flat):\n",
    "        colnam = colnams[i]\n",
    "        ax1.hist(prior_df.loc[:, colnam].values,\n",
    "                bins=np.linspace(\n",
    "                    sel_pars.loc[sel_pars[\"parnme\"]==colnam, 'parlbnd'].values[0], \n",
    "                    sel_pars.loc[sel_pars[\"parnme\"]==colnam, 'parubnd'].values[0], 20),\n",
    "                color = \"gray\", alpha=0.5, density=True,\n",
    "                label=\"Prior\"\n",
    "        )\n",
    "        y, x, _ = ax1.hist(post_df.loc[:, colnam].values,\n",
    "                bins=np.linspace(\n",
    "                    sel_pars.loc[sel_pars[\"parnme\"]==colnam, 'parlbnd'].values[0], \n",
    "                    sel_pars.loc[sel_pars[\"parnme\"]==colnam, 'parubnd'].values[0], 20), \n",
    "                 alpha=0.5, density=True, label=\"Posterior\",\n",
    "                color=[rgba_vals[fid]]\n",
    "        )\n",
    "    #     ax.vlines(best_sceua_pars[i], 0, y.max(), label=\"SCE-UA\", color='g')\n",
    "    #     ax.vlines(best_dream_pars.iloc[0, i], 0, y.max(), label=\"DREAM\", color='r')\n",
    "    #     print(x[np.where(y == y.max())])\n",
    "    #     ax.set_xlabel(\"Parameter range\")\n",
    "#         ax.set_ylabel(colnam)\n",
    "        ax1.set_yticks([])\n",
    "    \n",
    "    fig1.show()\n",
    "    \n",
    "    fig2, axes2 = plt.subplots(2,2,figsize=(6,5), gridspec_kw={'height_ratios': [2, 1], 'width_ratios': [1, 2]})\n",
    "    axes2[0,0].hist(post_df.loc[:, y_var].values,\n",
    "            bins=np.linspace(\n",
    "                sel_pars.loc[sel_pars[\"parnme\"]==y_var, 'parlbnd'].values[0], \n",
    "                sel_pars.loc[sel_pars[\"parnme\"]==y_var, 'parubnd'].values[0], 20),\n",
    "            color=[rgba_vals[fid]], \n",
    "            alpha=0.5, density=True,\n",
    "            label=\"Prior\",\n",
    "            orientation=\"horizontal\",\n",
    "            \n",
    "    )\n",
    "    axes2[0,0].hist(prior_df.loc[:, y_var].values,\n",
    "            bins=np.linspace(\n",
    "                sel_pars.loc[sel_pars[\"parnme\"]==y_var, 'parlbnd'].values[0], \n",
    "                sel_pars.loc[sel_pars[\"parnme\"]==y_var, 'parubnd'].values[0], 20),\n",
    "            color=\"gray\", \n",
    "            alpha=0.5, density=True,\n",
    "            label=\"Prior\",\n",
    "            orientation=\"horizontal\",\n",
    "    )\n",
    "    \n",
    "    fidd.append(fid)\n",
    "    for fd in fidd:\n",
    "        fd_df = pyemu.ParameterEnsemble.from_csv(\n",
    "            pst=pst,filename=os.path.join(m_d,\"animas_amrs_pp_rw_ies_init_zero.{0}.par.csv\".format(fd)))\n",
    "\n",
    "        phi_vals = phi_df.loc[phi_df[\"iteration\"]==fd, phi_df.columns[6:]]\n",
    "        dff = pd.concat([phi_vals.T, fd_df], axis=1)\n",
    "        dff = dff.dropna(axis=0)        \n",
    "\n",
    "        axes2[0,1].scatter(\n",
    "                dff.loc[:, x_var], dff.loc[:, y_var], label='Observed',\n",
    "                c=dff.iloc[:, 0].tolist(),s=10,\n",
    "                alpha=0.5,\n",
    "                norm=norm, cmap=cm.rainbow\n",
    "                )    \n",
    "\n",
    "        axes2[1, 0].scatter(\n",
    "                [fd]* len(dff.iloc[:, 0].tolist()), dff.iloc[:, 0].tolist(),\n",
    "                c=dff.iloc[:, 0].tolist(),s=10,\n",
    "                alpha=0.5,\n",
    "                norm=norm, cmap=cm.rainbow            \n",
    "                    \n",
    "        )\n",
    "    axes2[1,0].set_xlim(-0.5, 10.5)\n",
    "#     axes2[1,0].margins(x=0.1)\n",
    "    axes2[0,0].set_ylim(-5, 105)\n",
    "    axes2[0,1].set_xlim(-2, 30)\n",
    "    axes2[0,1].set_ylim(-5, 105)\n",
    "    axes2[1,1].set_xlim(-2, 30)\n",
    "    axes2[1,0].set_ylim(phi_min-100000, phi_max+100000)\n",
    "#     axes2[1,1].margins(x=0.1)\n",
    "\n",
    "\n",
    "    axes2[1,1].hist(post_df.loc[:, x_var].values,\n",
    "            bins=np.linspace(\n",
    "                sel_pars.loc[sel_pars[\"parnme\"]==x_var, 'parlbnd'].values[0], \n",
    "                sel_pars.loc[sel_pars[\"parnme\"]==x_var, 'parubnd'].values[0], 20),\n",
    "            color=[rgba_vals[fid]], \n",
    "            alpha=0.5, density=True,\n",
    "            label=\"Prior\"\n",
    "    )\n",
    "    axes2[1,1].hist(prior_df.loc[:, x_var].values,\n",
    "            bins=np.linspace(\n",
    "                sel_pars.loc[sel_pars[\"parnme\"]==x_var, 'parlbnd'].values[0], \n",
    "                sel_pars.loc[sel_pars[\"parnme\"]==x_var, 'parubnd'].values[0], 20),\n",
    "            color=\"gray\", \n",
    "            alpha=0.5, density=True,\n",
    "            label=\"Prior\"\n",
    "    )\n",
    "\n",
    "    axes2[0,0].set_xticks([])\n",
    "    axes2[1,1].set_yticks([])\n",
    "    for ax2 in axes2.flat:\n",
    "        ax2.tick_params(labelbottom=False, labelleft=False)\n",
    "    '''\n",
    "    c1 = fig1.canvas\n",
    "    c2 = fig2.canvas\n",
    "    c1.draw()\n",
    "    c2.draw()\n",
    "\n",
    "    a1 = np.array(c1.buffer_rgba())\n",
    "    a2 = np.array(c2.buffer_rgba())\n",
    "    a = np.hstack((a2,a1))\n",
    "    dpi=300\n",
    "    mpl.use(backend)\n",
    "#     fig,ax3 = plt.subplots(figsize=(2000/dpi, 1000/dpi), dpi=dpi)\n",
    "    fig,ax3 = plt.subplots(figsize=(5, 5), dpi=300)\n",
    "#     fig.subplots_adjust(0.0, 0, 0.1, 0.1,0,0)\n",
    "    ax3.set_axis_off()\n",
    "    ax3.matshow(a)\n",
    "        \n",
    "#     fig.show()\n",
    "#     fig.tight_layout(pad=3)\n",
    "    '''\n",
    "    fig1.savefig(os.path.join(m_d, 'par_dis{:02d}.png'.format(fid)), dpi=300)\n",
    "    fig2.savefig(os.path.join(m_d, 'phi{:02d}.png'.format(fid)), dpi=300)\n",
    "# #     fig1.show()\n",
    "#     fig.show()\n"
   ]
  },
  {
   "cell_type": "code",
   "execution_count": 84,
   "id": "a28e9030",
   "metadata": {},
   "outputs": [],
   "source": [
    "import glob\n",
    "from PIL import Image\n",
    "def make_gif(frame_folder):\n",
    "    frames = [Image.open(image).convert('RGBA') for image in glob.glob(f\"{frame_folder}/*.JPG\")]\n",
    "    frame_one = frames[0]\n",
    "    frame_one.save(os.path.join(frame_folder, \"my_awesome.gif\"), format=\"GIF\", append_images=frames,\n",
    "               save_all=True, duration=2000, loop=0)"
   ]
  },
  {
   "cell_type": "code",
   "execution_count": 85,
   "id": "f0bae005",
   "metadata": {},
   "outputs": [],
   "source": [
    "wdd =\"d:/Conferences/2023_UCOWR/figs_ani/\"\n",
    "make_gif(wdd)"
   ]
  },
  {
   "cell_type": "code",
   "execution_count": null,
   "id": "555fc601",
   "metadata": {},
   "outputs": [],
   "source": []
  },
  {
   "cell_type": "code",
   "execution_count": null,
   "id": "41db7a85",
   "metadata": {},
   "outputs": [],
   "source": []
  },
  {
   "cell_type": "code",
   "execution_count": null,
   "id": "7a8f091c",
   "metadata": {},
   "outputs": [],
   "source": []
  }
 ],
 "metadata": {
  "kernelspec": {
   "display_name": "Python 3 (ipykernel)",
   "language": "python",
   "name": "python3"
  },
  "language_info": {
   "codemirror_mode": {
    "name": "ipython",
    "version": 3
   },
   "file_extension": ".py",
   "mimetype": "text/x-python",
   "name": "python",
   "nbconvert_exporter": "python",
   "pygments_lexer": "ipython3",
   "version": "3.10.10"
  }
 },
 "nbformat": 4,
 "nbformat_minor": 5
}
