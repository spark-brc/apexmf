{
 "cells": [
  {
   "cell_type": "markdown",
   "source": [
    "# Run PEST with BeoPEST\n",
    "\n",
    "### This should be super easy..."
   ],
   "metadata": {
    "toc-hr-collapsed": false
   }
  },
  {
   "cell_type": "code",
   "execution_count": 1,
   "source": [
    "%matplotlib inline\r\n",
    "import os, shutil\r\n",
    "import sys\r\n",
    "sys.path.append(\"..\")\r\n",
    "import numpy as np\r\n",
    "from IPython.display import Image\r\n",
    "import pandas as pd\r\n",
    "import matplotlib.pyplot as plt\r\n",
    "\r\n",
    "import flopy as flopy\r\n",
    "import pyemu\r\n",
    "sys.path.insert(0, 'D:/spark-brc_gits/apexmf_git/apexmf_pkgs')\r\n",
    "# from apexmf_pst_pkgs import apexmf_pst_utils, apexmf_pst_par\r\n",
    "import apexmf_pst_utils"
   ],
   "outputs": [
    {
     "output_type": "stream",
     "name": "stdout",
     "text": [
      "flopy is installed in C:\\Users\\seonggyu.park\\Miniconda3\\envs\\sm_pest\\lib\\site-packages\\flopy\n"
     ]
    }
   ],
   "metadata": {
    "tags": []
   }
  },
  {
   "cell_type": "markdown",
   "source": [
    "# 1. Specify a path to your master"
   ],
   "metadata": {}
  },
  {
   "cell_type": "code",
   "execution_count": 2,
   "source": [
    "wd = 'D:/Projects/Watersheds/Green/Analysis/APEX-MODFLOWs/calibrations/gr_210707/gr_012721/APEX-MODFLOW'"
   ],
   "outputs": [],
   "metadata": {}
  },
  {
   "cell_type": "code",
   "execution_count": 3,
   "source": [
    "os.chdir(wd)"
   ],
   "outputs": [],
   "metadata": {}
  },
  {
   "cell_type": "markdown",
   "source": [
    "# 2. Initial run for adjusting weights"
   ],
   "metadata": {}
  },
  {
   "cell_type": "code",
   "execution_count": 4,
   "source": [
    "pstfile = 'green_pest_4th.pst'"
   ],
   "outputs": [],
   "metadata": {}
  },
  {
   "cell_type": "code",
   "execution_count": 5,
   "source": [
    "os.system(\"start cmd /k i64pest {0}\".format(pstfile))"
   ],
   "outputs": [
    {
     "output_type": "execute_result",
     "data": {
      "text/plain": [
       "0"
      ]
     },
     "metadata": {},
     "execution_count": 5
    }
   ],
   "metadata": {}
  },
  {
   "cell_type": "markdown",
   "source": [
    "# 3. Reweight"
   ],
   "metadata": {}
  },
  {
   "cell_type": "code",
   "execution_count": 5,
   "source": [
    "casename = 'green_pest_4th.pst'\r\n",
    "pestoutfile = 'green_pest_4th_rw.pst'\r\n",
    "contrib = 4.07660E+05"
   ],
   "outputs": [],
   "metadata": {}
  },
  {
   "cell_type": "code",
   "execution_count": 7,
   "source": [
    "os.system(\"start cmd /k i64pwtadj1 {0} {1} {2}\".format(casename, pestoutfile, contrib))"
   ],
   "outputs": [
    {
     "output_type": "execute_result",
     "data": {
      "text/plain": [
       "0"
      ]
     },
     "metadata": {},
     "execution_count": 7
    }
   ],
   "metadata": {}
  },
  {
   "cell_type": "code",
   "execution_count": 8,
   "source": [
    "# Stream 1 GW 0.1\r\n",
    "# load the pre-constructed pst\r\n",
    "pst = pyemu.Pst(os.path.join(wd, pestoutfile))\r\n",
    "obd = pst.observation_data"
   ],
   "outputs": [],
   "metadata": {}
  },
  {
   "cell_type": "code",
   "execution_count": 9,
   "source": [
    "for i in range(len(obd)):\r\n",
    "    if obd.iloc[i, 0][:2] == 'wt':\r\n",
    "        obd.iloc[i, 2] = obd.iloc[i, 2] * 0.1"
   ],
   "outputs": [],
   "metadata": {}
  },
  {
   "cell_type": "code",
   "execution_count": 10,
   "source": [
    "pst.observation_data = obd\r\n",
    "pst.write(pestoutfile)"
   ],
   "outputs": [
    {
     "output_type": "stream",
     "name": "stdout",
     "text": [
      "noptmax:50, npar_adj:251, nnz_obs:598\n"
     ]
    }
   ],
   "metadata": {}
  },
  {
   "cell_type": "code",
   "execution_count": 11,
   "source": [
    "obd"
   ],
   "outputs": [
    {
     "output_type": "execute_result",
     "data": {
      "text/html": [
       "<div>\n",
       "<style scoped>\n",
       "    .dataframe tbody tr th:only-of-type {\n",
       "        vertical-align: middle;\n",
       "    }\n",
       "\n",
       "    .dataframe tbody tr th {\n",
       "        vertical-align: top;\n",
       "    }\n",
       "\n",
       "    .dataframe thead th {\n",
       "        text-align: right;\n",
       "    }\n",
       "</style>\n",
       "<table border=\"1\" class=\"dataframe\">\n",
       "  <thead>\n",
       "    <tr style=\"text-align: right;\">\n",
       "      <th></th>\n",
       "      <th>obsnme</th>\n",
       "      <th>obsval</th>\n",
       "      <th>weight</th>\n",
       "      <th>obgnme</th>\n",
       "      <th>extra</th>\n",
       "    </tr>\n",
       "    <tr>\n",
       "      <th>obsnme</th>\n",
       "      <th></th>\n",
       "      <th></th>\n",
       "      <th></th>\n",
       "      <th></th>\n",
       "      <th></th>\n",
       "    </tr>\n",
       "  </thead>\n",
       "  <tbody>\n",
       "    <tr>\n",
       "      <th>sub009_200001</th>\n",
       "      <td>sub009_200001</td>\n",
       "      <td>3.90</td>\n",
       "      <td>4.05004</td>\n",
       "      <td>sub009</td>\n",
       "      <td>NaN</td>\n",
       "    </tr>\n",
       "    <tr>\n",
       "      <th>sub009_200002</th>\n",
       "      <td>sub009_200002</td>\n",
       "      <td>3.70</td>\n",
       "      <td>4.05004</td>\n",
       "      <td>sub009</td>\n",
       "      <td>NaN</td>\n",
       "    </tr>\n",
       "    <tr>\n",
       "      <th>sub009_200003</th>\n",
       "      <td>sub009_200003</td>\n",
       "      <td>4.30</td>\n",
       "      <td>4.05004</td>\n",
       "      <td>sub009</td>\n",
       "      <td>NaN</td>\n",
       "    </tr>\n",
       "    <tr>\n",
       "      <th>sub009_200004</th>\n",
       "      <td>sub009_200004</td>\n",
       "      <td>12.10</td>\n",
       "      <td>4.05004</td>\n",
       "      <td>sub009</td>\n",
       "      <td>NaN</td>\n",
       "    </tr>\n",
       "    <tr>\n",
       "      <th>sub009_200005</th>\n",
       "      <td>sub009_200005</td>\n",
       "      <td>29.30</td>\n",
       "      <td>4.05004</td>\n",
       "      <td>sub009</td>\n",
       "      <td>NaN</td>\n",
       "    </tr>\n",
       "    <tr>\n",
       "      <th>...</th>\n",
       "      <td>...</td>\n",
       "      <td>...</td>\n",
       "      <td>...</td>\n",
       "      <td>...</td>\n",
       "      <td>...</td>\n",
       "    </tr>\n",
       "    <tr>\n",
       "      <th>wt17036_20020328</th>\n",
       "      <td>wt17036_20020328</td>\n",
       "      <td>-2.38</td>\n",
       "      <td>25.63690</td>\n",
       "      <td>wt17036</td>\n",
       "      <td>NaN</td>\n",
       "    </tr>\n",
       "    <tr>\n",
       "      <th>wt17036_20091217</th>\n",
       "      <td>wt17036_20091217</td>\n",
       "      <td>-2.21</td>\n",
       "      <td>25.63690</td>\n",
       "      <td>wt17036</td>\n",
       "      <td>NaN</td>\n",
       "    </tr>\n",
       "    <tr>\n",
       "      <th>wt17257_20010926</th>\n",
       "      <td>wt17257_20010926</td>\n",
       "      <td>-2.62</td>\n",
       "      <td>62.31250</td>\n",
       "      <td>wt17257</td>\n",
       "      <td>NaN</td>\n",
       "    </tr>\n",
       "    <tr>\n",
       "      <th>wt17257_20020330</th>\n",
       "      <td>wt17257_20020330</td>\n",
       "      <td>-2.16</td>\n",
       "      <td>62.31250</td>\n",
       "      <td>wt17257</td>\n",
       "      <td>NaN</td>\n",
       "    </tr>\n",
       "    <tr>\n",
       "      <th>wt17257_20091217</th>\n",
       "      <td>wt17257_20091217</td>\n",
       "      <td>-2.77</td>\n",
       "      <td>62.31250</td>\n",
       "      <td>wt17257</td>\n",
       "      <td>NaN</td>\n",
       "    </tr>\n",
       "  </tbody>\n",
       "</table>\n",
       "<p>598 rows × 5 columns</p>\n",
       "</div>"
      ],
      "text/plain": [
       "                            obsnme  obsval    weight   obgnme  extra\n",
       "obsnme                                                              \n",
       "sub009_200001        sub009_200001    3.90   4.05004   sub009    NaN\n",
       "sub009_200002        sub009_200002    3.70   4.05004   sub009    NaN\n",
       "sub009_200003        sub009_200003    4.30   4.05004   sub009    NaN\n",
       "sub009_200004        sub009_200004   12.10   4.05004   sub009    NaN\n",
       "sub009_200005        sub009_200005   29.30   4.05004   sub009    NaN\n",
       "...                            ...     ...       ...      ...    ...\n",
       "wt17036_20020328  wt17036_20020328   -2.38  25.63690  wt17036    NaN\n",
       "wt17036_20091217  wt17036_20091217   -2.21  25.63690  wt17036    NaN\n",
       "wt17257_20010926  wt17257_20010926   -2.62  62.31250  wt17257    NaN\n",
       "wt17257_20020330  wt17257_20020330   -2.16  62.31250  wt17257    NaN\n",
       "wt17257_20091217  wt17257_20091217   -2.77  62.31250  wt17257    NaN\n",
       "\n",
       "[598 rows x 5 columns]"
      ]
     },
     "metadata": {},
     "execution_count": 11
    }
   ],
   "metadata": {}
  },
  {
   "cell_type": "markdown",
   "source": [
    "Go check the pst file"
   ],
   "metadata": {}
  },
  {
   "cell_type": "markdown",
   "source": [
    "# 4. Run Parallel PEST with BeoPEST"
   ],
   "metadata": {}
  },
  {
   "cell_type": "code",
   "execution_count": null,
   "source": [
    "execute_beopest?"
   ],
   "outputs": [],
   "metadata": {}
  },
  {
   "cell_type": "code",
   "execution_count": 6,
   "source": [
    "apexmf_pst_utils.execute_beopest(\r\n",
    "    wd, pestoutfile,\r\n",
    "    reuse_workers=True,\r\n",
    "    num_workers=12,\r\n",
    "    restart=True,\r\n",
    "    # copy_files=['MODFLOW/gr_1000.nwt']\r\n",
    "    )"
   ],
   "outputs": [],
   "metadata": {}
  },
  {
   "cell_type": "markdown",
   "source": [
    "# 5. Run or add workers separately"
   ],
   "metadata": {}
  },
  {
   "cell_type": "code",
   "execution_count": null,
   "source": [
    "execute_workers?"
   ],
   "outputs": [],
   "metadata": {}
  },
  {
   "cell_type": "code",
   "execution_count": 11,
   "source": [
    "apexmf_pst_utils.execute_workers(\r\n",
    "    wd, pestoutfile, \"172.20.1.9\", num_workers=5, start_id=28,\r\n",
    "    # worker_root='..', port=4005,\r\n",
    "    reuse_workers=True,\r\n",
    "    # copy_files=['model.in', 'model.in.tpl']\r\n",
    "    )"
   ],
   "outputs": [],
   "metadata": {}
  },
  {
   "cell_type": "code",
   "execution_count": null,
   "source": [],
   "outputs": [],
   "metadata": {}
  },
  {
   "cell_type": "markdown",
   "source": [
    "- An easy way to formulate a list of prior parameter standard deviations (this being one option for filling a parameter uncertainty file) is to divide the difference between these bounds (or their logs for parameters that are log-transformed) by 4.0. \n",
    "- This procedure relies on the the implicit assumption that parameters are (log)normally distributed and that their bounds span their 95% confidence intervals."
   ],
   "metadata": {}
  },
  {
   "cell_type": "code",
   "execution_count": 5,
   "source": [
    "create_param_unc?"
   ],
   "outputs": [
    {
     "output_type": "display_data",
     "data": {
      "text/plain": [
       "\u001b[1;31mSignature:\u001b[0m \u001b[0mcreate_param_unc\u001b[0m\u001b[1;33m(\u001b[0m\u001b[0mpst_file\u001b[0m\u001b[1;33m,\u001b[0m \u001b[0munc_file\u001b[0m\u001b[1;33m=\u001b[0m\u001b[1;32mNone\u001b[0m\u001b[1;33m,\u001b[0m \u001b[0msampl_n\u001b[0m\u001b[1;33m=\u001b[0m\u001b[1;32mNone\u001b[0m\u001b[1;33m)\u001b[0m\u001b[1;33m\u001b[0m\u001b[1;33m\u001b[0m\u001b[0m\n",
       "\u001b[1;31mDocstring:\u001b[0m\n",
       "create a parameter uncertainty file from an existing *.pst file\n",
       "\n",
       "Args:\n",
       "    - pst_file (`str`): path and name of existing *.pst file\n",
       "    - unc_file (`str`): name of parameter uncertainty file\n",
       "                        If `None`, then `param.unc` is used.\n",
       "                        Defult is `None`.\n",
       "    - sampl_n ('int'): sample number from normal distribution\n",
       "                        If `None`, then `1000` is used.\n",
       "                        Defult is `None`.\n",
       "Returns:\n",
       "    `pandas.DataFrame`: a dataframe of log standard deviation for each parameter\n",
       "    `param.unc file`\n",
       "\n",
       "Example:\n",
       "    sm_pst_stats.create_param_unc('my.pst', 'my.unc', 2000)\n",
       "\u001b[1;31mFile:\u001b[0m      e:\\qsm_300_zon_p\\sm_pst_pkgs\\sm_pst_stats.py\n",
       "\u001b[1;31mType:\u001b[0m      function\n"
      ]
     },
     "metadata": {}
    }
   ],
   "metadata": {}
  },
  {
   "cell_type": "code",
   "execution_count": 12,
   "source": [
    "create_param_unc(\"qsm_reweight.pst\")"
   ],
   "outputs": [
    {
     "output_type": "stream",
     "name": "stdout",
     "text": [
      "param.unc file has been created...\n"
     ]
    },
    {
     "output_type": "execute_result",
     "data": {
      "text/html": [
       "<div>\n",
       "<style scoped>\n",
       "    .dataframe tbody tr th:only-of-type {\n",
       "        vertical-align: middle;\n",
       "    }\n",
       "\n",
       "    .dataframe tbody tr th {\n",
       "        vertical-align: top;\n",
       "    }\n",
       "\n",
       "    .dataframe thead th {\n",
       "        text-align: right;\n",
       "    }\n",
       "</style>\n",
       "<table border=\"1\" class=\"dataframe\">\n",
       "  <thead>\n",
       "    <tr style=\"text-align: right;\">\n",
       "      <th></th>\n",
       "      <th>parlbnd</th>\n",
       "      <th>parubnd</th>\n",
       "      <th>mu</th>\n",
       "      <th>sigma</th>\n",
       "      <th>lower_95</th>\n",
       "      <th>upper_95</th>\n",
       "      <th>log_sd</th>\n",
       "    </tr>\n",
       "    <tr>\n",
       "      <th>parnme</th>\n",
       "      <th></th>\n",
       "      <th></th>\n",
       "      <th></th>\n",
       "      <th></th>\n",
       "      <th></th>\n",
       "      <th></th>\n",
       "      <th></th>\n",
       "    </tr>\n",
       "  </thead>\n",
       "  <tbody>\n",
       "    <tr>\n",
       "      <th>ed</th>\n",
       "      <td>1.0000000000e+00</td>\n",
       "      <td>1.0000000000e+02</td>\n",
       "      <td>50.500000</td>\n",
       "      <td>24.750000</td>\n",
       "      <td>1.932049</td>\n",
       "      <td>99.067951</td>\n",
       "      <td>0.427479</td>\n",
       "    </tr>\n",
       "    <tr>\n",
       "      <th>kc</th>\n",
       "      <td>2.5924320000e-03</td>\n",
       "      <td>2.5924320000e+01</td>\n",
       "      <td>12.963456</td>\n",
       "      <td>6.480432</td>\n",
       "      <td>0.246636</td>\n",
       "      <td>25.680276</td>\n",
       "      <td>0.504386</td>\n",
       "    </tr>\n",
       "    <tr>\n",
       "      <th>kdfdc</th>\n",
       "      <td>2.0347200000e-03</td>\n",
       "      <td>2.0347200000e+01</td>\n",
       "      <td>10.174617</td>\n",
       "      <td>5.086291</td>\n",
       "      <td>0.193577</td>\n",
       "      <td>20.155658</td>\n",
       "      <td>0.504386</td>\n",
       "    </tr>\n",
       "    <tr>\n",
       "      <th>kked</th>\n",
       "      <td>5.1840000000e-03</td>\n",
       "      <td>5.1840000000e+01</td>\n",
       "      <td>25.922592</td>\n",
       "      <td>12.958704</td>\n",
       "      <td>0.493190</td>\n",
       "      <td>51.351994</td>\n",
       "      <td>0.504386</td>\n",
       "    </tr>\n",
       "    <tr>\n",
       "      <th>kms</th>\n",
       "      <td>1.2960000000e-03</td>\n",
       "      <td>1.2960000000e+01</td>\n",
       "      <td>6.480648</td>\n",
       "      <td>3.239676</td>\n",
       "      <td>0.123297</td>\n",
       "      <td>12.837999</td>\n",
       "      <td>0.504386</td>\n",
       "    </tr>\n",
       "    <tr>\n",
       "      <th>kpw</th>\n",
       "      <td>2.5924320000e-03</td>\n",
       "      <td>2.5924320000e+01</td>\n",
       "      <td>12.963456</td>\n",
       "      <td>6.480432</td>\n",
       "      <td>0.246636</td>\n",
       "      <td>25.680276</td>\n",
       "      <td>0.504386</td>\n",
       "    </tr>\n",
       "    <tr>\n",
       "      <th>qal</th>\n",
       "      <td>2.9600000000e+01</td>\n",
       "      <td>1.0000000000e+03</td>\n",
       "      <td>514.800000</td>\n",
       "      <td>242.600000</td>\n",
       "      <td>38.735962</td>\n",
       "      <td>990.864038</td>\n",
       "      <td>0.351975</td>\n",
       "    </tr>\n",
       "    <tr>\n",
       "      <th>qt</th>\n",
       "      <td>5.9600000000e+01</td>\n",
       "      <td>1.5000000000e+03</td>\n",
       "      <td>779.800000</td>\n",
       "      <td>360.100000</td>\n",
       "      <td>73.160840</td>\n",
       "      <td>1486.439160</td>\n",
       "      <td>0.326967</td>\n",
       "    </tr>\n",
       "    <tr>\n",
       "      <th>riv_bot</th>\n",
       "      <td>3.5000000000e-01</td>\n",
       "      <td>6.5000000000e-01</td>\n",
       "      <td>0.500000</td>\n",
       "      <td>0.075000</td>\n",
       "      <td>0.352824</td>\n",
       "      <td>0.647176</td>\n",
       "      <td>0.065866</td>\n",
       "    </tr>\n",
       "    <tr>\n",
       "      <th>riv_cond</th>\n",
       "      <td>1.0000000000e+00</td>\n",
       "      <td>9.9000000000e+01</td>\n",
       "      <td>50.000000</td>\n",
       "      <td>24.500000</td>\n",
       "      <td>1.922634</td>\n",
       "      <td>98.077366</td>\n",
       "      <td>0.426918</td>\n",
       "    </tr>\n",
       "    <tr>\n",
       "      <th>cn2</th>\n",
       "      <td>3.0000000000e-01</td>\n",
       "      <td>7.0000000000e-01</td>\n",
       "      <td>0.500000</td>\n",
       "      <td>0.100000</td>\n",
       "      <td>0.303766</td>\n",
       "      <td>0.696234</td>\n",
       "      <td>0.090054</td>\n",
       "    </tr>\n",
       "    <tr>\n",
       "      <th>esco</th>\n",
       "      <td>1.0000000000e-03</td>\n",
       "      <td>1.0000000000e+00</td>\n",
       "      <td>0.500500</td>\n",
       "      <td>0.249750</td>\n",
       "      <td>0.010405</td>\n",
       "      <td>0.990595</td>\n",
       "      <td>0.494661</td>\n",
       "    </tr>\n",
       "    <tr>\n",
       "      <th>hru_slp</th>\n",
       "      <td>1.0000000000e-03</td>\n",
       "      <td>1.0000000000e+00</td>\n",
       "      <td>0.500500</td>\n",
       "      <td>0.249750</td>\n",
       "      <td>0.010405</td>\n",
       "      <td>0.990595</td>\n",
       "      <td>0.494661</td>\n",
       "    </tr>\n",
       "    <tr>\n",
       "      <th>ov_n</th>\n",
       "      <td>1.0000000000e-03</td>\n",
       "      <td>1.0000000000e+00</td>\n",
       "      <td>0.500500</td>\n",
       "      <td>0.249750</td>\n",
       "      <td>0.010405</td>\n",
       "      <td>0.990595</td>\n",
       "      <td>0.494661</td>\n",
       "    </tr>\n",
       "    <tr>\n",
       "      <th>slsubbsn</th>\n",
       "      <td>1.0000000000e-03</td>\n",
       "      <td>1.0000000000e+00</td>\n",
       "      <td>0.500500</td>\n",
       "      <td>0.249750</td>\n",
       "      <td>0.010405</td>\n",
       "      <td>0.990595</td>\n",
       "      <td>0.494661</td>\n",
       "    </tr>\n",
       "    <tr>\n",
       "      <th>sol_awc()</th>\n",
       "      <td>1.0000000000e-03</td>\n",
       "      <td>1.0000000000e+00</td>\n",
       "      <td>0.500500</td>\n",
       "      <td>0.249750</td>\n",
       "      <td>0.010405</td>\n",
       "      <td>0.990595</td>\n",
       "      <td>0.494661</td>\n",
       "    </tr>\n",
       "    <tr>\n",
       "      <th>ed_sy</th>\n",
       "      <td>1.5000000000e-01</td>\n",
       "      <td>5.0000000000e-01</td>\n",
       "      <td>0.325000</td>\n",
       "      <td>0.087500</td>\n",
       "      <td>0.153295</td>\n",
       "      <td>0.496705</td>\n",
       "      <td>0.127643</td>\n",
       "    </tr>\n",
       "    <tr>\n",
       "      <th>kc_sy</th>\n",
       "      <td>1.8000000000e-02</td>\n",
       "      <td>3.0000000000e-01</td>\n",
       "      <td>0.159000</td>\n",
       "      <td>0.070500</td>\n",
       "      <td>0.020655</td>\n",
       "      <td>0.297345</td>\n",
       "      <td>0.289559</td>\n",
       "    </tr>\n",
       "    <tr>\n",
       "      <th>kdfdc_sy</th>\n",
       "      <td>5.0000000000e-03</td>\n",
       "      <td>1.5000000000e-01</td>\n",
       "      <td>0.077500</td>\n",
       "      <td>0.036250</td>\n",
       "      <td>0.006365</td>\n",
       "      <td>0.148635</td>\n",
       "      <td>0.342078</td>\n",
       "    </tr>\n",
       "    <tr>\n",
       "      <th>kked_sy</th>\n",
       "      <td>1.2000000000e-02</td>\n",
       "      <td>2.5000000000e-01</td>\n",
       "      <td>0.131000</td>\n",
       "      <td>0.059500</td>\n",
       "      <td>0.014241</td>\n",
       "      <td>0.247759</td>\n",
       "      <td>0.310125</td>\n",
       "    </tr>\n",
       "    <tr>\n",
       "      <th>kms_sy</th>\n",
       "      <td>5.0000000000e-03</td>\n",
       "      <td>1.5000000000e-01</td>\n",
       "      <td>0.077500</td>\n",
       "      <td>0.036250</td>\n",
       "      <td>0.006365</td>\n",
       "      <td>0.148635</td>\n",
       "      <td>0.342078</td>\n",
       "    </tr>\n",
       "    <tr>\n",
       "      <th>kpw_sy</th>\n",
       "      <td>1.8000000000e-02</td>\n",
       "      <td>3.0000000000e-01</td>\n",
       "      <td>0.159000</td>\n",
       "      <td>0.070500</td>\n",
       "      <td>0.020655</td>\n",
       "      <td>0.297345</td>\n",
       "      <td>0.289559</td>\n",
       "    </tr>\n",
       "    <tr>\n",
       "      <th>qal_sy</th>\n",
       "      <td>1.0000000000e-01</td>\n",
       "      <td>5.0000000000e-01</td>\n",
       "      <td>0.300000</td>\n",
       "      <td>0.100000</td>\n",
       "      <td>0.103766</td>\n",
       "      <td>0.496234</td>\n",
       "      <td>0.169908</td>\n",
       "    </tr>\n",
       "    <tr>\n",
       "      <th>qt_sy</th>\n",
       "      <td>1.0000000000e-01</td>\n",
       "      <td>5.0000000000e-01</td>\n",
       "      <td>0.300000</td>\n",
       "      <td>0.100000</td>\n",
       "      <td>0.103766</td>\n",
       "      <td>0.496234</td>\n",
       "      <td>0.169908</td>\n",
       "    </tr>\n",
       "  </tbody>\n",
       "</table>\n",
       "</div>"
      ],
      "text/plain": [
       "                               parlbnd           parubnd          mu  \\\n",
       "parnme                                                                 \n",
       "ed                    1.0000000000e+00  1.0000000000e+02   50.500000   \n",
       "kc                    2.5924320000e-03  2.5924320000e+01   12.963456   \n",
       "kdfdc                 2.0347200000e-03  2.0347200000e+01   10.174617   \n",
       "kked                  5.1840000000e-03  5.1840000000e+01   25.922592   \n",
       "kms                   1.2960000000e-03  1.2960000000e+01    6.480648   \n",
       "kpw                   2.5924320000e-03  2.5924320000e+01   12.963456   \n",
       "qal                   2.9600000000e+01  1.0000000000e+03  514.800000   \n",
       "qt                    5.9600000000e+01  1.5000000000e+03  779.800000   \n",
       "riv_bot               3.5000000000e-01  6.5000000000e-01    0.500000   \n",
       "riv_cond              1.0000000000e+00  9.9000000000e+01   50.000000   \n",
       "cn2                   3.0000000000e-01  7.0000000000e-01    0.500000   \n",
       "esco                  1.0000000000e-03  1.0000000000e+00    0.500500   \n",
       "hru_slp               1.0000000000e-03  1.0000000000e+00    0.500500   \n",
       "ov_n                  1.0000000000e-03  1.0000000000e+00    0.500500   \n",
       "slsubbsn              1.0000000000e-03  1.0000000000e+00    0.500500   \n",
       "sol_awc()             1.0000000000e-03  1.0000000000e+00    0.500500   \n",
       "ed_sy                 1.5000000000e-01  5.0000000000e-01    0.325000   \n",
       "kc_sy                 1.8000000000e-02  3.0000000000e-01    0.159000   \n",
       "kdfdc_sy              5.0000000000e-03  1.5000000000e-01    0.077500   \n",
       "kked_sy               1.2000000000e-02  2.5000000000e-01    0.131000   \n",
       "kms_sy                5.0000000000e-03  1.5000000000e-01    0.077500   \n",
       "kpw_sy                1.8000000000e-02  3.0000000000e-01    0.159000   \n",
       "qal_sy                1.0000000000e-01  5.0000000000e-01    0.300000   \n",
       "qt_sy                 1.0000000000e-01  5.0000000000e-01    0.300000   \n",
       "\n",
       "                           sigma   lower_95     upper_95    log_sd  \n",
       "parnme                                                              \n",
       "ed                     24.750000   1.932049    99.067951  0.427479  \n",
       "kc                      6.480432   0.246636    25.680276  0.504386  \n",
       "kdfdc                   5.086291   0.193577    20.155658  0.504386  \n",
       "kked                   12.958704   0.493190    51.351994  0.504386  \n",
       "kms                     3.239676   0.123297    12.837999  0.504386  \n",
       "kpw                     6.480432   0.246636    25.680276  0.504386  \n",
       "qal                   242.600000  38.735962   990.864038  0.351975  \n",
       "qt                    360.100000  73.160840  1486.439160  0.326967  \n",
       "riv_bot                 0.075000   0.352824     0.647176  0.065866  \n",
       "riv_cond               24.500000   1.922634    98.077366  0.426918  \n",
       "cn2                     0.100000   0.303766     0.696234  0.090054  \n",
       "esco                    0.249750   0.010405     0.990595  0.494661  \n",
       "hru_slp                 0.249750   0.010405     0.990595  0.494661  \n",
       "ov_n                    0.249750   0.010405     0.990595  0.494661  \n",
       "slsubbsn                0.249750   0.010405     0.990595  0.494661  \n",
       "sol_awc()               0.249750   0.010405     0.990595  0.494661  \n",
       "ed_sy                   0.087500   0.153295     0.496705  0.127643  \n",
       "kc_sy                   0.070500   0.020655     0.297345  0.289559  \n",
       "kdfdc_sy                0.036250   0.006365     0.148635  0.342078  \n",
       "kked_sy                 0.059500   0.014241     0.247759  0.310125  \n",
       "kms_sy                  0.036250   0.006365     0.148635  0.342078  \n",
       "kpw_sy                  0.070500   0.020655     0.297345  0.289559  \n",
       "qal_sy                  0.100000   0.103766     0.496234  0.169908  \n",
       "qt_sy                   0.100000   0.103766     0.496234  0.169908  "
      ]
     },
     "metadata": {},
     "execution_count": 12
    }
   ],
   "metadata": {}
  },
  {
   "cell_type": "code",
   "execution_count": 16,
   "source": [
    "test = create_param_unc(\"qsm_reweight.pst\")"
   ],
   "outputs": [
    {
     "output_type": "stream",
     "name": "stdout",
     "text": [
      "param.unc file has been created...\n"
     ]
    }
   ],
   "metadata": {}
  },
  {
   "cell_type": "code",
   "execution_count": null,
   "source": [],
   "outputs": [],
   "metadata": {}
  },
  {
   "cell_type": "code",
   "execution_count": null,
   "source": [],
   "outputs": [],
   "metadata": {}
  },
  {
   "cell_type": "markdown",
   "source": [
    "#### Calibration with SVD"
   ],
   "metadata": {}
  },
  {
   "cell_type": "code",
   "execution_count": 5,
   "source": [
    "execute_beopest(wd, \"qsm_svd.pst\", 10)"
   ],
   "outputs": [],
   "metadata": {}
  },
  {
   "cell_type": "code",
   "execution_count": null,
   "source": [],
   "outputs": [],
   "metadata": {}
  },
  {
   "cell_type": "markdown",
   "source": [
    "#### Calibration with SVD-Reg"
   ],
   "metadata": {}
  },
  {
   "cell_type": "code",
   "execution_count": 4,
   "source": [
    "execute_beopest(wd, \"svd-reg.pst\", 15)"
   ],
   "outputs": [],
   "metadata": {}
  },
  {
   "cell_type": "code",
   "execution_count": null,
   "source": [],
   "outputs": [],
   "metadata": {}
  },
  {
   "cell_type": "markdown",
   "source": [
    "#### Calibration"
   ],
   "metadata": {}
  },
  {
   "cell_type": "code",
   "execution_count": 5,
   "source": [
    "execute_beopest(wd, \"qsm_reweight.pst\", 10)"
   ],
   "outputs": [],
   "metadata": {}
  },
  {
   "cell_type": "code",
   "execution_count": null,
   "source": [],
   "outputs": [],
   "metadata": {}
  },
  {
   "cell_type": "code",
   "execution_count": 6,
   "source": [
    "import socket\n",
    "socket.gethostname()"
   ],
   "outputs": [
    {
     "output_type": "execute_result",
     "data": {
      "text/plain": [
       "'ARSTXTEM4119734'"
      ]
     },
     "metadata": {},
     "execution_count": 6
    }
   ],
   "metadata": {}
  },
  {
   "cell_type": "code",
   "execution_count": null,
   "source": [],
   "outputs": [],
   "metadata": {}
  }
 ],
 "metadata": {
  "anaconda-cloud": {},
  "interpreter": {
   "hash": "e2cd4a2c4044a442375d541a7af880af35b9f88daa7fc56a2d2af487495916f8"
  },
  "kernelspec": {
   "name": "python3",
   "display_name": "Python 3.7.7 64-bit ('sm_pest': conda)"
  },
  "language_info": {
   "codemirror_mode": {
    "name": "ipython",
    "version": 3
   },
   "file_extension": ".py",
   "mimetype": "text/x-python",
   "name": "python",
   "nbconvert_exporter": "python",
   "pygments_lexer": "ipython3",
   "version": "3.7.7"
  }
 },
 "nbformat": 4,
 "nbformat_minor": 4
}