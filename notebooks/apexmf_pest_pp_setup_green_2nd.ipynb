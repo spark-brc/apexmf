{
 "cells": [
  {
   "cell_type": "markdown",
   "metadata": {},
   "source": [
    "# Upper Green PEST Pilot Point Setup"
   ]
  },
  {
   "cell_type": "code",
   "execution_count": 1,
   "metadata": {},
   "outputs": [
    {
     "name": "stdout",
     "output_type": "stream",
     "text": [
      "flopy is installed in C:\\Users\\seonggyu.park\\Miniconda3\\envs\\sm_pest\\lib\\site-packages\\flopy\n"
     ]
    }
   ],
   "source": [
    "%matplotlib inline\r\n",
    "import os, shutil\r\n",
    "import sys\r\n",
    "sys.path.append(\"..\")\r\n",
    "import numpy as np\r\n",
    "from IPython.display import Image\r\n",
    "import pandas as pd\r\n",
    "import matplotlib.pyplot as plt\r\n",
    "\r\n",
    "import flopy as flopy\r\n",
    "import pyemu\r\n",
    "import shapefile #the pyshp module\r\n",
    "from pyemu.pst.pst_utils import SFMT,IFMT,FFMT,pst_config"
   ]
  },
  {
   "cell_type": "markdown",
   "metadata": {},
   "source": [
    "# Build instruction files (Streamflow / Watertable)"
   ]
  },
  {
   "cell_type": "markdown",
   "metadata": {},
   "source": [
    "### 1. Streamflow (output.rch)"
   ]
  },
  {
   "cell_type": "code",
   "execution_count": 3,
   "metadata": {},
   "outputs": [],
   "source": [
    "sys.path.insert(0, 'D:/spark-brc_gits/apexmf_git/apexmf_pkgs')\r\n",
    "# from apexmf_pst_pkgs import apexmf_pst_utils, apexmf_pst_par\r\n",
    "import apexmf_pst_utils"
   ]
  },
  {
   "cell_type": "code",
   "execution_count": 1,
   "metadata": {},
   "outputs": [],
   "source": [
    "working_dir = \"D:/Projects/Watersheds/Green/Analysis/APEX-MODFLOWs/calibrations/gr_210614/gr_012721/APEX-MODFLOW\"\r\n",
    "os.chdir(working_dir)\r\n",
    "wd = \"D:/Projects/Watersheds/Green/Analysis/APEX-MODFLOWs/calibrations/gr_210614/gr_012721/APEX-MODFLOW/MODFLOW\"\r\n",
    "\r\n"
   ]
  },
  {
   "cell_type": "code",
   "execution_count": 6,
   "metadata": {},
   "outputs": [],
   "source": [
    "# load the pre-constructed pst\r\n",
    "pst = pyemu.Pst(os.path.join(working_dir,\"green_pest_2nd_rw.pst\"))\r\n",
    "obd = pst.observation_data"
   ]
  },
  {
   "cell_type": "code",
   "execution_count": 8,
   "metadata": {},
   "outputs": [],
   "source": [
    "for i in range(len(obd)):\r\n",
    "    if obd.iloc[i, 0][:2] == 'wt':\r\n",
    "        obd.iloc[i, 2] = 0.01\r\n"
   ]
  },
  {
   "cell_type": "code",
   "execution_count": 9,
   "metadata": {},
   "outputs": [
    {
     "data": {
      "text/html": [
       "<div>\n",
       "<style scoped>\n",
       "    .dataframe tbody tr th:only-of-type {\n",
       "        vertical-align: middle;\n",
       "    }\n",
       "\n",
       "    .dataframe tbody tr th {\n",
       "        vertical-align: top;\n",
       "    }\n",
       "\n",
       "    .dataframe thead th {\n",
       "        text-align: right;\n",
       "    }\n",
       "</style>\n",
       "<table border=\"1\" class=\"dataframe\">\n",
       "  <thead>\n",
       "    <tr style=\"text-align: right;\">\n",
       "      <th></th>\n",
       "      <th>obsnme</th>\n",
       "      <th>obsval</th>\n",
       "      <th>weight</th>\n",
       "      <th>obgnme</th>\n",
       "      <th>extra</th>\n",
       "    </tr>\n",
       "    <tr>\n",
       "      <th>obsnme</th>\n",
       "      <th></th>\n",
       "      <th></th>\n",
       "      <th></th>\n",
       "      <th></th>\n",
       "      <th></th>\n",
       "    </tr>\n",
       "  </thead>\n",
       "  <tbody>\n",
       "    <tr>\n",
       "      <th>sub009_200001</th>\n",
       "      <td>sub009_200001</td>\n",
       "      <td>3.87</td>\n",
       "      <td>4.0929</td>\n",
       "      <td>sub009</td>\n",
       "      <td>NaN</td>\n",
       "    </tr>\n",
       "    <tr>\n",
       "      <th>sub009_200002</th>\n",
       "      <td>sub009_200002</td>\n",
       "      <td>3.69</td>\n",
       "      <td>4.0929</td>\n",
       "      <td>sub009</td>\n",
       "      <td>NaN</td>\n",
       "    </tr>\n",
       "    <tr>\n",
       "      <th>sub009_200003</th>\n",
       "      <td>sub009_200003</td>\n",
       "      <td>4.28</td>\n",
       "      <td>4.0929</td>\n",
       "      <td>sub009</td>\n",
       "      <td>NaN</td>\n",
       "    </tr>\n",
       "    <tr>\n",
       "      <th>sub009_200004</th>\n",
       "      <td>sub009_200004</td>\n",
       "      <td>12.08</td>\n",
       "      <td>4.0929</td>\n",
       "      <td>sub009</td>\n",
       "      <td>NaN</td>\n",
       "    </tr>\n",
       "    <tr>\n",
       "      <th>sub009_200005</th>\n",
       "      <td>sub009_200005</td>\n",
       "      <td>29.29</td>\n",
       "      <td>4.0929</td>\n",
       "      <td>sub009</td>\n",
       "      <td>NaN</td>\n",
       "    </tr>\n",
       "    <tr>\n",
       "      <th>...</th>\n",
       "      <td>...</td>\n",
       "      <td>...</td>\n",
       "      <td>...</td>\n",
       "      <td>...</td>\n",
       "      <td>...</td>\n",
       "    </tr>\n",
       "    <tr>\n",
       "      <th>wt17256_20010926</th>\n",
       "      <td>wt17256_20010926</td>\n",
       "      <td>-8.05</td>\n",
       "      <td>0.0100</td>\n",
       "      <td>wt17256</td>\n",
       "      <td>NaN</td>\n",
       "    </tr>\n",
       "    <tr>\n",
       "      <th>wt17256_20020330</th>\n",
       "      <td>wt17256_20020330</td>\n",
       "      <td>-8.60</td>\n",
       "      <td>0.0100</td>\n",
       "      <td>wt17256</td>\n",
       "      <td>NaN</td>\n",
       "    </tr>\n",
       "    <tr>\n",
       "      <th>wt17257_20010926</th>\n",
       "      <td>wt17257_20010926</td>\n",
       "      <td>-2.62</td>\n",
       "      <td>0.0100</td>\n",
       "      <td>wt17257</td>\n",
       "      <td>NaN</td>\n",
       "    </tr>\n",
       "    <tr>\n",
       "      <th>wt17257_20020330</th>\n",
       "      <td>wt17257_20020330</td>\n",
       "      <td>-2.16</td>\n",
       "      <td>0.0100</td>\n",
       "      <td>wt17257</td>\n",
       "      <td>NaN</td>\n",
       "    </tr>\n",
       "    <tr>\n",
       "      <th>wt17257_20091217</th>\n",
       "      <td>wt17257_20091217</td>\n",
       "      <td>-2.77</td>\n",
       "      <td>0.0100</td>\n",
       "      <td>wt17257</td>\n",
       "      <td>NaN</td>\n",
       "    </tr>\n",
       "  </tbody>\n",
       "</table>\n",
       "<p>698 rows × 5 columns</p>\n",
       "</div>"
      ],
      "text/plain": [
       "                            obsnme  obsval  weight   obgnme  extra\n",
       "obsnme                                                            \n",
       "sub009_200001        sub009_200001    3.87  4.0929   sub009    NaN\n",
       "sub009_200002        sub009_200002    3.69  4.0929   sub009    NaN\n",
       "sub009_200003        sub009_200003    4.28  4.0929   sub009    NaN\n",
       "sub009_200004        sub009_200004   12.08  4.0929   sub009    NaN\n",
       "sub009_200005        sub009_200005   29.29  4.0929   sub009    NaN\n",
       "...                            ...     ...     ...      ...    ...\n",
       "wt17256_20010926  wt17256_20010926   -8.05  0.0100  wt17256    NaN\n",
       "wt17256_20020330  wt17256_20020330   -8.60  0.0100  wt17256    NaN\n",
       "wt17257_20010926  wt17257_20010926   -2.62  0.0100  wt17257    NaN\n",
       "wt17257_20020330  wt17257_20020330   -2.16  0.0100  wt17257    NaN\n",
       "wt17257_20091217  wt17257_20091217   -2.77  0.0100  wt17257    NaN\n",
       "\n",
       "[698 rows x 5 columns]"
      ]
     },
     "execution_count": 9,
     "metadata": {},
     "output_type": "execute_result"
    }
   ],
   "source": [
    "obd"
   ]
  },
  {
   "cell_type": "code",
   "execution_count": 10,
   "metadata": {},
   "outputs": [
    {
     "name": "stdout",
     "output_type": "stream",
     "text": [
      "noptmax:50, npar_adj:251, nnz_obs:698\n"
     ]
    }
   ],
   "source": [
    "pst.observation_data = obd\r\n",
    "pst.write('green_pest_3rd_rw.pst')"
   ]
  },
  {
   "cell_type": "code",
   "execution_count": null,
   "metadata": {},
   "outputs": [],
   "source": []
  }
 ],
 "metadata": {
  "anaconda-cloud": {},
  "interpreter": {
   "hash": "e2cd4a2c4044a442375d541a7af880af35b9f88daa7fc56a2d2af487495916f8"
  },
  "kernelspec": {
   "display_name": "Python 3.7.7 64-bit ('sm_pest': conda)",
   "name": "python3"
  },
  "language_info": {
   "codemirror_mode": {
    "name": "ipython",
    "version": 3
   },
   "file_extension": ".py",
   "mimetype": "text/x-python",
   "name": "python",
   "nbconvert_exporter": "python",
   "pygments_lexer": "ipython3",
   "version": "3.7.7"
  }
 },
 "nbformat": 4,
 "nbformat_minor": 4
}