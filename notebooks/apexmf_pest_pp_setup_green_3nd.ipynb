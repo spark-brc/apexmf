{
 "cells": [
  {
   "cell_type": "markdown",
   "metadata": {},
   "source": [
    "# Upper Green PEST Pilot Point Setup"
   ]
  },
  {
   "cell_type": "code",
   "execution_count": 3,
   "metadata": {},
   "outputs": [
    {
     "name": "stdout",
     "output_type": "stream",
     "text": [
      "flopy is installed in C:\\Users\\seonggyu.park\\Miniconda3\\envs\\sm_pest\\lib\\site-packages\\flopy\n"
     ]
    }
   ],
   "source": [
    "import sys\r\n",
    "import numpy as np\r\n",
    "import pandas as pd\r\n",
    "import flopy as flopy\r\n",
    "import pyemu\r\n",
    "import shapefile #the pyshp module"
   ]
  },
  {
   "cell_type": "markdown",
   "metadata": {},
   "source": [
    "# <span style=\"color:yellow\">1. Change Initial K using K shapefile</span>.\r\n",
    "\r\n",
    "There are multiple approaches to implementing pilot points with PEST++.  \r\n",
    "\r\n",
    "In this class, we will use some kick-ass pyemu sweetness"
   ]
  },
  {
   "cell_type": "markdown",
   "metadata": {},
   "source": [
    "### 1.1. Set up zones for where pilot points will be interpolated\n",
    "\n",
    "We can have pilot point networks in multiple zones. In this case, we will make a simple zone file using `IBOUND` such that all active cells are in the same interpolation zone."
   ]
  },
  {
   "cell_type": "code",
   "execution_count": 4,
   "metadata": {},
   "outputs": [],
   "source": [
    "wd = 'D:/Projects/Watersheds/Green/Analysis/APEX-MODFLOWs/calibrations/gr_210707/gr_012721/APEX-MODFLOW'\r\n",
    "pstfile = \"green_pest.pst\"\r\n",
    "os.chdir(wd)"
   ]
  },
  {
   "cell_type": "code",
   "execution_count": 5,
   "metadata": {},
   "outputs": [],
   "source": [
    "# load the pre-constructed pst\r\n",
    "pst = pyemu.Pst(os.path.join(wd, pstfile))"
   ]
  },
  {
   "cell_type": "code",
   "execution_count": 6,
   "metadata": {},
   "outputs": [],
   "source": [
    "par = pst.parameter_data"
   ]
  },
  {
   "cell_type": "code",
   "execution_count": 14,
   "metadata": {},
   "outputs": [],
   "source": [
    "shp = 'D:/Projects/Watersheds/Green/GIS/hk_initial_f.shp'"
   ]
  },
  {
   "cell_type": "code",
   "execution_count": 15,
   "metadata": {},
   "outputs": [
    {
     "data": {
      "text/html": [
       "<div>\n",
       "<style scoped>\n",
       "    .dataframe tbody tr th:only-of-type {\n",
       "        vertical-align: middle;\n",
       "    }\n",
       "\n",
       "    .dataframe tbody tr th {\n",
       "        vertical-align: top;\n",
       "    }\n",
       "\n",
       "    .dataframe thead th {\n",
       "        text-align: right;\n",
       "    }\n",
       "</style>\n",
       "<table border=\"1\" class=\"dataframe\">\n",
       "  <thead>\n",
       "    <tr style=\"text-align: right;\">\n",
       "      <th></th>\n",
       "      <th>parnme</th>\n",
       "      <th>K_m_day_</th>\n",
       "    </tr>\n",
       "    <tr>\n",
       "      <th>parnme</th>\n",
       "      <th></th>\n",
       "      <th></th>\n",
       "    </tr>\n",
       "  </thead>\n",
       "  <tbody>\n",
       "    <tr>\n",
       "      <th>hk0000</th>\n",
       "      <td>hk0000</td>\n",
       "      <td>26.092383</td>\n",
       "    </tr>\n",
       "    <tr>\n",
       "      <th>hk0001</th>\n",
       "      <td>hk0001</td>\n",
       "      <td>0.000027</td>\n",
       "    </tr>\n",
       "    <tr>\n",
       "      <th>hk0002</th>\n",
       "      <td>hk0002</td>\n",
       "      <td>1.369348</td>\n",
       "    </tr>\n",
       "    <tr>\n",
       "      <th>hk0003</th>\n",
       "      <td>hk0003</td>\n",
       "      <td>0.273221</td>\n",
       "    </tr>\n",
       "    <tr>\n",
       "      <th>hk0004</th>\n",
       "      <td>hk0004</td>\n",
       "      <td>26.092383</td>\n",
       "    </tr>\n",
       "    <tr>\n",
       "      <th>...</th>\n",
       "      <td>...</td>\n",
       "      <td>...</td>\n",
       "    </tr>\n",
       "    <tr>\n",
       "      <th>hk0105</th>\n",
       "      <td>hk0105</td>\n",
       "      <td>0.000545</td>\n",
       "    </tr>\n",
       "    <tr>\n",
       "      <th>hk0106</th>\n",
       "      <td>hk0106</td>\n",
       "      <td>0.000027</td>\n",
       "    </tr>\n",
       "    <tr>\n",
       "      <th>hk0107</th>\n",
       "      <td>hk0107</td>\n",
       "      <td>0.273221</td>\n",
       "    </tr>\n",
       "    <tr>\n",
       "      <th>hk0108</th>\n",
       "      <td>hk0108</td>\n",
       "      <td>0.000545</td>\n",
       "    </tr>\n",
       "    <tr>\n",
       "      <th>hk0109</th>\n",
       "      <td>hk0109</td>\n",
       "      <td>0.000027</td>\n",
       "    </tr>\n",
       "  </tbody>\n",
       "</table>\n",
       "<p>110 rows × 2 columns</p>\n",
       "</div>"
      ],
      "text/plain": [
       "        parnme   K_m_day_\n",
       "parnme                   \n",
       "hk0000  hk0000  26.092383\n",
       "hk0001  hk0001   0.000027\n",
       "hk0002  hk0002   1.369348\n",
       "hk0003  hk0003   0.273221\n",
       "hk0004  hk0004  26.092383\n",
       "...        ...        ...\n",
       "hk0105  hk0105   0.000545\n",
       "hk0106  hk0106   0.000027\n",
       "hk0107  hk0107   0.273221\n",
       "hk0108  hk0108   0.000545\n",
       "hk0109  hk0109   0.000027\n",
       "\n",
       "[110 rows x 2 columns]"
      ]
     },
     "execution_count": 15,
     "metadata": {},
     "output_type": "execute_result"
    }
   ],
   "source": [
    "#read file, parse out the records and shapes\r\n",
    "sf = shapefile.Reader(shp)\r\n",
    "#grab the shapefile's field names (omit the first psuedo field)\r\n",
    "fields = [x[0] for x in sf.fields][1:]\r\n",
    "records = sf.records()\r\n",
    "shps = [s.points for s in sf.shapes()]\r\n",
    "#write the records into a dataframe\r\n",
    "shapefile_dataframe = pd.DataFrame(columns=fields, data=records)\r\n",
    "#add the coordinate data to a column called \"coords\"\r\n",
    "shapefile_dataframe = shapefile_dataframe.assign(coords=shps)\r\n",
    "pp_df = shapefile_dataframe.sort_values(by=['name'])\r\n",
    "hk_df = pp_df[['parnme', 'K_m_day_']]\r\n",
    "hk_df.index = hk_df.parnme\r\n",
    "hk_df"
   ]
  },
  {
   "cell_type": "code",
   "execution_count": 7,
   "metadata": {},
   "outputs": [
    {
     "data": {
      "text/plain": [
       "['hk0087', 'hk0088', 'hk0092', 'hk0093', 'hk0094', 'hk0095']"
      ]
     },
     "execution_count": 7,
     "metadata": {},
     "output_type": "execute_result"
    }
   ],
   "source": [
    "k01 = [87, 88, 92, 93, 94, 95]\r\n",
    "k01 = ['hk{:04d}'.format(i) for i in k01]\r\n",
    "k01"
   ]
  },
  {
   "cell_type": "code",
   "execution_count": 9,
   "metadata": {},
   "outputs": [],
   "source": [
    "for i in par.parnme:\r\n",
    "    for j in k01:\r\n",
    "        if i == j:\r\n",
    "            par.loc[i, 'parval1'] = 0.1\r\n",
    "            par.loc[i, 'parlbnd'] = 0.1* 0.01\r\n",
    "            par.loc[i, 'parubnd'] = 0.1* 100\r\n",
    "            "
   ]
  },
  {
   "cell_type": "code",
   "execution_count": 16,
   "metadata": {},
   "outputs": [
    {
     "name": "stderr",
     "output_type": "stream",
     "text": [
      "C:\\Users\\seonggyu.park\\Miniconda3\\envs\\sm_pest\\lib\\site-packages\\pandas\\core\\indexing.py:1765: SettingWithCopyWarning: \n",
      "A value is trying to be set on a copy of a slice from a DataFrame.\n",
      "Try using .loc[row_indexer,col_indexer] = value instead\n",
      "\n",
      "See the caveats in the documentation: https://pandas.pydata.org/pandas-docs/stable/user_guide/indexing.html#returning-a-view-versus-a-copy\n",
      "  isetter(loc, value)\n"
     ]
    }
   ],
   "source": [
    "# for i in par.parnme:\r\n",
    "#     for j in hk_df.parnme:\r\n",
    "#         if i == j:\r\n",
    "#             if hk_df.loc[j, 'K_m_day_'] < 0.01:\r\n",
    "#                 hk_df.loc[j, 'K_m_day_'] = 1\r\n",
    "#             if hk_df.loc[j, 'K_m_day_'] > 26:\r\n",
    "#                 hk_df.loc[j, 'K_m_day_'] = 30\r\n",
    "#             par.loc[i, 'parval1'] = hk_df.loc[j, 'K_m_day_']\r\n",
    "#             par.loc[i, 'parlbnd'] = hk_df.loc[j, 'K_m_day_'] * 0.01\r\n",
    "#             par.loc[i, 'parubnd'] = hk_df.loc[j, 'K_m_day_'] * 100\r\n",
    "            "
   ]
  },
  {
   "cell_type": "code",
   "execution_count": 10,
   "metadata": {},
   "outputs": [],
   "source": [
    "for i in range(len(par)):\r\n",
    "    if par.iloc[i, 6] == 'rivbot':\r\n",
    "        par.iloc[i, 3] = 2.0001   # initial    \r\n",
    "        par.iloc[i, 4] = 0.1   # lower\r\n",
    "        par.iloc[i, 5] = 4   # upper\r\n",
    "        par.iloc[i, 8] = -2   # offset\r\n",
    "    elif par.iloc[i, 6] == 'sy':\r\n",
    "        par.iloc[i, 3] = 1.000000e-01 \r\n",
    "        par.iloc[i, 4] = 1.000000e-03\r\n",
    "        par.iloc[i, 5] = 0.500000e+00   "
   ]
  },
  {
   "cell_type": "code",
   "execution_count": 11,
   "metadata": {},
   "outputs": [
    {
     "name": "stdout",
     "output_type": "stream",
     "text": [
      "noptmax:0, npar_adj:251, nnz_obs:698\n"
     ]
    }
   ],
   "source": [
    "pst.parameter_data = par\r\n",
    "pst.write('green_pest_3rd.pst')"
   ]
  },
  {
   "cell_type": "code",
   "execution_count": null,
   "metadata": {},
   "outputs": [],
   "source": []
  }
 ],
 "metadata": {
  "anaconda-cloud": {},
  "interpreter": {
   "hash": "e2cd4a2c4044a442375d541a7af880af35b9f88daa7fc56a2d2af487495916f8"
  },
  "kernelspec": {
   "display_name": "Python 3.7.7 64-bit ('sm_pest': conda)",
   "name": "python3"
  },
  "language_info": {
   "codemirror_mode": {
    "name": "ipython",
    "version": 3
   },
   "file_extension": ".py",
   "mimetype": "text/x-python",
   "name": "python",
   "nbconvert_exporter": "python",
   "pygments_lexer": "ipython3",
   "version": "3.7.7"
  }
 },
 "nbformat": 4,
 "nbformat_minor": 4
}