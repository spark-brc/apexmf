{
 "cells": [
  {
   "cell_type": "code",
   "execution_count": 1,
   "metadata": {},
   "outputs": [
    {
     "name": "stdout",
     "output_type": "stream",
     "text": [
      "flopy is installed in C:\\Users\\seonggyu.park\\Miniconda3\\envs\\sm_pest\\lib\\site-packages\\flopy\n"
     ]
    }
   ],
   "source": [
    "import os\n",
    "import sys\n",
    "import pandas as pd\n",
    "import matplotlib.pyplot as plt\n",
    "sys.path.insert(0, 'D:/spark-brc_gits/apexmf_git/apexmf_pkgs')\n",
    "import apexmf_pst_utils, apexmf_pst_viz\n"
   ]
  },
  {
   "cell_type": "code",
   "execution_count": 2,
   "metadata": {},
   "outputs": [
    {
     "ename": "FileNotFoundError",
     "evalue": "[WinError 2] The system cannot find the file specified: 'D:/Projects/Watersheds/Green/Analysis/APEX-MODFLOWs/calibrations/gr_210614/APEX-MODFLOW'",
     "output_type": "error",
     "traceback": [
      "\u001b[1;31m---------------------------------------------------------------------------\u001b[0m",
      "\u001b[1;31mFileNotFoundError\u001b[0m                         Traceback (most recent call last)",
      "\u001b[1;32m<ipython-input-2-1747c629deda>\u001b[0m in \u001b[0;36m<module>\u001b[1;34m\u001b[0m\n\u001b[0;32m      1\u001b[0m \u001b[0mwd\u001b[0m \u001b[1;33m=\u001b[0m \u001b[1;34m\"D:/Projects/Watersheds/Green/Analysis/APEX-MODFLOWs/calibrations/gr_210614/APEX-MODFLOW\"\u001b[0m\u001b[1;33m\u001b[0m\u001b[1;33m\u001b[0m\u001b[0m\n\u001b[0;32m      2\u001b[0m \u001b[0mmfwd\u001b[0m \u001b[1;33m=\u001b[0m \u001b[1;34m\"D:/Projects/Watersheds/Green/Analysis/APEX-MODFLOWs/calibrations/gr_210614/APEX-MODFLOW/MODFLOW\"\u001b[0m\u001b[1;33m\u001b[0m\u001b[1;33m\u001b[0m\u001b[0m\n\u001b[1;32m----> 3\u001b[1;33m \u001b[0mos\u001b[0m\u001b[1;33m.\u001b[0m\u001b[0mchdir\u001b[0m\u001b[1;33m(\u001b[0m\u001b[0mwd\u001b[0m\u001b[1;33m)\u001b[0m\u001b[1;33m\u001b[0m\u001b[1;33m\u001b[0m\u001b[0m\n\u001b[0m",
      "\u001b[1;31mFileNotFoundError\u001b[0m: [WinError 2] The system cannot find the file specified: 'D:/Projects/Watersheds/Green/Analysis/APEX-MODFLOWs/calibrations/gr_210614/APEX-MODFLOW'"
     ]
    }
   ],
   "source": [
    "wd = \"D:/Projects/Watersheds/Green/Analysis/APEX-MODFLOWs/calibrations/gr_210614/APEX-MODFLOW\"\n",
    "mfwd = \"D:/Projects/Watersheds/Green/Analysis/APEX-MODFLOWs/calibrations/gr_210614/APEX-MODFLOW/MODFLOW\"\n",
    "os.chdir(wd)"
   ]
  },
  {
   "cell_type": "code",
   "execution_count": null,
   "metadata": {},
   "outputs": [],
   "source": [
    "wtdf = pd.read_excel(\"D:/Projects/Watersheds/Green/GIS/mf_obs_grids.dbf.xlsx\", engine=\"openpyxl\")\r\n",
    "# get cal only\r\n",
    "wtdf = wtdf.loc[wtdf.cal_counts > 0]\r\n",
    "grid_ids = wtdf.grid_id.to_list()"
   ]
  },
  {
   "cell_type": "code",
   "execution_count": null,
   "metadata": {},
   "outputs": [],
   "source": [
    "st_date='1/1/1995'\r\n",
    "ed_date='12/31/2012'\r\n",
    "for i in grid_ids:\r\n",
    "    df = apexmf_pst_viz.dtw_sim_obd(st_date, ed_date, i, time_step=None)\r\n",
    "    apexmf_pst_viz.dtw_hydrograph(df)"
   ]
  },
  {
   "cell_type": "code",
   "execution_count": null,
   "metadata": {},
   "outputs": [],
   "source": []
  }
 ],
 "metadata": {
  "interpreter": {
   "hash": "e2cd4a2c4044a442375d541a7af880af35b9f88daa7fc56a2d2af487495916f8"
  },
  "kernelspec": {
   "display_name": "Python 3.7.7 64-bit ('sm_pest': conda)",
   "name": "python3"
  },
  "language_info": {
   "codemirror_mode": {
    "name": "ipython",
    "version": 3
   },
   "file_extension": ".py",
   "mimetype": "text/x-python",
   "name": "python",
   "nbconvert_exporter": "python",
   "pygments_lexer": "ipython3",
   "version": "3.7.7"
  },
  "orig_nbformat": 4
 },
 "nbformat": 4,
 "nbformat_minor": 2
}