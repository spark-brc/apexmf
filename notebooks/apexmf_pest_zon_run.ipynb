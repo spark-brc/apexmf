{
 "cells": [
  {
   "cell_type": "markdown",
   "metadata": {
    "toc-hr-collapsed": false
   },
   "source": [
    "# Run PEST with BeoPEST\n",
    "\n",
    "### This should be super easy..."
   ]
  },
  {
   "cell_type": "code",
   "execution_count": 1,
   "metadata": {
    "tags": []
   },
   "outputs": [
    {
     "output_type": "stream",
     "name": "stdout",
     "text": [
      "flopy is installed in C:\\Users\\seonggyu.park\\Miniconda3\\envs\\sm_pest\\lib\\site-packages\\flopy\n"
     ]
    }
   ],
   "source": [
    "%matplotlib inline\n",
    "import os, shutil\n",
    "import sys\n",
    "sys.path.append(\"..\")\n",
    "import numpy as np\n",
    "from IPython.display import Image\n",
    "import pandas as pd\n",
    "import matplotlib.pyplot as plt\n",
    "\n",
    "import flopy as flopy\n",
    "import pyemu\n",
    "from apexmf_pst_pkgs.apexmf_pst_utils import execute_beopest, execute_workers\n",
    "# from apexmf_pst_pkgs.sm_pst_stats import create_param_unc"
   ]
  },
  {
   "cell_type": "code",
   "execution_count": null,
   "metadata": {},
   "outputs": [],
   "source": []
  },
  {
   "cell_type": "code",
   "execution_count": null,
   "metadata": {},
   "outputs": [],
   "source": []
  },
  {
   "cell_type": "markdown",
   "metadata": {},
   "source": [
    "# 1. Specify a path to your master"
   ]
  },
  {
   "cell_type": "code",
   "execution_count": 2,
   "metadata": {},
   "outputs": [],
   "source": [
    "wd = \"D:/Projects/Watersheds/Animas/Analysis/APEX-MODFLOWs/calibrations/qam_test/APEX-MODFLOW\""
   ]
  },
  {
   "cell_type": "code",
   "execution_count": 3,
   "metadata": {},
   "outputs": [],
   "source": [
    "os.chdir(wd)"
   ]
  },
  {
   "cell_type": "markdown",
   "metadata": {},
   "source": [
    "# 2. Initial run for adjusting weights"
   ]
  },
  {
   "cell_type": "code",
   "execution_count": 5,
   "metadata": {},
   "outputs": [
    {
     "output_type": "execute_result",
     "data": {
      "text/plain": [
       "0"
      ]
     },
     "metadata": {},
     "execution_count": 5
    }
   ],
   "source": [
    "os.system(\"start cmd /k i64pest {0}\".format(\"ani_pest.pst\"))"
   ]
  },
  {
   "cell_type": "markdown",
   "metadata": {},
   "source": [
    "# 3. Reweight"
   ]
  },
  {
   "cell_type": "code",
   "execution_count": 4,
   "metadata": {},
   "outputs": [],
   "source": [
    "casename = \"ani_pest\"\n",
    "pestoutfile = \"ani_pest_rw.pst\"\n",
    "contrib = 82977"
   ]
  },
  {
   "cell_type": "code",
   "execution_count": 7,
   "metadata": {},
   "outputs": [
    {
     "output_type": "execute_result",
     "data": {
      "text/plain": [
       "0"
      ]
     },
     "metadata": {},
     "execution_count": 7
    }
   ],
   "source": [
    "os.system(\"start cmd /k i64pwtadj1 {0} {1} {2}\".format(casename, pestoutfile, contrib))"
   ]
  },
  {
   "cell_type": "markdown",
   "metadata": {},
   "source": [
    "Go check the pst file"
   ]
  },
  {
   "source": [
    "# 4. Run Parallel PEST with BeoPEST"
   ],
   "cell_type": "markdown",
   "metadata": {}
  },
  {
   "cell_type": "code",
   "execution_count": 8,
   "metadata": {},
   "outputs": [
    {
     "output_type": "stream",
     "text": [
      "\u001b[1;31mSignature:\u001b[0m\n",
      "\u001b[0mexecute_beopest\u001b[0m\u001b[1;33m(\u001b[0m\u001b[1;33m\n",
      "\u001b[0m    \u001b[0mmaster_dir\u001b[0m\u001b[1;33m,\u001b[0m\u001b[1;33m\n",
      "\u001b[0m    \u001b[0mpst\u001b[0m\u001b[1;33m,\u001b[0m\u001b[1;33m\n",
      "\u001b[0m    \u001b[0mnum_workers\u001b[0m\u001b[1;33m=\u001b[0m\u001b[1;32mNone\u001b[0m\u001b[1;33m,\u001b[0m\u001b[1;33m\n",
      "\u001b[0m    \u001b[0mworker_root\u001b[0m\u001b[1;33m=\u001b[0m\u001b[1;34m'..'\u001b[0m\u001b[1;33m,\u001b[0m\u001b[1;33m\n",
      "\u001b[0m    \u001b[0mport\u001b[0m\u001b[1;33m=\u001b[0m\u001b[1;36m4005\u001b[0m\u001b[1;33m,\u001b[0m\u001b[1;33m\n",
      "\u001b[0m    \u001b[0mlocal\u001b[0m\u001b[1;33m=\u001b[0m\u001b[1;32mTrue\u001b[0m\u001b[1;33m,\u001b[0m\u001b[1;33m\n",
      "\u001b[0m    \u001b[0mreuse_workers\u001b[0m\u001b[1;33m=\u001b[0m\u001b[1;32mNone\u001b[0m\u001b[1;33m,\u001b[0m\u001b[1;33m\n",
      "\u001b[0m    \u001b[0mcopy_files\u001b[0m\u001b[1;33m=\u001b[0m\u001b[1;32mNone\u001b[0m\u001b[1;33m,\u001b[0m\u001b[1;33m\n",
      "\u001b[0m    \u001b[0mrestart\u001b[0m\u001b[1;33m=\u001b[0m\u001b[1;32mNone\u001b[0m\u001b[1;33m,\u001b[0m\u001b[1;33m\n",
      "\u001b[0m\u001b[1;33m)\u001b[0m\u001b[1;33m\u001b[0m\u001b[1;33m\u001b[0m\u001b[0m\n",
      "\u001b[1;31mDocstring:\u001b[0m\n",
      "Execute BeoPEST and workers on the local machine\n",
      "\n",
      "Args:\n",
      "    master_dir (str): \n",
      "    pst (str): [description]\n",
      "    num_workers ([type], optional): [description]. Defaults to None.\n",
      "    worker_root (str, optional): [description]. Defaults to '..'.\n",
      "    port (int, optional): [description]. Defaults to 4005.\n",
      "    local (bool, optional): [description]. Defaults to True.\n",
      "    reuse_workers ([type], optional): [description]. Defaults to None.\n",
      "\n",
      "Raises:\n",
      "    Exception: [description]\n",
      "    Exception: [description]\n",
      "    Exception: [description]\n",
      "    Exception: [description]\n",
      "    Exception: [description]\n",
      "    Exception: [description]\n",
      "\u001b[1;31mFile:\u001b[0m      d:\\spark-brc_gits\\apexmf_pest_git\\apexmf_pst_pkgs\\apexmf_pst_utils.py\n",
      "\u001b[1;31mType:\u001b[0m      function\n"
     ],
     "name": "stdout"
    }
   ],
   "source": [
    "execute_beopest?"
   ]
  },
  {
   "cell_type": "code",
   "execution_count": 5,
   "metadata": {},
   "outputs": [],
   "source": [
    "execute_beopest(wd, pestoutfile, reuse_workers=True, num_workers=12, restart=None)"
   ]
  },
  {
   "cell_type": "markdown",
   "metadata": {},
   "source": [
    "# 5. Run or add workers separately"
   ]
  },
  {
   "cell_type": "code",
   "execution_count": 5,
   "metadata": {},
   "outputs": [
    {
     "output_type": "stream",
     "text": [
      "\u001b[1;31mSignature:\u001b[0m\n",
      "\u001b[0mexecute_workers\u001b[0m\u001b[1;33m(\u001b[0m\u001b[1;33m\n",
      "\u001b[0m    \u001b[0mworker_rep\u001b[0m\u001b[1;33m,\u001b[0m\u001b[1;33m\n",
      "\u001b[0m    \u001b[0mpst\u001b[0m\u001b[1;33m,\u001b[0m\u001b[1;33m\n",
      "\u001b[0m    \u001b[0mhost\u001b[0m\u001b[1;33m,\u001b[0m\u001b[1;33m\n",
      "\u001b[0m    \u001b[0mnum_workers\u001b[0m\u001b[1;33m=\u001b[0m\u001b[1;32mNone\u001b[0m\u001b[1;33m,\u001b[0m\u001b[1;33m\n",
      "\u001b[0m    \u001b[0mstart_id\u001b[0m\u001b[1;33m=\u001b[0m\u001b[1;32mNone\u001b[0m\u001b[1;33m,\u001b[0m\u001b[1;33m\n",
      "\u001b[0m    \u001b[0mworker_root\u001b[0m\u001b[1;33m=\u001b[0m\u001b[1;34m'..'\u001b[0m\u001b[1;33m,\u001b[0m\u001b[1;33m\n",
      "\u001b[0m    \u001b[0mport\u001b[0m\u001b[1;33m=\u001b[0m\u001b[1;36m4005\u001b[0m\u001b[1;33m,\u001b[0m\u001b[1;33m\n",
      "\u001b[0m    \u001b[0mreuse_workers\u001b[0m\u001b[1;33m=\u001b[0m\u001b[1;32mNone\u001b[0m\u001b[1;33m,\u001b[0m\u001b[1;33m\n",
      "\u001b[0m    \u001b[0mcopy_files\u001b[0m\u001b[1;33m=\u001b[0m\u001b[1;32mNone\u001b[0m\u001b[1;33m,\u001b[0m\u001b[1;33m\n",
      "\u001b[0m\u001b[1;33m)\u001b[0m\u001b[1;33m\u001b[0m\u001b[1;33m\u001b[0m\u001b[0m\n",
      "\u001b[1;31mDocstring:\u001b[0m\n",
      "[summary]\n",
      "\n",
      "Args:\n",
      "    worker_rep ([type]): [description]\n",
      "    pst ([type]): [description]\n",
      "    host ([type]): [description]\n",
      "    num_workers ([type], optional): [description]. Defaults to None.\n",
      "    start_id ([type], optional): [description]. Defaults to None.\n",
      "    worker_root (str, optional): [description]. Defaults to '..'.\n",
      "    port (int, optional): [description]. Defaults to 4005.\n",
      "\n",
      "Raises:\n",
      "    Exception: [description]\n",
      "    Exception: [description]\n",
      "    Exception: [description]\n",
      "    Exception: [description]\n",
      "\u001b[1;31mFile:\u001b[0m      d:\\spark-brc_gits\\apexmf_pest_git\\apexmf_pst_pkgs\\apexmf_pst_utils.py\n",
      "\u001b[1;31mType:\u001b[0m      function\n"
     ],
     "name": "stdout"
    }
   ],
   "source": [
    "execute_workers?"
   ]
  },
  {
   "cell_type": "code",
   "execution_count": 6,
   "metadata": {},
   "outputs": [],
   "source": [
    "execute_workers(\n",
    "    wd, pestoutfile, \"172.20.1.9\", num_workers=1, start_id=12,\n",
    "    # worker_root='..', port=4005,\n",
    "    reuse_workers=True,\n",
    "    # copy_files=['model.in', 'model.in.tpl']\n",
    "    )\n",
    "\n",
    "\n",
    "\n"
   ]
  },
  {
   "cell_type": "markdown",
   "metadata": {},
   "source": [
    "#### Statistics - Create the \"param.unc\" file"
   ]
  },
  {
   "cell_type": "code",
   "execution_count": null,
   "metadata": {},
   "outputs": [],
   "source": []
  },
  {
   "cell_type": "markdown",
   "metadata": {},
   "source": [
    "- An easy way to formulate a list of prior parameter standard deviations (this being one option for filling a parameter uncertainty file) is to divide the difference between these bounds (or their logs for parameters that are log-transformed) by 4.0. \n",
    "- This procedure relies on the the implicit assumption that parameters are (log)normally distributed and that their bounds span their 95% confidence intervals."
   ]
  },
  {
   "cell_type": "code",
   "execution_count": 5,
   "metadata": {},
   "outputs": [
    {
     "data": {
      "text/plain": [
       "\u001b[1;31mSignature:\u001b[0m \u001b[0mcreate_param_unc\u001b[0m\u001b[1;33m(\u001b[0m\u001b[0mpst_file\u001b[0m\u001b[1;33m,\u001b[0m \u001b[0munc_file\u001b[0m\u001b[1;33m=\u001b[0m\u001b[1;32mNone\u001b[0m\u001b[1;33m,\u001b[0m \u001b[0msampl_n\u001b[0m\u001b[1;33m=\u001b[0m\u001b[1;32mNone\u001b[0m\u001b[1;33m)\u001b[0m\u001b[1;33m\u001b[0m\u001b[1;33m\u001b[0m\u001b[0m\n",
       "\u001b[1;31mDocstring:\u001b[0m\n",
       "create a parameter uncertainty file from an existing *.pst file\n",
       "\n",
       "Args:\n",
       "    - pst_file (`str`): path and name of existing *.pst file\n",
       "    - unc_file (`str`): name of parameter uncertainty file\n",
       "                        If `None`, then `param.unc` is used.\n",
       "                        Defult is `None`.\n",
       "    - sampl_n ('int'): sample number from normal distribution\n",
       "                        If `None`, then `1000` is used.\n",
       "                        Defult is `None`.\n",
       "Returns:\n",
       "    `pandas.DataFrame`: a dataframe of log standard deviation for each parameter\n",
       "    `param.unc file`\n",
       "\n",
       "Example:\n",
       "    sm_pst_stats.create_param_unc('my.pst', 'my.unc', 2000)\n",
       "\u001b[1;31mFile:\u001b[0m      e:\\qsm_300_zon_p\\sm_pst_pkgs\\sm_pst_stats.py\n",
       "\u001b[1;31mType:\u001b[0m      function\n"
      ]
     },
     "metadata": {},
     "output_type": "display_data"
    }
   ],
   "source": [
    "create_param_unc?"
   ]
  },
  {
   "cell_type": "code",
   "execution_count": 12,
   "metadata": {},
   "outputs": [
    {
     "name": "stdout",
     "output_type": "stream",
     "text": [
      "param.unc file has been created...\n"
     ]
    },
    {
     "data": {
      "text/html": [
       "<div>\n",
       "<style scoped>\n",
       "    .dataframe tbody tr th:only-of-type {\n",
       "        vertical-align: middle;\n",
       "    }\n",
       "\n",
       "    .dataframe tbody tr th {\n",
       "        vertical-align: top;\n",
       "    }\n",
       "\n",
       "    .dataframe thead th {\n",
       "        text-align: right;\n",
       "    }\n",
       "</style>\n",
       "<table border=\"1\" class=\"dataframe\">\n",
       "  <thead>\n",
       "    <tr style=\"text-align: right;\">\n",
       "      <th></th>\n",
       "      <th>parlbnd</th>\n",
       "      <th>parubnd</th>\n",
       "      <th>mu</th>\n",
       "      <th>sigma</th>\n",
       "      <th>lower_95</th>\n",
       "      <th>upper_95</th>\n",
       "      <th>log_sd</th>\n",
       "    </tr>\n",
       "    <tr>\n",
       "      <th>parnme</th>\n",
       "      <th></th>\n",
       "      <th></th>\n",
       "      <th></th>\n",
       "      <th></th>\n",
       "      <th></th>\n",
       "      <th></th>\n",
       "      <th></th>\n",
       "    </tr>\n",
       "  </thead>\n",
       "  <tbody>\n",
       "    <tr>\n",
       "      <th>ed</th>\n",
       "      <td>1.0000000000e+00</td>\n",
       "      <td>1.0000000000e+02</td>\n",
       "      <td>50.500000</td>\n",
       "      <td>24.750000</td>\n",
       "      <td>1.932049</td>\n",
       "      <td>99.067951</td>\n",
       "      <td>0.427479</td>\n",
       "    </tr>\n",
       "    <tr>\n",
       "      <th>kc</th>\n",
       "      <td>2.5924320000e-03</td>\n",
       "      <td>2.5924320000e+01</td>\n",
       "      <td>12.963456</td>\n",
       "      <td>6.480432</td>\n",
       "      <td>0.246636</td>\n",
       "      <td>25.680276</td>\n",
       "      <td>0.504386</td>\n",
       "    </tr>\n",
       "    <tr>\n",
       "      <th>kdfdc</th>\n",
       "      <td>2.0347200000e-03</td>\n",
       "      <td>2.0347200000e+01</td>\n",
       "      <td>10.174617</td>\n",
       "      <td>5.086291</td>\n",
       "      <td>0.193577</td>\n",
       "      <td>20.155658</td>\n",
       "      <td>0.504386</td>\n",
       "    </tr>\n",
       "    <tr>\n",
       "      <th>kked</th>\n",
       "      <td>5.1840000000e-03</td>\n",
       "      <td>5.1840000000e+01</td>\n",
       "      <td>25.922592</td>\n",
       "      <td>12.958704</td>\n",
       "      <td>0.493190</td>\n",
       "      <td>51.351994</td>\n",
       "      <td>0.504386</td>\n",
       "    </tr>\n",
       "    <tr>\n",
       "      <th>kms</th>\n",
       "      <td>1.2960000000e-03</td>\n",
       "      <td>1.2960000000e+01</td>\n",
       "      <td>6.480648</td>\n",
       "      <td>3.239676</td>\n",
       "      <td>0.123297</td>\n",
       "      <td>12.837999</td>\n",
       "      <td>0.504386</td>\n",
       "    </tr>\n",
       "    <tr>\n",
       "      <th>kpw</th>\n",
       "      <td>2.5924320000e-03</td>\n",
       "      <td>2.5924320000e+01</td>\n",
       "      <td>12.963456</td>\n",
       "      <td>6.480432</td>\n",
       "      <td>0.246636</td>\n",
       "      <td>25.680276</td>\n",
       "      <td>0.504386</td>\n",
       "    </tr>\n",
       "    <tr>\n",
       "      <th>qal</th>\n",
       "      <td>2.9600000000e+01</td>\n",
       "      <td>1.0000000000e+03</td>\n",
       "      <td>514.800000</td>\n",
       "      <td>242.600000</td>\n",
       "      <td>38.735962</td>\n",
       "      <td>990.864038</td>\n",
       "      <td>0.351975</td>\n",
       "    </tr>\n",
       "    <tr>\n",
       "      <th>qt</th>\n",
       "      <td>5.9600000000e+01</td>\n",
       "      <td>1.5000000000e+03</td>\n",
       "      <td>779.800000</td>\n",
       "      <td>360.100000</td>\n",
       "      <td>73.160840</td>\n",
       "      <td>1486.439160</td>\n",
       "      <td>0.326967</td>\n",
       "    </tr>\n",
       "    <tr>\n",
       "      <th>riv_bot</th>\n",
       "      <td>3.5000000000e-01</td>\n",
       "      <td>6.5000000000e-01</td>\n",
       "      <td>0.500000</td>\n",
       "      <td>0.075000</td>\n",
       "      <td>0.352824</td>\n",
       "      <td>0.647176</td>\n",
       "      <td>0.065866</td>\n",
       "    </tr>\n",
       "    <tr>\n",
       "      <th>riv_cond</th>\n",
       "      <td>1.0000000000e+00</td>\n",
       "      <td>9.9000000000e+01</td>\n",
       "      <td>50.000000</td>\n",
       "      <td>24.500000</td>\n",
       "      <td>1.922634</td>\n",
       "      <td>98.077366</td>\n",
       "      <td>0.426918</td>\n",
       "    </tr>\n",
       "    <tr>\n",
       "      <th>cn2</th>\n",
       "      <td>3.0000000000e-01</td>\n",
       "      <td>7.0000000000e-01</td>\n",
       "      <td>0.500000</td>\n",
       "      <td>0.100000</td>\n",
       "      <td>0.303766</td>\n",
       "      <td>0.696234</td>\n",
       "      <td>0.090054</td>\n",
       "    </tr>\n",
       "    <tr>\n",
       "      <th>esco</th>\n",
       "      <td>1.0000000000e-03</td>\n",
       "      <td>1.0000000000e+00</td>\n",
       "      <td>0.500500</td>\n",
       "      <td>0.249750</td>\n",
       "      <td>0.010405</td>\n",
       "      <td>0.990595</td>\n",
       "      <td>0.494661</td>\n",
       "    </tr>\n",
       "    <tr>\n",
       "      <th>hru_slp</th>\n",
       "      <td>1.0000000000e-03</td>\n",
       "      <td>1.0000000000e+00</td>\n",
       "      <td>0.500500</td>\n",
       "      <td>0.249750</td>\n",
       "      <td>0.010405</td>\n",
       "      <td>0.990595</td>\n",
       "      <td>0.494661</td>\n",
       "    </tr>\n",
       "    <tr>\n",
       "      <th>ov_n</th>\n",
       "      <td>1.0000000000e-03</td>\n",
       "      <td>1.0000000000e+00</td>\n",
       "      <td>0.500500</td>\n",
       "      <td>0.249750</td>\n",
       "      <td>0.010405</td>\n",
       "      <td>0.990595</td>\n",
       "      <td>0.494661</td>\n",
       "    </tr>\n",
       "    <tr>\n",
       "      <th>slsubbsn</th>\n",
       "      <td>1.0000000000e-03</td>\n",
       "      <td>1.0000000000e+00</td>\n",
       "      <td>0.500500</td>\n",
       "      <td>0.249750</td>\n",
       "      <td>0.010405</td>\n",
       "      <td>0.990595</td>\n",
       "      <td>0.494661</td>\n",
       "    </tr>\n",
       "    <tr>\n",
       "      <th>sol_awc()</th>\n",
       "      <td>1.0000000000e-03</td>\n",
       "      <td>1.0000000000e+00</td>\n",
       "      <td>0.500500</td>\n",
       "      <td>0.249750</td>\n",
       "      <td>0.010405</td>\n",
       "      <td>0.990595</td>\n",
       "      <td>0.494661</td>\n",
       "    </tr>\n",
       "    <tr>\n",
       "      <th>ed_sy</th>\n",
       "      <td>1.5000000000e-01</td>\n",
       "      <td>5.0000000000e-01</td>\n",
       "      <td>0.325000</td>\n",
       "      <td>0.087500</td>\n",
       "      <td>0.153295</td>\n",
       "      <td>0.496705</td>\n",
       "      <td>0.127643</td>\n",
       "    </tr>\n",
       "    <tr>\n",
       "      <th>kc_sy</th>\n",
       "      <td>1.8000000000e-02</td>\n",
       "      <td>3.0000000000e-01</td>\n",
       "      <td>0.159000</td>\n",
       "      <td>0.070500</td>\n",
       "      <td>0.020655</td>\n",
       "      <td>0.297345</td>\n",
       "      <td>0.289559</td>\n",
       "    </tr>\n",
       "    <tr>\n",
       "      <th>kdfdc_sy</th>\n",
       "      <td>5.0000000000e-03</td>\n",
       "      <td>1.5000000000e-01</td>\n",
       "      <td>0.077500</td>\n",
       "      <td>0.036250</td>\n",
       "      <td>0.006365</td>\n",
       "      <td>0.148635</td>\n",
       "      <td>0.342078</td>\n",
       "    </tr>\n",
       "    <tr>\n",
       "      <th>kked_sy</th>\n",
       "      <td>1.2000000000e-02</td>\n",
       "      <td>2.5000000000e-01</td>\n",
       "      <td>0.131000</td>\n",
       "      <td>0.059500</td>\n",
       "      <td>0.014241</td>\n",
       "      <td>0.247759</td>\n",
       "      <td>0.310125</td>\n",
       "    </tr>\n",
       "    <tr>\n",
       "      <th>kms_sy</th>\n",
       "      <td>5.0000000000e-03</td>\n",
       "      <td>1.5000000000e-01</td>\n",
       "      <td>0.077500</td>\n",
       "      <td>0.036250</td>\n",
       "      <td>0.006365</td>\n",
       "      <td>0.148635</td>\n",
       "      <td>0.342078</td>\n",
       "    </tr>\n",
       "    <tr>\n",
       "      <th>kpw_sy</th>\n",
       "      <td>1.8000000000e-02</td>\n",
       "      <td>3.0000000000e-01</td>\n",
       "      <td>0.159000</td>\n",
       "      <td>0.070500</td>\n",
       "      <td>0.020655</td>\n",
       "      <td>0.297345</td>\n",
       "      <td>0.289559</td>\n",
       "    </tr>\n",
       "    <tr>\n",
       "      <th>qal_sy</th>\n",
       "      <td>1.0000000000e-01</td>\n",
       "      <td>5.0000000000e-01</td>\n",
       "      <td>0.300000</td>\n",
       "      <td>0.100000</td>\n",
       "      <td>0.103766</td>\n",
       "      <td>0.496234</td>\n",
       "      <td>0.169908</td>\n",
       "    </tr>\n",
       "    <tr>\n",
       "      <th>qt_sy</th>\n",
       "      <td>1.0000000000e-01</td>\n",
       "      <td>5.0000000000e-01</td>\n",
       "      <td>0.300000</td>\n",
       "      <td>0.100000</td>\n",
       "      <td>0.103766</td>\n",
       "      <td>0.496234</td>\n",
       "      <td>0.169908</td>\n",
       "    </tr>\n",
       "  </tbody>\n",
       "</table>\n",
       "</div>"
      ],
      "text/plain": [
       "                               parlbnd           parubnd          mu  \\\n",
       "parnme                                                                 \n",
       "ed                    1.0000000000e+00  1.0000000000e+02   50.500000   \n",
       "kc                    2.5924320000e-03  2.5924320000e+01   12.963456   \n",
       "kdfdc                 2.0347200000e-03  2.0347200000e+01   10.174617   \n",
       "kked                  5.1840000000e-03  5.1840000000e+01   25.922592   \n",
       "kms                   1.2960000000e-03  1.2960000000e+01    6.480648   \n",
       "kpw                   2.5924320000e-03  2.5924320000e+01   12.963456   \n",
       "qal                   2.9600000000e+01  1.0000000000e+03  514.800000   \n",
       "qt                    5.9600000000e+01  1.5000000000e+03  779.800000   \n",
       "riv_bot               3.5000000000e-01  6.5000000000e-01    0.500000   \n",
       "riv_cond              1.0000000000e+00  9.9000000000e+01   50.000000   \n",
       "cn2                   3.0000000000e-01  7.0000000000e-01    0.500000   \n",
       "esco                  1.0000000000e-03  1.0000000000e+00    0.500500   \n",
       "hru_slp               1.0000000000e-03  1.0000000000e+00    0.500500   \n",
       "ov_n                  1.0000000000e-03  1.0000000000e+00    0.500500   \n",
       "slsubbsn              1.0000000000e-03  1.0000000000e+00    0.500500   \n",
       "sol_awc()             1.0000000000e-03  1.0000000000e+00    0.500500   \n",
       "ed_sy                 1.5000000000e-01  5.0000000000e-01    0.325000   \n",
       "kc_sy                 1.8000000000e-02  3.0000000000e-01    0.159000   \n",
       "kdfdc_sy              5.0000000000e-03  1.5000000000e-01    0.077500   \n",
       "kked_sy               1.2000000000e-02  2.5000000000e-01    0.131000   \n",
       "kms_sy                5.0000000000e-03  1.5000000000e-01    0.077500   \n",
       "kpw_sy                1.8000000000e-02  3.0000000000e-01    0.159000   \n",
       "qal_sy                1.0000000000e-01  5.0000000000e-01    0.300000   \n",
       "qt_sy                 1.0000000000e-01  5.0000000000e-01    0.300000   \n",
       "\n",
       "                           sigma   lower_95     upper_95    log_sd  \n",
       "parnme                                                              \n",
       "ed                     24.750000   1.932049    99.067951  0.427479  \n",
       "kc                      6.480432   0.246636    25.680276  0.504386  \n",
       "kdfdc                   5.086291   0.193577    20.155658  0.504386  \n",
       "kked                   12.958704   0.493190    51.351994  0.504386  \n",
       "kms                     3.239676   0.123297    12.837999  0.504386  \n",
       "kpw                     6.480432   0.246636    25.680276  0.504386  \n",
       "qal                   242.600000  38.735962   990.864038  0.351975  \n",
       "qt                    360.100000  73.160840  1486.439160  0.326967  \n",
       "riv_bot                 0.075000   0.352824     0.647176  0.065866  \n",
       "riv_cond               24.500000   1.922634    98.077366  0.426918  \n",
       "cn2                     0.100000   0.303766     0.696234  0.090054  \n",
       "esco                    0.249750   0.010405     0.990595  0.494661  \n",
       "hru_slp                 0.249750   0.010405     0.990595  0.494661  \n",
       "ov_n                    0.249750   0.010405     0.990595  0.494661  \n",
       "slsubbsn                0.249750   0.010405     0.990595  0.494661  \n",
       "sol_awc()               0.249750   0.010405     0.990595  0.494661  \n",
       "ed_sy                   0.087500   0.153295     0.496705  0.127643  \n",
       "kc_sy                   0.070500   0.020655     0.297345  0.289559  \n",
       "kdfdc_sy                0.036250   0.006365     0.148635  0.342078  \n",
       "kked_sy                 0.059500   0.014241     0.247759  0.310125  \n",
       "kms_sy                  0.036250   0.006365     0.148635  0.342078  \n",
       "kpw_sy                  0.070500   0.020655     0.297345  0.289559  \n",
       "qal_sy                  0.100000   0.103766     0.496234  0.169908  \n",
       "qt_sy                   0.100000   0.103766     0.496234  0.169908  "
      ]
     },
     "execution_count": 12,
     "metadata": {},
     "output_type": "execute_result"
    }
   ],
   "source": [
    "create_param_unc(\"qsm_reweight.pst\")"
   ]
  },
  {
   "cell_type": "code",
   "execution_count": 16,
   "metadata": {},
   "outputs": [
    {
     "name": "stdout",
     "output_type": "stream",
     "text": [
      "param.unc file has been created...\n"
     ]
    }
   ],
   "source": [
    "test = create_param_unc(\"qsm_reweight.pst\")"
   ]
  },
  {
   "cell_type": "code",
   "execution_count": null,
   "metadata": {},
   "outputs": [],
   "source": []
  },
  {
   "cell_type": "code",
   "execution_count": null,
   "metadata": {},
   "outputs": [],
   "source": []
  },
  {
   "cell_type": "markdown",
   "metadata": {},
   "source": [
    "#### Calibration with SVD"
   ]
  },
  {
   "cell_type": "code",
   "execution_count": 5,
   "metadata": {},
   "outputs": [],
   "source": [
    "execute_beopest(wd, \"qsm_svd.pst\", 10)"
   ]
  },
  {
   "cell_type": "code",
   "execution_count": null,
   "metadata": {},
   "outputs": [],
   "source": []
  },
  {
   "cell_type": "markdown",
   "metadata": {},
   "source": [
    "#### Calibration with SVD-Reg"
   ]
  },
  {
   "cell_type": "code",
   "execution_count": 4,
   "metadata": {},
   "outputs": [],
   "source": [
    "execute_beopest(wd, \"svd-reg.pst\", 15)"
   ]
  },
  {
   "cell_type": "code",
   "execution_count": null,
   "metadata": {},
   "outputs": [],
   "source": []
  },
  {
   "cell_type": "markdown",
   "metadata": {},
   "source": [
    "#### Calibration"
   ]
  },
  {
   "cell_type": "code",
   "execution_count": 5,
   "metadata": {},
   "outputs": [],
   "source": [
    "execute_beopest(wd, \"qsm_reweight.pst\", 10)"
   ]
  },
  {
   "cell_type": "code",
   "execution_count": null,
   "metadata": {},
   "outputs": [],
   "source": []
  },
  {
   "cell_type": "code",
   "execution_count": 6,
   "metadata": {},
   "outputs": [
    {
     "output_type": "execute_result",
     "data": {
      "text/plain": "'ARSTXTEM4119734'"
     },
     "metadata": {},
     "execution_count": 6
    }
   ],
   "source": [
    "import socket\n",
    "socket.gethostname()"
   ]
  },
  {
   "cell_type": "code",
   "execution_count": null,
   "metadata": {},
   "outputs": [],
   "source": []
  }
 ],
 "metadata": {
  "anaconda-cloud": {},
  "kernelspec": {
   "display_name": "Python 3.7.7 64-bit ('pest': conda)",
   "language": "python",
   "name": "python37764bitpestconda1f5f43502f614e839180bd67792904d1"
  },
  "language_info": {
   "codemirror_mode": {
    "name": "ipython",
    "version": 3
   },
   "file_extension": ".py",
   "mimetype": "text/x-python",
   "name": "python",
   "nbconvert_exporter": "python",
   "pygments_lexer": "ipython3",
   "version": "3.7.7-final"
  }
 },
 "nbformat": 4,
 "nbformat_minor": 4
}