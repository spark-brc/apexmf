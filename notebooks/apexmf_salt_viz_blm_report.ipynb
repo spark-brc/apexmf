{
 "cells": [
  {
   "cell_type": "markdown",
   "metadata": {},
   "source": [
    "# salt result viz"
   ]
  },
  {
   "cell_type": "code",
   "execution_count": 33,
   "metadata": {
    "tags": []
   },
   "outputs": [],
   "source": [
    "import pandas as pd\n",
    "import numpy as np\n",
    "import matplotlib.pyplot as plt\n",
    "import os\n",
    "import sys\n",
    "import matplotlib.patches as patches\n",
    "from hydroeval import evaluator, nse, rmse, pbias\n",
    "import seaborn as sns\n",
    "# from pyemu.pst.pst_utils import SFMT,IFMT,FFMT"
   ]
  },
  {
   "cell_type": "code",
   "execution_count": 2,
   "metadata": {},
   "outputs": [],
   "source": [
    "sys.path.insert(1, 'D:/spark-brc_gits/apexmf_git')"
   ]
  },
  {
   "cell_type": "code",
   "execution_count": 3,
   "metadata": {
    "tags": []
   },
   "outputs": [],
   "source": [
    "from apexmf import apexmf_pst_par, apexmf_utils\n",
    "from apexmf import apexmf_pst_viz\n",
    "from apexmf.salt.analyzer import SaltAnalysis"
   ]
  },
  {
   "cell_type": "markdown",
   "metadata": {},
   "source": [
    "# Set Path"
   ]
  },
  {
   "cell_type": "code",
   "execution_count": 258,
   "metadata": {},
   "outputs": [],
   "source": [
    "ani_wd = \"D:/spark-brc_gits/apexmf_git/models/main_ies_1_pp_rw_ies\"\n",
    "price_wd = \"D:/Projects/Watersheds/Price/AMRSs/4 APEX-MODFLOW-Salt Final\"\n",
    "white_wd = \"D:/Projects/Watersheds/White/Analysis/AMRSs/APEX-MODFLOW-Salt_wr\"\n",
    "ug_wd = \"D:/Projects/Watersheds/Green/Analysis/AMRSs/salt_cal_230117/gr_012721/APEX-MODFLOW_no_fracs\"\n",
    "dol_wd = \"D:/Projects/Watersheds/Dolores/Analysis/AMRSs/apexmod_230124/dr_121120/dolores_amrs\"\n",
    "gu_wd = \"D:/Projects/Watersheds/Gunnison/Analysis/AMRSs/Gunnison_APEX-MODFLOW-Salt/APEX-MODFLOW-Salt\"\n",
    "\n",
    "tot_wds = [ani_wd, price_wd, white_wd, ug_wd, dol_wd, gu_wd]\n",
    "st_dates = [\"1/1/1987\", \"1/1/1990\", \"1/1/1985\", \"1/1/1995\", \"1/1/1987\", \"1/1/2007\"]\n",
    "cal_st_dates = [\"1/1/1992\", \"1/1/1995\", \"1/1/1990\", \"1/1/2000\", \"1/1/1992\", \"1/1/2009\"]\n",
    "cal_ed_dates = [\"12/31/2011\", \"12/31/2015\", \"12/31/2019\", \"12/31/2019\", \"12/31/2011\", \"12/31/2015\"]\n",
    "names = ['Animas', 'Price', 'White', 'Upper Green','Dolores', 'Gunnison']\n",
    "\n",
    "# os.chdir(wd)"
   ]
  },
  {
   "cell_type": "code",
   "execution_count": 259,
   "metadata": {},
   "outputs": [],
   "source": [
    "contb_df = pd.DataFrame()\n",
    "for i in range(6):\n",
    "    md = SaltAnalysis(tot_wds[i])\n",
    "    df = md.load_salt_budget_watershed()\n",
    "    df.index = pd.date_range(st_dates[i], periods=len(df))\n",
    "    df = df[cal_st_dates[i]:cal_ed_dates[i]]\n",
    "    adf = df.resample('A').sum().mean()\n",
    "    dff = adf.loc[['runoff', 'erosion', 'lateral', 'APEXswgw', 'APEXgwsw']]\n",
    "    dff.name = names[i]\n",
    "    contb_df = pd.concat([contb_df, dff], axis=1)\n",
    "    "
   ]
  },
  {
   "cell_type": "code",
   "execution_count": 260,
   "metadata": {},
   "outputs": [],
   "source": [
    "ncontb_df = contb_df*-1\n",
    "tncontb_df = ncontb_df.T"
   ]
  },
  {
   "cell_type": "code",
   "execution_count": 261,
   "metadata": {},
   "outputs": [
    {
     "data": {
      "text/html": [
       "<div>\n",
       "<style scoped>\n",
       "    .dataframe tbody tr th:only-of-type {\n",
       "        vertical-align: middle;\n",
       "    }\n",
       "\n",
       "    .dataframe tbody tr th {\n",
       "        vertical-align: top;\n",
       "    }\n",
       "\n",
       "    .dataframe thead th {\n",
       "        text-align: right;\n",
       "    }\n",
       "</style>\n",
       "<table border=\"1\" class=\"dataframe\">\n",
       "  <thead>\n",
       "    <tr style=\"text-align: right;\">\n",
       "      <th></th>\n",
       "      <th>runoff</th>\n",
       "      <th>erosion</th>\n",
       "      <th>lateral</th>\n",
       "      <th>APEXswgw</th>\n",
       "      <th>APEXgwsw</th>\n",
       "    </tr>\n",
       "  </thead>\n",
       "  <tbody>\n",
       "    <tr>\n",
       "      <th>Animas</th>\n",
       "      <td>4.591198e+06</td>\n",
       "      <td>8.434861e+05</td>\n",
       "      <td>8.344329e+06</td>\n",
       "      <td>-2.105216e+05</td>\n",
       "      <td>2.656965e+08</td>\n",
       "    </tr>\n",
       "    <tr>\n",
       "      <th>Price</th>\n",
       "      <td>6.159589e+05</td>\n",
       "      <td>8.848033e+05</td>\n",
       "      <td>4.586207e+06</td>\n",
       "      <td>-2.809668e+06</td>\n",
       "      <td>6.110551e+07</td>\n",
       "    </tr>\n",
       "    <tr>\n",
       "      <th>White</th>\n",
       "      <td>4.657151e+06</td>\n",
       "      <td>1.465065e+06</td>\n",
       "      <td>1.763028e+05</td>\n",
       "      <td>-2.461780e+06</td>\n",
       "      <td>2.559522e+06</td>\n",
       "    </tr>\n",
       "    <tr>\n",
       "      <th>Upper Green</th>\n",
       "      <td>3.644850e+07</td>\n",
       "      <td>4.699085e+07</td>\n",
       "      <td>9.218036e+06</td>\n",
       "      <td>-7.812410e+07</td>\n",
       "      <td>3.223220e+09</td>\n",
       "    </tr>\n",
       "    <tr>\n",
       "      <th>Dolores</th>\n",
       "      <td>-0.000000e+00</td>\n",
       "      <td>-0.000000e+00</td>\n",
       "      <td>4.099698e+06</td>\n",
       "      <td>-8.246462e+04</td>\n",
       "      <td>1.588109e+08</td>\n",
       "    </tr>\n",
       "    <tr>\n",
       "      <th>Gunnison</th>\n",
       "      <td>4.289092e+07</td>\n",
       "      <td>2.587020e+07</td>\n",
       "      <td>9.968415e+07</td>\n",
       "      <td>-7.520301e+03</td>\n",
       "      <td>1.001897e+09</td>\n",
       "    </tr>\n",
       "  </tbody>\n",
       "</table>\n",
       "</div>"
      ],
      "text/plain": [
       "                   runoff       erosion       lateral      APEXswgw  \\\n",
       "Animas       4.591198e+06  8.434861e+05  8.344329e+06 -2.105216e+05   \n",
       "Price        6.159589e+05  8.848033e+05  4.586207e+06 -2.809668e+06   \n",
       "White        4.657151e+06  1.465065e+06  1.763028e+05 -2.461780e+06   \n",
       "Upper Green  3.644850e+07  4.699085e+07  9.218036e+06 -7.812410e+07   \n",
       "Dolores     -0.000000e+00 -0.000000e+00  4.099698e+06 -8.246462e+04   \n",
       "Gunnison     4.289092e+07  2.587020e+07  9.968415e+07 -7.520301e+03   \n",
       "\n",
       "                 APEXgwsw  \n",
       "Animas       2.656965e+08  \n",
       "Price        6.110551e+07  \n",
       "White        2.559522e+06  \n",
       "Upper Green  3.223220e+09  \n",
       "Dolores      1.588109e+08  \n",
       "Gunnison     1.001897e+09  "
      ]
     },
     "execution_count": 261,
     "metadata": {},
     "output_type": "execute_result"
    }
   ],
   "source": [
    "tncontb_df"
   ]
  },
  {
   "cell_type": "code",
   "execution_count": 262,
   "metadata": {},
   "outputs": [],
   "source": [
    "tncontb_df.loc[\"Upper Green\", \"APEXgwsw\"] = 1.241623e+09"
   ]
  },
  {
   "cell_type": "code",
   "execution_count": 263,
   "metadata": {},
   "outputs": [
    {
     "data": {
      "text/html": [
       "<div>\n",
       "<style scoped>\n",
       "    .dataframe tbody tr th:only-of-type {\n",
       "        vertical-align: middle;\n",
       "    }\n",
       "\n",
       "    .dataframe tbody tr th {\n",
       "        vertical-align: top;\n",
       "    }\n",
       "\n",
       "    .dataframe thead th {\n",
       "        text-align: right;\n",
       "    }\n",
       "</style>\n",
       "<table border=\"1\" class=\"dataframe\">\n",
       "  <thead>\n",
       "    <tr style=\"text-align: right;\">\n",
       "      <th></th>\n",
       "      <th>runoff</th>\n",
       "      <th>erosion</th>\n",
       "      <th>lateral</th>\n",
       "      <th>APEXswgw</th>\n",
       "      <th>APEXgwsw</th>\n",
       "    </tr>\n",
       "  </thead>\n",
       "  <tbody>\n",
       "    <tr>\n",
       "      <th>Animas</th>\n",
       "      <td>4.591198e+06</td>\n",
       "      <td>8.434861e+05</td>\n",
       "      <td>8.344329e+06</td>\n",
       "      <td>-2.105216e+05</td>\n",
       "      <td>2.656965e+08</td>\n",
       "    </tr>\n",
       "    <tr>\n",
       "      <th>Price</th>\n",
       "      <td>6.159589e+05</td>\n",
       "      <td>8.848033e+05</td>\n",
       "      <td>4.586207e+06</td>\n",
       "      <td>-2.809668e+06</td>\n",
       "      <td>6.110551e+07</td>\n",
       "    </tr>\n",
       "    <tr>\n",
       "      <th>White</th>\n",
       "      <td>4.657151e+06</td>\n",
       "      <td>1.465065e+06</td>\n",
       "      <td>1.763028e+05</td>\n",
       "      <td>-2.461780e+06</td>\n",
       "      <td>2.559522e+06</td>\n",
       "    </tr>\n",
       "    <tr>\n",
       "      <th>Upper Green</th>\n",
       "      <td>3.644850e+07</td>\n",
       "      <td>4.699085e+07</td>\n",
       "      <td>9.218036e+06</td>\n",
       "      <td>-7.812410e+07</td>\n",
       "      <td>1.241623e+09</td>\n",
       "    </tr>\n",
       "    <tr>\n",
       "      <th>Dolores</th>\n",
       "      <td>-0.000000e+00</td>\n",
       "      <td>-0.000000e+00</td>\n",
       "      <td>4.099698e+06</td>\n",
       "      <td>-8.246462e+04</td>\n",
       "      <td>1.588109e+08</td>\n",
       "    </tr>\n",
       "    <tr>\n",
       "      <th>Gunnison</th>\n",
       "      <td>4.289092e+07</td>\n",
       "      <td>2.587020e+07</td>\n",
       "      <td>9.968415e+07</td>\n",
       "      <td>-7.520301e+03</td>\n",
       "      <td>1.001897e+09</td>\n",
       "    </tr>\n",
       "  </tbody>\n",
       "</table>\n",
       "</div>"
      ],
      "text/plain": [
       "                   runoff       erosion       lateral      APEXswgw  \\\n",
       "Animas       4.591198e+06  8.434861e+05  8.344329e+06 -2.105216e+05   \n",
       "Price        6.159589e+05  8.848033e+05  4.586207e+06 -2.809668e+06   \n",
       "White        4.657151e+06  1.465065e+06  1.763028e+05 -2.461780e+06   \n",
       "Upper Green  3.644850e+07  4.699085e+07  9.218036e+06 -7.812410e+07   \n",
       "Dolores     -0.000000e+00 -0.000000e+00  4.099698e+06 -8.246462e+04   \n",
       "Gunnison     4.289092e+07  2.587020e+07  9.968415e+07 -7.520301e+03   \n",
       "\n",
       "                 APEXgwsw  \n",
       "Animas       2.656965e+08  \n",
       "Price        6.110551e+07  \n",
       "White        2.559522e+06  \n",
       "Upper Green  1.241623e+09  \n",
       "Dolores      1.588109e+08  \n",
       "Gunnison     1.001897e+09  "
      ]
     },
     "execution_count": 263,
     "metadata": {},
     "output_type": "execute_result"
    }
   ],
   "source": [
    "tncontb_df"
   ]
  },
  {
   "cell_type": "code",
   "execution_count": 270,
   "metadata": {},
   "outputs": [
    {
     "data": {
      "text/plain": [
       "<Figure size 900x900 with 0 Axes>"
      ]
     },
     "metadata": {},
     "output_type": "display_data"
    },
    {
     "data": {
      "image/png": "[encoded data removed]",
      "text/plain": [
       "<Figure size 640x480 with 1 Axes>"
      ]
     },
     "metadata": {},
     "output_type": "display_data"
    }
   ],
   "source": [
    "plt.figure(figsize=(9, 9))\n",
    "ax = tncontb_df.plot(kind='bar')\n",
    "ax.set_ylabel(r'Loading to Streams $(kg/year)$', fontsize=10)\n",
    "ax.legend(\n",
    "    labels=[\"Runoff\", \"Erosion\", \"Lateral\", \"SW-->GW\", \"GW-->SW\"], loc =\"upper left\", fontsize=10,\n",
    "    ncols=5,\n",
    "    bbox_to_anchor=(0.1, 1.1)\n",
    "    )\n",
    "ax.tick_params(axis='both', labelsize=10)\n",
    "ax.spines[['right', 'top']].set_visible(False)\n",
    "plt.savefig(os.path.join('D:/spark-brc_gits/apexmf_git','{}.jpg'.format(\"salt_loadings\")), dpi=300, bbox_inches=\"tight\")\n",
    "plt.show()\n"
   ]
  },
  {
   "cell_type": "code",
   "execution_count": 271,
   "metadata": {},
   "outputs": [
    {
     "data": {
      "text/plain": [
       "'D:\\\\Projects\\\\Watersheds\\\\Gunnison\\\\Analysis\\\\AMRSs\\\\Gunnison_APEX-MODFLOW-Salt\\\\APEX-MODFLOW-Salt'"
      ]
     },
     "execution_count": 271,
     "metadata": {},
     "output_type": "execute_result"
    }
   ],
   "source": [
    "os.getcwd()"
   ]
  },
  {
   "cell_type": "code",
   "execution_count": 272,
   "metadata": {},
   "outputs": [
    {
     "data": {
      "text/html": [
       "<div>\n",
       "<style scoped>\n",
       "    .dataframe tbody tr th:only-of-type {\n",
       "        vertical-align: middle;\n",
       "    }\n",
       "\n",
       "    .dataframe tbody tr th {\n",
       "        vertical-align: top;\n",
       "    }\n",
       "\n",
       "    .dataframe thead th {\n",
       "        text-align: right;\n",
       "    }\n",
       "</style>\n",
       "<table border=\"1\" class=\"dataframe\">\n",
       "  <thead>\n",
       "    <tr style=\"text-align: right;\">\n",
       "      <th></th>\n",
       "      <th>Animas</th>\n",
       "      <th>Price</th>\n",
       "      <th>White</th>\n",
       "      <th>Upper Green</th>\n",
       "      <th>Dolores</th>\n",
       "      <th>Gunnison</th>\n",
       "    </tr>\n",
       "  </thead>\n",
       "  <tbody>\n",
       "    <tr>\n",
       "      <th>runoff</th>\n",
       "      <td>4.591198e+06</td>\n",
       "      <td>6.159589e+05</td>\n",
       "      <td>4.657151e+06</td>\n",
       "      <td>3.644850e+07</td>\n",
       "      <td>-0.000000e+00</td>\n",
       "      <td>4.289092e+07</td>\n",
       "    </tr>\n",
       "    <tr>\n",
       "      <th>erosion</th>\n",
       "      <td>8.434861e+05</td>\n",
       "      <td>8.848033e+05</td>\n",
       "      <td>1.465065e+06</td>\n",
       "      <td>4.699085e+07</td>\n",
       "      <td>-0.000000e+00</td>\n",
       "      <td>2.587020e+07</td>\n",
       "    </tr>\n",
       "    <tr>\n",
       "      <th>lateral</th>\n",
       "      <td>8.344329e+06</td>\n",
       "      <td>4.586207e+06</td>\n",
       "      <td>1.763028e+05</td>\n",
       "      <td>9.218036e+06</td>\n",
       "      <td>4.099698e+06</td>\n",
       "      <td>9.968415e+07</td>\n",
       "    </tr>\n",
       "    <tr>\n",
       "      <th>APEXswgw</th>\n",
       "      <td>-2.105216e+05</td>\n",
       "      <td>-2.809668e+06</td>\n",
       "      <td>-2.461780e+06</td>\n",
       "      <td>-7.812410e+07</td>\n",
       "      <td>-8.246462e+04</td>\n",
       "      <td>-7.520301e+03</td>\n",
       "    </tr>\n",
       "    <tr>\n",
       "      <th>APEXgwsw</th>\n",
       "      <td>2.656965e+08</td>\n",
       "      <td>6.110551e+07</td>\n",
       "      <td>2.559522e+06</td>\n",
       "      <td>3.223220e+09</td>\n",
       "      <td>1.588109e+08</td>\n",
       "      <td>1.001897e+09</td>\n",
       "    </tr>\n",
       "  </tbody>\n",
       "</table>\n",
       "</div>"
      ],
      "text/plain": [
       "                Animas         Price         White   Upper Green  \\\n",
       "runoff    4.591198e+06  6.159589e+05  4.657151e+06  3.644850e+07   \n",
       "erosion   8.434861e+05  8.848033e+05  1.465065e+06  4.699085e+07   \n",
       "lateral   8.344329e+06  4.586207e+06  1.763028e+05  9.218036e+06   \n",
       "APEXswgw -2.105216e+05 -2.809668e+06 -2.461780e+06 -7.812410e+07   \n",
       "APEXgwsw  2.656965e+08  6.110551e+07  2.559522e+06  3.223220e+09   \n",
       "\n",
       "               Dolores      Gunnison  \n",
       "runoff   -0.000000e+00  4.289092e+07  \n",
       "erosion  -0.000000e+00  2.587020e+07  \n",
       "lateral   4.099698e+06  9.968415e+07  \n",
       "APEXswgw -8.246462e+04 -7.520301e+03  \n",
       "APEXgwsw  1.588109e+08  1.001897e+09  "
      ]
     },
     "execution_count": 272,
     "metadata": {},
     "output_type": "execute_result"
    }
   ],
   "source": [
    "ncontb_df"
   ]
  },
  {
   "cell_type": "code",
   "execution_count": 273,
   "metadata": {},
   "outputs": [],
   "source": [
    "ncontb_df.loc[\"Net GW\"] = ncontb_df.loc[\"APEXswgw\"] + ncontb_df.loc[\"APEXgwsw\"]"
   ]
  },
  {
   "cell_type": "code",
   "execution_count": 274,
   "metadata": {},
   "outputs": [],
   "source": [
    "per_df = ncontb_df.sum(axis=1)\n",
    "per_df.name = \"mass\"\n",
    "per_dff = per_df.to_frame()\n",
    "per_dff.drop([\"APEXswgw\", \"APEXgwsw\"], inplace=True)\n"
   ]
  },
  {
   "cell_type": "code",
   "execution_count": 281,
   "metadata": {},
   "outputs": [
    {
     "data": {
      "text/plain": [
       "<Figure size 900x900 with 0 Axes>"
      ]
     },
     "metadata": {},
     "output_type": "display_data"
    },
    {
     "data": {
      "image/png": "[encoded data removed]",
      "text/plain": [
       "<Figure size 640x480 with 1 Axes>"
      ]
     },
     "metadata": {},
     "output_type": "display_data"
    }
   ],
   "source": [
    "plt.figure(figsize=(9, 9))\n",
    "ax = per_dff.plot(\n",
    "    kind=\"pie\", y=\"mass\",explode=(0.1, 0.1, 0.1,0.1),\n",
    "    colors = ['C0', 'C1', 'C2', 'C6'], labels=None, \n",
    "#     autopct='%1.2f%%',\n",
    "    legend=False)\n",
    "ax.set_ylabel('')\n",
    "plt.savefig(os.path.join('D:/spark-brc_gits/apexmf_git','{}.jpg'.format(\"salt_contb\")), dpi=300, bbox_inches=\"tight\")\n",
    "plt.show()"
   ]
  },
  {
   "cell_type": "markdown",
   "metadata": {},
   "source": [
    "# subscale budget"
   ]
  },
  {
   "cell_type": "code",
   "execution_count": 355,
   "metadata": {},
   "outputs": [],
   "source": [
    "i = 5"
   ]
  },
  {
   "cell_type": "code",
   "execution_count": 356,
   "metadata": {},
   "outputs": [],
   "source": [
    "md = SaltAnalysis(tot_wds[i])\n",
    "df = md.load_salt_budget_sub()"
   ]
  },
  {
   "cell_type": "code",
   "execution_count": 357,
   "metadata": {},
   "outputs": [],
   "source": [
    "df2 = pd.concat([df.iloc[:, :2], df.iloc[:,2:].div(df[\"area(ha)\"], axis=0)], axis=1)"
   ]
  },
  {
   "cell_type": "code",
   "execution_count": 358,
   "metadata": {},
   "outputs": [],
   "source": [
    "dff = pd.DataFrame()\n",
    "for sub in range(1, int(df2.index.max())+1):\n",
    "    sdf = df2.loc[sub]\n",
    "    sdf.index = pd.date_range(st_dates[i], periods=len(sdf))\n",
    "    sdf = sdf[cal_st_dates[i]:cal_ed_dates[i]]\n",
    "    adf = sdf.resample('A').sum().mean()\n",
    "    dff = pd.concat([dff, adf.to_frame().T], axis=0)\n",
    "dff.loc[:, \"salt_loads\"] = (\n",
    "    dff.loc[:, \"runoff\"] + dff.loc[:, \"erosion\"] + \n",
    "    dff.loc[:, \"lateral\"] + dff.loc[:, \"gw-->sw\"] -\n",
    "    dff.loc[:, \"sw-->gw\"]\n",
    "    )\n",
    "dff.insert(0, 'Subbasin', [i for i in range(1, int(df.index.max())+1)])"
   ]
  },
  {
   "cell_type": "code",
   "execution_count": 359,
   "metadata": {},
   "outputs": [],
   "source": [
    "gis_wd = 'D:/Projects/BLM/reports/report_230721/apexmods/blm_report_gis'"
   ]
  },
  {
   "cell_type": "code",
   "execution_count": 360,
   "metadata": {},
   "outputs": [],
   "source": [
    "dff.loc[:, ['Subbasin', 'salt_loads']].to_csv(os.path.join(gis_wd, 'gu_annual02.csv'), index=False)"
   ]
  },
  {
   "cell_type": "code",
   "execution_count": null,
   "metadata": {},
   "outputs": [],
   "source": []
  },
  {
   "cell_type": "code",
   "execution_count": null,
   "metadata": {},
   "outputs": [],
   "source": []
  },
  {
   "cell_type": "code",
   "execution_count": null,
   "metadata": {},
   "outputs": [],
   "source": []
  },
  {
   "cell_type": "code",
   "execution_count": null,
   "metadata": {},
   "outputs": [],
   "source": []
  }
 ],
 "metadata": {
  "kernelspec": {
   "display_name": "Python 3 (ipykernel)",
   "language": "python",
   "name": "python3"
  },
  "language_info": {
   "codemirror_mode": {
    "name": "ipython",
    "version": 3
   },
   "file_extension": ".py",
   "mimetype": "text/x-python",
   "name": "python",
   "nbconvert_exporter": "python",
   "pygments_lexer": "ipython3",
   "version": "3.11.4"
  }
 },
 "nbformat": 4,
 "nbformat_minor": 2
}
