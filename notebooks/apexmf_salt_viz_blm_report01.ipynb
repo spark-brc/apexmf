{
 "cells": [
  {
   "cell_type": "markdown",
   "metadata": {},
   "source": [
    "# salt result viz"
   ]
  },
  {
   "cell_type": "code",
   "execution_count": 49,
   "metadata": {
    "tags": []
   },
   "outputs": [],
   "source": [
    "import pandas as pd\n",
    "import numpy as np\n",
    "import matplotlib.pyplot as plt\n",
    "import os\n",
    "import sys\n",
    "import matplotlib.patches as patches\n",
    "from hydroeval import evaluator, nse, rmse, pbias\n",
    "import matplotlib.pyplot as plt\n",
    "# import seaborn as sns\n",
    "# from pyemu.pst.pst_utils import SFMT,IFMT,FFMT"
   ]
  },
  {
   "cell_type": "code",
   "execution_count": 2,
   "metadata": {},
   "outputs": [],
   "source": [
    "sys.path.insert(1, 'D:/spark-brc_gits/apexmf_git')"
   ]
  },
  {
   "cell_type": "code",
   "execution_count": 3,
   "metadata": {
    "tags": []
   },
   "outputs": [],
   "source": [
    "from apexmf import apexmf_pst_par, apexmf_utils\n",
    "from apexmf import apexmf_pst_viz, apexmf_pst_utils\n",
    "from apexmf.salt.analyzer import SaltAnalysis"
   ]
  },
  {
   "cell_type": "markdown",
   "metadata": {},
   "source": [
    "# Set Path"
   ]
  },
  {
   "cell_type": "code",
   "execution_count": 10,
   "metadata": {},
   "outputs": [],
   "source": [
    "cwd = \"D:/Projects/BLM/reports/report_230831_final\""
   ]
  },
  {
   "cell_type": "code",
   "execution_count": 11,
   "metadata": {},
   "outputs": [],
   "source": [
    "ani_wd = \"D:/Projects/Watersheds/Animas/Analysis/AMRSs/calibration/main_ies_1_pp_rw_ies_init_zero\""
   ]
  },
  {
   "cell_type": "code",
   "execution_count": 33,
   "metadata": {},
   "outputs": [],
   "source": [
    "# ani_wd = \"D:\\Projects\\Watersheds\\Animas\\Analysis\\AMRSs\\calibration\\main_ies_1_pp_rw_ies_init_zero\"\n",
    "price_wd = \"D:/Projects/Watersheds/Price/AMRSs/4 APEX-MODFLOW-Salt Final\"\n",
    "white_wd = \"D:/Projects/Watersheds/White/Analysis/AMRSs/APEX-MODFLOW-Salt_wr\"\n",
    "ug_wd = \"D:/Projects/Watersheds/Green/Analysis/AMRSs/salt_cal_230117/gr_012721/APEX-MODFLOW_no_fracs\"\n",
    "dol_wd = \"D:/Projects/Watersheds/Dolores/Analysis/AMRSs/apexmod_230124/dr_121120/dolores_amrs\"\n",
    "gu_wd = \"D:/Projects/Watersheds/Gunnison/Analysis/AMRSs/Gunnison_APEX-MODFLOW-Salt/APEX-MODFLOW-Salt\"\n",
    "\n",
    "sub_ids = [75, 163, 66, 199, 1, 64]\n",
    "rch_fnams = [f\"SITE{sub_id}.RCH\" for sub_id in sub_ids]\n",
    "obd_col_nams = [\"str_075\", \"sub_163\", \"sub066\", \"sub199\", \"sub001\", \"sub0064\"]\n",
    "\n",
    "tot_wds = [ani_wd, price_wd, white_wd, ug_wd, dol_wd, gu_wd]\n",
    "st_dates = [\"1/1/1987\", \"1/1/1990\", \"1/1/1985\", \"1/1/1995\", \"1/1/1987\", \"1/1/2007\"]\n",
    "cal_st_dates = [\"1/1/1992\", \"1/1/1995\", \"1/1/1990\", \"1/1/2000\", \"1/1/1992\", \"1/1/2009\"]\n",
    "cal_ed_dates = [\"12/31/2011\", \"12/31/2015\", \"12/31/2019\", \"12/31/2019\", \"12/31/2011\", \"12/31/2015\"]\n",
    "names = ['Animas', 'Price', 'White', 'Upper Green','Dolores', 'Gunnison']\n",
    "\n",
    "# os.chdir(wd)"
   ]
  },
  {
   "cell_type": "code",
   "execution_count": 7,
   "metadata": {},
   "outputs": [],
   "source": [
    "os.chdir(cwd)"
   ]
  },
  {
   "cell_type": "code",
   "execution_count": 46,
   "metadata": {},
   "outputs": [],
   "source": [
    "def tot_stf():\n",
    "    tot_df = pd.DataFrame()\n",
    "    \n",
    "    for i in range(6):\n",
    "        df_stf = apexmf_pst_utils.extract_month_stf(\n",
    "            os.path.join(tot_wds[i], rch_fnams[i]), [sub_ids[i]], st_dates[i], cal_st_dates[i], cal_ed_dates[i])\n",
    "        \n",
    "        stf_obd_inf = 'stf_mon.obd'\n",
    "        col_name = obd_col_nams[i]\n",
    "        \n",
    "        stf_obd = pd.read_csv(\n",
    "                    os.path.join(tot_wds[i], stf_obd_inf),\n",
    "                    sep='\\t',\n",
    "                    usecols=['date', obd_col_nams[i]],\n",
    "                    index_col=0,\n",
    "                    parse_dates=True,\n",
    "                    na_values=[-999, '']\n",
    "                    )\n",
    "        com_df = pd.concat([df_stf, stf_obd], axis=1).dropna()\n",
    "        com_df.rename(columns={'str_sim': names[i]}, inplace=True)\n",
    "        tot_df = pd.concat([tot_df, com_df], axis=1)\n",
    "    return tot_df\n",
    "        "
   ]
  },
  {
   "cell_type": "code",
   "execution_count": 47,
   "metadata": {},
   "outputs": [
    {
     "name": "stdout",
     "output_type": "stream",
     "text": [
      "stf_075.txt file has been created...\n",
      "Finished ...\n",
      "stf_163.txt file has been created...\n",
      "Finished ...\n",
      "stf_066.txt file has been created...\n",
      "Finished ...\n",
      "stf_199.txt file has been created...\n",
      "Finished ...\n",
      "stf_001.txt file has been created...\n",
      "Finished ...\n",
      "stf_064.txt file has been created...\n",
      "Finished ...\n"
     ]
    }
   ],
   "source": [
    "df = tot_stf()"
   ]
  },
  {
   "cell_type": "code",
   "execution_count": 48,
   "metadata": {},
   "outputs": [
    {
     "data": {
      "text/html": [
       "<div>\n",
       "<style scoped>\n",
       "    .dataframe tbody tr th:only-of-type {\n",
       "        vertical-align: middle;\n",
       "    }\n",
       "\n",
       "    .dataframe tbody tr th {\n",
       "        vertical-align: top;\n",
       "    }\n",
       "\n",
       "    .dataframe thead th {\n",
       "        text-align: right;\n",
       "    }\n",
       "</style>\n",
       "<table border=\"1\" class=\"dataframe\">\n",
       "  <thead>\n",
       "    <tr style=\"text-align: right;\">\n",
       "      <th></th>\n",
       "      <th>Animas</th>\n",
       "      <th>str_075</th>\n",
       "      <th>Price</th>\n",
       "      <th>sub_163</th>\n",
       "      <th>White</th>\n",
       "      <th>sub066</th>\n",
       "      <th>Upper Green</th>\n",
       "      <th>sub199</th>\n",
       "      <th>Dolores</th>\n",
       "      <th>sub001</th>\n",
       "      <th>Gunnison</th>\n",
       "      <th>sub0064</th>\n",
       "    </tr>\n",
       "  </thead>\n",
       "  <tbody>\n",
       "    <tr>\n",
       "      <th>1990-01-31</th>\n",
       "      <td>NaN</td>\n",
       "      <td>NaN</td>\n",
       "      <td>NaN</td>\n",
       "      <td>NaN</td>\n",
       "      <td>11.68</td>\n",
       "      <td>9.27</td>\n",
       "      <td>NaN</td>\n",
       "      <td>NaN</td>\n",
       "      <td>NaN</td>\n",
       "      <td>NaN</td>\n",
       "      <td>NaN</td>\n",
       "      <td>NaN</td>\n",
       "    </tr>\n",
       "    <tr>\n",
       "      <th>1990-02-28</th>\n",
       "      <td>NaN</td>\n",
       "      <td>NaN</td>\n",
       "      <td>NaN</td>\n",
       "      <td>NaN</td>\n",
       "      <td>11.54</td>\n",
       "      <td>13.29</td>\n",
       "      <td>NaN</td>\n",
       "      <td>NaN</td>\n",
       "      <td>NaN</td>\n",
       "      <td>NaN</td>\n",
       "      <td>NaN</td>\n",
       "      <td>NaN</td>\n",
       "    </tr>\n",
       "    <tr>\n",
       "      <th>1990-03-31</th>\n",
       "      <td>NaN</td>\n",
       "      <td>NaN</td>\n",
       "      <td>NaN</td>\n",
       "      <td>NaN</td>\n",
       "      <td>12.51</td>\n",
       "      <td>14.04</td>\n",
       "      <td>NaN</td>\n",
       "      <td>NaN</td>\n",
       "      <td>NaN</td>\n",
       "      <td>NaN</td>\n",
       "      <td>NaN</td>\n",
       "      <td>NaN</td>\n",
       "    </tr>\n",
       "    <tr>\n",
       "      <th>1990-04-30</th>\n",
       "      <td>NaN</td>\n",
       "      <td>NaN</td>\n",
       "      <td>NaN</td>\n",
       "      <td>NaN</td>\n",
       "      <td>14.26</td>\n",
       "      <td>13.01</td>\n",
       "      <td>NaN</td>\n",
       "      <td>NaN</td>\n",
       "      <td>NaN</td>\n",
       "      <td>NaN</td>\n",
       "      <td>NaN</td>\n",
       "      <td>NaN</td>\n",
       "    </tr>\n",
       "    <tr>\n",
       "      <th>1990-05-31</th>\n",
       "      <td>NaN</td>\n",
       "      <td>NaN</td>\n",
       "      <td>NaN</td>\n",
       "      <td>NaN</td>\n",
       "      <td>26.84</td>\n",
       "      <td>14.54</td>\n",
       "      <td>NaN</td>\n",
       "      <td>NaN</td>\n",
       "      <td>NaN</td>\n",
       "      <td>NaN</td>\n",
       "      <td>NaN</td>\n",
       "      <td>NaN</td>\n",
       "    </tr>\n",
       "    <tr>\n",
       "      <th>...</th>\n",
       "      <td>...</td>\n",
       "      <td>...</td>\n",
       "      <td>...</td>\n",
       "      <td>...</td>\n",
       "      <td>...</td>\n",
       "      <td>...</td>\n",
       "      <td>...</td>\n",
       "      <td>...</td>\n",
       "      <td>...</td>\n",
       "      <td>...</td>\n",
       "      <td>...</td>\n",
       "      <td>...</td>\n",
       "    </tr>\n",
       "    <tr>\n",
       "      <th>2019-08-31</th>\n",
       "      <td>NaN</td>\n",
       "      <td>NaN</td>\n",
       "      <td>NaN</td>\n",
       "      <td>NaN</td>\n",
       "      <td>12.89</td>\n",
       "      <td>11.58</td>\n",
       "      <td>31.80</td>\n",
       "      <td>29.80</td>\n",
       "      <td>NaN</td>\n",
       "      <td>NaN</td>\n",
       "      <td>NaN</td>\n",
       "      <td>NaN</td>\n",
       "    </tr>\n",
       "    <tr>\n",
       "      <th>2019-09-30</th>\n",
       "      <td>NaN</td>\n",
       "      <td>NaN</td>\n",
       "      <td>NaN</td>\n",
       "      <td>NaN</td>\n",
       "      <td>12.12</td>\n",
       "      <td>9.09</td>\n",
       "      <td>27.27</td>\n",
       "      <td>30.03</td>\n",
       "      <td>NaN</td>\n",
       "      <td>NaN</td>\n",
       "      <td>NaN</td>\n",
       "      <td>NaN</td>\n",
       "    </tr>\n",
       "    <tr>\n",
       "      <th>2019-10-31</th>\n",
       "      <td>NaN</td>\n",
       "      <td>NaN</td>\n",
       "      <td>NaN</td>\n",
       "      <td>NaN</td>\n",
       "      <td>12.43</td>\n",
       "      <td>11.43</td>\n",
       "      <td>33.71</td>\n",
       "      <td>31.02</td>\n",
       "      <td>NaN</td>\n",
       "      <td>NaN</td>\n",
       "      <td>NaN</td>\n",
       "      <td>NaN</td>\n",
       "    </tr>\n",
       "    <tr>\n",
       "      <th>2019-11-30</th>\n",
       "      <td>NaN</td>\n",
       "      <td>NaN</td>\n",
       "      <td>NaN</td>\n",
       "      <td>NaN</td>\n",
       "      <td>12.58</td>\n",
       "      <td>11.51</td>\n",
       "      <td>33.70</td>\n",
       "      <td>29.69</td>\n",
       "      <td>NaN</td>\n",
       "      <td>NaN</td>\n",
       "      <td>NaN</td>\n",
       "      <td>NaN</td>\n",
       "    </tr>\n",
       "    <tr>\n",
       "      <th>2019-12-31</th>\n",
       "      <td>NaN</td>\n",
       "      <td>NaN</td>\n",
       "      <td>NaN</td>\n",
       "      <td>NaN</td>\n",
       "      <td>12.31</td>\n",
       "      <td>10.32</td>\n",
       "      <td>35.83</td>\n",
       "      <td>29.55</td>\n",
       "      <td>NaN</td>\n",
       "      <td>NaN</td>\n",
       "      <td>NaN</td>\n",
       "      <td>NaN</td>\n",
       "    </tr>\n",
       "  </tbody>\n",
       "</table>\n",
       "<p>360 rows × 12 columns</p>\n",
       "</div>"
      ],
      "text/plain": [
       "            Animas  str_075  Price  sub_163  White  sub066  Upper Green   \n",
       "1990-01-31     NaN      NaN    NaN      NaN  11.68    9.27          NaN  \\\n",
       "1990-02-28     NaN      NaN    NaN      NaN  11.54   13.29          NaN   \n",
       "1990-03-31     NaN      NaN    NaN      NaN  12.51   14.04          NaN   \n",
       "1990-04-30     NaN      NaN    NaN      NaN  14.26   13.01          NaN   \n",
       "1990-05-31     NaN      NaN    NaN      NaN  26.84   14.54          NaN   \n",
       "...            ...      ...    ...      ...    ...     ...          ...   \n",
       "2019-08-31     NaN      NaN    NaN      NaN  12.89   11.58        31.80   \n",
       "2019-09-30     NaN      NaN    NaN      NaN  12.12    9.09        27.27   \n",
       "2019-10-31     NaN      NaN    NaN      NaN  12.43   11.43        33.71   \n",
       "2019-11-30     NaN      NaN    NaN      NaN  12.58   11.51        33.70   \n",
       "2019-12-31     NaN      NaN    NaN      NaN  12.31   10.32        35.83   \n",
       "\n",
       "            sub199  Dolores  sub001  Gunnison  sub0064  \n",
       "1990-01-31     NaN      NaN     NaN       NaN      NaN  \n",
       "1990-02-28     NaN      NaN     NaN       NaN      NaN  \n",
       "1990-03-31     NaN      NaN     NaN       NaN      NaN  \n",
       "1990-04-30     NaN      NaN     NaN       NaN      NaN  \n",
       "1990-05-31     NaN      NaN     NaN       NaN      NaN  \n",
       "...            ...      ...     ...       ...      ...  \n",
       "2019-08-31   29.80      NaN     NaN       NaN      NaN  \n",
       "2019-09-30   30.03      NaN     NaN       NaN      NaN  \n",
       "2019-10-31   31.02      NaN     NaN       NaN      NaN  \n",
       "2019-11-30   29.69      NaN     NaN       NaN      NaN  \n",
       "2019-12-31   29.55      NaN     NaN       NaN      NaN  \n",
       "\n",
       "[360 rows x 12 columns]"
      ]
     },
     "execution_count": 48,
     "metadata": {},
     "output_type": "execute_result"
    }
   ],
   "source": [
    "df"
   ]
  },
  {
   "cell_type": "code",
   "execution_count": 51,
   "metadata": {},
   "outputs": [
    {
     "data": {
      "image/png": "[encoded data removed]",
      "text/plain": [
       "<Figure size 600x500 with 1 Axes>"
      ]
     },
     "metadata": {},
     "output_type": "display_data"
    }
   ],
   "source": [
    "fig, ax = plt.subplots(figsize=(6,5))\n",
    "\n",
    "for i in range(6):\n",
    "    ax.scatter(\n",
    "        df.iloc[:, i], df.iloc[:, i+1], alpha=0.5)\n",
    "plt.show()"
   ]
  },
  {
   "cell_type": "code",
   "execution_count": null,
   "metadata": {},
   "outputs": [],
   "source": []
  },
  {
   "cell_type": "code",
   "execution_count": null,
   "metadata": {},
   "outputs": [],
   "source": []
  }
 ],
 "metadata": {
  "kernelspec": {
   "display_name": "Python 3 (ipykernel)",
   "language": "python",
   "name": "python3"
  },
  "language_info": {
   "codemirror_mode": {
    "name": "ipython",
    "version": 3
   },
   "file_extension": ".py",
   "mimetype": "text/x-python",
   "name": "python",
   "nbconvert_exporter": "python",
   "pygments_lexer": "ipython3",
   "version": "3.10.10"
  }
 },
 "nbformat": 4,
 "nbformat_minor": 2
}
