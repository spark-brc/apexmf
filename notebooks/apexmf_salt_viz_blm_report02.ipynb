{
 "cells": [
  {
   "cell_type": "markdown",
   "metadata": {},
   "source": [
    "# salt result viz"
   ]
  },
  {
   "cell_type": "code",
   "execution_count": 1,
   "metadata": {
    "tags": []
   },
   "outputs": [],
   "source": [
    "import pandas as pd\n",
    "import numpy as np\n",
    "import matplotlib.pyplot as plt\n",
    "import os\n",
    "import sys\n",
    "import matplotlib.patches as patches\n",
    "from hydroeval import evaluator, nse, rmse, pbias\n",
    "import matplotlib.pyplot as plt\n",
    "# import seaborn as sns\n",
    "# from pyemu.pst.pst_utils import SFMT,IFMT,FFMT"
   ]
  },
  {
   "cell_type": "code",
   "execution_count": 2,
   "metadata": {},
   "outputs": [],
   "source": [
    "sys.path.insert(1, 'D:/spark-brc_gits/apexmf_git')"
   ]
  },
  {
   "cell_type": "code",
   "execution_count": 3,
   "metadata": {
    "tags": []
   },
   "outputs": [
    {
     "name": "stderr",
     "output_type": "stream",
     "text": [
      "D:\\spark-brc_gits/apexmf_git\\apexmf\\analyzer.py:260: DeprecationWarning: invalid escape sequence '\\l'\n"
     ]
    }
   ],
   "source": [
    "from apexmf import apexmf_pst_par, apexmf_utils\n",
    "from apexmf import apexmf_pst_viz, apexmf_pst_utils\n",
    "from apexmf.salt.analyzer import SaltAnalysis\n",
    "from apexmf import analyzer"
   ]
  },
  {
   "cell_type": "markdown",
   "metadata": {},
   "source": [
    "# Set Path"
   ]
  },
  {
   "cell_type": "code",
   "execution_count": 4,
   "metadata": {},
   "outputs": [],
   "source": [
    "cwd = \"D:/Projects/BLM/reports/report_230831_final\""
   ]
  },
  {
   "cell_type": "code",
   "execution_count": 5,
   "metadata": {},
   "outputs": [],
   "source": [
    "ani_wd = \"D:/Projects/Watersheds/Animas/Analysis/AMRSs/calibration/main_ies_1_pp_rw_ies_init_zero\""
   ]
  },
  {
   "cell_type": "code",
   "execution_count": 6,
   "metadata": {},
   "outputs": [],
   "source": [
    "# ani_wd = \"D:\\Projects\\Watersheds\\Animas\\Analysis\\AMRSs\\calibration\\main_ies_1_pp_rw_ies_init_zero\"\n",
    "price_wd = \"D:/Projects/Watersheds/Price/AMRSs/4 APEX-MODFLOW-Salt Final\"\n",
    "white_wd = \"D:/Projects/Watersheds/White/Analysis/AMRSs/APEX-MODFLOW-Salt_wr\"\n",
    "ug_wd = \"D:/Projects/Watersheds/Green/Analysis/AMRSs/salt_cal_230117/gr_012721/main_ies_1_pp_rw_ies\"\n",
    "dol_wd = \"D:/Projects/Watersheds/Dolores/Analysis/AMRSs/main_ies_1_pp_rw_ies\"\n",
    "gu_wd = \"D:/Projects/Watersheds/Gunnison/Analysis/AMRSs/main_ies_rw\"\n",
    "\n",
    "sub_ids = [75, 163, 66, 199, 1, 64]\n",
    "rch_fnams = [f\"SITE{sub_id}.RCH\" for sub_id in sub_ids]\n",
    "obd_col_nams = [\"str_075\", \"sub_163\", \"sub066\", \"sub199\", \"sub001\", \"sub0064\"]\n",
    "\n",
    "tot_wds = [ani_wd, price_wd, white_wd, ug_wd, dol_wd, gu_wd]\n",
    "st_dates = [\"1/1/1987\", \"1/1/1990\", \"1/1/1985\", \"1/1/1995\", \"1/1/1987\", \"1/1/2007\"]\n",
    "cal_st_dates = [\"1/1/1992\", \"1/1/1995\", \"1/1/1990\", \"1/1/2000\", \"1/1/1992\", \"1/1/2009\"]\n",
    "cal_ed_dates = [\"12/31/2011\", \"12/31/2015\", \"12/31/2019\", \"12/31/2019\", \"12/31/2011\", \"12/31/2015\"]\n",
    "names = ['Animas', 'Price', 'White', 'Upper Green','Dolores', 'Gunnison']\n",
    "\n",
    "# os.chdir(wd)"
   ]
  },
  {
   "cell_type": "markdown",
   "metadata": {},
   "source": [
    "# Groundwater"
   ]
  },
  {
   "cell_type": "code",
   "execution_count": 4,
   "metadata": {},
   "outputs": [],
   "source": [
    "gwd = \"D:/Projects/BLM/reports/report_230831_final\""
   ]
  },
  {
   "cell_type": "code",
   "execution_count": 5,
   "metadata": {},
   "outputs": [],
   "source": [
    "os.chdir(gwd)"
   ]
  },
  {
   "cell_type": "code",
   "execution_count": 6,
   "metadata": {},
   "outputs": [],
   "source": [
    "gw_df = pd.read_excel(\"tot_gw.xlsx\",\n",
    "            usecols=[\"Measured\", \"Modelled\", \"ws\"],\n",
    "            )"
   ]
  },
  {
   "cell_type": "code",
   "execution_count": 7,
   "metadata": {},
   "outputs": [
    {
     "data": {
      "text/html": [
       "<div>\n",
       "<style scoped>\n",
       "    .dataframe tbody tr th:only-of-type {\n",
       "        vertical-align: middle;\n",
       "    }\n",
       "\n",
       "    .dataframe tbody tr th {\n",
       "        vertical-align: top;\n",
       "    }\n",
       "\n",
       "    .dataframe thead th {\n",
       "        text-align: right;\n",
       "    }\n",
       "</style>\n",
       "<table border=\"1\" class=\"dataframe\">\n",
       "  <thead>\n",
       "    <tr style=\"text-align: right;\">\n",
       "      <th></th>\n",
       "      <th>Measured</th>\n",
       "      <th>Modelled</th>\n",
       "      <th>ws</th>\n",
       "    </tr>\n",
       "  </thead>\n",
       "  <tbody>\n",
       "    <tr>\n",
       "      <th>0</th>\n",
       "      <td>-31.09</td>\n",
       "      <td>-27.960000</td>\n",
       "      <td>Animas</td>\n",
       "    </tr>\n",
       "    <tr>\n",
       "      <th>1</th>\n",
       "      <td>-30.30</td>\n",
       "      <td>-28.000000</td>\n",
       "      <td>Animas</td>\n",
       "    </tr>\n",
       "    <tr>\n",
       "      <th>2</th>\n",
       "      <td>-30.14</td>\n",
       "      <td>-28.030000</td>\n",
       "      <td>Animas</td>\n",
       "    </tr>\n",
       "    <tr>\n",
       "      <th>3</th>\n",
       "      <td>-29.92</td>\n",
       "      <td>-28.080000</td>\n",
       "      <td>Animas</td>\n",
       "    </tr>\n",
       "    <tr>\n",
       "      <th>4</th>\n",
       "      <td>-30.37</td>\n",
       "      <td>-28.130000</td>\n",
       "      <td>Animas</td>\n",
       "    </tr>\n",
       "    <tr>\n",
       "      <th>...</th>\n",
       "      <td>...</td>\n",
       "      <td>...</td>\n",
       "      <td>...</td>\n",
       "    </tr>\n",
       "    <tr>\n",
       "      <th>6587</th>\n",
       "      <td>-16.80</td>\n",
       "      <td>-6.768066</td>\n",
       "      <td>Price</td>\n",
       "    </tr>\n",
       "    <tr>\n",
       "      <th>6588</th>\n",
       "      <td>-11.90</td>\n",
       "      <td>-6.768066</td>\n",
       "      <td>Price</td>\n",
       "    </tr>\n",
       "    <tr>\n",
       "      <th>6589</th>\n",
       "      <td>-19.80</td>\n",
       "      <td>-6.843896</td>\n",
       "      <td>Price</td>\n",
       "    </tr>\n",
       "    <tr>\n",
       "      <th>6590</th>\n",
       "      <td>-12.80</td>\n",
       "      <td>-6.843896</td>\n",
       "      <td>Price</td>\n",
       "    </tr>\n",
       "    <tr>\n",
       "      <th>6591</th>\n",
       "      <td>-29.00</td>\n",
       "      <td>-8.864941</td>\n",
       "      <td>Price</td>\n",
       "    </tr>\n",
       "  </tbody>\n",
       "</table>\n",
       "<p>6592 rows × 3 columns</p>\n",
       "</div>"
      ],
      "text/plain": [
       "      Measured   Modelled      ws\n",
       "0       -31.09 -27.960000  Animas\n",
       "1       -30.30 -28.000000  Animas\n",
       "2       -30.14 -28.030000  Animas\n",
       "3       -29.92 -28.080000  Animas\n",
       "4       -30.37 -28.130000  Animas\n",
       "...        ...        ...     ...\n",
       "6587    -16.80  -6.768066   Price\n",
       "6588    -11.90  -6.768066   Price\n",
       "6589    -19.80  -6.843896   Price\n",
       "6590    -12.80  -6.843896   Price\n",
       "6591    -29.00  -8.864941   Price\n",
       "\n",
       "[6592 rows x 3 columns]"
      ]
     },
     "execution_count": 7,
     "metadata": {},
     "output_type": "execute_result"
    }
   ],
   "source": [
    "gw_df"
   ]
  },
  {
   "cell_type": "code",
   "execution_count": 8,
   "metadata": {},
   "outputs": [],
   "source": [
    "gw_df.rename(columns={'Measured': 'obd', 'Modelled': 'sim', 'ws':'type'}, inplace=True)"
   ]
  },
  {
   "cell_type": "code",
   "execution_count": 9,
   "metadata": {},
   "outputs": [
    {
     "name": "stderr",
     "output_type": "stream",
     "text": [
      "D:\\spark-brc_gits/apexmf_git\\apexmf\\analyzer.py:253: DeprecationWarning: invalid escape sequence '\\l'\n"
     ]
    }
   ],
   "source": [
    "from apexmf import analyzer"
   ]
  },
  {
   "cell_type": "code",
   "execution_count": 10,
   "metadata": {},
   "outputs": [],
   "source": [
    "gw_df.rename(columns={'obd': 'obd', 'Modelled': 'sim', 'ws':'type'}, inplace=True)"
   ]
  },
  {
   "cell_type": "code",
   "execution_count": 11,
   "metadata": {},
   "outputs": [
    {
     "data": {
      "image/png": "[encoded data removed]",
      "text/plain": [
       "<Figure size 600x500 with 1 Axes>"
      ]
     },
     "metadata": {},
     "output_type": "display_data"
    }
   ],
   "source": [
    "analyzer.plot_one_one(gw_df)"
   ]
  },
  {
   "cell_type": "markdown",
   "metadata": {},
   "source": [
    "# salt"
   ]
  },
  {
   "cell_type": "markdown",
   "metadata": {},
   "source": [
    "## Ani"
   ]
  },
  {
   "cell_type": "code",
   "execution_count": 7,
   "metadata": {},
   "outputs": [],
   "source": [
    "md = SaltAnalysis(tot_wds[0])\n",
    "df = md.load_salt_outlet_result()\n",
    "tot_salt_df = md.get_tot_salt_outlet(df, st_dates[0], cal_st_dates[0])\n",
    "tot_salt_df = tot_salt_df.resample('M').mean()\n"
   ]
  },
  {
   "cell_type": "code",
   "execution_count": 8,
   "metadata": {},
   "outputs": [],
   "source": [
    "salt_obd = pd.read_csv('salt_075_mon.obd', sep='\\t', index_col=0, parse_dates=True)\n",
    "salt_obd['tot_salt_obd'] = salt_obd.iloc[:, :].sum(axis=1)\n",
    "salt_obd.drop(salt_obd.iloc[:, :-1], inplace=True, axis=1)"
   ]
  },
  {
   "cell_type": "code",
   "execution_count": 9,
   "metadata": {},
   "outputs": [],
   "source": [
    "ani_sim_obd = pd.concat([tot_salt_df, salt_obd], axis=1).dropna()\n",
    "ani_sim_obd[\"type\"] = \"Animas\""
   ]
  },
  {
   "cell_type": "code",
   "execution_count": 23,
   "metadata": {},
   "outputs": [
    {
     "data": {
      "text/html": [
       "<div>\n",
       "<style scoped>\n",
       "    .dataframe tbody tr th:only-of-type {\n",
       "        vertical-align: middle;\n",
       "    }\n",
       "\n",
       "    .dataframe tbody tr th {\n",
       "        vertical-align: top;\n",
       "    }\n",
       "\n",
       "    .dataframe thead th {\n",
       "        text-align: right;\n",
       "    }\n",
       "</style>\n",
       "<table border=\"1\" class=\"dataframe\">\n",
       "  <thead>\n",
       "    <tr style=\"text-align: right;\">\n",
       "      <th></th>\n",
       "      <th>tot_salt_loads</th>\n",
       "      <th>tot_salt_obd</th>\n",
       "      <th>type</th>\n",
       "    </tr>\n",
       "  </thead>\n",
       "  <tbody>\n",
       "    <tr>\n",
       "      <th>1992-01-31</th>\n",
       "      <td>192387.031213</td>\n",
       "      <td>366897.0</td>\n",
       "      <td>Animas</td>\n",
       "    </tr>\n",
       "    <tr>\n",
       "      <th>1992-03-31</th>\n",
       "      <td>273260.567640</td>\n",
       "      <td>515820.0</td>\n",
       "      <td>Animas</td>\n",
       "    </tr>\n",
       "    <tr>\n",
       "      <th>1992-05-31</th>\n",
       "      <td>236583.118034</td>\n",
       "      <td>1064525.0</td>\n",
       "      <td>Animas</td>\n",
       "    </tr>\n",
       "    <tr>\n",
       "      <th>1992-08-31</th>\n",
       "      <td>187478.309092</td>\n",
       "      <td>539797.0</td>\n",
       "      <td>Animas</td>\n",
       "    </tr>\n",
       "    <tr>\n",
       "      <th>1992-11-30</th>\n",
       "      <td>187494.579566</td>\n",
       "      <td>420574.0</td>\n",
       "      <td>Animas</td>\n",
       "    </tr>\n",
       "    <tr>\n",
       "      <th>...</th>\n",
       "      <td>...</td>\n",
       "      <td>...</td>\n",
       "      <td>...</td>\n",
       "    </tr>\n",
       "    <tr>\n",
       "      <th>2009-06-30</th>\n",
       "      <td>523967.970317</td>\n",
       "      <td>820238.0</td>\n",
       "      <td>Animas</td>\n",
       "    </tr>\n",
       "    <tr>\n",
       "      <th>2009-12-31</th>\n",
       "      <td>381382.398972</td>\n",
       "      <td>373176.0</td>\n",
       "      <td>Animas</td>\n",
       "    </tr>\n",
       "    <tr>\n",
       "      <th>2010-05-31</th>\n",
       "      <td>690665.831471</td>\n",
       "      <td>924526.0</td>\n",
       "      <td>Animas</td>\n",
       "    </tr>\n",
       "    <tr>\n",
       "      <th>2010-07-31</th>\n",
       "      <td>463369.774444</td>\n",
       "      <td>371537.0</td>\n",
       "      <td>Animas</td>\n",
       "    </tr>\n",
       "    <tr>\n",
       "      <th>2011-11-30</th>\n",
       "      <td>385261.345349</td>\n",
       "      <td>452763.0</td>\n",
       "      <td>Animas</td>\n",
       "    </tr>\n",
       "  </tbody>\n",
       "</table>\n",
       "<p>69 rows × 3 columns</p>\n",
       "</div>"
      ],
      "text/plain": [
       "            tot_salt_loads  tot_salt_obd    type\n",
       "1992-01-31   192387.031213      366897.0  Animas\n",
       "1992-03-31   273260.567640      515820.0  Animas\n",
       "1992-05-31   236583.118034     1064525.0  Animas\n",
       "1992-08-31   187478.309092      539797.0  Animas\n",
       "1992-11-30   187494.579566      420574.0  Animas\n",
       "...                    ...           ...     ...\n",
       "2009-06-30   523967.970317      820238.0  Animas\n",
       "2009-12-31   381382.398972      373176.0  Animas\n",
       "2010-05-31   690665.831471      924526.0  Animas\n",
       "2010-07-31   463369.774444      371537.0  Animas\n",
       "2011-11-30   385261.345349      452763.0  Animas\n",
       "\n",
       "[69 rows x 3 columns]"
      ]
     },
     "execution_count": 23,
     "metadata": {},
     "output_type": "execute_result"
    }
   ],
   "source": [
    "ani_sim_obd"
   ]
  },
  {
   "cell_type": "markdown",
   "metadata": {},
   "source": [
    "## Upper Green"
   ]
  },
  {
   "cell_type": "code",
   "execution_count": 10,
   "metadata": {},
   "outputs": [],
   "source": [
    "md = SaltAnalysis(tot_wds[3])\n",
    "df = md.load_salt_outlet_result()\n",
    "tot_salt_df = md.get_tot_salt_outlet(df, st_dates[3], cal_st_dates[3])\n",
    "tot_salt_df = tot_salt_df.resample('M').mean()\n"
   ]
  },
  {
   "cell_type": "code",
   "execution_count": 11,
   "metadata": {},
   "outputs": [
    {
     "data": {
      "text/html": [
       "<div>\n",
       "<style scoped>\n",
       "    .dataframe tbody tr th:only-of-type {\n",
       "        vertical-align: middle;\n",
       "    }\n",
       "\n",
       "    .dataframe tbody tr th {\n",
       "        vertical-align: top;\n",
       "    }\n",
       "\n",
       "    .dataframe thead th {\n",
       "        text-align: right;\n",
       "    }\n",
       "</style>\n",
       "<table border=\"1\" class=\"dataframe\">\n",
       "  <thead>\n",
       "    <tr style=\"text-align: right;\">\n",
       "      <th></th>\n",
       "      <th>tot_salt_obd</th>\n",
       "    </tr>\n",
       "    <tr>\n",
       "      <th>date</th>\n",
       "      <th></th>\n",
       "    </tr>\n",
       "  </thead>\n",
       "  <tbody>\n",
       "    <tr>\n",
       "      <th>1995-01-31</th>\n",
       "      <td>507557.0</td>\n",
       "    </tr>\n",
       "    <tr>\n",
       "      <th>1995-02-28</th>\n",
       "      <td>NaN</td>\n",
       "    </tr>\n",
       "    <tr>\n",
       "      <th>1995-03-31</th>\n",
       "      <td>700940.0</td>\n",
       "    </tr>\n",
       "    <tr>\n",
       "      <th>1995-04-30</th>\n",
       "      <td>NaN</td>\n",
       "    </tr>\n",
       "    <tr>\n",
       "      <th>1995-05-31</th>\n",
       "      <td>999191.0</td>\n",
       "    </tr>\n",
       "    <tr>\n",
       "      <th>...</th>\n",
       "      <td>...</td>\n",
       "    </tr>\n",
       "    <tr>\n",
       "      <th>2019-08-31</th>\n",
       "      <td>NaN</td>\n",
       "    </tr>\n",
       "    <tr>\n",
       "      <th>2019-09-30</th>\n",
       "      <td>NaN</td>\n",
       "    </tr>\n",
       "    <tr>\n",
       "      <th>2019-10-31</th>\n",
       "      <td>NaN</td>\n",
       "    </tr>\n",
       "    <tr>\n",
       "      <th>2019-11-30</th>\n",
       "      <td>NaN</td>\n",
       "    </tr>\n",
       "    <tr>\n",
       "      <th>2019-12-31</th>\n",
       "      <td>NaN</td>\n",
       "    </tr>\n",
       "  </tbody>\n",
       "</table>\n",
       "<p>300 rows × 1 columns</p>\n",
       "</div>"
      ],
      "text/plain": [
       "            tot_salt_obd\n",
       "date                    \n",
       "1995-01-31      507557.0\n",
       "1995-02-28           NaN\n",
       "1995-03-31      700940.0\n",
       "1995-04-30           NaN\n",
       "1995-05-31      999191.0\n",
       "...                  ...\n",
       "2019-08-31           NaN\n",
       "2019-09-30           NaN\n",
       "2019-10-31           NaN\n",
       "2019-11-30           NaN\n",
       "2019-12-31           NaN\n",
       "\n",
       "[300 rows x 1 columns]"
      ]
     },
     "execution_count": 11,
     "metadata": {},
     "output_type": "execute_result"
    }
   ],
   "source": [
    "salt_obd = pd.read_csv('salt_199_mon.obd.csv', index_col=0, parse_dates=True, na_values=-999)\n",
    "salt_obd = salt_obd.iloc[:, -8:]\n",
    "salt_obd['tot_salt_obd'] = salt_obd.iloc[:, :].sum(axis=1, min_count=1)\n",
    "salt_obd.drop(salt_obd.iloc[:, :-1], inplace=True, axis=1)\n",
    "salt_obd"
   ]
  },
  {
   "cell_type": "code",
   "execution_count": 12,
   "metadata": {},
   "outputs": [],
   "source": [
    "ug_sim_obd = pd.concat([tot_salt_df, salt_obd], axis=1).dropna()\n",
    "ug_sim_obd[\"type\"] = \"Upper Green\""
   ]
  },
  {
   "cell_type": "code",
   "execution_count": 13,
   "metadata": {},
   "outputs": [
    {
     "data": {
      "text/html": [
       "<div>\n",
       "<style scoped>\n",
       "    .dataframe tbody tr th:only-of-type {\n",
       "        vertical-align: middle;\n",
       "    }\n",
       "\n",
       "    .dataframe tbody tr th {\n",
       "        vertical-align: top;\n",
       "    }\n",
       "\n",
       "    .dataframe thead th {\n",
       "        text-align: right;\n",
       "    }\n",
       "</style>\n",
       "<table border=\"1\" class=\"dataframe\">\n",
       "  <thead>\n",
       "    <tr style=\"text-align: right;\">\n",
       "      <th></th>\n",
       "      <th>tot_salt_loads</th>\n",
       "      <th>tot_salt_obd</th>\n",
       "      <th>type</th>\n",
       "    </tr>\n",
       "  </thead>\n",
       "  <tbody>\n",
       "    <tr>\n",
       "      <th>2000-01-31</th>\n",
       "      <td>4.447377e+05</td>\n",
       "      <td>643790.0</td>\n",
       "      <td>Upper Green</td>\n",
       "    </tr>\n",
       "    <tr>\n",
       "      <th>2000-03-31</th>\n",
       "      <td>3.706569e+05</td>\n",
       "      <td>888607.0</td>\n",
       "      <td>Upper Green</td>\n",
       "    </tr>\n",
       "    <tr>\n",
       "      <th>2000-05-31</th>\n",
       "      <td>8.026937e+05</td>\n",
       "      <td>735956.0</td>\n",
       "      <td>Upper Green</td>\n",
       "    </tr>\n",
       "    <tr>\n",
       "      <th>2000-07-31</th>\n",
       "      <td>1.882706e+06</td>\n",
       "      <td>511676.0</td>\n",
       "      <td>Upper Green</td>\n",
       "    </tr>\n",
       "    <tr>\n",
       "      <th>2000-09-30</th>\n",
       "      <td>1.331920e+06</td>\n",
       "      <td>435708.0</td>\n",
       "      <td>Upper Green</td>\n",
       "    </tr>\n",
       "    <tr>\n",
       "      <th>...</th>\n",
       "      <td>...</td>\n",
       "      <td>...</td>\n",
       "      <td>...</td>\n",
       "    </tr>\n",
       "    <tr>\n",
       "      <th>2018-05-31</th>\n",
       "      <td>1.714847e+06</td>\n",
       "      <td>1453094.0</td>\n",
       "      <td>Upper Green</td>\n",
       "    </tr>\n",
       "    <tr>\n",
       "      <th>2018-06-30</th>\n",
       "      <td>1.684488e+06</td>\n",
       "      <td>1461708.0</td>\n",
       "      <td>Upper Green</td>\n",
       "    </tr>\n",
       "    <tr>\n",
       "      <th>2018-07-31</th>\n",
       "      <td>1.354151e+06</td>\n",
       "      <td>578386.0</td>\n",
       "      <td>Upper Green</td>\n",
       "    </tr>\n",
       "    <tr>\n",
       "      <th>2018-08-31</th>\n",
       "      <td>9.077023e+05</td>\n",
       "      <td>459668.0</td>\n",
       "      <td>Upper Green</td>\n",
       "    </tr>\n",
       "    <tr>\n",
       "      <th>2018-09-30</th>\n",
       "      <td>8.566222e+05</td>\n",
       "      <td>416521.0</td>\n",
       "      <td>Upper Green</td>\n",
       "    </tr>\n",
       "  </tbody>\n",
       "</table>\n",
       "<p>126 rows × 3 columns</p>\n",
       "</div>"
      ],
      "text/plain": [
       "            tot_salt_loads  tot_salt_obd         type\n",
       "2000-01-31    4.447377e+05      643790.0  Upper Green\n",
       "2000-03-31    3.706569e+05      888607.0  Upper Green\n",
       "2000-05-31    8.026937e+05      735956.0  Upper Green\n",
       "2000-07-31    1.882706e+06      511676.0  Upper Green\n",
       "2000-09-30    1.331920e+06      435708.0  Upper Green\n",
       "...                    ...           ...          ...\n",
       "2018-05-31    1.714847e+06     1453094.0  Upper Green\n",
       "2018-06-30    1.684488e+06     1461708.0  Upper Green\n",
       "2018-07-31    1.354151e+06      578386.0  Upper Green\n",
       "2018-08-31    9.077023e+05      459668.0  Upper Green\n",
       "2018-09-30    8.566222e+05      416521.0  Upper Green\n",
       "\n",
       "[126 rows x 3 columns]"
      ]
     },
     "execution_count": 13,
     "metadata": {},
     "output_type": "execute_result"
    }
   ],
   "source": [
    "ug_sim_obd"
   ]
  },
  {
   "cell_type": "markdown",
   "metadata": {},
   "source": [
    "## Dolores"
   ]
  },
  {
   "cell_type": "code",
   "execution_count": 14,
   "metadata": {},
   "outputs": [
    {
     "data": {
      "text/html": [
       "<div>\n",
       "<style scoped>\n",
       "    .dataframe tbody tr th:only-of-type {\n",
       "        vertical-align: middle;\n",
       "    }\n",
       "\n",
       "    .dataframe tbody tr th {\n",
       "        vertical-align: top;\n",
       "    }\n",
       "\n",
       "    .dataframe thead th {\n",
       "        text-align: right;\n",
       "    }\n",
       "</style>\n",
       "<table border=\"1\" class=\"dataframe\">\n",
       "  <thead>\n",
       "    <tr style=\"text-align: right;\">\n",
       "      <th></th>\n",
       "      <th>tot_salt_loads</th>\n",
       "    </tr>\n",
       "  </thead>\n",
       "  <tbody>\n",
       "    <tr>\n",
       "      <th>2000-01-31</th>\n",
       "      <td>444737.699113</td>\n",
       "    </tr>\n",
       "    <tr>\n",
       "      <th>2000-02-29</th>\n",
       "      <td>367934.222382</td>\n",
       "    </tr>\n",
       "    <tr>\n",
       "      <th>2000-03-31</th>\n",
       "      <td>370656.925162</td>\n",
       "    </tr>\n",
       "    <tr>\n",
       "      <th>2000-04-30</th>\n",
       "      <td>410451.026710</td>\n",
       "    </tr>\n",
       "    <tr>\n",
       "      <th>2000-05-31</th>\n",
       "      <td>802693.664907</td>\n",
       "    </tr>\n",
       "    <tr>\n",
       "      <th>...</th>\n",
       "      <td>...</td>\n",
       "    </tr>\n",
       "    <tr>\n",
       "      <th>2019-08-31</th>\n",
       "      <td>870447.175308</td>\n",
       "    </tr>\n",
       "    <tr>\n",
       "      <th>2019-09-30</th>\n",
       "      <td>837666.096093</td>\n",
       "    </tr>\n",
       "    <tr>\n",
       "      <th>2019-10-31</th>\n",
       "      <td>976888.937522</td>\n",
       "    </tr>\n",
       "    <tr>\n",
       "      <th>2019-11-30</th>\n",
       "      <td>589225.606689</td>\n",
       "    </tr>\n",
       "    <tr>\n",
       "      <th>2019-12-31</th>\n",
       "      <td>558375.636041</td>\n",
       "    </tr>\n",
       "  </tbody>\n",
       "</table>\n",
       "<p>240 rows × 1 columns</p>\n",
       "</div>"
      ],
      "text/plain": [
       "            tot_salt_loads\n",
       "2000-01-31   444737.699113\n",
       "2000-02-29   367934.222382\n",
       "2000-03-31   370656.925162\n",
       "2000-04-30   410451.026710\n",
       "2000-05-31   802693.664907\n",
       "...                    ...\n",
       "2019-08-31   870447.175308\n",
       "2019-09-30   837666.096093\n",
       "2019-10-31   976888.937522\n",
       "2019-11-30   589225.606689\n",
       "2019-12-31   558375.636041\n",
       "\n",
       "[240 rows x 1 columns]"
      ]
     },
     "execution_count": 14,
     "metadata": {},
     "output_type": "execute_result"
    }
   ],
   "source": [
    "tot_salt_df"
   ]
  },
  {
   "cell_type": "code",
   "execution_count": 15,
   "metadata": {},
   "outputs": [
    {
     "data": {
      "text/html": [
       "<div>\n",
       "<style scoped>\n",
       "    .dataframe tbody tr th:only-of-type {\n",
       "        vertical-align: middle;\n",
       "    }\n",
       "\n",
       "    .dataframe tbody tr th {\n",
       "        vertical-align: top;\n",
       "    }\n",
       "\n",
       "    .dataframe thead th {\n",
       "        text-align: right;\n",
       "    }\n",
       "</style>\n",
       "<table border=\"1\" class=\"dataframe\">\n",
       "  <thead>\n",
       "    <tr style=\"text-align: right;\">\n",
       "      <th></th>\n",
       "      <th>tot_salt_obd</th>\n",
       "    </tr>\n",
       "    <tr>\n",
       "      <th>date</th>\n",
       "      <th></th>\n",
       "    </tr>\n",
       "  </thead>\n",
       "  <tbody>\n",
       "    <tr>\n",
       "      <th>1992-01-31</th>\n",
       "      <td>643070.0</td>\n",
       "    </tr>\n",
       "    <tr>\n",
       "      <th>1992-02-29</th>\n",
       "      <td>NaN</td>\n",
       "    </tr>\n",
       "    <tr>\n",
       "      <th>1992-03-31</th>\n",
       "      <td>691400.0</td>\n",
       "    </tr>\n",
       "    <tr>\n",
       "      <th>1992-04-30</th>\n",
       "      <td>400971.0</td>\n",
       "    </tr>\n",
       "    <tr>\n",
       "      <th>1992-05-31</th>\n",
       "      <td>662120.0</td>\n",
       "    </tr>\n",
       "    <tr>\n",
       "      <th>...</th>\n",
       "      <td>...</td>\n",
       "    </tr>\n",
       "    <tr>\n",
       "      <th>2022-07-31</th>\n",
       "      <td>NaN</td>\n",
       "    </tr>\n",
       "    <tr>\n",
       "      <th>2022-08-31</th>\n",
       "      <td>NaN</td>\n",
       "    </tr>\n",
       "    <tr>\n",
       "      <th>2022-09-30</th>\n",
       "      <td>NaN</td>\n",
       "    </tr>\n",
       "    <tr>\n",
       "      <th>2022-10-31</th>\n",
       "      <td>NaN</td>\n",
       "    </tr>\n",
       "    <tr>\n",
       "      <th>2022-11-30</th>\n",
       "      <td>NaN</td>\n",
       "    </tr>\n",
       "  </tbody>\n",
       "</table>\n",
       "<p>371 rows × 1 columns</p>\n",
       "</div>"
      ],
      "text/plain": [
       "            tot_salt_obd\n",
       "date                    \n",
       "1992-01-31      643070.0\n",
       "1992-02-29           NaN\n",
       "1992-03-31      691400.0\n",
       "1992-04-30      400971.0\n",
       "1992-05-31      662120.0\n",
       "...                  ...\n",
       "2022-07-31           NaN\n",
       "2022-08-31           NaN\n",
       "2022-09-30           NaN\n",
       "2022-10-31           NaN\n",
       "2022-11-30           NaN\n",
       "\n",
       "[371 rows x 1 columns]"
      ]
     },
     "execution_count": 15,
     "metadata": {},
     "output_type": "execute_result"
    }
   ],
   "source": [
    "md = SaltAnalysis(tot_wds[4])\n",
    "df = md.load_salt_cha_result()\n",
    "tot_salt_df = md.read_salt_sim_cha(df, 38, st_dates[4], cal_st_dates[4])\n",
    "tot_salt_df = tot_salt_df.iloc[:, :8].resample('M').mean()\n",
    "tot_salt_df[\"tot_salt_loads\"] = tot_salt_df.sum(axis=1)\n",
    "tot_salt_df.drop(tot_salt_df.iloc[:, :-1], inplace=True, axis=1)\n",
    "\n",
    "salt_obd = pd.read_csv('salt_038_mon.obd', sep=\"\\t\", index_col=0, parse_dates=True, na_values=-999)\n",
    "salt_obd = salt_obd.iloc[:, -8:]\n",
    "salt_obd['tot_salt_obd'] = salt_obd.iloc[:, :].sum(axis=1, min_count=1)\n",
    "salt_obd.drop(salt_obd.iloc[:, :-1], inplace=True, axis=1)\n",
    "salt_obd"
   ]
  },
  {
   "cell_type": "code",
   "execution_count": 16,
   "metadata": {},
   "outputs": [],
   "source": [
    "dol_sim_obd = pd.concat([tot_salt_df, salt_obd], axis=1).dropna()\n",
    "dol_sim_obd[\"type\"] = \"Dolores\""
   ]
  },
  {
   "cell_type": "markdown",
   "metadata": {},
   "source": [
    "## Gunnision"
   ]
  },
  {
   "cell_type": "code",
   "execution_count": 17,
   "metadata": {},
   "outputs": [
    {
     "data": {
      "text/html": [
       "<div>\n",
       "<style scoped>\n",
       "    .dataframe tbody tr th:only-of-type {\n",
       "        vertical-align: middle;\n",
       "    }\n",
       "\n",
       "    .dataframe tbody tr th {\n",
       "        vertical-align: top;\n",
       "    }\n",
       "\n",
       "    .dataframe thead th {\n",
       "        text-align: right;\n",
       "    }\n",
       "</style>\n",
       "<table border=\"1\" class=\"dataframe\">\n",
       "  <thead>\n",
       "    <tr style=\"text-align: right;\">\n",
       "      <th></th>\n",
       "      <th>tot_salt_obd</th>\n",
       "    </tr>\n",
       "    <tr>\n",
       "      <th>date</th>\n",
       "      <th></th>\n",
       "    </tr>\n",
       "  </thead>\n",
       "  <tbody>\n",
       "    <tr>\n",
       "      <th>2009-07-31</th>\n",
       "      <td>2229879</td>\n",
       "    </tr>\n",
       "    <tr>\n",
       "      <th>2009-08-31</th>\n",
       "      <td>1854327</td>\n",
       "    </tr>\n",
       "    <tr>\n",
       "      <th>2009-09-30</th>\n",
       "      <td>1616960</td>\n",
       "    </tr>\n",
       "    <tr>\n",
       "      <th>2009-10-31</th>\n",
       "      <td>1621585</td>\n",
       "    </tr>\n",
       "    <tr>\n",
       "      <th>2009-11-30</th>\n",
       "      <td>1483978</td>\n",
       "    </tr>\n",
       "    <tr>\n",
       "      <th>...</th>\n",
       "      <td>...</td>\n",
       "    </tr>\n",
       "    <tr>\n",
       "      <th>2017-08-31</th>\n",
       "      <td>1810125</td>\n",
       "    </tr>\n",
       "    <tr>\n",
       "      <th>2017-09-30</th>\n",
       "      <td>1852730</td>\n",
       "    </tr>\n",
       "    <tr>\n",
       "      <th>2017-10-31</th>\n",
       "      <td>1820393</td>\n",
       "    </tr>\n",
       "    <tr>\n",
       "      <th>2017-11-30</th>\n",
       "      <td>1673435</td>\n",
       "    </tr>\n",
       "    <tr>\n",
       "      <th>2017-12-31</th>\n",
       "      <td>2292803</td>\n",
       "    </tr>\n",
       "  </tbody>\n",
       "</table>\n",
       "<p>102 rows × 1 columns</p>\n",
       "</div>"
      ],
      "text/plain": [
       "            tot_salt_obd\n",
       "date                    \n",
       "2009-07-31       2229879\n",
       "2009-08-31       1854327\n",
       "2009-09-30       1616960\n",
       "2009-10-31       1621585\n",
       "2009-11-30       1483978\n",
       "...                  ...\n",
       "2017-08-31       1810125\n",
       "2017-09-30       1852730\n",
       "2017-10-31       1820393\n",
       "2017-11-30       1673435\n",
       "2017-12-31       2292803\n",
       "\n",
       "[102 rows x 1 columns]"
      ]
     },
     "execution_count": 17,
     "metadata": {},
     "output_type": "execute_result"
    }
   ],
   "source": [
    "md = SaltAnalysis(tot_wds[5])\n",
    "df = md.load_salt_outlet_result()\n",
    "tot_salt_df = md.get_tot_salt_outlet(df,st_dates[5], cal_st_dates[5])\n",
    "tot_salt_df = tot_salt_df.resample('M').mean()\n",
    "\n",
    "salt_obd = pd.read_csv('salt_064_mon.obd', sep=\"\\t\", index_col=0, parse_dates=True, na_values=-999)\n",
    "salt_obd['tot_salt_obd'] = salt_obd.iloc[:, :].sum(axis=1, min_count=1)\n",
    "salt_obd.drop(salt_obd.iloc[:, :-1], inplace=True, axis=1)\n",
    "salt_obd"
   ]
  },
  {
   "cell_type": "code",
   "execution_count": 18,
   "metadata": {},
   "outputs": [],
   "source": [
    "gn_sim_obd = pd.concat([tot_salt_df, salt_obd], axis=1).dropna()\n",
    "gn_sim_obd[\"type\"] = \"Gunnison\""
   ]
  },
  {
   "cell_type": "code",
   "execution_count": 19,
   "metadata": {},
   "outputs": [
    {
     "data": {
      "text/plain": [
       "<Axes: xlabel='tot_salt_loads', ylabel='tot_salt_obd'>"
      ]
     },
     "execution_count": 19,
     "metadata": {},
     "output_type": "execute_result"
    },
    {
     "data": {
      "image/png": "[encoded data removed]",
      "text/plain": [
       "<Figure size 640x480 with 1 Axes>"
      ]
     },
     "metadata": {},
     "output_type": "display_data"
    }
   ],
   "source": [
    "gn_sim_obd.plot(kind=\"scatter\", x=\"tot_salt_loads\", y=\"tot_salt_obd\")"
   ]
  },
  {
   "cell_type": "code",
   "execution_count": 20,
   "metadata": {},
   "outputs": [],
   "source": [
    "tot_salt = pd.concat([ani_sim_obd, ug_sim_obd, dol_sim_obd, gn_sim_obd], axis=0)"
   ]
  },
  {
   "cell_type": "code",
   "execution_count": 22,
   "metadata": {},
   "outputs": [
    {
     "data": {
      "image/png": "[encoded data removed]",
      "text/plain": [
       "<Figure size 600x500 with 1 Axes>"
      ]
     },
     "metadata": {},
     "output_type": "display_data"
    }
   ],
   "source": [
    "analyzer.plot_one_one(tot_salt, simnam=\"tot_salt_loads\", obdnam=\"tot_salt_obd\")"
   ]
  },
  {
   "cell_type": "code",
   "execution_count": 100,
   "metadata": {},
   "outputs": [
    {
     "data": {
      "text/plain": [
       "<Axes: xlabel='tot_salt_loads', ylabel='tot_salt_obd'>"
      ]
     },
     "execution_count": 100,
     "metadata": {},
     "output_type": "execute_result"
    },
    {
     "data": {
      "image/png": "[encoded data removed]",
      "text/plain": [
       "<Figure size 640x480 with 1 Axes>"
      ]
     },
     "metadata": {},
     "output_type": "display_data"
    }
   ],
   "source": [
    "tot_salt.plot(kind=\"scatter\", x=\"tot_salt_loads\", y=\"tot_salt_obd\")"
   ]
  },
  {
   "cell_type": "code",
   "execution_count": null,
   "metadata": {},
   "outputs": [],
   "source": []
  },
  {
   "cell_type": "code",
   "execution_count": null,
   "metadata": {},
   "outputs": [],
   "source": []
  },
  {
   "cell_type": "code",
   "execution_count": null,
   "metadata": {},
   "outputs": [],
   "source": []
  },
  {
   "cell_type": "code",
   "execution_count": null,
   "metadata": {},
   "outputs": [],
   "source": []
  },
  {
   "cell_type": "code",
   "execution_count": null,
   "metadata": {},
   "outputs": [],
   "source": [
    "os"
   ]
  }
 ],
 "metadata": {
  "kernelspec": {
   "display_name": "Python 3 (ipykernel)",
   "language": "python",
   "name": "python3"
  },
  "language_info": {
   "codemirror_mode": {
    "name": "ipython",
    "version": 3
   },
   "file_extension": ".py",
   "mimetype": "text/x-python",
   "name": "python",
   "nbconvert_exporter": "python",
   "pygments_lexer": "ipython3",
   "version": "3.10.10"
  }
 },
 "nbformat": 4,
 "nbformat_minor": 2
}
