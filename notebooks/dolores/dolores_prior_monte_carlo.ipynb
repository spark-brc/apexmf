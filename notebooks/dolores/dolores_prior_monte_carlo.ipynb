{
 "cells": [
  {
   "cell_type": "code",
   "execution_count": 1,
   "id": "b4caa026",
   "metadata": {},
   "outputs": [],
   "source": [
    "import pyemu\n",
    "import os\n",
    "import pandas as pd\n",
    "import matplotlib.pyplot as plt\n",
    "import psutil"
   ]
  },
  {
   "cell_type": "code",
   "execution_count": 2,
   "id": "22096ca3",
   "metadata": {},
   "outputs": [],
   "source": [
    "# wd = \"D:/spark/dolores_amrs\"\n",
    "wd = \"d:/Projects/Watersheds/Dolores/Analysis/AMRSs/apexmod_230124/dr_121120/dolores_amrs\"\n",
    "os.chdir(wd)"
   ]
  },
  {
   "cell_type": "code",
   "execution_count": 6,
   "id": "5e13aafb",
   "metadata": {},
   "outputs": [],
   "source": [
    "# specify a template directory (i.e. the PstFrom working folder)\n",
    "# tmp_d = os.path.join(wd, \"Animas_AMRS-Fire_org\")\n",
    "# template_ws = os.path.join(wd, \"dolores_amrs\")\n",
    "template_ws = wd\n",
    "start_datetime=\"1-1-1987\""
   ]
  },
  {
   "cell_type": "code",
   "execution_count": 7,
   "id": "c9dc0af0",
   "metadata": {},
   "outputs": [],
   "source": [
    "pst_path = os.path.join(template_ws, 'dolores_amrs.pst')"
   ]
  },
  {
   "cell_type": "code",
   "execution_count": 8,
   "id": "ba18284d",
   "metadata": {},
   "outputs": [],
   "source": [
    "# pst_path = os.path.join(t_d, 'freyberg_mf6.pst')\n",
    "pst = pyemu.Pst(pst_path)"
   ]
  },
  {
   "cell_type": "code",
   "execution_count": 9,
   "id": "b9b38197",
   "metadata": {},
   "outputs": [],
   "source": [
    "par = pst.parameter_data"
   ]
  },
  {
   "cell_type": "code",
   "execution_count": 10,
   "id": "945a563a",
   "metadata": {},
   "outputs": [
    {
     "data": {
      "text/html": [
       "<div>\n",
       "<style scoped>\n",
       "    .dataframe tbody tr th:only-of-type {\n",
       "        vertical-align: middle;\n",
       "    }\n",
       "\n",
       "    .dataframe tbody tr th {\n",
       "        vertical-align: top;\n",
       "    }\n",
       "\n",
       "    .dataframe thead th {\n",
       "        text-align: right;\n",
       "    }\n",
       "</style>\n",
       "<table border=\"1\" class=\"dataframe\">\n",
       "  <thead>\n",
       "    <tr style=\"text-align: right;\">\n",
       "      <th></th>\n",
       "      <th>parnme</th>\n",
       "      <th>partrans</th>\n",
       "      <th>parchglim</th>\n",
       "      <th>parval1</th>\n",
       "      <th>parlbnd</th>\n",
       "      <th>parubnd</th>\n",
       "      <th>pargp</th>\n",
       "      <th>scale</th>\n",
       "      <th>offset</th>\n",
       "      <th>dercom</th>\n",
       "      <th>...</th>\n",
       "      <th>pstyle</th>\n",
       "      <th>i</th>\n",
       "      <th>j</th>\n",
       "      <th>x</th>\n",
       "      <th>y</th>\n",
       "      <th>zone</th>\n",
       "      <th>usecol</th>\n",
       "      <th>idx0</th>\n",
       "      <th>idx1</th>\n",
       "      <th>idx2</th>\n",
       "    </tr>\n",
       "    <tr>\n",
       "      <th>parnme</th>\n",
       "      <th></th>\n",
       "      <th></th>\n",
       "      <th></th>\n",
       "      <th></th>\n",
       "      <th></th>\n",
       "      <th></th>\n",
       "      <th></th>\n",
       "      <th></th>\n",
       "      <th></th>\n",
       "      <th></th>\n",
       "      <th></th>\n",
       "      <th></th>\n",
       "      <th></th>\n",
       "      <th></th>\n",
       "      <th></th>\n",
       "      <th></th>\n",
       "      <th></th>\n",
       "      <th></th>\n",
       "      <th></th>\n",
       "      <th></th>\n",
       "      <th></th>\n",
       "    </tr>\n",
       "  </thead>\n",
       "  <tbody>\n",
       "    <tr>\n",
       "      <th>salt_ca000</th>\n",
       "      <td>salt_ca000</td>\n",
       "      <td>log</td>\n",
       "      <td>factor</td>\n",
       "      <td>1.103870e+02</td>\n",
       "      <td>2.407010e+01</td>\n",
       "      <td>574.745000</td>\n",
       "      <td>salt_ca0</td>\n",
       "      <td>1.0</td>\n",
       "      <td>0.0</td>\n",
       "      <td>1</td>\n",
       "      <td>...</td>\n",
       "      <td>NaN</td>\n",
       "      <td>NaN</td>\n",
       "      <td>NaN</td>\n",
       "      <td>NaN</td>\n",
       "      <td>NaN</td>\n",
       "      <td>NaN</td>\n",
       "      <td>NaN</td>\n",
       "      <td>NaN</td>\n",
       "      <td>NaN</td>\n",
       "      <td>NaN</td>\n",
       "    </tr>\n",
       "    <tr>\n",
       "      <th>salt_ca001</th>\n",
       "      <td>salt_ca001</td>\n",
       "      <td>log</td>\n",
       "      <td>factor</td>\n",
       "      <td>1.103870e+02</td>\n",
       "      <td>2.407010e+01</td>\n",
       "      <td>574.745000</td>\n",
       "      <td>salt_ca0</td>\n",
       "      <td>1.0</td>\n",
       "      <td>0.0</td>\n",
       "      <td>1</td>\n",
       "      <td>...</td>\n",
       "      <td>NaN</td>\n",
       "      <td>NaN</td>\n",
       "      <td>NaN</td>\n",
       "      <td>NaN</td>\n",
       "      <td>NaN</td>\n",
       "      <td>NaN</td>\n",
       "      <td>NaN</td>\n",
       "      <td>NaN</td>\n",
       "      <td>NaN</td>\n",
       "      <td>NaN</td>\n",
       "    </tr>\n",
       "    <tr>\n",
       "      <th>salt_ca002</th>\n",
       "      <td>salt_ca002</td>\n",
       "      <td>log</td>\n",
       "      <td>factor</td>\n",
       "      <td>1.103870e+02</td>\n",
       "      <td>2.407010e+01</td>\n",
       "      <td>574.745000</td>\n",
       "      <td>salt_ca0</td>\n",
       "      <td>1.0</td>\n",
       "      <td>0.0</td>\n",
       "      <td>1</td>\n",
       "      <td>...</td>\n",
       "      <td>NaN</td>\n",
       "      <td>NaN</td>\n",
       "      <td>NaN</td>\n",
       "      <td>NaN</td>\n",
       "      <td>NaN</td>\n",
       "      <td>NaN</td>\n",
       "      <td>NaN</td>\n",
       "      <td>NaN</td>\n",
       "      <td>NaN</td>\n",
       "      <td>NaN</td>\n",
       "    </tr>\n",
       "    <tr>\n",
       "      <th>salt_ca003</th>\n",
       "      <td>salt_ca003</td>\n",
       "      <td>log</td>\n",
       "      <td>factor</td>\n",
       "      <td>1.103870e+02</td>\n",
       "      <td>2.407010e+01</td>\n",
       "      <td>574.745000</td>\n",
       "      <td>salt_ca0</td>\n",
       "      <td>1.0</td>\n",
       "      <td>0.0</td>\n",
       "      <td>1</td>\n",
       "      <td>...</td>\n",
       "      <td>NaN</td>\n",
       "      <td>NaN</td>\n",
       "      <td>NaN</td>\n",
       "      <td>NaN</td>\n",
       "      <td>NaN</td>\n",
       "      <td>NaN</td>\n",
       "      <td>NaN</td>\n",
       "      <td>NaN</td>\n",
       "      <td>NaN</td>\n",
       "      <td>NaN</td>\n",
       "    </tr>\n",
       "    <tr>\n",
       "      <th>salt_ca004</th>\n",
       "      <td>salt_ca004</td>\n",
       "      <td>log</td>\n",
       "      <td>factor</td>\n",
       "      <td>1.103870e+02</td>\n",
       "      <td>2.407010e+01</td>\n",
       "      <td>574.745000</td>\n",
       "      <td>salt_ca0</td>\n",
       "      <td>1.0</td>\n",
       "      <td>0.0</td>\n",
       "      <td>1</td>\n",
       "      <td>...</td>\n",
       "      <td>NaN</td>\n",
       "      <td>NaN</td>\n",
       "      <td>NaN</td>\n",
       "      <td>NaN</td>\n",
       "      <td>NaN</td>\n",
       "      <td>NaN</td>\n",
       "      <td>NaN</td>\n",
       "      <td>NaN</td>\n",
       "      <td>NaN</td>\n",
       "      <td>NaN</td>\n",
       "    </tr>\n",
       "    <tr>\n",
       "      <th>...</th>\n",
       "      <td>...</td>\n",
       "      <td>...</td>\n",
       "      <td>...</td>\n",
       "      <td>...</td>\n",
       "      <td>...</td>\n",
       "      <td>...</td>\n",
       "      <td>...</td>\n",
       "      <td>...</td>\n",
       "      <td>...</td>\n",
       "      <td>...</td>\n",
       "      <td>...</td>\n",
       "      <td>...</td>\n",
       "      <td>...</td>\n",
       "      <td>...</td>\n",
       "      <td>...</td>\n",
       "      <td>...</td>\n",
       "      <td>...</td>\n",
       "      <td>...</td>\n",
       "      <td>...</td>\n",
       "      <td>...</td>\n",
       "      <td>...</td>\n",
       "    </tr>\n",
       "    <tr>\n",
       "      <th>salt_hco3025</th>\n",
       "      <td>salt_hco3025</td>\n",
       "      <td>fixed</td>\n",
       "      <td>factor</td>\n",
       "      <td>1.000000e-07</td>\n",
       "      <td>1.000000e-08</td>\n",
       "      <td>0.000001</td>\n",
       "      <td>salt_hco30</td>\n",
       "      <td>1.0</td>\n",
       "      <td>0.0</td>\n",
       "      <td>1</td>\n",
       "      <td>...</td>\n",
       "      <td>NaN</td>\n",
       "      <td>NaN</td>\n",
       "      <td>NaN</td>\n",
       "      <td>NaN</td>\n",
       "      <td>NaN</td>\n",
       "      <td>NaN</td>\n",
       "      <td>NaN</td>\n",
       "      <td>NaN</td>\n",
       "      <td>NaN</td>\n",
       "      <td>NaN</td>\n",
       "    </tr>\n",
       "    <tr>\n",
       "      <th>salt_hco3026</th>\n",
       "      <td>salt_hco3026</td>\n",
       "      <td>fixed</td>\n",
       "      <td>factor</td>\n",
       "      <td>1.000000e-07</td>\n",
       "      <td>1.000000e-08</td>\n",
       "      <td>0.000001</td>\n",
       "      <td>salt_hco30</td>\n",
       "      <td>1.0</td>\n",
       "      <td>0.0</td>\n",
       "      <td>1</td>\n",
       "      <td>...</td>\n",
       "      <td>NaN</td>\n",
       "      <td>NaN</td>\n",
       "      <td>NaN</td>\n",
       "      <td>NaN</td>\n",
       "      <td>NaN</td>\n",
       "      <td>NaN</td>\n",
       "      <td>NaN</td>\n",
       "      <td>NaN</td>\n",
       "      <td>NaN</td>\n",
       "      <td>NaN</td>\n",
       "    </tr>\n",
       "    <tr>\n",
       "      <th>salt_hco3027</th>\n",
       "      <td>salt_hco3027</td>\n",
       "      <td>fixed</td>\n",
       "      <td>factor</td>\n",
       "      <td>1.000000e-07</td>\n",
       "      <td>1.000000e-08</td>\n",
       "      <td>0.000001</td>\n",
       "      <td>salt_hco30</td>\n",
       "      <td>1.0</td>\n",
       "      <td>0.0</td>\n",
       "      <td>1</td>\n",
       "      <td>...</td>\n",
       "      <td>NaN</td>\n",
       "      <td>NaN</td>\n",
       "      <td>NaN</td>\n",
       "      <td>NaN</td>\n",
       "      <td>NaN</td>\n",
       "      <td>NaN</td>\n",
       "      <td>NaN</td>\n",
       "      <td>NaN</td>\n",
       "      <td>NaN</td>\n",
       "      <td>NaN</td>\n",
       "    </tr>\n",
       "    <tr>\n",
       "      <th>salt_hco3028</th>\n",
       "      <td>salt_hco3028</td>\n",
       "      <td>fixed</td>\n",
       "      <td>factor</td>\n",
       "      <td>1.000000e-07</td>\n",
       "      <td>1.000000e-08</td>\n",
       "      <td>0.000001</td>\n",
       "      <td>salt_hco30</td>\n",
       "      <td>1.0</td>\n",
       "      <td>0.0</td>\n",
       "      <td>1</td>\n",
       "      <td>...</td>\n",
       "      <td>NaN</td>\n",
       "      <td>NaN</td>\n",
       "      <td>NaN</td>\n",
       "      <td>NaN</td>\n",
       "      <td>NaN</td>\n",
       "      <td>NaN</td>\n",
       "      <td>NaN</td>\n",
       "      <td>NaN</td>\n",
       "      <td>NaN</td>\n",
       "      <td>NaN</td>\n",
       "    </tr>\n",
       "    <tr>\n",
       "      <th>salt_hco3029</th>\n",
       "      <td>salt_hco3029</td>\n",
       "      <td>fixed</td>\n",
       "      <td>factor</td>\n",
       "      <td>1.000000e-07</td>\n",
       "      <td>1.000000e-08</td>\n",
       "      <td>0.000001</td>\n",
       "      <td>salt_hco30</td>\n",
       "      <td>1.0</td>\n",
       "      <td>0.0</td>\n",
       "      <td>1</td>\n",
       "      <td>...</td>\n",
       "      <td>NaN</td>\n",
       "      <td>NaN</td>\n",
       "      <td>NaN</td>\n",
       "      <td>NaN</td>\n",
       "      <td>NaN</td>\n",
       "      <td>NaN</td>\n",
       "      <td>NaN</td>\n",
       "      <td>NaN</td>\n",
       "      <td>NaN</td>\n",
       "      <td>NaN</td>\n",
       "    </tr>\n",
       "  </tbody>\n",
       "</table>\n",
       "<p>240 rows × 23 columns</p>\n",
       "</div>"
      ],
      "text/plain": [
       "                    parnme partrans parchglim       parval1       parlbnd   \n",
       "parnme                                                                      \n",
       "salt_ca000      salt_ca000      log    factor  1.103870e+02  2.407010e+01  \\\n",
       "salt_ca001      salt_ca001      log    factor  1.103870e+02  2.407010e+01   \n",
       "salt_ca002      salt_ca002      log    factor  1.103870e+02  2.407010e+01   \n",
       "salt_ca003      salt_ca003      log    factor  1.103870e+02  2.407010e+01   \n",
       "salt_ca004      salt_ca004      log    factor  1.103870e+02  2.407010e+01   \n",
       "...                    ...      ...       ...           ...           ...   \n",
       "salt_hco3025  salt_hco3025    fixed    factor  1.000000e-07  1.000000e-08   \n",
       "salt_hco3026  salt_hco3026    fixed    factor  1.000000e-07  1.000000e-08   \n",
       "salt_hco3027  salt_hco3027    fixed    factor  1.000000e-07  1.000000e-08   \n",
       "salt_hco3028  salt_hco3028    fixed    factor  1.000000e-07  1.000000e-08   \n",
       "salt_hco3029  salt_hco3029    fixed    factor  1.000000e-07  1.000000e-08   \n",
       "\n",
       "                 parubnd       pargp  scale  offset  dercom  ...  pstyle   i   \n",
       "parnme                                                       ...               \n",
       "salt_ca000    574.745000    salt_ca0    1.0     0.0       1  ...     NaN NaN  \\\n",
       "salt_ca001    574.745000    salt_ca0    1.0     0.0       1  ...     NaN NaN   \n",
       "salt_ca002    574.745000    salt_ca0    1.0     0.0       1  ...     NaN NaN   \n",
       "salt_ca003    574.745000    salt_ca0    1.0     0.0       1  ...     NaN NaN   \n",
       "salt_ca004    574.745000    salt_ca0    1.0     0.0       1  ...     NaN NaN   \n",
       "...                  ...         ...    ...     ...     ...  ...     ...  ..   \n",
       "salt_hco3025    0.000001  salt_hco30    1.0     0.0       1  ...     NaN NaN   \n",
       "salt_hco3026    0.000001  salt_hco30    1.0     0.0       1  ...     NaN NaN   \n",
       "salt_hco3027    0.000001  salt_hco30    1.0     0.0       1  ...     NaN NaN   \n",
       "salt_hco3028    0.000001  salt_hco30    1.0     0.0       1  ...     NaN NaN   \n",
       "salt_hco3029    0.000001  salt_hco30    1.0     0.0       1  ...     NaN NaN   \n",
       "\n",
       "               j   x   y  zone  usecol  idx0  idx1  idx2  \n",
       "parnme                                                    \n",
       "salt_ca000   NaN NaN NaN   NaN     NaN   NaN   NaN   NaN  \n",
       "salt_ca001   NaN NaN NaN   NaN     NaN   NaN   NaN   NaN  \n",
       "salt_ca002   NaN NaN NaN   NaN     NaN   NaN   NaN   NaN  \n",
       "salt_ca003   NaN NaN NaN   NaN     NaN   NaN   NaN   NaN  \n",
       "salt_ca004   NaN NaN NaN   NaN     NaN   NaN   NaN   NaN  \n",
       "...           ..  ..  ..   ...     ...   ...   ...   ...  \n",
       "salt_hco3025 NaN NaN NaN   NaN     NaN   NaN   NaN   NaN  \n",
       "salt_hco3026 NaN NaN NaN   NaN     NaN   NaN   NaN   NaN  \n",
       "salt_hco3027 NaN NaN NaN   NaN     NaN   NaN   NaN   NaN  \n",
       "salt_hco3028 NaN NaN NaN   NaN     NaN   NaN   NaN   NaN  \n",
       "salt_hco3029 NaN NaN NaN   NaN     NaN   NaN   NaN   NaN  \n",
       "\n",
       "[240 rows x 23 columns]"
      ]
     },
     "execution_count": 10,
     "metadata": {},
     "output_type": "execute_result"
    }
   ],
   "source": [
    "par"
   ]
  },
  {
   "cell_type": "code",
   "execution_count": 13,
   "id": "2a032ea1",
   "metadata": {},
   "outputs": [
    {
     "data": {
      "text/plain": [
       "'d:\\\\Projects\\\\Watersheds\\\\Dolores\\\\Analysis\\\\AMRSs\\\\apexmod_230124\\\\dr_121120\\\\dolores_amrs'"
      ]
     },
     "execution_count": 13,
     "metadata": {},
     "output_type": "execute_result"
    }
   ],
   "source": [
    "os.getcwd()"
   ]
  },
  {
   "cell_type": "code",
   "execution_count": 16,
   "id": "bfd6ff63",
   "metadata": {},
   "outputs": [],
   "source": [
    "pyemu.os_utils.run('pestpp-glm dolores_amrs.pst', cwd=template_ws)"
   ]
  },
  {
   "cell_type": "code",
   "execution_count": null,
   "id": "c2b6ebfb",
   "metadata": {},
   "outputs": [],
   "source": [
    "pst.control_data.noptmax = -1"
   ]
  },
  {
   "cell_type": "code",
   "execution_count": null,
   "id": "c925475f",
   "metadata": {
    "scrolled": true
   },
   "outputs": [],
   "source": [
    "pst.write(os.path.join(template_ws,\"dolores_prior.pst\"))"
   ]
  },
  {
   "cell_type": "code",
   "execution_count": null,
   "id": "013db262",
   "metadata": {},
   "outputs": [],
   "source": [
    "pst.pestpp_options['ies_num_reals'] = 100\n",
    "pst.control_data.noptmax = -1\n",
    "pst.write(os.path.join(template_ws,\"animas_diagprior2.pst\"))"
   ]
  },
  {
   "cell_type": "code",
   "execution_count": 9,
   "id": "2b55eeba",
   "metadata": {},
   "outputs": [],
   "source": [
    "num_workers = psutil.cpu_count(logical=False)"
   ]
  },
  {
   "cell_type": "code",
   "execution_count": 8,
   "id": "a2de4b5a",
   "metadata": {},
   "outputs": [
    {
     "name": "stderr",
     "output_type": "stream",
     "text": [
      "C:\\Users\\seonggyu.park\\AppData\\Local\\miniconda3\\envs\\apexmf\\lib\\site-packages\\pyemu\\utils\\os_utils.py:143: PyemuWarning: unable to remove worker dir: .\\worker_0\n",
      "[WinError 5] Access is denied: '.\\\\worker_0\\\\pestpp-ies.exe'\n",
      "C:\\Users\\seonggyu.park\\AppData\\Local\\miniconda3\\envs\\apexmf\\lib\\site-packages\\pyemu\\utils\\os_utils.py:143: PyemuWarning: unable to remove worker dir: .\\worker_1\n",
      "[WinError 5] Access is denied: '.\\\\worker_1\\\\pestpp-ies.exe'\n"
     ]
    },
    {
     "ename": "Exception",
     "evalue": "start_workers() master returned non-zero: 3221226505",
     "output_type": "error",
     "traceback": [
      "\u001b[1;31m---------------------------------------------------------------------------\u001b[0m",
      "\u001b[1;31mException\u001b[0m                                 Traceback (most recent call last)",
      "Cell \u001b[1;32mIn[8], line 2\u001b[0m\n\u001b[0;32m      1\u001b[0m m_d \u001b[38;5;241m=\u001b[39m \u001b[38;5;124m\"\u001b[39m\u001b[38;5;124mmain_diagonal_prior_mc\u001b[39m\u001b[38;5;124m\"\u001b[39m \n\u001b[1;32m----> 2\u001b[0m \u001b[43mpyemu\u001b[49m\u001b[38;5;241;43m.\u001b[39;49m\u001b[43mos_utils\u001b[49m\u001b[38;5;241;43m.\u001b[39;49m\u001b[43mstart_workers\u001b[49m\u001b[43m(\u001b[49m\u001b[43mtemplate_ws\u001b[49m\u001b[43m,\u001b[49m\u001b[38;5;124;43m\"\u001b[39;49m\u001b[38;5;124;43mpestpp-ies\u001b[39;49m\u001b[38;5;124;43m\"\u001b[39;49m\u001b[43m,\u001b[49m\u001b[38;5;124;43m\"\u001b[39;49m\u001b[38;5;124;43mdolores_amrs_prior.pst\u001b[39;49m\u001b[38;5;124;43m\"\u001b[39;49m\u001b[43m,\u001b[49m\n\u001b[0;32m      3\u001b[0m \u001b[43m                            \u001b[49m\u001b[43mnum_workers\u001b[49m\u001b[38;5;241;43m=\u001b[39;49m\u001b[38;5;241;43m2\u001b[39;49m\u001b[43m,\u001b[49m\n\u001b[0;32m      4\u001b[0m \u001b[43m                            \u001b[49m\u001b[43mworker_root\u001b[49m\u001b[38;5;241;43m=\u001b[39;49m\u001b[38;5;124;43m'\u001b[39;49m\u001b[38;5;124;43m.\u001b[39;49m\u001b[38;5;124;43m'\u001b[39;49m\u001b[43m,\u001b[49m\n\u001b[0;32m      5\u001b[0m \u001b[43m                            \u001b[49m\u001b[43mmaster_dir\u001b[49m\u001b[38;5;241;43m=\u001b[39;49m\u001b[43mm_d\u001b[49m\u001b[43m)\u001b[49m\n",
      "File \u001b[1;32m~\\AppData\\Local\\miniconda3\\envs\\apexmf\\lib\\site-packages\\pyemu\\utils\\os_utils.py:374\u001b[0m, in \u001b[0;36mstart_workers\u001b[1;34m(worker_dir, exe_rel_path, pst_rel_path, num_workers, worker_root, port, rel_path, local, cleanup, master_dir, verbose, silent_master, reuse_master)\u001b[0m\n\u001b[0;32m    372\u001b[0m ret_val \u001b[38;5;241m=\u001b[39m master_p\u001b[38;5;241m.\u001b[39mreturncode\n\u001b[0;32m    373\u001b[0m \u001b[38;5;28;01mif\u001b[39;00m ret_val \u001b[38;5;241m!=\u001b[39m \u001b[38;5;241m0\u001b[39m:\n\u001b[1;32m--> 374\u001b[0m     \u001b[38;5;28;01mraise\u001b[39;00m \u001b[38;5;167;01mException\u001b[39;00m(\u001b[38;5;124m\"\u001b[39m\u001b[38;5;124mstart_workers() master returned non-zero: \u001b[39m\u001b[38;5;132;01m{0}\u001b[39;00m\u001b[38;5;124m\"\u001b[39m\u001b[38;5;241m.\u001b[39mformat(ret_val))\n",
      "\u001b[1;31mException\u001b[0m: start_workers() master returned non-zero: 3221226505"
     ]
    }
   ],
   "source": [
    "m_d = \"main_diagonal_prior_mc\" \n",
    "pyemu.os_utils.start_workers(template_ws,\"pestpp-ies\",\"dolores_amrs_prior.pst\",\n",
    "                            num_workers=2,\n",
    "                            worker_root='.',\n",
    "                            master_dir=m_d)"
   ]
  },
  {
   "cell_type": "code",
   "execution_count": null,
   "id": "d30093f1",
   "metadata": {},
   "outputs": [],
   "source": [
    "pst = pyemu.Pst(os.path.join(template_ws, 'animas_diagprior.pst'))"
   ]
  },
  {
   "cell_type": "code",
   "execution_count": null,
   "id": "6a76a539",
   "metadata": {},
   "outputs": [],
   "source": [
    "pst.write_par_summary_table(filename=\"none\")"
   ]
  },
  {
   "cell_type": "code",
   "execution_count": null,
   "id": "dbfe8537",
   "metadata": {},
   "outputs": [],
   "source": [
    "pst.npar_adj"
   ]
  },
  {
   "cell_type": "code",
   "execution_count": null,
   "id": "7497911f",
   "metadata": {},
   "outputs": [],
   "source": [
    "obs_df = pd.read_csv(os.path.join(m_d,\"animas_diagprior.0.obs.csv\"),index_col=0)"
   ]
  },
  {
   "cell_type": "code",
   "execution_count": null,
   "id": "f5c99d6f",
   "metadata": {},
   "outputs": [],
   "source": [
    "pst.try_parse_name_metadata()"
   ]
  },
  {
   "cell_type": "code",
   "execution_count": null,
   "id": "8e905184",
   "metadata": {},
   "outputs": [],
   "source": [
    "obs = pst.observation_data.copy()"
   ]
  },
  {
   "cell_type": "code",
   "execution_count": null,
   "id": "36ad83ec",
   "metadata": {},
   "outputs": [],
   "source": [
    "time_col = []\n",
    "for i in range(len(obs)):\n",
    "    if obs.iloc[i, 0][0] == \"d\":\n",
    "        time_col.append(obs.iloc[i, 0][-8:])\n",
    "    elif obs.iloc[i, 0][0] == \"m\":\n",
    "        time_col.append(obs.iloc[i, 0][-6:])\n"
   ]
  },
  {
   "cell_type": "code",
   "execution_count": null,
   "id": "3ebcef1f",
   "metadata": {},
   "outputs": [],
   "source": [
    "obs.time = time_col"
   ]
  },
  {
   "cell_type": "code",
   "execution_count": null,
   "id": "7fd938e5",
   "metadata": {},
   "outputs": [],
   "source": [
    "obs.loc[obs[\"obgnme\"]==\"m075_lso4\"]"
   ]
  },
  {
   "cell_type": "code",
   "execution_count": null,
   "id": "b2e9c738",
   "metadata": {},
   "outputs": [],
   "source": [
    "ogs = obs.obgnme.unique()"
   ]
  },
  {
   "cell_type": "code",
   "execution_count": null,
   "id": "9d049297",
   "metadata": {},
   "outputs": [],
   "source": [
    "ogs"
   ]
  },
  {
   "cell_type": "code",
   "execution_count": null,
   "id": "1d7a5ba7",
   "metadata": {},
   "outputs": [],
   "source": [
    "ogs = [i for i in ogs if i[5] == \"l\"]"
   ]
  },
  {
   "cell_type": "code",
   "execution_count": null,
   "id": "031a0581",
   "metadata": {
    "scrolled": false
   },
   "outputs": [],
   "source": [
    "fig,axes = plt.subplots(len(ogs),1,figsize=(10,5*len(ogs)))\n",
    "ogs.sort()\n",
    "for ax,og in zip(axes,ogs):\n",
    "    oobs = obs.loc[obs.obgnme==og,:].copy()\n",
    "    oobs.loc[:,\"time\"] = oobs.time.astype(str)\n",
    "#     oobs.sort_values(by=\"time\",inplace=True)\n",
    "    tvals = oobs.time.values\n",
    "    onames = oobs.obsnme.values\n",
    "#     [ax.plot(tvals,obs_df.loc[i,onames].values,\"0.5\",lw=0.5,alpha=0.5) for i in obs_df.index]\n",
    "    [ax.scatter(tvals,obs_df.loc[i,onames].values, color=\"gray\", alpha=0.3) for i in obs_df.index]\n",
    "    oobs = oobs.loc[oobs.weight>0,:]\n",
    "    ax.scatter(oobs.time,oobs.obsval, color=\"red\", label=\"Observed\", s=30).set_facecolor(\"none\")\n",
    "    ax.tick_params(axis='x', labelrotation=45)\n",
    "    ax.margins(x=0.01)\n",
    "    ax.set_title(og,loc=\"left\")"
   ]
  },
  {
   "cell_type": "code",
   "execution_count": null,
   "id": "c867fa6c",
   "metadata": {},
   "outputs": [],
   "source": []
  },
  {
   "cell_type": "code",
   "execution_count": null,
   "id": "368da509",
   "metadata": {},
   "outputs": [],
   "source": []
  },
  {
   "cell_type": "code",
   "execution_count": null,
   "id": "4a2ee132",
   "metadata": {},
   "outputs": [],
   "source": []
  },
  {
   "cell_type": "code",
   "execution_count": null,
   "id": "02d5e44d",
   "metadata": {},
   "outputs": [],
   "source": []
  },
  {
   "cell_type": "code",
   "execution_count": null,
   "id": "31e2f565",
   "metadata": {},
   "outputs": [],
   "source": []
  },
  {
   "cell_type": "code",
   "execution_count": null,
   "id": "86760412",
   "metadata": {},
   "outputs": [],
   "source": []
  },
  {
   "cell_type": "code",
   "execution_count": null,
   "id": "c2e7d44d",
   "metadata": {},
   "outputs": [],
   "source": []
  },
  {
   "cell_type": "code",
   "execution_count": null,
   "id": "3e990042",
   "metadata": {},
   "outputs": [],
   "source": []
  },
  {
   "cell_type": "code",
   "execution_count": null,
   "id": "75d95b40",
   "metadata": {},
   "outputs": [],
   "source": []
  }
 ],
 "metadata": {
  "kernelspec": {
   "display_name": "Python 3 (ipykernel)",
   "language": "python",
   "name": "python3"
  },
  "language_info": {
   "codemirror_mode": {
    "name": "ipython",
    "version": 3
   },
   "file_extension": ".py",
   "mimetype": "text/x-python",
   "name": "python",
   "nbconvert_exporter": "python",
   "pygments_lexer": "ipython3",
   "version": "3.10.10"
  }
 },
 "nbformat": 4,
 "nbformat_minor": 5
}
