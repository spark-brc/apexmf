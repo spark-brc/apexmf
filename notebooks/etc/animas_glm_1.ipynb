{
 "cells": [
  {
   "cell_type": "code",
   "execution_count": 11,
   "id": "c884dcab",
   "metadata": {},
   "outputs": [],
   "source": [
    "import pyemu\n",
    "import os\n",
    "import pandas as pd\n",
    "import matplotlib.pyplot as plt\n",
    "import psutil"
   ]
  },
  {
   "cell_type": "code",
   "execution_count": 2,
   "id": "bbd1690f",
   "metadata": {},
   "outputs": [],
   "source": [
    "wd = \"D:/spark/animas_amrs\"\n",
    "os.chdir(wd)"
   ]
  },
  {
   "cell_type": "code",
   "execution_count": 4,
   "id": "b4e987d8",
   "metadata": {},
   "outputs": [],
   "source": [
    "template_ws = os.path.join(wd, \"ies_template_all\")"
   ]
  },
  {
   "cell_type": "code",
   "execution_count": 5,
   "id": "bb12d703",
   "metadata": {},
   "outputs": [],
   "source": [
    "pst_path = os.path.join(template_ws, 'animas_amrs.pst')"
   ]
  },
  {
   "cell_type": "code",
   "execution_count": 6,
   "id": "66e6b27f",
   "metadata": {},
   "outputs": [],
   "source": [
    "pst = pyemu.Pst(pst_path)"
   ]
  },
  {
   "cell_type": "code",
   "execution_count": 7,
   "id": "005f0756",
   "metadata": {},
   "outputs": [],
   "source": [
    "pst.control_data.noptmax = -1"
   ]
  },
  {
   "cell_type": "code",
   "execution_count": 9,
   "id": "d48fae11",
   "metadata": {},
   "outputs": [
    {
     "name": "stdout",
     "output_type": "stream",
     "text": [
      "noptmax:-1, npar_adj:44, nnz_obs:4486\n"
     ]
    }
   ],
   "source": [
    "pst.write(os.path.join(template_ws,\"animas_amrs_pp.pst\"))"
   ]
  },
  {
   "cell_type": "code",
   "execution_count": 12,
   "id": "5243ea56",
   "metadata": {},
   "outputs": [],
   "source": [
    "num_workers = psutil.cpu_count(logical=False) # update according to your available resources!"
   ]
  },
  {
   "cell_type": "code",
   "execution_count": 13,
   "id": "42f704b3",
   "metadata": {},
   "outputs": [],
   "source": [
    "m_d = os.path.join('master_glm_1')"
   ]
  },
  {
   "cell_type": "code",
   "execution_count": 15,
   "id": "db6560b1",
   "metadata": {},
   "outputs": [],
   "source": [
    "pyemu.os_utils.start_workers(template_ws,\"pestpp-glm\",\"animas_amrs_pp.pst\",num_workers=num_workers,worker_root=\".\",\n",
    "                           master_dir=m_d)"
   ]
  },
  {
   "cell_type": "code",
   "execution_count": null,
   "id": "6646042e",
   "metadata": {},
   "outputs": [],
   "source": []
  }
 ],
 "metadata": {
  "kernelspec": {
   "display_name": "Python 3 (ipykernel)",
   "language": "python",
   "name": "python3"
  },
  "language_info": {
   "codemirror_mode": {
    "name": "ipython",
    "version": 3
   },
   "file_extension": ".py",
   "mimetype": "text/x-python",
   "name": "python",
   "nbconvert_exporter": "python",
   "pygments_lexer": "ipython3",
   "version": "3.10.10"
  }
 },
 "nbformat": 4,
 "nbformat_minor": 5
}
