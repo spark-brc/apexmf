{
 "cells": [
  {
   "cell_type": "markdown",
   "metadata": {},
   "source": [
    "# Upper Animas PEST Pilot Point Setup"
   ]
  },
  {
   "cell_type": "code",
   "execution_count": 1,
   "metadata": {},
   "outputs": [],
   "source": [
    "import os\n",
    "import sys\n",
    "import numpy as np\n",
    "import pandas as pd\n",
    "import flopy as flopy\n",
    "import pyemu\n",
    "import shapefile #the pyshp module\n",
    "from pyemu.pst.pst_utils import SFMT,IFMT,FFMT,pst_config\n",
    "import matplotlib.pyplot as plt\n"
   ]
  },
  {
   "cell_type": "code",
   "execution_count": 2,
   "metadata": {},
   "outputs": [],
   "source": [
    "# from apexmf import apexmf_pst_utils"
   ]
  },
  {
   "cell_type": "code",
   "execution_count": 5,
   "metadata": {},
   "outputs": [],
   "source": [
    "\n",
    "sys.path.insert(1, 'd:/spark-brc_gits/apexmf_git/')\n",
    "from apexmf import apexmf_pst_par, apexmf_utils\n",
    "from apexmf import apexmf_pst_utils"
   ]
  },
  {
   "cell_type": "code",
   "execution_count": 6,
   "metadata": {},
   "outputs": [],
   "source": [
    "wd = \"d:/Projects/Watersheds/Gunnison/Analysis/AMRSs/Gunnison_APEX-MODFLOW-Salt/APEX-MODFLOW-Salt/\"\n",
    "# pstfile = \"gns_pest_r.pst\"\n",
    "os.chdir(wd)"
   ]
  },
  {
   "cell_type": "markdown",
   "metadata": {},
   "source": [
    "# MODFLOW parameters with Pilot Points"
   ]
  },
  {
   "cell_type": "code",
   "execution_count": 5,
   "metadata": {},
   "outputs": [
    {
     "name": "stdout",
     "output_type": "stream",
     "text": [
      "Errors and/or Warnings encountered.\n",
      "Errors and/or Warnings encountered.\n",
      "\n",
      "mf_1000 MODEL DATA VALIDATION SUMMARY:\n",
      "  8794 Warnings:\n",
      "    OC package: action(s) defined in OC stress_period_data ignored as they are not part the stress periods defined by DIS\n",
      "    RCH package: Mean R/T ratio < checker warning threshold of 2e-08 for 1 stress periods\n",
      "    RCH package: Variable NRCHOP set to value other than 3\n",
      "    RIV package: BC in inactive cell\n",
      "    UPW package: specific yield values above checker threshold of 0.5\n",
      "    UPW package: specific yield values below checker threshold of 0.01\n",
      "\n",
      "  Checks that passed:\n",
      "    Unit number conflicts\n",
      "    Compatible solver package\n",
      "    DIS package: zero or negative thickness\n",
      "    DIS package: thin cells (less than checker threshold of 1.0)\n",
      "    DIS package: nan values in top array\n",
      "    DIS package: nan values in bottom array\n",
      "    BAS6 package: isolated cells in ibound array\n",
      "    BAS6 package: Not a number\n",
      "    UPW package: zero or negative horizontal hydraulic conductivity values\n",
      "    UPW package: negative horizontal anisotropy values\n",
      "    UPW package: vertical hydraulic conductivity values below checker threshold of 1e-11\n",
      "    UPW package: vertical hydraulic conductivity values above checker threshold of 100000.0\n",
      "    UPW package: horizontal hydraulic conductivity values below checker threshold of 1e-11\n",
      "    UPW package: horizontal hydraulic conductivity values above checker threshold of 100000.0\n",
      "    UPW package: zero or negative specific storage values\n",
      "    UPW package: specific storage values below checker threshold of 1e-06\n",
      "    UPW package: specific storage values above checker threshold of 0.01\n",
      "    UPW package: zero or negative specific yield values\n",
      "    RIV package: stage below cell bottom\n",
      "    RIV package: rbot below cell bottom\n",
      "    RIV package: RIV stage below rbots\n",
      "\n"
     ]
    },
    {
     "data": {
      "text/plain": [
       "<flopy.utils.check.check at 0x27edef4e500>"
      ]
     },
     "execution_count": 5,
     "metadata": {},
     "output_type": "execute_result"
    }
   ],
   "source": [
    "# m = flopy.modflow.Modflow.load(fs.MODEL_NAM,model_ws=wd,load_only=[]) #<-- load only prevents reading ibound\n",
    "mname = 'mf_1000.nam'\n",
    "m = flopy.modflow.Modflow.load(mname,\n",
    "            model_ws=os.path.join(wd)\n",
    "            )\n",
    "m.check()"
   ]
  },
  {
   "cell_type": "code",
   "execution_count": 9,
   "metadata": {},
   "outputs": [
    {
     "name": "stdout",
     "output_type": "stream",
     "text": [
      "   could not remove start_datetime\n"
     ]
    }
   ],
   "source": [
    "sr = pyemu.helpers.SpatialReference.from_namfile(\n",
    "        os.path.join(wd, \"mf_1000.nam\"),\n",
    "        delr=m.dis.delr.array, delc=m.dis.delc.array)"
   ]
  },
  {
   "cell_type": "code",
   "execution_count": null,
   "metadata": {
    "scrolled": true
   },
   "outputs": [],
   "source": [
    "# Create pilot points as a shapefile\n",
    "# we want hk pilot points in the top layer...\n",
    "prefix_dict = {0:[\"sy0\"]}\n",
    "df_pp_hk = pyemu.pp_utils.setup_pilotpoints_grid(ml=m,\n",
    "                                              prefix_dict=prefix_dict,\n",
    "                                              pp_dir=wd,\n",
    "                                              tpl_dir=wd,\n",
    "                                              every_n_cell=10,\n",
    "                                              shapename='pp_sy.shp')"
   ]
  },
  {
   "cell_type": "code",
   "execution_count": 15,
   "metadata": {},
   "outputs": [
    {
     "data": {
      "text/plain": [
       "'sy0pp.dat'"
      ]
     },
     "execution_count": 15,
     "metadata": {},
     "output_type": "execute_result"
    }
   ],
   "source": [
    "# change shapefile and file name\n",
    "shpwd = wd\n",
    "shp = 'pp_sy.shp'\n",
    "shp_changed = 'sy0pp.shp'\n",
    "ppf = shp_changed[:-3] + 'dat'\n",
    "ppf"
   ]
  },
  {
   "cell_type": "code",
   "execution_count": 16,
   "metadata": {},
   "outputs": [],
   "source": [
    "shpwd = os.path.join(wd, \"MODFLOW\")"
   ]
  },
  {
   "cell_type": "code",
   "execution_count": 17,
   "metadata": {
    "scrolled": true
   },
   "outputs": [
    {
     "name": "stdout",
     "output_type": "stream",
     "text": [
      "        name        x         y  zone  parval1  k    i   j               tpl   \n",
      "0    pp_0000  65500.0  151500.0   1.0      1.0  0    5  65  ~    sy0000    ~  \\\n",
      "1    pp_0001  45500.0  141500.0   1.0      1.0  0   15  45  ~    sy0001    ~   \n",
      "2    pp_0002  55500.0  141500.0   1.0      1.0  0   15  55  ~    sy0002    ~   \n",
      "3    pp_0003  65500.0  141500.0   1.0      1.0  0   15  65  ~    sy0003    ~   \n",
      "4    pp_0004  75500.0  141500.0   1.0      1.0  0   15  75  ~    sy0004    ~   \n",
      "..       ...      ...       ...   ...      ... ..  ...  ..               ...   \n",
      "142  pp_0142  55500.0   11500.0   1.0      1.0  0  145  55  ~    sy0142    ~   \n",
      "143  pp_0143  65500.0   11500.0   1.0      1.0  0  145  65  ~    sy0143    ~   \n",
      "144  pp_0144  75500.0   11500.0   1.0      1.0  0  145  75  ~    sy0144    ~   \n",
      "145  pp_0145  85500.0   11500.0   1.0      1.0  0  145  85  ~    sy0145    ~   \n",
      "146  pp_0146  95500.0   11500.0   1.0      1.0  0  145  95  ~    sy0146    ~   \n",
      "\n",
      "     parnme  ...                                          pp_filenam pargp   \n",
      "0    sy0000  ...  D:/Projects/Watersheds/Gunnison/Analysis/apexmf_mo   sy0  \\\n",
      "1    sy0001  ...  D:/Projects/Watersheds/Gunnison/Analysis/apexmf_mo   sy0   \n",
      "2    sy0002  ...  D:/Projects/Watersheds/Gunnison/Analysis/apexmf_mo   sy0   \n",
      "3    sy0003  ...  D:/Projects/Watersheds/Gunnison/Analysis/apexmf_mo   sy0   \n",
      "4    sy0004  ...  D:/Projects/Watersheds/Gunnison/Analysis/apexmf_mo   sy0   \n",
      "..      ...  ...                                                 ...   ...   \n",
      "142  sy0142  ...  D:/Projects/Watersheds/Gunnison/Analysis/apexmf_mo   sy0   \n",
      "143  sy0143  ...  D:/Projects/Watersheds/Gunnison/Analysis/apexmf_mo   sy0   \n",
      "144  sy0144  ...  D:/Projects/Watersheds/Gunnison/Analysis/apexmf_mo   sy0   \n",
      "145  sy0145  ...  D:/Projects/Watersheds/Gunnison/Analysis/apexmf_mo   sy0   \n",
      "146  sy0146  ...  D:/Projects/Watersheds/Gunnison/Analysis/apexmf_mo   sy0   \n",
      "\n",
      "    partrans parchglim       parlbnd       parubnd  scale  offset  dercom   \n",
      "0        log    factor  1.000000e-10  1.100000e+10    1.0     0.0       1  \\\n",
      "1        log    factor  1.000000e-10  1.100000e+10    1.0     0.0       1   \n",
      "2        log    factor  1.000000e-10  1.100000e+10    1.0     0.0       1   \n",
      "3        log    factor  1.000000e-10  1.100000e+10    1.0     0.0       1   \n",
      "4        log    factor  1.000000e-10  1.100000e+10    1.0     0.0       1   \n",
      "..       ...       ...           ...           ...    ...     ...     ...   \n",
      "142      log    factor  1.000000e-10  1.100000e+10    1.0     0.0       1   \n",
      "143      log    factor  1.000000e-10  1.100000e+10    1.0     0.0       1   \n",
      "144      log    factor  1.000000e-10  1.100000e+10    1.0     0.0       1   \n",
      "145      log    factor  1.000000e-10  1.100000e+10    1.0     0.0       1   \n",
      "146      log    factor  1.000000e-10  1.100000e+10    1.0     0.0       1   \n",
      "\n",
      "                                         coords  \n",
      "0    [[-976679.6636818679, 1857642.1899867258]]  \n",
      "1    [[-996679.6636818679, 1847642.1899867258]]  \n",
      "2    [[-986679.6636818679, 1847642.1899867258]]  \n",
      "3    [[-976679.6636818679, 1847642.1899867258]]  \n",
      "4    [[-966679.6636818679, 1847642.1899867258]]  \n",
      "..                                          ...  \n",
      "142  [[-986679.6636818679, 1717642.1899867258]]  \n",
      "143  [[-976679.6636818679, 1717642.1899867258]]  \n",
      "144  [[-966679.6636818679, 1717642.1899867258]]  \n",
      "145  [[-956679.6636818679, 1717642.1899867258]]  \n",
      "146  [[-946679.6636818679, 1717642.1899867258]]  \n",
      "\n",
      "[147 rows x 21 columns]\n"
     ]
    }
   ],
   "source": [
    "#read file, parse out the records and shapes\n",
    "shapefile_path = os.path.join(shpwd, shp)\n",
    "sf = shapefile.Reader(shapefile_path)\n",
    "\n",
    "#grab the shapefile's field names (omit the first psuedo field)\n",
    "fields = [x[0] for x in sf.fields][1:]\n",
    "records = sf.records()\n",
    "shps = [s.points for s in sf.shapes()]\n",
    "\n",
    "#write the records into a dataframe\n",
    "shapefile_dataframe = pd.DataFrame(columns=fields, data=records)\n",
    "\n",
    "#add the coordinate data to a column called \"coords\"\n",
    "shapefile_dataframe = shapefile_dataframe.assign(coords=shps)\n",
    "\n",
    "pp_df = shapefile_dataframe.sort_values(by=['name'])\n",
    "print(pp_df)"
   ]
  },
  {
   "cell_type": "markdown",
   "metadata": {},
   "source": [
    "- get list of salt ion\n",
    "- change tpl name for new par name\n",
    "- write dataframe to pp.dat file\n",
    "- write tpl file for pp.dat file\n"
   ]
  },
  {
   "cell_type": "markdown",
   "metadata": {},
   "source": [
    "# you got to make co3 and hco3 too although you don't have"
   ]
  },
  {
   "cell_type": "code",
   "execution_count": 48,
   "metadata": {
    "scrolled": true
   },
   "outputs": [
    {
     "data": {
      "text/plain": [
       "['so4', 'ca', 'mg', 'na', 'k', 'cl', 'co3', 'hco3']"
      ]
     },
     "execution_count": 48,
     "metadata": {},
     "output_type": "execute_result"
    }
   ],
   "source": [
    "sions_ = [\"SO4\", \"Ca\", \"Mg\", \"Na\", \"K\", \"Cl\", \"CO3\", \"HCO3\"]\n",
    "sions = [i.lower() for i in sions_] \n",
    "sions"
   ]
  },
  {
   "cell_type": "code",
   "execution_count": 49,
   "metadata": {},
   "outputs": [],
   "source": [
    "sionsf = [f\"salt_{i.lower()}0pp.dat.ref\" for i in sions_] "
   ]
  },
  {
   "cell_type": "code",
   "execution_count": 50,
   "metadata": {},
   "outputs": [
    {
     "data": {
      "text/plain": [
       "['salt_so40pp.dat.ref',\n",
       " 'salt_ca0pp.dat.ref',\n",
       " 'salt_mg0pp.dat.ref',\n",
       " 'salt_na0pp.dat.ref',\n",
       " 'salt_k0pp.dat.ref',\n",
       " 'salt_cl0pp.dat.ref',\n",
       " 'salt_co30pp.dat.ref',\n",
       " 'salt_hco30pp.dat.ref']"
      ]
     },
     "execution_count": 50,
     "metadata": {},
     "output_type": "execute_result"
    }
   ],
   "source": [
    "sionsf"
   ]
  },
  {
   "cell_type": "code",
   "execution_count": 56,
   "metadata": {},
   "outputs": [],
   "source": [
    "conts = [1.8e+006, 50000, 20000, 1.8e+007, 30000, 5e+007, 5e+007, 5e+007]\n",
    "rgs = [45900, 20700, 35100, 35100, 27000, 28800, 28800, 28800]\n"
   ]
  },
  {
   "cell_type": "code",
   "execution_count": 57,
   "metadata": {},
   "outputs": [],
   "source": [
    "def change_tpl_name(tpl_df, newnam, oldnam='sy'):\n",
    "    tpl_df['tpl'] = tpl_df['tpl'].str.replace(oldnam, newnam)\n",
    "    tpl_df['pargp'] = tpl_df['pargp'].str.replace(oldnam, newnam)\n",
    "    tpl_df['parnme'] = tpl_df['parnme'].str.replace(oldnam, newnam)\n",
    "    return tpl_df"
   ]
  },
  {
   "cell_type": "code",
   "execution_count": 58,
   "metadata": {},
   "outputs": [],
   "source": [
    "PP_FMT = {\"name\": SFMT, \"x\": FFMT, \"y\": FFMT, \"zone\": IFMT, \"tpl\": SFMT,\n",
    "          \"parval1\": FFMT}\n",
    "def pp_to_tpl(new_df, pp_file, tpl_file=None):\n",
    "    names = new_df['parnme'].tolist() # for hk\n",
    "    # names = new_df['sypar'].tolist() # for sy  \n",
    "#     names = new_df['parnme'].tolist() # for river conductance      \n",
    "    if tpl_file is None:\n",
    "        tpl_file = pp_file + \".tpl\"    \n",
    "    tpl_entries = [\"~    {0}    ~\".format(name) for name in names]\n",
    "    new_df.loc[:,\"tpl\"] = tpl_entries\n",
    "    new_df.loc[:,\"parnme\"] = names\n",
    "\n",
    "\n",
    "    f_tpl = open(tpl_file,'w')\n",
    "    f_tpl.write(\"ptf ~\\n\")\n",
    "    f_tpl.write(new_df.to_string(col_space=0,\n",
    "                              columns=[\"name\",\"x\",\"y\",\"zone\",\"tpl\"],\n",
    "                              formatters=PP_FMT,\n",
    "                              justify=\"left\",\n",
    "                              header=False,\n",
    "                              index=False) + '\\n')    \n"
   ]
  },
  {
   "cell_type": "code",
   "execution_count": 59,
   "metadata": {},
   "outputs": [],
   "source": [
    "def intp_krigging(cont, a, new_df, ionnam):\n",
    "    v = pyemu.geostats.ExpVario(contribution=cont,a=a, bearing=0)\n",
    "    gs = pyemu.geostats.GeoStruct(variograms=v,nugget=0)\n",
    "    ok = pyemu.geostats.OrdinaryKrige(gs,new_df)\n",
    "    df = ok.calc_factors_grid(sr,\n",
    "    #                           var_filename=pst_name.replace(\".pst\",\".var.ref\"),\n",
    "                              var_filename= f\"salt_{ionnam}0pp.\" + \"var.ref\",                          \n",
    "                              minpts_interp=1,maxpts_interp=50,\n",
    "                              search_radius=5000000000000.0)\n",
    "    ok.to_grid_factors_file(f\"salt_{ionnam}0pp.dat\"+\".fac\")"
   ]
  },
  {
   "cell_type": "code",
   "execution_count": 60,
   "metadata": {},
   "outputs": [
    {
     "name": "stdout",
     "output_type": "stream",
     "text": [
      "starting interp point loop for 24649 points\n",
      "took 92.468587 seconds\n",
      "starting interp point loop for 24649 points\n",
      "took 94.999418 seconds\n",
      "starting interp point loop for 24649 points\n",
      "took 94.118843 seconds\n",
      "starting interp point loop for 24649 points\n",
      "took 94.121582 seconds\n",
      "starting interp point loop for 24649 points\n",
      "took 90.725636 seconds\n",
      "starting interp point loop for 24649 points\n",
      "took 90.913603 seconds\n",
      "starting interp point loop for 24649 points\n",
      "took 91.760943 seconds\n",
      "starting interp point loop for 24649 points\n",
      "took 91.937067 seconds\n"
     ]
    }
   ],
   "source": [
    "for ionnam, cont, rg in zip(sions, conts, rgs):\n",
    "    df = pp_df.copy()\n",
    "    # write dataframe to pp.dat file\n",
    "    new_df = change_tpl_name(df, f\"salt_{ionnam}\", oldnam='sy')\n",
    "    pyemu.utils.pp_utils.write_pp_file(f\"salt_{ionnam}0pp.dat\", new_df) # create dat\n",
    "    pp_to_tpl(new_df, f\"salt_{ionnam}0pp.dat\") # create tpl\n",
    "    intp_krigging(cont, rg, new_df, ionnam)"
   ]
  },
  {
   "cell_type": "code",
   "execution_count": null,
   "metadata": {},
   "outputs": [],
   "source": []
  },
  {
   "cell_type": "code",
   "execution_count": 25,
   "metadata": {},
   "outputs": [],
   "source": [
    "ionnam = \"so4\""
   ]
  },
  {
   "cell_type": "code",
   "execution_count": 26,
   "metadata": {},
   "outputs": [],
   "source": [
    "df = pp_df.copy()\n",
    "# write dataframe to pp.dat file\n",
    "new_df = change_tpl_name(df, f\"salt_{ionnam}\", oldnam='sy')"
   ]
  },
  {
   "cell_type": "code",
   "execution_count": null,
   "metadata": {},
   "outputs": [],
   "source": []
  },
  {
   "cell_type": "code",
   "execution_count": 27,
   "metadata": {},
   "outputs": [
    {
     "data": {
      "text/plain": [
       "<matplotlib.collections.PathCollection at 0x1da813ccc70>"
      ]
     },
     "execution_count": 27,
     "metadata": {},
     "output_type": "execute_result"
    },
    {
     "data": {
      "image/png": "[encoded data removed]",
      "text/plain": [
       "<Figure size 640x480 with 2 Axes>"
      ]
     },
     "metadata": {},
     "output_type": "display_data"
    }
   ],
   "source": [
    "# arr_var = np.loadtxt(pst_name.replace(\".pst\",\".var.ref\"))\n",
    "arr_var = np.loadtxt(f\"salt_{ionnam}0pp.\" + \"var.ref\")\n",
    "ax = plt.subplot(111,aspect=\"equal\")\n",
    "p = ax.imshow(arr_var,extent=sr.get_extent(),alpha=0.25)\n",
    "plt.colorbar(p)\n",
    "plt.tight_layout()\n",
    "ax.scatter(pp_df.x,pp_df.y,marker='.',s=4,color='r')"
   ]
  },
  {
   "cell_type": "code",
   "execution_count": 28,
   "metadata": {},
   "outputs": [],
   "source": [
    "# generate random values\n",
    "new_df.loc[:,\"parval1\"] = np.random.random(new_df.shape[0])\n",
    "# save a pilot points file\n",
    "pyemu.pp_utils.write_pp_file(f\"salt_{ionnam}0pp.dat\",new_df)"
   ]
  },
  {
   "cell_type": "code",
   "execution_count": 29,
   "metadata": {},
   "outputs": [],
   "source": [
    "# interpolate the pilot point values to the grid\n",
    "hk_arr = pyemu.utils.geostats.fac2real(f\"salt_{ionnam}0pp.dat\",factors_file=f\"salt_{ionnam}0pp.dat\"+\".fac\",out_file=None)"
   ]
  },
  {
   "cell_type": "code",
   "execution_count": 30,
   "metadata": {},
   "outputs": [
    {
     "data": {
      "text/plain": [
       "<matplotlib.collections.PathCollection at 0x1da81bd1780>"
      ]
     },
     "execution_count": 30,
     "metadata": {},
     "output_type": "execute_result"
    },
    {
     "data": {
      "image/png": "[encoded data removed]",
      "text/plain": [
       "<Figure size 640x480 with 1 Axes>"
      ]
     },
     "metadata": {},
     "output_type": "display_data"
    }
   ],
   "source": [
    "# plot\n",
    "ax = plt.subplot(111,aspect='equal')\n",
    "ax.imshow(hk_arr,interpolation=\"nearest\",extent=sr.get_extent(),alpha=0.5)\n",
    "ax.scatter(new_df.x,new_df.y,marker='.',s=4,color='k')"
   ]
  },
  {
   "cell_type": "markdown",
   "metadata": {},
   "source": [
    "# create ins file for salt ... done"
   ]
  },
  {
   "cell_type": "code",
   "execution_count": 18,
   "metadata": {},
   "outputs": [],
   "source": [
    "os.chdir(wd)"
   ]
  },
  {
   "cell_type": "code",
   "execution_count": 19,
   "metadata": {},
   "outputs": [],
   "source": [
    "io_files = pyemu.helpers.parse_dir_for_io_files('.')\n",
    "pst = pyemu.Pst.from_io_files(*io_files)\n"
   ]
  },
  {
   "cell_type": "code",
   "execution_count": null,
   "metadata": {},
   "outputs": [],
   "source": []
  },
  {
   "cell_type": "code",
   "execution_count": 20,
   "metadata": {},
   "outputs": [
    {
     "data": {
      "text/html": [
       "<div>\n",
       "<style scoped>\n",
       "    .dataframe tbody tr th:only-of-type {\n",
       "        vertical-align: middle;\n",
       "    }\n",
       "\n",
       "    .dataframe tbody tr th {\n",
       "        vertical-align: top;\n",
       "    }\n",
       "\n",
       "    .dataframe thead th {\n",
       "        text-align: right;\n",
       "    }\n",
       "</style>\n",
       "<table border=\"1\" class=\"dataframe\">\n",
       "  <thead>\n",
       "    <tr style=\"text-align: right;\">\n",
       "      <th></th>\n",
       "      <th>parnme</th>\n",
       "      <th>partrans</th>\n",
       "      <th>parchglim</th>\n",
       "      <th>parval1</th>\n",
       "      <th>parlbnd</th>\n",
       "      <th>parubnd</th>\n",
       "      <th>pargp</th>\n",
       "      <th>scale</th>\n",
       "      <th>offset</th>\n",
       "      <th>dercom</th>\n",
       "    </tr>\n",
       "  </thead>\n",
       "  <tbody>\n",
       "    <tr>\n",
       "      <th>salt_ca0000</th>\n",
       "      <td>salt_ca0000</td>\n",
       "      <td>log</td>\n",
       "      <td>factor</td>\n",
       "      <td>1.0</td>\n",
       "      <td>1.100000e-10</td>\n",
       "      <td>1.100000e+10</td>\n",
       "      <td>pargp</td>\n",
       "      <td>1.0</td>\n",
       "      <td>0.0</td>\n",
       "      <td>1</td>\n",
       "    </tr>\n",
       "    <tr>\n",
       "      <th>salt_ca0001</th>\n",
       "      <td>salt_ca0001</td>\n",
       "      <td>log</td>\n",
       "      <td>factor</td>\n",
       "      <td>1.0</td>\n",
       "      <td>1.100000e-10</td>\n",
       "      <td>1.100000e+10</td>\n",
       "      <td>pargp</td>\n",
       "      <td>1.0</td>\n",
       "      <td>0.0</td>\n",
       "      <td>1</td>\n",
       "    </tr>\n",
       "    <tr>\n",
       "      <th>salt_ca0002</th>\n",
       "      <td>salt_ca0002</td>\n",
       "      <td>log</td>\n",
       "      <td>factor</td>\n",
       "      <td>1.0</td>\n",
       "      <td>1.100000e-10</td>\n",
       "      <td>1.100000e+10</td>\n",
       "      <td>pargp</td>\n",
       "      <td>1.0</td>\n",
       "      <td>0.0</td>\n",
       "      <td>1</td>\n",
       "    </tr>\n",
       "    <tr>\n",
       "      <th>salt_ca0003</th>\n",
       "      <td>salt_ca0003</td>\n",
       "      <td>log</td>\n",
       "      <td>factor</td>\n",
       "      <td>1.0</td>\n",
       "      <td>1.100000e-10</td>\n",
       "      <td>1.100000e+10</td>\n",
       "      <td>pargp</td>\n",
       "      <td>1.0</td>\n",
       "      <td>0.0</td>\n",
       "      <td>1</td>\n",
       "    </tr>\n",
       "    <tr>\n",
       "      <th>salt_ca0004</th>\n",
       "      <td>salt_ca0004</td>\n",
       "      <td>log</td>\n",
       "      <td>factor</td>\n",
       "      <td>1.0</td>\n",
       "      <td>1.100000e-10</td>\n",
       "      <td>1.100000e+10</td>\n",
       "      <td>pargp</td>\n",
       "      <td>1.0</td>\n",
       "      <td>0.0</td>\n",
       "      <td>1</td>\n",
       "    </tr>\n",
       "    <tr>\n",
       "      <th>...</th>\n",
       "      <td>...</td>\n",
       "      <td>...</td>\n",
       "      <td>...</td>\n",
       "      <td>...</td>\n",
       "      <td>...</td>\n",
       "      <td>...</td>\n",
       "      <td>...</td>\n",
       "      <td>...</td>\n",
       "      <td>...</td>\n",
       "      <td>...</td>\n",
       "    </tr>\n",
       "    <tr>\n",
       "      <th>salt_so40142</th>\n",
       "      <td>salt_so40142</td>\n",
       "      <td>log</td>\n",
       "      <td>factor</td>\n",
       "      <td>1.0</td>\n",
       "      <td>1.100000e-10</td>\n",
       "      <td>1.100000e+10</td>\n",
       "      <td>pargp</td>\n",
       "      <td>1.0</td>\n",
       "      <td>0.0</td>\n",
       "      <td>1</td>\n",
       "    </tr>\n",
       "    <tr>\n",
       "      <th>salt_so40143</th>\n",
       "      <td>salt_so40143</td>\n",
       "      <td>log</td>\n",
       "      <td>factor</td>\n",
       "      <td>1.0</td>\n",
       "      <td>1.100000e-10</td>\n",
       "      <td>1.100000e+10</td>\n",
       "      <td>pargp</td>\n",
       "      <td>1.0</td>\n",
       "      <td>0.0</td>\n",
       "      <td>1</td>\n",
       "    </tr>\n",
       "    <tr>\n",
       "      <th>salt_so40144</th>\n",
       "      <td>salt_so40144</td>\n",
       "      <td>log</td>\n",
       "      <td>factor</td>\n",
       "      <td>1.0</td>\n",
       "      <td>1.100000e-10</td>\n",
       "      <td>1.100000e+10</td>\n",
       "      <td>pargp</td>\n",
       "      <td>1.0</td>\n",
       "      <td>0.0</td>\n",
       "      <td>1</td>\n",
       "    </tr>\n",
       "    <tr>\n",
       "      <th>salt_so40145</th>\n",
       "      <td>salt_so40145</td>\n",
       "      <td>log</td>\n",
       "      <td>factor</td>\n",
       "      <td>1.0</td>\n",
       "      <td>1.100000e-10</td>\n",
       "      <td>1.100000e+10</td>\n",
       "      <td>pargp</td>\n",
       "      <td>1.0</td>\n",
       "      <td>0.0</td>\n",
       "      <td>1</td>\n",
       "    </tr>\n",
       "    <tr>\n",
       "      <th>salt_so40146</th>\n",
       "      <td>salt_so40146</td>\n",
       "      <td>log</td>\n",
       "      <td>factor</td>\n",
       "      <td>1.0</td>\n",
       "      <td>1.100000e-10</td>\n",
       "      <td>1.100000e+10</td>\n",
       "      <td>pargp</td>\n",
       "      <td>1.0</td>\n",
       "      <td>0.0</td>\n",
       "      <td>1</td>\n",
       "    </tr>\n",
       "  </tbody>\n",
       "</table>\n",
       "<p>1176 rows × 10 columns</p>\n",
       "</div>"
      ],
      "text/plain": [
       "                    parnme partrans parchglim  parval1       parlbnd   \n",
       "salt_ca0000    salt_ca0000      log    factor      1.0  1.100000e-10  \\\n",
       "salt_ca0001    salt_ca0001      log    factor      1.0  1.100000e-10   \n",
       "salt_ca0002    salt_ca0002      log    factor      1.0  1.100000e-10   \n",
       "salt_ca0003    salt_ca0003      log    factor      1.0  1.100000e-10   \n",
       "salt_ca0004    salt_ca0004      log    factor      1.0  1.100000e-10   \n",
       "...                    ...      ...       ...      ...           ...   \n",
       "salt_so40142  salt_so40142      log    factor      1.0  1.100000e-10   \n",
       "salt_so40143  salt_so40143      log    factor      1.0  1.100000e-10   \n",
       "salt_so40144  salt_so40144      log    factor      1.0  1.100000e-10   \n",
       "salt_so40145  salt_so40145      log    factor      1.0  1.100000e-10   \n",
       "salt_so40146  salt_so40146      log    factor      1.0  1.100000e-10   \n",
       "\n",
       "                   parubnd  pargp  scale  offset  dercom  \n",
       "salt_ca0000   1.100000e+10  pargp    1.0     0.0       1  \n",
       "salt_ca0001   1.100000e+10  pargp    1.0     0.0       1  \n",
       "salt_ca0002   1.100000e+10  pargp    1.0     0.0       1  \n",
       "salt_ca0003   1.100000e+10  pargp    1.0     0.0       1  \n",
       "salt_ca0004   1.100000e+10  pargp    1.0     0.0       1  \n",
       "...                    ...    ...    ...     ...     ...  \n",
       "salt_so40142  1.100000e+10  pargp    1.0     0.0       1  \n",
       "salt_so40143  1.100000e+10  pargp    1.0     0.0       1  \n",
       "salt_so40144  1.100000e+10  pargp    1.0     0.0       1  \n",
       "salt_so40145  1.100000e+10  pargp    1.0     0.0       1  \n",
       "salt_so40146  1.100000e+10  pargp    1.0     0.0       1  \n",
       "\n",
       "[1176 rows x 10 columns]"
      ]
     },
     "execution_count": 20,
     "metadata": {},
     "output_type": "execute_result"
    }
   ],
   "source": [
    "par = pst.parameter_data\n",
    "par"
   ]
  },
  {
   "cell_type": "markdown",
   "metadata": {},
   "source": [
    "# set par gp"
   ]
  },
  {
   "cell_type": "code",
   "execution_count": 21,
   "metadata": {},
   "outputs": [],
   "source": [
    "for i in range(len(par)):\n",
    "    par.iloc[i, 6] = par.iloc[i, 0][:-3]\n",
    "    "
   ]
  },
  {
   "cell_type": "code",
   "execution_count": 22,
   "metadata": {},
   "outputs": [
    {
     "data": {
      "text/html": [
       "<div>\n",
       "<style scoped>\n",
       "    .dataframe tbody tr th:only-of-type {\n",
       "        vertical-align: middle;\n",
       "    }\n",
       "\n",
       "    .dataframe tbody tr th {\n",
       "        vertical-align: top;\n",
       "    }\n",
       "\n",
       "    .dataframe thead th {\n",
       "        text-align: right;\n",
       "    }\n",
       "</style>\n",
       "<table border=\"1\" class=\"dataframe\">\n",
       "  <thead>\n",
       "    <tr style=\"text-align: right;\">\n",
       "      <th></th>\n",
       "      <th>parnme</th>\n",
       "      <th>partrans</th>\n",
       "      <th>parchglim</th>\n",
       "      <th>parval1</th>\n",
       "      <th>parlbnd</th>\n",
       "      <th>parubnd</th>\n",
       "      <th>pargp</th>\n",
       "      <th>scale</th>\n",
       "      <th>offset</th>\n",
       "      <th>dercom</th>\n",
       "    </tr>\n",
       "  </thead>\n",
       "  <tbody>\n",
       "    <tr>\n",
       "      <th>salt_ca0000</th>\n",
       "      <td>salt_ca0000</td>\n",
       "      <td>log</td>\n",
       "      <td>factor</td>\n",
       "      <td>1.0</td>\n",
       "      <td>1.100000e-10</td>\n",
       "      <td>1.100000e+10</td>\n",
       "      <td>salt_ca0</td>\n",
       "      <td>1.0</td>\n",
       "      <td>0.0</td>\n",
       "      <td>1</td>\n",
       "    </tr>\n",
       "    <tr>\n",
       "      <th>salt_ca0001</th>\n",
       "      <td>salt_ca0001</td>\n",
       "      <td>log</td>\n",
       "      <td>factor</td>\n",
       "      <td>1.0</td>\n",
       "      <td>1.100000e-10</td>\n",
       "      <td>1.100000e+10</td>\n",
       "      <td>salt_ca0</td>\n",
       "      <td>1.0</td>\n",
       "      <td>0.0</td>\n",
       "      <td>1</td>\n",
       "    </tr>\n",
       "    <tr>\n",
       "      <th>salt_ca0002</th>\n",
       "      <td>salt_ca0002</td>\n",
       "      <td>log</td>\n",
       "      <td>factor</td>\n",
       "      <td>1.0</td>\n",
       "      <td>1.100000e-10</td>\n",
       "      <td>1.100000e+10</td>\n",
       "      <td>salt_ca0</td>\n",
       "      <td>1.0</td>\n",
       "      <td>0.0</td>\n",
       "      <td>1</td>\n",
       "    </tr>\n",
       "    <tr>\n",
       "      <th>salt_ca0003</th>\n",
       "      <td>salt_ca0003</td>\n",
       "      <td>log</td>\n",
       "      <td>factor</td>\n",
       "      <td>1.0</td>\n",
       "      <td>1.100000e-10</td>\n",
       "      <td>1.100000e+10</td>\n",
       "      <td>salt_ca0</td>\n",
       "      <td>1.0</td>\n",
       "      <td>0.0</td>\n",
       "      <td>1</td>\n",
       "    </tr>\n",
       "    <tr>\n",
       "      <th>salt_ca0004</th>\n",
       "      <td>salt_ca0004</td>\n",
       "      <td>log</td>\n",
       "      <td>factor</td>\n",
       "      <td>1.0</td>\n",
       "      <td>1.100000e-10</td>\n",
       "      <td>1.100000e+10</td>\n",
       "      <td>salt_ca0</td>\n",
       "      <td>1.0</td>\n",
       "      <td>0.0</td>\n",
       "      <td>1</td>\n",
       "    </tr>\n",
       "    <tr>\n",
       "      <th>...</th>\n",
       "      <td>...</td>\n",
       "      <td>...</td>\n",
       "      <td>...</td>\n",
       "      <td>...</td>\n",
       "      <td>...</td>\n",
       "      <td>...</td>\n",
       "      <td>...</td>\n",
       "      <td>...</td>\n",
       "      <td>...</td>\n",
       "      <td>...</td>\n",
       "    </tr>\n",
       "    <tr>\n",
       "      <th>salt_so40142</th>\n",
       "      <td>salt_so40142</td>\n",
       "      <td>log</td>\n",
       "      <td>factor</td>\n",
       "      <td>1.0</td>\n",
       "      <td>1.100000e-10</td>\n",
       "      <td>1.100000e+10</td>\n",
       "      <td>salt_so40</td>\n",
       "      <td>1.0</td>\n",
       "      <td>0.0</td>\n",
       "      <td>1</td>\n",
       "    </tr>\n",
       "    <tr>\n",
       "      <th>salt_so40143</th>\n",
       "      <td>salt_so40143</td>\n",
       "      <td>log</td>\n",
       "      <td>factor</td>\n",
       "      <td>1.0</td>\n",
       "      <td>1.100000e-10</td>\n",
       "      <td>1.100000e+10</td>\n",
       "      <td>salt_so40</td>\n",
       "      <td>1.0</td>\n",
       "      <td>0.0</td>\n",
       "      <td>1</td>\n",
       "    </tr>\n",
       "    <tr>\n",
       "      <th>salt_so40144</th>\n",
       "      <td>salt_so40144</td>\n",
       "      <td>log</td>\n",
       "      <td>factor</td>\n",
       "      <td>1.0</td>\n",
       "      <td>1.100000e-10</td>\n",
       "      <td>1.100000e+10</td>\n",
       "      <td>salt_so40</td>\n",
       "      <td>1.0</td>\n",
       "      <td>0.0</td>\n",
       "      <td>1</td>\n",
       "    </tr>\n",
       "    <tr>\n",
       "      <th>salt_so40145</th>\n",
       "      <td>salt_so40145</td>\n",
       "      <td>log</td>\n",
       "      <td>factor</td>\n",
       "      <td>1.0</td>\n",
       "      <td>1.100000e-10</td>\n",
       "      <td>1.100000e+10</td>\n",
       "      <td>salt_so40</td>\n",
       "      <td>1.0</td>\n",
       "      <td>0.0</td>\n",
       "      <td>1</td>\n",
       "    </tr>\n",
       "    <tr>\n",
       "      <th>salt_so40146</th>\n",
       "      <td>salt_so40146</td>\n",
       "      <td>log</td>\n",
       "      <td>factor</td>\n",
       "      <td>1.0</td>\n",
       "      <td>1.100000e-10</td>\n",
       "      <td>1.100000e+10</td>\n",
       "      <td>salt_so40</td>\n",
       "      <td>1.0</td>\n",
       "      <td>0.0</td>\n",
       "      <td>1</td>\n",
       "    </tr>\n",
       "  </tbody>\n",
       "</table>\n",
       "<p>1176 rows × 10 columns</p>\n",
       "</div>"
      ],
      "text/plain": [
       "                    parnme partrans parchglim  parval1       parlbnd   \n",
       "salt_ca0000    salt_ca0000      log    factor      1.0  1.100000e-10  \\\n",
       "salt_ca0001    salt_ca0001      log    factor      1.0  1.100000e-10   \n",
       "salt_ca0002    salt_ca0002      log    factor      1.0  1.100000e-10   \n",
       "salt_ca0003    salt_ca0003      log    factor      1.0  1.100000e-10   \n",
       "salt_ca0004    salt_ca0004      log    factor      1.0  1.100000e-10   \n",
       "...                    ...      ...       ...      ...           ...   \n",
       "salt_so40142  salt_so40142      log    factor      1.0  1.100000e-10   \n",
       "salt_so40143  salt_so40143      log    factor      1.0  1.100000e-10   \n",
       "salt_so40144  salt_so40144      log    factor      1.0  1.100000e-10   \n",
       "salt_so40145  salt_so40145      log    factor      1.0  1.100000e-10   \n",
       "salt_so40146  salt_so40146      log    factor      1.0  1.100000e-10   \n",
       "\n",
       "                   parubnd      pargp  scale  offset  dercom  \n",
       "salt_ca0000   1.100000e+10   salt_ca0    1.0     0.0       1  \n",
       "salt_ca0001   1.100000e+10   salt_ca0    1.0     0.0       1  \n",
       "salt_ca0002   1.100000e+10   salt_ca0    1.0     0.0       1  \n",
       "salt_ca0003   1.100000e+10   salt_ca0    1.0     0.0       1  \n",
       "salt_ca0004   1.100000e+10   salt_ca0    1.0     0.0       1  \n",
       "...                    ...        ...    ...     ...     ...  \n",
       "salt_so40142  1.100000e+10  salt_so40    1.0     0.0       1  \n",
       "salt_so40143  1.100000e+10  salt_so40    1.0     0.0       1  \n",
       "salt_so40144  1.100000e+10  salt_so40    1.0     0.0       1  \n",
       "salt_so40145  1.100000e+10  salt_so40    1.0     0.0       1  \n",
       "salt_so40146  1.100000e+10  salt_so40    1.0     0.0       1  \n",
       "\n",
       "[1176 rows x 10 columns]"
      ]
     },
     "execution_count": 22,
     "metadata": {},
     "output_type": "execute_result"
    }
   ],
   "source": [
    "par"
   ]
  },
  {
   "cell_type": "code",
   "execution_count": 23,
   "metadata": {},
   "outputs": [
    {
     "data": {
      "text/html": [
       "<div>\n",
       "<style scoped>\n",
       "    .dataframe tbody tr th:only-of-type {\n",
       "        vertical-align: middle;\n",
       "    }\n",
       "\n",
       "    .dataframe tbody tr th {\n",
       "        vertical-align: top;\n",
       "    }\n",
       "\n",
       "    .dataframe thead th {\n",
       "        text-align: right;\n",
       "    }\n",
       "</style>\n",
       "<table border=\"1\" class=\"dataframe\">\n",
       "  <thead>\n",
       "    <tr style=\"text-align: right;\">\n",
       "      <th></th>\n",
       "      <th>obsnme</th>\n",
       "      <th>obsval</th>\n",
       "      <th>weight</th>\n",
       "      <th>obgnme</th>\n",
       "    </tr>\n",
       "  </thead>\n",
       "  <tbody>\n",
       "    <tr>\n",
       "      <th>d064_cca_20090721</th>\n",
       "      <td>d064_cca_20090721</td>\n",
       "      <td>17.007259</td>\n",
       "      <td>1.0</td>\n",
       "      <td>obgnme</td>\n",
       "    </tr>\n",
       "    <tr>\n",
       "      <th>d064_cca_20090806</th>\n",
       "      <td>d064_cca_20090806</td>\n",
       "      <td>33.347103</td>\n",
       "      <td>1.0</td>\n",
       "      <td>obgnme</td>\n",
       "    </tr>\n",
       "    <tr>\n",
       "      <th>d064_cca_20091103</th>\n",
       "      <td>d064_cca_20091103</td>\n",
       "      <td>41.293358</td>\n",
       "      <td>1.0</td>\n",
       "      <td>obgnme</td>\n",
       "    </tr>\n",
       "    <tr>\n",
       "      <th>d064_cca_20100126</th>\n",
       "      <td>d064_cca_20100126</td>\n",
       "      <td>82.068596</td>\n",
       "      <td>1.0</td>\n",
       "      <td>obgnme</td>\n",
       "    </tr>\n",
       "    <tr>\n",
       "      <th>d064_cca_20100409</th>\n",
       "      <td>d064_cca_20100409</td>\n",
       "      <td>81.557762</td>\n",
       "      <td>1.0</td>\n",
       "      <td>obgnme</td>\n",
       "    </tr>\n",
       "    <tr>\n",
       "      <th>...</th>\n",
       "      <td>...</td>\n",
       "      <td>...</td>\n",
       "      <td>...</td>\n",
       "      <td>...</td>\n",
       "    </tr>\n",
       "    <tr>\n",
       "      <th>m064_lso4_201508</th>\n",
       "      <td>m064_lso4_201508</td>\n",
       "      <td>212484.370000</td>\n",
       "      <td>1.0</td>\n",
       "      <td>obgnme</td>\n",
       "    </tr>\n",
       "    <tr>\n",
       "      <th>m064_lso4_201509</th>\n",
       "      <td>m064_lso4_201509</td>\n",
       "      <td>211230.790000</td>\n",
       "      <td>1.0</td>\n",
       "      <td>obgnme</td>\n",
       "    </tr>\n",
       "    <tr>\n",
       "      <th>m064_lso4_201510</th>\n",
       "      <td>m064_lso4_201510</td>\n",
       "      <td>211156.230000</td>\n",
       "      <td>1.0</td>\n",
       "      <td>obgnme</td>\n",
       "    </tr>\n",
       "    <tr>\n",
       "      <th>m064_lso4_201511</th>\n",
       "      <td>m064_lso4_201511</td>\n",
       "      <td>209991.250000</td>\n",
       "      <td>1.0</td>\n",
       "      <td>obgnme</td>\n",
       "    </tr>\n",
       "    <tr>\n",
       "      <th>m064_lso4_201512</th>\n",
       "      <td>m064_lso4_201512</td>\n",
       "      <td>209330.180000</td>\n",
       "      <td>1.0</td>\n",
       "      <td>obgnme</td>\n",
       "    </tr>\n",
       "  </tbody>\n",
       "</table>\n",
       "<p>960 rows × 4 columns</p>\n",
       "</div>"
      ],
      "text/plain": [
       "                              obsnme         obsval  weight  obgnme\n",
       "d064_cca_20090721  d064_cca_20090721      17.007259     1.0  obgnme\n",
       "d064_cca_20090806  d064_cca_20090806      33.347103     1.0  obgnme\n",
       "d064_cca_20091103  d064_cca_20091103      41.293358     1.0  obgnme\n",
       "d064_cca_20100126  d064_cca_20100126      82.068596     1.0  obgnme\n",
       "d064_cca_20100409  d064_cca_20100409      81.557762     1.0  obgnme\n",
       "...                              ...            ...     ...     ...\n",
       "m064_lso4_201508    m064_lso4_201508  212484.370000     1.0  obgnme\n",
       "m064_lso4_201509    m064_lso4_201509  211230.790000     1.0  obgnme\n",
       "m064_lso4_201510    m064_lso4_201510  211156.230000     1.0  obgnme\n",
       "m064_lso4_201511    m064_lso4_201511  209991.250000     1.0  obgnme\n",
       "m064_lso4_201512    m064_lso4_201512  209330.180000     1.0  obgnme\n",
       "\n",
       "[960 rows x 4 columns]"
      ]
     },
     "execution_count": 23,
     "metadata": {},
     "output_type": "execute_result"
    }
   ],
   "source": [
    "obd = pst.observation_data\n",
    "obd"
   ]
  },
  {
   "cell_type": "code",
   "execution_count": 24,
   "metadata": {},
   "outputs": [],
   "source": [
    "for i in range(len(obd)):\n",
    "    if (obd.iloc[i, 0][5:9]) == 'lso4' or (obd.iloc[i, 0][5:9]) == 'cso4':\n",
    "        obd.iloc[i, 3] = obd.iloc[i, 0][:9]\n",
    "    elif (obd.iloc[i, 0][5:10]) == 'lhco3' or (obd.iloc[i, 0][5:10]) == 'chco3':\n",
    "        obd.iloc[i, 3] = obd.iloc[i, 0][:10]\n",
    "    elif (obd.iloc[i, 0][5:7]) == 'lk' or (obd.iloc[i, 0][5:7]) == 'ck':\n",
    "        obd.iloc[i, 3] = obd.iloc[i, 0][:7]\n",
    "    else:\n",
    "        obd.iloc[i, 3] = obd.iloc[i, 0][:8]\n"
   ]
  },
  {
   "cell_type": "code",
   "execution_count": 25,
   "metadata": {},
   "outputs": [
    {
     "data": {
      "text/html": [
       "<div>\n",
       "<style scoped>\n",
       "    .dataframe tbody tr th:only-of-type {\n",
       "        vertical-align: middle;\n",
       "    }\n",
       "\n",
       "    .dataframe tbody tr th {\n",
       "        vertical-align: top;\n",
       "    }\n",
       "\n",
       "    .dataframe thead th {\n",
       "        text-align: right;\n",
       "    }\n",
       "</style>\n",
       "<table border=\"1\" class=\"dataframe\">\n",
       "  <thead>\n",
       "    <tr style=\"text-align: right;\">\n",
       "      <th></th>\n",
       "      <th>obsnme</th>\n",
       "      <th>obsval</th>\n",
       "      <th>weight</th>\n",
       "      <th>obgnme</th>\n",
       "    </tr>\n",
       "  </thead>\n",
       "  <tbody>\n",
       "    <tr>\n",
       "      <th>d064_cca_20090721</th>\n",
       "      <td>d064_cca_20090721</td>\n",
       "      <td>17.007259</td>\n",
       "      <td>1.0</td>\n",
       "      <td>d064_cca</td>\n",
       "    </tr>\n",
       "    <tr>\n",
       "      <th>d064_cca_20090806</th>\n",
       "      <td>d064_cca_20090806</td>\n",
       "      <td>33.347103</td>\n",
       "      <td>1.0</td>\n",
       "      <td>d064_cca</td>\n",
       "    </tr>\n",
       "    <tr>\n",
       "      <th>d064_cca_20091103</th>\n",
       "      <td>d064_cca_20091103</td>\n",
       "      <td>41.293358</td>\n",
       "      <td>1.0</td>\n",
       "      <td>d064_cca</td>\n",
       "    </tr>\n",
       "    <tr>\n",
       "      <th>d064_cca_20100126</th>\n",
       "      <td>d064_cca_20100126</td>\n",
       "      <td>82.068596</td>\n",
       "      <td>1.0</td>\n",
       "      <td>d064_cca</td>\n",
       "    </tr>\n",
       "    <tr>\n",
       "      <th>d064_cca_20100409</th>\n",
       "      <td>d064_cca_20100409</td>\n",
       "      <td>81.557762</td>\n",
       "      <td>1.0</td>\n",
       "      <td>d064_cca</td>\n",
       "    </tr>\n",
       "    <tr>\n",
       "      <th>...</th>\n",
       "      <td>...</td>\n",
       "      <td>...</td>\n",
       "      <td>...</td>\n",
       "      <td>...</td>\n",
       "    </tr>\n",
       "    <tr>\n",
       "      <th>m064_lso4_201508</th>\n",
       "      <td>m064_lso4_201508</td>\n",
       "      <td>212484.370000</td>\n",
       "      <td>1.0</td>\n",
       "      <td>m064_lso4</td>\n",
       "    </tr>\n",
       "    <tr>\n",
       "      <th>m064_lso4_201509</th>\n",
       "      <td>m064_lso4_201509</td>\n",
       "      <td>211230.790000</td>\n",
       "      <td>1.0</td>\n",
       "      <td>m064_lso4</td>\n",
       "    </tr>\n",
       "    <tr>\n",
       "      <th>m064_lso4_201510</th>\n",
       "      <td>m064_lso4_201510</td>\n",
       "      <td>211156.230000</td>\n",
       "      <td>1.0</td>\n",
       "      <td>m064_lso4</td>\n",
       "    </tr>\n",
       "    <tr>\n",
       "      <th>m064_lso4_201511</th>\n",
       "      <td>m064_lso4_201511</td>\n",
       "      <td>209991.250000</td>\n",
       "      <td>1.0</td>\n",
       "      <td>m064_lso4</td>\n",
       "    </tr>\n",
       "    <tr>\n",
       "      <th>m064_lso4_201512</th>\n",
       "      <td>m064_lso4_201512</td>\n",
       "      <td>209330.180000</td>\n",
       "      <td>1.0</td>\n",
       "      <td>m064_lso4</td>\n",
       "    </tr>\n",
       "  </tbody>\n",
       "</table>\n",
       "<p>960 rows × 4 columns</p>\n",
       "</div>"
      ],
      "text/plain": [
       "                              obsnme         obsval  weight     obgnme\n",
       "d064_cca_20090721  d064_cca_20090721      17.007259     1.0   d064_cca\n",
       "d064_cca_20090806  d064_cca_20090806      33.347103     1.0   d064_cca\n",
       "d064_cca_20091103  d064_cca_20091103      41.293358     1.0   d064_cca\n",
       "d064_cca_20100126  d064_cca_20100126      82.068596     1.0   d064_cca\n",
       "d064_cca_20100409  d064_cca_20100409      81.557762     1.0   d064_cca\n",
       "...                              ...            ...     ...        ...\n",
       "m064_lso4_201508    m064_lso4_201508  212484.370000     1.0  m064_lso4\n",
       "m064_lso4_201509    m064_lso4_201509  211230.790000     1.0  m064_lso4\n",
       "m064_lso4_201510    m064_lso4_201510  211156.230000     1.0  m064_lso4\n",
       "m064_lso4_201511    m064_lso4_201511  209991.250000     1.0  m064_lso4\n",
       "m064_lso4_201512    m064_lso4_201512  209330.180000     1.0  m064_lso4\n",
       "\n",
       "[960 rows x 4 columns]"
      ]
     },
     "execution_count": 25,
     "metadata": {},
     "output_type": "execute_result"
    }
   ],
   "source": [
    "obd"
   ]
  },
  {
   "cell_type": "markdown",
   "metadata": {},
   "source": [
    "## 2.3. Import measured data"
   ]
  },
  {
   "cell_type": "code",
   "execution_count": 29,
   "metadata": {},
   "outputs": [],
   "source": [
    "# calibration period\n",
    "sim_start_day = '1/1/2007'\n",
    "cali_start_day = '7/1/2009'\n",
    "cali_end_day = '12/31/2015'"
   ]
  },
  {
   "cell_type": "code",
   "execution_count": 26,
   "metadata": {},
   "outputs": [
    {
     "data": {
      "text/plain": [
       "['salt_064_day.obd', 'salt_064_mon.obd']"
      ]
     },
     "execution_count": 26,
     "metadata": {},
     "output_type": "execute_result"
    }
   ],
   "source": [
    "# set variables\n",
    "salt_subs = [64]\n",
    "time_steps = ['day', 'mon']\n",
    "obd_files = []\n",
    "for i in salt_subs:\n",
    "    for k in time_steps:\n",
    "        obd_files.append(\"salt_{:03d}_{}.obd\".format(i, k))\n",
    "obd_files"
   ]
  },
  {
   "cell_type": "code",
   "execution_count": 37,
   "metadata": {},
   "outputs": [],
   "source": [
    "salt_df = pd.read_csv(\n",
    "                    \"SALINITY/salt.output.channels\",\n",
    "                    delim_whitespace=True,\n",
    "                    skiprows=4,\n",
    "                    header=0,\n",
    "                    index_col=0,\n",
    "                    )\n",
    "salt_df = salt_df.iloc[:, 5:] # only cols we need\n",
    "colnams = salt_df.columns.tolist()\n",
    "colnam_sort = colnams"
   ]
  },
  {
   "cell_type": "code",
   "execution_count": 38,
   "metadata": {},
   "outputs": [],
   "source": [
    "colnam_sort.sort()"
   ]
  },
  {
   "cell_type": "code",
   "execution_count": 39,
   "metadata": {},
   "outputs": [],
   "source": [
    "tot_obd = []\n",
    "for obdf in obd_files:\n",
    "    salt_obd = pd.read_csv(\n",
    "                        obdf,\n",
    "                        sep='\\t',\n",
    "#                         usecols=['date', col_name],\n",
    "                        index_col=0,\n",
    "                        parse_dates=True,\n",
    "                        na_values=[-999, '']\n",
    "                        )\n",
    "    salt_obd = salt_obd[cali_start_day:cali_end_day]\n",
    "    salt_obd = salt_obd[~salt_obd.index.duplicated(keep='first')]\n",
    "    for caln in colnam_sort:\n",
    "        if caln in salt_obd.columns:\n",
    "            tot_obd += salt_obd.loc[:, caln].dropna().tolist()  "
   ]
  },
  {
   "cell_type": "code",
   "execution_count": 42,
   "metadata": {},
   "outputs": [],
   "source": [
    "obd.loc[:, 'obsval'] = tot_obd"
   ]
  },
  {
   "cell_type": "markdown",
   "metadata": {},
   "source": [
    "# 4. Export control file"
   ]
  },
  {
   "cell_type": "code",
   "execution_count": 44,
   "metadata": {},
   "outputs": [
    {
     "name": "stdout",
     "output_type": "stream",
     "text": [
      "noptmax:0, npar_adj:1176, nnz_obs:960\n"
     ]
    }
   ],
   "source": [
    "# set test run and command\n",
    "pst.control_data.noptmax=0\n",
    "pst.model_command = 'python salt_forward_run.py'\n",
    "pst.model_input_data = apexmf_pst_utils.modify_mf_tpl_path(pst.model_input_data)\n",
    "pst.write(os.path.join(wd, 'gns_amrs_pp.pst'), version=2)"
   ]
  },
  {
   "cell_type": "code",
   "execution_count": null,
   "metadata": {},
   "outputs": [],
   "source": []
  },
  {
   "cell_type": "code",
   "execution_count": 44,
   "metadata": {},
   "outputs": [],
   "source": [
    "t_d = os.path.join(wd, \"ies_template_pp\")"
   ]
  },
  {
   "cell_type": "code",
   "execution_count": 68,
   "metadata": {},
   "outputs": [],
   "source": [
    "os.chdir(wd)"
   ]
  },
  {
   "cell_type": "code",
   "execution_count": 69,
   "metadata": {},
   "outputs": [
    {
     "ename": "Exception",
     "evalue": "run() returned non-zero: -1073740791",
     "output_type": "error",
     "traceback": [
      "\u001b[1;31m---------------------------------------------------------------------------\u001b[0m",
      "\u001b[1;31mException\u001b[0m                                 Traceback (most recent call last)",
      "Cell \u001b[1;32mIn[69], line 2\u001b[0m\n\u001b[0;32m      1\u001b[0m \u001b[38;5;66;03m# test run\u001b[39;00m\n\u001b[1;32m----> 2\u001b[0m \u001b[43mpyemu\u001b[49m\u001b[38;5;241;43m.\u001b[39;49m\u001b[43mos_utils\u001b[49m\u001b[38;5;241;43m.\u001b[39;49m\u001b[43mrun\u001b[49m\u001b[43m(\u001b[49m\u001b[38;5;124;43m\"\u001b[39;49m\u001b[38;5;124;43mpestpp-ies gns_amrs_pp.pst\u001b[39;49m\u001b[38;5;124;43m\"\u001b[39;49m\u001b[43m)\u001b[49m\n",
      "File \u001b[1;32m~\\Miniconda3\\envs\\apexmf\\lib\\site-packages\\pyemu\\utils\\os_utils.py:126\u001b[0m, in \u001b[0;36mrun\u001b[1;34m(cmd_str, cwd, verbose)\u001b[0m\n\u001b[0;32m    124\u001b[0m \u001b[38;5;28;01mif\u001b[39;00m \u001b[38;5;124m\"\u001b[39m\u001b[38;5;124mwindow\u001b[39m\u001b[38;5;124m\"\u001b[39m \u001b[38;5;129;01min\u001b[39;00m platform\u001b[38;5;241m.\u001b[39mplatform()\u001b[38;5;241m.\u001b[39mlower():\n\u001b[0;32m    125\u001b[0m     \u001b[38;5;28;01mif\u001b[39;00m ret_val \u001b[38;5;241m!=\u001b[39m \u001b[38;5;241m0\u001b[39m:\n\u001b[1;32m--> 126\u001b[0m         \u001b[38;5;28;01mraise\u001b[39;00m \u001b[38;5;167;01mException\u001b[39;00m(\u001b[38;5;124m\"\u001b[39m\u001b[38;5;124mrun() returned non-zero: \u001b[39m\u001b[38;5;132;01m{0}\u001b[39;00m\u001b[38;5;124m\"\u001b[39m\u001b[38;5;241m.\u001b[39mformat(ret_val))\n\u001b[0;32m    127\u001b[0m \u001b[38;5;28;01melse\u001b[39;00m:\n\u001b[0;32m    128\u001b[0m     estat \u001b[38;5;241m=\u001b[39m os\u001b[38;5;241m.\u001b[39mWEXITSTATUS(ret_val)\n",
      "\u001b[1;31mException\u001b[0m: run() returned non-zero: -1073740791"
     ]
    }
   ],
   "source": [
    "# test run\n",
    "pyemu.os_utils.run(\"pestpp-ies gns_amrs_pp.pst\")"
   ]
  },
  {
   "cell_type": "code",
   "execution_count": null,
   "metadata": {},
   "outputs": [],
   "source": []
  }
 ],
 "metadata": {
  "anaconda-cloud": {},
  "interpreter": {
   "hash": "e2cd4a2c4044a442375d541a7af880af35b9f88daa7fc56a2d2af487495916f8"
  },
  "kernelspec": {
   "display_name": "Python 3 (ipykernel)",
   "language": "python",
   "name": "python3"
  },
  "language_info": {
   "codemirror_mode": {
    "name": "ipython",
    "version": 3
   },
   "file_extension": ".py",
   "mimetype": "text/x-python",
   "name": "python",
   "nbconvert_exporter": "python",
   "pygments_lexer": "ipython3",
   "version": "3.10.10"
  }
 },
 "nbformat": 4,
 "nbformat_minor": 4
}
