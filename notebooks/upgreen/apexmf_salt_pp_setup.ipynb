{
 "cells": [
  {
   "cell_type": "markdown",
   "metadata": {},
   "source": [
    "# Upper Upper Green PEST Pilot Point Setup"
   ]
  },
  {
   "cell_type": "code",
   "execution_count": 1,
   "metadata": {},
   "outputs": [],
   "source": [
    "import os\n",
    "import sys\n",
    "import numpy as np\n",
    "import pandas as pd\n",
    "import flopy as flopy\n",
    "import pyemu\n",
    "import shapefile #the pyshp module\n",
    "from pyemu.pst.pst_utils import SFMT,IFMT,FFMT,pst_config\n",
    "import matplotlib.pyplot as plt\n"
   ]
  },
  {
   "cell_type": "code",
   "execution_count": 2,
   "metadata": {},
   "outputs": [],
   "source": [
    "# from apexmf import apexmf_pst_utils"
   ]
  },
  {
   "cell_type": "code",
   "execution_count": 3,
   "metadata": {},
   "outputs": [],
   "source": [
    "\n",
    "sys.path.insert(1, 'd:/spark-brc_gits/apexmf_git/')\n",
    "from apexmf import apexmf_pst_par, apexmf_utils\n",
    "from apexmf import apexmf_pst_utils"
   ]
  },
  {
   "cell_type": "code",
   "execution_count": 4,
   "metadata": {},
   "outputs": [],
   "source": [
    "wd = \"d:/Projects/Watersheds/Green/Analysis/AMRSs/salt_cal_230117/gr_012721/APEX-MODFLOW/\"\n",
    "mfd = os.path.join(wd, \"MODFLOW\")\n",
    "# pstfile = \"dolores_amrs.pst\"\n",
    "os.chdir(wd)"
   ]
  },
  {
   "cell_type": "markdown",
   "metadata": {},
   "source": [
    "# MODFLOW parameters with Pilot Points"
   ]
  },
  {
   "cell_type": "code",
   "execution_count": 7,
   "metadata": {},
   "outputs": [
    {
     "name": "stdout",
     "output_type": "stream",
     "text": [
      "Errors and/or Warnings encountered.\n",
      "Errors and/or Warnings encountered.\n",
      "\n",
      "gr_1000 MODEL DATA VALIDATION SUMMARY:\n",
      "  16 Errors:\n",
      "    1 instance of \r",
      "    DIS package: thin cells (less than checker threshold of 1.0)\n",
      "    15 instances of \r",
      "    UPW package: zero or negative horizontal hydraulic conductivity values\n",
      "  34 Warnings:\n",
      "    1 instance of \r",
      "    OC package: action(s) defined in OC stress_period_data ignored as they are not part the stress periods defined by DIS\n",
      "    1 instance of \r",
      "    RCH package: Mean R/T ratio < checker warning threshold of 2e-08 for 1 stress periods\n",
      "    1 instance of \r",
      "    RCH package: Variable NRCHOP set to value other than 3\n",
      "    1 instance of \r",
      "    RIV package: BC in inactive cell\n",
      "    15 instances of \r",
      "    UPW package: horizontal hydraulic conductivity values below checker threshold of 1e-11\n",
      "    15 instances of \r",
      "    UPW package: vertical hydraulic conductivity values below checker threshold of 1e-11\n",
      "\n",
      "  Checks that passed:\n",
      "    Unit number conflicts\n",
      "    Compatible solver package\n",
      "    DIS package: zero or negative thickness\n",
      "    DIS package: nan values in top array\n",
      "    DIS package: nan values in bottom array\n",
      "    BAS6 package: isolated cells in ibound array\n",
      "    BAS6 package: Not a number\n",
      "    UPW package: negative horizontal anisotropy values\n",
      "    UPW package: vertical hydraulic conductivity values above checker threshold of 100000.0\n",
      "    UPW package: horizontal hydraulic conductivity values above checker threshold of 100000.0\n",
      "    UPW package: zero or negative specific storage values\n",
      "    UPW package: specific storage values below checker threshold of 1e-06\n",
      "    UPW package: specific storage values above checker threshold of 0.01\n",
      "    UPW package: zero or negative specific yield values\n",
      "    UPW package: specific yield values below checker threshold of 0.01\n",
      "    UPW package: specific yield values above checker threshold of 0.5\n",
      "    RIV package: stage below cell bottom\n",
      "    RIV package: rbot below cell bottom\n",
      "    RIV package: RIV stage below rbots\n",
      "\n"
     ]
    },
    {
     "data": {
      "text/plain": [
       "<flopy.utils.check.check at 0x1d14a4d0ca0>"
      ]
     },
     "execution_count": 7,
     "metadata": {},
     "output_type": "execute_result"
    }
   ],
   "source": [
    "# m = flopy.modflow.Modflow.load(fs.MODEL_NAM,model_ws=wd,load_only=[]) #<-- load only prevents reading ibound\n",
    "mname = 'gr_1000.nam'\n",
    "m = flopy.modflow.Modflow.load(mname,\n",
    "            model_ws=wd\n",
    "            )\n",
    "m.check()"
   ]
  },
  {
   "cell_type": "code",
   "execution_count": 8,
   "metadata": {},
   "outputs": [
    {
     "name": "stdout",
     "output_type": "stream",
     "text": [
      "   could not remove start_datetime\n"
     ]
    }
   ],
   "source": [
    "sr = pyemu.helpers.SpatialReference.from_namfile(\n",
    "        os.path.join(wd, mname),\n",
    "        delr=m.dis.delr.array, delc=m.dis.delc.array)"
   ]
  },
  {
   "cell_type": "code",
   "execution_count": null,
   "metadata": {
    "scrolled": true
   },
   "outputs": [],
   "source": [
    "# Create pilot points as a shapefile\n",
    "# we want hk pilot points in the top layer...\n",
    "prefix_dict = {0:[\"sy0\"]}\n",
    "df_pp_hk = pyemu.pp_utils.setup_pilotpoints_grid(ml=m,\n",
    "                                              prefix_dict=prefix_dict,\n",
    "                                              pp_dir=wd,\n",
    "                                              tpl_dir=wd,\n",
    "                                              every_n_cell=10,\n",
    "                                              shapename='pp_sy.shp')"
   ]
  },
  {
   "cell_type": "code",
   "execution_count": 10,
   "metadata": {},
   "outputs": [
    {
     "data": {
      "text/plain": [
       "'sy0pp.dat'"
      ]
     },
     "execution_count": 10,
     "metadata": {},
     "output_type": "execute_result"
    }
   ],
   "source": [
    "# change shapefile and file name\n",
    "shpwd = wd\n",
    "shp = 'pp_sy.shp'\n",
    "shp_changed = 'sy0pp.shp'\n",
    "ppf = shp_changed[:-3] + 'dat'\n",
    "ppf"
   ]
  },
  {
   "cell_type": "code",
   "execution_count": 13,
   "metadata": {},
   "outputs": [],
   "source": [
    "shpwd = os.path.join(wd, \"MODFLOW\")"
   ]
  },
  {
   "cell_type": "code",
   "execution_count": 14,
   "metadata": {},
   "outputs": [
    {
     "data": {
      "text/plain": [
       "'d:/Projects/Watersheds/Green/Analysis/AMRSs/salt_cal_230117/gr_012721/APEX-MODFLOW/pp_sy.shp'"
      ]
     },
     "execution_count": 14,
     "metadata": {},
     "output_type": "execute_result"
    }
   ],
   "source": [
    "shapefile_path"
   ]
  },
  {
   "cell_type": "code",
   "execution_count": 15,
   "metadata": {
    "scrolled": false
   },
   "outputs": [
    {
     "name": "stdout",
     "output_type": "stream",
     "text": [
      "        name         x         y  zone  parval1  k    i    j   \n",
      "0    pp_0000   68250.0  269250.0   1.0      1.0  0    5   45  \\\n",
      "1    pp_0001   68250.0  254250.0   1.0      1.0  0   15   45   \n",
      "2    pp_0002   83250.0  254250.0   1.0      1.0  0   15   55   \n",
      "3    pp_0003   53250.0  239250.0   1.0      1.0  0   25   35   \n",
      "4    pp_0004   68250.0  239250.0   1.0      1.0  0   25   45   \n",
      "..       ...       ...       ...   ...      ... ..  ...  ...   \n",
      "105  pp_0105  143250.0   29250.0   1.0      1.0  0  165   95   \n",
      "106  pp_0106  158250.0   29250.0   1.0      1.0  0  165  105   \n",
      "107  pp_0107  113250.0   14250.0   1.0      1.0  0  175   75   \n",
      "108  pp_0108  128250.0   14250.0   1.0      1.0  0  175   85   \n",
      "109  pp_0109  143250.0   14250.0   1.0      1.0  0  175   95   \n",
      "\n",
      "                  tpl  parnme  ...   \n",
      "0    ~    sy0000    ~  sy0000  ...  \\\n",
      "1    ~    sy0001    ~  sy0001  ...   \n",
      "2    ~    sy0002    ~  sy0002  ...   \n",
      "3    ~    sy0003    ~  sy0003  ...   \n",
      "4    ~    sy0004    ~  sy0004  ...   \n",
      "..                ...     ...  ...   \n",
      "105  ~    sy0105    ~  sy0105  ...   \n",
      "106  ~    sy0106    ~  sy0106  ...   \n",
      "107  ~    sy0107    ~  sy0107  ...   \n",
      "108  ~    sy0108    ~  sy0108  ...   \n",
      "109  ~    sy0109    ~  sy0109  ...   \n",
      "\n",
      "                                             pp_filenam pargp partrans   \n",
      "0    D:/Projects/Watersheds/Green/Analysis/APEX-MODFLOW   sy0      log  \\\n",
      "1    D:/Projects/Watersheds/Green/Analysis/APEX-MODFLOW   sy0      log   \n",
      "2    D:/Projects/Watersheds/Green/Analysis/APEX-MODFLOW   sy0      log   \n",
      "3    D:/Projects/Watersheds/Green/Analysis/APEX-MODFLOW   sy0      log   \n",
      "4    D:/Projects/Watersheds/Green/Analysis/APEX-MODFLOW   sy0      log   \n",
      "..                                                  ...   ...      ...   \n",
      "105  D:/Projects/Watersheds/Green/Analysis/APEX-MODFLOW   sy0      log   \n",
      "106  D:/Projects/Watersheds/Green/Analysis/APEX-MODFLOW   sy0      log   \n",
      "107  D:/Projects/Watersheds/Green/Analysis/APEX-MODFLOW   sy0      log   \n",
      "108  D:/Projects/Watersheds/Green/Analysis/APEX-MODFLOW   sy0      log   \n",
      "109  D:/Projects/Watersheds/Green/Analysis/APEX-MODFLOW   sy0      log   \n",
      "\n",
      "    parchglim       parlbnd       parubnd  scale  offset  dercom   \n",
      "0      factor  1.000000e-10  1.100000e+10    1.0     0.0       1  \\\n",
      "1      factor  1.000000e-10  1.100000e+10    1.0     0.0       1   \n",
      "2      factor  1.000000e-10  1.100000e+10    1.0     0.0       1   \n",
      "3      factor  1.000000e-10  1.100000e+10    1.0     0.0       1   \n",
      "4      factor  1.000000e-10  1.100000e+10    1.0     0.0       1   \n",
      "..        ...           ...           ...    ...     ...     ...   \n",
      "105    factor  1.000000e-10  1.100000e+10    1.0     0.0       1   \n",
      "106    factor  1.000000e-10  1.100000e+10    1.0     0.0       1   \n",
      "107    factor  1.000000e-10  1.100000e+10    1.0     0.0       1   \n",
      "108    factor  1.000000e-10  1.100000e+10    1.0     0.0       1   \n",
      "109    factor  1.000000e-10  1.100000e+10    1.0     0.0       1   \n",
      "\n",
      "                                          coords  \n",
      "0     [[-1130298.8603475927, 2351025.627083243]]  \n",
      "1     [[-1130298.8603475927, 2336025.627083243]]  \n",
      "2     [[-1115298.8603475927, 2336025.627083243]]  \n",
      "3     [[-1145298.8603475927, 2321025.627083243]]  \n",
      "4     [[-1130298.8603475927, 2321025.627083243]]  \n",
      "..                                           ...  \n",
      "105   [[-1055298.8603475927, 2111025.627083243]]  \n",
      "106   [[-1040298.8603475927, 2111025.627083243]]  \n",
      "107  [[-1085298.8603475927, 2096025.6270832429]]  \n",
      "108  [[-1070298.8603475927, 2096025.6270832429]]  \n",
      "109  [[-1055298.8603475927, 2096025.6270832429]]  \n",
      "\n",
      "[110 rows x 21 columns]\n"
     ]
    }
   ],
   "source": [
    "#read file, parse out the records and shapes\n",
    "shapefile_path = os.path.join(shpwd, shp)\n",
    "sf = shapefile.Reader(shapefile_path)\n",
    "\n",
    "#grab the shapefile's field names (omit the first psuedo field)\n",
    "fields = [x[0] for x in sf.fields][1:]\n",
    "records = sf.records()\n",
    "shps = [s.points for s in sf.shapes()]\n",
    "\n",
    "#write the records into a dataframe\n",
    "shapefile_dataframe = pd.DataFrame(columns=fields, data=records)\n",
    "\n",
    "#add the coordinate data to a column called \"coords\"\n",
    "shapefile_dataframe = shapefile_dataframe.assign(coords=shps)\n",
    "\n",
    "pp_df = shapefile_dataframe.sort_values(by=['name'])\n",
    "print(pp_df)"
   ]
  },
  {
   "cell_type": "markdown",
   "metadata": {},
   "source": [
    "- get list of salt ion\n",
    "- change tpl name for new par name\n",
    "- write dataframe to pp.dat file\n",
    "- write tpl file for pp.dat file\n"
   ]
  },
  {
   "cell_type": "code",
   "execution_count": 16,
   "metadata": {
    "scrolled": true
   },
   "outputs": [
    {
     "data": {
      "text/plain": [
       "['so4', 'ca', 'mg', 'na', 'k', 'cl']"
      ]
     },
     "execution_count": 16,
     "metadata": {},
     "output_type": "execute_result"
    }
   ],
   "source": [
    "sions_ = [\"SO4\", \"Ca\", \"Mg\", \"Na\", \"K\", \"Cl\"]\n",
    "sions = [i.lower() for i in sions_] \n",
    "sions"
   ]
  },
  {
   "cell_type": "code",
   "execution_count": 17,
   "metadata": {},
   "outputs": [],
   "source": [
    "sionsf = [f\"salt_{i.lower()}0pp.dat.ref\" for i in sions_] "
   ]
  },
  {
   "cell_type": "code",
   "execution_count": 18,
   "metadata": {},
   "outputs": [
    {
     "data": {
      "text/plain": [
       "['salt_so40pp.dat.ref',\n",
       " 'salt_ca0pp.dat.ref',\n",
       " 'salt_mg0pp.dat.ref',\n",
       " 'salt_na0pp.dat.ref',\n",
       " 'salt_k0pp.dat.ref',\n",
       " 'salt_cl0pp.dat.ref']"
      ]
     },
     "execution_count": 18,
     "metadata": {},
     "output_type": "execute_result"
    }
   ],
   "source": [
    "sionsf"
   ]
  },
  {
   "cell_type": "code",
   "execution_count": 19,
   "metadata": {},
   "outputs": [],
   "source": [
    "conts = [200000, 4500, 900, 4.5e+007, 10, 2e+007]\n",
    "rgs = [9900, 23400, 13500, 21600, 9900, 21600]\n"
   ]
  },
  {
   "cell_type": "code",
   "execution_count": 23,
   "metadata": {},
   "outputs": [
    {
     "name": "stdout",
     "output_type": "stream",
     "text": [
      "starting interp point loop for 21645 points\n",
      "took 79.230244 seconds\n",
      "starting interp point loop for 21645 points\n",
      "took 81.345254 seconds\n",
      "starting interp point loop for 21645 points\n",
      "took 76.887996 seconds\n",
      "starting interp point loop for 21645 points\n",
      "took 82.106342 seconds\n",
      "starting interp point loop for 21645 points\n",
      "took 81.659766 seconds\n",
      "starting interp point loop for 21645 points\n",
      "took 82.854612 seconds\n"
     ]
    }
   ],
   "source": [
    "for ionnam, cont, rg in zip(sions, conts, rgs):\n",
    "    df = pp_df.copy()\n",
    "    # write dataframe to pp.dat file\n",
    "    new_df = change_tpl_name(df, f\"salt_{ionnam}\", oldnam='sy')\n",
    "    pyemu.utils.pp_utils.write_pp_file(f\"salt_{ionnam}0pp.dat\", new_df) # create dat\n",
    "    pp_to_tpl(new_df, f\"salt_{ionnam}0pp.dat\") # create tpl\n",
    "    intp_krigging(cont, rg, new_df, ionnam)"
   ]
  },
  {
   "cell_type": "code",
   "execution_count": 24,
   "metadata": {},
   "outputs": [
    {
     "data": {
      "text/plain": [
       "'d:\\\\Projects\\\\Watersheds\\\\Green\\\\Analysis\\\\AMRSs\\\\salt_cal_230117\\\\gr_012721\\\\APEX-MODFLOW'"
      ]
     },
     "execution_count": 24,
     "metadata": {},
     "output_type": "execute_result"
    }
   ],
   "source": [
    "os.getcwd()"
   ]
  },
  {
   "cell_type": "code",
   "execution_count": 20,
   "metadata": {},
   "outputs": [],
   "source": [
    "def change_tpl_name(tpl_df, newnam, oldnam='sy'):\n",
    "    tpl_df['tpl'] = tpl_df['tpl'].str.replace(oldnam, newnam)\n",
    "    tpl_df['pargp'] = tpl_df['pargp'].str.replace(oldnam, newnam)\n",
    "    tpl_df['parnme'] = tpl_df['parnme'].str.replace(oldnam, newnam)\n",
    "    return tpl_df"
   ]
  },
  {
   "cell_type": "code",
   "execution_count": 21,
   "metadata": {},
   "outputs": [],
   "source": [
    "PP_FMT = {\"name\": SFMT, \"x\": FFMT, \"y\": FFMT, \"zone\": IFMT, \"tpl\": SFMT,\n",
    "          \"parval1\": FFMT}\n",
    "def pp_to_tpl(new_df, pp_file, tpl_file=None):\n",
    "    names = new_df['parnme'].tolist() # for hk\n",
    "    # names = new_df['sypar'].tolist() # for sy  \n",
    "#     names = new_df['parnme'].tolist() # for river conductance      \n",
    "    if tpl_file is None:\n",
    "        tpl_file = pp_file + \".tpl\"    \n",
    "    tpl_entries = [\"~    {0}    ~\".format(name) for name in names]\n",
    "    new_df.loc[:,\"tpl\"] = tpl_entries\n",
    "    new_df.loc[:,\"parnme\"] = names\n",
    "\n",
    "\n",
    "    f_tpl = open(tpl_file,'w')\n",
    "    f_tpl.write(\"ptf ~\\n\")\n",
    "    f_tpl.write(new_df.to_string(col_space=0,\n",
    "                              columns=[\"name\",\"x\",\"y\",\"zone\",\"tpl\"],\n",
    "                              formatters=PP_FMT,\n",
    "                              justify=\"left\",\n",
    "                              header=False,\n",
    "                              index=False) + '\\n')    \n"
   ]
  },
  {
   "cell_type": "code",
   "execution_count": null,
   "metadata": {},
   "outputs": [],
   "source": []
  },
  {
   "cell_type": "code",
   "execution_count": 22,
   "metadata": {},
   "outputs": [],
   "source": [
    "def intp_krigging(cont, a, new_df, ionnam):\n",
    "    v = pyemu.geostats.ExpVario(contribution=cont,a=a, bearing=0)\n",
    "    gs = pyemu.geostats.GeoStruct(variograms=v,nugget=0)\n",
    "    ok = pyemu.geostats.OrdinaryKrige(gs,new_df)\n",
    "    df = ok.calc_factors_grid(sr,\n",
    "    #                           var_filename=pst_name.replace(\".pst\",\".var.ref\"),\n",
    "                              var_filename= f\"salt_{ionnam}0pp.\" + \"var.ref\",                          \n",
    "                              minpts_interp=1,maxpts_interp=50,\n",
    "                              search_radius=5000000000000.0)\n",
    "    ok.to_grid_factors_file(f\"salt_{ionnam}0pp.dat\"+\".fac\")"
   ]
  },
  {
   "cell_type": "code",
   "execution_count": 25,
   "metadata": {},
   "outputs": [],
   "source": [
    "ionnam = \"so4\""
   ]
  },
  {
   "cell_type": "code",
   "execution_count": 26,
   "metadata": {},
   "outputs": [],
   "source": [
    "df = pp_df.copy()\n",
    "# write dataframe to pp.dat file\n",
    "new_df = change_tpl_name(df, f\"salt_{ionnam}\", oldnam='sy')"
   ]
  },
  {
   "cell_type": "code",
   "execution_count": null,
   "metadata": {},
   "outputs": [],
   "source": []
  },
  {
   "cell_type": "code",
   "execution_count": 27,
   "metadata": {},
   "outputs": [
    {
     "data": {
      "text/plain": [
       "<matplotlib.collections.PathCollection at 0x1d14eae6b60>"
      ]
     },
     "execution_count": 27,
     "metadata": {},
     "output_type": "execute_result"
    },
    {
     "data": {
      "image/png": "[encoded data removed]",
      "text/plain": [
       "<Figure size 640x480 with 2 Axes>"
      ]
     },
     "metadata": {},
     "output_type": "display_data"
    }
   ],
   "source": [
    "# arr_var = np.loadtxt(pst_name.replace(\".pst\",\".var.ref\"))\n",
    "arr_var = np.loadtxt(f\"salt_{ionnam}0pp.\" + \"var.ref\")\n",
    "ax = plt.subplot(111,aspect=\"equal\")\n",
    "p = ax.imshow(arr_var,extent=sr.get_extent(),alpha=0.25)\n",
    "plt.colorbar(p)\n",
    "plt.tight_layout()\n",
    "ax.scatter(pp_df.x,pp_df.y,marker='.',s=4,color='r')"
   ]
  },
  {
   "cell_type": "code",
   "execution_count": 31,
   "metadata": {},
   "outputs": [],
   "source": [
    "# generate random values\n",
    "new_df.loc[:,\"parval1\"] = np.random.random(new_df.shape[0])\n",
    "# save a pilot points file\n",
    "pyemu.pp_utils.write_pp_file(f\"salt_{ionnam}0pp.dat\",new_df)"
   ]
  },
  {
   "cell_type": "code",
   "execution_count": 32,
   "metadata": {},
   "outputs": [],
   "source": [
    "# interpolate the pilot point values to the grid\n",
    "hk_arr = pyemu.utils.geostats.fac2real(f\"salt_{ionnam}0pp.dat\",factors_file=f\"salt_{ionnam}0pp.dat\"+\".fac\",out_file=None)"
   ]
  },
  {
   "cell_type": "code",
   "execution_count": 33,
   "metadata": {},
   "outputs": [
    {
     "data": {
      "text/plain": [
       "<matplotlib.collections.PathCollection at 0x1d150f9ff70>"
      ]
     },
     "execution_count": 33,
     "metadata": {},
     "output_type": "execute_result"
    },
    {
     "data": {
      "image/png": "[encoded data removed]",
      "text/plain": [
       "<Figure size 640x480 with 1 Axes>"
      ]
     },
     "metadata": {},
     "output_type": "display_data"
    }
   ],
   "source": [
    "# plot\n",
    "ax = plt.subplot(111,aspect='equal')\n",
    "ax.imshow(hk_arr,interpolation=\"nearest\",extent=sr.get_extent(),alpha=0.5)\n",
    "ax.scatter(new_df.x,new_df.y,marker='.',s=4,color='k')"
   ]
  },
  {
   "cell_type": "markdown",
   "metadata": {},
   "source": [
    "# Create instruction file for observed depth to water"
   ]
  },
  {
   "cell_type": "code",
   "execution_count": 2,
   "metadata": {},
   "outputs": [],
   "source": [
    "wd = \"D:/Projects/Watersheds/Animas/Analysis/APEX-MODFLOWs/calibrations/v03\"\n",
    "os.chdir(wd)"
   ]
  },
  {
   "cell_type": "code",
   "execution_count": 3,
   "metadata": {},
   "outputs": [],
   "source": [
    "mf_obs = pd.read_csv(\n",
    "                    \"MODFLOW/modflow.obs\",\n",
    "                    delim_whitespace=True,\n",
    "                    skiprows = 2,\n",
    "                    usecols = [3, 4],\n",
    "                    index_col = 0,\n",
    "                    names = [\"grid_id\", \"mf_elev\"],)\n",
    "grid_ids = mf_obs.index.tolist()"
   ]
  },
  {
   "cell_type": "code",
   "execution_count": 4,
   "metadata": {},
   "outputs": [],
   "source": [
    "grid_ids = [5895, 6273]"
   ]
  },
  {
   "cell_type": "code",
   "execution_count": 5,
   "metadata": {},
   "outputs": [
    {
     "name": "stdout",
     "output_type": "stream",
     "text": [
      "dtw_5895.txt file has been created...\n",
      "dtw_6273.txt file has been created...\n",
      "Finished ...\n"
     ]
    }
   ],
   "source": [
    "apexmf_pst_utils.extract_depth_to_water(grid_ids, '1/1/1987', '10/30/2003')"
   ]
  },
  {
   "cell_type": "code",
   "execution_count": 35,
   "metadata": {},
   "outputs": [],
   "source": [
    "mfobd_file = 'dtw_day.obd'"
   ]
  },
  {
   "cell_type": "code",
   "execution_count": 36,
   "metadata": {},
   "outputs": [],
   "source": [
    "mfobd_df = pd.read_csv(\n",
    "                    \"MODFLOW/\" + mfobd_file,\n",
    "                    sep='\\s+',\n",
    "                    index_col=0,\n",
    "                    header=0,\n",
    "                    parse_dates=True,\n",
    "                    na_values=[-999, \"\"],\n",
    "                    delimiter=\"\\t\")"
   ]
  },
  {
   "cell_type": "code",
   "execution_count": 39,
   "metadata": {},
   "outputs": [],
   "source": [
    "# Change depth to water to absolute values\n",
    "absmfobd_df = mfobd_df.abs()\n",
    "absmfobd_df.to_csv('dtw_day.obd', sep='\\t', na_rep=-999, float_format='%.2f')\n"
   ]
  },
  {
   "cell_type": "markdown",
   "metadata": {},
   "source": []
  },
  {
   "cell_type": "code",
   "execution_count": 7,
   "metadata": {},
   "outputs": [
    {
     "name": "stdout",
     "output_type": "stream",
     "text": [
      "dtw_6273.txt.ins file has been created...\n"
     ]
    }
   ],
   "source": [
    "apexmf_pst_utils.mf_obd_to_ins('dtw_6273.txt', 'gw_098', '1/1/1987', '10/30/2003')"
   ]
  },
  {
   "cell_type": "code",
   "execution_count": 4,
   "metadata": {},
   "outputs": [
    {
     "data": {
      "text/plain": [
       "'D:\\\\Projects\\\\Watersheds\\\\Animas\\\\Analysis\\\\APEX-MODFLOWs\\\\calibrations\\\\v03'"
      ]
     },
     "execution_count": 4,
     "metadata": {},
     "output_type": "execute_result"
    }
   ],
   "source": [
    "os.getcwd()"
   ]
  },
  {
   "cell_type": "code",
   "execution_count": 68,
   "metadata": {},
   "outputs": [
    {
     "name": "stdout",
     "output_type": "stream",
     "text": [
      "noptmax:0, npar_adj:100, nnz_obs:1745\n"
     ]
    }
   ],
   "source": [
    "pst.control_data.noptmax=0\n",
    "pst.model_command = 'python forward_run.py'\n",
    "pst.model_input_data = apexmf_pst_utils.modify_mf_tpl_path(pst.model_input_data)\n",
    "pst.write('animas_pest.pst')"
   ]
  },
  {
   "cell_type": "code",
   "execution_count": null,
   "metadata": {},
   "outputs": [],
   "source": []
  }
 ],
 "metadata": {
  "anaconda-cloud": {},
  "interpreter": {
   "hash": "e2cd4a2c4044a442375d541a7af880af35b9f88daa7fc56a2d2af487495916f8"
  },
  "kernelspec": {
   "display_name": "Python 3 (ipykernel)",
   "language": "python",
   "name": "python3"
  },
  "language_info": {
   "codemirror_mode": {
    "name": "ipython",
    "version": 3
   },
   "file_extension": ".py",
   "mimetype": "text/x-python",
   "name": "python",
   "nbconvert_exporter": "python",
   "pygments_lexer": "ipython3",
   "version": "3.10.10"
  }
 },
 "nbformat": 4,
 "nbformat_minor": 4
}
