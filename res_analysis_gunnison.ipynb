{
 "metadata": {
  "language_info": {
   "codemirror_mode": {
    "name": "ipython",
    "version": 3
   },
   "file_extension": ".py",
   "mimetype": "text/x-python",
   "name": "python",
   "nbconvert_exporter": "python",
   "pygments_lexer": "ipython3",
   "version": "3.7.7"
  },
  "orig_nbformat": 2,
  "kernelspec": {
   "name": "python377jvsc74a57bd0e2cd4a2c4044a442375d541a7af880af35b9f88daa7fc56a2d2af487495916f8",
   "display_name": "Python 3.7.7 64-bit ('sm_pest': conda)"
  }
 },
 "nbformat": 4,
 "nbformat_minor": 2,
 "cells": [
  {
   "cell_type": "code",
   "execution_count": 2,
   "metadata": {},
   "outputs": [],
   "source": [
    "import pandas as pd\n",
    "import os"
   ]
  },
  {
   "cell_type": "code",
   "execution_count": 3,
   "metadata": {},
   "outputs": [],
   "source": [
    "wd = \"D:/Projects/Watersheds/Gunnison\"\n",
    "\n"
   ]
  },
  {
   "cell_type": "code",
   "execution_count": 4,
   "metadata": {},
   "outputs": [],
   "source": [
    "resf151 = \"Sub151 Morrow Point.xlsx\"\n",
    "resf152 = \"Sub152 Blue Mesa.xlsx\""
   ]
  },
  {
   "cell_type": "code",
   "execution_count": 5,
   "metadata": {},
   "outputs": [
    {
     "output_type": "execute_result",
     "data": {
      "text/plain": [
       "        datetime  total release        cms  cubic feet per second  Unnamed: 4  \\\n",
       "0     1971-01-01    2189.207280  61.954566                   1971           1   \n",
       "1     1971-01-02    2302.427250  65.158691                   1971           1   \n",
       "2     1971-01-03    2165.886230  61.294580                   1971           1   \n",
       "3     1971-01-04    2470.380370  69.911764                   1971           1   \n",
       "4     1971-01-05    2140.365720  60.572350                   1971           1   \n",
       "...          ...            ...        ...                    ...         ...   \n",
       "18258 2020-12-27     457.349167  12.942981                   2020          12   \n",
       "18259 2020-12-28     383.066667  10.840787                   2020          12   \n",
       "18260 2020-12-29      80.000000   2.264000                   2020          12   \n",
       "18261 2020-12-30     305.859583   8.655826                   2020          12   \n",
       "18262 2020-12-31     304.590000   8.619897                   2020          12   \n",
       "\n",
       "       Unnamed: 5  Unnamed: 6  \n",
       "0               1   61.954566  \n",
       "1               2   65.158691  \n",
       "2               3   61.294580  \n",
       "3               4   69.911764  \n",
       "4               5   60.572350  \n",
       "...           ...         ...  \n",
       "18258          27   12.942981  \n",
       "18259          28   10.840787  \n",
       "18260          29    2.264000  \n",
       "18261          30    8.655826  \n",
       "18262          31    8.619897  \n",
       "\n",
       "[18263 rows x 7 columns]"
      ],
      "text/html": "<div>\n<style scoped>\n    .dataframe tbody tr th:only-of-type {\n        vertical-align: middle;\n    }\n\n    .dataframe tbody tr th {\n        vertical-align: top;\n    }\n\n    .dataframe thead th {\n        text-align: right;\n    }\n</style>\n<table border=\"1\" class=\"dataframe\">\n  <thead>\n    <tr style=\"text-align: right;\">\n      <th></th>\n      <th>datetime</th>\n      <th>total release</th>\n      <th>cms</th>\n      <th>cubic feet per second</th>\n      <th>Unnamed: 4</th>\n      <th>Unnamed: 5</th>\n      <th>Unnamed: 6</th>\n    </tr>\n  </thead>\n  <tbody>\n    <tr>\n      <th>0</th>\n      <td>1971-01-01</td>\n      <td>2189.207280</td>\n      <td>61.954566</td>\n      <td>1971</td>\n      <td>1</td>\n      <td>1</td>\n      <td>61.954566</td>\n    </tr>\n    <tr>\n      <th>1</th>\n      <td>1971-01-02</td>\n      <td>2302.427250</td>\n      <td>65.158691</td>\n      <td>1971</td>\n      <td>1</td>\n      <td>2</td>\n      <td>65.158691</td>\n    </tr>\n    <tr>\n      <th>2</th>\n      <td>1971-01-03</td>\n      <td>2165.886230</td>\n      <td>61.294580</td>\n      <td>1971</td>\n      <td>1</td>\n      <td>3</td>\n      <td>61.294580</td>\n    </tr>\n    <tr>\n      <th>3</th>\n      <td>1971-01-04</td>\n      <td>2470.380370</td>\n      <td>69.911764</td>\n      <td>1971</td>\n      <td>1</td>\n      <td>4</td>\n      <td>69.911764</td>\n    </tr>\n    <tr>\n      <th>4</th>\n      <td>1971-01-05</td>\n      <td>2140.365720</td>\n      <td>60.572350</td>\n      <td>1971</td>\n      <td>1</td>\n      <td>5</td>\n      <td>60.572350</td>\n    </tr>\n    <tr>\n      <th>...</th>\n      <td>...</td>\n      <td>...</td>\n      <td>...</td>\n      <td>...</td>\n      <td>...</td>\n      <td>...</td>\n      <td>...</td>\n    </tr>\n    <tr>\n      <th>18258</th>\n      <td>2020-12-27</td>\n      <td>457.349167</td>\n      <td>12.942981</td>\n      <td>2020</td>\n      <td>12</td>\n      <td>27</td>\n      <td>12.942981</td>\n    </tr>\n    <tr>\n      <th>18259</th>\n      <td>2020-12-28</td>\n      <td>383.066667</td>\n      <td>10.840787</td>\n      <td>2020</td>\n      <td>12</td>\n      <td>28</td>\n      <td>10.840787</td>\n    </tr>\n    <tr>\n      <th>18260</th>\n      <td>2020-12-29</td>\n      <td>80.000000</td>\n      <td>2.264000</td>\n      <td>2020</td>\n      <td>12</td>\n      <td>29</td>\n      <td>2.264000</td>\n    </tr>\n    <tr>\n      <th>18261</th>\n      <td>2020-12-30</td>\n      <td>305.859583</td>\n      <td>8.655826</td>\n      <td>2020</td>\n      <td>12</td>\n      <td>30</td>\n      <td>8.655826</td>\n    </tr>\n    <tr>\n      <th>18262</th>\n      <td>2020-12-31</td>\n      <td>304.590000</td>\n      <td>8.619897</td>\n      <td>2020</td>\n      <td>12</td>\n      <td>31</td>\n      <td>8.619897</td>\n    </tr>\n  </tbody>\n</table>\n<p>18263 rows × 7 columns</p>\n</div>"
     },
     "metadata": {},
     "execution_count": 5
    }
   ],
   "source": [
    "res151 = pd.read_excel(os.path.join(wd, resf151))\n",
    "res151"
   ]
  },
  {
   "cell_type": "code",
   "execution_count": 6,
   "metadata": {},
   "outputs": [],
   "source": [
    "res151.index = res151.datetime"
   ]
  },
  {
   "cell_type": "code",
   "execution_count": 7,
   "metadata": {},
   "outputs": [],
   "source": [
    "res151m = res151['cms'].resample('M').mean()\n",
    "res151m.name = 'res151'"
   ]
  },
  {
   "cell_type": "code",
   "execution_count": 8,
   "metadata": {},
   "outputs": [
    {
     "output_type": "execute_result",
     "data": {
      "text/plain": [
       "        datetime  total release cfs        cms\n",
       "0     1968-12-01         1462.06201  41.376355\n",
       "1     1968-12-02         1855.30627  52.505167\n",
       "2     1968-12-03         1653.64258  46.798085\n",
       "3     1968-12-04         1830.09827  51.791781\n",
       "4     1968-12-05         1572.97705  44.515251\n",
       "...          ...                ...        ...\n",
       "19141 2021-04-28         1683.39125  47.639972\n",
       "19142 2021-04-29         1565.01458  44.289913\n",
       "19143 2021-04-30         1539.97083  43.581174\n",
       "19144 2021-05-01         1574.02375  44.544872\n",
       "19145 2021-05-02         1651.43042  46.735481\n",
       "\n",
       "[19146 rows x 3 columns]"
      ],
      "text/html": "<div>\n<style scoped>\n    .dataframe tbody tr th:only-of-type {\n        vertical-align: middle;\n    }\n\n    .dataframe tbody tr th {\n        vertical-align: top;\n    }\n\n    .dataframe thead th {\n        text-align: right;\n    }\n</style>\n<table border=\"1\" class=\"dataframe\">\n  <thead>\n    <tr style=\"text-align: right;\">\n      <th></th>\n      <th>datetime</th>\n      <th>total release cfs</th>\n      <th>cms</th>\n    </tr>\n  </thead>\n  <tbody>\n    <tr>\n      <th>0</th>\n      <td>1968-12-01</td>\n      <td>1462.06201</td>\n      <td>41.376355</td>\n    </tr>\n    <tr>\n      <th>1</th>\n      <td>1968-12-02</td>\n      <td>1855.30627</td>\n      <td>52.505167</td>\n    </tr>\n    <tr>\n      <th>2</th>\n      <td>1968-12-03</td>\n      <td>1653.64258</td>\n      <td>46.798085</td>\n    </tr>\n    <tr>\n      <th>3</th>\n      <td>1968-12-04</td>\n      <td>1830.09827</td>\n      <td>51.791781</td>\n    </tr>\n    <tr>\n      <th>4</th>\n      <td>1968-12-05</td>\n      <td>1572.97705</td>\n      <td>44.515251</td>\n    </tr>\n    <tr>\n      <th>...</th>\n      <td>...</td>\n      <td>...</td>\n      <td>...</td>\n    </tr>\n    <tr>\n      <th>19141</th>\n      <td>2021-04-28</td>\n      <td>1683.39125</td>\n      <td>47.639972</td>\n    </tr>\n    <tr>\n      <th>19142</th>\n      <td>2021-04-29</td>\n      <td>1565.01458</td>\n      <td>44.289913</td>\n    </tr>\n    <tr>\n      <th>19143</th>\n      <td>2021-04-30</td>\n      <td>1539.97083</td>\n      <td>43.581174</td>\n    </tr>\n    <tr>\n      <th>19144</th>\n      <td>2021-05-01</td>\n      <td>1574.02375</td>\n      <td>44.544872</td>\n    </tr>\n    <tr>\n      <th>19145</th>\n      <td>2021-05-02</td>\n      <td>1651.43042</td>\n      <td>46.735481</td>\n    </tr>\n  </tbody>\n</table>\n<p>19146 rows × 3 columns</p>\n</div>"
     },
     "metadata": {},
     "execution_count": 8
    }
   ],
   "source": [
    "res152 = pd.read_excel(os.path.join(wd, resf152))\n",
    "res152"
   ]
  },
  {
   "cell_type": "code",
   "execution_count": 9,
   "metadata": {},
   "outputs": [],
   "source": [
    "res152.index = res152.datetime\n",
    "res152m = res152['cms'].resample('M').mean()\n",
    "res152m.name = 'res152'"
   ]
  },
  {
   "cell_type": "code",
   "execution_count": 10,
   "metadata": {},
   "outputs": [
    {
     "output_type": "execute_result",
     "data": {
      "text/plain": [
       "            res151     res152\n",
       "datetime                     \n",
       "1968-12-31     NaN  43.590151\n",
       "1969-01-31     NaN  42.232417\n",
       "1969-02-28     NaN  20.000270\n",
       "1969-03-31     NaN  44.639518\n",
       "1969-04-30     NaN  45.651911\n",
       "...            ...        ...\n",
       "2021-01-31     NaN   8.918256\n",
       "2021-02-28     NaN  10.489712\n",
       "2021-03-31     NaN  14.620128\n",
       "2021-04-30     NaN  37.666058\n",
       "2021-05-31     NaN  45.640177\n",
       "\n",
       "[630 rows x 2 columns]"
      ],
      "text/html": "<div>\n<style scoped>\n    .dataframe tbody tr th:only-of-type {\n        vertical-align: middle;\n    }\n\n    .dataframe tbody tr th {\n        vertical-align: top;\n    }\n\n    .dataframe thead th {\n        text-align: right;\n    }\n</style>\n<table border=\"1\" class=\"dataframe\">\n  <thead>\n    <tr style=\"text-align: right;\">\n      <th></th>\n      <th>res151</th>\n      <th>res152</th>\n    </tr>\n    <tr>\n      <th>datetime</th>\n      <th></th>\n      <th></th>\n    </tr>\n  </thead>\n  <tbody>\n    <tr>\n      <th>1968-12-31</th>\n      <td>NaN</td>\n      <td>43.590151</td>\n    </tr>\n    <tr>\n      <th>1969-01-31</th>\n      <td>NaN</td>\n      <td>42.232417</td>\n    </tr>\n    <tr>\n      <th>1969-02-28</th>\n      <td>NaN</td>\n      <td>20.000270</td>\n    </tr>\n    <tr>\n      <th>1969-03-31</th>\n      <td>NaN</td>\n      <td>44.639518</td>\n    </tr>\n    <tr>\n      <th>1969-04-30</th>\n      <td>NaN</td>\n      <td>45.651911</td>\n    </tr>\n    <tr>\n      <th>...</th>\n      <td>...</td>\n      <td>...</td>\n    </tr>\n    <tr>\n      <th>2021-01-31</th>\n      <td>NaN</td>\n      <td>8.918256</td>\n    </tr>\n    <tr>\n      <th>2021-02-28</th>\n      <td>NaN</td>\n      <td>10.489712</td>\n    </tr>\n    <tr>\n      <th>2021-03-31</th>\n      <td>NaN</td>\n      <td>14.620128</td>\n    </tr>\n    <tr>\n      <th>2021-04-30</th>\n      <td>NaN</td>\n      <td>37.666058</td>\n    </tr>\n    <tr>\n      <th>2021-05-31</th>\n      <td>NaN</td>\n      <td>45.640177</td>\n    </tr>\n  </tbody>\n</table>\n<p>630 rows × 2 columns</p>\n</div>"
     },
     "metadata": {},
     "execution_count": 10
    }
   ],
   "source": [
    "res_df = pd.concat([res151m, res152m], axis=1)\n",
    "res_df"
   ]
  },
  {
   "cell_type": "code",
   "execution_count": 11,
   "metadata": {},
   "outputs": [],
   "source": [
    "res_df.to_csv('res_mon.obd', float_format='%.2f', sep='\\t', na_rep=-999)"
   ]
  },
  {
   "cell_type": "code",
   "execution_count": 12,
   "metadata": {},
   "outputs": [
    {
     "output_type": "execute_result",
     "data": {
      "text/plain": [
       "'d:\\\\spark-brc_gits\\\\apexmf_git'"
      ]
     },
     "metadata": {},
     "execution_count": 12
    }
   ],
   "source": [
    "os.getcwd()"
   ]
  },
  {
   "cell_type": "code",
   "execution_count": 13,
   "metadata": {},
   "outputs": [],
   "source": [
    "res_df.to_excel('res_mon.xlsx')"
   ]
  },
  {
   "cell_type": "code",
   "execution_count": null,
   "metadata": {},
   "outputs": [],
   "source": []
  }
 ]
}